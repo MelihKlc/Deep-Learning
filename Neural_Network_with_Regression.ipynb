{
  "cells": [
    {
      "cell_type": "markdown",
      "metadata": {
        "id": "view-in-github",
        "colab_type": "text"
      },
      "source": [
        "<a href=\"https://colab.research.google.com/github/MelihKlc/Deep-Learning/blob/main/Neural_Network_with_Regression.ipynb\" target=\"_parent\"><img src=\"https://colab.research.google.com/assets/colab-badge.svg\" alt=\"Open In Colab\"/></a>"
      ]
    },
    {
      "cell_type": "markdown",
      "metadata": {
        "id": "dV97P-Ondf2p"
      },
      "source": [
        "# Introduction to Regression with Neural Networks in Tensorflow\n",
        "## Predicting a numerical variable based on some other combination of variables, even shorter.. predicting a number"
      ]
    },
    {
      "cell_type": "code",
      "execution_count": null,
      "metadata": {
        "id": "NRTOmBQXlru6"
      },
      "outputs": [],
      "source": [
        "import tensorflow as tf"
      ]
    },
    {
      "cell_type": "code",
      "execution_count": null,
      "metadata": {
        "id": "m0O4Ad_3sQV7"
      },
      "outputs": [],
      "source": [
        "import numpy as np\n",
        "import matplotlib.pyplot as plt"
      ]
    },
    {
      "cell_type": "code",
      "execution_count": null,
      "metadata": {
        "colab": {
          "base_uri": "https://localhost:8080/",
          "height": 435
        },
        "id": "UQ8oK2m5sUoV",
        "outputId": "3e0b78b0-92b9-4a0c-8e70-aac20f017a43"
      },
      "outputs": [
        {
          "output_type": "display_data",
          "data": {
            "text/plain": [
              "<Figure size 640x480 with 1 Axes>"
            ],
            "image/png": "[encoded data removed]"
          },
          "metadata": {}
        }
      ],
      "source": [
        "#Create features\n",
        "X = np.array([ -7.0 , -4.0 , -1.0 , 2.0 , 5.0 , 8.0 , 11.0 , 14.0])\n",
        "\n",
        "#Create dependent variables\n",
        "y = np.array([ 3.0 , 6.0 , 9.0 , 12.0 , 15.0 , 18.0 , 21.0 , 24.0])\n",
        "\n",
        "#Visualize it\n",
        "plt.scatter(X,y);"
      ]
    },
    {
      "cell_type": "code",
      "execution_count": null,
      "metadata": {
        "colab": {
          "base_uri": "https://localhost:8080/"
        },
        "id": "7p2jDB-7tSaU",
        "outputId": "059221cd-ac09-4daf-fead-88c736e36676"
      },
      "outputs": [
        {
          "output_type": "execute_result",
          "data": {
            "text/plain": [
              "array([ True,  True,  True,  True,  True,  True,  True,  True])"
            ]
          },
          "metadata": {},
          "execution_count": 4
        }
      ],
      "source": [
        "y == X + 10  #pattern ı kendimiz bulduk"
      ]
    },
    {
      "cell_type": "markdown",
      "metadata": {
        "id": "NBxPCOaItV-7"
      },
      "source": [
        "# Input and output shapes"
      ]
    },
    {
      "cell_type": "code",
      "execution_count": null,
      "metadata": {
        "colab": {
          "base_uri": "https://localhost:8080/"
        },
        "id": "BFdPeA3GuHQG",
        "outputId": "d1632abe-5291-48b1-cfef-d300342f84b7"
      },
      "outputs": [
        {
          "output_type": "execute_result",
          "data": {
            "text/plain": [
              "(<tf.Tensor: shape=(3,), dtype=string, numpy=array([b'bedroom', b'bathroom', b'garage'], dtype=object)>,\n",
              " <tf.Tensor: shape=(1,), dtype=int32, numpy=array([939700], dtype=int32)>)"
            ]
          },
          "metadata": {},
          "execution_count": 5
        }
      ],
      "source": [
        "#Create a demo tensor for our housing price prediction problem\n",
        "house_info = tf.constant([ \"bedroom\" , \"bathroom\" , \"garage\"])\n",
        "house_price = tf.constant([939700])\n",
        "house_info , house_price"
      ]
    },
    {
      "cell_type": "code",
      "execution_count": null,
      "metadata": {
        "colab": {
          "base_uri": "https://localhost:8080/"
        },
        "id": "FPthyFKKuW21",
        "outputId": "d2b3740f-c29e-4087-ae2c-af9a06189a6c"
      },
      "outputs": [
        {
          "output_type": "execute_result",
          "data": {
            "text/plain": [
              "((), ())"
            ]
          },
          "metadata": {},
          "execution_count": 6
        }
      ],
      "source": [
        "input_shape = X[0].shape\n",
        "output_shape = y[0].shape\n",
        "input_shape , output_shape  #kodu çalıştırdığımızda shape i yok gibi gözüküyor çünkü bracketklerin içi boş.  X ve y yi scalar olarak belirlediğimiz için fundamentalden hatırlarsak shape i de 0 oluyor çünkü dimensionu 0"
      ]
    },
    {
      "cell_type": "code",
      "execution_count": null,
      "metadata": {
        "colab": {
          "base_uri": "https://localhost:8080/"
        },
        "id": "p9LWm2h_vPNj",
        "outputId": "e381b091-0eb8-4da2-af64-f7cae1635e43"
      },
      "outputs": [
        {
          "output_type": "execute_result",
          "data": {
            "text/plain": [
              "0"
            ]
          },
          "metadata": {},
          "execution_count": 7
        }
      ],
      "source": [
        "X[0].ndim"
      ]
    },
    {
      "cell_type": "code",
      "execution_count": null,
      "metadata": {
        "colab": {
          "base_uri": "https://localhost:8080/"
        },
        "id": "GJ0EbMRhvv1I",
        "outputId": "1fdf22bd-6985-40c5-d7f7-9720cd5c8320"
      },
      "outputs": [
        {
          "output_type": "execute_result",
          "data": {
            "text/plain": [
              "(<tf.Tensor: shape=(8,), dtype=float64, numpy=array([-7., -4., -1.,  2.,  5.,  8., 11., 14.])>,\n",
              " <tf.Tensor: shape=(8,), dtype=float64, numpy=array([ 3.,  6.,  9., 12., 15., 18., 21., 24.])>)"
            ]
          },
          "metadata": {},
          "execution_count": 8
        }
      ],
      "source": [
        "#Turn out numpy arrays into tensors\n",
        "X = tf.constant(X)\n",
        "y = tf.constant(y)\n",
        "X , y"
      ]
    },
    {
      "cell_type": "markdown",
      "metadata": {
        "id": "sGOE2oMTwau0"
      },
      "source": [
        "# Steps in modelling with tensorflow\n",
        "* 1)Creating a model : define the input and output layers, as well as hidden layers of a deep learning model\n",
        "* 2)Compiling a model : define the loss function ( in other words , the function which tells us our model how wrong it is) and the optimizer ( tells our model how to improve the patterns its learning) and evaluation metrics (what we can use to interpret the performance of our model).\n",
        "* 3)Fittin a model : letting the model try to find patterns features and dependent variables."
      ]
    },
    {
      "cell_type": "code",
      "execution_count": null,
      "metadata": {
        "colab": {
          "base_uri": "https://localhost:8080/"
        },
        "id": "yItTEkn-yIV1",
        "outputId": "39673543-9a24-4b23-a961-1c38304d4c72"
      },
      "outputs": [
        {
          "output_type": "stream",
          "name": "stdout",
          "text": [
            "Epoch 1/5\n",
            "1/1 [==============================] - 1s 1s/step - loss: 17.5355 - mae: 17.5355\n",
            "Epoch 2/5\n",
            "1/1 [==============================] - 0s 11ms/step - loss: 17.2542 - mae: 17.2542\n",
            "Epoch 3/5\n",
            "1/1 [==============================] - 0s 9ms/step - loss: 16.9730 - mae: 16.9730\n",
            "Epoch 4/5\n",
            "1/1 [==============================] - 0s 9ms/step - loss: 16.6917 - mae: 16.6917\n",
            "Epoch 5/5\n",
            "1/1 [==============================] - 0s 9ms/step - loss: 16.4105 - mae: 16.4105\n"
          ]
        },
        {
          "output_type": "execute_result",
          "data": {
            "text/plain": [
              "<keras.callbacks.History at 0x7bb078bf5690>"
            ]
          },
          "metadata": {},
          "execution_count": 9
        }
      ],
      "source": [
        "# Set random seed\n",
        "tf.random.set_seed(42)\n",
        "\n",
        "#1)Creating a model\n",
        "\n",
        "model = tf.keras.Sequential(\n",
        "    [ tf.keras.layers.Dense(1) ]\n",
        "    #[tf.keras.layers.Dense(100 , activation= \"relu\")]  100 dediğimiz kaç neuron istediğimiz. bir de activation function ekleyebiliyoruz.\n",
        ")   #burda dense 1 dememizin sebebi 1 inputtan 1 output predict ediyoruz. burda input layerımızı eklemiş olduk. model.add ile de yapabiliriz tensorflow sitesinden bak\n",
        "\n",
        "\n",
        "#2) Compile the model\n",
        "\n",
        "model.compile(loss = tf.keras.losses.mae , #mae is short for mean absolute error\n",
        "              optimizer = tf.keras.optimizers.SGD() ,  #sgd is short for sthocastic gradient descent\n",
        "              metrics = [\"mae\"])  #evaluation metrics bu accuracy de seçilebilir.\n",
        "\n",
        "#3)Fit the model\n",
        "model.fit( tf.expand_dims(X , axis = -1 ), y , epochs = 5 )  #epochs yani 5 kere input ve outputları baştan öğrencek demek"
      ]
    },
    {
      "cell_type": "code",
      "execution_count": null,
      "metadata": {
        "colab": {
          "base_uri": "https://localhost:8080/"
        },
        "id": "PpoiEfVK17PR",
        "outputId": "45876787-d40c-4ce7-e488-17dae55fdcf1"
      },
      "outputs": [
        {
          "output_type": "stream",
          "name": "stdout",
          "text": [
            "1/1 [==============================] - 0s 76ms/step\n"
          ]
        },
        {
          "output_type": "execute_result",
          "data": {
            "text/plain": [
              "array([[-10.995797]], dtype=float32)"
            ]
          },
          "metadata": {},
          "execution_count": 10
        }
      ],
      "source": [
        "#Try and make a prediction with our model\n",
        "y_pred = model.predict([17.0])\n",
        "y_pred"
      ]
    },
    {
      "cell_type": "markdown",
      "metadata": {
        "id": "XNwsaTAlrGUe"
      },
      "source": [
        "# Improving our model\n",
        "* We can improve our model by altering the steps we took to create a model\n",
        "* 1) In creating a model , we might add more layers, increase the number of hidden units (all called neurons) within each of the hidden layers , change the activation function of each layer.\n",
        "* 2) In compiling a model , we might change the optimizer function or perhaps the learning rate of the optimizer func.\n",
        "* 3) In fitting a model , we might fit a model for more epochs (Leave it training for longer) or on more data(give the model examples to learn from)\n",
        "\n",
        "* Common ways to improve a deep model:\n",
        "* Adding layers\n",
        "* Increase the number of hidden units\n",
        "* Change the activation functions\n",
        "* Change the optimization function\n",
        "* Change the learning rate\n",
        "* Fitting on more data\n",
        "* Fitting for longer"
      ]
    },
    {
      "cell_type": "code",
      "execution_count": null,
      "metadata": {
        "colab": {
          "base_uri": "https://localhost:8080/"
        },
        "id": "dJbF-Rvau0-2",
        "outputId": "462f9f93-88c9-43db-8a49-909a5b8b0761"
      },
      "outputs": [
        {
          "output_type": "stream",
          "name": "stdout",
          "text": [
            "Epoch 1/100\n",
            "1/1 [==============================] - 0s 341ms/step - loss: 13.0866 - mae: 13.0866\n",
            "Epoch 2/100\n",
            "1/1 [==============================] - 0s 10ms/step - loss: 12.9541 - mae: 12.9541\n",
            "Epoch 3/100\n",
            "1/1 [==============================] - 0s 10ms/step - loss: 12.8216 - mae: 12.8216\n",
            "Epoch 4/100\n",
            "1/1 [==============================] - 0s 9ms/step - loss: 12.6891 - mae: 12.6891\n",
            "Epoch 5/100\n",
            "1/1 [==============================] - 0s 10ms/step - loss: 12.5566 - mae: 12.5566\n",
            "Epoch 6/100\n",
            "1/1 [==============================] - 0s 9ms/step - loss: 12.4241 - mae: 12.4241\n",
            "Epoch 7/100\n",
            "1/1 [==============================] - 0s 9ms/step - loss: 12.2916 - mae: 12.2916\n",
            "Epoch 8/100\n",
            "1/1 [==============================] - 0s 9ms/step - loss: 12.1591 - mae: 12.1591\n",
            "Epoch 9/100\n",
            "1/1 [==============================] - 0s 9ms/step - loss: 12.0266 - mae: 12.0266\n",
            "Epoch 10/100\n",
            "1/1 [==============================] - 0s 10ms/step - loss: 11.8941 - mae: 11.8941\n",
            "Epoch 11/100\n",
            "1/1 [==============================] - 0s 9ms/step - loss: 11.7616 - mae: 11.7616\n",
            "Epoch 12/100\n",
            "1/1 [==============================] - 0s 10ms/step - loss: 11.6291 - mae: 11.6291\n",
            "Epoch 13/100\n",
            "1/1 [==============================] - 0s 10ms/step - loss: 11.4966 - mae: 11.4966\n",
            "Epoch 14/100\n",
            "1/1 [==============================] - 0s 8ms/step - loss: 11.3641 - mae: 11.3641\n",
            "Epoch 15/100\n",
            "1/1 [==============================] - 0s 11ms/step - loss: 11.2316 - mae: 11.2316\n",
            "Epoch 16/100\n",
            "1/1 [==============================] - 0s 8ms/step - loss: 11.0991 - mae: 11.0991\n",
            "Epoch 17/100\n",
            "1/1 [==============================] - 0s 10ms/step - loss: 10.9666 - mae: 10.9666\n",
            "Epoch 18/100\n",
            "1/1 [==============================] - 0s 10ms/step - loss: 10.8341 - mae: 10.8341\n",
            "Epoch 19/100\n",
            "1/1 [==============================] - 0s 10ms/step - loss: 10.7016 - mae: 10.7016\n",
            "Epoch 20/100\n",
            "1/1 [==============================] - 0s 9ms/step - loss: 10.5691 - mae: 10.5691\n",
            "Epoch 21/100\n",
            "1/1 [==============================] - 0s 8ms/step - loss: 10.4366 - mae: 10.4366\n",
            "Epoch 22/100\n",
            "1/1 [==============================] - 0s 10ms/step - loss: 10.3041 - mae: 10.3041\n",
            "Epoch 23/100\n",
            "1/1 [==============================] - 0s 10ms/step - loss: 10.1716 - mae: 10.1716\n",
            "Epoch 24/100\n",
            "1/1 [==============================] - 0s 10ms/step - loss: 10.0391 - mae: 10.0391\n",
            "Epoch 25/100\n",
            "1/1 [==============================] - 0s 10ms/step - loss: 9.9066 - mae: 9.9066\n",
            "Epoch 26/100\n",
            "1/1 [==============================] - 0s 9ms/step - loss: 9.7741 - mae: 9.7741\n",
            "Epoch 27/100\n",
            "1/1 [==============================] - 0s 9ms/step - loss: 9.6416 - mae: 9.6416\n",
            "Epoch 28/100\n",
            "1/1 [==============================] - 0s 10ms/step - loss: 9.5091 - mae: 9.5091\n",
            "Epoch 29/100\n",
            "1/1 [==============================] - 0s 10ms/step - loss: 9.3766 - mae: 9.3766\n",
            "Epoch 30/100\n",
            "1/1 [==============================] - 0s 8ms/step - loss: 9.2441 - mae: 9.2441\n",
            "Epoch 31/100\n",
            "1/1 [==============================] - 0s 9ms/step - loss: 9.1116 - mae: 9.1116\n",
            "Epoch 32/100\n",
            "1/1 [==============================] - 0s 9ms/step - loss: 8.9791 - mae: 8.9791\n",
            "Epoch 33/100\n",
            "1/1 [==============================] - 0s 8ms/step - loss: 8.8466 - mae: 8.8466\n",
            "Epoch 34/100\n",
            "1/1 [==============================] - 0s 9ms/step - loss: 8.7141 - mae: 8.7141\n",
            "Epoch 35/100\n",
            "1/1 [==============================] - 0s 9ms/step - loss: 8.5816 - mae: 8.5816\n",
            "Epoch 36/100\n",
            "1/1 [==============================] - 0s 13ms/step - loss: 8.4491 - mae: 8.4491\n",
            "Epoch 37/100\n",
            "1/1 [==============================] - 0s 12ms/step - loss: 8.3166 - mae: 8.3166\n",
            "Epoch 38/100\n",
            "1/1 [==============================] - 0s 11ms/step - loss: 8.1841 - mae: 8.1841\n",
            "Epoch 39/100\n",
            "1/1 [==============================] - 0s 10ms/step - loss: 8.0516 - mae: 8.0516\n",
            "Epoch 40/100\n",
            "1/1 [==============================] - 0s 10ms/step - loss: 7.9191 - mae: 7.9191\n",
            "Epoch 41/100\n",
            "1/1 [==============================] - 0s 11ms/step - loss: 7.7866 - mae: 7.7866\n",
            "Epoch 42/100\n",
            "1/1 [==============================] - 0s 10ms/step - loss: 7.6541 - mae: 7.6541\n",
            "Epoch 43/100\n",
            "1/1 [==============================] - 0s 9ms/step - loss: 7.5216 - mae: 7.5216\n",
            "Epoch 44/100\n",
            "1/1 [==============================] - 0s 9ms/step - loss: 7.3891 - mae: 7.3891\n",
            "Epoch 45/100\n",
            "1/1 [==============================] - 0s 10ms/step - loss: 7.2566 - mae: 7.2566\n",
            "Epoch 46/100\n",
            "1/1 [==============================] - 0s 9ms/step - loss: 7.1625 - mae: 7.1625\n",
            "Epoch 47/100\n",
            "1/1 [==============================] - 0s 10ms/step - loss: 7.1569 - mae: 7.1569\n",
            "Epoch 48/100\n",
            "1/1 [==============================] - 0s 9ms/step - loss: 7.1512 - mae: 7.1512\n",
            "Epoch 49/100\n",
            "1/1 [==============================] - 0s 10ms/step - loss: 7.1456 - mae: 7.1456\n",
            "Epoch 50/100\n",
            "1/1 [==============================] - 0s 10ms/step - loss: 7.1400 - mae: 7.1400\n",
            "Epoch 51/100\n",
            "1/1 [==============================] - 0s 11ms/step - loss: 7.1344 - mae: 7.1344\n",
            "Epoch 52/100\n",
            "1/1 [==============================] - 0s 9ms/step - loss: 7.1287 - mae: 7.1287\n",
            "Epoch 53/100\n",
            "1/1 [==============================] - 0s 9ms/step - loss: 7.1231 - mae: 7.1231\n",
            "Epoch 54/100\n",
            "1/1 [==============================] - 0s 9ms/step - loss: 7.1175 - mae: 7.1175\n",
            "Epoch 55/100\n",
            "1/1 [==============================] - 0s 13ms/step - loss: 7.1119 - mae: 7.1119\n",
            "Epoch 56/100\n",
            "1/1 [==============================] - 0s 7ms/step - loss: 7.1063 - mae: 7.1063\n",
            "Epoch 57/100\n",
            "1/1 [==============================] - 0s 11ms/step - loss: 7.1006 - mae: 7.1006\n",
            "Epoch 58/100\n",
            "1/1 [==============================] - 0s 8ms/step - loss: 7.0950 - mae: 7.0950\n",
            "Epoch 59/100\n",
            "1/1 [==============================] - 0s 9ms/step - loss: 7.0894 - mae: 7.0894\n",
            "Epoch 60/100\n",
            "1/1 [==============================] - 0s 9ms/step - loss: 7.0838 - mae: 7.0838\n",
            "Epoch 61/100\n",
            "1/1 [==============================] - 0s 10ms/step - loss: 7.0781 - mae: 7.0781\n",
            "Epoch 62/100\n",
            "1/1 [==============================] - 0s 11ms/step - loss: 7.0725 - mae: 7.0725\n",
            "Epoch 63/100\n",
            "1/1 [==============================] - 0s 12ms/step - loss: 7.0669 - mae: 7.0669\n",
            "Epoch 64/100\n",
            "1/1 [==============================] - 0s 12ms/step - loss: 7.0612 - mae: 7.0612\n",
            "Epoch 65/100\n",
            "1/1 [==============================] - 0s 11ms/step - loss: 7.0556 - mae: 7.0556\n",
            "Epoch 66/100\n",
            "1/1 [==============================] - 0s 9ms/step - loss: 7.0500 - mae: 7.0500\n",
            "Epoch 67/100\n",
            "1/1 [==============================] - 0s 10ms/step - loss: 7.0444 - mae: 7.0444\n",
            "Epoch 68/100\n",
            "1/1 [==============================] - 0s 11ms/step - loss: 7.0388 - mae: 7.0388\n",
            "Epoch 69/100\n",
            "1/1 [==============================] - 0s 13ms/step - loss: 7.0331 - mae: 7.0331\n",
            "Epoch 70/100\n",
            "1/1 [==============================] - 0s 9ms/step - loss: 7.0275 - mae: 7.0275\n",
            "Epoch 71/100\n",
            "1/1 [==============================] - 0s 10ms/step - loss: 7.0219 - mae: 7.0219\n",
            "Epoch 72/100\n",
            "1/1 [==============================] - 0s 9ms/step - loss: 7.0163 - mae: 7.0163\n",
            "Epoch 73/100\n",
            "1/1 [==============================] - 0s 10ms/step - loss: 7.0106 - mae: 7.0106\n",
            "Epoch 74/100\n",
            "1/1 [==============================] - 0s 11ms/step - loss: 7.0050 - mae: 7.0050\n",
            "Epoch 75/100\n",
            "1/1 [==============================] - 0s 9ms/step - loss: 6.9994 - mae: 6.9994\n",
            "Epoch 76/100\n",
            "1/1 [==============================] - 0s 10ms/step - loss: 6.9938 - mae: 6.9938\n",
            "Epoch 77/100\n",
            "1/1 [==============================] - 0s 10ms/step - loss: 6.9881 - mae: 6.9881\n",
            "Epoch 78/100\n",
            "1/1 [==============================] - 0s 10ms/step - loss: 6.9825 - mae: 6.9825\n",
            "Epoch 79/100\n",
            "1/1 [==============================] - 0s 10ms/step - loss: 6.9769 - mae: 6.9769\n",
            "Epoch 80/100\n",
            "1/1 [==============================] - 0s 13ms/step - loss: 6.9713 - mae: 6.9713\n",
            "Epoch 81/100\n",
            "1/1 [==============================] - 0s 12ms/step - loss: 6.9656 - mae: 6.9656\n",
            "Epoch 82/100\n",
            "1/1 [==============================] - 0s 10ms/step - loss: 6.9600 - mae: 6.9600\n",
            "Epoch 83/100\n",
            "1/1 [==============================] - 0s 29ms/step - loss: 6.9544 - mae: 6.9544\n",
            "Epoch 84/100\n",
            "1/1 [==============================] - 0s 12ms/step - loss: 6.9488 - mae: 6.9488\n",
            "Epoch 85/100\n",
            "1/1 [==============================] - 0s 10ms/step - loss: 6.9431 - mae: 6.9431\n",
            "Epoch 86/100\n",
            "1/1 [==============================] - 0s 9ms/step - loss: 6.9375 - mae: 6.9375\n",
            "Epoch 87/100\n",
            "1/1 [==============================] - 0s 10ms/step - loss: 6.9319 - mae: 6.9319\n",
            "Epoch 88/100\n",
            "1/1 [==============================] - 0s 10ms/step - loss: 6.9263 - mae: 6.9263\n",
            "Epoch 89/100\n",
            "1/1 [==============================] - 0s 9ms/step - loss: 6.9206 - mae: 6.9206\n",
            "Epoch 90/100\n",
            "1/1 [==============================] - 0s 12ms/step - loss: 6.9150 - mae: 6.9150\n",
            "Epoch 91/100\n",
            "1/1 [==============================] - 0s 10ms/step - loss: 6.9094 - mae: 6.9094\n",
            "Epoch 92/100\n",
            "1/1 [==============================] - 0s 9ms/step - loss: 6.9038 - mae: 6.9038\n",
            "Epoch 93/100\n",
            "1/1 [==============================] - 0s 9ms/step - loss: 6.8981 - mae: 6.8981\n",
            "Epoch 94/100\n",
            "1/1 [==============================] - 0s 9ms/step - loss: 6.8925 - mae: 6.8925\n",
            "Epoch 95/100\n",
            "1/1 [==============================] - 0s 9ms/step - loss: 6.8869 - mae: 6.8869\n",
            "Epoch 96/100\n",
            "1/1 [==============================] - 0s 9ms/step - loss: 6.8813 - mae: 6.8813\n",
            "Epoch 97/100\n",
            "1/1 [==============================] - 0s 9ms/step - loss: 6.8756 - mae: 6.8756\n",
            "Epoch 98/100\n",
            "1/1 [==============================] - 0s 9ms/step - loss: 6.8700 - mae: 6.8700\n",
            "Epoch 99/100\n",
            "1/1 [==============================] - 0s 9ms/step - loss: 6.8644 - mae: 6.8644\n",
            "Epoch 100/100\n",
            "1/1 [==============================] - 0s 9ms/step - loss: 6.8588 - mae: 6.8588\n"
          ]
        },
        {
          "output_type": "execute_result",
          "data": {
            "text/plain": [
              "<keras.callbacks.History at 0x7bb0731e2bc0>"
            ]
          },
          "metadata": {},
          "execution_count": 11
        }
      ],
      "source": [
        "#Rebuild our model with some differences for improving\n",
        "#Create a model\n",
        "tf.random.set_seed(42)\n",
        "model_2 = tf.keras.Sequential(\n",
        "    [tf.keras.layers.Dense(1)]\n",
        ")\n",
        "\n",
        "#Compile a model\n",
        "model_2.compile(loss = tf.keras.losses.mae , #mae is short for mean absolute error\n",
        "              optimizer = tf.keras.optimizers.SGD() ,  #sgd is short for sthocastic gradient descent\n",
        "              metrics = [\"mae\"])\n",
        "\n",
        "#Fit the model (değişikliği burada yaptık sadece epoch sayısını 100 e çıkardık)\n",
        "model_2.fit( tf.expand_dims(X , axis = -1 ), y , epochs = 100 )\n"
      ]
    },
    {
      "cell_type": "code",
      "execution_count": null,
      "metadata": {
        "colab": {
          "base_uri": "https://localhost:8080/"
        },
        "id": "rFom7yjCyYGN",
        "outputId": "a3230c3a-e580-4f52-810c-292adbf5d143"
      },
      "outputs": [
        {
          "output_type": "stream",
          "name": "stdout",
          "text": [
            "1/1 [==============================] - 0s 88ms/step\n"
          ]
        },
        {
          "output_type": "execute_result",
          "data": {
            "text/plain": [
              "array([[29.645315]], dtype=float32)"
            ]
          },
          "metadata": {},
          "execution_count": 12
        }
      ],
      "source": [
        "#Try and make a prediction again with our improved model\n",
        "model_2.predict([17.0])"
      ]
    },
    {
      "cell_type": "code",
      "execution_count": null,
      "metadata": {
        "colab": {
          "base_uri": "https://localhost:8080/"
        },
        "id": "TuuacMuvz_uQ",
        "outputId": "0a1331a3-8b71-484e-811f-4c985f6d0035"
      },
      "outputs": [
        {
          "output_type": "stream",
          "name": "stdout",
          "text": [
            "Epoch 1/100\n",
            "1/1 [==============================] - 1s 580ms/step - loss: 12.0933 - mae: 12.0933\n",
            "Epoch 2/100\n",
            "1/1 [==============================] - 0s 11ms/step - loss: 11.5232 - mae: 11.5232\n",
            "Epoch 3/100\n",
            "1/1 [==============================] - 0s 12ms/step - loss: 10.9515 - mae: 10.9515\n",
            "Epoch 4/100\n",
            "1/1 [==============================] - 0s 10ms/step - loss: 10.3588 - mae: 10.3588\n",
            "Epoch 5/100\n",
            "1/1 [==============================] - 0s 9ms/step - loss: 9.7421 - mae: 9.7421\n",
            "Epoch 6/100\n",
            "1/1 [==============================] - 0s 10ms/step - loss: 9.0974 - mae: 9.0974\n",
            "Epoch 7/100\n",
            "1/1 [==============================] - 0s 9ms/step - loss: 8.4606 - mae: 8.4606\n",
            "Epoch 8/100\n",
            "1/1 [==============================] - 0s 10ms/step - loss: 7.8113 - mae: 7.8113\n",
            "Epoch 9/100\n",
            "1/1 [==============================] - 0s 10ms/step - loss: 7.1181 - mae: 7.1181\n",
            "Epoch 10/100\n",
            "1/1 [==============================] - 0s 10ms/step - loss: 6.3708 - mae: 6.3708\n",
            "Epoch 11/100\n",
            "1/1 [==============================] - 0s 9ms/step - loss: 5.5727 - mae: 5.5727\n",
            "Epoch 12/100\n",
            "1/1 [==============================] - 0s 9ms/step - loss: 4.7155 - mae: 4.7155\n",
            "Epoch 13/100\n",
            "1/1 [==============================] - 0s 10ms/step - loss: 4.0824 - mae: 4.0824\n",
            "Epoch 14/100\n",
            "1/1 [==============================] - 0s 9ms/step - loss: 3.9858 - mae: 3.9858\n",
            "Epoch 15/100\n",
            "1/1 [==============================] - 0s 9ms/step - loss: 3.9388 - mae: 3.9388\n",
            "Epoch 16/100\n",
            "1/1 [==============================] - 0s 9ms/step - loss: 3.9603 - mae: 3.9603\n",
            "Epoch 17/100\n",
            "1/1 [==============================] - 0s 13ms/step - loss: 3.9453 - mae: 3.9453\n",
            "Epoch 18/100\n",
            "1/1 [==============================] - 0s 9ms/step - loss: 3.9346 - mae: 3.9346\n",
            "Epoch 19/100\n",
            "1/1 [==============================] - 0s 11ms/step - loss: 3.9553 - mae: 3.9553\n",
            "Epoch 20/100\n",
            "1/1 [==============================] - 0s 14ms/step - loss: 3.9171 - mae: 3.9171\n",
            "Epoch 21/100\n",
            "1/1 [==============================] - 0s 10ms/step - loss: 3.9674 - mae: 3.9674\n",
            "Epoch 22/100\n",
            "1/1 [==============================] - 0s 8ms/step - loss: 3.9001 - mae: 3.9001\n",
            "Epoch 23/100\n",
            "1/1 [==============================] - 0s 10ms/step - loss: 3.9640 - mae: 3.9640\n",
            "Epoch 24/100\n",
            "1/1 [==============================] - 0s 9ms/step - loss: 3.9066 - mae: 3.9066\n",
            "Epoch 25/100\n",
            "1/1 [==============================] - 0s 9ms/step - loss: 3.9382 - mae: 3.9382\n",
            "Epoch 26/100\n",
            "1/1 [==============================] - 0s 9ms/step - loss: 3.9134 - mae: 3.9134\n",
            "Epoch 27/100\n",
            "1/1 [==============================] - 0s 11ms/step - loss: 3.9161 - mae: 3.9161\n",
            "Epoch 28/100\n",
            "1/1 [==============================] - 0s 9ms/step - loss: 3.9291 - mae: 3.9291\n",
            "Epoch 29/100\n",
            "1/1 [==============================] - 0s 9ms/step - loss: 3.8945 - mae: 3.8945\n",
            "Epoch 30/100\n",
            "1/1 [==============================] - 0s 10ms/step - loss: 3.9358 - mae: 3.9358\n",
            "Epoch 31/100\n",
            "1/1 [==============================] - 0s 11ms/step - loss: 3.8689 - mae: 3.8689\n",
            "Epoch 32/100\n",
            "1/1 [==============================] - 0s 11ms/step - loss: 3.9410 - mae: 3.9410\n",
            "Epoch 33/100\n",
            "1/1 [==============================] - 0s 10ms/step - loss: 3.8757 - mae: 3.8757\n",
            "Epoch 34/100\n",
            "1/1 [==============================] - 0s 10ms/step - loss: 3.9150 - mae: 3.9150\n",
            "Epoch 35/100\n",
            "1/1 [==============================] - 0s 10ms/step - loss: 3.8859 - mae: 3.8859\n",
            "Epoch 36/100\n",
            "1/1 [==============================] - 0s 10ms/step - loss: 3.8971 - mae: 3.8971\n",
            "Epoch 37/100\n",
            "1/1 [==============================] - 0s 10ms/step - loss: 3.8984 - mae: 3.8984\n",
            "Epoch 38/100\n",
            "1/1 [==============================] - 0s 9ms/step - loss: 3.8707 - mae: 3.8707\n",
            "Epoch 39/100\n",
            "1/1 [==============================] - 0s 9ms/step - loss: 3.9053 - mae: 3.9053\n",
            "Epoch 40/100\n",
            "1/1 [==============================] - 0s 9ms/step - loss: 3.8441 - mae: 3.8441\n",
            "Epoch 41/100\n",
            "1/1 [==============================] - 0s 10ms/step - loss: 3.9125 - mae: 3.9125\n",
            "Epoch 42/100\n",
            "1/1 [==============================] - 0s 10ms/step - loss: 3.8458 - mae: 3.8458\n",
            "Epoch 43/100\n",
            "1/1 [==============================] - 0s 10ms/step - loss: 3.8940 - mae: 3.8940\n",
            "Epoch 44/100\n",
            "1/1 [==============================] - 0s 10ms/step - loss: 3.8618 - mae: 3.8618\n",
            "Epoch 45/100\n",
            "1/1 [==============================] - 0s 10ms/step - loss: 3.8722 - mae: 3.8722\n",
            "Epoch 46/100\n",
            "1/1 [==============================] - 0s 11ms/step - loss: 3.8688 - mae: 3.8688\n",
            "Epoch 47/100\n",
            "1/1 [==============================] - 0s 11ms/step - loss: 3.8455 - mae: 3.8455\n",
            "Epoch 48/100\n",
            "1/1 [==============================] - 0s 11ms/step - loss: 3.8760 - mae: 3.8760\n",
            "Epoch 49/100\n",
            "1/1 [==============================] - 0s 13ms/step - loss: 3.8188 - mae: 3.8188\n",
            "Epoch 50/100\n",
            "1/1 [==============================] - 0s 11ms/step - loss: 3.8834 - mae: 3.8834\n",
            "Epoch 51/100\n",
            "1/1 [==============================] - 0s 11ms/step - loss: 3.8199 - mae: 3.8199\n",
            "Epoch 52/100\n",
            "1/1 [==============================] - 0s 10ms/step - loss: 3.8730 - mae: 3.8730\n",
            "Epoch 53/100\n",
            "1/1 [==============================] - 0s 10ms/step - loss: 3.8331 - mae: 3.8331\n",
            "Epoch 54/100\n",
            "1/1 [==============================] - 0s 10ms/step - loss: 3.8461 - mae: 3.8461\n",
            "Epoch 55/100\n",
            "1/1 [==============================] - 0s 11ms/step - loss: 3.8404 - mae: 3.8404\n",
            "Epoch 56/100\n",
            "1/1 [==============================] - 0s 11ms/step - loss: 3.8191 - mae: 3.8191\n",
            "Epoch 57/100\n",
            "1/1 [==============================] - 0s 11ms/step - loss: 3.8478 - mae: 3.8478\n",
            "Epoch 58/100\n",
            "1/1 [==============================] - 0s 10ms/step - loss: 3.7922 - mae: 3.7922\n",
            "Epoch 59/100\n",
            "1/1 [==============================] - 0s 9ms/step - loss: 3.8574 - mae: 3.8574\n",
            "Epoch 60/100\n",
            "1/1 [==============================] - 0s 11ms/step - loss: 3.7982 - mae: 3.7982\n",
            "Epoch 61/100\n",
            "1/1 [==============================] - 0s 9ms/step - loss: 3.8459 - mae: 3.8459\n",
            "Epoch 62/100\n",
            "1/1 [==============================] - 0s 9ms/step - loss: 3.8055 - mae: 3.8055\n",
            "Epoch 63/100\n",
            "1/1 [==============================] - 0s 10ms/step - loss: 3.8187 - mae: 3.8187\n",
            "Epoch 64/100\n",
            "1/1 [==============================] - 0s 10ms/step - loss: 3.8130 - mae: 3.8130\n",
            "Epoch 65/100\n",
            "1/1 [==============================] - 0s 9ms/step - loss: 3.7916 - mae: 3.7916\n",
            "Epoch 66/100\n",
            "1/1 [==============================] - 0s 8ms/step - loss: 3.8207 - mae: 3.8207\n",
            "Epoch 67/100\n",
            "1/1 [==============================] - 0s 9ms/step - loss: 3.7660 - mae: 3.7660\n",
            "Epoch 68/100\n",
            "1/1 [==============================] - 0s 9ms/step - loss: 3.8373 - mae: 3.8373\n",
            "Epoch 69/100\n",
            "1/1 [==============================] - 0s 9ms/step - loss: 3.7715 - mae: 3.7715\n",
            "Epoch 70/100\n",
            "1/1 [==============================] - 0s 9ms/step - loss: 3.8175 - mae: 3.8175\n",
            "Epoch 71/100\n",
            "1/1 [==============================] - 0s 9ms/step - loss: 3.7790 - mae: 3.7790\n",
            "Epoch 72/100\n",
            "1/1 [==============================] - 0s 11ms/step - loss: 3.7901 - mae: 3.7901\n",
            "Epoch 73/100\n",
            "1/1 [==============================] - 0s 10ms/step - loss: 3.7868 - mae: 3.7868\n",
            "Epoch 74/100\n",
            "1/1 [==============================] - 0s 11ms/step - loss: 3.7627 - mae: 3.7627\n",
            "Epoch 75/100\n",
            "1/1 [==============================] - 0s 9ms/step - loss: 3.7954 - mae: 3.7954\n",
            "Epoch 76/100\n",
            "1/1 [==============================] - 0s 10ms/step - loss: 3.7432 - mae: 3.7432\n",
            "Epoch 77/100\n",
            "1/1 [==============================] - 0s 10ms/step - loss: 3.8114 - mae: 3.8114\n",
            "Epoch 78/100\n",
            "1/1 [==============================] - 0s 10ms/step - loss: 3.7458 - mae: 3.7458\n",
            "Epoch 79/100\n",
            "1/1 [==============================] - 0s 10ms/step - loss: 3.7878 - mae: 3.7878\n",
            "Epoch 80/100\n",
            "1/1 [==============================] - 0s 10ms/step - loss: 3.7535 - mae: 3.7535\n",
            "Epoch 81/100\n",
            "1/1 [==============================] - 0s 10ms/step - loss: 3.7601 - mae: 3.7601\n",
            "Epoch 82/100\n",
            "1/1 [==============================] - 0s 9ms/step - loss: 3.7614 - mae: 3.7614\n",
            "Epoch 83/100\n",
            "1/1 [==============================] - 0s 8ms/step - loss: 3.7328 - mae: 3.7328\n",
            "Epoch 84/100\n",
            "1/1 [==============================] - 0s 10ms/step - loss: 3.7783 - mae: 3.7783\n",
            "Epoch 85/100\n",
            "1/1 [==============================] - 0s 11ms/step - loss: 3.7132 - mae: 3.7132\n",
            "Epoch 86/100\n",
            "1/1 [==============================] - 0s 8ms/step - loss: 3.7845 - mae: 3.7845\n",
            "Epoch 87/100\n",
            "1/1 [==============================] - 0s 9ms/step - loss: 3.7210 - mae: 3.7210\n",
            "Epoch 88/100\n",
            "1/1 [==============================] - 0s 10ms/step - loss: 3.7566 - mae: 3.7566\n",
            "Epoch 89/100\n",
            "1/1 [==============================] - 0s 9ms/step - loss: 3.7288 - mae: 3.7288\n",
            "Epoch 90/100\n",
            "1/1 [==============================] - 0s 10ms/step - loss: 3.7282 - mae: 3.7282\n",
            "Epoch 91/100\n",
            "1/1 [==============================] - 0s 10ms/step - loss: 3.7372 - mae: 3.7372\n",
            "Epoch 92/100\n",
            "1/1 [==============================] - 0s 11ms/step - loss: 3.7085 - mae: 3.7085\n",
            "Epoch 93/100\n",
            "1/1 [==============================] - 0s 10ms/step - loss: 3.7539 - mae: 3.7539\n",
            "Epoch 94/100\n",
            "1/1 [==============================] - 0s 11ms/step - loss: 3.6889 - mae: 3.6889\n",
            "Epoch 95/100\n",
            "1/1 [==============================] - 0s 9ms/step - loss: 3.7521 - mae: 3.7521\n",
            "Epoch 96/100\n",
            "1/1 [==============================] - 0s 10ms/step - loss: 3.6971 - mae: 3.6971\n",
            "Epoch 97/100\n",
            "1/1 [==============================] - 0s 12ms/step - loss: 3.7236 - mae: 3.7236\n",
            "Epoch 98/100\n",
            "1/1 [==============================] - 0s 10ms/step - loss: 3.7055 - mae: 3.7055\n",
            "Epoch 99/100\n",
            "1/1 [==============================] - 0s 9ms/step - loss: 3.6952 - mae: 3.6952\n",
            "Epoch 100/100\n",
            "1/1 [==============================] - 0s 9ms/step - loss: 3.7213 - mae: 3.7213\n"
          ]
        },
        {
          "output_type": "execute_result",
          "data": {
            "text/plain": [
              "<keras.callbacks.History at 0x7bb0730b1c30>"
            ]
          },
          "metadata": {},
          "execution_count": 13
        }
      ],
      "source": [
        "#Rebuild our model with some differences for improving and we will do one more changing. We will add extra hidden layer\n",
        "#Create a model\n",
        "tf.random.set_seed(42)\n",
        "model_3 = tf.keras.Sequential(\n",
        "\n",
        "  [ tf.keras.layers.Dense(100 , activation= \"relu\") ,\n",
        "    tf.keras.layers.Dense(1) ]\n",
        ")\n",
        "\n",
        "#Compile a model\n",
        "model_3.compile(loss = tf.keras.losses.mae , #mae is short for mean absolute error\n",
        "              optimizer = tf.keras.optimizers.SGD() ,  #sgd is short for sthocastic gradient descent\n",
        "              metrics = [\"mae\"])\n",
        "\n",
        "#Fit the model (değişikliği burada yaptık sadece epoch sayısını 100 e çıkardık)\n",
        "model_3.fit( tf.expand_dims(X , axis = -1 ), y , epochs = 100 )"
      ]
    },
    {
      "cell_type": "code",
      "execution_count": null,
      "metadata": {
        "colab": {
          "base_uri": "https://localhost:8080/"
        },
        "id": "NZmfPo-y0ct-",
        "outputId": "7ebfa433-61e7-46cd-fb7a-37938cd19b7c"
      },
      "outputs": [
        {
          "output_type": "stream",
          "name": "stdout",
          "text": [
            "1/1 [==============================] - 0s 59ms/step\n"
          ]
        },
        {
          "output_type": "execute_result",
          "data": {
            "text/plain": [
              "array([[31.809484]], dtype=float32)"
            ]
          },
          "metadata": {},
          "execution_count": 14
        }
      ],
      "source": [
        "#Try and make a prediction again with our improved model\n",
        "model_3.predict([17.0])  #Bu predictimiz aslında modelin mae si çok daha düşük olmasına rağmen bir önceki modele göre predict value da daha kötü bir sonuç verdi yani aslında overfitting oldu modelimiz.\n",
        "#Yani aslında bizim modelimiz training datayı çok iyi öğrendiği için bu da yeni hiç görmediği datapointlerle karşılaştığında sorun yaratıyor."
      ]
    },
    {
      "cell_type": "code",
      "execution_count": null,
      "metadata": {
        "colab": {
          "base_uri": "https://localhost:8080/"
        },
        "id": "SL9320Vo1B8L",
        "outputId": "a73d035b-7816-4503-de2a-0a5a0426b6be"
      },
      "outputs": [
        {
          "output_type": "stream",
          "name": "stdout",
          "text": [
            "Epoch 1/100\n",
            "1/1 [==============================] - 1s 948ms/step - loss: 14.2724 - mae: 14.2724\n",
            "Epoch 2/100\n",
            "1/1 [==============================] - 0s 10ms/step - loss: 13.5718 - mae: 13.5718\n",
            "Epoch 3/100\n",
            "1/1 [==============================] - 0s 10ms/step - loss: 12.8790 - mae: 12.8790\n",
            "Epoch 4/100\n",
            "1/1 [==============================] - 0s 10ms/step - loss: 12.1928 - mae: 12.1928\n",
            "Epoch 5/100\n",
            "1/1 [==============================] - 0s 10ms/step - loss: 11.5113 - mae: 11.5113\n",
            "Epoch 6/100\n",
            "1/1 [==============================] - 0s 10ms/step - loss: 10.8329 - mae: 10.8329\n",
            "Epoch 7/100\n",
            "1/1 [==============================] - 0s 10ms/step - loss: 10.1554 - mae: 10.1554\n",
            "Epoch 8/100\n",
            "1/1 [==============================] - 0s 10ms/step - loss: 9.4764 - mae: 9.4764\n",
            "Epoch 9/100\n",
            "1/1 [==============================] - 0s 10ms/step - loss: 8.7935 - mae: 8.7935\n",
            "Epoch 10/100\n",
            "1/1 [==============================] - 0s 14ms/step - loss: 8.1040 - mae: 8.1040\n",
            "Epoch 11/100\n",
            "1/1 [==============================] - 0s 9ms/step - loss: 7.4054 - mae: 7.4054\n",
            "Epoch 12/100\n",
            "1/1 [==============================] - 0s 9ms/step - loss: 6.7155 - mae: 6.7155\n",
            "Epoch 13/100\n",
            "1/1 [==============================] - 0s 9ms/step - loss: 6.6362 - mae: 6.6362\n",
            "Epoch 14/100\n",
            "1/1 [==============================] - 0s 9ms/step - loss: 6.9807 - mae: 6.9807\n",
            "Epoch 15/100\n",
            "1/1 [==============================] - 0s 9ms/step - loss: 7.2160 - mae: 7.2160\n",
            "Epoch 16/100\n",
            "1/1 [==============================] - 0s 9ms/step - loss: 7.4647 - mae: 7.4647\n",
            "Epoch 17/100\n",
            "1/1 [==============================] - 0s 9ms/step - loss: 7.5337 - mae: 7.5337\n",
            "Epoch 18/100\n",
            "1/1 [==============================] - 0s 8ms/step - loss: 7.4295 - mae: 7.4295\n",
            "Epoch 19/100\n",
            "1/1 [==============================] - 0s 9ms/step - loss: 7.1935 - mae: 7.1935\n",
            "Epoch 20/100\n",
            "1/1 [==============================] - 0s 9ms/step - loss: 6.9011 - mae: 6.9011\n",
            "Epoch 21/100\n",
            "1/1 [==============================] - 0s 10ms/step - loss: 6.6664 - mae: 6.6664\n",
            "Epoch 22/100\n",
            "1/1 [==============================] - 0s 10ms/step - loss: 6.4162 - mae: 6.4162\n",
            "Epoch 23/100\n",
            "1/1 [==============================] - 0s 10ms/step - loss: 6.1539 - mae: 6.1539\n",
            "Epoch 24/100\n",
            "1/1 [==============================] - 0s 10ms/step - loss: 6.0266 - mae: 6.0266\n",
            "Epoch 25/100\n",
            "1/1 [==============================] - 0s 10ms/step - loss: 5.9832 - mae: 5.9832\n",
            "Epoch 26/100\n",
            "1/1 [==============================] - 0s 9ms/step - loss: 6.0597 - mae: 6.0597\n",
            "Epoch 27/100\n",
            "1/1 [==============================] - 0s 9ms/step - loss: 6.1284 - mae: 6.1284\n",
            "Epoch 28/100\n",
            "1/1 [==============================] - 0s 10ms/step - loss: 6.1022 - mae: 6.1022\n",
            "Epoch 29/100\n",
            "1/1 [==============================] - 0s 10ms/step - loss: 5.9932 - mae: 5.9932\n",
            "Epoch 30/100\n",
            "1/1 [==============================] - 0s 9ms/step - loss: 5.8100 - mae: 5.8100\n",
            "Epoch 31/100\n",
            "1/1 [==============================] - 0s 9ms/step - loss: 5.5592 - mae: 5.5592\n",
            "Epoch 32/100\n",
            "1/1 [==============================] - 0s 9ms/step - loss: 5.4367 - mae: 5.4367\n",
            "Epoch 33/100\n",
            "1/1 [==============================] - 0s 9ms/step - loss: 5.3282 - mae: 5.3282\n",
            "Epoch 34/100\n",
            "1/1 [==============================] - 0s 9ms/step - loss: 5.3024 - mae: 5.3024\n",
            "Epoch 35/100\n",
            "1/1 [==============================] - 0s 9ms/step - loss: 5.3054 - mae: 5.3054\n",
            "Epoch 36/100\n",
            "1/1 [==============================] - 0s 10ms/step - loss: 5.2665 - mae: 5.2665\n",
            "Epoch 37/100\n",
            "1/1 [==============================] - 0s 10ms/step - loss: 5.1887 - mae: 5.1887\n",
            "Epoch 38/100\n",
            "1/1 [==============================] - 0s 9ms/step - loss: 5.0747 - mae: 5.0747\n",
            "Epoch 39/100\n",
            "1/1 [==============================] - 0s 9ms/step - loss: 4.9272 - mae: 4.9272\n",
            "Epoch 40/100\n",
            "1/1 [==============================] - 0s 9ms/step - loss: 4.7487 - mae: 4.7487\n",
            "Epoch 41/100\n",
            "1/1 [==============================] - 0s 9ms/step - loss: 4.5412 - mae: 4.5412\n",
            "Epoch 42/100\n",
            "1/1 [==============================] - 0s 9ms/step - loss: 4.4355 - mae: 4.4355\n",
            "Epoch 43/100\n",
            "1/1 [==============================] - 0s 10ms/step - loss: 4.3364 - mae: 4.3364\n",
            "Epoch 44/100\n",
            "1/1 [==============================] - 0s 10ms/step - loss: 4.3003 - mae: 4.3003\n",
            "Epoch 45/100\n",
            "1/1 [==============================] - 0s 10ms/step - loss: 4.2186 - mae: 4.2186\n",
            "Epoch 46/100\n",
            "1/1 [==============================] - 0s 10ms/step - loss: 4.0285 - mae: 4.0285\n",
            "Epoch 47/100\n",
            "1/1 [==============================] - 0s 10ms/step - loss: 3.8038 - mae: 3.8038\n",
            "Epoch 48/100\n",
            "1/1 [==============================] - 0s 10ms/step - loss: 3.6388 - mae: 3.6388\n",
            "Epoch 49/100\n",
            "1/1 [==============================] - 0s 9ms/step - loss: 3.4836 - mae: 3.4836\n",
            "Epoch 50/100\n",
            "1/1 [==============================] - 0s 13ms/step - loss: 3.3771 - mae: 3.3771\n",
            "Epoch 51/100\n",
            "1/1 [==============================] - 0s 12ms/step - loss: 3.2195 - mae: 3.2195\n",
            "Epoch 52/100\n",
            "1/1 [==============================] - 0s 11ms/step - loss: 3.0127 - mae: 3.0127\n",
            "Epoch 53/100\n",
            "1/1 [==============================] - 0s 9ms/step - loss: 2.7934 - mae: 2.7934\n",
            "Epoch 54/100\n",
            "1/1 [==============================] - 0s 11ms/step - loss: 2.6148 - mae: 2.6148\n",
            "Epoch 55/100\n",
            "1/1 [==============================] - 0s 10ms/step - loss: 2.4246 - mae: 2.4246\n",
            "Epoch 56/100\n",
            "1/1 [==============================] - 0s 8ms/step - loss: 2.2833 - mae: 2.2833\n",
            "Epoch 57/100\n",
            "1/1 [==============================] - 0s 9ms/step - loss: 2.0037 - mae: 2.0037\n",
            "Epoch 58/100\n",
            "1/1 [==============================] - 0s 9ms/step - loss: 1.7619 - mae: 1.7619\n",
            "Epoch 59/100\n",
            "1/1 [==============================] - 0s 9ms/step - loss: 1.6000 - mae: 1.6000\n",
            "Epoch 60/100\n",
            "1/1 [==============================] - 0s 9ms/step - loss: 1.3691 - mae: 1.3691\n",
            "Epoch 61/100\n",
            "1/1 [==============================] - 0s 11ms/step - loss: 1.0717 - mae: 1.0717\n",
            "Epoch 62/100\n",
            "1/1 [==============================] - 0s 9ms/step - loss: 0.7852 - mae: 0.7852\n",
            "Epoch 63/100\n",
            "1/1 [==============================] - 0s 11ms/step - loss: 0.5263 - mae: 0.5263\n",
            "Epoch 64/100\n",
            "1/1 [==============================] - 0s 9ms/step - loss: 0.3033 - mae: 0.3033\n",
            "Epoch 65/100\n",
            "1/1 [==============================] - 0s 9ms/step - loss: 0.1398 - mae: 0.1398\n",
            "Epoch 66/100\n",
            "1/1 [==============================] - 0s 9ms/step - loss: 0.3968 - mae: 0.3968\n",
            "Epoch 67/100\n",
            "1/1 [==============================] - 0s 9ms/step - loss: 0.5307 - mae: 0.5307\n",
            "Epoch 68/100\n",
            "1/1 [==============================] - 0s 9ms/step - loss: 0.6230 - mae: 0.6230\n",
            "Epoch 69/100\n",
            "1/1 [==============================] - 0s 9ms/step - loss: 0.6946 - mae: 0.6946\n",
            "Epoch 70/100\n",
            "1/1 [==============================] - 0s 10ms/step - loss: 0.6932 - mae: 0.6932\n",
            "Epoch 71/100\n",
            "1/1 [==============================] - 0s 10ms/step - loss: 0.7000 - mae: 0.7000\n",
            "Epoch 72/100\n",
            "1/1 [==============================] - 0s 9ms/step - loss: 0.6153 - mae: 0.6153\n",
            "Epoch 73/100\n",
            "1/1 [==============================] - 0s 11ms/step - loss: 0.5622 - mae: 0.5622\n",
            "Epoch 74/100\n",
            "1/1 [==============================] - 0s 10ms/step - loss: 0.4270 - mae: 0.4270\n",
            "Epoch 75/100\n",
            "1/1 [==============================] - 0s 10ms/step - loss: 0.3705 - mae: 0.3705\n",
            "Epoch 76/100\n",
            "1/1 [==============================] - 0s 10ms/step - loss: 0.2586 - mae: 0.2586\n",
            "Epoch 77/100\n",
            "1/1 [==============================] - 0s 9ms/step - loss: 0.1252 - mae: 0.1252\n",
            "Epoch 78/100\n",
            "1/1 [==============================] - 0s 10ms/step - loss: 0.1665 - mae: 0.1665\n",
            "Epoch 79/100\n",
            "1/1 [==============================] - 0s 12ms/step - loss: 0.3019 - mae: 0.3019\n",
            "Epoch 80/100\n",
            "1/1 [==============================] - 0s 10ms/step - loss: 0.3094 - mae: 0.3094\n",
            "Epoch 81/100\n",
            "1/1 [==============================] - 0s 10ms/step - loss: 0.3486 - mae: 0.3486\n",
            "Epoch 82/100\n",
            "1/1 [==============================] - 0s 10ms/step - loss: 0.3317 - mae: 0.3317\n",
            "Epoch 83/100\n",
            "1/1 [==============================] - 0s 10ms/step - loss: 0.2274 - mae: 0.2274\n",
            "Epoch 84/100\n",
            "1/1 [==============================] - 0s 11ms/step - loss: 0.1540 - mae: 0.1540\n",
            "Epoch 85/100\n",
            "1/1 [==============================] - 0s 10ms/step - loss: 0.1871 - mae: 0.1871\n",
            "Epoch 86/100\n",
            "1/1 [==============================] - 0s 10ms/step - loss: 0.0789 - mae: 0.0789\n",
            "Epoch 87/100\n",
            "1/1 [==============================] - 0s 10ms/step - loss: 0.3096 - mae: 0.3096\n",
            "Epoch 88/100\n",
            "1/1 [==============================] - 0s 13ms/step - loss: 0.3301 - mae: 0.3301\n",
            "Epoch 89/100\n",
            "1/1 [==============================] - 0s 10ms/step - loss: 0.1439 - mae: 0.1439\n",
            "Epoch 90/100\n",
            "1/1 [==============================] - 0s 10ms/step - loss: 0.2484 - mae: 0.2484\n",
            "Epoch 91/100\n",
            "1/1 [==============================] - 0s 8ms/step - loss: 0.2166 - mae: 0.2166\n",
            "Epoch 92/100\n",
            "1/1 [==============================] - 0s 9ms/step - loss: 0.0720 - mae: 0.0720\n",
            "Epoch 93/100\n",
            "1/1 [==============================] - 0s 11ms/step - loss: 0.0710 - mae: 0.0710\n",
            "Epoch 94/100\n",
            "1/1 [==============================] - 0s 8ms/step - loss: 0.1965 - mae: 0.1965\n",
            "Epoch 95/100\n",
            "1/1 [==============================] - 0s 9ms/step - loss: 0.1377 - mae: 0.1377\n",
            "Epoch 96/100\n",
            "1/1 [==============================] - 0s 10ms/step - loss: 0.1975 - mae: 0.1975\n",
            "Epoch 97/100\n",
            "1/1 [==============================] - 0s 9ms/step - loss: 0.1988 - mae: 0.1988\n",
            "Epoch 98/100\n",
            "1/1 [==============================] - 0s 9ms/step - loss: 0.0692 - mae: 0.0692\n",
            "Epoch 99/100\n",
            "1/1 [==============================] - 0s 9ms/step - loss: 0.0350 - mae: 0.0350\n",
            "Epoch 100/100\n",
            "1/1 [==============================] - 0s 10ms/step - loss: 0.2286 - mae: 0.2286\n"
          ]
        },
        {
          "output_type": "execute_result",
          "data": {
            "text/plain": [
              "<keras.callbacks.History at 0x7bb072fbd2a0>"
            ]
          },
          "metadata": {},
          "execution_count": 15
        }
      ],
      "source": [
        "#Rebuild our model with some differences for improving and we will do one more changing. We will delete our hidden layers and reduce the neuron number and change the activation function\n",
        "#Also we will change the optimizer function with adam and we will use the learning rate with adam. LEARNING RATE İS THE MOST IMPORTANT HYPERPARAMETER YOU CAN CHANGE ON ALL OF YOUR NEURAL NETWORK\n",
        "#Create a model\n",
        "tf.random.set_seed(42)\n",
        "model_4 = tf.keras.Sequential(\n",
        "\n",
        "  [ tf.keras.layers.Dense(50 , activation= None) ,\n",
        "    tf.keras.layers.Dense(1) ]\n",
        ")\n",
        "\n",
        "#Compile a model\n",
        "model_4.compile(loss = tf.keras.losses.mae , #mae is short for mean absolute error\n",
        "              optimizer = tf.keras.optimizers.Adam(learning_rate = 0.01) ,  #lr is the learning rate and it has the default value 0.001. If we increase this value, our model will learn better\n",
        "              metrics = [\"mae\"])\n",
        "\n",
        "#Fit the model (değişikliği burada yaptık sadece epoch sayısını 100 e çıkardık)\n",
        "model_4.fit( tf.expand_dims(X , axis = -1 ), y , epochs = 100 )"
      ]
    },
    {
      "cell_type": "code",
      "execution_count": null,
      "metadata": {
        "colab": {
          "base_uri": "https://localhost:8080/"
        },
        "id": "xWwxvhHL6Z6G",
        "outputId": "962bbfcd-7c96-482d-c0cc-c7b05da680a9"
      },
      "outputs": [
        {
          "output_type": "stream",
          "name": "stdout",
          "text": [
            "1/1 [==============================] - 0s 58ms/step\n"
          ]
        },
        {
          "output_type": "execute_result",
          "data": {
            "text/plain": [
              "array([[26.487148]], dtype=float32)"
            ]
          },
          "metadata": {},
          "execution_count": 16
        }
      ],
      "source": [
        "model_4.predict([17.0])"
      ]
    },
    {
      "cell_type": "markdown",
      "metadata": {
        "id": "6-Ayb_-76jr4"
      },
      "source": [
        "# Evaluating a model\n",
        "* Build a model => fit it => evaluate it => tweak a model(yani epochs falan değiştirme improve etme) => fit it => evaluate it ....\n",
        "\n",
        "When it comes the evaluation ... there are 3 word you should memorize:\n",
        "> Visualize , Visualize , Visualize\n",
        "It's good idea to visualize:\n",
        "* The data : What data are we working with? What does it look like?\n",
        "* The model itself : What does our model look like?\n",
        "* The training of a model : How does a model perform while it learns?\n",
        "* The predictions of the model : How do the predictions of a model line up againts the ground truth (The original dependent variables)?"
      ]
    },
    {
      "cell_type": "code",
      "execution_count": null,
      "metadata": {
        "colab": {
          "base_uri": "https://localhost:8080/"
        },
        "id": "WTYVPRyN_RXb",
        "outputId": "2b6c2b35-863a-4157-f6e1-fd79cf5374cb"
      },
      "outputs": [
        {
          "output_type": "execute_result",
          "data": {
            "text/plain": [
              "<tf.Tensor: shape=(50,), dtype=int32, numpy=\n",
              "array([-100,  -96,  -92,  -88,  -84,  -80,  -76,  -72,  -68,  -64,  -60,\n",
              "        -56,  -52,  -48,  -44,  -40,  -36,  -32,  -28,  -24,  -20,  -16,\n",
              "        -12,   -8,   -4,    0,    4,    8,   12,   16,   20,   24,   28,\n",
              "         32,   36,   40,   44,   48,   52,   56,   60,   64,   68,   72,\n",
              "         76,   80,   84,   88,   92,   96], dtype=int32)>"
            ]
          },
          "metadata": {},
          "execution_count": 17
        }
      ],
      "source": [
        "#Make a bigger dataset\n",
        "X = tf.range(-100  , 100 , 4 )\n",
        "X"
      ]
    },
    {
      "cell_type": "code",
      "execution_count": null,
      "metadata": {
        "colab": {
          "base_uri": "https://localhost:8080/"
        },
        "id": "Sn-pfc5M_W_G",
        "outputId": "89e44dec-240b-47b7-f409-7a269c7b348a"
      },
      "outputs": [
        {
          "output_type": "execute_result",
          "data": {
            "text/plain": [
              "<tf.Tensor: shape=(50,), dtype=int32, numpy=\n",
              "array([-90, -86, -82, -78, -74, -70, -66, -62, -58, -54, -50, -46, -42,\n",
              "       -38, -34, -30, -26, -22, -18, -14, -10,  -6,  -2,   2,   6,  10,\n",
              "        14,  18,  22,  26,  30,  34,  38,  42,  46,  50,  54,  58,  62,\n",
              "        66,  70,  74,  78,  82,  86,  90,  94,  98, 102, 106], dtype=int32)>"
            ]
          },
          "metadata": {},
          "execution_count": 18
        }
      ],
      "source": [
        "#Make dependent variables for our dataset\n",
        "y = X + 10\n",
        "y"
      ]
    },
    {
      "cell_type": "code",
      "execution_count": null,
      "metadata": {
        "colab": {
          "base_uri": "https://localhost:8080/",
          "height": 447
        },
        "id": "oz0RcQRF_eWU",
        "outputId": "ef62ffe6-8c58-4c97-ff01-a483340614a2"
      },
      "outputs": [
        {
          "output_type": "execute_result",
          "data": {
            "text/plain": [
              "<matplotlib.collections.PathCollection at 0x7bb07318e080>"
            ]
          },
          "metadata": {},
          "execution_count": 19
        },
        {
          "output_type": "display_data",
          "data": {
            "text/plain": [
              "<Figure size 640x480 with 1 Axes>"
            ],
            "image/png": "[encoded data removed]"
          },
          "metadata": {}
        }
      ],
      "source": [
        "#Visualize the data\n",
        "import matplotlib.pyplot as plt\n",
        "plt.scatter(X , y)"
      ]
    },
    {
      "cell_type": "markdown",
      "metadata": {
        "id": "oPg81zDy_qhR"
      },
      "source": [
        "# The 3 sets...\n",
        "* Training set : the model learns from this data , which is typically 70-80% of the total data you have available\n",
        "* Validation set : the model gets tuned on this data. Aslında tweak ettiğimiz şeyleri deniyoruz burda yani improve ettiğimizde az önce gördük overfitting de olabiliyoruz burda bunları deniyoruz. Typically 10-15% of the data available\n",
        "* Test set : The model gets evaluated on this data to test what it has learned , this set is typically 10-15% of the total data available"
      ]
    },
    {
      "cell_type": "code",
      "execution_count": null,
      "metadata": {
        "colab": {
          "base_uri": "https://localhost:8080/"
        },
        "id": "Hv01A2_mAScf",
        "outputId": "bd8bf6ec-fd95-4529-9103-1d9da8ab961d"
      },
      "outputs": [
        {
          "output_type": "execute_result",
          "data": {
            "text/plain": [
              "50"
            ]
          },
          "metadata": {},
          "execution_count": 20
        }
      ],
      "source": [
        "len(X)"
      ]
    },
    {
      "cell_type": "code",
      "execution_count": null,
      "metadata": {
        "colab": {
          "base_uri": "https://localhost:8080/"
        },
        "id": "BLb94vmKHAp0",
        "outputId": "6890891e-9eac-4f76-df20-646485079750"
      },
      "outputs": [
        {
          "output_type": "execute_result",
          "data": {
            "text/plain": [
              "(40, 10, 40, 10)"
            ]
          },
          "metadata": {},
          "execution_count": 21
        }
      ],
      "source": [
        "#Split the data into training set and test set\n",
        "X_train = X[ : 40 ]  #first 40 are training samples (%80 of the data) our model will learn on this\n",
        "y_train = y[ : 40 ]\n",
        "\n",
        "X_test = X[ 40 : ] #last 10 are testing samples (%20 of the data) want our model to be able to predict this (given x , what is y?)\n",
        "y_test = y[ 40 : ]\n",
        "\n",
        "len(X_train) , len(X_test) , len(y_train) , len(y_test)"
      ]
    },
    {
      "cell_type": "markdown",
      "metadata": {
        "id": "l-hz2DLrIElE"
      },
      "source": [
        "# Visualizing the data\n",
        "Now we have got our data in tranining set and test sets... lets visualize it again"
      ]
    },
    {
      "cell_type": "code",
      "execution_count": null,
      "metadata": {
        "colab": {
          "base_uri": "https://localhost:8080/",
          "height": 599
        },
        "id": "RUrVVfuSI_kc",
        "outputId": "cebd55f6-498b-4ab2-cb0b-d7044f558305"
      },
      "outputs": [
        {
          "output_type": "display_data",
          "data": {
            "text/plain": [
              "<Figure size 1000x700 with 1 Axes>"
            ],
            "image/png": "[encoded data removed]"
          },
          "metadata": {}
        }
      ],
      "source": [
        "plt.figure(figsize = (10,7))\n",
        "#Plot training data with blue\n",
        "plt.scatter(X_train , y_train , c = 'b' , label = \"Training set\")\n",
        "#Plot test set with green\n",
        "plt.scatter(X_test , y_test , c = 'g' , label = \"Test set\")\n",
        "plt.legend();\n"
      ]
    },
    {
      "cell_type": "code",
      "execution_count": null,
      "metadata": {
        "colab": {
          "base_uri": "https://localhost:8080/"
        },
        "id": "iHmqMT0-JXdC",
        "outputId": "d830b935-1178-4006-b1e4-36d52a61fc84"
      },
      "outputs": [
        {
          "output_type": "stream",
          "name": "stdout",
          "text": [
            "Epoch 1/100\n",
            "2/2 [==============================] - 1s 11ms/step - loss: 61.9254 - mae: 61.9254\n",
            "Epoch 2/100\n",
            "2/2 [==============================] - 0s 8ms/step - loss: 61.0482 - mae: 61.0482\n",
            "Epoch 3/100\n",
            "2/2 [==============================] - 0s 8ms/step - loss: 60.2013 - mae: 60.2013\n",
            "Epoch 4/100\n",
            "2/2 [==============================] - 0s 7ms/step - loss: 59.3403 - mae: 59.3403\n",
            "Epoch 5/100\n",
            "2/2 [==============================] - 0s 7ms/step - loss: 58.4952 - mae: 58.4952\n",
            "Epoch 6/100\n",
            "2/2 [==============================] - 0s 7ms/step - loss: 57.6424 - mae: 57.6424\n",
            "Epoch 7/100\n",
            "2/2 [==============================] - 0s 7ms/step - loss: 56.7823 - mae: 56.7823\n",
            "Epoch 8/100\n",
            "2/2 [==============================] - 0s 7ms/step - loss: 55.8896 - mae: 55.8896\n",
            "Epoch 9/100\n",
            "2/2 [==============================] - 0s 7ms/step - loss: 55.0612 - mae: 55.0612\n",
            "Epoch 10/100\n",
            "2/2 [==============================] - 0s 7ms/step - loss: 54.2232 - mae: 54.2232\n",
            "Epoch 11/100\n",
            "2/2 [==============================] - 0s 7ms/step - loss: 53.3275 - mae: 53.3275\n",
            "Epoch 12/100\n",
            "2/2 [==============================] - 0s 7ms/step - loss: 52.4795 - mae: 52.4795\n",
            "Epoch 13/100\n",
            "2/2 [==============================] - 0s 7ms/step - loss: 51.5992 - mae: 51.5992\n",
            "Epoch 14/100\n",
            "2/2 [==============================] - 0s 7ms/step - loss: 50.7619 - mae: 50.7619\n",
            "Epoch 15/100\n",
            "2/2 [==============================] - 0s 7ms/step - loss: 49.9255 - mae: 49.9255\n",
            "Epoch 16/100\n",
            "2/2 [==============================] - 0s 7ms/step - loss: 49.0531 - mae: 49.0531\n",
            "Epoch 17/100\n",
            "2/2 [==============================] - 0s 7ms/step - loss: 48.1979 - mae: 48.1979\n",
            "Epoch 18/100\n",
            "2/2 [==============================] - 0s 7ms/step - loss: 47.3522 - mae: 47.3522\n",
            "Epoch 19/100\n",
            "2/2 [==============================] - 0s 7ms/step - loss: 46.5229 - mae: 46.5229\n",
            "Epoch 20/100\n",
            "2/2 [==============================] - 0s 7ms/step - loss: 45.6621 - mae: 45.6621\n",
            "Epoch 21/100\n",
            "2/2 [==============================] - 0s 7ms/step - loss: 44.8172 - mae: 44.8172\n",
            "Epoch 22/100\n",
            "2/2 [==============================] - 0s 7ms/step - loss: 44.0049 - mae: 44.0049\n",
            "Epoch 23/100\n",
            "2/2 [==============================] - 0s 8ms/step - loss: 43.1648 - mae: 43.1648\n",
            "Epoch 24/100\n",
            "2/2 [==============================] - 0s 7ms/step - loss: 42.3189 - mae: 42.3189\n",
            "Epoch 25/100\n",
            "2/2 [==============================] - 0s 7ms/step - loss: 41.4823 - mae: 41.4823\n",
            "Epoch 26/100\n",
            "2/2 [==============================] - 0s 7ms/step - loss: 40.6670 - mae: 40.6670\n",
            "Epoch 27/100\n",
            "2/2 [==============================] - 0s 7ms/step - loss: 39.8088 - mae: 39.8088\n",
            "Epoch 28/100\n",
            "2/2 [==============================] - 0s 7ms/step - loss: 38.9906 - mae: 38.9906\n",
            "Epoch 29/100\n",
            "2/2 [==============================] - 0s 7ms/step - loss: 38.0996 - mae: 38.0996\n",
            "Epoch 30/100\n",
            "2/2 [==============================] - 0s 7ms/step - loss: 37.2273 - mae: 37.2273\n",
            "Epoch 31/100\n",
            "2/2 [==============================] - 0s 7ms/step - loss: 36.4143 - mae: 36.4143\n",
            "Epoch 32/100\n",
            "2/2 [==============================] - 0s 7ms/step - loss: 35.5295 - mae: 35.5295\n",
            "Epoch 33/100\n",
            "2/2 [==============================] - 0s 7ms/step - loss: 34.6657 - mae: 34.6657\n",
            "Epoch 34/100\n",
            "2/2 [==============================] - 0s 7ms/step - loss: 33.8432 - mae: 33.8432\n",
            "Epoch 35/100\n",
            "2/2 [==============================] - 0s 7ms/step - loss: 32.9796 - mae: 32.9796\n",
            "Epoch 36/100\n",
            "2/2 [==============================] - 0s 7ms/step - loss: 32.1948 - mae: 32.1948\n",
            "Epoch 37/100\n",
            "2/2 [==============================] - 0s 7ms/step - loss: 31.3554 - mae: 31.3554\n",
            "Epoch 38/100\n",
            "2/2 [==============================] - 0s 7ms/step - loss: 30.5499 - mae: 30.5499\n",
            "Epoch 39/100\n",
            "2/2 [==============================] - 0s 8ms/step - loss: 29.7522 - mae: 29.7522\n",
            "Epoch 40/100\n",
            "2/2 [==============================] - 0s 7ms/step - loss: 28.9519 - mae: 28.9519\n",
            "Epoch 41/100\n",
            "2/2 [==============================] - 0s 8ms/step - loss: 28.1490 - mae: 28.1490\n",
            "Epoch 42/100\n",
            "2/2 [==============================] - 0s 7ms/step - loss: 27.3690 - mae: 27.3690\n",
            "Epoch 43/100\n",
            "2/2 [==============================] - 0s 7ms/step - loss: 26.5268 - mae: 26.5268\n",
            "Epoch 44/100\n",
            "2/2 [==============================] - 0s 7ms/step - loss: 25.7753 - mae: 25.7753\n",
            "Epoch 45/100\n",
            "2/2 [==============================] - 0s 8ms/step - loss: 24.9863 - mae: 24.9863\n",
            "Epoch 46/100\n",
            "2/2 [==============================] - 0s 10ms/step - loss: 24.2401 - mae: 24.2401\n",
            "Epoch 47/100\n",
            "2/2 [==============================] - 0s 7ms/step - loss: 23.4466 - mae: 23.4466\n",
            "Epoch 48/100\n",
            "2/2 [==============================] - 0s 9ms/step - loss: 22.6918 - mae: 22.6918\n",
            "Epoch 49/100\n",
            "2/2 [==============================] - 0s 8ms/step - loss: 21.9447 - mae: 21.9447\n",
            "Epoch 50/100\n",
            "2/2 [==============================] - 0s 7ms/step - loss: 21.2051 - mae: 21.2051\n",
            "Epoch 51/100\n",
            "2/2 [==============================] - 0s 8ms/step - loss: 20.4269 - mae: 20.4269\n",
            "Epoch 52/100\n",
            "2/2 [==============================] - 0s 7ms/step - loss: 19.7115 - mae: 19.7115\n",
            "Epoch 53/100\n",
            "2/2 [==============================] - 0s 7ms/step - loss: 18.9328 - mae: 18.9328\n",
            "Epoch 54/100\n",
            "2/2 [==============================] - 0s 7ms/step - loss: 18.1672 - mae: 18.1672\n",
            "Epoch 55/100\n",
            "2/2 [==============================] - 0s 6ms/step - loss: 17.4215 - mae: 17.4215\n",
            "Epoch 56/100\n",
            "2/2 [==============================] - 0s 7ms/step - loss: 16.6490 - mae: 16.6490\n",
            "Epoch 57/100\n",
            "2/2 [==============================] - 0s 7ms/step - loss: 15.9189 - mae: 15.9189\n",
            "Epoch 58/100\n",
            "2/2 [==============================] - 0s 7ms/step - loss: 15.1702 - mae: 15.1702\n",
            "Epoch 59/100\n",
            "2/2 [==============================] - 0s 6ms/step - loss: 14.4701 - mae: 14.4701\n",
            "Epoch 60/100\n",
            "2/2 [==============================] - 0s 7ms/step - loss: 13.7859 - mae: 13.7859\n",
            "Epoch 61/100\n",
            "2/2 [==============================] - 0s 7ms/step - loss: 13.1006 - mae: 13.1006\n",
            "Epoch 62/100\n",
            "2/2 [==============================] - 0s 7ms/step - loss: 12.4887 - mae: 12.4887\n",
            "Epoch 63/100\n",
            "2/2 [==============================] - 0s 7ms/step - loss: 11.8405 - mae: 11.8405\n",
            "Epoch 64/100\n",
            "2/2 [==============================] - 0s 7ms/step - loss: 11.2568 - mae: 11.2568\n",
            "Epoch 65/100\n",
            "2/2 [==============================] - 0s 7ms/step - loss: 10.6836 - mae: 10.6836\n",
            "Epoch 66/100\n",
            "2/2 [==============================] - 0s 8ms/step - loss: 10.1493 - mae: 10.1493\n",
            "Epoch 67/100\n",
            "2/2 [==============================] - 0s 7ms/step - loss: 9.6551 - mae: 9.6551\n",
            "Epoch 68/100\n",
            "2/2 [==============================] - 0s 7ms/step - loss: 9.2124 - mae: 9.2124\n",
            "Epoch 69/100\n",
            "2/2 [==============================] - 0s 7ms/step - loss: 8.8506 - mae: 8.8506\n",
            "Epoch 70/100\n",
            "2/2 [==============================] - 0s 7ms/step - loss: 8.4890 - mae: 8.4890\n",
            "Epoch 71/100\n",
            "2/2 [==============================] - 0s 7ms/step - loss: 8.2637 - mae: 8.2637\n",
            "Epoch 72/100\n",
            "2/2 [==============================] - 0s 7ms/step - loss: 8.0857 - mae: 8.0857\n",
            "Epoch 73/100\n",
            "2/2 [==============================] - 0s 7ms/step - loss: 7.9499 - mae: 7.9499\n",
            "Epoch 74/100\n",
            "2/2 [==============================] - 0s 8ms/step - loss: 7.9377 - mae: 7.9377\n",
            "Epoch 75/100\n",
            "2/2 [==============================] - 0s 7ms/step - loss: 7.9484 - mae: 7.9484\n",
            "Epoch 76/100\n",
            "2/2 [==============================] - 0s 7ms/step - loss: 7.9795 - mae: 7.9795\n",
            "Epoch 77/100\n",
            "2/2 [==============================] - 0s 7ms/step - loss: 8.0047 - mae: 8.0047\n",
            "Epoch 78/100\n",
            "2/2 [==============================] - 0s 7ms/step - loss: 7.9959 - mae: 7.9959\n",
            "Epoch 79/100\n",
            "2/2 [==============================] - 0s 7ms/step - loss: 7.9482 - mae: 7.9482\n",
            "Epoch 80/100\n",
            "2/2 [==============================] - 0s 7ms/step - loss: 7.8722 - mae: 7.8722\n",
            "Epoch 81/100\n",
            "2/2 [==============================] - 0s 7ms/step - loss: 7.8032 - mae: 7.8032\n",
            "Epoch 82/100\n",
            "2/2 [==============================] - 0s 7ms/step - loss: 7.7351 - mae: 7.7351\n",
            "Epoch 83/100\n",
            "2/2 [==============================] - 0s 7ms/step - loss: 7.6828 - mae: 7.6828\n",
            "Epoch 84/100\n",
            "2/2 [==============================] - 0s 7ms/step - loss: 7.6592 - mae: 7.6592\n",
            "Epoch 85/100\n",
            "2/2 [==============================] - 0s 7ms/step - loss: 7.6205 - mae: 7.6205\n",
            "Epoch 86/100\n",
            "2/2 [==============================] - 0s 8ms/step - loss: 7.6092 - mae: 7.6092\n",
            "Epoch 87/100\n",
            "2/2 [==============================] - 0s 7ms/step - loss: 7.5922 - mae: 7.5922\n",
            "Epoch 88/100\n",
            "2/2 [==============================] - 0s 9ms/step - loss: 7.5611 - mae: 7.5611\n",
            "Epoch 89/100\n",
            "2/2 [==============================] - 0s 11ms/step - loss: 7.5301 - mae: 7.5301\n",
            "Epoch 90/100\n",
            "2/2 [==============================] - 0s 10ms/step - loss: 7.5084 - mae: 7.5084\n",
            "Epoch 91/100\n",
            "2/2 [==============================] - 0s 9ms/step - loss: 7.4781 - mae: 7.4781\n",
            "Epoch 92/100\n",
            "2/2 [==============================] - 0s 8ms/step - loss: 7.4577 - mae: 7.4577\n",
            "Epoch 93/100\n",
            "2/2 [==============================] - 0s 8ms/step - loss: 7.4317 - mae: 7.4317\n",
            "Epoch 94/100\n",
            "2/2 [==============================] - 0s 6ms/step - loss: 7.4079 - mae: 7.4079\n",
            "Epoch 95/100\n",
            "2/2 [==============================] - 0s 10ms/step - loss: 7.3850 - mae: 7.3850\n",
            "Epoch 96/100\n",
            "2/2 [==============================] - 0s 7ms/step - loss: 7.3661 - mae: 7.3661\n",
            "Epoch 97/100\n",
            "2/2 [==============================] - 0s 8ms/step - loss: 7.3389 - mae: 7.3389\n",
            "Epoch 98/100\n",
            "2/2 [==============================] - 0s 8ms/step - loss: 7.3156 - mae: 7.3156\n",
            "Epoch 99/100\n",
            "2/2 [==============================] - 0s 6ms/step - loss: 7.2944 - mae: 7.2944\n",
            "Epoch 100/100\n",
            "2/2 [==============================] - 0s 7ms/step - loss: 7.2736 - mae: 7.2736\n"
          ]
        },
        {
          "output_type": "execute_result",
          "data": {
            "text/plain": [
              "<keras.callbacks.History at 0x7bb072131c90>"
            ]
          },
          "metadata": {},
          "execution_count": 23
        }
      ],
      "source": [
        "#Lets have a look at how to build a neural network for our data\n",
        "\n",
        "#1) Create a model\n",
        "model = tf.keras.Sequential(\n",
        "    [tf.keras.layers.Dense(1) ]\n",
        ")\n",
        "\n",
        "# 2)Compile a model\n",
        "model.compile(loss = tf.keras.losses.mae , #mae is short for mean absolute error\n",
        "              optimizer = tf.keras.optimizers.Adam(learning_rate = 0.01) ,  #lr is the learning rate and it has the default value 0.001. If we increase this value, our model will learn better\n",
        "              metrics = [\"mae\"])\n",
        "\n",
        "# 3) Fit the model\n",
        "model.fit( tf.expand_dims(X_train , axis = -1 ), y_train , epochs = 100 )\n",
        "\n"
      ]
    },
    {
      "cell_type": "markdown",
      "metadata": {
        "id": "i7Jw6dZ3LYzX"
      },
      "source": [
        "# Visualizing a model"
      ]
    },
    {
      "cell_type": "code",
      "execution_count": null,
      "metadata": {
        "id": "9FvPukmnNlvK"
      },
      "outputs": [],
      "source": [
        "#Eğer modeli fit etmeden visualize etmek istiyorsak bunu direkt yapamıyoruz. Modelimizde layer eklerken input shape belirlememiz gerekiyor. Bizim datamızda 1 inputtan 1 output predict ettiğimiz için input shape e 1 atıcaz.\n",
        "# Let's create a model which builds automatically by defining the input_shape argument in the first layer\n",
        "tf.random.set_seed(42)\n",
        "\n",
        "# 1. Create a model (same as above)\n",
        "model = tf.keras.Sequential([\n",
        "  tf.keras.layers.Dense(10, input_shape=[1], name=\"input_layer\"),\n",
        "  tf.keras.layers.Dense(1, name=\"output_layer\")\n",
        "], name=\"model_1\")\n",
        "\n",
        "# 2. Compile the model (same as above)\n",
        "model.compile(loss=tf.keras.losses.mae,\n",
        "              optimizer=tf.keras.optimizers.SGD(),\n",
        "              metrics=[\"mae\"])"
      ]
    },
    {
      "cell_type": "code",
      "execution_count": null,
      "metadata": {
        "colab": {
          "base_uri": "https://localhost:8080/"
        },
        "id": "fO0RHJrXVaAo",
        "outputId": "b068e032-0fe6-45e7-c2d2-0b0e04258174"
      },
      "outputs": [
        {
          "output_type": "execute_result",
          "data": {
            "text/plain": [
              "<keras.callbacks.History at 0x7bb072253340>"
            ]
          },
          "metadata": {},
          "execution_count": 25
        }
      ],
      "source": [
        "# Let's fit our model to the training data\n",
        "model.fit(X_train, y_train, epochs=100, verbose=0)"
      ]
    },
    {
      "cell_type": "code",
      "execution_count": null,
      "metadata": {
        "colab": {
          "base_uri": "https://localhost:8080/"
        },
        "id": "B2_F0HuKN718",
        "outputId": "967be1ff-9120-4290-927d-ff6e9fb7c906"
      },
      "outputs": [
        {
          "output_type": "stream",
          "name": "stdout",
          "text": [
            "Model: \"model_1\"\n",
            "_________________________________________________________________\n",
            " Layer (type)                Output Shape              Param #   \n",
            "=================================================================\n",
            " input_layer (Dense)         (None, 10)                20        \n",
            "                                                                 \n",
            " output_layer (Dense)        (None, 1)                 11        \n",
            "                                                                 \n",
            "=================================================================\n",
            "Total params: 31\n",
            "Trainable params: 31\n",
            "Non-trainable params: 0\n",
            "_________________________________________________________________\n"
          ]
        }
      ],
      "source": [
        "model.summary()  #bu şekilde modelimizi visualize ediyoruz."
      ]
    },
    {
      "cell_type": "markdown",
      "metadata": {
        "id": "PIl79q4_OBM7"
      },
      "source": [
        "# Total params : total number of parameters in the model\n",
        "* Trainable params : these are the parameters (patterns) the model can uptade as it trains\n",
        "* non-trainable params : these parameters arent uptaded during training (this is typical when you bring already learned patterns or parameters from other models during transfer learning\n"
      ]
    },
    {
      "cell_type": "code",
      "execution_count": null,
      "metadata": {
        "colab": {
          "base_uri": "https://localhost:8080/",
          "height": 312
        },
        "id": "mDfo8-xbTzUe",
        "outputId": "a461eff9-d6d6-481f-f6e5-2efb4c26ec1b"
      },
      "outputs": [
        {
          "output_type": "execute_result",
          "data": {
            "image/png": "[encoded data removed]",
            "text/plain": [
              "<IPython.core.display.Image object>"
            ]
          },
          "metadata": {},
          "execution_count": 27
        }
      ],
      "source": [
        "from tensorflow.keras.utils import plot_model\n",
        "\n",
        "plot_model(model=model, show_shapes=True)"
      ]
    },
    {
      "cell_type": "markdown",
      "metadata": {
        "id": "MbE6JuHPUDC1"
      },
      "source": [
        "# Visualizing our model's predictions\n",
        "To visualize predictions , its a good idea to plot them against the ground truth labels (dependent variables)\n",
        "Often you will see this in the form of y_test versus y_pred"
      ]
    },
    {
      "cell_type": "code",
      "execution_count": null,
      "metadata": {
        "colab": {
          "base_uri": "https://localhost:8080/"
        },
        "id": "D0GP487EVMuA",
        "outputId": "c1ca1bf1-42bd-499e-8a38-86e378cbdae8"
      },
      "outputs": [
        {
          "output_type": "stream",
          "name": "stderr",
          "text": [
            "WARNING:tensorflow:5 out of the last 5 calls to <function Model.make_predict_function.<locals>.predict_function at 0x7bb0720e7c70> triggered tf.function retracing. Tracing is expensive and the excessive number of tracings could be due to (1) creating @tf.function repeatedly in a loop, (2) passing tensors with different shapes, (3) passing Python objects instead of tensors. For (1), please define your @tf.function outside of the loop. For (2), @tf.function has reduce_retracing=True option that can avoid unnecessary retracing. For (3), please refer to https://www.tensorflow.org/guide/function#controlling_retracing and https://www.tensorflow.org/api_docs/python/tf/function for  more details.\n"
          ]
        },
        {
          "output_type": "stream",
          "name": "stdout",
          "text": [
            "1/1 [==============================] - 0s 47ms/step\n"
          ]
        },
        {
          "output_type": "execute_result",
          "data": {
            "text/plain": [
              "array([[ 81.673454],\n",
              "       [ 87.00177 ],\n",
              "       [ 92.33009 ],\n",
              "       [ 97.658424],\n",
              "       [102.98675 ],\n",
              "       [108.31507 ],\n",
              "       [113.643394],\n",
              "       [118.97171 ],\n",
              "       [124.30004 ],\n",
              "       [129.62836 ]], dtype=float32)"
            ]
          },
          "metadata": {},
          "execution_count": 28
        }
      ],
      "source": [
        "# Make some predictions\n",
        "y_pred = model.predict(X_test)\n",
        "y_pred"
      ]
    },
    {
      "cell_type": "code",
      "execution_count": null,
      "metadata": {
        "colab": {
          "base_uri": "https://localhost:8080/"
        },
        "id": "GX-5LPoxVsAu",
        "outputId": "91a09ea1-8e76-422e-a28a-15685100f35e"
      },
      "outputs": [
        {
          "output_type": "execute_result",
          "data": {
            "text/plain": [
              "<tf.Tensor: shape=(10,), dtype=int32, numpy=array([ 70,  74,  78,  82,  86,  90,  94,  98, 102, 106], dtype=int32)>"
            ]
          },
          "metadata": {},
          "execution_count": 29
        }
      ],
      "source": [
        "y_test"
      ]
    },
    {
      "cell_type": "code",
      "execution_count": null,
      "metadata": {
        "id": "WvrU3IGYWnBE"
      },
      "outputs": [],
      "source": [
        "# Let's create a plotting function\n",
        "def plot_predictions(train_data=X_train,\n",
        "                     train_labels=y_train,\n",
        "                     test_data=X_test,\n",
        "                     test_labels=y_test,\n",
        "                     predictions=y_pred):\n",
        "  \"\"\"\n",
        "  Plots training data, test data and compares predictions to ground truth labels.\n",
        "  \"\"\"\n",
        "  plt.figure(figsize=(10, 7))\n",
        "  # Plot training data in blue\n",
        "  plt.scatter(train_data, train_labels, c=\"b\", label=\"Training data\")\n",
        "  # Plot testing data in green\n",
        "  plt.scatter(test_data, test_labels, c=\"g\", label=\"Testing data\")\n",
        "  # Plot model's predictions in red\n",
        "  plt.scatter(test_data, predictions, c=\"r\", label=\"Predictions\")\n",
        "  # Show the legend\n",
        "  plt.legend();"
      ]
    },
    {
      "cell_type": "code",
      "execution_count": null,
      "metadata": {
        "colab": {
          "base_uri": "https://localhost:8080/",
          "height": 599
        },
        "id": "DLkVF1IJYZHw",
        "outputId": "cf699bd4-a416-4cbe-8faa-8277992e41c3"
      },
      "outputs": [
        {
          "output_type": "display_data",
          "data": {
            "text/plain": [
              "<Figure size 1000x700 with 1 Axes>"
            ],
            "image/png": "[encoded data removed]"
          },
          "metadata": {}
        }
      ],
      "source": [
        "plot_predictions()"
      ]
    },
    {
      "cell_type": "markdown",
      "metadata": {
        "id": "bWlpOzIMYbQC"
      },
      "source": [
        "# Evaluating our model's predictions with regression evaluation metrics\n",
        "\n",
        "Depending on the problem you are working on , there will be different evaluation metrics to evaluate your model's performance\n",
        "Since we are working on a regression , two of the main metrics\n",
        "* 1)MAE - mean absolute error - on average, how wrong is each of my model's predictions\n",
        "* 2)MSE - mean square error - square the average errors"
      ]
    },
    {
      "cell_type": "code",
      "execution_count": null,
      "metadata": {
        "colab": {
          "base_uri": "https://localhost:8080/"
        },
        "id": "nljKl2V4bFcj",
        "outputId": "9eb46bde-1a9d-46f0-d9d4-06ff215690fc"
      },
      "outputs": [
        {
          "output_type": "stream",
          "name": "stdout",
          "text": [
            "1/1 [==============================] - 0s 120ms/step - loss: 17.6509 - mae: 17.6509\n"
          ]
        },
        {
          "output_type": "execute_result",
          "data": {
            "text/plain": [
              "[17.65090560913086, 17.65090560913086]"
            ]
          },
          "metadata": {},
          "execution_count": 32
        }
      ],
      "source": [
        "model.evaluate(X_test , y_test)"
      ]
    },
    {
      "cell_type": "code",
      "execution_count": null,
      "metadata": {
        "colab": {
          "base_uri": "https://localhost:8080/"
        },
        "id": "9SMMEkJ0bJVr",
        "outputId": "ee7295e1-72f5-48b3-e48f-901ba2bda890"
      },
      "outputs": [
        {
          "output_type": "execute_result",
          "data": {
            "text/plain": [
              "array([[ 81.673454],\n",
              "       [ 87.00177 ],\n",
              "       [ 92.33009 ],\n",
              "       [ 97.658424],\n",
              "       [102.98675 ],\n",
              "       [108.31507 ],\n",
              "       [113.643394],\n",
              "       [118.97171 ],\n",
              "       [124.30004 ],\n",
              "       [129.62836 ]], dtype=float32)"
            ]
          },
          "metadata": {},
          "execution_count": 33
        }
      ],
      "source": [
        "y_pred"
      ]
    },
    {
      "cell_type": "code",
      "execution_count": null,
      "metadata": {
        "colab": {
          "base_uri": "https://localhost:8080/"
        },
        "id": "l6kpfDjebxVX",
        "outputId": "1c0823f0-0403-49ad-a85a-b50d9cd68e0e"
      },
      "outputs": [
        {
          "output_type": "execute_result",
          "data": {
            "text/plain": [
              "<tf.Tensor: shape=(10,), dtype=int32, numpy=array([ 70,  74,  78,  82,  86,  90,  94,  98, 102, 106], dtype=int32)>"
            ]
          },
          "metadata": {},
          "execution_count": 34
        }
      ],
      "source": [
        "y_test"
      ]
    },
    {
      "cell_type": "code",
      "execution_count": null,
      "metadata": {
        "colab": {
          "base_uri": "https://localhost:8080/"
        },
        "id": "pNrIac5AeCB9",
        "outputId": "f856bd3d-f8cd-446d-c960-eb3a5457835d"
      },
      "outputs": [
        {
          "output_type": "execute_result",
          "data": {
            "text/plain": [
              "<tf.Tensor: shape=(10,), dtype=float32, numpy=\n",
              "array([10.930618, 10.      , 10.466019, 12.26337 , 15.589398, 20.315071,\n",
              "       25.643396, 30.97171 , 36.30004 , 41.628357], dtype=float32)>"
            ]
          },
          "metadata": {},
          "execution_count": 35
        }
      ],
      "source": [
        "#Calculate the mean absolute error\n",
        "tf.keras.metrics.mean_absolute_error(\n",
        "    y_test, y_pred\n",
        ")  #burda en başta saçma şeyler bulduk çünkü bizim y_predimizle y_testimiz aynı shape de değil. Bu yüzden squeeze metodu ile y_preddeki fazlalık shape i silicez. mean absolute errorda iki parametre de aynı shape te olmak zorunda"
      ]
    },
    {
      "cell_type": "code",
      "execution_count": null,
      "metadata": {
        "colab": {
          "base_uri": "https://localhost:8080/"
        },
        "id": "DlM97VfgePx4",
        "outputId": "ca3df817-fb5a-4651-cd6a-931baca71851"
      },
      "outputs": [
        {
          "output_type": "execute_result",
          "data": {
            "text/plain": [
              "<tf.Tensor: shape=(10, 1), dtype=float32, numpy=\n",
              "array([[ 81.673454],\n",
              "       [ 87.00177 ],\n",
              "       [ 92.33009 ],\n",
              "       [ 97.658424],\n",
              "       [102.98675 ],\n",
              "       [108.31507 ],\n",
              "       [113.643394],\n",
              "       [118.97171 ],\n",
              "       [124.30004 ],\n",
              "       [129.62836 ]], dtype=float32)>"
            ]
          },
          "metadata": {},
          "execution_count": 36
        }
      ],
      "source": [
        "tf.constant(y_pred)  #gördüğümüz gibi (10,1) var bu 1 i silicez."
      ]
    },
    {
      "cell_type": "code",
      "execution_count": null,
      "metadata": {
        "colab": {
          "base_uri": "https://localhost:8080/"
        },
        "id": "InqeUwVsgl5h",
        "outputId": "8c19b844-c035-4166-d0be-f9feef171357"
      },
      "outputs": [
        {
          "output_type": "execute_result",
          "data": {
            "text/plain": [
              "<tf.Tensor: shape=(10,), dtype=float32, numpy=\n",
              "array([ 81.673454,  87.00177 ,  92.33009 ,  97.658424, 102.98675 ,\n",
              "       108.31507 , 113.643394, 118.97171 , 124.30004 , 129.62836 ],\n",
              "      dtype=float32)>"
            ]
          },
          "metadata": {},
          "execution_count": 37
        }
      ],
      "source": [
        "tf.squeeze(y_pred)"
      ]
    },
    {
      "cell_type": "code",
      "execution_count": null,
      "metadata": {
        "colab": {
          "base_uri": "https://localhost:8080/"
        },
        "id": "Eqe9JUitgvBG",
        "outputId": "b9c3bda9-009c-4331-d806-f835f98798f6"
      },
      "outputs": [
        {
          "output_type": "execute_result",
          "data": {
            "text/plain": [
              "<tf.Tensor: shape=(), dtype=float32, numpy=17.650906>"
            ]
          },
          "metadata": {},
          "execution_count": 38
        }
      ],
      "source": [
        "#Calculate the mean absolute error\n",
        "mae = tf.keras.metrics.mean_absolute_error(\n",
        "    y_true = y_test, y_pred = tf.squeeze(y_pred)\n",
        ")\n",
        "mae"
      ]
    },
    {
      "cell_type": "code",
      "execution_count": null,
      "metadata": {
        "colab": {
          "base_uri": "https://localhost:8080/"
        },
        "id": "mFV9LXZGgziB",
        "outputId": "518d0b9b-0135-4698-ece8-be3b6c8231ce"
      },
      "outputs": [
        {
          "output_type": "execute_result",
          "data": {
            "text/plain": [
              "<tf.Tensor: shape=(), dtype=float32, numpy=326.11115>"
            ]
          },
          "metadata": {},
          "execution_count": 39
        }
      ],
      "source": [
        "#Calculate the mean squared error\n",
        "mse = tf.keras.metrics.mean_squared_error( y_true = y_test ,\n",
        "                                          y_pred = tf.squeeze(y_pred))\n",
        "mse"
      ]
    },
    {
      "cell_type": "markdown",
      "metadata": {
        "id": "HqIPswpLh_F5"
      },
      "source": [
        "# Running experiments to improve our model\n",
        "Build a model => fit it => evaluate it => tweak a model(yani epochs falan değiştirme improve etme) => fit it => evaluate it ....\n",
        "* 1) Get more data - Get more examples for your model to train on (more opportunities to learn patterns or relationships between features and labels)\n",
        "* 2) Make your model larger (using a more complex model) -  this might come in the form of more layers or more hidden units in each layer\n",
        "* 3) Train for longer - give your model more of a chance to find patterns in the data\n",
        "--------------------------------------------------------------------------------------------------\n",
        "* Lets do 3 modelling experiments:\n",
        "* 1)model1 - same as the original model, 1 layer , trained for 100 epochs\n",
        "* 2)model2 - 2 layers , trained for 100 epochs\n",
        "* 3)model3 - 2 layers , trained for 500 epochs"
      ]
    },
    {
      "cell_type": "code",
      "execution_count": null,
      "metadata": {
        "colab": {
          "base_uri": "https://localhost:8080/"
        },
        "id": "YuITS9W7twLV",
        "outputId": "299a92c8-f284-4764-a754-004624d72a10"
      },
      "outputs": [
        {
          "output_type": "stream",
          "name": "stdout",
          "text": [
            "Epoch 1/100\n",
            "2/2 [==============================] - 1s 15ms/step - loss: 20.2434 - mae: 20.2434\n",
            "Epoch 2/100\n",
            "2/2 [==============================] - 0s 8ms/step - loss: 7.8410 - mae: 7.8410\n",
            "Epoch 3/100\n",
            "2/2 [==============================] - 0s 10ms/step - loss: 16.2197 - mae: 16.2197\n",
            "Epoch 4/100\n",
            "2/2 [==============================] - 0s 8ms/step - loss: 8.6333 - mae: 8.6333\n",
            "Epoch 5/100\n",
            "2/2 [==============================] - 0s 21ms/step - loss: 10.8738 - mae: 10.8738\n",
            "Epoch 6/100\n",
            "2/2 [==============================] - 0s 8ms/step - loss: 10.0516 - mae: 10.0516\n",
            "Epoch 7/100\n",
            "2/2 [==============================] - 0s 10ms/step - loss: 9.0898 - mae: 9.0898\n",
            "Epoch 8/100\n",
            "2/2 [==============================] - 0s 10ms/step - loss: 9.0903 - mae: 9.0903\n",
            "Epoch 9/100\n",
            "2/2 [==============================] - 0s 10ms/step - loss: 15.0227 - mae: 15.0227\n",
            "Epoch 10/100\n",
            "2/2 [==============================] - 0s 11ms/step - loss: 7.5872 - mae: 7.5872\n",
            "Epoch 11/100\n",
            "2/2 [==============================] - 0s 9ms/step - loss: 11.3708 - mae: 11.3708\n",
            "Epoch 12/100\n",
            "2/2 [==============================] - 0s 9ms/step - loss: 16.9538 - mae: 16.9538\n",
            "Epoch 13/100\n",
            "2/2 [==============================] - 0s 8ms/step - loss: 12.0495 - mae: 12.0495\n",
            "Epoch 14/100\n",
            "2/2 [==============================] - 0s 7ms/step - loss: 14.0154 - mae: 14.0154\n",
            "Epoch 15/100\n",
            "2/2 [==============================] - 0s 12ms/step - loss: 11.4099 - mae: 11.4099\n",
            "Epoch 16/100\n",
            "2/2 [==============================] - 0s 14ms/step - loss: 8.5400 - mae: 8.5400\n",
            "Epoch 17/100\n",
            "2/2 [==============================] - 0s 10ms/step - loss: 13.6349 - mae: 13.6349\n",
            "Epoch 18/100\n",
            "2/2 [==============================] - 0s 9ms/step - loss: 11.4627 - mae: 11.4627\n",
            "Epoch 19/100\n",
            "2/2 [==============================] - 0s 9ms/step - loss: 17.9178 - mae: 17.9178\n",
            "Epoch 20/100\n",
            "2/2 [==============================] - 0s 11ms/step - loss: 15.0524 - mae: 15.0524\n",
            "Epoch 21/100\n",
            "2/2 [==============================] - 0s 7ms/step - loss: 11.0244 - mae: 11.0244\n",
            "Epoch 22/100\n",
            "2/2 [==============================] - 0s 17ms/step - loss: 8.1586 - mae: 8.1586\n",
            "Epoch 23/100\n",
            "2/2 [==============================] - 0s 8ms/step - loss: 9.5140 - mae: 9.5140\n",
            "Epoch 24/100\n",
            "2/2 [==============================] - 0s 11ms/step - loss: 7.6635 - mae: 7.6635\n",
            "Epoch 25/100\n",
            "2/2 [==============================] - 0s 9ms/step - loss: 13.1840 - mae: 13.1840\n",
            "Epoch 26/100\n",
            "2/2 [==============================] - 0s 8ms/step - loss: 16.4240 - mae: 16.4240\n",
            "Epoch 27/100\n",
            "2/2 [==============================] - 0s 10ms/step - loss: 13.1686 - mae: 13.1686\n",
            "Epoch 28/100\n",
            "2/2 [==============================] - 0s 18ms/step - loss: 14.2591 - mae: 14.2591\n",
            "Epoch 29/100\n",
            "2/2 [==============================] - 0s 8ms/step - loss: 10.0689 - mae: 10.0689\n",
            "Epoch 30/100\n",
            "2/2 [==============================] - 0s 9ms/step - loss: 16.3449 - mae: 16.3449\n",
            "Epoch 31/100\n",
            "2/2 [==============================] - 0s 9ms/step - loss: 23.6418 - mae: 23.6418\n",
            "Epoch 32/100\n",
            "2/2 [==============================] - 0s 16ms/step - loss: 7.6224 - mae: 7.6224\n",
            "Epoch 33/100\n",
            "2/2 [==============================] - 0s 13ms/step - loss: 9.3228 - mae: 9.3228\n",
            "Epoch 34/100\n",
            "2/2 [==============================] - 0s 13ms/step - loss: 13.7303 - mae: 13.7303\n",
            "Epoch 35/100\n",
            "2/2 [==============================] - 0s 11ms/step - loss: 11.1302 - mae: 11.1302\n",
            "Epoch 36/100\n",
            "2/2 [==============================] - 0s 16ms/step - loss: 13.3256 - mae: 13.3256\n",
            "Epoch 37/100\n",
            "2/2 [==============================] - 0s 11ms/step - loss: 9.4767 - mae: 9.4767\n",
            "Epoch 38/100\n",
            "2/2 [==============================] - 0s 11ms/step - loss: 10.1382 - mae: 10.1382\n",
            "Epoch 39/100\n",
            "2/2 [==============================] - 0s 12ms/step - loss: 10.1819 - mae: 10.1819\n",
            "Epoch 40/100\n",
            "2/2 [==============================] - 0s 12ms/step - loss: 10.9165 - mae: 10.9165\n",
            "Epoch 41/100\n",
            "2/2 [==============================] - 0s 29ms/step - loss: 7.9090 - mae: 7.9090\n",
            "Epoch 42/100\n",
            "2/2 [==============================] - 0s 11ms/step - loss: 10.0916 - mae: 10.0916\n",
            "Epoch 43/100\n",
            "2/2 [==============================] - 0s 14ms/step - loss: 8.7015 - mae: 8.7015\n",
            "Epoch 44/100\n",
            "2/2 [==============================] - 0s 28ms/step - loss: 12.2036 - mae: 12.2036\n",
            "Epoch 45/100\n",
            "2/2 [==============================] - 0s 23ms/step - loss: 13.8001 - mae: 13.8001\n",
            "Epoch 46/100\n",
            "2/2 [==============================] - 0s 21ms/step - loss: 8.4715 - mae: 8.4715\n",
            "Epoch 47/100\n",
            "2/2 [==============================] - 0s 29ms/step - loss: 9.1334 - mae: 9.1334\n",
            "Epoch 48/100\n",
            "2/2 [==============================] - 0s 14ms/step - loss: 10.6189 - mae: 10.6189\n",
            "Epoch 49/100\n",
            "2/2 [==============================] - 0s 22ms/step - loss: 7.7507 - mae: 7.7507\n",
            "Epoch 50/100\n",
            "2/2 [==============================] - 0s 16ms/step - loss: 9.5407 - mae: 9.5407\n",
            "Epoch 51/100\n",
            "2/2 [==============================] - 0s 18ms/step - loss: 9.1595 - mae: 9.1595\n",
            "Epoch 52/100\n",
            "2/2 [==============================] - 0s 13ms/step - loss: 16.3606 - mae: 16.3606\n",
            "Epoch 53/100\n",
            "2/2 [==============================] - 0s 14ms/step - loss: 14.1322 - mae: 14.1322\n",
            "Epoch 54/100\n",
            "2/2 [==============================] - 0s 16ms/step - loss: 21.1286 - mae: 21.1286\n",
            "Epoch 55/100\n",
            "2/2 [==============================] - 0s 23ms/step - loss: 16.3942 - mae: 16.3942\n",
            "Epoch 56/100\n",
            "2/2 [==============================] - 0s 28ms/step - loss: 9.9837 - mae: 9.9837\n",
            "Epoch 57/100\n",
            "2/2 [==============================] - 0s 19ms/step - loss: 9.9608 - mae: 9.9608\n",
            "Epoch 58/100\n",
            "2/2 [==============================] - 0s 31ms/step - loss: 9.2212 - mae: 9.2212\n",
            "Epoch 59/100\n",
            "2/2 [==============================] - 0s 33ms/step - loss: 8.4241 - mae: 8.4241\n",
            "Epoch 60/100\n",
            "2/2 [==============================] - 0s 24ms/step - loss: 9.4875 - mae: 9.4875\n",
            "Epoch 61/100\n",
            "2/2 [==============================] - 0s 18ms/step - loss: 11.4352 - mae: 11.4352\n",
            "Epoch 62/100\n",
            "2/2 [==============================] - 0s 20ms/step - loss: 11.6919 - mae: 11.6919\n",
            "Epoch 63/100\n",
            "2/2 [==============================] - 0s 15ms/step - loss: 7.0846 - mae: 7.0846\n",
            "Epoch 64/100\n",
            "2/2 [==============================] - 0s 15ms/step - loss: 16.9705 - mae: 16.9705\n",
            "Epoch 65/100\n",
            "2/2 [==============================] - 0s 27ms/step - loss: 12.4626 - mae: 12.4626\n",
            "Epoch 66/100\n",
            "2/2 [==============================] - 0s 8ms/step - loss: 13.0215 - mae: 13.0215\n",
            "Epoch 67/100\n",
            "2/2 [==============================] - 0s 13ms/step - loss: 8.0621 - mae: 8.0621\n",
            "Epoch 68/100\n",
            "2/2 [==============================] - 0s 17ms/step - loss: 10.1913 - mae: 10.1913\n",
            "Epoch 69/100\n",
            "2/2 [==============================] - 0s 17ms/step - loss: 12.3666 - mae: 12.3666\n",
            "Epoch 70/100\n",
            "2/2 [==============================] - 0s 15ms/step - loss: 9.0520 - mae: 9.0520\n",
            "Epoch 71/100\n",
            "2/2 [==============================] - 0s 50ms/step - loss: 10.0381 - mae: 10.0381\n",
            "Epoch 72/100\n",
            "2/2 [==============================] - 0s 14ms/step - loss: 10.0521 - mae: 10.0521\n",
            "Epoch 73/100\n",
            "2/2 [==============================] - 0s 18ms/step - loss: 12.6144 - mae: 12.6144\n",
            "Epoch 74/100\n",
            "2/2 [==============================] - 0s 13ms/step - loss: 10.3853 - mae: 10.3853\n",
            "Epoch 75/100\n",
            "2/2 [==============================] - 0s 16ms/step - loss: 9.7232 - mae: 9.7232\n",
            "Epoch 76/100\n",
            "2/2 [==============================] - 0s 9ms/step - loss: 11.2252 - mae: 11.2252\n",
            "Epoch 77/100\n",
            "2/2 [==============================] - 0s 15ms/step - loss: 8.3646 - mae: 8.3646\n",
            "Epoch 78/100\n",
            "2/2 [==============================] - 0s 13ms/step - loss: 9.1272 - mae: 9.1272\n",
            "Epoch 79/100\n",
            "2/2 [==============================] - 0s 21ms/step - loss: 19.5077 - mae: 19.5077\n",
            "Epoch 80/100\n",
            "2/2 [==============================] - 0s 19ms/step - loss: 14.8929 - mae: 14.8929\n",
            "Epoch 81/100\n",
            "2/2 [==============================] - 0s 29ms/step - loss: 9.0071 - mae: 9.0071\n",
            "Epoch 82/100\n",
            "2/2 [==============================] - 0s 29ms/step - loss: 13.0196 - mae: 13.0196\n",
            "Epoch 83/100\n",
            "2/2 [==============================] - 0s 18ms/step - loss: 7.9299 - mae: 7.9299\n",
            "Epoch 84/100\n",
            "2/2 [==============================] - 0s 27ms/step - loss: 7.6892 - mae: 7.6892\n",
            "Epoch 85/100\n",
            "2/2 [==============================] - 0s 29ms/step - loss: 10.0355 - mae: 10.0355\n",
            "Epoch 86/100\n",
            "2/2 [==============================] - 0s 12ms/step - loss: 9.2456 - mae: 9.2456\n",
            "Epoch 87/100\n",
            "2/2 [==============================] - 0s 13ms/step - loss: 12.0236 - mae: 12.0236\n",
            "Epoch 88/100\n",
            "2/2 [==============================] - 0s 20ms/step - loss: 10.6418 - mae: 10.6418\n",
            "Epoch 89/100\n",
            "2/2 [==============================] - 0s 17ms/step - loss: 7.2682 - mae: 7.2682\n",
            "Epoch 90/100\n",
            "2/2 [==============================] - 0s 19ms/step - loss: 12.7817 - mae: 12.7817\n",
            "Epoch 91/100\n",
            "2/2 [==============================] - 0s 17ms/step - loss: 7.4705 - mae: 7.4705\n",
            "Epoch 92/100\n",
            "2/2 [==============================] - 0s 17ms/step - loss: 6.7574 - mae: 6.7574\n",
            "Epoch 93/100\n",
            "2/2 [==============================] - 0s 16ms/step - loss: 11.9330 - mae: 11.9330\n",
            "Epoch 94/100\n",
            "2/2 [==============================] - 0s 15ms/step - loss: 8.8696 - mae: 8.8696\n",
            "Epoch 95/100\n",
            "2/2 [==============================] - 0s 10ms/step - loss: 7.7137 - mae: 7.7137\n",
            "Epoch 96/100\n",
            "2/2 [==============================] - 0s 7ms/step - loss: 6.7504 - mae: 6.7504\n",
            "Epoch 97/100\n",
            "2/2 [==============================] - 0s 14ms/step - loss: 8.6178 - mae: 8.6178\n",
            "Epoch 98/100\n",
            "2/2 [==============================] - 0s 15ms/step - loss: 9.4051 - mae: 9.4051\n",
            "Epoch 99/100\n",
            "2/2 [==============================] - 0s 15ms/step - loss: 9.1389 - mae: 9.1389\n",
            "Epoch 100/100\n",
            "2/2 [==============================] - 0s 14ms/step - loss: 10.5004 - mae: 10.5004\n"
          ]
        },
        {
          "output_type": "execute_result",
          "data": {
            "text/plain": [
              "<keras.callbacks.History at 0x7baff84a0340>"
            ]
          },
          "metadata": {},
          "execution_count": 44
        }
      ],
      "source": [
        "#model1\n",
        "#set random seed\n",
        "tf.random.set_seed(42)\n",
        "\n",
        "#Create a model\n",
        "\n",
        "model_11 = tf.keras.Sequential(\n",
        "    [tf.keras.layers.Dense(1)]\n",
        ")\n",
        "\n",
        "#Compiling a model\n",
        "\n",
        "model_11.compile(loss=tf.keras.losses.mae,\n",
        "              optimizer=tf.keras.optimizers.SGD(),\n",
        "              metrics=[\"mae\"])\n",
        "\n",
        "#Fit a model\n",
        "model_11.fit( tf.expand_dims(X_train , axis = -1 ), y_train , epochs = 100 )"
      ]
    },
    {
      "cell_type": "code",
      "execution_count": null,
      "metadata": {
        "id": "-b0BoP0IOHJo",
        "colab": {
          "base_uri": "https://localhost:8080/",
          "height": 654
        },
        "outputId": "04e6b006-244d-42c6-fa99-854348325a39"
      },
      "outputs": [
        {
          "output_type": "stream",
          "name": "stderr",
          "text": [
            "WARNING:tensorflow:6 out of the last 6 calls to <function Model.make_predict_function.<locals>.predict_function at 0x7bb03b92a200> triggered tf.function retracing. Tracing is expensive and the excessive number of tracings could be due to (1) creating @tf.function repeatedly in a loop, (2) passing tensors with different shapes, (3) passing Python objects instead of tensors. For (1), please define your @tf.function outside of the loop. For (2), @tf.function has reduce_retracing=True option that can avoid unnecessary retracing. For (3), please refer to https://www.tensorflow.org/guide/function#controlling_retracing and https://www.tensorflow.org/api_docs/python/tf/function for  more details.\n"
          ]
        },
        {
          "output_type": "stream",
          "name": "stdout",
          "text": [
            "1/1 [==============================] - 0s 49ms/step\n"
          ]
        },
        {
          "output_type": "display_data",
          "data": {
            "text/plain": [
              "<Figure size 1000x700 with 1 Axes>"
            ],
            "image/png": "[encoded data removed]"
          },
          "metadata": {}
        }
      ],
      "source": [
        "y_preds_1 = model_11.predict(X_test)\n",
        "plot_predictions( predictions = y_preds_1)"
      ]
    },
    {
      "cell_type": "code",
      "source": [
        "mae_1 = tf.keras.metrics.mean_absolute_error(\n",
        "    y_true = y_test, y_pred = tf.squeeze(y_preds_1)\n",
        ")\n",
        "mse_1 = tf.keras.metrics.mean_squared_error( y_true = y_test ,\n",
        "                                          y_pred = tf.squeeze(y_preds_1))\n",
        "\n",
        "mae_1 , mse_1\n"
      ],
      "metadata": {
        "colab": {
          "base_uri": "https://localhost:8080/"
        },
        "id": "cCs7z0LZS1FC",
        "outputId": "c9baf0e7-1a74-4c20-8355-a29edb09792f"
      },
      "execution_count": null,
      "outputs": [
        {
          "output_type": "execute_result",
          "data": {
            "text/plain": [
              "(<tf.Tensor: shape=(), dtype=float32, numpy=14.851092>,\n",
              " <tf.Tensor: shape=(), dtype=float32, numpy=221.37436>)"
            ]
          },
          "metadata": {},
          "execution_count": 67
        }
      ]
    },
    {
      "cell_type": "code",
      "source": [
        "#For model 2\n",
        "#Create a model\n",
        "tf.random.set_seed(42)\n",
        "\n",
        "model_12 = tf.keras.Sequential(\n",
        "    [tf.keras.layers.Dense(10) ,\n",
        "     tf.keras.layers.Dense(1)\n",
        "     ]\n",
        ")\n",
        "\n",
        "#Compile a model\n",
        "\n",
        "model_12.compile( loss = tf.keras.losses.mae ,\n",
        "                 optimizer = tf.keras.optimizers.SGD() ,\n",
        "                 metrics = [\"mae\"]\n",
        "                  )\n",
        "\n",
        "#Fit the model\n",
        "model_12.fit( tf.expand_dims(X_train , axis = -1 ), y_train , epochs = 100 )\n",
        "\n",
        "\n"
      ],
      "metadata": {
        "colab": {
          "base_uri": "https://localhost:8080/"
        },
        "id": "aiPF2g89TOZD",
        "outputId": "3bb12cbf-1a46-48c5-e597-3c5e03b52274"
      },
      "execution_count": null,
      "outputs": [
        {
          "output_type": "stream",
          "name": "stdout",
          "text": [
            "Epoch 1/100\n",
            "2/2 [==============================] - 1s 12ms/step - loss: 14.2972 - mae: 14.2972\n",
            "Epoch 2/100\n",
            "2/2 [==============================] - 0s 7ms/step - loss: 24.0831 - mae: 24.0831\n",
            "Epoch 3/100\n",
            "2/2 [==============================] - 0s 7ms/step - loss: 19.4043 - mae: 19.4043\n",
            "Epoch 4/100\n",
            "2/2 [==============================] - 0s 7ms/step - loss: 14.1300 - mae: 14.1300\n",
            "Epoch 5/100\n",
            "2/2 [==============================] - 0s 6ms/step - loss: 19.7013 - mae: 19.7013\n",
            "Epoch 6/100\n",
            "2/2 [==============================] - 0s 6ms/step - loss: 9.0711 - mae: 9.0711\n",
            "Epoch 7/100\n",
            "2/2 [==============================] - 0s 6ms/step - loss: 15.0197 - mae: 15.0197\n",
            "Epoch 8/100\n",
            "2/2 [==============================] - 0s 6ms/step - loss: 16.1194 - mae: 16.1194\n",
            "Epoch 9/100\n",
            "2/2 [==============================] - 0s 6ms/step - loss: 27.9580 - mae: 27.9580\n",
            "Epoch 10/100\n",
            "2/2 [==============================] - 0s 6ms/step - loss: 15.1413 - mae: 15.1413\n",
            "Epoch 11/100\n",
            "2/2 [==============================] - 0s 7ms/step - loss: 9.3094 - mae: 9.3094\n",
            "Epoch 12/100\n",
            "2/2 [==============================] - 0s 7ms/step - loss: 19.0830 - mae: 19.0830\n",
            "Epoch 13/100\n",
            "2/2 [==============================] - 0s 7ms/step - loss: 11.9258 - mae: 11.9258\n",
            "Epoch 14/100\n",
            "2/2 [==============================] - 0s 13ms/step - loss: 33.4704 - mae: 33.4704\n",
            "Epoch 15/100\n",
            "2/2 [==============================] - 0s 9ms/step - loss: 21.6216 - mae: 21.6216\n",
            "Epoch 16/100\n",
            "2/2 [==============================] - 0s 6ms/step - loss: 9.6843 - mae: 9.6843\n",
            "Epoch 17/100\n",
            "2/2 [==============================] - 0s 7ms/step - loss: 16.8423 - mae: 16.8423\n",
            "Epoch 18/100\n",
            "2/2 [==============================] - 0s 7ms/step - loss: 16.6667 - mae: 16.6667\n",
            "Epoch 19/100\n",
            "2/2 [==============================] - 0s 7ms/step - loss: 11.4584 - mae: 11.4584\n",
            "Epoch 20/100\n",
            "2/2 [==============================] - 0s 7ms/step - loss: 12.7689 - mae: 12.7689\n",
            "Epoch 21/100\n",
            "2/2 [==============================] - 0s 7ms/step - loss: 22.5267 - mae: 22.5267\n",
            "Epoch 22/100\n",
            "2/2 [==============================] - 0s 7ms/step - loss: 13.9414 - mae: 13.9414\n",
            "Epoch 23/100\n",
            "2/2 [==============================] - 0s 7ms/step - loss: 9.6254 - mae: 9.6254\n",
            "Epoch 24/100\n",
            "2/2 [==============================] - 0s 15ms/step - loss: 11.9896 - mae: 11.9896\n",
            "Epoch 25/100\n",
            "2/2 [==============================] - 0s 10ms/step - loss: 16.4158 - mae: 16.4158\n",
            "Epoch 26/100\n",
            "2/2 [==============================] - 0s 7ms/step - loss: 16.9271 - mae: 16.9271\n",
            "Epoch 27/100\n",
            "2/2 [==============================] - 0s 9ms/step - loss: 11.0422 - mae: 11.0422\n",
            "Epoch 28/100\n",
            "2/2 [==============================] - 0s 8ms/step - loss: 26.6879 - mae: 26.6879\n",
            "Epoch 29/100\n",
            "2/2 [==============================] - 0s 7ms/step - loss: 9.2096 - mae: 9.2096\n",
            "Epoch 30/100\n",
            "2/2 [==============================] - 0s 7ms/step - loss: 27.9520 - mae: 27.9520\n",
            "Epoch 31/100\n",
            "2/2 [==============================] - 0s 7ms/step - loss: 50.4998 - mae: 50.4998\n",
            "Epoch 32/100\n",
            "2/2 [==============================] - 0s 7ms/step - loss: 11.1594 - mae: 11.1594\n",
            "Epoch 33/100\n",
            "2/2 [==============================] - 0s 7ms/step - loss: 11.9404 - mae: 11.9404\n",
            "Epoch 34/100\n",
            "2/2 [==============================] - 0s 6ms/step - loss: 22.9219 - mae: 22.9219\n",
            "Epoch 35/100\n",
            "2/2 [==============================] - 0s 7ms/step - loss: 11.8711 - mae: 11.8711\n",
            "Epoch 36/100\n",
            "2/2 [==============================] - 0s 8ms/step - loss: 21.9320 - mae: 21.9320\n",
            "Epoch 37/100\n",
            "2/2 [==============================] - 0s 7ms/step - loss: 11.0194 - mae: 11.0194\n",
            "Epoch 38/100\n",
            "2/2 [==============================] - 0s 8ms/step - loss: 12.2552 - mae: 12.2552\n",
            "Epoch 39/100\n",
            "2/2 [==============================] - 0s 8ms/step - loss: 11.2277 - mae: 11.2277\n",
            "Epoch 40/100\n",
            "2/2 [==============================] - 0s 7ms/step - loss: 18.1746 - mae: 18.1746\n",
            "Epoch 41/100\n",
            "2/2 [==============================] - 0s 7ms/step - loss: 10.4726 - mae: 10.4726\n",
            "Epoch 42/100\n",
            "2/2 [==============================] - 0s 7ms/step - loss: 7.8376 - mae: 7.8376\n",
            "Epoch 43/100\n",
            "2/2 [==============================] - 0s 16ms/step - loss: 14.1878 - mae: 14.1878\n",
            "Epoch 44/100\n",
            "2/2 [==============================] - 0s 8ms/step - loss: 24.9215 - mae: 24.9215\n",
            "Epoch 45/100\n",
            "2/2 [==============================] - 0s 7ms/step - loss: 10.9404 - mae: 10.9404\n",
            "Epoch 46/100\n",
            "2/2 [==============================] - 0s 7ms/step - loss: 13.0294 - mae: 13.0294\n",
            "Epoch 47/100\n",
            "2/2 [==============================] - 0s 7ms/step - loss: 10.4406 - mae: 10.4406\n",
            "Epoch 48/100\n",
            "2/2 [==============================] - 0s 7ms/step - loss: 17.1625 - mae: 17.1625\n",
            "Epoch 49/100\n",
            "2/2 [==============================] - 0s 8ms/step - loss: 9.6185 - mae: 9.6185\n",
            "Epoch 50/100\n",
            "2/2 [==============================] - 0s 7ms/step - loss: 13.9012 - mae: 13.9012\n",
            "Epoch 51/100\n",
            "2/2 [==============================] - 0s 9ms/step - loss: 11.6266 - mae: 11.6266\n",
            "Epoch 52/100\n",
            "2/2 [==============================] - 0s 7ms/step - loss: 30.7712 - mae: 30.7712\n",
            "Epoch 53/100\n",
            "2/2 [==============================] - 0s 7ms/step - loss: 14.4483 - mae: 14.4483\n",
            "Epoch 54/100\n",
            "2/2 [==============================] - 0s 7ms/step - loss: 24.1388 - mae: 24.1388\n",
            "Epoch 55/100\n",
            "2/2 [==============================] - 0s 7ms/step - loss: 23.3762 - mae: 23.3762\n",
            "Epoch 56/100\n",
            "2/2 [==============================] - 0s 11ms/step - loss: 10.9411 - mae: 10.9411\n",
            "Epoch 57/100\n",
            "2/2 [==============================] - 0s 6ms/step - loss: 12.8241 - mae: 12.8241\n",
            "Epoch 58/100\n",
            "2/2 [==============================] - 0s 8ms/step - loss: 9.6443 - mae: 9.6443\n",
            "Epoch 59/100\n",
            "2/2 [==============================] - 0s 7ms/step - loss: 12.9896 - mae: 12.9896\n",
            "Epoch 60/100\n",
            "2/2 [==============================] - 0s 7ms/step - loss: 10.6817 - mae: 10.6817\n",
            "Epoch 61/100\n",
            "2/2 [==============================] - 0s 7ms/step - loss: 17.4449 - mae: 17.4449\n",
            "Epoch 62/100\n",
            "2/2 [==============================] - 0s 7ms/step - loss: 10.5977 - mae: 10.5977\n",
            "Epoch 63/100\n",
            "2/2 [==============================] - 0s 7ms/step - loss: 10.4840 - mae: 10.4840\n",
            "Epoch 64/100\n",
            "2/2 [==============================] - 0s 7ms/step - loss: 24.8307 - mae: 24.8307\n",
            "Epoch 65/100\n",
            "2/2 [==============================] - 0s 9ms/step - loss: 10.6712 - mae: 10.6712\n",
            "Epoch 66/100\n",
            "2/2 [==============================] - 0s 7ms/step - loss: 21.7708 - mae: 21.7708\n",
            "Epoch 67/100\n",
            "2/2 [==============================] - 0s 7ms/step - loss: 10.7090 - mae: 10.7090\n",
            "Epoch 68/100\n",
            "2/2 [==============================] - 0s 7ms/step - loss: 10.6362 - mae: 10.6362\n",
            "Epoch 69/100\n",
            "2/2 [==============================] - 0s 7ms/step - loss: 22.6867 - mae: 22.6867\n",
            "Epoch 70/100\n",
            "2/2 [==============================] - 0s 7ms/step - loss: 9.3314 - mae: 9.3314\n",
            "Epoch 71/100\n",
            "2/2 [==============================] - 0s 7ms/step - loss: 15.4351 - mae: 15.4351\n",
            "Epoch 72/100\n",
            "2/2 [==============================] - 0s 8ms/step - loss: 6.7421 - mae: 6.7421\n",
            "Epoch 73/100\n",
            "2/2 [==============================] - 0s 7ms/step - loss: 11.6880 - mae: 11.6880\n",
            "Epoch 74/100\n",
            "2/2 [==============================] - 0s 7ms/step - loss: 24.0458 - mae: 24.0458\n",
            "Epoch 75/100\n",
            "2/2 [==============================] - 0s 7ms/step - loss: 9.5901 - mae: 9.5901\n",
            "Epoch 76/100\n",
            "2/2 [==============================] - 0s 9ms/step - loss: 12.4385 - mae: 12.4385\n",
            "Epoch 77/100\n",
            "2/2 [==============================] - 0s 6ms/step - loss: 16.6568 - mae: 16.6568\n",
            "Epoch 78/100\n",
            "2/2 [==============================] - 0s 7ms/step - loss: 9.0611 - mae: 9.0611\n",
            "Epoch 79/100\n",
            "2/2 [==============================] - 0s 7ms/step - loss: 23.9805 - mae: 23.9805\n",
            "Epoch 80/100\n",
            "2/2 [==============================] - 0s 7ms/step - loss: 26.7622 - mae: 26.7622\n",
            "Epoch 81/100\n",
            "2/2 [==============================] - 0s 7ms/step - loss: 11.6783 - mae: 11.6783\n",
            "Epoch 82/100\n",
            "2/2 [==============================] - 0s 8ms/step - loss: 12.0167 - mae: 12.0167\n",
            "Epoch 83/100\n",
            "2/2 [==============================] - 0s 8ms/step - loss: 17.4129 - mae: 17.4129\n",
            "Epoch 84/100\n",
            "2/2 [==============================] - 0s 7ms/step - loss: 7.2607 - mae: 7.2607\n",
            "Epoch 85/100\n",
            "2/2 [==============================] - 0s 7ms/step - loss: 14.9570 - mae: 14.9570\n",
            "Epoch 86/100\n",
            "2/2 [==============================] - 0s 8ms/step - loss: 15.2794 - mae: 15.2794\n",
            "Epoch 87/100\n",
            "2/2 [==============================] - 0s 7ms/step - loss: 19.0943 - mae: 19.0943\n",
            "Epoch 88/100\n",
            "2/2 [==============================] - 0s 7ms/step - loss: 29.8598 - mae: 29.8598\n",
            "Epoch 89/100\n",
            "2/2 [==============================] - 0s 7ms/step - loss: 10.1792 - mae: 10.1792\n",
            "Epoch 90/100\n",
            "2/2 [==============================] - 0s 8ms/step - loss: 21.5570 - mae: 21.5570\n",
            "Epoch 91/100\n",
            "2/2 [==============================] - 0s 8ms/step - loss: 10.5793 - mae: 10.5793\n",
            "Epoch 92/100\n",
            "2/2 [==============================] - 0s 7ms/step - loss: 18.4296 - mae: 18.4296\n",
            "Epoch 93/100\n",
            "2/2 [==============================] - 0s 11ms/step - loss: 7.4162 - mae: 7.4162\n",
            "Epoch 94/100\n",
            "2/2 [==============================] - 0s 9ms/step - loss: 17.7687 - mae: 17.7687\n",
            "Epoch 95/100\n",
            "2/2 [==============================] - 0s 9ms/step - loss: 11.1264 - mae: 11.1264\n",
            "Epoch 96/100\n",
            "2/2 [==============================] - 0s 8ms/step - loss: 19.4672 - mae: 19.4672\n",
            "Epoch 97/100\n",
            "2/2 [==============================] - 0s 8ms/step - loss: 12.5026 - mae: 12.5026\n",
            "Epoch 98/100\n",
            "2/2 [==============================] - 0s 8ms/step - loss: 10.2963 - mae: 10.2963\n",
            "Epoch 99/100\n",
            "2/2 [==============================] - 0s 8ms/step - loss: 13.8372 - mae: 13.8372\n",
            "Epoch 100/100\n",
            "2/2 [==============================] - 0s 9ms/step - loss: 20.1456 - mae: 20.1456\n"
          ]
        },
        {
          "output_type": "execute_result",
          "data": {
            "text/plain": [
              "<keras.callbacks.History at 0x7baff82149a0>"
            ]
          },
          "metadata": {},
          "execution_count": 55
        }
      ]
    },
    {
      "cell_type": "code",
      "source": [
        "y_preds_2 = model_12.predict(X_test)\n",
        "plot_predictions( predictions = y_preds_2)"
      ],
      "metadata": {
        "colab": {
          "base_uri": "https://localhost:8080/",
          "height": 616
        },
        "id": "Tu2pdQ76VyIr",
        "outputId": "980dc9ab-d041-4011-db14-34e98b034a81"
      },
      "execution_count": null,
      "outputs": [
        {
          "output_type": "stream",
          "name": "stdout",
          "text": [
            "1/1 [==============================] - 0s 44ms/step\n"
          ]
        },
        {
          "output_type": "display_data",
          "data": {
            "text/plain": [
              "<Figure size 1000x700 with 1 Axes>"
            ],
            "image/png": "[encoded data removed]"
          },
          "metadata": {}
        }
      ]
    },
    {
      "cell_type": "code",
      "source": [
        "\n",
        "\n",
        "mae_2 = tf.keras.metrics.mean_absolute_error(\n",
        "    y_true = y_test, y_pred = tf.squeeze(y_preds_2)\n",
        ")\n",
        "mse_2 = tf.keras.metrics.mean_squared_error( y_true = y_test ,\n",
        "                                          y_pred = tf.squeeze(y_preds_2))  #evaluation metrics\n",
        "\n",
        "mae_2 , mse_2"
      ],
      "metadata": {
        "colab": {
          "base_uri": "https://localhost:8080/"
        },
        "id": "djxQ3QdqU_MY",
        "outputId": "18f119d2-35f6-43bc-e21d-c45e4905ace2"
      },
      "execution_count": null,
      "outputs": [
        {
          "output_type": "execute_result",
          "data": {
            "text/plain": [
              "(<tf.Tensor: shape=(), dtype=float32, numpy=2.9929833>,\n",
              " <tf.Tensor: shape=(), dtype=float32, numpy=11.710004>)"
            ]
          },
          "metadata": {},
          "execution_count": 68
        }
      ]
    },
    {
      "cell_type": "code",
      "source": [
        "#For model 3\n",
        "#Create a model\n",
        "tf.random.set_seed(42)\n",
        "\n",
        "model_13 = tf.keras.Sequential(\n",
        "\n",
        "                               [tf.keras.layers.Dense(10) ,\n",
        "                                tf.keras.layers.Dense(1)  #output layer\n",
        "                                ]\n",
        ")\n",
        "\n",
        "#Compile a model\n",
        "\n",
        "model_13.compile(loss = tf.keras.losses.mae ,\n",
        "                 optimizer = tf.keras.optimizers.SGD() ,\n",
        "                 metrics = [\"mae\"]\n",
        "\n",
        "                 )\n",
        "\n",
        "#Fit a model\n",
        "model_13.fit( tf.expand_dims(X_train , axis = -1 ), y_train , epochs = 500 )\n"
      ],
      "metadata": {
        "colab": {
          "base_uri": "https://localhost:8080/"
        },
        "id": "ZXejj4RyVia6",
        "outputId": "e4ecd635-6a0d-452b-8f2c-e9462c0b7a9f"
      },
      "execution_count": null,
      "outputs": [
        {
          "output_type": "stream",
          "name": "stdout",
          "text": [
            "\b\b\b\b\b\b\b\b\b\b\b\b\b\b\b\b\b\b\b\b\b\b\b\b\b\b\b\b\b\b\b\b\b\b\b\b\b\b\b\b\b\b\b\b\b\b\b\b\b\b\b\b\b\b\b\b\b\b\b\b\b\b\b\b\b\b\b\b\b\b\b\b\b\b\b\r2/2 [==============================] - 0s 8ms/step - loss: 10.5233 - mae: 10.5233\n",
            "Epoch 42/500\n",
            "2/2 [==============================] - 0s 9ms/step - loss: 7.8519 - mae: 7.8519\n",
            "Epoch 43/500\n",
            "2/2 [==============================] - 0s 7ms/step - loss: 14.2425 - mae: 14.2425\n",
            "Epoch 44/500\n",
            "2/2 [==============================] - 0s 10ms/step - loss: 25.0361 - mae: 25.0361\n",
            "Epoch 45/500\n",
            "2/2 [==============================] - 0s 7ms/step - loss: 10.9809 - mae: 10.9809\n",
            "Epoch 46/500\n",
            "2/2 [==============================] - 0s 7ms/step - loss: 13.0984 - mae: 13.0984\n",
            "Epoch 47/500\n",
            "2/2 [==============================] - 0s 7ms/step - loss: 10.4236 - mae: 10.4236\n",
            "Epoch 48/500\n",
            "2/2 [==============================] - 0s 6ms/step - loss: 17.1253 - mae: 17.1253\n",
            "Epoch 49/500\n",
            "2/2 [==============================] - 0s 7ms/step - loss: 9.6518 - mae: 9.6518\n",
            "Epoch 50/500\n",
            "2/2 [==============================] - 0s 7ms/step - loss: 13.9550 - mae: 13.9550\n",
            "Epoch 51/500\n",
            "2/2 [==============================] - 0s 7ms/step - loss: 11.6512 - mae: 11.6512\n",
            "Epoch 52/500\n",
            "2/2 [==============================] - 0s 7ms/step - loss: 30.8822 - mae: 30.8822\n",
            "Epoch 53/500\n",
            "2/2 [==============================] - 0s 7ms/step - loss: 14.5001 - mae: 14.5001\n",
            "Epoch 54/500\n",
            "2/2 [==============================] - 0s 7ms/step - loss: 24.2251 - mae: 24.2251\n",
            "Epoch 55/500\n",
            "2/2 [==============================] - 0s 7ms/step - loss: 23.4718 - mae: 23.4718\n",
            "Epoch 56/500\n",
            "2/2 [==============================] - 0s 7ms/step - loss: 10.9784 - mae: 10.9784\n",
            "Epoch 57/500\n",
            "2/2 [==============================] - 0s 7ms/step - loss: 12.8713 - mae: 12.8713\n",
            "Epoch 58/500\n",
            "2/2 [==============================] - 0s 8ms/step - loss: 9.6731 - mae: 9.6731\n",
            "Epoch 59/500\n",
            "2/2 [==============================] - 0s 8ms/step - loss: 13.0373 - mae: 13.0373\n",
            "Epoch 60/500\n",
            "2/2 [==============================] - 0s 8ms/step - loss: 10.7124 - mae: 10.7124\n",
            "Epoch 61/500\n",
            "2/2 [==============================] - 0s 6ms/step - loss: 13.2483 - mae: 13.2483\n",
            "Epoch 62/500\n",
            "2/2 [==============================] - 0s 8ms/step - loss: 17.0817 - mae: 17.0817\n",
            "Epoch 63/500\n",
            "2/2 [==============================] - 0s 7ms/step - loss: 9.0623 - mae: 9.0623\n",
            "Epoch 64/500\n",
            "2/2 [==============================] - 0s 7ms/step - loss: 17.7272 - mae: 17.7272\n",
            "Epoch 65/500\n",
            "2/2 [==============================] - 0s 7ms/step - loss: 10.5355 - mae: 10.5355\n",
            "Epoch 66/500\n",
            "2/2 [==============================] - 0s 7ms/step - loss: 21.2119 - mae: 21.2119\n",
            "Epoch 67/500\n",
            "2/2 [==============================] - 0s 7ms/step - loss: 10.5321 - mae: 10.5321\n",
            "Epoch 68/500\n",
            "2/2 [==============================] - 0s 7ms/step - loss: 14.3764 - mae: 14.3764\n",
            "Epoch 69/500\n",
            "2/2 [==============================] - 0s 8ms/step - loss: 10.6225 - mae: 10.6225\n",
            "Epoch 70/500\n",
            "2/2 [==============================] - 0s 8ms/step - loss: 12.7080 - mae: 12.7080\n",
            "Epoch 71/500\n",
            "2/2 [==============================] - 0s 7ms/step - loss: 13.1360 - mae: 13.1360\n",
            "Epoch 72/500\n",
            "2/2 [==============================] - 0s 7ms/step - loss: 19.6353 - mae: 19.6353\n",
            "Epoch 73/500\n",
            "2/2 [==============================] - 0s 7ms/step - loss: 11.2030 - mae: 11.2030\n",
            "Epoch 74/500\n",
            "2/2 [==============================] - 0s 7ms/step - loss: 21.9170 - mae: 21.9170\n",
            "Epoch 75/500\n",
            "2/2 [==============================] - 0s 7ms/step - loss: 7.2002 - mae: 7.2002\n",
            "Epoch 76/500\n",
            "2/2 [==============================] - 0s 7ms/step - loss: 9.4212 - mae: 9.4212\n",
            "Epoch 77/500\n",
            "2/2 [==============================] - 0s 7ms/step - loss: 22.0472 - mae: 22.0472\n",
            "Epoch 78/500\n",
            "2/2 [==============================] - 0s 7ms/step - loss: 17.7038 - mae: 17.7038\n",
            "Epoch 79/500\n",
            "2/2 [==============================] - 0s 7ms/step - loss: 14.8676 - mae: 14.8676\n",
            "Epoch 80/500\n",
            "2/2 [==============================] - 0s 8ms/step - loss: 25.1888 - mae: 25.1888\n",
            "Epoch 81/500\n",
            "2/2 [==============================] - 0s 7ms/step - loss: 10.9398 - mae: 10.9398\n",
            "Epoch 82/500\n",
            "2/2 [==============================] - 0s 7ms/step - loss: 12.7416 - mae: 12.7416\n",
            "Epoch 83/500\n",
            "2/2 [==============================] - 0s 7ms/step - loss: 17.5118 - mae: 17.5118\n",
            "Epoch 84/500\n",
            "2/2 [==============================] - 0s 7ms/step - loss: 7.2918 - mae: 7.2918\n",
            "Epoch 85/500\n",
            "2/2 [==============================] - 0s 7ms/step - loss: 15.0357 - mae: 15.0357\n",
            "Epoch 86/500\n",
            "2/2 [==============================] - 0s 7ms/step - loss: 15.3438 - mae: 15.3438\n",
            "Epoch 87/500\n",
            "2/2 [==============================] - 0s 7ms/step - loss: 19.2181 - mae: 19.2181\n",
            "Epoch 88/500\n",
            "2/2 [==============================] - 0s 7ms/step - loss: 29.5398 - mae: 29.5398\n",
            "Epoch 89/500\n",
            "2/2 [==============================] - 0s 11ms/step - loss: 10.1458 - mae: 10.1458\n",
            "Epoch 90/500\n",
            "2/2 [==============================] - 0s 10ms/step - loss: 21.2901 - mae: 21.2901\n",
            "Epoch 91/500\n",
            "2/2 [==============================] - 0s 7ms/step - loss: 10.5275 - mae: 10.5275\n",
            "Epoch 92/500\n",
            "2/2 [==============================] - 0s 7ms/step - loss: 18.1875 - mae: 18.1875\n",
            "Epoch 93/500\n",
            "2/2 [==============================] - 0s 7ms/step - loss: 6.5492 - mae: 6.5492\n",
            "Epoch 94/500\n",
            "2/2 [==============================] - 0s 7ms/step - loss: 11.1859 - mae: 11.1859\n",
            "Epoch 95/500\n",
            "2/2 [==============================] - 0s 8ms/step - loss: 24.6384 - mae: 24.6384\n",
            "Epoch 96/500\n",
            "2/2 [==============================] - 0s 8ms/step - loss: 10.7967 - mae: 10.7967\n",
            "Epoch 97/500\n",
            "2/2 [==============================] - 0s 8ms/step - loss: 15.5380 - mae: 15.5380\n",
            "Epoch 98/500\n",
            "2/2 [==============================] - 0s 7ms/step - loss: 9.0656 - mae: 9.0656\n",
            "Epoch 99/500\n",
            "2/2 [==============================] - 0s 7ms/step - loss: 10.8801 - mae: 10.8801\n",
            "Epoch 100/500\n",
            "2/2 [==============================] - 0s 7ms/step - loss: 27.1566 - mae: 27.1566\n",
            "Epoch 101/500\n",
            "2/2 [==============================] - 0s 7ms/step - loss: 15.1053 - mae: 15.1053\n",
            "Epoch 102/500\n",
            "2/2 [==============================] - 0s 7ms/step - loss: 10.6615 - mae: 10.6615\n",
            "Epoch 103/500\n",
            "2/2 [==============================] - 0s 7ms/step - loss: 9.1370 - mae: 9.1370\n",
            "Epoch 104/500\n",
            "2/2 [==============================] - 0s 7ms/step - loss: 23.5939 - mae: 23.5939\n",
            "Epoch 105/500\n",
            "2/2 [==============================] - 0s 7ms/step - loss: 10.7616 - mae: 10.7616\n",
            "Epoch 106/500\n",
            "2/2 [==============================] - 0s 7ms/step - loss: 11.2238 - mae: 11.2238\n",
            "Epoch 107/500\n",
            "2/2 [==============================] - 0s 7ms/step - loss: 21.1619 - mae: 21.1619\n",
            "Epoch 108/500\n",
            "2/2 [==============================] - 0s 7ms/step - loss: 6.3168 - mae: 6.3168\n",
            "Epoch 109/500\n",
            "2/2 [==============================] - 0s 8ms/step - loss: 10.5501 - mae: 10.5501\n",
            "Epoch 110/500\n",
            "2/2 [==============================] - 0s 8ms/step - loss: 10.5010 - mae: 10.5010\n",
            "Epoch 111/500\n",
            "2/2 [==============================] - 0s 8ms/step - loss: 16.6419 - mae: 16.6419\n",
            "Epoch 112/500\n",
            "2/2 [==============================] - 0s 8ms/step - loss: 9.4916 - mae: 9.4916\n",
            "Epoch 113/500\n",
            "2/2 [==============================] - 0s 8ms/step - loss: 17.5304 - mae: 17.5304\n",
            "Epoch 114/500\n",
            "2/2 [==============================] - 0s 7ms/step - loss: 16.8996 - mae: 16.8996\n",
            "Epoch 115/500\n",
            "2/2 [==============================] - 0s 7ms/step - loss: 11.0265 - mae: 11.0265\n",
            "Epoch 116/500\n",
            "2/2 [==============================] - 0s 8ms/step - loss: 22.9371 - mae: 22.9371\n",
            "Epoch 117/500\n",
            "2/2 [==============================] - 0s 8ms/step - loss: 9.5042 - mae: 9.5042\n",
            "Epoch 118/500\n",
            "2/2 [==============================] - 0s 7ms/step - loss: 10.5604 - mae: 10.5604\n",
            "Epoch 119/500\n",
            "2/2 [==============================] - 0s 7ms/step - loss: 8.0214 - mae: 8.0214\n",
            "Epoch 120/500\n",
            "2/2 [==============================] - 0s 7ms/step - loss: 29.2345 - mae: 29.2345\n",
            "Epoch 121/500\n",
            "2/2 [==============================] - 0s 8ms/step - loss: 8.0611 - mae: 8.0611\n",
            "Epoch 122/500\n",
            "2/2 [==============================] - 0s 7ms/step - loss: 27.9388 - mae: 27.9388\n",
            "Epoch 123/500\n",
            "2/2 [==============================] - 0s 7ms/step - loss: 32.4444 - mae: 32.4444\n",
            "Epoch 124/500\n",
            "2/2 [==============================] - 0s 8ms/step - loss: 19.2892 - mae: 19.2892\n",
            "Epoch 125/500\n",
            "2/2 [==============================] - 0s 7ms/step - loss: 9.4886 - mae: 9.4886\n",
            "Epoch 126/500\n",
            "2/2 [==============================] - 0s 7ms/step - loss: 9.5692 - mae: 9.5692\n",
            "Epoch 127/500\n",
            "2/2 [==============================] - 0s 7ms/step - loss: 12.6787 - mae: 12.6787\n",
            "Epoch 128/500\n",
            "2/2 [==============================] - 0s 7ms/step - loss: 12.7806 - mae: 12.7806\n",
            "Epoch 129/500\n",
            "2/2 [==============================] - 0s 8ms/step - loss: 13.9071 - mae: 13.9071\n",
            "Epoch 130/500\n",
            "2/2 [==============================] - 0s 7ms/step - loss: 10.2151 - mae: 10.2151\n",
            "Epoch 131/500\n",
            "2/2 [==============================] - 0s 7ms/step - loss: 21.6623 - mae: 21.6623\n",
            "Epoch 132/500\n",
            "2/2 [==============================] - 0s 7ms/step - loss: 8.2600 - mae: 8.2600\n",
            "Epoch 133/500\n",
            "2/2 [==============================] - 0s 7ms/step - loss: 9.0419 - mae: 9.0419\n",
            "Epoch 134/500\n",
            "2/2 [==============================] - 0s 8ms/step - loss: 16.8748 - mae: 16.8748\n",
            "Epoch 135/500\n",
            "2/2 [==============================] - 0s 8ms/step - loss: 10.6370 - mae: 10.6370\n",
            "Epoch 136/500\n",
            "2/2 [==============================] - 0s 9ms/step - loss: 18.4932 - mae: 18.4932\n",
            "Epoch 137/500\n",
            "2/2 [==============================] - 0s 8ms/step - loss: 23.4788 - mae: 23.4788\n",
            "Epoch 138/500\n",
            "2/2 [==============================] - 0s 8ms/step - loss: 9.2654 - mae: 9.2654\n",
            "Epoch 139/500\n",
            "2/2 [==============================] - 0s 7ms/step - loss: 9.0016 - mae: 9.0016\n",
            "Epoch 140/500\n",
            "2/2 [==============================] - 0s 7ms/step - loss: 16.9619 - mae: 16.9619\n",
            "Epoch 141/500\n",
            "2/2 [==============================] - 0s 8ms/step - loss: 8.3103 - mae: 8.3103\n",
            "Epoch 142/500\n",
            "2/2 [==============================] - 0s 8ms/step - loss: 34.0473 - mae: 34.0473\n",
            "Epoch 143/500\n",
            "2/2 [==============================] - 0s 8ms/step - loss: 23.0965 - mae: 23.0965\n",
            "Epoch 144/500\n",
            "2/2 [==============================] - 0s 9ms/step - loss: 11.3266 - mae: 11.3266\n",
            "Epoch 145/500\n",
            "2/2 [==============================] - 0s 9ms/step - loss: 25.0273 - mae: 25.0273\n",
            "Epoch 146/500\n",
            "2/2 [==============================] - 0s 9ms/step - loss: 11.1521 - mae: 11.1521\n",
            "Epoch 147/500\n",
            "2/2 [==============================] - 0s 9ms/step - loss: 14.0715 - mae: 14.0715\n",
            "Epoch 148/500\n",
            "2/2 [==============================] - 0s 7ms/step - loss: 16.9175 - mae: 16.9175\n",
            "Epoch 149/500\n",
            "2/2 [==============================] - 0s 8ms/step - loss: 9.2549 - mae: 9.2549\n",
            "Epoch 150/500\n",
            "2/2 [==============================] - 0s 8ms/step - loss: 7.9350 - mae: 7.9350\n",
            "Epoch 151/500\n",
            "2/2 [==============================] - 0s 8ms/step - loss: 16.5292 - mae: 16.5292\n",
            "Epoch 152/500\n",
            "2/2 [==============================] - 0s 7ms/step - loss: 9.7979 - mae: 9.7979\n",
            "Epoch 153/500\n",
            "2/2 [==============================] - 0s 8ms/step - loss: 26.8922 - mae: 26.8922\n",
            "Epoch 154/500\n",
            "2/2 [==============================] - 0s 8ms/step - loss: 11.9041 - mae: 11.9041\n",
            "Epoch 155/500\n",
            "2/2 [==============================] - 0s 7ms/step - loss: 15.2718 - mae: 15.2718\n",
            "Epoch 156/500\n",
            "2/2 [==============================] - 0s 7ms/step - loss: 16.6321 - mae: 16.6321\n",
            "Epoch 157/500\n",
            "2/2 [==============================] - 0s 8ms/step - loss: 19.3247 - mae: 19.3247\n",
            "Epoch 158/500\n",
            "2/2 [==============================] - 0s 8ms/step - loss: 8.2680 - mae: 8.2680\n",
            "Epoch 159/500\n",
            "2/2 [==============================] - 0s 8ms/step - loss: 7.9772 - mae: 7.9772\n",
            "Epoch 160/500\n",
            "2/2 [==============================] - 0s 7ms/step - loss: 20.9333 - mae: 20.9333\n",
            "Epoch 161/500\n",
            "2/2 [==============================] - 0s 7ms/step - loss: 23.8369 - mae: 23.8369\n",
            "Epoch 162/500\n",
            "2/2 [==============================] - 0s 7ms/step - loss: 18.7478 - mae: 18.7478\n",
            "Epoch 163/500\n",
            "2/2 [==============================] - 0s 8ms/step - loss: 17.6999 - mae: 17.6999\n",
            "Epoch 164/500\n",
            "2/2 [==============================] - 0s 7ms/step - loss: 11.1006 - mae: 11.1006\n",
            "Epoch 165/500\n",
            "2/2 [==============================] - 0s 10ms/step - loss: 9.6011 - mae: 9.6011\n",
            "Epoch 166/500\n",
            "2/2 [==============================] - 0s 7ms/step - loss: 21.5298 - mae: 21.5298\n",
            "Epoch 167/500\n",
            "2/2 [==============================] - 0s 8ms/step - loss: 26.4444 - mae: 26.4444\n",
            "Epoch 168/500\n",
            "2/2 [==============================] - 0s 8ms/step - loss: 9.8923 - mae: 9.8923\n",
            "Epoch 169/500\n",
            "2/2 [==============================] - 0s 8ms/step - loss: 22.7175 - mae: 22.7175\n",
            "Epoch 170/500\n",
            "2/2 [==============================] - 0s 7ms/step - loss: 10.1299 - mae: 10.1299\n",
            "Epoch 171/500\n",
            "2/2 [==============================] - 0s 7ms/step - loss: 17.9821 - mae: 17.9821\n",
            "Epoch 172/500\n",
            "2/2 [==============================] - 0s 8ms/step - loss: 28.9939 - mae: 28.9939\n",
            "Epoch 173/500\n",
            "2/2 [==============================] - 0s 8ms/step - loss: 16.6544 - mae: 16.6544\n",
            "Epoch 174/500\n",
            "2/2 [==============================] - 0s 8ms/step - loss: 11.2023 - mae: 11.2023\n",
            "Epoch 175/500\n",
            "2/2 [==============================] - 0s 7ms/step - loss: 27.5439 - mae: 27.5439\n",
            "Epoch 176/500\n",
            "2/2 [==============================] - 0s 8ms/step - loss: 8.3203 - mae: 8.3203\n",
            "Epoch 177/500\n",
            "2/2 [==============================] - 0s 7ms/step - loss: 9.3003 - mae: 9.3003\n",
            "Epoch 178/500\n",
            "2/2 [==============================] - 0s 7ms/step - loss: 18.2731 - mae: 18.2731\n",
            "Epoch 179/500\n",
            "2/2 [==============================] - 0s 8ms/step - loss: 10.5432 - mae: 10.5432\n",
            "Epoch 180/500\n",
            "2/2 [==============================] - 0s 8ms/step - loss: 7.9299 - mae: 7.9299\n",
            "Epoch 181/500\n",
            "2/2 [==============================] - 0s 9ms/step - loss: 17.5082 - mae: 17.5082\n",
            "Epoch 182/500\n",
            "2/2 [==============================] - 0s 7ms/step - loss: 11.0657 - mae: 11.0657\n",
            "Epoch 183/500\n",
            "2/2 [==============================] - 0s 8ms/step - loss: 11.7555 - mae: 11.7555\n",
            "Epoch 184/500\n",
            "2/2 [==============================] - 0s 7ms/step - loss: 30.5674 - mae: 30.5674\n",
            "Epoch 185/500\n",
            "2/2 [==============================] - 0s 7ms/step - loss: 7.5515 - mae: 7.5515\n",
            "Epoch 186/500\n",
            "2/2 [==============================] - 0s 7ms/step - loss: 15.9446 - mae: 15.9446\n",
            "Epoch 187/500\n",
            "2/2 [==============================] - 0s 9ms/step - loss: 8.5823 - mae: 8.5823\n",
            "Epoch 188/500\n",
            "2/2 [==============================] - 0s 7ms/step - loss: 28.8866 - mae: 28.8866\n",
            "Epoch 189/500\n",
            "2/2 [==============================] - 0s 8ms/step - loss: 13.1410 - mae: 13.1410\n",
            "Epoch 190/500\n",
            "2/2 [==============================] - 0s 8ms/step - loss: 18.2793 - mae: 18.2793\n",
            "Epoch 191/500\n",
            "2/2 [==============================] - 0s 8ms/step - loss: 13.7009 - mae: 13.7009\n",
            "Epoch 192/500\n",
            "2/2 [==============================] - 0s 8ms/step - loss: 13.6995 - mae: 13.6995\n",
            "Epoch 193/500\n",
            "2/2 [==============================] - 0s 8ms/step - loss: 28.5523 - mae: 28.5523\n",
            "Epoch 194/500\n",
            "2/2 [==============================] - 0s 9ms/step - loss: 7.1151 - mae: 7.1151\n",
            "Epoch 195/500\n",
            "2/2 [==============================] - 0s 8ms/step - loss: 7.0610 - mae: 7.0610\n",
            "Epoch 196/500\n",
            "2/2 [==============================] - 0s 14ms/step - loss: 21.9618 - mae: 21.9618\n",
            "Epoch 197/500\n",
            "2/2 [==============================] - 0s 7ms/step - loss: 20.9395 - mae: 20.9395\n",
            "Epoch 198/500\n",
            "2/2 [==============================] - 0s 12ms/step - loss: 12.5297 - mae: 12.5297\n",
            "Epoch 199/500\n",
            "2/2 [==============================] - 0s 7ms/step - loss: 17.9923 - mae: 17.9923\n",
            "Epoch 200/500\n",
            "2/2 [==============================] - 0s 9ms/step - loss: 13.8269 - mae: 13.8269\n",
            "Epoch 201/500\n",
            "2/2 [==============================] - 0s 13ms/step - loss: 6.0400 - mae: 6.0400\n",
            "Epoch 202/500\n",
            "2/2 [==============================] - 0s 8ms/step - loss: 22.8365 - mae: 22.8365\n",
            "Epoch 203/500\n",
            "2/2 [==============================] - 0s 8ms/step - loss: 8.9517 - mae: 8.9517\n",
            "Epoch 204/500\n",
            "2/2 [==============================] - 0s 8ms/step - loss: 18.8179 - mae: 18.8179\n",
            "Epoch 205/500\n",
            "2/2 [==============================] - 0s 8ms/step - loss: 9.3551 - mae: 9.3551\n",
            "Epoch 206/500\n",
            "2/2 [==============================] - 0s 9ms/step - loss: 10.4242 - mae: 10.4242\n",
            "Epoch 207/500\n",
            "2/2 [==============================] - 0s 10ms/step - loss: 21.0970 - mae: 21.0970\n",
            "Epoch 208/500\n",
            "2/2 [==============================] - 0s 8ms/step - loss: 16.4658 - mae: 16.4658\n",
            "Epoch 209/500\n",
            "2/2 [==============================] - 0s 8ms/step - loss: 14.3674 - mae: 14.3674\n",
            "Epoch 210/500\n",
            "2/2 [==============================] - 0s 9ms/step - loss: 19.3768 - mae: 19.3768\n",
            "Epoch 211/500\n",
            "2/2 [==============================] - 0s 8ms/step - loss: 10.3075 - mae: 10.3075\n",
            "Epoch 212/500\n",
            "2/2 [==============================] - 0s 9ms/step - loss: 20.1614 - mae: 20.1614\n",
            "Epoch 213/500\n",
            "2/2 [==============================] - 0s 8ms/step - loss: 15.0681 - mae: 15.0681\n",
            "Epoch 214/500\n",
            "2/2 [==============================] - 0s 9ms/step - loss: 14.6080 - mae: 14.6080\n",
            "Epoch 215/500\n",
            "2/2 [==============================] - 0s 7ms/step - loss: 23.3344 - mae: 23.3344\n",
            "Epoch 216/500\n",
            "2/2 [==============================] - 0s 8ms/step - loss: 13.3118 - mae: 13.3118\n",
            "Epoch 217/500\n",
            "2/2 [==============================] - 0s 9ms/step - loss: 9.8271 - mae: 9.8271\n",
            "Epoch 218/500\n",
            "2/2 [==============================] - 0s 9ms/step - loss: 12.5901 - mae: 12.5901\n",
            "Epoch 219/500\n",
            "2/2 [==============================] - 0s 9ms/step - loss: 5.3458 - mae: 5.3458\n",
            "Epoch 220/500\n",
            "2/2 [==============================] - 0s 9ms/step - loss: 14.6974 - mae: 14.6974\n",
            "Epoch 221/500\n",
            "2/2 [==============================] - 0s 8ms/step - loss: 33.5376 - mae: 33.5376\n",
            "Epoch 222/500\n",
            "2/2 [==============================] - 0s 8ms/step - loss: 13.8848 - mae: 13.8848\n",
            "Epoch 223/500\n",
            "2/2 [==============================] - 0s 8ms/step - loss: 10.9880 - mae: 10.9880\n",
            "Epoch 224/500\n",
            "2/2 [==============================] - 0s 8ms/step - loss: 14.9428 - mae: 14.9428\n",
            "Epoch 225/500\n",
            "2/2 [==============================] - 0s 8ms/step - loss: 16.9893 - mae: 16.9893\n",
            "Epoch 226/500\n",
            "2/2 [==============================] - 0s 9ms/step - loss: 16.1784 - mae: 16.1784\n",
            "Epoch 227/500\n",
            "2/2 [==============================] - 0s 8ms/step - loss: 16.4934 - mae: 16.4934\n",
            "Epoch 228/500\n",
            "2/2 [==============================] - 0s 9ms/step - loss: 9.9366 - mae: 9.9366\n",
            "Epoch 229/500\n",
            "2/2 [==============================] - 0s 8ms/step - loss: 17.8325 - mae: 17.8325\n",
            "Epoch 230/500\n",
            "2/2 [==============================] - 0s 8ms/step - loss: 15.4552 - mae: 15.4552\n",
            "Epoch 231/500\n",
            "2/2 [==============================] - 0s 8ms/step - loss: 20.8754 - mae: 20.8754\n",
            "Epoch 232/500\n",
            "2/2 [==============================] - 0s 9ms/step - loss: 20.4332 - mae: 20.4332\n",
            "Epoch 233/500\n",
            "2/2 [==============================] - 0s 8ms/step - loss: 15.0925 - mae: 15.0925\n",
            "Epoch 234/500\n",
            "2/2 [==============================] - 0s 8ms/step - loss: 6.9717 - mae: 6.9717\n",
            "Epoch 235/500\n",
            "2/2 [==============================] - 0s 8ms/step - loss: 15.7446 - mae: 15.7446\n",
            "Epoch 236/500\n",
            "2/2 [==============================] - 0s 9ms/step - loss: 6.6949 - mae: 6.6949\n",
            "Epoch 237/500\n",
            "2/2 [==============================] - 0s 8ms/step - loss: 8.6099 - mae: 8.6099\n",
            "Epoch 238/500\n",
            "2/2 [==============================] - 0s 9ms/step - loss: 7.7711 - mae: 7.7711\n",
            "Epoch 239/500\n",
            "2/2 [==============================] - 0s 9ms/step - loss: 15.6662 - mae: 15.6662\n",
            "Epoch 240/500\n",
            "2/2 [==============================] - 0s 8ms/step - loss: 9.0143 - mae: 9.0143\n",
            "Epoch 241/500\n",
            "2/2 [==============================] - 0s 9ms/step - loss: 13.4356 - mae: 13.4356\n",
            "Epoch 242/500\n",
            "2/2 [==============================] - 0s 9ms/step - loss: 8.9031 - mae: 8.9031\n",
            "Epoch 243/500\n",
            "2/2 [==============================] - 0s 9ms/step - loss: 19.3257 - mae: 19.3257\n",
            "Epoch 244/500\n",
            "2/2 [==============================] - 0s 9ms/step - loss: 13.8809 - mae: 13.8809\n",
            "Epoch 245/500\n",
            "2/2 [==============================] - 0s 9ms/step - loss: 14.5306 - mae: 14.5306\n",
            "Epoch 246/500\n",
            "2/2 [==============================] - 0s 8ms/step - loss: 15.6702 - mae: 15.6702\n",
            "Epoch 247/500\n",
            "2/2 [==============================] - 0s 10ms/step - loss: 17.5028 - mae: 17.5028\n",
            "Epoch 248/500\n",
            "2/2 [==============================] - 0s 9ms/step - loss: 13.0700 - mae: 13.0700\n",
            "Epoch 249/500\n",
            "2/2 [==============================] - 0s 8ms/step - loss: 14.4184 - mae: 14.4184\n",
            "Epoch 250/500\n",
            "2/2 [==============================] - 0s 10ms/step - loss: 27.8098 - mae: 27.8098\n",
            "Epoch 251/500\n",
            "2/2 [==============================] - 0s 10ms/step - loss: 7.5056 - mae: 7.5056\n",
            "Epoch 252/500\n",
            "2/2 [==============================] - 0s 7ms/step - loss: 38.2415 - mae: 38.2415\n",
            "Epoch 253/500\n",
            "2/2 [==============================] - 0s 9ms/step - loss: 23.1347 - mae: 23.1347\n",
            "Epoch 254/500\n",
            "2/2 [==============================] - 0s 7ms/step - loss: 7.2951 - mae: 7.2951\n",
            "Epoch 255/500\n",
            "2/2 [==============================] - 0s 9ms/step - loss: 24.6422 - mae: 24.6422\n",
            "Epoch 256/500\n",
            "2/2 [==============================] - 0s 8ms/step - loss: 12.4020 - mae: 12.4020\n",
            "Epoch 257/500\n",
            "2/2 [==============================] - 0s 9ms/step - loss: 10.5704 - mae: 10.5704\n",
            "Epoch 258/500\n",
            "2/2 [==============================] - 0s 7ms/step - loss: 14.1947 - mae: 14.1947\n",
            "Epoch 259/500\n",
            "2/2 [==============================] - 0s 7ms/step - loss: 11.2546 - mae: 11.2546\n",
            "Epoch 260/500\n",
            "2/2 [==============================] - 0s 7ms/step - loss: 31.6149 - mae: 31.6149\n",
            "Epoch 261/500\n",
            "2/2 [==============================] - 0s 7ms/step - loss: 11.1743 - mae: 11.1743\n",
            "Epoch 262/500\n",
            "2/2 [==============================] - 0s 8ms/step - loss: 10.0307 - mae: 10.0307\n",
            "Epoch 263/500\n",
            "2/2 [==============================] - 0s 10ms/step - loss: 8.9443 - mae: 8.9443\n",
            "Epoch 264/500\n",
            "2/2 [==============================] - 0s 9ms/step - loss: 21.5150 - mae: 21.5150\n",
            "Epoch 265/500\n",
            "2/2 [==============================] - 0s 10ms/step - loss: 11.4372 - mae: 11.4372\n",
            "Epoch 266/500\n",
            "2/2 [==============================] - 0s 12ms/step - loss: 13.2719 - mae: 13.2719\n",
            "Epoch 267/500\n",
            "2/2 [==============================] - 0s 10ms/step - loss: 11.0688 - mae: 11.0688\n",
            "Epoch 268/500\n",
            "2/2 [==============================] - 0s 10ms/step - loss: 21.7211 - mae: 21.7211\n",
            "Epoch 269/500\n",
            "2/2 [==============================] - 0s 9ms/step - loss: 32.9018 - mae: 32.9018\n",
            "Epoch 270/500\n",
            "2/2 [==============================] - 0s 10ms/step - loss: 9.7344 - mae: 9.7344\n",
            "Epoch 271/500\n",
            "2/2 [==============================] - 0s 9ms/step - loss: 7.7133 - mae: 7.7133\n",
            "Epoch 272/500\n",
            "2/2 [==============================] - 0s 9ms/step - loss: 28.5102 - mae: 28.5102\n",
            "Epoch 273/500\n",
            "2/2 [==============================] - 0s 9ms/step - loss: 7.3800 - mae: 7.3800\n",
            "Epoch 274/500\n",
            "2/2 [==============================] - 0s 8ms/step - loss: 6.3306 - mae: 6.3306\n",
            "Epoch 275/500\n",
            "2/2 [==============================] - 0s 8ms/step - loss: 37.1376 - mae: 37.1376\n",
            "Epoch 276/500\n",
            "2/2 [==============================] - 0s 8ms/step - loss: 8.2861 - mae: 8.2861\n",
            "Epoch 277/500\n",
            "2/2 [==============================] - 0s 8ms/step - loss: 27.9278 - mae: 27.9278\n",
            "Epoch 278/500\n",
            "2/2 [==============================] - 0s 8ms/step - loss: 10.6208 - mae: 10.6208\n",
            "Epoch 279/500\n",
            "2/2 [==============================] - 0s 9ms/step - loss: 16.0640 - mae: 16.0640\n",
            "Epoch 280/500\n",
            "2/2 [==============================] - 0s 8ms/step - loss: 21.1444 - mae: 21.1444\n",
            "Epoch 281/500\n",
            "2/2 [==============================] - 0s 8ms/step - loss: 24.0189 - mae: 24.0189\n",
            "Epoch 282/500\n",
            "2/2 [==============================] - 0s 8ms/step - loss: 8.3046 - mae: 8.3046\n",
            "Epoch 283/500\n",
            "2/2 [==============================] - 0s 8ms/step - loss: 8.4590 - mae: 8.4590\n",
            "Epoch 284/500\n",
            "2/2 [==============================] - 0s 7ms/step - loss: 26.8817 - mae: 26.8817\n",
            "Epoch 285/500\n",
            "2/2 [==============================] - 0s 8ms/step - loss: 14.5793 - mae: 14.5793\n",
            "Epoch 286/500\n",
            "2/2 [==============================] - 0s 7ms/step - loss: 9.4041 - mae: 9.4041\n",
            "Epoch 287/500\n",
            "2/2 [==============================] - 0s 7ms/step - loss: 21.5721 - mae: 21.5721\n",
            "Epoch 288/500\n",
            "2/2 [==============================] - 0s 8ms/step - loss: 25.4518 - mae: 25.4518\n",
            "Epoch 289/500\n",
            "2/2 [==============================] - 0s 8ms/step - loss: 11.2553 - mae: 11.2553\n",
            "Epoch 290/500\n",
            "2/2 [==============================] - 0s 8ms/step - loss: 16.4343 - mae: 16.4343\n",
            "Epoch 291/500\n",
            "2/2 [==============================] - 0s 8ms/step - loss: 16.6627 - mae: 16.6627\n",
            "Epoch 292/500\n",
            "2/2 [==============================] - 0s 10ms/step - loss: 8.7734 - mae: 8.7734\n",
            "Epoch 293/500\n",
            "2/2 [==============================] - 0s 11ms/step - loss: 15.6472 - mae: 15.6472\n",
            "Epoch 294/500\n",
            "2/2 [==============================] - 0s 8ms/step - loss: 23.4865 - mae: 23.4865\n",
            "Epoch 295/500\n",
            "2/2 [==============================] - 0s 9ms/step - loss: 16.2354 - mae: 16.2354\n",
            "Epoch 296/500\n",
            "2/2 [==============================] - 0s 8ms/step - loss: 4.8938 - mae: 4.8938\n",
            "Epoch 297/500\n",
            "2/2 [==============================] - 0s 7ms/step - loss: 13.3620 - mae: 13.3620\n",
            "Epoch 298/500\n",
            "2/2 [==============================] - 0s 9ms/step - loss: 25.2271 - mae: 25.2271\n",
            "Epoch 299/500\n",
            "2/2 [==============================] - 0s 9ms/step - loss: 15.4794 - mae: 15.4794\n",
            "Epoch 300/500\n",
            "2/2 [==============================] - 0s 8ms/step - loss: 6.8255 - mae: 6.8255\n",
            "Epoch 301/500\n",
            "2/2 [==============================] - 0s 12ms/step - loss: 24.2206 - mae: 24.2206\n",
            "Epoch 302/500\n",
            "2/2 [==============================] - 0s 9ms/step - loss: 8.0888 - mae: 8.0888\n",
            "Epoch 303/500\n",
            "2/2 [==============================] - 0s 8ms/step - loss: 20.7031 - mae: 20.7031\n",
            "Epoch 304/500\n",
            "2/2 [==============================] - 0s 7ms/step - loss: 13.3839 - mae: 13.3839\n",
            "Epoch 305/500\n",
            "2/2 [==============================] - 0s 8ms/step - loss: 6.9850 - mae: 6.9850\n",
            "Epoch 306/500\n",
            "2/2 [==============================] - 0s 6ms/step - loss: 18.8354 - mae: 18.8354\n",
            "Epoch 307/500\n",
            "2/2 [==============================] - 0s 8ms/step - loss: 9.5895 - mae: 9.5895\n",
            "Epoch 308/500\n",
            "2/2 [==============================] - 0s 8ms/step - loss: 20.1155 - mae: 20.1155\n",
            "Epoch 309/500\n",
            "2/2 [==============================] - 0s 7ms/step - loss: 14.4938 - mae: 14.4938\n",
            "Epoch 310/500\n",
            "2/2 [==============================] - 0s 7ms/step - loss: 4.4376 - mae: 4.4376\n",
            "Epoch 311/500\n",
            "2/2 [==============================] - 0s 7ms/step - loss: 12.0128 - mae: 12.0128\n",
            "Epoch 312/500\n",
            "2/2 [==============================] - 0s 8ms/step - loss: 29.2825 - mae: 29.2825\n",
            "Epoch 313/500\n",
            "2/2 [==============================] - 0s 7ms/step - loss: 8.8835 - mae: 8.8835\n",
            "Epoch 314/500\n",
            "2/2 [==============================] - 0s 7ms/step - loss: 6.5163 - mae: 6.5163\n",
            "Epoch 315/500\n",
            "2/2 [==============================] - 0s 8ms/step - loss: 23.9579 - mae: 23.9579\n",
            "Epoch 316/500\n",
            "2/2 [==============================] - 0s 8ms/step - loss: 16.1246 - mae: 16.1246\n",
            "Epoch 317/500\n",
            "2/2 [==============================] - 0s 7ms/step - loss: 20.5947 - mae: 20.5947\n",
            "Epoch 318/500\n",
            "2/2 [==============================] - 0s 7ms/step - loss: 8.6779 - mae: 8.6779\n",
            "Epoch 319/500\n",
            "2/2 [==============================] - 0s 7ms/step - loss: 15.2238 - mae: 15.2238\n",
            "Epoch 320/500\n",
            "2/2 [==============================] - 0s 8ms/step - loss: 8.3077 - mae: 8.3077\n",
            "Epoch 321/500\n",
            "2/2 [==============================] - 0s 7ms/step - loss: 14.6484 - mae: 14.6484\n",
            "Epoch 322/500\n",
            "2/2 [==============================] - 0s 10ms/step - loss: 12.8116 - mae: 12.8116\n",
            "Epoch 323/500\n",
            "2/2 [==============================] - 0s 9ms/step - loss: 19.0856 - mae: 19.0856\n",
            "Epoch 324/500\n",
            "2/2 [==============================] - 0s 8ms/step - loss: 17.0298 - mae: 17.0298\n",
            "Epoch 325/500\n",
            "2/2 [==============================] - 0s 9ms/step - loss: 9.2867 - mae: 9.2867\n",
            "Epoch 326/500\n",
            "2/2 [==============================] - 0s 11ms/step - loss: 19.9192 - mae: 19.9192\n",
            "Epoch 327/500\n",
            "2/2 [==============================] - 0s 9ms/step - loss: 28.1206 - mae: 28.1206\n",
            "Epoch 328/500\n",
            "2/2 [==============================] - 0s 9ms/step - loss: 11.7005 - mae: 11.7005\n",
            "Epoch 329/500\n",
            "2/2 [==============================] - 0s 8ms/step - loss: 16.3687 - mae: 16.3687\n",
            "Epoch 330/500\n",
            "2/2 [==============================] - 0s 9ms/step - loss: 7.2963 - mae: 7.2963\n",
            "Epoch 331/500\n",
            "2/2 [==============================] - 0s 8ms/step - loss: 22.6052 - mae: 22.6052\n",
            "Epoch 332/500\n",
            "2/2 [==============================] - 0s 7ms/step - loss: 13.3524 - mae: 13.3524\n",
            "Epoch 333/500\n",
            "2/2 [==============================] - 0s 8ms/step - loss: 10.1699 - mae: 10.1699\n",
            "Epoch 334/500\n",
            "2/2 [==============================] - 0s 8ms/step - loss: 6.6097 - mae: 6.6097\n",
            "Epoch 335/500\n",
            "2/2 [==============================] - 0s 9ms/step - loss: 6.2378 - mae: 6.2378\n",
            "Epoch 336/500\n",
            "2/2 [==============================] - 0s 8ms/step - loss: 34.6123 - mae: 34.6123\n",
            "Epoch 337/500\n",
            "2/2 [==============================] - 0s 9ms/step - loss: 27.0237 - mae: 27.0237\n",
            "Epoch 338/500\n",
            "2/2 [==============================] - 0s 8ms/step - loss: 14.0323 - mae: 14.0323\n",
            "Epoch 339/500\n",
            "2/2 [==============================] - 0s 8ms/step - loss: 11.5886 - mae: 11.5886\n",
            "Epoch 340/500\n",
            "2/2 [==============================] - 0s 8ms/step - loss: 8.8009 - mae: 8.8009\n",
            "Epoch 341/500\n",
            "2/2 [==============================] - 0s 8ms/step - loss: 23.4175 - mae: 23.4175\n",
            "Epoch 342/500\n",
            "2/2 [==============================] - 0s 9ms/step - loss: 13.9882 - mae: 13.9882\n",
            "Epoch 343/500\n",
            "2/2 [==============================] - 0s 7ms/step - loss: 14.7839 - mae: 14.7839\n",
            "Epoch 344/500\n",
            "2/2 [==============================] - 0s 7ms/step - loss: 13.3634 - mae: 13.3634\n",
            "Epoch 345/500\n",
            "2/2 [==============================] - 0s 12ms/step - loss: 30.9953 - mae: 30.9953\n",
            "Epoch 346/500\n",
            "2/2 [==============================] - 0s 9ms/step - loss: 10.6765 - mae: 10.6765\n",
            "Epoch 347/500\n",
            "2/2 [==============================] - 0s 7ms/step - loss: 25.6787 - mae: 25.6787\n",
            "Epoch 348/500\n",
            "2/2 [==============================] - 0s 8ms/step - loss: 12.9958 - mae: 12.9958\n",
            "Epoch 349/500\n",
            "2/2 [==============================] - 0s 7ms/step - loss: 13.1103 - mae: 13.1103\n",
            "Epoch 350/500\n",
            "2/2 [==============================] - 0s 6ms/step - loss: 15.4157 - mae: 15.4157\n",
            "Epoch 351/500\n",
            "2/2 [==============================] - 0s 8ms/step - loss: 32.9312 - mae: 32.9312\n",
            "Epoch 352/500\n",
            "2/2 [==============================] - 0s 6ms/step - loss: 14.1515 - mae: 14.1515\n",
            "Epoch 353/500\n",
            "2/2 [==============================] - 0s 7ms/step - loss: 15.8779 - mae: 15.8779\n",
            "Epoch 354/500\n",
            "2/2 [==============================] - 0s 7ms/step - loss: 18.9998 - mae: 18.9998\n",
            "Epoch 355/500\n",
            "2/2 [==============================] - 0s 8ms/step - loss: 34.3638 - mae: 34.3638\n",
            "Epoch 356/500\n",
            "2/2 [==============================] - 0s 7ms/step - loss: 8.2910 - mae: 8.2910\n",
            "Epoch 357/500\n",
            "2/2 [==============================] - 0s 7ms/step - loss: 21.8776 - mae: 21.8776\n",
            "Epoch 358/500\n",
            "2/2 [==============================] - 0s 7ms/step - loss: 20.0123 - mae: 20.0123\n",
            "Epoch 359/500\n",
            "2/2 [==============================] - 0s 10ms/step - loss: 11.0359 - mae: 11.0359\n",
            "Epoch 360/500\n",
            "2/2 [==============================] - 0s 8ms/step - loss: 20.2665 - mae: 20.2665\n",
            "Epoch 361/500\n",
            "2/2 [==============================] - 0s 9ms/step - loss: 11.0099 - mae: 11.0099\n",
            "Epoch 362/500\n",
            "2/2 [==============================] - 0s 6ms/step - loss: 6.7984 - mae: 6.7984\n",
            "Epoch 363/500\n",
            "2/2 [==============================] - 0s 7ms/step - loss: 24.0183 - mae: 24.0183\n",
            "Epoch 364/500\n",
            "2/2 [==============================] - 0s 7ms/step - loss: 29.7865 - mae: 29.7865\n",
            "Epoch 365/500\n",
            "2/2 [==============================] - 0s 7ms/step - loss: 8.3405 - mae: 8.3405\n",
            "Epoch 366/500\n",
            "2/2 [==============================] - 0s 7ms/step - loss: 6.0721 - mae: 6.0721\n",
            "Epoch 367/500\n",
            "2/2 [==============================] - 0s 7ms/step - loss: 34.9808 - mae: 34.9808\n",
            "Epoch 368/500\n",
            "2/2 [==============================] - 0s 7ms/step - loss: 7.4000 - mae: 7.4000\n",
            "Epoch 369/500\n",
            "2/2 [==============================] - 0s 7ms/step - loss: 9.2348 - mae: 9.2348\n",
            "Epoch 370/500\n",
            "2/2 [==============================] - 0s 7ms/step - loss: 10.9561 - mae: 10.9561\n",
            "Epoch 371/500\n",
            "2/2 [==============================] - 0s 7ms/step - loss: 9.0192 - mae: 9.0192\n",
            "Epoch 372/500\n",
            "2/2 [==============================] - 0s 6ms/step - loss: 7.6759 - mae: 7.6759\n",
            "Epoch 373/500\n",
            "2/2 [==============================] - 0s 7ms/step - loss: 25.0176 - mae: 25.0176\n",
            "Epoch 374/500\n",
            "2/2 [==============================] - 0s 8ms/step - loss: 13.3095 - mae: 13.3095\n",
            "Epoch 375/500\n",
            "2/2 [==============================] - 0s 7ms/step - loss: 11.8118 - mae: 11.8118\n",
            "Epoch 376/500\n",
            "2/2 [==============================] - 0s 7ms/step - loss: 14.0940 - mae: 14.0940\n",
            "Epoch 377/500\n",
            "2/2 [==============================] - 0s 6ms/step - loss: 15.6774 - mae: 15.6774\n",
            "Epoch 378/500\n",
            "2/2 [==============================] - 0s 7ms/step - loss: 16.9790 - mae: 16.9790\n",
            "Epoch 379/500\n",
            "2/2 [==============================] - 0s 7ms/step - loss: 19.5108 - mae: 19.5108\n",
            "Epoch 380/500\n",
            "2/2 [==============================] - 0s 8ms/step - loss: 15.8749 - mae: 15.8749\n",
            "Epoch 381/500\n",
            "2/2 [==============================] - 0s 7ms/step - loss: 11.4137 - mae: 11.4137\n",
            "Epoch 382/500\n",
            "2/2 [==============================] - 0s 8ms/step - loss: 16.2993 - mae: 16.2993\n",
            "Epoch 383/500\n",
            "2/2 [==============================] - 0s 7ms/step - loss: 22.0354 - mae: 22.0354\n",
            "Epoch 384/500\n",
            "2/2 [==============================] - 0s 7ms/step - loss: 7.8000 - mae: 7.8000\n",
            "Epoch 385/500\n",
            "2/2 [==============================] - 0s 11ms/step - loss: 10.5664 - mae: 10.5664\n",
            "Epoch 386/500\n",
            "2/2 [==============================] - 0s 7ms/step - loss: 19.0101 - mae: 19.0101\n",
            "Epoch 387/500\n",
            "2/2 [==============================] - 0s 10ms/step - loss: 15.4302 - mae: 15.4302\n",
            "Epoch 388/500\n",
            "2/2 [==============================] - 0s 7ms/step - loss: 5.8745 - mae: 5.8745\n",
            "Epoch 389/500\n",
            "2/2 [==============================] - 0s 7ms/step - loss: 18.0309 - mae: 18.0309\n",
            "Epoch 390/500\n",
            "2/2 [==============================] - 0s 7ms/step - loss: 24.7737 - mae: 24.7737\n",
            "Epoch 391/500\n",
            "2/2 [==============================] - 0s 7ms/step - loss: 16.4913 - mae: 16.4913\n",
            "Epoch 392/500\n",
            "2/2 [==============================] - 0s 6ms/step - loss: 8.3645 - mae: 8.3645\n",
            "Epoch 393/500\n",
            "2/2 [==============================] - 0s 7ms/step - loss: 18.1383 - mae: 18.1383\n",
            "Epoch 394/500\n",
            "2/2 [==============================] - 0s 6ms/step - loss: 14.1912 - mae: 14.1912\n",
            "Epoch 395/500\n",
            "2/2 [==============================] - 0s 7ms/step - loss: 28.6700 - mae: 28.6700\n",
            "Epoch 396/500\n",
            "2/2 [==============================] - 0s 7ms/step - loss: 8.1714 - mae: 8.1714\n",
            "Epoch 397/500\n",
            "2/2 [==============================] - 0s 7ms/step - loss: 10.5111 - mae: 10.5111\n",
            "Epoch 398/500\n",
            "2/2 [==============================] - 0s 8ms/step - loss: 7.3545 - mae: 7.3545\n",
            "Epoch 399/500\n",
            "2/2 [==============================] - 0s 7ms/step - loss: 15.6407 - mae: 15.6407\n",
            "Epoch 400/500\n",
            "2/2 [==============================] - 0s 7ms/step - loss: 6.7100 - mae: 6.7100\n",
            "Epoch 401/500\n",
            "2/2 [==============================] - 0s 7ms/step - loss: 8.0127 - mae: 8.0127\n",
            "Epoch 402/500\n",
            "2/2 [==============================] - 0s 6ms/step - loss: 16.4926 - mae: 16.4926\n",
            "Epoch 403/500\n",
            "2/2 [==============================] - 0s 7ms/step - loss: 12.3237 - mae: 12.3237\n",
            "Epoch 404/500\n",
            "2/2 [==============================] - 0s 7ms/step - loss: 22.8946 - mae: 22.8946\n",
            "Epoch 405/500\n",
            "2/2 [==============================] - 0s 6ms/step - loss: 18.1848 - mae: 18.1848\n",
            "Epoch 406/500\n",
            "2/2 [==============================] - 0s 7ms/step - loss: 7.0519 - mae: 7.0519\n",
            "Epoch 407/500\n",
            "2/2 [==============================] - 0s 8ms/step - loss: 12.7034 - mae: 12.7034\n",
            "Epoch 408/500\n",
            "2/2 [==============================] - 0s 7ms/step - loss: 5.6441 - mae: 5.6441\n",
            "Epoch 409/500\n",
            "2/2 [==============================] - 0s 7ms/step - loss: 31.3844 - mae: 31.3844\n",
            "Epoch 410/500\n",
            "2/2 [==============================] - 0s 8ms/step - loss: 9.2038 - mae: 9.2038\n",
            "Epoch 411/500\n",
            "2/2 [==============================] - 0s 6ms/step - loss: 14.8358 - mae: 14.8358\n",
            "Epoch 412/500\n",
            "2/2 [==============================] - 0s 7ms/step - loss: 21.6963 - mae: 21.6963\n",
            "Epoch 413/500\n",
            "2/2 [==============================] - 0s 8ms/step - loss: 12.6829 - mae: 12.6829\n",
            "Epoch 414/500\n",
            "2/2 [==============================] - 0s 9ms/step - loss: 6.0103 - mae: 6.0103\n",
            "Epoch 415/500\n",
            "2/2 [==============================] - 0s 10ms/step - loss: 13.2092 - mae: 13.2092\n",
            "Epoch 416/500\n",
            "2/2 [==============================] - 0s 8ms/step - loss: 27.4027 - mae: 27.4027\n",
            "Epoch 417/500\n",
            "2/2 [==============================] - 0s 8ms/step - loss: 10.6958 - mae: 10.6958\n",
            "Epoch 418/500\n",
            "2/2 [==============================] - 0s 8ms/step - loss: 12.7890 - mae: 12.7890\n",
            "Epoch 419/500\n",
            "2/2 [==============================] - 0s 9ms/step - loss: 15.8478 - mae: 15.8478\n",
            "Epoch 420/500\n",
            "2/2 [==============================] - 0s 8ms/step - loss: 24.7057 - mae: 24.7057\n",
            "Epoch 421/500\n",
            "2/2 [==============================] - 0s 8ms/step - loss: 17.5884 - mae: 17.5884\n",
            "Epoch 422/500\n",
            "2/2 [==============================] - 0s 13ms/step - loss: 8.6800 - mae: 8.6800\n",
            "Epoch 423/500\n",
            "2/2 [==============================] - 0s 8ms/step - loss: 24.8908 - mae: 24.8908\n",
            "Epoch 424/500\n",
            "2/2 [==============================] - 0s 8ms/step - loss: 16.3035 - mae: 16.3035\n",
            "Epoch 425/500\n",
            "2/2 [==============================] - 0s 11ms/step - loss: 7.1285 - mae: 7.1285\n",
            "Epoch 426/500\n",
            "2/2 [==============================] - 0s 11ms/step - loss: 20.4203 - mae: 20.4203\n",
            "Epoch 427/500\n",
            "2/2 [==============================] - 0s 11ms/step - loss: 6.3041 - mae: 6.3041\n",
            "Epoch 428/500\n",
            "2/2 [==============================] - 0s 9ms/step - loss: 13.0780 - mae: 13.0780\n",
            "Epoch 429/500\n",
            "2/2 [==============================] - 0s 7ms/step - loss: 10.8559 - mae: 10.8559\n",
            "Epoch 430/500\n",
            "2/2 [==============================] - 0s 7ms/step - loss: 11.7224 - mae: 11.7224\n",
            "Epoch 431/500\n",
            "2/2 [==============================] - 0s 7ms/step - loss: 7.8824 - mae: 7.8824\n",
            "Epoch 432/500\n",
            "2/2 [==============================] - 0s 10ms/step - loss: 22.1532 - mae: 22.1532\n",
            "Epoch 433/500\n",
            "2/2 [==============================] - 0s 8ms/step - loss: 5.8811 - mae: 5.8811\n",
            "Epoch 434/500\n",
            "2/2 [==============================] - 0s 8ms/step - loss: 32.6571 - mae: 32.6571\n",
            "Epoch 435/500\n",
            "2/2 [==============================] - 0s 7ms/step - loss: 13.6644 - mae: 13.6644\n",
            "Epoch 436/500\n",
            "2/2 [==============================] - 0s 7ms/step - loss: 28.9022 - mae: 28.9022\n",
            "Epoch 437/500\n",
            "2/2 [==============================] - 0s 6ms/step - loss: 8.5772 - mae: 8.5772\n",
            "Epoch 438/500\n",
            "2/2 [==============================] - 0s 6ms/step - loss: 12.7169 - mae: 12.7169\n",
            "Epoch 439/500\n",
            "2/2 [==============================] - 0s 7ms/step - loss: 33.6865 - mae: 33.6865\n",
            "Epoch 440/500\n",
            "2/2 [==============================] - 0s 7ms/step - loss: 15.0783 - mae: 15.0783\n",
            "Epoch 441/500\n",
            "2/2 [==============================] - 0s 7ms/step - loss: 17.4633 - mae: 17.4633\n",
            "Epoch 442/500\n",
            "2/2 [==============================] - 0s 7ms/step - loss: 22.2960 - mae: 22.2960\n",
            "Epoch 443/500\n",
            "2/2 [==============================] - 0s 7ms/step - loss: 23.5997 - mae: 23.5997\n",
            "Epoch 444/500\n",
            "2/2 [==============================] - 0s 12ms/step - loss: 10.9953 - mae: 10.9953\n",
            "Epoch 445/500\n",
            "2/2 [==============================] - 0s 7ms/step - loss: 14.8929 - mae: 14.8929\n",
            "Epoch 446/500\n",
            "2/2 [==============================] - 0s 10ms/step - loss: 17.9636 - mae: 17.9636\n",
            "Epoch 447/500\n",
            "2/2 [==============================] - 0s 10ms/step - loss: 5.4142 - mae: 5.4142\n",
            "Epoch 448/500\n",
            "2/2 [==============================] - 0s 9ms/step - loss: 10.0014 - mae: 10.0014\n",
            "Epoch 449/500\n",
            "2/2 [==============================] - 0s 7ms/step - loss: 13.9645 - mae: 13.9645\n",
            "Epoch 450/500\n",
            "2/2 [==============================] - 0s 8ms/step - loss: 16.7309 - mae: 16.7309\n",
            "Epoch 451/500\n",
            "2/2 [==============================] - 0s 9ms/step - loss: 14.2580 - mae: 14.2580\n",
            "Epoch 452/500\n",
            "2/2 [==============================] - 0s 8ms/step - loss: 30.5888 - mae: 30.5888\n",
            "Epoch 453/500\n",
            "2/2 [==============================] - 0s 8ms/step - loss: 7.6112 - mae: 7.6112\n",
            "Epoch 454/500\n",
            "2/2 [==============================] - 0s 8ms/step - loss: 28.0936 - mae: 28.0936\n",
            "Epoch 455/500\n",
            "2/2 [==============================] - 0s 9ms/step - loss: 8.3064 - mae: 8.3064\n",
            "Epoch 456/500\n",
            "2/2 [==============================] - 0s 8ms/step - loss: 12.0134 - mae: 12.0134\n",
            "Epoch 457/500\n",
            "2/2 [==============================] - 0s 8ms/step - loss: 15.4161 - mae: 15.4161\n",
            "Epoch 458/500\n",
            "2/2 [==============================] - 0s 10ms/step - loss: 16.9699 - mae: 16.9699\n",
            "Epoch 459/500\n",
            "2/2 [==============================] - 0s 9ms/step - loss: 3.0731 - mae: 3.0731\n",
            "Epoch 460/500\n",
            "2/2 [==============================] - 0s 8ms/step - loss: 12.4577 - mae: 12.4577\n",
            "Epoch 461/500\n",
            "2/2 [==============================] - 0s 8ms/step - loss: 12.4712 - mae: 12.4712\n",
            "Epoch 462/500\n",
            "2/2 [==============================] - 0s 8ms/step - loss: 13.3368 - mae: 13.3368\n",
            "Epoch 463/500\n",
            "2/2 [==============================] - 0s 8ms/step - loss: 29.5969 - mae: 29.5969\n",
            "Epoch 464/500\n",
            "2/2 [==============================] - 0s 8ms/step - loss: 3.3884 - mae: 3.3884\n",
            "Epoch 465/500\n",
            "2/2 [==============================] - 0s 9ms/step - loss: 15.2174 - mae: 15.2174\n",
            "Epoch 466/500\n",
            "2/2 [==============================] - 0s 9ms/step - loss: 20.7939 - mae: 20.7939\n",
            "Epoch 467/500\n",
            "2/2 [==============================] - 0s 8ms/step - loss: 30.6596 - mae: 30.6596\n",
            "Epoch 468/500\n",
            "2/2 [==============================] - 0s 8ms/step - loss: 11.0861 - mae: 11.0861\n",
            "Epoch 469/500\n",
            "2/2 [==============================] - 0s 9ms/step - loss: 12.9132 - mae: 12.9132\n",
            "Epoch 470/500\n",
            "2/2 [==============================] - 0s 7ms/step - loss: 3.4818 - mae: 3.4818\n",
            "Epoch 471/500\n",
            "2/2 [==============================] - 0s 7ms/step - loss: 42.2051 - mae: 42.2051\n",
            "Epoch 472/500\n",
            "2/2 [==============================] - 0s 8ms/step - loss: 3.8275 - mae: 3.8275\n",
            "Epoch 473/500\n",
            "2/2 [==============================] - 0s 7ms/step - loss: 16.1023 - mae: 16.1023\n",
            "Epoch 474/500\n",
            "2/2 [==============================] - 0s 7ms/step - loss: 39.0296 - mae: 39.0296\n",
            "Epoch 475/500\n",
            "2/2 [==============================] - 0s 7ms/step - loss: 15.8234 - mae: 15.8234\n",
            "Epoch 476/500\n",
            "2/2 [==============================] - 0s 12ms/step - loss: 13.4549 - mae: 13.4549\n",
            "Epoch 477/500\n",
            "2/2 [==============================] - 0s 8ms/step - loss: 29.8250 - mae: 29.8250\n",
            "Epoch 478/500\n",
            "2/2 [==============================] - 0s 7ms/step - loss: 4.2860 - mae: 4.2860\n",
            "Epoch 479/500\n",
            "2/2 [==============================] - 0s 7ms/step - loss: 13.5970 - mae: 13.5970\n",
            "Epoch 480/500\n",
            "2/2 [==============================] - 0s 7ms/step - loss: 20.2584 - mae: 20.2584\n",
            "Epoch 481/500\n",
            "2/2 [==============================] - 0s 8ms/step - loss: 24.4961 - mae: 24.4961\n",
            "Epoch 482/500\n",
            "2/2 [==============================] - 0s 7ms/step - loss: 13.2505 - mae: 13.2505\n",
            "Epoch 483/500\n",
            "2/2 [==============================] - 0s 8ms/step - loss: 8.7854 - mae: 8.7854\n",
            "Epoch 484/500\n",
            "2/2 [==============================] - 0s 8ms/step - loss: 27.9447 - mae: 27.9447\n",
            "Epoch 485/500\n",
            "2/2 [==============================] - 0s 8ms/step - loss: 8.6384 - mae: 8.6384\n",
            "Epoch 486/500\n",
            "2/2 [==============================] - 0s 7ms/step - loss: 5.3666 - mae: 5.3666\n",
            "Epoch 487/500\n",
            "2/2 [==============================] - 0s 8ms/step - loss: 11.9535 - mae: 11.9535\n",
            "Epoch 488/500\n",
            "2/2 [==============================] - 0s 7ms/step - loss: 27.4816 - mae: 27.4816\n",
            "Epoch 489/500\n",
            "2/2 [==============================] - 0s 8ms/step - loss: 5.4622 - mae: 5.4622\n",
            "Epoch 490/500\n",
            "2/2 [==============================] - 0s 8ms/step - loss: 6.1322 - mae: 6.1322\n",
            "Epoch 491/500\n",
            "2/2 [==============================] - 0s 7ms/step - loss: 19.6006 - mae: 19.6006\n",
            "Epoch 492/500\n",
            "2/2 [==============================] - 0s 7ms/step - loss: 6.7197 - mae: 6.7197\n",
            "Epoch 493/500\n",
            "2/2 [==============================] - 0s 6ms/step - loss: 18.6118 - mae: 18.6118\n",
            "Epoch 494/500\n",
            "2/2 [==============================] - 0s 8ms/step - loss: 19.0090 - mae: 19.0090\n",
            "Epoch 495/500\n",
            "2/2 [==============================] - 0s 10ms/step - loss: 5.7886 - mae: 5.7886\n",
            "Epoch 496/500\n",
            "2/2 [==============================] - 0s 10ms/step - loss: 5.9961 - mae: 5.9961\n",
            "Epoch 497/500\n",
            "2/2 [==============================] - 0s 11ms/step - loss: 12.7920 - mae: 12.7920\n",
            "Epoch 498/500\n",
            "2/2 [==============================] - 0s 7ms/step - loss: 6.3937 - mae: 6.3937\n",
            "Epoch 499/500\n",
            "2/2 [==============================] - 0s 12ms/step - loss: 16.2555 - mae: 16.2555\n",
            "Epoch 500/500\n",
            "2/2 [==============================] - 0s 7ms/step - loss: 14.2775 - mae: 14.2775\n"
          ]
        },
        {
          "output_type": "execute_result",
          "data": {
            "text/plain": [
              "<keras.callbacks.History at 0x7baff8ebaec0>"
            ]
          },
          "metadata": {},
          "execution_count": 58
        }
      ]
    },
    {
      "cell_type": "code",
      "source": [
        "qy_preds_3 = tf.squeeze(y_preds_3)"
      ],
      "metadata": {
        "id": "VydHV47_X6Yx"
      },
      "execution_count": null,
      "outputs": []
    },
    {
      "cell_type": "code",
      "source": [
        "qy_preds_3 = model_13.predict(X_test)\n",
        "plot_predictions( predictions = qy_preds_3)"
      ],
      "metadata": {
        "colab": {
          "base_uri": "https://localhost:8080/",
          "height": 616
        },
        "id": "vbNjw-ZrYUcO",
        "outputId": "2e16021e-58fd-4544-9ae7-0aa7b5155d95"
      },
      "execution_count": null,
      "outputs": [
        {
          "output_type": "stream",
          "name": "stdout",
          "text": [
            "1/1 [==============================] - 0s 39ms/step\n"
          ]
        },
        {
          "output_type": "display_data",
          "data": {
            "text/plain": [
              "<Figure size 1000x700 with 1 Axes>"
            ],
            "image/png": "[encoded data removed]"
          },
          "metadata": {}
        }
      ]
    },
    {
      "cell_type": "code",
      "source": [
        "mae_3 = tf.keras.metrics.mean_absolute_error(\n",
        "    y_true = y_test, y_pred = tf.squeeze(qy_preds_3)\n",
        ")\n",
        "mse_3 = tf.keras.metrics.mean_squared_error( y_true = y_test ,\n",
        "                                          y_pred = tf.squeeze(qy_preds_3))  #evaluation metrics\n",
        "\n",
        "mae_3 , mse_3"
      ],
      "metadata": {
        "colab": {
          "base_uri": "https://localhost:8080/"
        },
        "id": "5C-p4nPvZEdp",
        "outputId": "0c456011-1114-40c3-ec57-2e6cacabfd06"
      },
      "execution_count": null,
      "outputs": [
        {
          "output_type": "execute_result",
          "data": {
            "text/plain": [
              "(<tf.Tensor: shape=(), dtype=float32, numpy=67.53123>,\n",
              " <tf.Tensor: shape=(), dtype=float32, numpy=4644.301>)"
            ]
          },
          "metadata": {},
          "execution_count": 69
        }
      ]
    },
    {
      "cell_type": "markdown",
      "source": [
        "# Comparing the results of our experiment\n",
        "* We have run a few experiments , lets compare the results"
      ],
      "metadata": {
        "id": "GarPaoY6aOUm"
      }
    },
    {
      "cell_type": "code",
      "source": [
        "#Lets compare our model's results using pandas dataframe\n",
        "import pandas as pd\n",
        "\n",
        "model_results = [[\"model_11\" , mae_1.numpy() , mse_1.numpy()] ,\n",
        "                           [\"model_12\" , mae_2.numpy() , mse_2.numpy()] ,\n",
        "                           [\"model_13\" , mae_3.numpy() , mse_3.numpy()]]\n",
        "\n",
        "all_results = pd.DataFrame(model_results , columns =  [\"model\" , \"mae\" , \"mse\"])\n",
        "all_results"
      ],
      "metadata": {
        "colab": {
          "base_uri": "https://localhost:8080/",
          "height": 143
        },
        "id": "DedZ8JOvb0da",
        "outputId": "3b8203df-08f5-443c-b68f-8c2ccca23832"
      },
      "execution_count": null,
      "outputs": [
        {
          "output_type": "execute_result",
          "data": {
            "text/plain": [
              "      model        mae          mse\n",
              "0  model_11  14.851092   221.374359\n",
              "1  model_12   2.992983    11.710004\n",
              "2  model_13  67.531227  4644.300781"
            ],
            "text/html": [
              "\n",
              "\n",
              "  <div id=\"df-8e3c886f-9792-4ef1-b44c-7ff09d4cce1e\">\n",
              "    <div class=\"colab-df-container\">\n",
              "      <div>\n",
              "<style scoped>\n",
              "    .dataframe tbody tr th:only-of-type {\n",
              "        vertical-align: middle;\n",
              "    }\n",
              "\n",
              "    .dataframe tbody tr th {\n",
              "        vertical-align: top;\n",
              "    }\n",
              "\n",
              "    .dataframe thead th {\n",
              "        text-align: right;\n",
              "    }\n",
              "</style>\n",
              "<table border=\"1\" class=\"dataframe\">\n",
              "  <thead>\n",
              "    <tr style=\"text-align: right;\">\n",
              "      <th></th>\n",
              "      <th>model</th>\n",
              "      <th>mae</th>\n",
              "      <th>mse</th>\n",
              "    </tr>\n",
              "  </thead>\n",
              "  <tbody>\n",
              "    <tr>\n",
              "      <th>0</th>\n",
              "      <td>model_11</td>\n",
              "      <td>14.851092</td>\n",
              "      <td>221.374359</td>\n",
              "    </tr>\n",
              "    <tr>\n",
              "      <th>1</th>\n",
              "      <td>model_12</td>\n",
              "      <td>2.992983</td>\n",
              "      <td>11.710004</td>\n",
              "    </tr>\n",
              "    <tr>\n",
              "      <th>2</th>\n",
              "      <td>model_13</td>\n",
              "      <td>67.531227</td>\n",
              "      <td>4644.300781</td>\n",
              "    </tr>\n",
              "  </tbody>\n",
              "</table>\n",
              "</div>\n",
              "      <button class=\"colab-df-convert\" onclick=\"convertToInteractive('df-8e3c886f-9792-4ef1-b44c-7ff09d4cce1e')\"\n",
              "              title=\"Convert this dataframe to an interactive table.\"\n",
              "              style=\"display:none;\">\n",
              "\n",
              "  <svg xmlns=\"http://www.w3.org/2000/svg\" height=\"24px\"viewBox=\"0 0 24 24\"\n",
              "       width=\"24px\">\n",
              "    <path d=\"M0 0h24v24H0V0z\" fill=\"none\"/>\n",
              "    <path d=\"M18.56 5.44l.94 2.06.94-2.06 2.06-.94-2.06-.94-.94-2.06-.94 2.06-2.06.94zm-11 1L8.5 8.5l.94-2.06 2.06-.94-2.06-.94L8.5 2.5l-.94 2.06-2.06.94zm10 10l.94 2.06.94-2.06 2.06-.94-2.06-.94-.94-2.06-.94 2.06-2.06.94z\"/><path d=\"M17.41 7.96l-1.37-1.37c-.4-.4-.92-.59-1.43-.59-.52 0-1.04.2-1.43.59L10.3 9.45l-7.72 7.72c-.78.78-.78 2.05 0 2.83L4 21.41c.39.39.9.59 1.41.59.51 0 1.02-.2 1.41-.59l7.78-7.78 2.81-2.81c.8-.78.8-2.07 0-2.86zM5.41 20L4 18.59l7.72-7.72 1.47 1.35L5.41 20z\"/>\n",
              "  </svg>\n",
              "      </button>\n",
              "\n",
              "\n",
              "\n",
              "    <div id=\"df-540b8f66-84a7-4bf3-8a26-41cfd35d32dc\">\n",
              "      <button class=\"colab-df-quickchart\" onclick=\"quickchart('df-540b8f66-84a7-4bf3-8a26-41cfd35d32dc')\"\n",
              "              title=\"Suggest charts.\"\n",
              "              style=\"display:none;\">\n",
              "\n",
              "<svg xmlns=\"http://www.w3.org/2000/svg\" height=\"24px\"viewBox=\"0 0 24 24\"\n",
              "     width=\"24px\">\n",
              "    <g>\n",
              "        <path d=\"M19 3H5c-1.1 0-2 .9-2 2v14c0 1.1.9 2 2 2h14c1.1 0 2-.9 2-2V5c0-1.1-.9-2-2-2zM9 17H7v-7h2v7zm4 0h-2V7h2v10zm4 0h-2v-4h2v4z\"/>\n",
              "    </g>\n",
              "</svg>\n",
              "      </button>\n",
              "    </div>\n",
              "\n",
              "<style>\n",
              "  .colab-df-quickchart {\n",
              "    background-color: #E8F0FE;\n",
              "    border: none;\n",
              "    border-radius: 50%;\n",
              "    cursor: pointer;\n",
              "    display: none;\n",
              "    fill: #1967D2;\n",
              "    height: 32px;\n",
              "    padding: 0 0 0 0;\n",
              "    width: 32px;\n",
              "  }\n",
              "\n",
              "  .colab-df-quickchart:hover {\n",
              "    background-color: #E2EBFA;\n",
              "    box-shadow: 0px 1px 2px rgba(60, 64, 67, 0.3), 0px 1px 3px 1px rgba(60, 64, 67, 0.15);\n",
              "    fill: #174EA6;\n",
              "  }\n",
              "\n",
              "  [theme=dark] .colab-df-quickchart {\n",
              "    background-color: #3B4455;\n",
              "    fill: #D2E3FC;\n",
              "  }\n",
              "\n",
              "  [theme=dark] .colab-df-quickchart:hover {\n",
              "    background-color: #434B5C;\n",
              "    box-shadow: 0px 1px 3px 1px rgba(0, 0, 0, 0.15);\n",
              "    filter: drop-shadow(0px 1px 2px rgba(0, 0, 0, 0.3));\n",
              "    fill: #FFFFFF;\n",
              "  }\n",
              "</style>\n",
              "\n",
              "    <script>\n",
              "      async function quickchart(key) {\n",
              "        const containerElement = document.querySelector('#' + key);\n",
              "        const charts = await google.colab.kernel.invokeFunction(\n",
              "            'suggestCharts', [key], {});\n",
              "      }\n",
              "    </script>\n",
              "\n",
              "      <script>\n",
              "\n",
              "function displayQuickchartButton(domScope) {\n",
              "  let quickchartButtonEl =\n",
              "    domScope.querySelector('#df-540b8f66-84a7-4bf3-8a26-41cfd35d32dc button.colab-df-quickchart');\n",
              "  quickchartButtonEl.style.display =\n",
              "    google.colab.kernel.accessAllowed ? 'block' : 'none';\n",
              "}\n",
              "\n",
              "        displayQuickchartButton(document);\n",
              "      </script>\n",
              "      <style>\n",
              "    .colab-df-container {\n",
              "      display:flex;\n",
              "      flex-wrap:wrap;\n",
              "      gap: 12px;\n",
              "    }\n",
              "\n",
              "    .colab-df-convert {\n",
              "      background-color: #E8F0FE;\n",
              "      border: none;\n",
              "      border-radius: 50%;\n",
              "      cursor: pointer;\n",
              "      display: none;\n",
              "      fill: #1967D2;\n",
              "      height: 32px;\n",
              "      padding: 0 0 0 0;\n",
              "      width: 32px;\n",
              "    }\n",
              "\n",
              "    .colab-df-convert:hover {\n",
              "      background-color: #E2EBFA;\n",
              "      box-shadow: 0px 1px 2px rgba(60, 64, 67, 0.3), 0px 1px 3px 1px rgba(60, 64, 67, 0.15);\n",
              "      fill: #174EA6;\n",
              "    }\n",
              "\n",
              "    [theme=dark] .colab-df-convert {\n",
              "      background-color: #3B4455;\n",
              "      fill: #D2E3FC;\n",
              "    }\n",
              "\n",
              "    [theme=dark] .colab-df-convert:hover {\n",
              "      background-color: #434B5C;\n",
              "      box-shadow: 0px 1px 3px 1px rgba(0, 0, 0, 0.15);\n",
              "      filter: drop-shadow(0px 1px 2px rgba(0, 0, 0, 0.3));\n",
              "      fill: #FFFFFF;\n",
              "    }\n",
              "  </style>\n",
              "\n",
              "      <script>\n",
              "        const buttonEl =\n",
              "          document.querySelector('#df-8e3c886f-9792-4ef1-b44c-7ff09d4cce1e button.colab-df-convert');\n",
              "        buttonEl.style.display =\n",
              "          google.colab.kernel.accessAllowed ? 'block' : 'none';\n",
              "\n",
              "        async function convertToInteractive(key) {\n",
              "          const element = document.querySelector('#df-8e3c886f-9792-4ef1-b44c-7ff09d4cce1e');\n",
              "          const dataTable =\n",
              "            await google.colab.kernel.invokeFunction('convertToInteractive',\n",
              "                                                     [key], {});\n",
              "          if (!dataTable) return;\n",
              "\n",
              "          const docLinkHtml = 'Like what you see? Visit the ' +\n",
              "            '<a target=\"_blank\" href=https://colab.research.google.com/notebooks/data_table.ipynb>data table notebook</a>'\n",
              "            + ' to learn more about interactive tables.';\n",
              "          element.innerHTML = '';\n",
              "          dataTable['output_type'] = 'display_data';\n",
              "          await google.colab.output.renderOutput(dataTable, element);\n",
              "          const docLink = document.createElement('div');\n",
              "          docLink.innerHTML = docLinkHtml;\n",
              "          element.appendChild(docLink);\n",
              "        }\n",
              "      </script>\n",
              "    </div>\n",
              "  </div>\n"
            ]
          },
          "metadata": {},
          "execution_count": 72
        }
      ]
    },
    {
      "cell_type": "markdown",
      "source": [
        "# model_12 is the best"
      ],
      "metadata": {
        "id": "t_pLVsfZch9O"
      }
    },
    {
      "cell_type": "code",
      "source": [
        "model_12.summary()"
      ],
      "metadata": {
        "colab": {
          "base_uri": "https://localhost:8080/"
        },
        "id": "6yOqHLnhdTGH",
        "outputId": "98acf9a4-1895-44c7-b3b3-06a73791aa78"
      },
      "execution_count": null,
      "outputs": [
        {
          "output_type": "stream",
          "name": "stdout",
          "text": [
            "Model: \"sequential_12\"\n",
            "_________________________________________________________________\n",
            " Layer (type)                Output Shape              Param #   \n",
            "=================================================================\n",
            " dense_17 (Dense)            (None, 10)                20        \n",
            "                                                                 \n",
            " dense_18 (Dense)            (None, 1)                 11        \n",
            "                                                                 \n",
            "=================================================================\n",
            "Total params: 31\n",
            "Trainable params: 31\n",
            "Non-trainable params: 0\n",
            "_________________________________________________________________\n"
          ]
        }
      ]
    },
    {
      "cell_type": "markdown",
      "source": [
        "# One of your main goals should be to minimize the time between your experiments. The more experiment you do , the more things you will figure out which dont work and in turn , get closer to figuring out what does work"
      ],
      "metadata": {
        "id": "Tw_sDjY4dVOR"
      }
    },
    {
      "cell_type": "markdown",
      "source": [
        "# Tracking your experiments.\n",
        "\n",
        "One really good habit in machine learning modelling it to track the results of your experiments.\n",
        "\n",
        "And when doing so , it can be tedious if you are running lots of experiments.\n",
        "\n",
        "Luckily , there are tools to help us."
      ],
      "metadata": {
        "id": "lFGmPq33euOH"
      }
    },
    {
      "cell_type": "markdown",
      "source": [
        "# TensorBoard - a component of the TensorFlow library to help track modelling experiments (we'll see this later).\n",
        "Weights & Biases - a tool for tracking all kinds of machine learning experiments (the good news for Weights & Biases is it plugs into TensorBoard)."
      ],
      "metadata": {
        "id": "yF-gRKuIftpM"
      }
    },
    {
      "cell_type": "markdown",
      "source": [
        "# Saving our models\n",
        "Once you've trained a model and found one which performs to your liking, you'll probably want to save it for use elsewhere (like a web application or mobile device).\n",
        "\n",
        "There are two main formats to saving our models\n",
        "* 1) The SavedModel format\n",
        "* 2) The HDF5 format"
      ],
      "metadata": {
        "id": "Gzdtyoevf-oY"
      }
    },
    {
      "cell_type": "code",
      "source": [
        "# Saving model with SavedModel format\n",
        "model_12.save(\"model_12_saved\")"
      ],
      "metadata": {
        "colab": {
          "base_uri": "https://localhost:8080/"
        },
        "id": "T6qOYwj-hzA9",
        "outputId": "0f1f9dd7-05aa-4346-aba5-d787b43ea72d"
      },
      "execution_count": null,
      "outputs": [
        {
          "output_type": "stream",
          "name": "stderr",
          "text": [
            "WARNING:absl:Found untraced functions such as _update_step_xla while saving (showing 1 of 1). These functions will not be directly callable after loading.\n"
          ]
        }
      ]
    },
    {
      "cell_type": "code",
      "source": [
        "# Saving model with HDF5 format\n",
        "model_12.save(\"model_12_saved.h5\")"
      ],
      "metadata": {
        "id": "laQ--ma7h6J9"
      },
      "execution_count": null,
      "outputs": []
    },
    {
      "cell_type": "code",
      "source": [
        "#Load in the SaveModel format\n",
        "loaded_SavedModel_format = tf.keras.models.load_model(\"/content/model_12_saved\")\n",
        "loaded_SavedModel_format.summary()"
      ],
      "metadata": {
        "colab": {
          "base_uri": "https://localhost:8080/"
        },
        "id": "_asuYTKhifc7",
        "outputId": "ac9245c4-d13b-42d6-ecd7-93c327a150e8"
      },
      "execution_count": null,
      "outputs": [
        {
          "output_type": "stream",
          "name": "stdout",
          "text": [
            "Model: \"sequential_12\"\n",
            "_________________________________________________________________\n",
            " Layer (type)                Output Shape              Param #   \n",
            "=================================================================\n",
            " dense_17 (Dense)            (None, 10)                20        \n",
            "                                                                 \n",
            " dense_18 (Dense)            (None, 1)                 11        \n",
            "                                                                 \n",
            "=================================================================\n",
            "Total params: 31\n",
            "Trainable params: 31\n",
            "Non-trainable params: 0\n",
            "_________________________________________________________________\n"
          ]
        }
      ]
    },
    {
      "cell_type": "code",
      "source": [
        "# Compare model_12 predictions with SavedModel format model predictions\n",
        "model_12_preds = model_12.predict(X_test)\n",
        "loaded_SavedModel_format_predicts = loaded_SavedModel_format.predict(X_test)\n",
        "\n",
        "model_12_preds == loaded_SavedModel_format_predicts\n"
      ],
      "metadata": {
        "colab": {
          "base_uri": "https://localhost:8080/"
        },
        "id": "JpA6C9i7jp9r",
        "outputId": "058a999b-ca25-47f7-f426-51c1f5cb91f3"
      },
      "execution_count": null,
      "outputs": [
        {
          "output_type": "stream",
          "name": "stdout",
          "text": [
            "1/1 [==============================] - 0s 28ms/step\n",
            "1/1 [==============================] - 0s 44ms/step\n"
          ]
        },
        {
          "output_type": "execute_result",
          "data": {
            "text/plain": [
              "array([[ True],\n",
              "       [ True],\n",
              "       [ True],\n",
              "       [ True],\n",
              "       [ True],\n",
              "       [ True],\n",
              "       [ True],\n",
              "       [ True],\n",
              "       [ True],\n",
              "       [ True]])"
            ]
          },
          "metadata": {},
          "execution_count": 77
        }
      ]
    },
    {
      "cell_type": "code",
      "source": [
        "# Loading with the h5 format\n",
        "\n",
        "loaded_h5_format = tf.keras.models.load_model(\"/content/model_12_saved.h5\")"
      ],
      "metadata": {
        "id": "11jnS9VflGZ1"
      },
      "execution_count": null,
      "outputs": []
    },
    {
      "cell_type": "code",
      "source": [
        "# Compare model_12 predictions with h5 format model predictions\n",
        "model_12_preds = model_12.predict(X_test)\n",
        "loaded_h5_format_predicts = loaded_h5_format.predict(X_test)\n",
        "\n",
        "model_12_preds == loaded_h5_format_predicts"
      ],
      "metadata": {
        "colab": {
          "base_uri": "https://localhost:8080/"
        },
        "id": "rFSg2CBJlvCR",
        "outputId": "8446b83e-9792-4551-f14d-798fe1b43fef"
      },
      "execution_count": null,
      "outputs": [
        {
          "output_type": "stream",
          "name": "stdout",
          "text": [
            "1/1 [==============================] - 0s 18ms/step\n",
            "1/1 [==============================] - 0s 42ms/step\n"
          ]
        },
        {
          "output_type": "execute_result",
          "data": {
            "text/plain": [
              "array([[ True],\n",
              "       [ True],\n",
              "       [ True],\n",
              "       [ True],\n",
              "       [ True],\n",
              "       [ True],\n",
              "       [ True],\n",
              "       [ True],\n",
              "       [ True],\n",
              "       [ True]])"
            ]
          },
          "metadata": {},
          "execution_count": 80
        }
      ]
    },
    {
      "cell_type": "code",
      "source": [],
      "metadata": {
        "id": "ivW4S4rJl8dH"
      },
      "execution_count": null,
      "outputs": []
    }
  ],
  "metadata": {
    "accelerator": "GPU",
    "colab": {
      "provenance": [],
      "authorship_tag": "ABX9TyM1AJMnT+ws9CD8hs6pdns9",
      "include_colab_link": true
    },
    "kernelspec": {
      "display_name": "Python 3",
      "name": "python3"
    },
    "language_info": {
      "name": "python"
    }
  },
  "nbformat": 4,
  "nbformat_minor": 0
}
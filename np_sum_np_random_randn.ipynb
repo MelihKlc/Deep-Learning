{
  "nbformat": 4,
  "nbformat_minor": 0,
  "metadata": {
    "colab": {
      "provenance": [],
      "authorship_tag": "ABX9TyNseen+wAryNYe9sA1w6ko0",
      "include_colab_link": true
    },
    "kernelspec": {
      "name": "python3",
      "display_name": "Python 3"
    },
    "language_info": {
      "name": "python"
    }
  },
  "cells": [
    {
      "cell_type": "markdown",
      "metadata": {
        "id": "view-in-github",
        "colab_type": "text"
      },
      "source": [
        "<a href=\"https://colab.research.google.com/github/MelihKlc/Deep-Learning/blob/main/np_sum_np_random_randn.ipynb\" target=\"_parent\"><img src=\"https://colab.research.google.com/assets/colab-badge.svg\" alt=\"Open In Colab\"/></a>"
      ]
    },
    {
      "cell_type": "code",
      "execution_count": null,
      "metadata": {
        "id": "9hi-68YC8GKM"
      },
      "outputs": [],
      "source": [
        "import numpy as np\n",
        "a = np.random.randn(4 , 3)\n",
        "b = np.sum(a , axis = 1 , keepdims = True)"
      ]
    },
    {
      "cell_type": "code",
      "source": [
        "b"
      ],
      "metadata": {
        "colab": {
          "base_uri": "https://localhost:8080/"
        },
        "id": "RG4CSdfx8O2D",
        "outputId": "41e358e6-80de-4242-838f-00ccc38e7aab"
      },
      "execution_count": null,
      "outputs": [
        {
          "output_type": "execute_result",
          "data": {
            "text/plain": [
              "array([[ 5.11326189],\n",
              "       [ 2.16631548],\n",
              "       [ 0.90516176],\n",
              "       [-1.27509171]])"
            ]
          },
          "metadata": {},
          "execution_count": 4
        }
      ]
    },
    {
      "cell_type": "code",
      "source": [
        "a"
      ],
      "metadata": {
        "colab": {
          "base_uri": "https://localhost:8080/"
        },
        "id": "Kkf5IlU68alY",
        "outputId": "041a858a-7200-4f19-e570-edc473cc8b08"
      },
      "execution_count": null,
      "outputs": [
        {
          "output_type": "execute_result",
          "data": {
            "text/plain": [
              "array([[ 2.16301372,  0.54496649,  2.40528169],\n",
              "       [ 0.96826927, -0.87854153,  2.07658774],\n",
              "       [ 0.96538449,  0.53528457, -0.59550731],\n",
              "       [-1.21891578, -0.52280101,  0.46662507]])"
            ]
          },
          "metadata": {},
          "execution_count": 5
        }
      ]
    },
    {
      "cell_type": "code",
      "source": [
        "x = np.random.randn( 4 , 5 )\n",
        "y = np.sum(x , axis = 1)"
      ],
      "metadata": {
        "id": "j1Uay5L-8c8Y"
      },
      "execution_count": null,
      "outputs": []
    },
    {
      "cell_type": "code",
      "source": [
        "y.shape"
      ],
      "metadata": {
        "colab": {
          "base_uri": "https://localhost:8080/"
        },
        "id": "xJCEIfEe-QO2",
        "outputId": "86cd2334-c9cd-4946-d4ff-9a847e024fab"
      },
      "execution_count": null,
      "outputs": [
        {
          "output_type": "execute_result",
          "data": {
            "text/plain": [
              "(4,)"
            ]
          },
          "metadata": {},
          "execution_count": 9
        }
      ]
    },
    {
      "cell_type": "code",
      "source": [
        "x"
      ],
      "metadata": {
        "colab": {
          "base_uri": "https://localhost:8080/"
        },
        "id": "ik4BmRXd-Q6z",
        "outputId": "8880c275-78f1-48f7-f44a-7193628ea01a"
      },
      "execution_count": null,
      "outputs": [
        {
          "output_type": "execute_result",
          "data": {
            "text/plain": [
              "array([[ 0.31225886,  0.65834327,  2.08341326,  0.74462801, -0.4209443 ],\n",
              "       [-0.65066576,  0.91875398,  0.42463797, -0.6472121 , -0.76157646],\n",
              "       [-1.05360054,  0.45322018,  0.37162341,  1.81846752,  0.10192781],\n",
              "       [-0.18510436, -0.9831291 , -2.32791358,  1.12144488, -0.55777683]])"
            ]
          },
          "metadata": {},
          "execution_count": 8
        }
      ]
    },
    {
      "cell_type": "code",
      "source": [],
      "metadata": {
        "id": "odWATJYw-Syo"
      },
      "execution_count": null,
      "outputs": []
    }
  ]
}
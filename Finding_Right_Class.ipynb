{
  "nbformat": 4,
  "nbformat_minor": 0,
  "metadata": {
    "colab": {
      "provenance": [],
      "gpuType": "T4",
      "authorship_tag": "ABX9TyMJpat3KTRBspE3vkRu7wfB",
      "include_colab_link": true
    },
    "kernelspec": {
      "name": "python3",
      "display_name": "Python 3"
    },
    "language_info": {
      "name": "python"
    },
    "accelerator": "GPU"
  },
  "cells": [
    {
      "cell_type": "markdown",
      "metadata": {
        "id": "view-in-github",
        "colab_type": "text"
      },
      "source": [
        "<a href=\"https://colab.research.google.com/github/MelihKlc/Deep-Learning/blob/main/Finding_Right_Class.ipynb\" target=\"_parent\"><img src=\"https://colab.research.google.com/assets/colab-badge.svg\" alt=\"Open In Colab\"/></a>"
      ]
    },
    {
      "cell_type": "code",
      "execution_count": null,
      "metadata": {
        "id": "KrRfGfZ01Bjg"
      },
      "outputs": [],
      "source": [
        "import pandas as pd\n",
        "\n",
        "# Define the data as a list of dictionaries\n",
        "data = [\n",
        "    {\"Text\": \"IEEE 802.11k and 802.11r are industry standards that enable seamless Basic Service Set (BSS) transitions in the WLAN environment.  Even though the signal may be weaker, the overall throughput is greater because more efficient use is made of the network resources\", \"Label\": \"802.11k\"},\n",
        "    {\"Text\": \"  802.11v is the Wireless Network Management standard for the IEEE 802.11 family of standards.\", \"Label\": \"802.11v\"},\n",
        "    {\"Text\": \" IEEE 802.11r specifies fast Basic Service Set (BSS) transitions between access points by redefining the security key negotiation protocol, allowing both the negotiation and requests for wireless resources (similar to RSVP but defined in 802.11e) to occur in parallel\", \"Label\": \"802.11r\"},\n",
        "    {\"Text\": \" In a network conforming to 802.11k, if the AP having the strongest signal is loaded to its full capacity, a wireless device is connected to one of the underutilized APs\", \"Label\": \"802.11k\"},\n",
        "    {\"Text\": \" The key negotiation protocol in 802.11i specifies that, for 802.1X-based authentication, the client is required to renegotiate its key with the RADIUS or other authentication server supporting Extensible Authentication Protocol (EAP) on every transition, a time-consuming process.\", \"Label\": \"802.11r\"},\n",
        "    {\"Text\": \"For example, mobile devices use a certain amount of idle period to ensure that they remain connected to access points and therefore consume more power when performing the following tasks in a wireless network. Network assisted Roaming - Enables the WLAN to send messages to associated clients, for better APs to associate with clients. This is useful for both load balancing and in directing poorly connected clients.\", \"Label\": \"802.11v\"},\n",
        "    {\"Text\": \" The key negotiation protocol in 802.11i specifies that, for 802.1X-based authentication, the client is required to renegotiate its key with the RADIUS or other authentication server supporting Extensible Authentication Protocol (EAP) on every transition, a time-consuming process. The solution is to allow for the part of the key derived from the server to be cached in the wireless network, so that a reasonable number of future connections can be based on the cached key, avoiding the 802.1X process. A feature known as opportunistic key caching (OKC) exists today, based on 802.11i, to perform the same task. 802.11r differs from OKC by fully specifying the key hierarchy.\", \"Label\": \"802.11r\"},\n",
        "    {\"Text\": \"this protocol recommends the client switch to the adjacent range within one dual-band router. For example, when the client's RSSI level in the 5 GHz range is low, a suggestion about switching to the adjacent range (2.4 GHz) is sent to him. And vice versa, when RSSI in 5 GHz is better, the client is advised to move to this range. The client decides to switch or not by itself. 802.11v roaming occurs in conjunction with the Band Steering settings. If a client supports 802.11v, this allows the router to manage clients that have declared WNM BTM (BSS Transition Management) support in response and send them to the adjacent band via BTM requests.\", \"Label\": \"802.11v\"} ,\n",
        "    {\"Text\": \"fast search for nearby access points is needed to support customers who want to switch quickly between access points. The first time you connect to the access point, the client receives information from the access point about 802.11k support. If the access point supports 802.11k, then the client sends a request (if it supports 802.11k by himself) to the access point to obtain a list of neighbouring access points. If the current access point signal is weakened, the client will search for access points from this list (scans only the necessary channels). After the transition, the client again requests an updated list of neighbouring access points. Clients receive information about the neighbouring access points and their signal levels. Basing on this info, the client decides which access point to connect and which band is better to use. However, it should not scan the entire radio environment. If the client had to scan the entire radio environment, it would cause multi-second delays. The use of an optimized list of neighbouring access points significantly reduces the scanning time of the radio environment.\", \"Label\": \"802.11k\"} ,\n",
        "    {\"Text\": \"this protocol implements the storage of encryption keys of all access points. It is also called FT (Fast Transition). When the client migrates to a new access point, it is no need to perform encryption keys agreement again. This standard considers 2 types of FT mode - Over the Air (OTA) and Over the DS (OTD). OTA - client communicates with the access point to which it wants to connect through the air. This function is always enabled in Keenetic. You can't disable it. OTD - client communicates with the access point to which it wants to connect before the migration begins via the access point to which it is connected at this moment. In the first versions of the 11r protocol, only Over the DS mode was supported, and some older phones, such as the iPhone 4s on iOS, only support Over the DS. By default, OTD mode is disabled. You can enable this feature via the Command-line interface (CLI). Modern smartphones usually support Over the Air and choose this mode for roaming. As to the FT settings - the user should perform them manually. You have to pay attention that the same IDs and mobile domain keys for all routers of the local network segment must be set. There could be a slight pause during the voice session when the FT mode is enabled, but it won't cause the session break.\", \"Label\": \"802.11r\"} ,\n",
        "    {\"Text\": \"The 802.11k standard creates an optimized channel list, helping devices more quickly search for nearby access points that can be used as roaming targets. Your device scans for target access points in this list when the signal strength of the current access point becomes weak.\", \"Label\": \"802.11k\"} ,\n",
        "    {\"Text\": \"FT works with both preshared key (PSK) and 802.1X authentication methods. iOS 10 and later, iPadOS, and macOS 12 include adaptive 802.11r support on Cisco wireless networks. Adaptive 802.11r offers FT on the set Cisco wireless network without having 802.11r enabled. For adaptive 802.11r support, the Cisco network must be using controller code version 8.3 or later.\", \"Label\": \"802.11r\"} ,\n",
        "    {\"Text\": \"The 802.11k standard provides information to discover the best available access point. \", \"Label\": \"802.11k\"},\n",
        "    {\"Text\": \" When your device is roaming from one access point to another within the same network, 802.11r performs faster authentication using a feature called Fast Basic Service Set Transition (FT).\", \"Label\": \"802.11r\"},\n",
        "    {\"Text\": \"  802.11v allows client devices to exchange information about the network topology, including information about the RF environment, making each client network-aware, facilitating overall improvement of the wireless network.\", \"Label\": \"802.11v\"},\n",
        "    {\"Text\": \"  In a wireless LAN, each device normally connects to the access point (AP) that provides the strongest signal.\", \"Label\": \"802.11k\"},\n",
        "    {\"Text\": \"The 802.11k standard creates an optimized channel list, helping devices more quickly search for nearby access points that can be used as roaming targets. Your device scans for target access points in this list when the signal strength of the current access point becomes weak.\", \"Label\": \"802.11k\"} ,\n",
        "    {\"Text\": \"reduces the time required to roam by allowing the client to more quickly determine which AP it should roam to next and how. The Cisco Meraki AP the client is currently connected to will provide it with information regarding neighboring APs and their channels. This way when the client is ready to roam, it has a better idea of where it will be roaming to.\", \"Label\": \"802.11k\"} ,\n",
        "    {\"Text\": \"uses Fast Basic Service Set Transition (FT) to allow encryption keys to be stored on all of the APs in a network. This way, a client doesn't need to perform the complete authentication process to a backend server every time it roams to a new AP within the network. Thus avoiding a significant amount of latency that would have previously delayed network connectivity.\", \"Label\": \"802.11r\"} ,\n",
        "    {\"Text\": \"  In a network conforming to 802.11k, if the AP having the strongest signal is loaded to its full capacity, a wireless device is connected to one of the underutilized APs\", \"Label\": \"802.11k\"},\n",
        "    {\"Text\": \" 802.11v describes enhancements to wireless network management, such as: Network assisted Power Savings - Helps clients to improve battery life by enabling them to sleep longer.\", \"Label\": \"802.11v\"},\n",
        "    {\"Text\": \"Wireless Access Points (APs) that support 802.11k are able to provide Neighbor Reports to devices running Windows 10. Neighbor Reports contain information about neighboring access points and allows the device to have a better understanding of its surroundings. Windows 10 takes advantage of this capability by shortening the list of channels that the device needs to scan before finding a neighboring AP to roam to.\", \"Label\": \"802.11k\"} ,\n",
        "    {\"Text\": \"APs that support 802.11v can now direct Windows 10 devices to roam to another AP that it deems will provide a better WLAN experience for the device. Windows 10 devices can now accept and respond to these Basic Service Set (BSS) Transition Management frames, leading to improved WLAN quality when connected to a network that supports 802.11v.\", \"Label\": \"802.11v\"} ,\n",
        "    {\"Text\": \"Fast BSS Transition reduces the time needed for a Windows 10 device to transition to an AP that supports 802.11r. This time reduction results from fewer frames being exchanged with the AP prior to data transfer. By decreasing the time before data transfer when the device roams from one AP to another, the connection quality is improved for latency sensitive applications, such as an active Skype call. Windows 10 supports Fast BSS Transitions over networks using 802.1X as the authentication method. Pre-Shared Key (PSK) and Open Networks are currently not supported. With the combination of 802.11k, 802.11v, and 802.11r, Windows 10 takes advantage of established industry standards to improve the roaming experience for our users. VoIP applications can now take advantage of this improved roaming to deliver better call quality when users are not stationary.\", \"Label\": \"802.11r\"} ,\n",
        "    {\"Text\": \"The 80211k standard allows APs to request and provide information from neighboring access points. The standard only monitors the radio resources of an RF environment (unlike 11v). This allows client devices to continuously monitor an RF environment comprised of several APs. If your client device is receiving a weakened AP signal, 80211k ensures that your client device has already located the best AP alternative to associate with. The 802.11k standard helps devices speed up its search for nearby APs that are available as roaming targets by creating an optimized list of channels. When the signal strength of the current AP weakens, your device will scan for target APs from this list.\", \"Label\": \"802.11k\"} ,\n",
        "    {\"Text\": \"Supports basic service set (BSS) transition-management functionality of 802.11v on certain devices. BSS transition management allows the network’s control layer to influence client roaming behavior by providing it the load information of nearby access points. Clients takes this information into account when deciding among the possible roam targets. The 802.11v standard also studies network topology and monitors the state of a network. The 802.11v standard allows client devices to request and provide information from nearby APs. 802.11v gauges for information beyond radio resources and seeks to monitor the operational data, such as the load balancing of neighboring APs. Steer clients When you combine 802.11k and 802.11v’s ability to speed up the search for the best target AP with FT’s faster AP association, apps can perform faster and you get a better Wi-Fi experience in iOS.\", \"Label\": \"802.11v\"} ,\n",
        "]\n",
        "# Create a DataFrame from the data\n",
        "df = pd.DataFrame(data)\n",
        "# Save the DataFrame to a CSV file\n",
        "df.to_csv(\"wifi_standards_dataset.csv\", index=True)"
      ]
    },
    {
      "cell_type": "code",
      "source": [
        "import pandas as pd\n",
        "train_df = pd.read_csv(\"wifi_standards_dataset.csv\")\n",
        "\n",
        "\n",
        "train_df.head()"
      ],
      "metadata": {
        "colab": {
          "base_uri": "https://localhost:8080/",
          "height": 206
        },
        "id": "LvzlQBEK1Dl3",
        "outputId": "2d31b626-ebdf-4d7a-adeb-dc50bb9b556b"
      },
      "execution_count": null,
      "outputs": [
        {
          "output_type": "execute_result",
          "data": {
            "text/plain": [
              "   Unnamed: 0                                               Text    Label\n",
              "0           0  IEEE 802.11k and 802.11r are industry standard...  802.11k\n",
              "1           1    802.11v is the Wireless Network Management s...  802.11v\n",
              "2           2   IEEE 802.11r specifies fast Basic Service Set...  802.11r\n",
              "3           3   In a network conforming to 802.11k, if the AP...  802.11k\n",
              "4           4   The key negotiation protocol in 802.11i speci...  802.11r"
            ],
            "text/html": [
              "\n",
              "  <div id=\"df-fa3ce0f6-e0f9-4f44-b129-d9ebf69d80b2\" class=\"colab-df-container\">\n",
              "    <div>\n",
              "<style scoped>\n",
              "    .dataframe tbody tr th:only-of-type {\n",
              "        vertical-align: middle;\n",
              "    }\n",
              "\n",
              "    .dataframe tbody tr th {\n",
              "        vertical-align: top;\n",
              "    }\n",
              "\n",
              "    .dataframe thead th {\n",
              "        text-align: right;\n",
              "    }\n",
              "</style>\n",
              "<table border=\"1\" class=\"dataframe\">\n",
              "  <thead>\n",
              "    <tr style=\"text-align: right;\">\n",
              "      <th></th>\n",
              "      <th>Unnamed: 0</th>\n",
              "      <th>Text</th>\n",
              "      <th>Label</th>\n",
              "    </tr>\n",
              "  </thead>\n",
              "  <tbody>\n",
              "    <tr>\n",
              "      <th>0</th>\n",
              "      <td>0</td>\n",
              "      <td>IEEE 802.11k and 802.11r are industry standard...</td>\n",
              "      <td>802.11k</td>\n",
              "    </tr>\n",
              "    <tr>\n",
              "      <th>1</th>\n",
              "      <td>1</td>\n",
              "      <td>802.11v is the Wireless Network Management s...</td>\n",
              "      <td>802.11v</td>\n",
              "    </tr>\n",
              "    <tr>\n",
              "      <th>2</th>\n",
              "      <td>2</td>\n",
              "      <td>IEEE 802.11r specifies fast Basic Service Set...</td>\n",
              "      <td>802.11r</td>\n",
              "    </tr>\n",
              "    <tr>\n",
              "      <th>3</th>\n",
              "      <td>3</td>\n",
              "      <td>In a network conforming to 802.11k, if the AP...</td>\n",
              "      <td>802.11k</td>\n",
              "    </tr>\n",
              "    <tr>\n",
              "      <th>4</th>\n",
              "      <td>4</td>\n",
              "      <td>The key negotiation protocol in 802.11i speci...</td>\n",
              "      <td>802.11r</td>\n",
              "    </tr>\n",
              "  </tbody>\n",
              "</table>\n",
              "</div>\n",
              "    <div class=\"colab-df-buttons\">\n",
              "\n",
              "  <div class=\"colab-df-container\">\n",
              "    <button class=\"colab-df-convert\" onclick=\"convertToInteractive('df-fa3ce0f6-e0f9-4f44-b129-d9ebf69d80b2')\"\n",
              "            title=\"Convert this dataframe to an interactive table.\"\n",
              "            style=\"display:none;\">\n",
              "\n",
              "  <svg xmlns=\"http://www.w3.org/2000/svg\" height=\"24px\" viewBox=\"0 -960 960 960\">\n",
              "    <path d=\"M120-120v-720h720v720H120Zm60-500h600v-160H180v160Zm220 220h160v-160H400v160Zm0 220h160v-160H400v160ZM180-400h160v-160H180v160Zm440 0h160v-160H620v160ZM180-180h160v-160H180v160Zm440 0h160v-160H620v160Z\"/>\n",
              "  </svg>\n",
              "    </button>\n",
              "\n",
              "  <style>\n",
              "    .colab-df-container {\n",
              "      display:flex;\n",
              "      gap: 12px;\n",
              "    }\n",
              "\n",
              "    .colab-df-convert {\n",
              "      background-color: #E8F0FE;\n",
              "      border: none;\n",
              "      border-radius: 50%;\n",
              "      cursor: pointer;\n",
              "      display: none;\n",
              "      fill: #1967D2;\n",
              "      height: 32px;\n",
              "      padding: 0 0 0 0;\n",
              "      width: 32px;\n",
              "    }\n",
              "\n",
              "    .colab-df-convert:hover {\n",
              "      background-color: #E2EBFA;\n",
              "      box-shadow: 0px 1px 2px rgba(60, 64, 67, 0.3), 0px 1px 3px 1px rgba(60, 64, 67, 0.15);\n",
              "      fill: #174EA6;\n",
              "    }\n",
              "\n",
              "    .colab-df-buttons div {\n",
              "      margin-bottom: 4px;\n",
              "    }\n",
              "\n",
              "    [theme=dark] .colab-df-convert {\n",
              "      background-color: #3B4455;\n",
              "      fill: #D2E3FC;\n",
              "    }\n",
              "\n",
              "    [theme=dark] .colab-df-convert:hover {\n",
              "      background-color: #434B5C;\n",
              "      box-shadow: 0px 1px 3px 1px rgba(0, 0, 0, 0.15);\n",
              "      filter: drop-shadow(0px 1px 2px rgba(0, 0, 0, 0.3));\n",
              "      fill: #FFFFFF;\n",
              "    }\n",
              "  </style>\n",
              "\n",
              "    <script>\n",
              "      const buttonEl =\n",
              "        document.querySelector('#df-fa3ce0f6-e0f9-4f44-b129-d9ebf69d80b2 button.colab-df-convert');\n",
              "      buttonEl.style.display =\n",
              "        google.colab.kernel.accessAllowed ? 'block' : 'none';\n",
              "\n",
              "      async function convertToInteractive(key) {\n",
              "        const element = document.querySelector('#df-fa3ce0f6-e0f9-4f44-b129-d9ebf69d80b2');\n",
              "        const dataTable =\n",
              "          await google.colab.kernel.invokeFunction('convertToInteractive',\n",
              "                                                    [key], {});\n",
              "        if (!dataTable) return;\n",
              "\n",
              "        const docLinkHtml = 'Like what you see? Visit the ' +\n",
              "          '<a target=\"_blank\" href=https://colab.research.google.com/notebooks/data_table.ipynb>data table notebook</a>'\n",
              "          + ' to learn more about interactive tables.';\n",
              "        element.innerHTML = '';\n",
              "        dataTable['output_type'] = 'display_data';\n",
              "        await google.colab.output.renderOutput(dataTable, element);\n",
              "        const docLink = document.createElement('div');\n",
              "        docLink.innerHTML = docLinkHtml;\n",
              "        element.appendChild(docLink);\n",
              "      }\n",
              "    </script>\n",
              "  </div>\n",
              "\n",
              "\n",
              "<div id=\"df-b0a8fad9-d81e-4574-a76f-4a50e9305987\">\n",
              "  <button class=\"colab-df-quickchart\" onclick=\"quickchart('df-b0a8fad9-d81e-4574-a76f-4a50e9305987')\"\n",
              "            title=\"Suggest charts.\"\n",
              "            style=\"display:none;\">\n",
              "\n",
              "<svg xmlns=\"http://www.w3.org/2000/svg\" height=\"24px\"viewBox=\"0 0 24 24\"\n",
              "     width=\"24px\">\n",
              "    <g>\n",
              "        <path d=\"M19 3H5c-1.1 0-2 .9-2 2v14c0 1.1.9 2 2 2h14c1.1 0 2-.9 2-2V5c0-1.1-.9-2-2-2zM9 17H7v-7h2v7zm4 0h-2V7h2v10zm4 0h-2v-4h2v4z\"/>\n",
              "    </g>\n",
              "</svg>\n",
              "  </button>\n",
              "\n",
              "<style>\n",
              "  .colab-df-quickchart {\n",
              "    background-color: #E8F0FE;\n",
              "    border: none;\n",
              "    border-radius: 50%;\n",
              "    cursor: pointer;\n",
              "    display: none;\n",
              "    fill: #1967D2;\n",
              "    height: 32px;\n",
              "    padding: 0 0 0 0;\n",
              "    width: 32px;\n",
              "  }\n",
              "\n",
              "  .colab-df-quickchart:hover {\n",
              "    background-color: #E2EBFA;\n",
              "    box-shadow: 0px 1px 2px rgba(60, 64, 67, 0.3), 0px 1px 3px 1px rgba(60, 64, 67, 0.15);\n",
              "    fill: #174EA6;\n",
              "  }\n",
              "\n",
              "  [theme=dark] .colab-df-quickchart {\n",
              "    background-color: #3B4455;\n",
              "    fill: #D2E3FC;\n",
              "  }\n",
              "\n",
              "  [theme=dark] .colab-df-quickchart:hover {\n",
              "    background-color: #434B5C;\n",
              "    box-shadow: 0px 1px 3px 1px rgba(0, 0, 0, 0.15);\n",
              "    filter: drop-shadow(0px 1px 2px rgba(0, 0, 0, 0.3));\n",
              "    fill: #FFFFFF;\n",
              "  }\n",
              "</style>\n",
              "\n",
              "  <script>\n",
              "    async function quickchart(key) {\n",
              "      const charts = await google.colab.kernel.invokeFunction(\n",
              "          'suggestCharts', [key], {});\n",
              "    }\n",
              "    (() => {\n",
              "      let quickchartButtonEl =\n",
              "        document.querySelector('#df-b0a8fad9-d81e-4574-a76f-4a50e9305987 button');\n",
              "      quickchartButtonEl.style.display =\n",
              "        google.colab.kernel.accessAllowed ? 'block' : 'none';\n",
              "    })();\n",
              "  </script>\n",
              "</div>\n",
              "    </div>\n",
              "  </div>\n"
            ]
          },
          "metadata": {},
          "execution_count": 2
        }
      ]
    },
    {
      "cell_type": "code",
      "source": [
        "train_df.values.tolist()"
      ],
      "metadata": {
        "colab": {
          "base_uri": "https://localhost:8080/"
        },
        "id": "WY4gJXES2B9U",
        "outputId": "9d3d2bf5-152d-4f68-8327-15be7aeed207"
      },
      "execution_count": null,
      "outputs": [
        {
          "output_type": "execute_result",
          "data": {
            "text/plain": [
              "[[0,\n",
              "  'IEEE 802.11k and 802.11r are industry standards that enable seamless Basic Service Set (BSS) transitions in the WLAN environment.  Even though the signal may be weaker, the overall throughput is greater because more efficient use is made of the network resources',\n",
              "  '802.11k'],\n",
              " [1,\n",
              "  '  802.11v is the Wireless Network Management standard for the IEEE 802.11 family of standards.',\n",
              "  '802.11v'],\n",
              " [2,\n",
              "  ' IEEE 802.11r specifies fast Basic Service Set (BSS) transitions between access points by redefining the security key negotiation protocol, allowing both the negotiation and requests for wireless resources (similar to RSVP but defined in 802.11e) to occur in parallel',\n",
              "  '802.11r'],\n",
              " [3,\n",
              "  ' In a network conforming to 802.11k, if the AP having the strongest signal is loaded to its full capacity, a wireless device is connected to one of the underutilized APs',\n",
              "  '802.11k'],\n",
              " [4,\n",
              "  ' The key negotiation protocol in 802.11i specifies that, for 802.1X-based authentication, the client is required to renegotiate its key with the RADIUS or other authentication server supporting Extensible Authentication Protocol (EAP) on every transition, a time-consuming process.',\n",
              "  '802.11r'],\n",
              " [5,\n",
              "  'For example, mobile devices use a certain amount of idle period to ensure that they remain connected to access points and therefore consume more power when performing the following tasks in a wireless network. Network assisted Roaming - Enables the WLAN to send messages to associated clients, for better APs to associate with clients. This is useful for both load balancing and in directing poorly connected clients.',\n",
              "  '802.11v'],\n",
              " [6,\n",
              "  ' The key negotiation protocol in 802.11i specifies that, for 802.1X-based authentication, the client is required to renegotiate its key with the RADIUS or other authentication server supporting Extensible Authentication Protocol (EAP) on every transition, a time-consuming process. The solution is to allow for the part of the key derived from the server to be cached in the wireless network, so that a reasonable number of future connections can be based on the cached key, avoiding the 802.1X process. A feature known as opportunistic key caching (OKC) exists today, based on 802.11i, to perform the same task. 802.11r differs from OKC by fully specifying the key hierarchy.',\n",
              "  '802.11r'],\n",
              " [7,\n",
              "  \"this protocol recommends the client switch to the adjacent range within one dual-band router. For example, when the client's RSSI level in the 5 GHz range is low, a suggestion about switching to the adjacent range (2.4 GHz) is sent to him. And vice versa, when RSSI in 5 GHz is better, the client is advised to move to this range. The client decides to switch or not by itself. 802.11v roaming occurs in conjunction with the Band Steering settings. If a client supports 802.11v, this allows the router to manage clients that have declared WNM BTM (BSS Transition Management) support in response and send them to the adjacent band via BTM requests.\",\n",
              "  '802.11v'],\n",
              " [8,\n",
              "  'fast search for nearby access points is needed to support customers who want to switch quickly between access points. The first time you connect to the access point, the client receives information from the access point about 802.11k support. If the access point supports 802.11k, then the client sends a request (if it supports 802.11k by himself) to the access point to obtain a list of neighbouring access points. If the current access point signal is weakened, the client will search for access points from this list (scans only the necessary channels). After the transition, the client again requests an updated list of neighbouring access points. Clients receive information about the neighbouring access points and their signal levels. Basing on this info, the client decides which access point to connect and which band is better to use. However, it should not scan the entire radio environment. If the client had to scan the entire radio environment, it would cause multi-second delays. The use of an optimized list of neighbouring access points significantly reduces the scanning time of the radio environment.',\n",
              "  '802.11k'],\n",
              " [9,\n",
              "  \"this protocol implements the storage of encryption keys of all access points. It is also called FT (Fast Transition). When the client migrates to a new access point, it is no need to perform encryption keys agreement again. This standard considers 2 types of FT mode - Over the Air (OTA) and Over the DS (OTD). OTA - client communicates with the access point to which it wants to connect through the air. This function is always enabled in Keenetic. You can't disable it. OTD - client communicates with the access point to which it wants to connect before the migration begins via the access point to which it is connected at this moment. In the first versions of the 11r protocol, only Over the DS mode was supported, and some older phones, such as the iPhone 4s on iOS, only support Over the DS. By default, OTD mode is disabled. You can enable this feature via the Command-line interface (CLI). Modern smartphones usually support Over the Air and choose this mode for roaming. As to the FT settings - the user should perform them manually. You have to pay attention that the same IDs and mobile domain keys for all routers of the local network segment must be set. There could be a slight pause during the voice session when the FT mode is enabled, but it won't cause the session break.\",\n",
              "  '802.11r'],\n",
              " [10,\n",
              "  'The 802.11k standard creates an optimized channel list, helping devices more quickly search for nearby access points that can be used as roaming targets. Your device scans for target access points in this list when the signal strength of the current access point becomes weak.',\n",
              "  '802.11k'],\n",
              " [11,\n",
              "  'FT works with both preshared key (PSK) and 802.1X authentication methods. iOS 10 and later, iPadOS, and macOS 12 include adaptive 802.11r support on Cisco wireless networks. Adaptive 802.11r offers FT on the set Cisco wireless network without having 802.11r enabled. For adaptive 802.11r support, the Cisco network must be using controller code version 8.3 or later.',\n",
              "  '802.11r'],\n",
              " [12,\n",
              "  'The 802.11k standard provides information to discover the best available access point. ',\n",
              "  '802.11k'],\n",
              " [13,\n",
              "  ' When your device is roaming from one access point to another within the same network, 802.11r performs faster authentication using a feature called Fast Basic Service Set Transition (FT).',\n",
              "  '802.11r'],\n",
              " [14,\n",
              "  '  802.11v allows client devices to exchange information about the network topology, including information about the RF environment, making each client network-aware, facilitating overall improvement of the wireless network.',\n",
              "  '802.11v'],\n",
              " [15,\n",
              "  '  In a wireless LAN, each device normally connects to the access point (AP) that provides the strongest signal.',\n",
              "  '802.11k'],\n",
              " [16,\n",
              "  'The 802.11k standard creates an optimized channel list, helping devices more quickly search for nearby access points that can be used as roaming targets. Your device scans for target access points in this list when the signal strength of the current access point becomes weak.',\n",
              "  '802.11k'],\n",
              " [17,\n",
              "  'reduces the time required to roam by allowing the client to more quickly determine which AP it should roam to next and how. The Cisco Meraki AP the client is currently connected to will provide it with information regarding neighboring APs and their channels. This way when the client is ready to roam, it has a better idea of where it will be roaming to.',\n",
              "  '802.11k'],\n",
              " [18,\n",
              "  \"uses Fast Basic Service Set Transition (FT) to allow encryption keys to be stored on all of the APs in a network. This way, a client doesn't need to perform the complete authentication process to a backend server every time it roams to a new AP within the network. Thus avoiding a significant amount of latency that would have previously delayed network connectivity.\",\n",
              "  '802.11r'],\n",
              " [19,\n",
              "  '  In a network conforming to 802.11k, if the AP having the strongest signal is loaded to its full capacity, a wireless device is connected to one of the underutilized APs',\n",
              "  '802.11k'],\n",
              " [20,\n",
              "  ' 802.11v describes enhancements to wireless network management, such as: Network assisted Power Savings - Helps clients to improve battery life by enabling them to sleep longer.',\n",
              "  '802.11v'],\n",
              " [21,\n",
              "  'Wireless Access Points (APs) that support 802.11k are able to provide Neighbor Reports to devices running Windows 10. Neighbor Reports contain information about neighboring access points and allows the device to have a better understanding of its surroundings. Windows 10 takes advantage of this capability by shortening the list of channels that the device needs to scan before finding a neighboring AP to roam to.',\n",
              "  '802.11k'],\n",
              " [22,\n",
              "  'APs that support 802.11v can now direct Windows 10 devices to roam to another AP that it deems will provide a better WLAN experience for the device. Windows 10 devices can now accept and respond to these Basic Service Set (BSS) Transition Management frames, leading to improved WLAN quality when connected to a network that supports 802.11v.',\n",
              "  '802.11v'],\n",
              " [23,\n",
              "  'Fast BSS Transition reduces the time needed for a Windows 10 device to transition to an AP that supports 802.11r. This time reduction results from fewer frames being exchanged with the AP prior to data transfer. By decreasing the time before data transfer when the device roams from one AP to another, the connection quality is improved for latency sensitive applications, such as an active Skype call. Windows 10 supports Fast BSS Transitions over networks using 802.1X as the authentication method. Pre-Shared Key (PSK) and Open Networks are currently not supported. With the combination of 802.11k, 802.11v, and 802.11r, Windows 10 takes advantage of established industry standards to improve the roaming experience for our users. VoIP applications can now take advantage of this improved roaming to deliver better call quality when users are not stationary.',\n",
              "  '802.11r'],\n",
              " [24,\n",
              "  'The 80211k standard allows APs to request and provide information from neighboring access points. The standard only monitors the radio resources of an RF environment (unlike 11v). This allows client devices to continuously monitor an RF environment comprised of several APs. If your client device is receiving a weakened AP signal, 80211k ensures that your client device has already located the best AP alternative to associate with. The 802.11k standard helps devices speed up its search for nearby APs that are available as roaming targets by creating an optimized list of channels. When the signal strength of the current AP weakens, your device will scan for target APs from this list.',\n",
              "  '802.11k'],\n",
              " [25,\n",
              "  'Supports basic service set (BSS) transition-management functionality of 802.11v on certain devices. BSS transition management allows the network’s control layer to influence client roaming behavior by providing it the load information of nearby access points. Clients takes this information into account when deciding among the possible roam targets. The 802.11v standard also studies network topology and monitors the state of a network. The 802.11v standard allows client devices to request and provide information from nearby APs. 802.11v gauges for information beyond radio resources and seeks to monitor the operational data, such as the load balancing of neighboring APs. Steer clients When you combine 802.11k and 802.11v’s ability to speed up the search for the best target AP with FT’s faster AP association, apps can perform faster and you get a better Wi-Fi experience in iOS.',\n",
              "  '802.11v']]"
            ]
          },
          "metadata": {},
          "execution_count": 3
        }
      ]
    },
    {
      "cell_type": "code",
      "source": [
        "train_sentences = train_df[\"Text\"].tolist()"
      ],
      "metadata": {
        "id": "R_DxwsAc2mUE"
      },
      "execution_count": null,
      "outputs": []
    },
    {
      "cell_type": "code",
      "source": [
        "import numpy as np  # Average words in 1 sequence\n",
        "sent_lens = [len(sentence.split()) for sentence in train_sentences]\n",
        "avg_sent_len = np.mean(sent_lens)\n",
        "avg_sent_len"
      ],
      "metadata": {
        "colab": {
          "base_uri": "https://localhost:8080/"
        },
        "id": "lXLzjVP23FbE",
        "outputId": "0366c58e-748a-43d3-fdcd-9f8ed168304a"
      },
      "execution_count": null,
      "outputs": [
        {
          "output_type": "execute_result",
          "data": {
            "text/plain": [
              "68.5"
            ]
          },
          "metadata": {},
          "execution_count": 5
        }
      ]
    },
    {
      "cell_type": "code",
      "source": [
        "# How long of a sentence lenght covers 95% of examples?\n",
        "output_seq_len = int(np.percentile(sent_lens, 95))\n",
        "output_seq_len"
      ],
      "metadata": {
        "colab": {
          "base_uri": "https://localhost:8080/"
        },
        "id": "8zIy7eUI3KUi",
        "outputId": "6db5864a-35a3-4093-e611-14bca8533b05"
      },
      "execution_count": null,
      "outputs": [
        {
          "output_type": "execute_result",
          "data": {
            "text/plain": [
              "168"
            ]
          },
          "metadata": {},
          "execution_count": 6
        }
      ]
    },
    {
      "cell_type": "code",
      "source": [
        "from sklearn.preprocessing import OneHotEncoder\n",
        "encoder = OneHotEncoder(sparse = False)  # We want non-sparse matrix\n",
        "\n",
        "train_labels_encoded = encoder.fit_transform(train_df[\"Label\"].to_numpy().reshape( -1 , 1 ))\n",
        "train_labels_encoded"
      ],
      "metadata": {
        "colab": {
          "base_uri": "https://localhost:8080/"
        },
        "id": "lD0DdT_W2otG",
        "outputId": "df26d334-50dd-4e7a-a3d4-3859ef466a86"
      },
      "execution_count": null,
      "outputs": [
        {
          "output_type": "stream",
          "name": "stderr",
          "text": [
            "/usr/local/lib/python3.10/dist-packages/sklearn/preprocessing/_encoders.py:868: FutureWarning: `sparse` was renamed to `sparse_output` in version 1.2 and will be removed in 1.4. `sparse_output` is ignored unless you leave `sparse` to its default value.\n",
            "  warnings.warn(\n"
          ]
        },
        {
          "output_type": "execute_result",
          "data": {
            "text/plain": [
              "array([[1., 0., 0.],\n",
              "       [0., 0., 1.],\n",
              "       [0., 1., 0.],\n",
              "       [1., 0., 0.],\n",
              "       [0., 1., 0.],\n",
              "       [0., 0., 1.],\n",
              "       [0., 1., 0.],\n",
              "       [0., 0., 1.],\n",
              "       [1., 0., 0.],\n",
              "       [0., 1., 0.],\n",
              "       [1., 0., 0.],\n",
              "       [0., 1., 0.],\n",
              "       [1., 0., 0.],\n",
              "       [0., 1., 0.],\n",
              "       [0., 0., 1.],\n",
              "       [1., 0., 0.],\n",
              "       [1., 0., 0.],\n",
              "       [1., 0., 0.],\n",
              "       [0., 1., 0.],\n",
              "       [1., 0., 0.],\n",
              "       [0., 0., 1.],\n",
              "       [1., 0., 0.],\n",
              "       [0., 0., 1.],\n",
              "       [0., 1., 0.],\n",
              "       [1., 0., 0.],\n",
              "       [0., 0., 1.]])"
            ]
          },
          "metadata": {},
          "execution_count": 7
        }
      ]
    },
    {
      "cell_type": "code",
      "source": [
        "# We will create our textvectorizer function for converting text into numbers\n",
        "\n",
        "import tensorflow as tf\n",
        "from tensorflow.keras.layers.experimental.preprocessing import TextVectorization\n",
        "\n",
        "\n",
        "\n",
        "text_vectorizer = TextVectorization(max_tokens = 530 , # How many words in the vocabulary ( automatically add <00V>)\n",
        "                                                       output_sequence_length = 166 , # Desired lenght of vectorized output length of vectorized sequences\n",
        "                                    )"
      ],
      "metadata": {
        "id": "I2tITJ5u2uG1"
      },
      "execution_count": null,
      "outputs": []
    },
    {
      "cell_type": "code",
      "source": [
        "text_vectorizer.adapt(train_sentences)"
      ],
      "metadata": {
        "id": "PcnX3QuG22uj"
      },
      "execution_count": null,
      "outputs": []
    },
    {
      "cell_type": "code",
      "source": [
        "import random\n",
        "target_sentence = random.choice(train_sentences)\n",
        "print(f\"Text:\\n{target_sentence}\")\n",
        "print(f\"\\n Length of text : {len(target_sentence.split())}\\n\")\n",
        "print(f\"Text vectorized form of the text : \\n{text_vectorizer([target_sentence])}\")"
      ],
      "metadata": {
        "colab": {
          "base_uri": "https://localhost:8080/"
        },
        "id": "cKgtJr_Q25tS",
        "outputId": "71c699b3-b673-4746-bfbf-4ae339d3c1c2"
      },
      "execution_count": null,
      "outputs": [
        {
          "output_type": "stream",
          "name": "stdout",
          "text": [
            "Text:\n",
            "this protocol implements the storage of encryption keys of all access points. It is also called FT (Fast Transition). When the client migrates to a new access point, it is no need to perform encryption keys agreement again. This standard considers 2 types of FT mode - Over the Air (OTA) and Over the DS (OTD). OTA - client communicates with the access point to which it wants to connect through the air. This function is always enabled in Keenetic. You can't disable it. OTD - client communicates with the access point to which it wants to connect before the migration begins via the access point to which it is connected at this moment. In the first versions of the 11r protocol, only Over the DS mode was supported, and some older phones, such as the iPhone 4s on iOS, only support Over the DS. By default, OTD mode is disabled. You can enable this feature via the Command-line interface (CLI). Modern smartphones usually support Over the Air and choose this mode for roaming. As to the FT settings - the user should perform them manually. You have to pay attention that the same IDs and mobile domain keys for all routers of the local network segment must be set. There could be a slight pause during the voice session when the FT mode is enabled, but it won't cause the session break.\n",
            "\n",
            " Length of text : 233\n",
            "\n",
            "Text vectorized form of the text : \n",
            "[[ 11  45 395   2 284   4 136  97   4 145   5  15  16   7 234 219  47  55\n",
            "   27  18   2  10 362   3   6 185   5  19  16   7 351 188   3  73 136  97\n",
            "  494 237  11  33 459 508 264   4  47  77  65   2 146 183   8  65   2 138\n",
            "  123 183  10 214  23   2   5  19   3  61  16 156   3 100 269   2 146  11\n",
            "  410   7 491 137  13 384  60 474 435  16 123  10 214  23   2   5  19   3\n",
            "   61  16 156   3 100 142   2 361 480 104   2   5  19   3  61  16   7  57\n",
            "  486  11 359  13   2 203 254   4   2 511  45  93  65   2 138  77 249 166\n",
            "    8 290 344 332  84  39   2 386 506  35 127  93  41  65   2 138  32 446\n",
            "  123  77   7 434  60  48 207  11 132 104   2 467 389 471 360 293 257  41\n",
            "   65   2 146   8]]\n"
          ]
        }
      ]
    },
    {
      "cell_type": "code",
      "source": [
        "from tensorflow.keras import layers\n",
        "\n",
        "embedding = layers.Embedding( input_dim = 529 ,  # set input shape\n",
        "                              output_dim = 128 , # Output shape. Every token in the format of 128 long vector\n",
        "                              mask_zero = True\n",
        "                              )"
      ],
      "metadata": {
        "id": "oYNqMBt23NMD"
      },
      "execution_count": null,
      "outputs": []
    },
    {
      "cell_type": "code",
      "source": [
        "train_dataset = tf.data.Dataset.from_tensor_slices((train_sentences , train_labels_encoded))"
      ],
      "metadata": {
        "id": "Lke2XBtG3XvH"
      },
      "execution_count": null,
      "outputs": []
    },
    {
      "cell_type": "code",
      "source": [
        "train_dataset = train_dataset.shuffle(buffer_size = 1000).batch(batch_size = 32).prefetch(buffer_size = tf.data.AUTOTUNE)\n",
        "import tensorflow as tf\n",
        "import tensorflow_hub as hub"
      ],
      "metadata": {
        "id": "tuDDNZB93kUF"
      },
      "execution_count": null,
      "outputs": []
    },
    {
      "cell_type": "code",
      "source": [
        "inputs = tf.keras.layers.Input(shape = (1,) , dtype  = tf.string)\n",
        "x = text_vectorizer(inputs)\n",
        "x = embedding(x)\n",
        "x = tf.keras.layers.Conv1D(64 , kernel_size = 5 , activation = \"relu\" , padding = \"same\")(x)  # Learns the most important features from target text\n",
        "x = tf.keras.layers.GlobalAveragePooling1D()(x) # Condense the output of our feature vector from conv layer. Reduces the dimensionality.\n",
        "outputs = tf.keras.layers.Dense( 3 , activation = \"softmax\")(x)\n",
        "\n",
        "model_1 = tf.keras.Model(inputs , outputs)\n",
        "\n",
        "# Compile a model\n",
        "\n",
        "model_1.compile(loss = [\"categorical_crossentropy\"] ,\n",
        "                optimizer = tf.keras.optimizers.Adam() ,\n",
        "                metrics = [\"accuracy\"]\n",
        "                )\n",
        "\n",
        "# Fit the model\n",
        "hist_1 = model_1.fit(\n",
        "    train_dataset ,\n",
        "    epochs = 5\n",
        "\n",
        ")"
      ],
      "metadata": {
        "colab": {
          "base_uri": "https://localhost:8080/"
        },
        "id": "YJ5e4kni3kew",
        "outputId": "b2a31005-b837-4e49-dd71-a4b76cdcd843"
      },
      "execution_count": null,
      "outputs": [
        {
          "output_type": "stream",
          "name": "stdout",
          "text": [
            "Epoch 1/5\n",
            "1/1 [==============================] - 5s 5s/step - loss: 1.0987 - accuracy: 0.2692\n",
            "Epoch 2/5\n",
            "1/1 [==============================] - 0s 19ms/step - loss: 1.0894 - accuracy: 0.4231\n",
            "Epoch 3/5\n",
            "1/1 [==============================] - 0s 15ms/step - loss: 1.0821 - accuracy: 0.4231\n",
            "Epoch 4/5\n",
            "1/1 [==============================] - 0s 18ms/step - loss: 1.0759 - accuracy: 0.4231\n",
            "Epoch 5/5\n",
            "1/1 [==============================] - 0s 15ms/step - loss: 1.0704 - accuracy: 0.4231\n"
          ]
        }
      ]
    },
    {
      "cell_type": "code",
      "source": [
        "val_sentence = [\"standard creates an optimized channel list, helping devices more quickly search for nearby access points that can be used as roaming targets\" , \"The standard only monitors the radio resources of an RF environment (unlike 11v). This allows client devices to continuously monitor an RF environment comprised of several APs\" , \" 802.11v gauges for information beyond radio resources and seeks to monitor the operational data, such as the load balancing of neighboring APs.\" , \"This amendment, also known as the Radio Resource Management (RRM) standard, focuses on improving the overall network performance by providing information about the radio environment. It enables access points (APs) to exchange information about channel utilization and signal quality, allowing them to make informed decisions about channel assignments and roaming optimization.\" , \"802.11v, also referred to as Wireless Network Management, is designed to enhance network management capabilities. It introduces mechanisms for better control over power saving modes, load balancing, and network efficiency. This allows devices to communicate more effectively with the network, optimizing their power consumption and improving the overall user experience. For example, if the signal on the 5 GHz band is bad (low RSSI level), an offer is sent to the device to switch to another 2.4 GHz band. When the signal in the 5 GHz range improves, the access point asks the device to switch to that range\"]\n",
        "model_1_preds = model_1.predict(val_sentence)\n",
        "model_1_preds"
      ],
      "metadata": {
        "colab": {
          "base_uri": "https://localhost:8080/"
        },
        "id": "dk7XeFMZTv9h",
        "outputId": "f87a11a7-bd11-437a-ba2f-c9fa0454fd3d"
      },
      "execution_count": null,
      "outputs": [
        {
          "output_type": "stream",
          "name": "stdout",
          "text": [
            "1/1 [==============================] - 1s 677ms/step\n"
          ]
        },
        {
          "output_type": "execute_result",
          "data": {
            "text/plain": [
              "array([[0.42438358, 0.28580126, 0.28981516],\n",
              "       [0.42109266, 0.28745547, 0.29145187],\n",
              "       [0.42213413, 0.28628343, 0.29158244],\n",
              "       [0.407963  , 0.29409188, 0.29794508],\n",
              "       [0.38082528, 0.30722484, 0.3119499 ]], dtype=float32)"
            ]
          },
          "metadata": {},
          "execution_count": 15
        }
      ]
    },
    {
      "cell_type": "code",
      "source": [
        "sentence_encoder_layer = hub.KerasLayer(\"https://tfhub.dev/google/universal-sentence-encoder/4\" ,\n",
        "                                        input_shape = [] , # We defined input shape as empty vector because the input to this layer can be a variable length. This pre-trained layer can take any variable length. Any variable length can go into this module but it will always output a 512 feature vector no matter what length sequence goes in. The output will always be 512.\n",
        "                                        dtype = tf.string ,\n",
        "                                        trainable = False ,\n",
        "                                        name = \"USE\"\n",
        "                                        )"
      ],
      "metadata": {
        "id": "PvZ73et3QobJ"
      },
      "execution_count": null,
      "outputs": []
    },
    {
      "cell_type": "code",
      "source": [
        "\n",
        "model_2 = tf.keras.Sequential(\n",
        "    [\n",
        "        sentence_encoder_layer ,\n",
        "        layers.Dense(64 , activation = \"relu\") ,\n",
        "        layers.Dense( 3 , activation = \"softmax\")\n",
        "\n",
        "\n",
        "    ] , name = \"model_2_USE\"\n",
        "\n",
        ")"
      ],
      "metadata": {
        "id": "1Jve3bKHQtR4"
      },
      "execution_count": null,
      "outputs": []
    },
    {
      "cell_type": "code",
      "source": [
        "model_2.compile(loss = [\"categorical_crossentropy\"] ,\n",
        "                optimizer = tf.keras.optimizers.Adam() ,\n",
        "                metrics = [\"accuracy\"]\n",
        "                )"
      ],
      "metadata": {
        "id": "pXiz5i_PQxIH"
      },
      "execution_count": null,
      "outputs": []
    },
    {
      "cell_type": "code",
      "source": [
        "# Fit the model\n",
        "hist_2 = model_2.fit( train_dataset ,\n",
        "                     epochs = 5\n",
        "\n",
        "                      )"
      ],
      "metadata": {
        "id": "CEKeIN6oQypc",
        "colab": {
          "base_uri": "https://localhost:8080/"
        },
        "outputId": "4dab669a-cf9a-434f-9ae4-1714f4034740"
      },
      "execution_count": null,
      "outputs": [
        {
          "output_type": "stream",
          "name": "stdout",
          "text": [
            "Epoch 1/5\n",
            "1/1 [==============================] - 5s 5s/step - loss: 1.1107 - accuracy: 0.1923\n",
            "Epoch 2/5\n",
            "1/1 [==============================] - 0s 23ms/step - loss: 1.0851 - accuracy: 0.4615\n",
            "Epoch 3/5\n",
            "1/1 [==============================] - 0s 23ms/step - loss: 1.0623 - accuracy: 0.7308\n",
            "Epoch 4/5\n",
            "1/1 [==============================] - 0s 26ms/step - loss: 1.0407 - accuracy: 0.8846\n",
            "Epoch 5/5\n",
            "1/1 [==============================] - 0s 24ms/step - loss: 1.0200 - accuracy: 0.9231\n"
          ]
        }
      ]
    },
    {
      "cell_type": "code",
      "source": [
        "val_sentence = [\"standard creates an optimized channel list, helping devices more quickly search for nearby access points that can be used as roaming targets\" , \"The standard only monitors the radio resources of an RF environment (unlike 11v). This allows client devices to continuously monitor an RF environment comprised of several APs\" , \"IEEE 802.11r is a standard for fast roaming in a wireless network, also referred to as Fast BSS Transition. Roaming is when a wireless client leaves one AP (Access Point) to associate with another AP. Without support for 802.11r, that would require the client to re-authenticate causing issues for users.\"]\n",
        "model_2_preds = model_2.predict(val_sentence)\n",
        "model_2_preds"
      ],
      "metadata": {
        "id": "Y86K8L_FR1CO",
        "colab": {
          "base_uri": "https://localhost:8080/"
        },
        "outputId": "09d9a995-cda3-4dfc-cd6f-7efc801fc3f8"
      },
      "execution_count": null,
      "outputs": [
        {
          "output_type": "stream",
          "name": "stdout",
          "text": [
            "1/1 [==============================] - 0s 375ms/step\n"
          ]
        },
        {
          "output_type": "execute_result",
          "data": {
            "text/plain": [
              "array([[0.37789756, 0.3239197 , 0.2981827 ],\n",
              "       [0.3485206 , 0.3249839 , 0.32649553],\n",
              "       [0.36917415, 0.3281601 , 0.3026657 ]], dtype=float32)"
            ]
          },
          "metadata": {},
          "execution_count": 20
        }
      ]
    },
    {
      "cell_type": "code",
      "source": [
        "# Create an LSTM model\n",
        "\n",
        "from tensorflow.keras import layers\n",
        "\n",
        "inputs = layers.Input(shape = (1 ,)  , dtype = tf.string)\n",
        "x = text_vectorizer(inputs)\n",
        "x = embedding(x)\n",
        "#print(x.shape)\n",
        "#x = layers.LSTM(64 , return_sequences = True)(x)  # When you are stacking RNN cells together , you need to set return_sequences = True.\n",
        "#print(x.shape)\n",
        "x = layers.LSTM(64)(x)\n",
        "#print(x.shape)\n",
        "#x = layers.Dense(64 , activation = \"relu\")(x)\n",
        "outputs = layers.Dense(3 , activation = \"softmax\")(x)\n",
        "\n",
        "model_3 = tf.keras.Model(inputs , outputs)\n",
        "\n",
        "# Compile a model\n",
        "\n",
        "model_3.compile(loss = [\"categorical_crossentropy\"] ,\n",
        "                optimizer = tf.keras.optimizers.Adam() ,\n",
        "                metrics = [\"accuracy\"]\n",
        "\n",
        "                )\n",
        "\n",
        "hist_3 = model_3.fit(train_dataset ,\n",
        "                     epochs = 5 ,\n",
        "                     )"
      ],
      "metadata": {
        "id": "VjHEhUjiSAt0",
        "colab": {
          "base_uri": "https://localhost:8080/"
        },
        "outputId": "e585f067-5c56-4d40-85e4-3520e2227470"
      },
      "execution_count": null,
      "outputs": [
        {
          "output_type": "stream",
          "name": "stdout",
          "text": [
            "Epoch 1/5\n",
            "1/1 [==============================] - 6s 6s/step - loss: 1.1037 - accuracy: 0.1538\n",
            "Epoch 2/5\n",
            "1/1 [==============================] - 0s 22ms/step - loss: 1.0912 - accuracy: 0.5385\n",
            "Epoch 3/5\n",
            "1/1 [==============================] - 0s 22ms/step - loss: 1.0787 - accuracy: 0.6154\n",
            "Epoch 4/5\n",
            "1/1 [==============================] - 0s 21ms/step - loss: 1.0659 - accuracy: 0.6154\n",
            "Epoch 5/5\n",
            "1/1 [==============================] - 0s 21ms/step - loss: 1.0523 - accuracy: 0.6538\n"
          ]
        }
      ]
    },
    {
      "cell_type": "code",
      "source": [
        "val_sentence = [\"standard creates an optimized channel list, helping devices more quickly search for nearby access points that can be used as roaming targets\" , \"The standard only monitors the radio resources of an RF environment (unlike 11v). This allows client devices to continuously monitor an RF environment comprised of several APs\" , \"IEEE 802.11r is a standard for fast roaming in a wireless network, also referred to as Fast BSS Transition. Roaming is when a wireless client leaves one AP (Access Point) to associate with another AP. Without support for 802.11r, that would require the client to re-authenticate causing issues for users.\"]\n",
        "model_3_preds = model_3.predict(val_sentence)\n",
        "model_3_preds"
      ],
      "metadata": {
        "colab": {
          "base_uri": "https://localhost:8080/"
        },
        "id": "8lobCSn78I7d",
        "outputId": "527841db-04a8-44d5-ebd7-7b8616320475"
      },
      "execution_count": null,
      "outputs": [
        {
          "output_type": "stream",
          "name": "stdout",
          "text": [
            "1/1 [==============================] - 1s 1s/step\n"
          ]
        },
        {
          "output_type": "execute_result",
          "data": {
            "text/plain": [
              "array([[0.36003524, 0.31963584, 0.3203289 ],\n",
              "       [0.36104077, 0.3178132 , 0.32114607],\n",
              "       [0.35625464, 0.3211319 , 0.32261342]], dtype=float32)"
            ]
          },
          "metadata": {},
          "execution_count": 22
        }
      ]
    }
  ]
}
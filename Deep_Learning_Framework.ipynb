{
  "nbformat": 4,
  "nbformat_minor": 0,
  "metadata": {
    "colab": {
      "provenance": [],
      "authorship_tag": "ABX9TyMdCDNUYs76fcccunJaCJjB",
      "include_colab_link": true
    },
    "kernelspec": {
      "name": "python3",
      "display_name": "Python 3"
    },
    "language_info": {
      "name": "python"
    }
  },
  "cells": [
    {
      "cell_type": "markdown",
      "metadata": {
        "id": "view-in-github",
        "colab_type": "text"
      },
      "source": [
        "<a href=\"https://colab.research.google.com/github/MelihKlc/Deep-Learning/blob/main/Deep_Learning_Framework.ipynb\" target=\"_parent\"><img src=\"https://colab.research.google.com/assets/colab-badge.svg\" alt=\"Open In Colab\"/></a>"
      ]
    },
    {
      "cell_type": "code",
      "execution_count": 1,
      "metadata": {
        "id": "JHNwgk5axUoT"
      },
      "outputs": [],
      "source": [
        "import numpy as np\n",
        "import tensorflow as tf"
      ]
    },
    {
      "cell_type": "markdown",
      "source": [
        "## With tensorflow , you only have to compute the forward propagation ( compute the value of the cost function )"
      ],
      "metadata": {
        "id": "JdoQQCbDyCnn"
      }
    },
    {
      "cell_type": "markdown",
      "source": [
        "## If you want to implement gradient descent(back propagation) , you should create gradient tape"
      ],
      "metadata": {
        "id": "wPRf4DfgyXXn"
      }
    },
    {
      "cell_type": "markdown",
      "source": [
        "## Gradient tape : It will record the sequence of operations as you are computing the cost function in the forward propgation step and then when you play the tape backwards , it can revisit the order of operations in reverse order and along the way , compute the back prop and the gradients."
      ],
      "metadata": {
        "id": "0tXozSFmygzQ"
      }
    },
    {
      "cell_type": "code",
      "source": [
        "w = tf.Variable( 0 , dtype = tf.float32 )\n",
        "optimizer = tf.keras.optimizers.Adam(learning_rate = 0.1)\n",
        "\n",
        "def train_step():\n",
        "   with tf.GradientTape() as tape:\n",
        "        cost = w**2 - 10*w + 25\n",
        "   trainable_variables = [w]   # In order to carry out one iteration of training you have to define trainable variables\n",
        "   grads = tape.gradient(cost , trainable_variables)\n",
        "   optimizer.apply_gradients( zip( grads , trainable_variables ) ) # Zip function : it takes the list of grads and take the list of trainable_variables and pair them up\n",
        "print(w)\n",
        "\n",
        "\n"
      ],
      "metadata": {
        "colab": {
          "base_uri": "https://localhost:8080/"
        },
        "id": "m4D6FwYmxbVf",
        "outputId": "514c0d05-a307-4bb6-88ba-bdfd0f3f37e6"
      },
      "execution_count": 2,
      "outputs": [
        {
          "output_type": "stream",
          "name": "stdout",
          "text": [
            "<tf.Variable 'Variable:0' shape=() dtype=float32, numpy=0.0>\n"
          ]
        }
      ]
    },
    {
      "cell_type": "markdown",
      "source": [
        "## When we printed w first , this is initial value of w because we didnt start the training steps."
      ],
      "metadata": {
        "id": "IvpcdObY1E4g"
      }
    },
    {
      "cell_type": "code",
      "source": [
        "train_step()\n",
        "print(w)\n",
        "# 1 step of our algorihtm"
      ],
      "metadata": {
        "colab": {
          "base_uri": "https://localhost:8080/"
        },
        "id": "1PEaIK8_1UCc",
        "outputId": "730d71d2-a4cf-4c0a-e6f3-52108be96c0e"
      },
      "execution_count": 4,
      "outputs": [
        {
          "output_type": "stream",
          "name": "stdout",
          "text": [
            "<tf.Variable 'Variable:0' shape=() dtype=float32, numpy=0.09999931>\n"
          ]
        }
      ]
    },
    {
      "cell_type": "code",
      "source": [
        "for i in range(1000):\n",
        "  train_step()\n",
        "print(w)\n",
        "# Our cost function is actually (w-5)^2 , so if we want to find the minimum of this , we should give 5 to w variable. And we can see that our algorithm found the best value for minimizing the cost after 1000 iteration."
      ],
      "metadata": {
        "colab": {
          "base_uri": "https://localhost:8080/"
        },
        "id": "9D7Ljg0q1WW2",
        "outputId": "1b0f290e-392b-4a9f-d3dd-d1666bb450a5"
      },
      "execution_count": 5,
      "outputs": [
        {
          "output_type": "stream",
          "name": "stdout",
          "text": [
            "<tf.Variable 'Variable:0' shape=() dtype=float32, numpy=5.000001>\n"
          ]
        }
      ]
    },
    {
      "cell_type": "markdown",
      "source": [
        "## If we have not just the w parameter, also training set. What should we do? Lets see"
      ],
      "metadata": {
        "id": "G2epb7Nq1yYg"
      }
    },
    {
      "cell_type": "code",
      "source": [
        "w = tf.Variable( 0 , dtype = tf.float32 )\n",
        "x = np.array(\n",
        "    [\n",
        "        1.0 , -10.0 , 25.0\n",
        "    ] , dtype = np.float32\n",
        ")  # x is controlling our cost function's coefficient.\n",
        "optimizer = tf.keras.optimizers.Adam(learning_rate = 0.1)\n",
        "\n",
        "def training( x , w , optimizer ):\n",
        "\n",
        "   def cost_fn():\n",
        "     return x[ 0 ] * w**2 + x[ 1 ] * w + x[ 2 ]\n",
        "   for i in range(1000):\n",
        "    optimizer.minimize( cost_fn , [w] ) # Same steps with trainable parameters , grads , optimizer.apply\n",
        "   return w\n",
        "\n",
        "w = training( x , w , optimizer )\n",
        "print(w)\n",
        "\n"
      ],
      "metadata": {
        "colab": {
          "base_uri": "https://localhost:8080/"
        },
        "id": "Ix1yavcY3W3l",
        "outputId": "62aff438-f32c-493b-a551-0934ade57bea"
      },
      "execution_count": 7,
      "outputs": [
        {
          "output_type": "stream",
          "name": "stdout",
          "text": [
            "<tf.Variable 'Variable:0' shape=() dtype=float32, numpy=5.000001>\n"
          ]
        }
      ]
    },
    {
      "cell_type": "code",
      "source": [],
      "metadata": {
        "id": "zlaRz7Ya4c9a"
      },
      "execution_count": null,
      "outputs": []
    }
  ]
}
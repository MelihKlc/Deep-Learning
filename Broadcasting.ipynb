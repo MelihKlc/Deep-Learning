{
  "nbformat": 4,
  "nbformat_minor": 0,
  "metadata": {
    "colab": {
      "provenance": [],
      "authorship_tag": "ABX9TyORrqX9NZjoibAiIH1ZwZ1H",
      "include_colab_link": true
    },
    "kernelspec": {
      "name": "python3",
      "display_name": "Python 3"
    },
    "language_info": {
      "name": "python"
    }
  },
  "cells": [
    {
      "cell_type": "markdown",
      "metadata": {
        "id": "view-in-github",
        "colab_type": "text"
      },
      "source": [
        "<a href=\"https://colab.research.google.com/github/MelihKlc/Deep-Learning/blob/main/Broadcasting.ipynb\" target=\"_parent\"><img src=\"https://colab.research.google.com/assets/colab-badge.svg\" alt=\"Open In Colab\"/></a>"
      ]
    },
    {
      "cell_type": "code",
      "execution_count": null,
      "metadata": {
        "colab": {
          "base_uri": "https://localhost:8080/"
        },
        "id": "h0_JTYHnBZLe",
        "outputId": "d8e65f3a-c203-46c8-ee7b-bdb6eb75e7fd"
      },
      "outputs": [
        {
          "output_type": "execute_result",
          "data": {
            "text/plain": [
              "array([[ 56. ,   0. ,   4.4,  68. ],\n",
              "       [  1.2, 104. ,  52. ,   8. ],\n",
              "       [  1.8, 135. ,  99. ,   0.9]])"
            ]
          },
          "metadata": {},
          "execution_count": 1
        }
      ],
      "source": [
        "import numpy as np\n",
        "A = np.array(\n",
        "    [\n",
        "      [56.0 , 0.0 , 4.4 , 68.0] ,\n",
        "      [1.2 , 104.0 , 52.0 , 8.0] ,\n",
        "      [1.8 , 135.0 , 99.0 , 0.9]\n",
        "    ]\n",
        ")\n",
        "A"
      ]
    },
    {
      "cell_type": "code",
      "source": [
        "cal = A.sum(axis = 0)\n",
        "cal"
      ],
      "metadata": {
        "colab": {
          "base_uri": "https://localhost:8080/"
        },
        "id": "xFE1nRF_BztY",
        "outputId": "f130b0c7-9c81-439d-ddb5-232482230745"
      },
      "execution_count": null,
      "outputs": [
        {
          "output_type": "execute_result",
          "data": {
            "text/plain": [
              "array([ 59. , 239. , 155.4,  76.9])"
            ]
          },
          "metadata": {},
          "execution_count": 4
        }
      ]
    },
    {
      "cell_type": "code",
      "source": [
        "percentage = 100*A/cal.reshape(1 , 4)\n",
        "percentage"
      ],
      "metadata": {
        "colab": {
          "base_uri": "https://localhost:8080/"
        },
        "id": "KHR8JuPaB7dG",
        "outputId": "a850d9e5-7db6-4c17-cd78-fa1d2a5771d1"
      },
      "execution_count": null,
      "outputs": [
        {
          "output_type": "execute_result",
          "data": {
            "text/plain": [
              "array([[94.91525424,  0.        ,  2.83140283, 88.42652796],\n",
              "       [ 2.03389831, 43.51464435, 33.46203346, 10.40312094],\n",
              "       [ 3.05084746, 56.48535565, 63.70656371,  1.17035111]])"
            ]
          },
          "metadata": {},
          "execution_count": 6
        }
      ]
    },
    {
      "cell_type": "markdown",
      "source": [
        "# For example we have matrix with shape ( 2 , 3 ) and another matrix with shape ( 1 , 3 ). When we want to add these two , pyhton automatically expand the second matrix's shape with ( 2 , 3 )\n",
        "\n",
        "## In theory , you have ( m , n ) matrix and if the other matrix has ( 1 , n ) ,  it will broadcast ( m , n ). Same principle for ( m , 1 )."
      ],
      "metadata": {
        "id": "Wryren_ZCOt3"
      }
    }
  ]
}
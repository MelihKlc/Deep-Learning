{
  "nbformat": 4,
  "nbformat_minor": 0,
  "metadata": {
    "colab": {
      "provenance": [],
      "gpuType": "T4",
      "mount_file_id": "1yWHtbYlp7jwfNdtbPFVrmEWLDFrIiBSV",
      "authorship_tag": "ABX9TyObLowN7LnmzI/lOAime4nh",
      "include_colab_link": true
    },
    "kernelspec": {
      "name": "python3",
      "display_name": "Python 3"
    },
    "language_info": {
      "name": "python"
    },
    "accelerator": "GPU"
  },
  "cells": [
    {
      "cell_type": "markdown",
      "metadata": {
        "id": "view-in-github",
        "colab_type": "text"
      },
      "source": [
        "<a href=\"https://colab.research.google.com/github/MelihKlc/Deep-Learning/blob/main/Transfer_Learning_Scaling_up.ipynb\" target=\"_parent\"><img src=\"https://colab.research.google.com/assets/colab-badge.svg\" alt=\"Open In Colab\"/></a>"
      ]
    },
    {
      "cell_type": "markdown",
      "source": [
        "# We will get our helper function script"
      ],
      "metadata": {
        "id": "bGr7do7n8W6I"
      }
    },
    {
      "cell_type": "markdown",
      "source": [
        "# Our goal is to beat the original Food101 paper's results with 10% of data."
      ],
      "metadata": {
        "id": "MEiOAQmA8cDm"
      }
    },
    {
      "cell_type": "code",
      "execution_count": 1,
      "metadata": {
        "colab": {
          "base_uri": "https://localhost:8080/"
        },
        "id": "KHBZ0TJZ6Qha",
        "outputId": "ef247c45-b38b-49d0-c10b-45459fc70338"
      },
      "outputs": [
        {
          "output_type": "stream",
          "name": "stdout",
          "text": [
            "--2023-08-11 16:52:52--  https://raw.githubusercontent.com/mrdbourke/tensorflow-deep-learning/main/extras/helper_functions.py\n",
            "Resolving raw.githubusercontent.com (raw.githubusercontent.com)... 185.199.111.133, 185.199.110.133, 185.199.109.133, ...\n",
            "Connecting to raw.githubusercontent.com (raw.githubusercontent.com)|185.199.111.133|:443... connected.\n",
            "HTTP request sent, awaiting response... 200 OK\n",
            "Length: 10246 (10K) [text/plain]\n",
            "Saving to: ‘helper_functions.py’\n",
            "\n",
            "\rhelper_functions.py   0%[                    ]       0  --.-KB/s               \rhelper_functions.py 100%[===================>]  10.01K  --.-KB/s    in 0s      \n",
            "\n",
            "2023-08-11 16:52:52 (82.4 MB/s) - ‘helper_functions.py’ saved [10246/10246]\n",
            "\n"
          ]
        }
      ],
      "source": [
        "!wget https://raw.githubusercontent.com/mrdbourke/tensorflow-deep-learning/main/extras/helper_functions.py"
      ]
    },
    {
      "cell_type": "code",
      "source": [
        "# Import from helper function what we need\n",
        "\n",
        "from helper_functions import unzip_data ,  plot_loss_curves , walk_through_dir , create_tensorboard_callback , compare_historys"
      ],
      "metadata": {
        "id": "Wa6yk31i9eTN"
      },
      "execution_count": 2,
      "outputs": []
    },
    {
      "cell_type": "code",
      "source": [
        "# Download 10 percent of Food Vision 101\n",
        "import tensorflow as tf\n",
        "\n",
        "!wget https://storage.googleapis.com/ztm_tf_course/food_vision/101_food_classes_10_percent.zip\n",
        "unzip_data(\"101_food_classes_10_percent.zip\")\n",
        "\n",
        "# Set up train and test directory\n",
        "\n",
        "train_dir = \"/content/101_food_classes_10_percent/train\"\n",
        "test_dir = \"/content/101_food_classes_10_percent/test\"\n",
        "\n",
        "# Set up training and test set datas\n",
        "\n",
        "train_data = tf.keras.preprocessing.image_dataset_from_directory(directory = train_dir ,\n",
        "                                                                 batch_size = 32 ,\n",
        "                                                                 image_size = (224,224) ,\n",
        "                                                                 label_mode = \"categorical\"\n",
        "                                                                 )\n",
        "test_data = tf.keras.preprocessing.image_dataset_from_directory(directory = test_dir ,\n",
        "                                                                 batch_size = 32 ,\n",
        "                                                                 image_size = (224,224) ,\n",
        "                                                                 label_mode = \"categorical\" ,\n",
        "                                                                 shuffle = False  # Dont shuffle test data for prediction analysis\n",
        "                                                                 )"
      ],
      "metadata": {
        "colab": {
          "base_uri": "https://localhost:8080/"
        },
        "id": "5Yea73tH9td1",
        "outputId": "1bebfbdb-343f-40c0-fc55-214aa5fd9fee"
      },
      "execution_count": 3,
      "outputs": [
        {
          "output_type": "stream",
          "name": "stdout",
          "text": [
            "--2023-08-11 16:52:56--  https://storage.googleapis.com/ztm_tf_course/food_vision/101_food_classes_10_percent.zip\n",
            "Resolving storage.googleapis.com (storage.googleapis.com)... 74.125.68.128, 64.233.170.128, 142.251.175.128, ...\n",
            "Connecting to storage.googleapis.com (storage.googleapis.com)|74.125.68.128|:443... connected.\n",
            "HTTP request sent, awaiting response... 200 OK\n",
            "Length: 1625420029 (1.5G) [application/zip]\n",
            "Saving to: ‘101_food_classes_10_percent.zip’\n",
            "\n",
            "101_food_classes_10 100%[===================>]   1.51G  24.9MB/s    in 70s     \n",
            "\n",
            "2023-08-11 16:54:06 (22.1 MB/s) - ‘101_food_classes_10_percent.zip’ saved [1625420029/1625420029]\n",
            "\n",
            "Found 7575 files belonging to 101 classes.\n",
            "Found 25250 files belonging to 101 classes.\n"
          ]
        }
      ]
    },
    {
      "cell_type": "markdown",
      "source": [
        "# Here are the steps we are going to take:\n",
        "* Create a model check point tensorboard.\n",
        "* Create a data augmentation layer to build data augmentation right into the model.\n",
        "* Build a headless (no top layers) functional EfficientNetB0 backboned-model ( we will create our own output layer)\n",
        "* Compile our model\n",
        "* Feature extract for full 5 passes ( 5 epochs on the train dataset and validation on %15 of the test data , to save epoch time)"
      ],
      "metadata": {
        "id": "IAVsHIQsETbN"
      }
    },
    {
      "cell_type": "code",
      "source": [
        "# Set the checkpoint path\n",
        "checkpoint_path = \"101_food_classes_model_checkpoint_weights/checkpoint.ckpt\"\n",
        "\n",
        "# Create a ModelCheckpoint callback that saves the model's weights only\n",
        "checkpoint_callback = tf.keras.callbacks.ModelCheckpoint(\n",
        "    filepath = checkpoint_path ,\n",
        "    monitor = \"val_accuracy\" ,\n",
        "    save_weights_only = True ,\n",
        "    save_best_only = True\n",
        " )"
      ],
      "metadata": {
        "id": "PL1Mf06CFAPD"
      },
      "execution_count": 4,
      "outputs": []
    },
    {
      "cell_type": "code",
      "source": [
        "# Data augmentation layer\n",
        "import tensorflow as tf\n",
        "from tensorflow import keras\n",
        "from tensorflow.keras import layers\n",
        "from tensorflow.keras.layers.experimental import preprocessing\n",
        "\n",
        "data_augmentation = tf.keras.Sequential(\n",
        "    [\n",
        "        preprocessing.RandomFlip(\"horizontal\") ,\n",
        "        preprocessing.RandomZoom(0.2) ,\n",
        "        preprocessing.RandomHeight(0.2) ,\n",
        "        preprocessing.RandomWidth(0.2),\n",
        "        preprocessing.RandomRotation(0.2)\n",
        "    ] , name = \"data_augmentation\"\n",
        "\n",
        ")"
      ],
      "metadata": {
        "id": "xFZioAAM_vip"
      },
      "execution_count": 5,
      "outputs": []
    },
    {
      "cell_type": "code",
      "source": [
        "# Building feature extraction model with keras API\n",
        "\n",
        "base_model = tf.keras.applications.EfficientNetB0(include_top = False)\n",
        "\n",
        "base_model.trainable = False\n",
        "\n",
        "inputs = tf.keras.layers.Input(shape = (224,224,3) , name = \"input_layer\")\n",
        "\n",
        "x = data_augmentation(inputs)\n",
        "\n",
        "x = base_model(x , training = False) # Put the base model in inference mode so weights which need to stay frozen , stay frozen\n",
        "\n",
        "x = tf.keras.layers.GlobalAveragePooling2D()(x)\n",
        "\n",
        "outputs = tf.keras.layers.Dense(101 , activation = \"softmax\" , name = \"output_layer\")(x)  # 101 yerine len(train_data.class_names) yazabiliriz. Class sayısını bilmedigimiz datalarda böyle yapılabilir.\n",
        "\n",
        "model_1 = tf.keras.Model(inputs , outputs)\n",
        "\n",
        "# Compile a model\n",
        "\n",
        "model_1.compile(loss = [\"categorical_crossentropy\"] ,\n",
        "                optimizer = tf.keras.optimizers.Adam() ,\n",
        "                metrics = [\"accuracy\"]\n",
        "                )\n",
        "\n",
        "# Fit the model\n",
        "initial_epochs = 5\n",
        "\n",
        "history_1 = model_1.fit(train_data ,\n",
        "                        epochs = initial_epochs ,\n",
        "                        steps_per_epoch = len(train_data) ,\n",
        "                        validation_data = test_data ,\n",
        "                        validation_steps = int(0.15 * len(test_data)) ,\n",
        "                        callbacks = [checkpoint_callback]\n",
        "                        )\n"
      ],
      "metadata": {
        "colab": {
          "base_uri": "https://localhost:8080/"
        },
        "id": "g0xj12b9_c9A",
        "outputId": "f504663b-573c-435d-da57-73d14db8c6fa"
      },
      "execution_count": 6,
      "outputs": [
        {
          "output_type": "stream",
          "name": "stdout",
          "text": [
            "Downloading data from https://storage.googleapis.com/keras-applications/efficientnetb0_notop.h5\n",
            "16705208/16705208 [==============================] - 2s 0us/step\n",
            "Epoch 1/5\n",
            "237/237 [==============================] - 120s 438ms/step - loss: 3.3903 - accuracy: 0.2622 - val_loss: 2.5303 - val_accuracy: 0.4356\n",
            "Epoch 2/5\n",
            "237/237 [==============================] - 81s 335ms/step - loss: 2.2207 - accuracy: 0.4845 - val_loss: 2.0767 - val_accuracy: 0.4992\n",
            "Epoch 3/5\n",
            "237/237 [==============================] - 71s 296ms/step - loss: 1.8436 - accuracy: 0.5673 - val_loss: 1.9084 - val_accuracy: 0.5201\n",
            "Epoch 4/5\n",
            "237/237 [==============================] - 65s 274ms/step - loss: 1.6204 - accuracy: 0.6055 - val_loss: 1.8542 - val_accuracy: 0.5215\n",
            "Epoch 5/5\n",
            "237/237 [==============================] - 72s 301ms/step - loss: 1.4792 - accuracy: 0.6383 - val_loss: 1.8006 - val_accuracy: 0.5347\n"
          ]
        }
      ]
    },
    {
      "cell_type": "code",
      "source": [
        "plot_loss_curves(history_1)"
      ],
      "metadata": {
        "colab": {
          "base_uri": "https://localhost:8080/",
          "height": 927
        },
        "id": "ukUag8-ARlvt",
        "outputId": "f7c85441-f13d-4edc-ac8f-9dc6e2f4acf7"
      },
      "execution_count": 7,
      "outputs": [
        {
          "output_type": "display_data",
          "data": {
            "text/plain": [
              "<Figure size 640x480 with 1 Axes>"
            ],
            "image/png": "[encoded data removed]"
          },
          "metadata": {}
        },
        {
          "output_type": "display_data",
          "data": {
            "text/plain": [
              "<Figure size 640x480 with 1 Axes>"
            ],
            "image/png": "[encoded data removed]"
          },
          "metadata": {}
        }
      ]
    },
    {
      "cell_type": "markdown",
      "source": [
        "# What do these curves suggest? Hint: ideally, the two curves should be very similar to each other, if not, there may be some overfitting or underfitting."
      ],
      "metadata": {
        "id": "JfsXiGzFUTKi"
      }
    },
    {
      "cell_type": "code",
      "source": [
        "model_1_evaluate = model_1.evaluate(test_data)  # 100 percent of the test data"
      ],
      "metadata": {
        "colab": {
          "base_uri": "https://localhost:8080/"
        },
        "id": "w5sldPJFRoLb",
        "outputId": "0e93826f-4683-499d-de96-674679f0b78d"
      },
      "execution_count": 8,
      "outputs": [
        {
          "output_type": "stream",
          "name": "stdout",
          "text": [
            "790/790 [==============================] - 66s 83ms/step - loss: 1.5897 - accuracy: 0.5839\n"
          ]
        }
      ]
    },
    {
      "cell_type": "markdown",
      "source": [
        "# Feature extraction modelimizi tamamladık ve train ettik. %57 accuracy aldık. Şimdi fine-tuning yapıcaz."
      ],
      "metadata": {
        "id": "cC3ec5R-SDkg"
      }
    },
    {
      "cell_type": "code",
      "source": [
        "# Lets unfreeze all of the layers and then we will freeze all of the layers except last 10.\n",
        "\n",
        "base_model.trainable = True\n",
        "\n",
        "for layer in base_model.layers[ : -5]:\n",
        "  layer.trainable = False\n",
        "\n",
        "# Recompile it for fine-tuning\n",
        "\n",
        "model_1.compile(loss = [\"categorical_crossentropy\"] ,\n",
        "                optimizer = tf.keras.optimizers.Adam(learning_rate = 0.0001) ,\n",
        "                metrics = [\"accuracy\"]\n",
        "                )\n",
        "\n",
        "\n"
      ],
      "metadata": {
        "id": "BKewwWyPTPGz"
      },
      "execution_count": 9,
      "outputs": []
    },
    {
      "cell_type": "code",
      "source": [
        "# Fit the model\n",
        "fine_tune_epochs = initial_epochs + 5  #fine tune epochs aslında bizim total number of epochs umuz oluyor. Yani eğer feature extraction yaparken 5 epoch kullandıysak burda 10 epoch belirlediğimizde fine tune için 5 epoch kullanıcaz ( 5 (feature extraction) + 5 (fine-tuning) )\n",
        "\n",
        "history_2 = model_1.fit(train_data ,\n",
        "                     epochs = fine_tune_epochs ,\n",
        "                     steps_per_epoch = len(train_data) ,\n",
        "                     initial_epoch = history_1.epoch[-1] ,\n",
        "                     validation_data = test_data ,\n",
        "                     validation_steps = int( 0.15 * len(test_data)) ,\n",
        "                     callbacks = [checkpoint_callback]\n",
        "                     )"
      ],
      "metadata": {
        "colab": {
          "base_uri": "https://localhost:8080/"
        },
        "id": "wc7ht4yzVllR",
        "outputId": "990c9977-b90e-4e18-c922-9e1b33630360"
      },
      "execution_count": 10,
      "outputs": [
        {
          "output_type": "stream",
          "name": "stdout",
          "text": [
            "Epoch 5/10\n",
            "237/237 [==============================] - 71s 254ms/step - loss: 1.2443 - accuracy: 0.6803 - val_loss: 1.7633 - val_accuracy: 0.5368\n",
            "Epoch 6/10\n",
            "237/237 [==============================] - 56s 233ms/step - loss: 1.1161 - accuracy: 0.7040 - val_loss: 1.8051 - val_accuracy: 0.5291\n",
            "Epoch 7/10\n",
            "237/237 [==============================] - 51s 214ms/step - loss: 1.0463 - accuracy: 0.7197 - val_loss: 1.7684 - val_accuracy: 0.5342\n",
            "Epoch 8/10\n",
            "237/237 [==============================] - 48s 202ms/step - loss: 0.9779 - accuracy: 0.7391 - val_loss: 1.8145 - val_accuracy: 0.5318\n",
            "Epoch 9/10\n",
            "237/237 [==============================] - 49s 204ms/step - loss: 0.9367 - accuracy: 0.7451 - val_loss: 1.8318 - val_accuracy: 0.5262\n",
            "Epoch 10/10\n",
            "237/237 [==============================] - 47s 198ms/step - loss: 0.8695 - accuracy: 0.7613 - val_loss: 1.7739 - val_accuracy: 0.5395\n"
          ]
        }
      ]
    },
    {
      "cell_type": "code",
      "source": [
        "# Evaluating fine-tuning model\n",
        "fine_tune_eva = model_1.evaluate(test_data)"
      ],
      "metadata": {
        "colab": {
          "base_uri": "https://localhost:8080/"
        },
        "id": "3r83Gl8Qa9W7",
        "outputId": "373c4b70-e35b-4602-a961-fb31e5e5caad"
      },
      "execution_count": 11,
      "outputs": [
        {
          "output_type": "stream",
          "name": "stdout",
          "text": [
            "790/790 [==============================] - 70s 89ms/step - loss: 1.5031 - accuracy: 0.6006\n"
          ]
        }
      ]
    },
    {
      "cell_type": "code",
      "source": [
        "# Compare the results\n",
        "compare_historys(original_history = history_1 ,\n",
        "                 new_history = history_2 ,\n",
        "                 initial_epochs = 5\n",
        "                 )"
      ],
      "metadata": {
        "colab": {
          "base_uri": "https://localhost:8080/",
          "height": 718
        },
        "id": "g8reOtYLcMh4",
        "outputId": "284fed0a-94f5-4811-bc90-2398bc124e2c"
      },
      "execution_count": 12,
      "outputs": [
        {
          "output_type": "display_data",
          "data": {
            "text/plain": [
              "<Figure size 800x800 with 2 Axes>"
            ],
            "image/png": "[encoded data removed]"
          },
          "metadata": {}
        }
      ]
    },
    {
      "cell_type": "markdown",
      "source": [
        "# Saving and loading our model\n",
        "\n",
        "To use our model for external application , we will need to save it and export it somewhere"
      ],
      "metadata": {
        "id": "97BR0u_sc_my"
      }
    },
    {
      "cell_type": "code",
      "source": [
        "# # Save model to drive so it can be used later\n",
        "#model_1.save(\"drive/My Drive/101_food_class_10_percent_saved_big_dog_model\")"
      ],
      "metadata": {
        "id": "A6aqwZWNgplF"
      },
      "execution_count": 15,
      "outputs": []
    },
    {
      "cell_type": "markdown",
      "source": [
        "# Evaluating the performance of our model across all different classes\n",
        "\n",
        "Lets make some predictions , visualize them and then find out which predictions were the most wrong"
      ],
      "metadata": {
        "id": "a0EWIP0AoS2Y"
      }
    },
    {
      "cell_type": "code",
      "source": [
        "# Download pre-trained model\n",
        "!wget https://storage.googleapis.com/ztm_tf_course/food_vision/06_101_food_class_10_percent_saved_big_dog_model.zip"
      ],
      "metadata": {
        "colab": {
          "base_uri": "https://localhost:8080/"
        },
        "id": "5eghH1BzpJnh",
        "outputId": "4ae6feb8-2e00-4011-8dcf-702cab8c1b80"
      },
      "execution_count": 16,
      "outputs": [
        {
          "output_type": "stream",
          "name": "stdout",
          "text": [
            "--2023-08-11 17:28:50--  https://storage.googleapis.com/ztm_tf_course/food_vision/06_101_food_class_10_percent_saved_big_dog_model.zip\n",
            "Resolving storage.googleapis.com (storage.googleapis.com)... 74.125.24.128, 142.251.10.128, 142.251.12.128, ...\n",
            "Connecting to storage.googleapis.com (storage.googleapis.com)|74.125.24.128|:443... connected.\n",
            "HTTP request sent, awaiting response... 200 OK\n",
            "Length: 46760742 (45M) [application/zip]\n",
            "Saving to: ‘06_101_food_class_10_percent_saved_big_dog_model.zip’\n",
            "\n",
            "06_101_food_class_1 100%[===================>]  44.59M  15.9MB/s    in 2.8s    \n",
            "\n",
            "2023-08-11 17:28:53 (15.9 MB/s) - ‘06_101_food_class_10_percent_saved_big_dog_model.zip’ saved [46760742/46760742]\n",
            "\n"
          ]
        }
      ]
    },
    {
      "cell_type": "code",
      "source": [
        "unzip_data(\"06_101_food_class_10_percent_saved_big_dog_model.zip\")"
      ],
      "metadata": {
        "id": "QCLmvGxQpM6Y"
      },
      "execution_count": 17,
      "outputs": []
    },
    {
      "cell_type": "code",
      "source": [
        " # Load the saved model\n",
        " model_pre = tf.keras.models.load_model(\"/content/06_101_food_class_10_percent_saved_big_dog_model\")"
      ],
      "metadata": {
        "colab": {
          "base_uri": "https://localhost:8080/"
        },
        "id": "VqWIc-i4pdJD",
        "outputId": "406b26d2-0733-40c2-bff7-4db9fe62e47f"
      },
      "execution_count": 18,
      "outputs": [
        {
          "output_type": "stream",
          "name": "stderr",
          "text": [
            "WARNING:tensorflow:SavedModel saved prior to TF 2.5 detected when loading Keras model. Please ensure that you are saving the model with model.save() or tf.keras.models.save_model(), *NOT* tf.saved_model.save(). To confirm, there should be a file named \"keras_metadata.pb\" in the SavedModel directory.\n",
            "WARNING:absl:Importing a function (__inference_block6c_expand_activation_layer_call_and_return_conditional_losses_419470) with ops with unsaved custom gradients. Will likely fail if a gradient is requested.\n",
            "WARNING:absl:Importing a function (__inference_efficientnetb0_layer_call_and_return_conditional_losses_446460) with ops with unsaved custom gradients. Will likely fail if a gradient is requested.\n",
            "WARNING:absl:Importing a function (__inference_block2a_activation_layer_call_and_return_conditional_losses_450449) with ops with unsaved custom gradients. Will likely fail if a gradient is requested.\n",
            "WARNING:absl:Importing a function (__inference_block2a_expand_activation_layer_call_and_return_conditional_losses_415747) with ops with unsaved custom gradients. Will likely fail if a gradient is requested.\n",
            "WARNING:absl:Importing a function (__inference_block2b_activation_layer_call_and_return_conditional_losses_416083) with ops with unsaved custom gradients. Will likely fail if a gradient is requested.\n",
            "WARNING:absl:Importing a function (__inference_block2b_activation_layer_call_and_return_conditional_losses_450775) with ops with unsaved custom gradients. Will likely fail if a gradient is requested.\n",
            "WARNING:absl:Importing a function (__inference_block4a_activation_layer_call_and_return_conditional_losses_451847) with ops with unsaved custom gradients. Will likely fail if a gradient is requested.\n",
            "WARNING:absl:Importing a function (__inference_block5a_expand_activation_layer_call_and_return_conditional_losses_417915) with ops with unsaved custom gradients. Will likely fail if a gradient is requested.\n",
            "WARNING:absl:Importing a function (__inference_block4a_se_reduce_layer_call_and_return_conditional_losses_451887) with ops with unsaved custom gradients. Will likely fail if a gradient is requested.\n",
            "WARNING:absl:Importing a function (__inference_block4c_expand_activation_layer_call_and_return_conditional_losses_452467) with ops with unsaved custom gradients. Will likely fail if a gradient is requested.\n",
            "WARNING:absl:Importing a function (__inference_functional_17_layer_call_and_return_conditional_losses_438312) with ops with unsaved custom gradients. Will likely fail if a gradient is requested.\n",
            "WARNING:absl:Importing a function (__inference_block4c_expand_activation_layer_call_and_return_conditional_losses_417583) with ops with unsaved custom gradients. Will likely fail if a gradient is requested.\n",
            "WARNING:absl:Importing a function (__inference_block5c_activation_layer_call_and_return_conditional_losses_418582) with ops with unsaved custom gradients. Will likely fail if a gradient is requested.\n",
            "WARNING:absl:Importing a function (__inference_block6a_se_reduce_layer_call_and_return_conditional_losses_454031) with ops with unsaved custom gradients. Will likely fail if a gradient is requested.\n",
            "WARNING:absl:Importing a function (__inference_block7a_activation_layer_call_and_return_conditional_losses_455436) with ops with unsaved custom gradients. Will likely fail if a gradient is requested.\n",
            "WARNING:absl:Importing a function (__inference_block1a_activation_layer_call_and_return_conditional_losses_415524) with ops with unsaved custom gradients. Will likely fail if a gradient is requested.\n",
            "WARNING:absl:Importing a function (__inference_block3b_activation_layer_call_and_return_conditional_losses_451474) with ops with unsaved custom gradients. Will likely fail if a gradient is requested.\n",
            "WARNING:absl:Importing a function (__inference_block4a_expand_activation_layer_call_and_return_conditional_losses_451768) with ops with unsaved custom gradients. Will likely fail if a gradient is requested.\n",
            "WARNING:absl:Importing a function (__inference_efficientnetb0_layer_call_and_return_conditional_losses_441729) with ops with unsaved custom gradients. Will likely fail if a gradient is requested.\n",
            "WARNING:absl:Importing a function (__inference_block6b_se_reduce_layer_call_and_return_conditional_losses_454357) with ops with unsaved custom gradients. Will likely fail if a gradient is requested.\n",
            "WARNING:absl:Importing a function (__inference_block3b_activation_layer_call_and_return_conditional_losses_416695) with ops with unsaved custom gradients. Will likely fail if a gradient is requested.\n",
            "WARNING:absl:Importing a function (__inference_block6b_expand_activation_layer_call_and_return_conditional_losses_454238) with ops with unsaved custom gradients. Will likely fail if a gradient is requested.\n",
            "WARNING:absl:Importing a function (__inference_functional_17_layer_call_and_return_conditional_losses_436681) with ops with unsaved custom gradients. Will likely fail if a gradient is requested.\n",
            "WARNING:absl:Importing a function (__inference_block2a_activation_layer_call_and_return_conditional_losses_415804) with ops with unsaved custom gradients. Will likely fail if a gradient is requested.\n",
            "WARNING:absl:Importing a function (__inference_block5a_activation_layer_call_and_return_conditional_losses_452919) with ops with unsaved custom gradients. Will likely fail if a gradient is requested.\n",
            "WARNING:absl:Importing a function (__inference_block5c_se_reduce_layer_call_and_return_conditional_losses_453658) with ops with unsaved custom gradients. Will likely fail if a gradient is requested.\n",
            "WARNING:absl:Importing a function (__inference_efficientnetb0_layer_call_and_return_conditional_losses_448082) with ops with unsaved custom gradients. Will likely fail if a gradient is requested.\n",
            "WARNING:absl:Importing a function (__inference_block6a_activation_layer_call_and_return_conditional_losses_418915) with ops with unsaved custom gradients. Will likely fail if a gradient is requested.\n",
            "WARNING:absl:Importing a function (__inference_block5c_expand_activation_layer_call_and_return_conditional_losses_453539) with ops with unsaved custom gradients. Will likely fail if a gradient is requested.\n",
            "WARNING:absl:Importing a function (__inference_block4c_se_reduce_layer_call_and_return_conditional_losses_452586) with ops with unsaved custom gradients. Will likely fail if a gradient is requested.\n",
            "WARNING:absl:Importing a function (__inference_block1a_se_reduce_layer_call_and_return_conditional_losses_450163) with ops with unsaved custom gradients. Will likely fail if a gradient is requested.\n",
            "WARNING:absl:Importing a function (__inference_block5a_se_reduce_layer_call_and_return_conditional_losses_418018) with ops with unsaved custom gradients. Will likely fail if a gradient is requested.\n",
            "WARNING:absl:Importing a function (__inference_block7a_expand_activation_layer_call_and_return_conditional_losses_455357) with ops with unsaved custom gradients. Will likely fail if a gradient is requested.\n",
            "WARNING:absl:Importing a function (__inference_block4c_activation_layer_call_and_return_conditional_losses_417639) with ops with unsaved custom gradients. Will likely fail if a gradient is requested.\n",
            "WARNING:absl:Importing a function (__inference_block3a_se_reduce_layer_call_and_return_conditional_losses_451188) with ops with unsaved custom gradients. Will likely fail if a gradient is requested.\n",
            "WARNING:absl:Importing a function (__inference_block7a_activation_layer_call_and_return_conditional_losses_420190) with ops with unsaved custom gradients. Will likely fail if a gradient is requested.\n",
            "WARNING:absl:Importing a function (__inference_stem_activation_layer_call_and_return_conditional_losses_415468) with ops with unsaved custom gradients. Will likely fail if a gradient is requested.\n",
            "WARNING:absl:Importing a function (__inference_block7a_se_reduce_layer_call_and_return_conditional_losses_455476) with ops with unsaved custom gradients. Will likely fail if a gradient is requested.\n",
            "WARNING:absl:Importing a function (__inference_block4b_se_reduce_layer_call_and_return_conditional_losses_417354) with ops with unsaved custom gradients. Will likely fail if a gradient is requested.\n",
            "WARNING:absl:Importing a function (__inference_block4b_se_reduce_layer_call_and_return_conditional_losses_452213) with ops with unsaved custom gradients. Will likely fail if a gradient is requested.\n",
            "WARNING:absl:Importing a function (__inference_block4b_activation_layer_call_and_return_conditional_losses_452173) with ops with unsaved custom gradients. Will likely fail if a gradient is requested.\n",
            "WARNING:absl:Importing a function (__inference_block1a_se_reduce_layer_call_and_return_conditional_losses_415571) with ops with unsaved custom gradients. Will likely fail if a gradient is requested.\n",
            "WARNING:absl:Importing a function (__inference_block3b_se_reduce_layer_call_and_return_conditional_losses_451514) with ops with unsaved custom gradients. Will likely fail if a gradient is requested.\n",
            "WARNING:absl:Importing a function (__inference_block5a_activation_layer_call_and_return_conditional_losses_417971) with ops with unsaved custom gradients. Will likely fail if a gradient is requested.\n",
            "WARNING:absl:Importing a function (__inference_block6c_se_reduce_layer_call_and_return_conditional_losses_454730) with ops with unsaved custom gradients. Will likely fail if a gradient is requested.\n",
            "WARNING:absl:Importing a function (__inference_block3b_se_reduce_layer_call_and_return_conditional_losses_416742) with ops with unsaved custom gradients. Will likely fail if a gradient is requested.\n",
            "WARNING:absl:Importing a function (__inference_block2a_se_reduce_layer_call_and_return_conditional_losses_450489) with ops with unsaved custom gradients. Will likely fail if a gradient is requested.\n",
            "WARNING:absl:Importing a function (__inference_block3a_activation_layer_call_and_return_conditional_losses_451148) with ops with unsaved custom gradients. Will likely fail if a gradient is requested.\n",
            "WARNING:absl:Importing a function (__inference_block5b_expand_activation_layer_call_and_return_conditional_losses_418194) with ops with unsaved custom gradients. Will likely fail if a gradient is requested.\n",
            "WARNING:absl:Importing a function (__inference_block3a_se_reduce_layer_call_and_return_conditional_losses_416463) with ops with unsaved custom gradients. Will likely fail if a gradient is requested.\n",
            "WARNING:absl:Importing a function (__inference_efficientnetb0_layer_call_and_return_conditional_losses_429711) with ops with unsaved custom gradients. Will likely fail if a gradient is requested.\n",
            "WARNING:absl:Importing a function (__inference_efficientnetb0_layer_call_and_return_conditional_losses_443351) with ops with unsaved custom gradients. Will likely fail if a gradient is requested.\n",
            "WARNING:absl:Importing a function (__inference_block5c_expand_activation_layer_call_and_return_conditional_losses_418526) with ops with unsaved custom gradients. Will likely fail if a gradient is requested.\n",
            "WARNING:absl:Importing a function (__inference_block5b_activation_layer_call_and_return_conditional_losses_453245) with ops with unsaved custom gradients. Will likely fail if a gradient is requested.\n",
            "WARNING:absl:Importing a function (__inference_block3a_activation_layer_call_and_return_conditional_losses_416416) with ops with unsaved custom gradients. Will likely fail if a gradient is requested.\n",
            "WARNING:absl:Importing a function (__inference_efficientnetb0_layer_call_and_return_conditional_losses_428089) with ops with unsaved custom gradients. Will likely fail if a gradient is requested.\n",
            "WARNING:absl:Importing a function (__inference_block2b_expand_activation_layer_call_and_return_conditional_losses_416027) with ops with unsaved custom gradients. Will likely fail if a gradient is requested.\n",
            "WARNING:absl:Importing a function (__inference_block6a_expand_activation_layer_call_and_return_conditional_losses_453912) with ops with unsaved custom gradients. Will likely fail if a gradient is requested.\n",
            "WARNING:absl:Importing a function (__inference_block4c_activation_layer_call_and_return_conditional_losses_452546) with ops with unsaved custom gradients. Will likely fail if a gradient is requested.\n",
            "WARNING:absl:Importing a function (__inference_block7a_se_reduce_layer_call_and_return_conditional_losses_420237) with ops with unsaved custom gradients. Will likely fail if a gradient is requested.\n",
            "WARNING:absl:Importing a function (__inference_block5c_se_reduce_layer_call_and_return_conditional_losses_418629) with ops with unsaved custom gradients. Will likely fail if a gradient is requested.\n",
            "WARNING:absl:Importing a function (__inference_block3a_expand_activation_layer_call_and_return_conditional_losses_416359) with ops with unsaved custom gradients. Will likely fail if a gradient is requested.\n",
            "WARNING:absl:Importing a function (__inference_block3b_expand_activation_layer_call_and_return_conditional_losses_451395) with ops with unsaved custom gradients. Will likely fail if a gradient is requested.\n",
            "WARNING:absl:Importing a function (__inference_block6c_activation_layer_call_and_return_conditional_losses_454690) with ops with unsaved custom gradients. Will likely fail if a gradient is requested.\n",
            "WARNING:absl:Importing a function (__inference_block6d_se_reduce_layer_call_and_return_conditional_losses_419905) with ops with unsaved custom gradients. Will likely fail if a gradient is requested.\n",
            "WARNING:absl:Importing a function (__inference_block6c_activation_layer_call_and_return_conditional_losses_419526) with ops with unsaved custom gradients. Will likely fail if a gradient is requested.\n",
            "WARNING:absl:Importing a function (__inference_block5b_se_reduce_layer_call_and_return_conditional_losses_418297) with ops with unsaved custom gradients. Will likely fail if a gradient is requested.\n",
            "WARNING:absl:Importing a function (__inference_block4b_expand_activation_layer_call_and_return_conditional_losses_452094) with ops with unsaved custom gradients. Will likely fail if a gradient is requested.\n",
            "WARNING:absl:Importing a function (__inference__wrapped_model_408990) with ops with unsaved custom gradients. Will likely fail if a gradient is requested.\n",
            "WARNING:absl:Importing a function (__inference_block5c_activation_layer_call_and_return_conditional_losses_453618) with ops with unsaved custom gradients. Will likely fail if a gradient is requested.\n",
            "WARNING:absl:Importing a function (__inference_block6d_expand_activation_layer_call_and_return_conditional_losses_454984) with ops with unsaved custom gradients. Will likely fail if a gradient is requested.\n",
            "WARNING:absl:Importing a function (__inference_block2b_expand_activation_layer_call_and_return_conditional_losses_450696) with ops with unsaved custom gradients. Will likely fail if a gradient is requested.\n",
            "WARNING:absl:Importing a function (__inference_block6a_expand_activation_layer_call_and_return_conditional_losses_418858) with ops with unsaved custom gradients. Will likely fail if a gradient is requested.\n",
            "WARNING:absl:Importing a function (__inference_stem_activation_layer_call_and_return_conditional_losses_450044) with ops with unsaved custom gradients. Will likely fail if a gradient is requested.\n",
            "WARNING:absl:Importing a function (__inference_block5b_activation_layer_call_and_return_conditional_losses_418250) with ops with unsaved custom gradients. Will likely fail if a gradient is requested.\n",
            "WARNING:absl:Importing a function (__inference_block6a_activation_layer_call_and_return_conditional_losses_453991) with ops with unsaved custom gradients. Will likely fail if a gradient is requested.\n",
            "WARNING:absl:Importing a function (__inference_block5b_se_reduce_layer_call_and_return_conditional_losses_453285) with ops with unsaved custom gradients. Will likely fail if a gradient is requested.\n",
            "WARNING:absl:Importing a function (__inference_block4a_expand_activation_layer_call_and_return_conditional_losses_416971) with ops with unsaved custom gradients. Will likely fail if a gradient is requested.\n",
            "WARNING:absl:Importing a function (__inference_top_activation_layer_call_and_return_conditional_losses_455683) with ops with unsaved custom gradients. Will likely fail if a gradient is requested.\n",
            "WARNING:absl:Importing a function (__inference_block2a_se_reduce_layer_call_and_return_conditional_losses_415851) with ops with unsaved custom gradients. Will likely fail if a gradient is requested.\n",
            "WARNING:absl:Importing a function (__inference_block5b_expand_activation_layer_call_and_return_conditional_losses_453166) with ops with unsaved custom gradients. Will likely fail if a gradient is requested.\n",
            "WARNING:absl:Importing a function (__inference_top_activation_layer_call_and_return_conditional_losses_420413) with ops with unsaved custom gradients. Will likely fail if a gradient is requested.\n",
            "WARNING:absl:Importing a function (__inference_block1a_activation_layer_call_and_return_conditional_losses_450123) with ops with unsaved custom gradients. Will likely fail if a gradient is requested.\n",
            "WARNING:absl:Importing a function (__inference_block4a_se_reduce_layer_call_and_return_conditional_losses_417075) with ops with unsaved custom gradients. Will likely fail if a gradient is requested.\n",
            "WARNING:absl:Importing a function (__inference_block5a_expand_activation_layer_call_and_return_conditional_losses_452840) with ops with unsaved custom gradients. Will likely fail if a gradient is requested.\n",
            "WARNING:absl:Importing a function (__inference_block4b_activation_layer_call_and_return_conditional_losses_417307) with ops with unsaved custom gradients. Will likely fail if a gradient is requested.\n",
            "WARNING:absl:Importing a function (__inference_block6d_activation_layer_call_and_return_conditional_losses_455063) with ops with unsaved custom gradients. Will likely fail if a gradient is requested.\n",
            "WARNING:absl:Importing a function (__inference_block6d_expand_activation_layer_call_and_return_conditional_losses_419802) with ops with unsaved custom gradients. Will likely fail if a gradient is requested.\n",
            "WARNING:absl:Importing a function (__inference_block6d_activation_layer_call_and_return_conditional_losses_419858) with ops with unsaved custom gradients. Will likely fail if a gradient is requested.\n",
            "WARNING:absl:Importing a function (__inference_block5a_se_reduce_layer_call_and_return_conditional_losses_452959) with ops with unsaved custom gradients. Will likely fail if a gradient is requested.\n",
            "WARNING:absl:Importing a function (__inference_block3a_expand_activation_layer_call_and_return_conditional_losses_451069) with ops with unsaved custom gradients. Will likely fail if a gradient is requested.\n",
            "WARNING:absl:Importing a function (__inference_block2a_expand_activation_layer_call_and_return_conditional_losses_450370) with ops with unsaved custom gradients. Will likely fail if a gradient is requested.\n",
            "WARNING:absl:Importing a function (__inference_block6b_expand_activation_layer_call_and_return_conditional_losses_419138) with ops with unsaved custom gradients. Will likely fail if a gradient is requested.\n",
            "WARNING:absl:Importing a function (__inference_block6b_activation_layer_call_and_return_conditional_losses_419194) with ops with unsaved custom gradients. Will likely fail if a gradient is requested.\n",
            "WARNING:absl:Importing a function (__inference_block6c_se_reduce_layer_call_and_return_conditional_losses_419573) with ops with unsaved custom gradients. Will likely fail if a gradient is requested.\n",
            "WARNING:absl:Importing a function (__inference_block7a_expand_activation_layer_call_and_return_conditional_losses_420134) with ops with unsaved custom gradients. Will likely fail if a gradient is requested.\n",
            "WARNING:absl:Importing a function (__inference_block4a_activation_layer_call_and_return_conditional_losses_417028) with ops with unsaved custom gradients. Will likely fail if a gradient is requested.\n",
            "WARNING:absl:Importing a function (__inference_block6c_expand_activation_layer_call_and_return_conditional_losses_454611) with ops with unsaved custom gradients. Will likely fail if a gradient is requested.\n",
            "WARNING:absl:Importing a function (__inference_block3b_expand_activation_layer_call_and_return_conditional_losses_416639) with ops with unsaved custom gradients. Will likely fail if a gradient is requested.\n",
            "WARNING:absl:Importing a function (__inference_block4c_se_reduce_layer_call_and_return_conditional_losses_417686) with ops with unsaved custom gradients. Will likely fail if a gradient is requested.\n",
            "WARNING:absl:Importing a function (__inference_block4b_expand_activation_layer_call_and_return_conditional_losses_417251) with ops with unsaved custom gradients. Will likely fail if a gradient is requested.\n",
            "WARNING:absl:Importing a function (__inference_block6d_se_reduce_layer_call_and_return_conditional_losses_455103) with ops with unsaved custom gradients. Will likely fail if a gradient is requested.\n",
            "WARNING:absl:Importing a function (__inference_block2b_se_reduce_layer_call_and_return_conditional_losses_450815) with ops with unsaved custom gradients. Will likely fail if a gradient is requested.\n",
            "WARNING:absl:Importing a function (__inference_block2b_se_reduce_layer_call_and_return_conditional_losses_416130) with ops with unsaved custom gradients. Will likely fail if a gradient is requested.\n",
            "WARNING:absl:Importing a function (__inference_block6b_activation_layer_call_and_return_conditional_losses_454317) with ops with unsaved custom gradients. Will likely fail if a gradient is requested.\n",
            "WARNING:absl:Importing a function (__inference_block6a_se_reduce_layer_call_and_return_conditional_losses_418962) with ops with unsaved custom gradients. Will likely fail if a gradient is requested.\n",
            "WARNING:absl:Importing a function (__inference_block6b_se_reduce_layer_call_and_return_conditional_losses_419241) with ops with unsaved custom gradients. Will likely fail if a gradient is requested.\n"
          ]
        }
      ]
    },
    {
      "cell_type": "code",
      "source": [
        "# Evaluate loaded model\n",
        "eva_model_pre = model_pre.evaluate(test_data)"
      ],
      "metadata": {
        "colab": {
          "base_uri": "https://localhost:8080/"
        },
        "id": "HCTrmYp8pmkv",
        "outputId": "51173bbd-6d42-4804-f553-cd51f544de37"
      },
      "execution_count": 19,
      "outputs": [
        {
          "output_type": "stream",
          "name": "stdout",
          "text": [
            "790/790 [==============================] - 68s 82ms/step - loss: 1.8027 - accuracy: 0.6078\n"
          ]
        }
      ]
    },
    {
      "cell_type": "code",
      "source": [
        "# Making predictions with our model\n",
        "\n",
        "pred_probs = model_pre.predict(test_data , verbose = 1)  # Set verbosity 1 to see how long is left\n",
        "\n"
      ],
      "metadata": {
        "colab": {
          "base_uri": "https://localhost:8080/"
        },
        "id": "wT0uVGrNqWEn",
        "outputId": "41b51a52-981e-4bdb-b832-15386988cd12"
      },
      "execution_count": 24,
      "outputs": [
        {
          "output_type": "stream",
          "name": "stdout",
          "text": [
            "790/790 [==============================] - 71s 87ms/step\n"
          ]
        }
      ]
    },
    {
      "cell_type": "code",
      "source": [
        "len(test_data)"
      ],
      "metadata": {
        "colab": {
          "base_uri": "https://localhost:8080/"
        },
        "id": "88i4_vu3sI04",
        "outputId": "db14bd14-1cfd-49f9-9117-88b7836a6ec4"
      },
      "execution_count": 25,
      "outputs": [
        {
          "output_type": "execute_result",
          "data": {
            "text/plain": [
              "790"
            ]
          },
          "metadata": {},
          "execution_count": 25
        }
      ]
    },
    {
      "cell_type": "code",
      "source": [
        "# How many predictions are there?\n",
        "len(pred_probs)"
      ],
      "metadata": {
        "colab": {
          "base_uri": "https://localhost:8080/"
        },
        "id": "G2BJBfehsUzv",
        "outputId": "8340a487-1bad-4370-fb3d-36bfa57d534c"
      },
      "execution_count": 26,
      "outputs": [
        {
          "output_type": "execute_result",
          "data": {
            "text/plain": [
              "25250"
            ]
          },
          "metadata": {},
          "execution_count": 26
        }
      ]
    },
    {
      "cell_type": "code",
      "source": [
        "# What is the shape of our prediction. Burda outputta softmax var. Softmaxin özelliğini hatırlarsak her classa bir probability veriyor. Yani burda 1 image için 101 classın hepsine probability vercek. Meslea input olarak donut image girdik. Donut image probability 0.7 çıkacak baklava 0.0012 falan çıkacak. Mantık bu.\n",
        "pred_probs.shape"
      ],
      "metadata": {
        "colab": {
          "base_uri": "https://localhost:8080/"
        },
        "id": "ad7o-pUVt4fm",
        "outputId": "744cdd4c-d77a-444b-d13d-ae7bd6c9f3f9"
      },
      "execution_count": 28,
      "outputs": [
        {
          "output_type": "execute_result",
          "data": {
            "text/plain": [
              "(25250, 101)"
            ]
          },
          "metadata": {},
          "execution_count": 28
        }
      ]
    },
    {
      "cell_type": "code",
      "source": [
        "# How first 10 predictions look like?\n",
        "pred_probs[ : 10]"
      ],
      "metadata": {
        "colab": {
          "base_uri": "https://localhost:8080/"
        },
        "id": "dcNY0KjQy6zL",
        "outputId": "2c261f35-b5b4-4da6-b9fa-471343f33069"
      },
      "execution_count": 29,
      "outputs": [
        {
          "output_type": "execute_result",
          "data": {
            "text/plain": [
              "array([[5.9542079e-02, 3.5742114e-06, 4.1377071e-02, ..., 1.4138705e-09,\n",
              "        8.3530424e-05, 3.0897493e-03],\n",
              "       [9.6401680e-01, 1.3753272e-09, 8.4780494e-04, ..., 5.4286946e-05,\n",
              "        7.8362065e-12, 9.8466024e-10],\n",
              "       [9.5925868e-01, 3.2533771e-05, 1.4867012e-03, ..., 7.1891407e-07,\n",
              "        5.4397475e-07, 4.0276118e-05],\n",
              "       ...,\n",
              "       [4.7313249e-01, 1.2931206e-07, 1.4805582e-03, ..., 5.9750117e-04,\n",
              "        6.6969209e-05, 2.3469403e-05],\n",
              "       [4.4571843e-02, 4.7265397e-07, 1.2258503e-01, ..., 6.3498451e-06,\n",
              "        7.5318876e-06, 3.6778769e-03],\n",
              "       [7.2438902e-01, 1.9249717e-09, 5.2310897e-05, ..., 1.2291410e-03,\n",
              "        1.5792732e-09, 9.6395481e-05]], dtype=float32)"
            ]
          },
          "metadata": {},
          "execution_count": 29
        }
      ]
    },
    {
      "cell_type": "code",
      "source": [
        "# First pred. As i sad , it has 101 elements because of 101 class we have. Sum of all values inside the 1 image prediction is almost 1 because we have probabilities\n",
        "pred_probs[0] , len(pred_probs[0]) , sum(pred_probs[0])"
      ],
      "metadata": {
        "colab": {
          "base_uri": "https://localhost:8080/"
        },
        "id": "WgBjmiFgzBJ9",
        "outputId": "76b4916d-9dc4-47b5-b1df-327c84fe8ed6"
      },
      "execution_count": 32,
      "outputs": [
        {
          "output_type": "execute_result",
          "data": {
            "text/plain": [
              "(array([5.9542079e-02, 3.5742114e-06, 4.1377071e-02, 1.0660534e-09,\n",
              "        8.1614422e-09, 8.6639478e-09, 8.0927344e-07, 8.5652732e-07,\n",
              "        1.9859108e-05, 8.0977674e-07, 3.1727800e-09, 9.8673911e-07,\n",
              "        2.8532281e-04, 7.8048890e-10, 7.4230117e-04, 3.8916227e-05,\n",
              "        6.4740480e-06, 2.4977348e-06, 3.7891161e-05, 2.0678284e-07,\n",
              "        1.5538406e-05, 8.1507324e-07, 2.6230616e-06, 2.0010684e-07,\n",
              "        8.3827518e-07, 5.4215925e-06, 3.7390960e-06, 1.3150530e-08,\n",
              "        2.7761441e-03, 2.8051916e-05, 6.8562017e-10, 2.5574853e-05,\n",
              "        1.6688927e-04, 7.6406986e-10, 4.0452811e-04, 1.3150683e-08,\n",
              "        1.7957391e-06, 1.4448174e-06, 2.3062844e-02, 8.2466693e-07,\n",
              "        8.5365679e-07, 1.7138593e-06, 7.0525425e-06, 1.8402130e-08,\n",
              "        2.8553373e-07, 7.9483443e-06, 2.0681530e-06, 1.8525149e-07,\n",
              "        3.3619703e-08, 3.1522504e-04, 1.0410941e-05, 8.5448431e-07,\n",
              "        8.4741855e-01, 1.0555424e-05, 4.4094787e-07, 3.7404032e-05,\n",
              "        3.5306188e-05, 3.2488941e-05, 6.7314730e-05, 1.2852589e-08,\n",
              "        2.6219654e-10, 1.0318089e-05, 8.5743537e-05, 1.0569885e-06,\n",
              "        2.1293431e-06, 3.7637546e-05, 7.5972999e-08, 2.5340484e-04,\n",
              "        9.2905839e-07, 1.2598184e-04, 6.2621652e-06, 1.2458726e-08,\n",
              "        4.0519761e-05, 6.8728362e-08, 1.2546279e-06, 5.2887579e-08,\n",
              "        7.5424772e-08, 7.5398566e-05, 7.7540280e-05, 6.4026000e-07,\n",
              "        9.9033286e-07, 2.2225964e-05, 1.5013904e-05, 1.4038487e-07,\n",
              "        1.2232555e-05, 1.9044720e-02, 4.9999551e-05, 4.6226301e-06,\n",
              "        1.5388237e-07, 3.3824190e-07, 3.9228327e-09, 1.6563671e-07,\n",
              "        8.1320599e-05, 4.8965248e-06, 2.4068254e-07, 2.3124088e-05,\n",
              "        3.1040542e-04, 3.1379997e-05, 1.4138705e-09, 8.3530424e-05,\n",
              "        3.0897493e-03], dtype=float32),\n",
              " 101)"
            ]
          },
          "metadata": {},
          "execution_count": 32
        }
      ]
    },
    {
      "cell_type": "code",
      "source": [
        "# We get one prediction probabilites per class (in our case there is 101 prediction probabilities )\n",
        "\n",
        "print(f\"Number of predictions probabilities for sample 0: {len(pred_probs[0])}\")\n",
        "print(f\"What prediction probability sample 0 looks like: \\n {pred_probs[0]} \")\n",
        "print(f\"The class with the highest predicted probability by the model for sample 0: {pred_probs[0].argmax()}\")"
      ],
      "metadata": {
        "colab": {
          "base_uri": "https://localhost:8080/"
        },
        "id": "cWKhdRyDzIVR",
        "outputId": "d136d529-5629-4654-8642-36f9606be570"
      },
      "execution_count": 33,
      "outputs": [
        {
          "output_type": "stream",
          "name": "stdout",
          "text": [
            "Number of predictions probabilities for sample 0 101\n",
            "What prediction probability sample 0 looks like: \n",
            " [5.9542079e-02 3.5742114e-06 4.1377071e-02 1.0660534e-09 8.1614422e-09\n",
            " 8.6639478e-09 8.0927344e-07 8.5652732e-07 1.9859108e-05 8.0977674e-07\n",
            " 3.1727800e-09 9.8673911e-07 2.8532281e-04 7.8048890e-10 7.4230117e-04\n",
            " 3.8916227e-05 6.4740480e-06 2.4977348e-06 3.7891161e-05 2.0678284e-07\n",
            " 1.5538406e-05 8.1507324e-07 2.6230616e-06 2.0010684e-07 8.3827518e-07\n",
            " 5.4215925e-06 3.7390960e-06 1.3150530e-08 2.7761441e-03 2.8051916e-05\n",
            " 6.8562017e-10 2.5574853e-05 1.6688927e-04 7.6406986e-10 4.0452811e-04\n",
            " 1.3150683e-08 1.7957391e-06 1.4448174e-06 2.3062844e-02 8.2466693e-07\n",
            " 8.5365679e-07 1.7138593e-06 7.0525425e-06 1.8402130e-08 2.8553373e-07\n",
            " 7.9483443e-06 2.0681530e-06 1.8525149e-07 3.3619703e-08 3.1522504e-04\n",
            " 1.0410941e-05 8.5448431e-07 8.4741855e-01 1.0555424e-05 4.4094787e-07\n",
            " 3.7404032e-05 3.5306188e-05 3.2488941e-05 6.7314730e-05 1.2852589e-08\n",
            " 2.6219654e-10 1.0318089e-05 8.5743537e-05 1.0569885e-06 2.1293431e-06\n",
            " 3.7637546e-05 7.5972999e-08 2.5340484e-04 9.2905839e-07 1.2598184e-04\n",
            " 6.2621652e-06 1.2458726e-08 4.0519761e-05 6.8728362e-08 1.2546279e-06\n",
            " 5.2887579e-08 7.5424772e-08 7.5398566e-05 7.7540280e-05 6.4026000e-07\n",
            " 9.9033286e-07 2.2225964e-05 1.5013904e-05 1.4038487e-07 1.2232555e-05\n",
            " 1.9044720e-02 4.9999551e-05 4.6226301e-06 1.5388237e-07 3.3824190e-07\n",
            " 3.9228327e-09 1.6563671e-07 8.1320599e-05 4.8965248e-06 2.4068254e-07\n",
            " 2.3124088e-05 3.1040542e-04 3.1379997e-05 1.4138705e-09 8.3530424e-05\n",
            " 3.0897493e-03] \n",
            "The class with the highest predicted probability by the model for sample 0: 52\n"
          ]
        }
      ]
    },
    {
      "cell_type": "code",
      "source": [
        "# Get the pred classes of each layer\n",
        "pred_classes = pred_probs.argmax(axis = 1)\n",
        "\n",
        "# How do they look?\n",
        "pred_classes[ : 10]"
      ],
      "metadata": {
        "colab": {
          "base_uri": "https://localhost:8080/"
        },
        "id": "9PfwT-Gi3THw",
        "outputId": "4838ecfd-dab4-4c23-a6fb-1a059641ba3f"
      },
      "execution_count": 34,
      "outputs": [
        {
          "output_type": "execute_result",
          "data": {
            "text/plain": [
              "array([52,  0,  0, 80, 79, 61, 29,  0, 85,  0])"
            ]
          },
          "metadata": {},
          "execution_count": 34
        }
      ]
    },
    {
      "cell_type": "code",
      "source": [
        "# How many pred classes do we have ?\n",
        "len(pred_classes)"
      ],
      "metadata": {
        "colab": {
          "base_uri": "https://localhost:8080/"
        },
        "id": "o1Fr6jtc3eXL",
        "outputId": "8df34b1b-1bda-4aca-e5f3-bbc869850472"
      },
      "execution_count": 35,
      "outputs": [
        {
          "output_type": "execute_result",
          "data": {
            "text/plain": [
              "25250"
            ]
          },
          "metadata": {},
          "execution_count": 35
        }
      ]
    }
  ]
}
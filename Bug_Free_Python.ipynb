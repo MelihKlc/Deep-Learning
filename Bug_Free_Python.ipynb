{
  "nbformat": 4,
  "nbformat_minor": 0,
  "metadata": {
    "colab": {
      "provenance": [],
      "authorship_tag": "ABX9TyMtgZ23jHde7rPlrcSfcjYn",
      "include_colab_link": true
    },
    "kernelspec": {
      "name": "python3",
      "display_name": "Python 3"
    },
    "language_info": {
      "name": "python"
    }
  },
  "cells": [
    {
      "cell_type": "markdown",
      "metadata": {
        "id": "view-in-github",
        "colab_type": "text"
      },
      "source": [
        "<a href=\"https://colab.research.google.com/github/MelihKlc/Deep-Learning/blob/main/Bug_Free_Python.ipynb\" target=\"_parent\"><img src=\"https://colab.research.google.com/assets/colab-badge.svg\" alt=\"Open In Colab\"/></a>"
      ]
    },
    {
      "cell_type": "code",
      "execution_count": 1,
      "metadata": {
        "id": "D4okL1f6ximH"
      },
      "outputs": [],
      "source": [
        "import numpy as np"
      ]
    },
    {
      "cell_type": "code",
      "source": [
        "a = np.random.randn(5)"
      ],
      "metadata": {
        "id": "lD61_lb5xrkP"
      },
      "execution_count": 2,
      "outputs": []
    },
    {
      "cell_type": "code",
      "source": [
        "a"
      ],
      "metadata": {
        "colab": {
          "base_uri": "https://localhost:8080/"
        },
        "id": "21Ju6QyPx0QN",
        "outputId": "b0bfebb3-04eb-478a-d984-422e7909b45c"
      },
      "execution_count": 3,
      "outputs": [
        {
          "output_type": "execute_result",
          "data": {
            "text/plain": [
              "array([-0.52813294, -1.89158714, -0.6993573 , -2.18359751, -1.2525455 ])"
            ]
          },
          "metadata": {},
          "execution_count": 3
        }
      ]
    },
    {
      "cell_type": "code",
      "source": [
        "a.shape   # It is called rank 1 array. Neither row nor column vector"
      ],
      "metadata": {
        "colab": {
          "base_uri": "https://localhost:8080/"
        },
        "id": "rGnlB-S6x1EZ",
        "outputId": "a9665378-265d-4764-d635-06693845a0eb"
      },
      "execution_count": 4,
      "outputs": [
        {
          "output_type": "execute_result",
          "data": {
            "text/plain": [
              "(5,)"
            ]
          },
          "metadata": {},
          "execution_count": 4
        }
      ]
    },
    {
      "cell_type": "code",
      "source": [
        "a.T"
      ],
      "metadata": {
        "colab": {
          "base_uri": "https://localhost:8080/"
        },
        "id": "g7O9szdJx3UD",
        "outputId": "52c99518-5a89-4a28-9571-e32d39a1c5ee"
      },
      "execution_count": 5,
      "outputs": [
        {
          "output_type": "execute_result",
          "data": {
            "text/plain": [
              "array([-0.52813294, -1.89158714, -0.6993573 , -2.18359751, -1.2525455 ])"
            ]
          },
          "metadata": {},
          "execution_count": 5
        }
      ]
    },
    {
      "cell_type": "code",
      "source": [
        "np.dot(a , a.T)  # Instead of this , we want to use the shape of (5,1) instead of rank vector"
      ],
      "metadata": {
        "colab": {
          "base_uri": "https://localhost:8080/"
        },
        "id": "mgFL_fc1x5M9",
        "outputId": "e8bda57b-00d0-4859-e541-2b403070a28e"
      },
      "execution_count": 6,
      "outputs": [
        {
          "output_type": "execute_result",
          "data": {
            "text/plain": [
              "10.683095242401533"
            ]
          },
          "metadata": {},
          "execution_count": 6
        }
      ]
    },
    {
      "cell_type": "code",
      "source": [
        "a = np.random.rand( 5 , 1)\n",
        "a"
      ],
      "metadata": {
        "colab": {
          "base_uri": "https://localhost:8080/"
        },
        "id": "oEQkB3SmyzI6",
        "outputId": "152fe1d2-1d88-4528-ab1c-771621f7dadf"
      },
      "execution_count": 7,
      "outputs": [
        {
          "output_type": "execute_result",
          "data": {
            "text/plain": [
              "array([[0.27391255],\n",
              "       [0.76013696],\n",
              "       [0.3550639 ],\n",
              "       [0.16332082],\n",
              "       [0.07323978]])"
            ]
          },
          "metadata": {},
          "execution_count": 7
        }
      ]
    },
    {
      "cell_type": "code",
      "source": [
        "a.shape"
      ],
      "metadata": {
        "colab": {
          "base_uri": "https://localhost:8080/"
        },
        "id": "3rjwFUDUzIoI",
        "outputId": "350a1795-271f-47a5-ff0d-1c7782e58dfc"
      },
      "execution_count": 8,
      "outputs": [
        {
          "output_type": "execute_result",
          "data": {
            "text/plain": [
              "(5, 1)"
            ]
          },
          "metadata": {},
          "execution_count": 8
        }
      ]
    },
    {
      "cell_type": "code",
      "source": [
        "a.T"
      ],
      "metadata": {
        "colab": {
          "base_uri": "https://localhost:8080/"
        },
        "id": "cjJeERRTzJkJ",
        "outputId": "fe42b35a-891a-4439-ef19-6b38cd594d15"
      },
      "execution_count": 9,
      "outputs": [
        {
          "output_type": "execute_result",
          "data": {
            "text/plain": [
              "array([[0.27391255, 0.76013696, 0.3550639 , 0.16332082, 0.07323978]])"
            ]
          },
          "metadata": {},
          "execution_count": 9
        }
      ]
    },
    {
      "cell_type": "code",
      "source": [
        "np.dot( a , a.T )"
      ],
      "metadata": {
        "colab": {
          "base_uri": "https://localhost:8080/"
        },
        "id": "ZTWF03jszMbw",
        "outputId": "7790afdb-c4b2-4abd-914d-3d24b8d58e4a"
      },
      "execution_count": 10,
      "outputs": [
        {
          "output_type": "execute_result",
          "data": {
            "text/plain": [
              "array([[0.07502808, 0.20821105, 0.09725646, 0.04473562, 0.02006129],\n",
              "       [0.20821105, 0.5778082 , 0.2698972 , 0.12414619, 0.05567226],\n",
              "       [0.09725646, 0.2698972 , 0.12607037, 0.05798933, 0.0260048 ],\n",
              "       [0.04473562, 0.12414619, 0.05798933, 0.02667369, 0.01196158],\n",
              "       [0.02006129, 0.05567226, 0.0260048 , 0.01196158, 0.00536407]])"
            ]
          },
          "metadata": {},
          "execution_count": 10
        }
      ]
    },
    {
      "cell_type": "markdown",
      "source": [
        "# Dont use rank 1 array when you implement a neural network. Everytime , reshape your arrays with this form ( 5 , 1 ) or ( 1 , 5 ) (it is just an example) when you use column or row vector."
      ],
      "metadata": {
        "id": "N0vGCNbkzV-Y"
      }
    },
    {
      "cell_type": "code",
      "source": [
        "# For make sure your vectors' shape\n",
        "assert( a.shape == ( 5 , 1 ) )"
      ],
      "metadata": {
        "id": "04kIKGlY0M8n"
      },
      "execution_count": 11,
      "outputs": []
    },
    {
      "cell_type": "markdown",
      "source": [
        "# a.reshape( ( 5 , 1) )   or a.reshape( ( 1 , 5 ) )"
      ],
      "metadata": {
        "id": "D1f90DmE0USv"
      }
    }
  ]
}
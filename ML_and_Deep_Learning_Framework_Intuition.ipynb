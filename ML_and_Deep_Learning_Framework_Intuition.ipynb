{
  "nbformat": 4,
  "nbformat_minor": 0,
  "metadata": {
    "colab": {
      "provenance": [],
      "authorship_tag": "ABX9TyN5CvEcKQf5ZrWi518Vc+Hn",
      "include_colab_link": true
    },
    "kernelspec": {
      "name": "python3",
      "display_name": "Python 3"
    },
    "language_info": {
      "name": "python"
    }
  },
  "cells": [
    {
      "cell_type": "markdown",
      "metadata": {
        "id": "view-in-github",
        "colab_type": "text"
      },
      "source": [
        "<a href=\"https://colab.research.google.com/github/MelihKlc/Deep-Learning/blob/main/ML_and_Deep_Learning_Framework_Intuition.ipynb\" target=\"_parent\"><img src=\"https://colab.research.google.com/assets/colab-badge.svg\" alt=\"Open In Colab\"/></a>"
      ]
    },
    {
      "cell_type": "markdown",
      "source": [
        "# Framework"
      ],
      "metadata": {
        "id": "3LS3Q4qhKKPT"
      }
    },
    {
      "cell_type": "markdown",
      "source": [
        "## Problem Definition\n",
        "\n",
        "### **Supervised Learning :** In supervised learning , we have data and labels. Machine Learning algorithms tries to use the data to predict label. If it guesses the label wrong , the algorithm corrects itself and trying again. This act of correction is why it is called supervised.\n",
        "\n",
        "\n",
        "#### The main types of supervised learning problems are classification and regression.\n",
        "\n",
        "#### **Classification** - Is this example one thing or another?\n",
        "\n",
        "\n",
        "- Binary Classification = Two options\n",
        "- Multiclass Classification = More than two options\n",
        "\n",
        "\n",
        "#### **Regression** How much this house sell for?  // How many people will buy this app?\n",
        "\n",
        "\n",
        "\n",
        "### **Unsupervised Learning :** Unsupervised learning has data but no labels. For example , you might have the purchase history of all customers at your store , and your marketing team wants to send out a promotion for next summer , but they know not everyone will be interested in new summer clothes. They come to you and ask , Do you know who is interested in summer clothes? And the thing is , you dont either. But you know you can figure it out from the data you have so you decide to run algorithm to find patterns in the data and group customers who purchase similar things together.Once it finishes , you notice two groups. One group of customers who purchase only during winter time and one group of customers who purchase mostly during summer time. You label them winter customers and summer customers and send them to your marketing team. Important to note here is that you provided the labels , They werent there to begin with , but the patterns were. Problems like this are also called as clustering or putting groups of similar examples together.\n",
        "\n",
        "\n",
        "\n",
        "\n",
        "#### **Supervised Learning:** I know my inputs and outputs.\n",
        "\n",
        "\n",
        "#### **Unsupervised Learning:** I am not sure of the outputs but i have inputs."
      ],
      "metadata": {
        "id": "GIPTqDl4NIJp"
      }
    },
    {
      "cell_type": "markdown",
      "source": [
        "## Data\n",
        "\n",
        "What kind of data do we have?\n",
        "\n",
        "Structured data : Rows and columns , Excel file (like .csv)\n",
        "\n",
        "Unstructured data : Image or audio files.\n",
        "\n",
        "Data Science workflow:\n",
        "1. Workflows begin by opening a CSV file in our notebook.\n",
        "2. Exploring the data and performing data analysis using pandas(DataFrame).\n",
        "3. Making visualization such as graphs and comparing different data points using matplotlib.pyplot.\n",
        "4. Building Machine Learning models.\n",
        "\n",
        "* Training data : Train your model on this.\n",
        "* Validation data : Tune your model on this.\n",
        "* Test data : Test and compare this dataset with different models."
      ],
      "metadata": {
        "id": "42k1fOxDKW-t"
      }
    },
    {
      "cell_type": "markdown",
      "source": [
        "## Evaluation\n",
        "\n",
        "What defines succes for us?"
      ],
      "metadata": {
        "id": "8IanxioZKnzf"
      }
    },
    {
      "cell_type": "markdown",
      "source": [
        "## Features\n",
        "\n",
        "What we do already know about the data?\n",
        "\n",
        "These might be numbers or strings.\n",
        "\n",
        "The premise remains the same. A Machine Learning algorihtms goal is to turn these features such as weights , sex , blood pressure and chest pain into patterns to make predictions such as whether or not a patient has heart diseas or not.\n",
        "\n",
        "* Numerical Features.\n",
        "* Categorical Features  : e.g. Sex : Female / Male  \n",
        "\n"
      ],
      "metadata": {
        "id": "wzC7lvtVK6CU"
      }
    },
    {
      "cell_type": "markdown",
      "source": [
        "## Modelling\n",
        "\n",
        "Based on our problem and data , what model should we use?\n",
        "\n",
        "Your focus will be to figure out the right model for the right kind of problem.\n",
        "\n",
        "* Generalization : The ability for a Machine Learning model to perform well on data it hasnt seen before."
      ],
      "metadata": {
        "id": "XENaF5dpL0nj"
      }
    },
    {
      "cell_type": "markdown",
      "source": [
        "## Experimentation\n",
        "\n",
        "How could we improve / What can we try next?\n",
        "\n",
        "### Good model accuracy :\n",
        "\n",
        "Training set : 98%\n",
        "\n",
        "Test set : 96%\n",
        "\n",
        "### Underfitting model accuracy :\n",
        "\n",
        "**Data Mismatch:** Your training data and your test data have different things such as features.\n",
        "\n",
        "- Try more advanced model.\n",
        "- Increase model hyperparameters.\n",
        "- Reduce amount of features\n",
        "- Train longer\n",
        "\n",
        "Training set : 64%\n",
        "\n",
        "Test set : 47%\n",
        "\n",
        "### Overfitting model accuracy :\n",
        "\n",
        "**Data leakage:** You saw your final exam before the exam date and you learned very well this exam but your final exam is changed and you couldnt doing anything on the new exam. ( Yani train datanın icindeki bazı dataların test datanın icinde de olması)\n",
        "\n",
        "Training set : 93%\n",
        "\n",
        "Test set : 99%\n",
        "\n",
        "- Collect more data.\n",
        "- Try a less advanced data.\n"
      ],
      "metadata": {
        "id": "wFJVbEKZL6Dc"
      }
    },
    {
      "cell_type": "code",
      "source": [],
      "metadata": {
        "id": "TjLNIjOiNDBf"
      },
      "execution_count": null,
      "outputs": []
    }
  ]
}
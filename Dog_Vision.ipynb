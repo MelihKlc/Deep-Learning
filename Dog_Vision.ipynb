{
  "nbformat": 4,
  "nbformat_minor": 0,
  "metadata": {
    "colab": {
      "provenance": [],
      "gpuType": "T4",
      "mount_file_id": "11vZIYg_jpZgdDoAGMvsl8FrlYvuang_q",
      "authorship_tag": "ABX9TyMfvwT9bc/jRYdpHNPasEW4",
      "include_colab_link": true
    },
    "kernelspec": {
      "name": "python3",
      "display_name": "Python 3"
    },
    "language_info": {
      "name": "python"
    },
    "accelerator": "GPU"
  },
  "cells": [
    {
      "cell_type": "markdown",
      "metadata": {
        "id": "view-in-github",
        "colab_type": "text"
      },
      "source": [
        "<a href=\"https://colab.research.google.com/github/MelihKlc/Deep-Learning/blob/main/Dog_Vision.ipynb\" target=\"_parent\"><img src=\"https://colab.research.google.com/assets/colab-badge.svg\" alt=\"Open In Colab\"/></a>"
      ]
    },
    {
      "cell_type": "markdown",
      "source": [
        "# Multi-class dog breed classification"
      ],
      "metadata": {
        "id": "oj2NeyInnUAw"
      }
    },
    {
      "cell_type": "markdown",
      "source": [
        "## 1. Problem :\n",
        "* Identifying the breed of a dog given an image of a dog.\n",
        "\n",
        "## 2. Data:\n",
        "* Our data has 120 different dog breeds.\n",
        "* There are 10000+ images in our training data (these images have labels.)\n",
        "* There are 10000+ images in our test data(these images dont have labels because we will want to predict them.)\n",
        "\n",
        "## 3. Evaluation:\n",
        "* The evaluation is a file with prediction probabilities for each dog breed of each test images."
      ],
      "metadata": {
        "id": "_6yF2qQgnYa6"
      }
    },
    {
      "cell_type": "markdown",
      "source": [
        "## Unzipping the data from Drive"
      ],
      "metadata": {
        "id": "D1n5iysvfkf4"
      }
    },
    {
      "cell_type": "code",
      "source": [
        "!unzip \"/content/dog-breed-identification.zip\""
      ],
      "metadata": {
        "colab": {
          "base_uri": "https://localhost:8080/"
        },
        "id": "Ul29Ak5uuOrC",
        "outputId": "682392ed-d094-44a1-be26-22b4d0878660"
      },
      "execution_count": 2,
      "outputs": [
        {
          "output_type": "stream",
          "name": "stdout",
          "text": [
            "Archive:  /content/dog-breed-identification.zip\n",
            "  End-of-central-directory signature not found.  Either this file is not\n",
            "  a zipfile, or it constitutes one disk of a multi-part archive.  In the\n",
            "  latter case the central directory and zipfile comment will be found on\n",
            "  the last disk(s) of this archive.\n",
            "unzip:  cannot find zipfile directory in one of /content/dog-breed-identification.zip or\n",
            "        /content/dog-breed-identification.zip.zip, and cannot find /content/dog-breed-identification.zip.ZIP, period.\n"
          ]
        }
      ]
    },
    {
      "cell_type": "code",
      "source": [
        "# !unzip \"/content/drive/MyDrive/Dog_Vision/dog-breed-identification.zip\" -d \"/content/drive/MyDrive/Dog_Vision/\"  # -d for destination"
      ],
      "metadata": {
        "id": "02bIPFzzlndo"
      },
      "execution_count": null,
      "outputs": []
    },
    {
      "cell_type": "markdown",
      "source": [
        "## Import our libraries"
      ],
      "metadata": {
        "id": "sLaAy4H2mLgd"
      }
    },
    {
      "cell_type": "code",
      "source": [
        "import tensorflow as tf\n",
        "import pandas as pd\n",
        "import numpy as np\n",
        "import matplotlib.pyplot as plt\n",
        "import tensorflow_hub as hub"
      ],
      "metadata": {
        "id": "wgO_r3lOqCSn"
      },
      "execution_count": null,
      "outputs": []
    },
    {
      "cell_type": "code",
      "source": [],
      "metadata": {
        "id": "K784hEviqcPY"
      },
      "execution_count": null,
      "outputs": []
    }
  ]
}
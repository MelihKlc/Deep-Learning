{
  "nbformat": 4,
  "nbformat_minor": 0,
  "metadata": {
    "colab": {
      "provenance": [],
      "authorship_tag": "ABX9TyO1IfZMPzfZrR/ELDOqpry5",
      "include_colab_link": true
    },
    "kernelspec": {
      "name": "python3",
      "display_name": "Python 3"
    },
    "language_info": {
      "name": "python"
    }
  },
  "cells": [
    {
      "cell_type": "markdown",
      "metadata": {
        "id": "view-in-github",
        "colab_type": "text"
      },
      "source": [
        "<a href=\"https://colab.research.google.com/github/MelihKlc/Deep-Learning/blob/main/Introduction_to_NLP.ipynb\" target=\"_parent\"><img src=\"https://colab.research.google.com/assets/colab-badge.svg\" alt=\"Open In Colab\"/></a>"
      ]
    },
    {
      "cell_type": "markdown",
      "source": [
        "# Introduction to NLP with TensorFlow\n",
        "\n",
        "NLP has the goal of deriving information out of natural language (could be sequences or text)\n",
        "\n",
        "Another common term for NLP problems is sequence to sequence problems (seq2seq)"
      ],
      "metadata": {
        "id": "ZvR8mis3T1NF"
      }
    },
    {
      "cell_type": "markdown",
      "source": [
        "# Token dediğimiz şey ya bir word ya da character oluyor. Bizim seçimimize göre"
      ],
      "metadata": {
        "id": "b8Pm1RjSdFCV"
      }
    },
    {
      "cell_type": "code",
      "execution_count": 1,
      "metadata": {
        "colab": {
          "base_uri": "https://localhost:8080/"
        },
        "id": "DZDpxXx5A_kL",
        "outputId": "31e0b2ae-1657-4202-9478-976e5ad82e69"
      },
      "outputs": [
        {
          "output_type": "stream",
          "name": "stdout",
          "text": [
            "--2023-08-18 14:22:43--  https://raw.githubusercontent.com/mrdbourke/tensorflow-deep-learning/main/extras/helper_functions.py\n",
            "Resolving raw.githubusercontent.com (raw.githubusercontent.com)... 185.199.108.133, 185.199.109.133, 185.199.110.133, ...\n",
            "Connecting to raw.githubusercontent.com (raw.githubusercontent.com)|185.199.108.133|:443... connected.\n",
            "HTTP request sent, awaiting response... 200 OK\n",
            "Length: 10246 (10K) [text/plain]\n",
            "Saving to: ‘helper_functions.py.1’\n",
            "\n",
            "\rhelper_functions.py   0%[                    ]       0  --.-KB/s               \rhelper_functions.py 100%[===================>]  10.01K  --.-KB/s    in 0s      \n",
            "\n",
            "2023-08-18 14:22:43 (59.2 MB/s) - ‘helper_functions.py.1’ saved [10246/10246]\n",
            "\n"
          ]
        }
      ],
      "source": [
        "!wget https://raw.githubusercontent.com/mrdbourke/tensorflow-deep-learning/main/extras/helper_functions.py"
      ]
    },
    {
      "cell_type": "code",
      "source": [
        "from helper_functions import create_tensorboard_callback , plot_loss_curves , compare_historys , unzip_data , walk_through_dir , calculate_results"
      ],
      "metadata": {
        "id": "xCejjNfzSTlJ"
      },
      "execution_count": 2,
      "outputs": []
    },
    {
      "cell_type": "markdown",
      "source": [
        "# Get the text data\n",
        "\n",
        "The dataset we are going to use it NLP dataset for text samples tweets labelled as disaster or not disaster"
      ],
      "metadata": {
        "id": "BIEadC1JTde3"
      }
    },
    {
      "cell_type": "code",
      "source": [
        "!wget https://storage.googleapis.com/ztm_tf_course/nlp_getting_started.zip"
      ],
      "metadata": {
        "colab": {
          "base_uri": "https://localhost:8080/"
        },
        "id": "FGuVddupW7y6",
        "outputId": "985a0857-235b-4aa6-ecec-5ac9579c787d"
      },
      "execution_count": 3,
      "outputs": [
        {
          "output_type": "stream",
          "name": "stdout",
          "text": [
            "--2023-08-18 14:22:46--  https://storage.googleapis.com/ztm_tf_course/nlp_getting_started.zip\n",
            "Resolving storage.googleapis.com (storage.googleapis.com)... 172.253.119.128, 108.177.121.128, 142.250.1.128, ...\n",
            "Connecting to storage.googleapis.com (storage.googleapis.com)|172.253.119.128|:443... connected.\n",
            "HTTP request sent, awaiting response... 200 OK\n",
            "Length: 607343 (593K) [application/zip]\n",
            "Saving to: ‘nlp_getting_started.zip.1’\n",
            "\n",
            "\r          nlp_getti   0%[                    ]       0  --.-KB/s               \rnlp_getting_started 100%[===================>] 593.11K  --.-KB/s    in 0.005s  \n",
            "\n",
            "2023-08-18 14:22:47 (115 MB/s) - ‘nlp_getting_started.zip.1’ saved [607343/607343]\n",
            "\n"
          ]
        }
      ]
    },
    {
      "cell_type": "code",
      "source": [
        "unzip_data(\"nlp_getting_started.zip\")"
      ],
      "metadata": {
        "id": "Dt_Hb9aVXBpI"
      },
      "execution_count": 4,
      "outputs": []
    },
    {
      "cell_type": "markdown",
      "source": [
        "# Become one with the data"
      ],
      "metadata": {
        "id": "1CXRD5ekXLeg"
      }
    },
    {
      "cell_type": "code",
      "source": [
        "# Visualizing our text dataset\n",
        "\n",
        "import pandas as pd\n",
        "train_df = pd.read_csv(\"train.csv\")\n",
        "test_df = pd.read_csv(\"test.csv\")\n",
        "\n",
        "train_df.head()"
      ],
      "metadata": {
        "colab": {
          "base_uri": "https://localhost:8080/",
          "height": 206
        },
        "id": "eIAbKE5MbRu4",
        "outputId": "141b3008-ec46-4eca-9506-9648f57df3c6"
      },
      "execution_count": 5,
      "outputs": [
        {
          "output_type": "execute_result",
          "data": {
            "text/plain": [
              "   id keyword location                                               text  \\\n",
              "0   1     NaN      NaN  Our Deeds are the Reason of this #earthquake M...   \n",
              "1   4     NaN      NaN             Forest fire near La Ronge Sask. Canada   \n",
              "2   5     NaN      NaN  All residents asked to 'shelter in place' are ...   \n",
              "3   6     NaN      NaN  13,000 people receive #wildfires evacuation or...   \n",
              "4   7     NaN      NaN  Just got sent this photo from Ruby #Alaska as ...   \n",
              "\n",
              "   target  \n",
              "0       1  \n",
              "1       1  \n",
              "2       1  \n",
              "3       1  \n",
              "4       1  "
            ],
            "text/html": [
              "\n",
              "  <div id=\"df-c75d42bf-e95f-41f8-b37d-715040195c72\" class=\"colab-df-container\">\n",
              "    <div>\n",
              "<style scoped>\n",
              "    .dataframe tbody tr th:only-of-type {\n",
              "        vertical-align: middle;\n",
              "    }\n",
              "\n",
              "    .dataframe tbody tr th {\n",
              "        vertical-align: top;\n",
              "    }\n",
              "\n",
              "    .dataframe thead th {\n",
              "        text-align: right;\n",
              "    }\n",
              "</style>\n",
              "<table border=\"1\" class=\"dataframe\">\n",
              "  <thead>\n",
              "    <tr style=\"text-align: right;\">\n",
              "      <th></th>\n",
              "      <th>id</th>\n",
              "      <th>keyword</th>\n",
              "      <th>location</th>\n",
              "      <th>text</th>\n",
              "      <th>target</th>\n",
              "    </tr>\n",
              "  </thead>\n",
              "  <tbody>\n",
              "    <tr>\n",
              "      <th>0</th>\n",
              "      <td>1</td>\n",
              "      <td>NaN</td>\n",
              "      <td>NaN</td>\n",
              "      <td>Our Deeds are the Reason of this #earthquake M...</td>\n",
              "      <td>1</td>\n",
              "    </tr>\n",
              "    <tr>\n",
              "      <th>1</th>\n",
              "      <td>4</td>\n",
              "      <td>NaN</td>\n",
              "      <td>NaN</td>\n",
              "      <td>Forest fire near La Ronge Sask. Canada</td>\n",
              "      <td>1</td>\n",
              "    </tr>\n",
              "    <tr>\n",
              "      <th>2</th>\n",
              "      <td>5</td>\n",
              "      <td>NaN</td>\n",
              "      <td>NaN</td>\n",
              "      <td>All residents asked to 'shelter in place' are ...</td>\n",
              "      <td>1</td>\n",
              "    </tr>\n",
              "    <tr>\n",
              "      <th>3</th>\n",
              "      <td>6</td>\n",
              "      <td>NaN</td>\n",
              "      <td>NaN</td>\n",
              "      <td>13,000 people receive #wildfires evacuation or...</td>\n",
              "      <td>1</td>\n",
              "    </tr>\n",
              "    <tr>\n",
              "      <th>4</th>\n",
              "      <td>7</td>\n",
              "      <td>NaN</td>\n",
              "      <td>NaN</td>\n",
              "      <td>Just got sent this photo from Ruby #Alaska as ...</td>\n",
              "      <td>1</td>\n",
              "    </tr>\n",
              "  </tbody>\n",
              "</table>\n",
              "</div>\n",
              "    <div class=\"colab-df-buttons\">\n",
              "\n",
              "  <div class=\"colab-df-container\">\n",
              "    <button class=\"colab-df-convert\" onclick=\"convertToInteractive('df-c75d42bf-e95f-41f8-b37d-715040195c72')\"\n",
              "            title=\"Convert this dataframe to an interactive table.\"\n",
              "            style=\"display:none;\">\n",
              "\n",
              "  <svg xmlns=\"http://www.w3.org/2000/svg\" height=\"24px\" viewBox=\"0 -960 960 960\">\n",
              "    <path d=\"M120-120v-720h720v720H120Zm60-500h600v-160H180v160Zm220 220h160v-160H400v160Zm0 220h160v-160H400v160ZM180-400h160v-160H180v160Zm440 0h160v-160H620v160ZM180-180h160v-160H180v160Zm440 0h160v-160H620v160Z\"/>\n",
              "  </svg>\n",
              "    </button>\n",
              "\n",
              "  <style>\n",
              "    .colab-df-container {\n",
              "      display:flex;\n",
              "      gap: 12px;\n",
              "    }\n",
              "\n",
              "    .colab-df-convert {\n",
              "      background-color: #E8F0FE;\n",
              "      border: none;\n",
              "      border-radius: 50%;\n",
              "      cursor: pointer;\n",
              "      display: none;\n",
              "      fill: #1967D2;\n",
              "      height: 32px;\n",
              "      padding: 0 0 0 0;\n",
              "      width: 32px;\n",
              "    }\n",
              "\n",
              "    .colab-df-convert:hover {\n",
              "      background-color: #E2EBFA;\n",
              "      box-shadow: 0px 1px 2px rgba(60, 64, 67, 0.3), 0px 1px 3px 1px rgba(60, 64, 67, 0.15);\n",
              "      fill: #174EA6;\n",
              "    }\n",
              "\n",
              "    .colab-df-buttons div {\n",
              "      margin-bottom: 4px;\n",
              "    }\n",
              "\n",
              "    [theme=dark] .colab-df-convert {\n",
              "      background-color: #3B4455;\n",
              "      fill: #D2E3FC;\n",
              "    }\n",
              "\n",
              "    [theme=dark] .colab-df-convert:hover {\n",
              "      background-color: #434B5C;\n",
              "      box-shadow: 0px 1px 3px 1px rgba(0, 0, 0, 0.15);\n",
              "      filter: drop-shadow(0px 1px 2px rgba(0, 0, 0, 0.3));\n",
              "      fill: #FFFFFF;\n",
              "    }\n",
              "  </style>\n",
              "\n",
              "    <script>\n",
              "      const buttonEl =\n",
              "        document.querySelector('#df-c75d42bf-e95f-41f8-b37d-715040195c72 button.colab-df-convert');\n",
              "      buttonEl.style.display =\n",
              "        google.colab.kernel.accessAllowed ? 'block' : 'none';\n",
              "\n",
              "      async function convertToInteractive(key) {\n",
              "        const element = document.querySelector('#df-c75d42bf-e95f-41f8-b37d-715040195c72');\n",
              "        const dataTable =\n",
              "          await google.colab.kernel.invokeFunction('convertToInteractive',\n",
              "                                                    [key], {});\n",
              "        if (!dataTable) return;\n",
              "\n",
              "        const docLinkHtml = 'Like what you see? Visit the ' +\n",
              "          '<a target=\"_blank\" href=https://colab.research.google.com/notebooks/data_table.ipynb>data table notebook</a>'\n",
              "          + ' to learn more about interactive tables.';\n",
              "        element.innerHTML = '';\n",
              "        dataTable['output_type'] = 'display_data';\n",
              "        await google.colab.output.renderOutput(dataTable, element);\n",
              "        const docLink = document.createElement('div');\n",
              "        docLink.innerHTML = docLinkHtml;\n",
              "        element.appendChild(docLink);\n",
              "      }\n",
              "    </script>\n",
              "  </div>\n",
              "\n",
              "\n",
              "<div id=\"df-6bc7d711-0d2d-41cd-ad20-4d9494cc35b2\">\n",
              "  <button class=\"colab-df-quickchart\" onclick=\"quickchart('df-6bc7d711-0d2d-41cd-ad20-4d9494cc35b2')\"\n",
              "            title=\"Suggest charts.\"\n",
              "            style=\"display:none;\">\n",
              "\n",
              "<svg xmlns=\"http://www.w3.org/2000/svg\" height=\"24px\"viewBox=\"0 0 24 24\"\n",
              "     width=\"24px\">\n",
              "    <g>\n",
              "        <path d=\"M19 3H5c-1.1 0-2 .9-2 2v14c0 1.1.9 2 2 2h14c1.1 0 2-.9 2-2V5c0-1.1-.9-2-2-2zM9 17H7v-7h2v7zm4 0h-2V7h2v10zm4 0h-2v-4h2v4z\"/>\n",
              "    </g>\n",
              "</svg>\n",
              "  </button>\n",
              "\n",
              "<style>\n",
              "  .colab-df-quickchart {\n",
              "    background-color: #E8F0FE;\n",
              "    border: none;\n",
              "    border-radius: 50%;\n",
              "    cursor: pointer;\n",
              "    display: none;\n",
              "    fill: #1967D2;\n",
              "    height: 32px;\n",
              "    padding: 0 0 0 0;\n",
              "    width: 32px;\n",
              "  }\n",
              "\n",
              "  .colab-df-quickchart:hover {\n",
              "    background-color: #E2EBFA;\n",
              "    box-shadow: 0px 1px 2px rgba(60, 64, 67, 0.3), 0px 1px 3px 1px rgba(60, 64, 67, 0.15);\n",
              "    fill: #174EA6;\n",
              "  }\n",
              "\n",
              "  [theme=dark] .colab-df-quickchart {\n",
              "    background-color: #3B4455;\n",
              "    fill: #D2E3FC;\n",
              "  }\n",
              "\n",
              "  [theme=dark] .colab-df-quickchart:hover {\n",
              "    background-color: #434B5C;\n",
              "    box-shadow: 0px 1px 3px 1px rgba(0, 0, 0, 0.15);\n",
              "    filter: drop-shadow(0px 1px 2px rgba(0, 0, 0, 0.3));\n",
              "    fill: #FFFFFF;\n",
              "  }\n",
              "</style>\n",
              "\n",
              "  <script>\n",
              "    async function quickchart(key) {\n",
              "      const charts = await google.colab.kernel.invokeFunction(\n",
              "          'suggestCharts', [key], {});\n",
              "    }\n",
              "    (() => {\n",
              "      let quickchartButtonEl =\n",
              "        document.querySelector('#df-6bc7d711-0d2d-41cd-ad20-4d9494cc35b2 button');\n",
              "      quickchartButtonEl.style.display =\n",
              "        google.colab.kernel.accessAllowed ? 'block' : 'none';\n",
              "    })();\n",
              "  </script>\n",
              "</div>\n",
              "    </div>\n",
              "  </div>\n"
            ]
          },
          "metadata": {},
          "execution_count": 5
        }
      ]
    },
    {
      "cell_type": "code",
      "source": [
        "# If target label has 1 , it means that our sentence is about disasters\n",
        "\n",
        "train_df[\"text\"][1]"
      ],
      "metadata": {
        "colab": {
          "base_uri": "https://localhost:8080/",
          "height": 35
        },
        "id": "BmxsyZAAbjho",
        "outputId": "cfd3796c-cee6-41f5-a6d2-be1a6778f8cf"
      },
      "execution_count": 6,
      "outputs": [
        {
          "output_type": "execute_result",
          "data": {
            "text/plain": [
              "'Forest fire near La Ronge Sask. Canada'"
            ],
            "application/vnd.google.colaboratory.intrinsic+json": {
              "type": "string"
            }
          },
          "metadata": {},
          "execution_count": 6
        }
      ]
    },
    {
      "cell_type": "code",
      "source": [
        "# Shuffle training data because of we dont want to be overfitting\n",
        "\n",
        "train_df_shuffled = train_df.sample(frac = 1 , random_state = 42) # Frac = 1 dememizin sebebi bütün datamızı shuffle etmek istiyoruz.\n"
      ],
      "metadata": {
        "id": "peBiGpVFdUoY"
      },
      "execution_count": 7,
      "outputs": []
    },
    {
      "cell_type": "code",
      "source": [
        "# What does the our test_dataset look like?\n",
        "\n",
        "test_df.head()"
      ],
      "metadata": {
        "colab": {
          "base_uri": "https://localhost:8080/",
          "height": 206
        },
        "id": "c1k0HwrydA8V",
        "outputId": "8787b535-a5ac-479a-bf48-82c989f4cbc2"
      },
      "execution_count": 8,
      "outputs": [
        {
          "output_type": "execute_result",
          "data": {
            "text/plain": [
              "   id keyword location                                               text\n",
              "0   0     NaN      NaN                 Just happened a terrible car crash\n",
              "1   2     NaN      NaN  Heard about #earthquake is different cities, s...\n",
              "2   3     NaN      NaN  there is a forest fire at spot pond, geese are...\n",
              "3   9     NaN      NaN           Apocalypse lighting. #Spokane #wildfires\n",
              "4  11     NaN      NaN      Typhoon Soudelor kills 28 in China and Taiwan"
            ],
            "text/html": [
              "\n",
              "  <div id=\"df-1e749d1a-a9a7-4e4c-8a2d-f63926544eee\" class=\"colab-df-container\">\n",
              "    <div>\n",
              "<style scoped>\n",
              "    .dataframe tbody tr th:only-of-type {\n",
              "        vertical-align: middle;\n",
              "    }\n",
              "\n",
              "    .dataframe tbody tr th {\n",
              "        vertical-align: top;\n",
              "    }\n",
              "\n",
              "    .dataframe thead th {\n",
              "        text-align: right;\n",
              "    }\n",
              "</style>\n",
              "<table border=\"1\" class=\"dataframe\">\n",
              "  <thead>\n",
              "    <tr style=\"text-align: right;\">\n",
              "      <th></th>\n",
              "      <th>id</th>\n",
              "      <th>keyword</th>\n",
              "      <th>location</th>\n",
              "      <th>text</th>\n",
              "    </tr>\n",
              "  </thead>\n",
              "  <tbody>\n",
              "    <tr>\n",
              "      <th>0</th>\n",
              "      <td>0</td>\n",
              "      <td>NaN</td>\n",
              "      <td>NaN</td>\n",
              "      <td>Just happened a terrible car crash</td>\n",
              "    </tr>\n",
              "    <tr>\n",
              "      <th>1</th>\n",
              "      <td>2</td>\n",
              "      <td>NaN</td>\n",
              "      <td>NaN</td>\n",
              "      <td>Heard about #earthquake is different cities, s...</td>\n",
              "    </tr>\n",
              "    <tr>\n",
              "      <th>2</th>\n",
              "      <td>3</td>\n",
              "      <td>NaN</td>\n",
              "      <td>NaN</td>\n",
              "      <td>there is a forest fire at spot pond, geese are...</td>\n",
              "    </tr>\n",
              "    <tr>\n",
              "      <th>3</th>\n",
              "      <td>9</td>\n",
              "      <td>NaN</td>\n",
              "      <td>NaN</td>\n",
              "      <td>Apocalypse lighting. #Spokane #wildfires</td>\n",
              "    </tr>\n",
              "    <tr>\n",
              "      <th>4</th>\n",
              "      <td>11</td>\n",
              "      <td>NaN</td>\n",
              "      <td>NaN</td>\n",
              "      <td>Typhoon Soudelor kills 28 in China and Taiwan</td>\n",
              "    </tr>\n",
              "  </tbody>\n",
              "</table>\n",
              "</div>\n",
              "    <div class=\"colab-df-buttons\">\n",
              "\n",
              "  <div class=\"colab-df-container\">\n",
              "    <button class=\"colab-df-convert\" onclick=\"convertToInteractive('df-1e749d1a-a9a7-4e4c-8a2d-f63926544eee')\"\n",
              "            title=\"Convert this dataframe to an interactive table.\"\n",
              "            style=\"display:none;\">\n",
              "\n",
              "  <svg xmlns=\"http://www.w3.org/2000/svg\" height=\"24px\" viewBox=\"0 -960 960 960\">\n",
              "    <path d=\"M120-120v-720h720v720H120Zm60-500h600v-160H180v160Zm220 220h160v-160H400v160Zm0 220h160v-160H400v160ZM180-400h160v-160H180v160Zm440 0h160v-160H620v160ZM180-180h160v-160H180v160Zm440 0h160v-160H620v160Z\"/>\n",
              "  </svg>\n",
              "    </button>\n",
              "\n",
              "  <style>\n",
              "    .colab-df-container {\n",
              "      display:flex;\n",
              "      gap: 12px;\n",
              "    }\n",
              "\n",
              "    .colab-df-convert {\n",
              "      background-color: #E8F0FE;\n",
              "      border: none;\n",
              "      border-radius: 50%;\n",
              "      cursor: pointer;\n",
              "      display: none;\n",
              "      fill: #1967D2;\n",
              "      height: 32px;\n",
              "      padding: 0 0 0 0;\n",
              "      width: 32px;\n",
              "    }\n",
              "\n",
              "    .colab-df-convert:hover {\n",
              "      background-color: #E2EBFA;\n",
              "      box-shadow: 0px 1px 2px rgba(60, 64, 67, 0.3), 0px 1px 3px 1px rgba(60, 64, 67, 0.15);\n",
              "      fill: #174EA6;\n",
              "    }\n",
              "\n",
              "    .colab-df-buttons div {\n",
              "      margin-bottom: 4px;\n",
              "    }\n",
              "\n",
              "    [theme=dark] .colab-df-convert {\n",
              "      background-color: #3B4455;\n",
              "      fill: #D2E3FC;\n",
              "    }\n",
              "\n",
              "    [theme=dark] .colab-df-convert:hover {\n",
              "      background-color: #434B5C;\n",
              "      box-shadow: 0px 1px 3px 1px rgba(0, 0, 0, 0.15);\n",
              "      filter: drop-shadow(0px 1px 2px rgba(0, 0, 0, 0.3));\n",
              "      fill: #FFFFFF;\n",
              "    }\n",
              "  </style>\n",
              "\n",
              "    <script>\n",
              "      const buttonEl =\n",
              "        document.querySelector('#df-1e749d1a-a9a7-4e4c-8a2d-f63926544eee button.colab-df-convert');\n",
              "      buttonEl.style.display =\n",
              "        google.colab.kernel.accessAllowed ? 'block' : 'none';\n",
              "\n",
              "      async function convertToInteractive(key) {\n",
              "        const element = document.querySelector('#df-1e749d1a-a9a7-4e4c-8a2d-f63926544eee');\n",
              "        const dataTable =\n",
              "          await google.colab.kernel.invokeFunction('convertToInteractive',\n",
              "                                                    [key], {});\n",
              "        if (!dataTable) return;\n",
              "\n",
              "        const docLinkHtml = 'Like what you see? Visit the ' +\n",
              "          '<a target=\"_blank\" href=https://colab.research.google.com/notebooks/data_table.ipynb>data table notebook</a>'\n",
              "          + ' to learn more about interactive tables.';\n",
              "        element.innerHTML = '';\n",
              "        dataTable['output_type'] = 'display_data';\n",
              "        await google.colab.output.renderOutput(dataTable, element);\n",
              "        const docLink = document.createElement('div');\n",
              "        docLink.innerHTML = docLinkHtml;\n",
              "        element.appendChild(docLink);\n",
              "      }\n",
              "    </script>\n",
              "  </div>\n",
              "\n",
              "\n",
              "<div id=\"df-5ee086cd-d8d7-403a-9d8d-e1ec4ec41e47\">\n",
              "  <button class=\"colab-df-quickchart\" onclick=\"quickchart('df-5ee086cd-d8d7-403a-9d8d-e1ec4ec41e47')\"\n",
              "            title=\"Suggest charts.\"\n",
              "            style=\"display:none;\">\n",
              "\n",
              "<svg xmlns=\"http://www.w3.org/2000/svg\" height=\"24px\"viewBox=\"0 0 24 24\"\n",
              "     width=\"24px\">\n",
              "    <g>\n",
              "        <path d=\"M19 3H5c-1.1 0-2 .9-2 2v14c0 1.1.9 2 2 2h14c1.1 0 2-.9 2-2V5c0-1.1-.9-2-2-2zM9 17H7v-7h2v7zm4 0h-2V7h2v10zm4 0h-2v-4h2v4z\"/>\n",
              "    </g>\n",
              "</svg>\n",
              "  </button>\n",
              "\n",
              "<style>\n",
              "  .colab-df-quickchart {\n",
              "    background-color: #E8F0FE;\n",
              "    border: none;\n",
              "    border-radius: 50%;\n",
              "    cursor: pointer;\n",
              "    display: none;\n",
              "    fill: #1967D2;\n",
              "    height: 32px;\n",
              "    padding: 0 0 0 0;\n",
              "    width: 32px;\n",
              "  }\n",
              "\n",
              "  .colab-df-quickchart:hover {\n",
              "    background-color: #E2EBFA;\n",
              "    box-shadow: 0px 1px 2px rgba(60, 64, 67, 0.3), 0px 1px 3px 1px rgba(60, 64, 67, 0.15);\n",
              "    fill: #174EA6;\n",
              "  }\n",
              "\n",
              "  [theme=dark] .colab-df-quickchart {\n",
              "    background-color: #3B4455;\n",
              "    fill: #D2E3FC;\n",
              "  }\n",
              "\n",
              "  [theme=dark] .colab-df-quickchart:hover {\n",
              "    background-color: #434B5C;\n",
              "    box-shadow: 0px 1px 3px 1px rgba(0, 0, 0, 0.15);\n",
              "    filter: drop-shadow(0px 1px 2px rgba(0, 0, 0, 0.3));\n",
              "    fill: #FFFFFF;\n",
              "  }\n",
              "</style>\n",
              "\n",
              "  <script>\n",
              "    async function quickchart(key) {\n",
              "      const charts = await google.colab.kernel.invokeFunction(\n",
              "          'suggestCharts', [key], {});\n",
              "    }\n",
              "    (() => {\n",
              "      let quickchartButtonEl =\n",
              "        document.querySelector('#df-5ee086cd-d8d7-403a-9d8d-e1ec4ec41e47 button');\n",
              "      quickchartButtonEl.style.display =\n",
              "        google.colab.kernel.accessAllowed ? 'block' : 'none';\n",
              "    })();\n",
              "  </script>\n",
              "</div>\n",
              "    </div>\n",
              "  </div>\n"
            ]
          },
          "metadata": {},
          "execution_count": 8
        }
      ]
    },
    {
      "cell_type": "code",
      "source": [
        "# How many examples of each class?\n",
        "\n",
        "train_df.target.value_counts()"
      ],
      "metadata": {
        "colab": {
          "base_uri": "https://localhost:8080/"
        },
        "id": "ituWtfoOd6IF",
        "outputId": "5f11db7d-3562-46a1-ed59-5d1033908e17"
      },
      "execution_count": 9,
      "outputs": [
        {
          "output_type": "execute_result",
          "data": {
            "text/plain": [
              "0    4342\n",
              "1    3271\n",
              "Name: target, dtype: int64"
            ]
          },
          "metadata": {},
          "execution_count": 9
        }
      ]
    },
    {
      "cell_type": "code",
      "source": [
        "# How many total samples?\n",
        "\n",
        "len(train_df) , len(test_df)"
      ],
      "metadata": {
        "colab": {
          "base_uri": "https://localhost:8080/"
        },
        "id": "g_mAXEjKeotz",
        "outputId": "669b517c-da81-4a8b-af5c-2e9667f40f08"
      },
      "execution_count": 10,
      "outputs": [
        {
          "output_type": "execute_result",
          "data": {
            "text/plain": [
              "(7613, 3263)"
            ]
          },
          "metadata": {},
          "execution_count": 10
        }
      ]
    },
    {
      "cell_type": "code",
      "source": [
        "# Lets visualize some random training examples.\n",
        "import random\n",
        "random_index = random.randint( 0 , len(train_df) - 5)  # Create random indexes not higher than the total number of samples\n",
        "\n",
        "for row in train_df[[\"text\" , \"target\"]][random_index : random_index + 5].itertuples():  # Bu satırda, train_df veri çerçevesinde rastgele seçilen 5 satırı (veya kalan kadar satır varsa) içeren bir alt veri çerçevesini seçiyoruz. Sadece \"text\" ve \"target\" sütunlarını seçiyoruz. itertuples() işlevi, seçilen satırları birer birer dönmek için kullanılır.\n",
        "  _ , text , target = row\n",
        "  print(f\"Target : {target} \" , \"(real_disaster)\" if target > 0 else \"(not real disaster)\")\n",
        "  print(f\"Text:\\n {text}\")\n",
        "  print(\"---\\n\")\n"
      ],
      "metadata": {
        "colab": {
          "base_uri": "https://localhost:8080/"
        },
        "id": "DCQxOzetf3qo",
        "outputId": "01392cc4-b647-4c0f-f459-e5e4d400ec8f"
      },
      "execution_count": 11,
      "outputs": [
        {
          "output_type": "stream",
          "name": "stdout",
          "text": [
            "Target : 0  (not real disaster)\n",
            "Text:\n",
            " I can't listen to Darude Sandstorm without expecting airhorns now\n",
            "---\n",
            "\n",
            "Target : 0  (not real disaster)\n",
            "Text:\n",
            " Now playing: Darude - Sandstorm - radio edit http://t.co/DUdAIrBBPo http://t.co/padosfyXnM\n",
            "---\n",
            "\n",
            "Target : 1  (real_disaster)\n",
            "Text:\n",
            " Watch This Airport Get Swallowed Up By A Sandstorm In Under A Minute http://t.co/bgM4cSrbVd\n",
            "---\n",
            "\n",
            "Target : 0  (not real disaster)\n",
            "Text:\n",
            " I slammed my phone to the ground and then screamed ahahahga\n",
            "---\n",
            "\n",
            "Target : 0  (not real disaster)\n",
            "Text:\n",
            " @InfiniteGrace7 I just screamed to the world how much I love My Little Pony ??\n",
            "---\n",
            "\n"
          ]
        }
      ]
    },
    {
      "cell_type": "markdown",
      "source": [
        "# Split data into training and validation sets"
      ],
      "metadata": {
        "id": "NYyM_c2vmbwi"
      }
    },
    {
      "cell_type": "code",
      "source": [
        "from sklearn.model_selection import train_test_split\n",
        "\n",
        "train_sentences , val_sentences , train_labels , val_labels = train_test_split(train_df_shuffled[\"text\"].to_numpy() ,train_df_shuffled[\"target\"].to_numpy() , test_size=0.1 , random_state = 42)"
      ],
      "metadata": {
        "id": "bLiead7ynr2C"
      },
      "execution_count": 12,
      "outputs": []
    },
    {
      "cell_type": "code",
      "source": [
        "len(train_sentences) , len(val_sentences) , len(train_labels) , len(val_labels)"
      ],
      "metadata": {
        "colab": {
          "base_uri": "https://localhost:8080/"
        },
        "id": "coxzmsW3oZ_O",
        "outputId": "ead40628-1c62-4c87-9c1a-fda7eb1867f0"
      },
      "execution_count": 13,
      "outputs": [
        {
          "output_type": "execute_result",
          "data": {
            "text/plain": [
              "(6851, 762, 6851, 762)"
            ]
          },
          "metadata": {},
          "execution_count": 13
        }
      ]
    },
    {
      "cell_type": "code",
      "source": [
        " # Check the first 10 samples\n",
        "\n",
        " train_sentences[ : 10] , train_labels[ : 10]  # Train sentence içindeki cümleler train_labels taki outputlarla eşleşiyor"
      ],
      "metadata": {
        "colab": {
          "base_uri": "https://localhost:8080/"
        },
        "id": "q_sGU2OFox9E",
        "outputId": "f54c4f28-7563-480c-ba15-5bf5ae970865"
      },
      "execution_count": 14,
      "outputs": [
        {
          "output_type": "execute_result",
          "data": {
            "text/plain": [
              "(array(['@mogacola @zamtriossu i screamed after hitting tweet',\n",
              "        'Imagine getting flattened by Kurt Zouma',\n",
              "        '@Gurmeetramrahim #MSGDoing111WelfareWorks Green S welfare force ke appx 65000 members har time disaster victim ki help ke liye tyar hai....',\n",
              "        \"@shakjn @C7 @Magnums im shaking in fear he's gonna hack the planet\",\n",
              "        'Somehow find you and I collide http://t.co/Ee8RpOahPk',\n",
              "        '@EvaHanderek @MarleyKnysh great times until the bus driver held us hostage in the mall parking lot lmfao',\n",
              "        'destroy the free fandom honestly',\n",
              "        'Weapons stolen from National Guard Armory in New Albany still missing #Gunsense http://t.co/lKNU8902JE',\n",
              "        '@wfaaweather Pete when will the heat wave pass? Is it really going to be mid month? Frisco Boy Scouts have a canoe trip in Okla.',\n",
              "        'Patient-reported outcomes in long-term survivors of metastatic colorectal cancer - British Journal of Surgery http://t.co/5Yl4DC1Tqt'],\n",
              "       dtype=object),\n",
              " array([0, 0, 1, 0, 0, 1, 1, 0, 1, 1]))"
            ]
          },
          "metadata": {},
          "execution_count": 14
        }
      ]
    },
    {
      "cell_type": "markdown",
      "source": [
        "# Converting text into numbers\n",
        "\n",
        "When dealing with a text problem , one of the first things you will have to do before you can build a model is to convert your text to numbers.\n",
        "\n",
        "There are a few ways to do this namely:\n",
        "* Tokenization - Direct mapping of token (a token could be a word or a character) to number.\n",
        "* Embedding - Create a matrix of feature vector for each token (the size of the feature vector can be and this embedding can be learn)"
      ],
      "metadata": {
        "id": "puq9UADUsMiH"
      }
    },
    {
      "cell_type": "markdown",
      "source": [
        "# Text vectorization (tokenization , Converting text into numbers)"
      ],
      "metadata": {
        "id": "-Kb5K5HJx5ER"
      }
    },
    {
      "cell_type": "code",
      "source": [
        "import tensorflow as tf\n",
        "from tensorflow.keras.layers.experimental.preprocessing import TextVectorization\n",
        "\n",
        "#ngram substringleri birleştiriyor. Mesela elimizde 'Imagine getting flattened by Kurt Zouma' cümlesi var. ngram = 2 dersek , \"Image getting\" , \"flattened by\" , \"Kurt Zouma\"  gibi ikişer ikişer substringleri birleştiriyor.\n",
        "\n",
        "# Default values of TextVectorization\n",
        "text_vectorizer = TextVectorization(max_tokens = 10000 , # How many words in the vocabulary ( automatically add <00V>)\n",
        "                                                        standardize = \"lower_and_strip_punctuation\" ,  # Bütün harfleri küçük yapıp noktalama işaretlerini siliyor çünkü bunlar disaster olup olmadıgını anlamamıza yardım eden şeyler değil.\n",
        "                                                        split = \"whitespace\"  , # Tokenlar arasında boşluk bırakmak için.\n",
        "                                                        ngrams = None , # Create a groups of n-word\n",
        "                                                        output_mode = \"int\" , # How to map tokens to number\n",
        "                                                        output_sequence_length = None , # How long do you want your sequences to be. (None atadıgımızda en uzun tokeni alıp bütün tokenlere o lengthi veriyor. Kısa olan sentences ların sonu 0 larla dolduruluyor.)\n",
        "                                                        pad_to_max_tokens = True\n",
        "                                    )"
      ],
      "metadata": {
        "id": "Cxtb395wx_hk"
      },
      "execution_count": 15,
      "outputs": []
    },
    {
      "cell_type": "code",
      "source": [
        "train_sentences[0].split()  # Split bu işe yarıyor."
      ],
      "metadata": {
        "colab": {
          "base_uri": "https://localhost:8080/"
        },
        "id": "QlYkq6mh7x7v",
        "outputId": "24d9277a-da2e-401e-fadc-d1d9fbb02978"
      },
      "execution_count": 16,
      "outputs": [
        {
          "output_type": "execute_result",
          "data": {
            "text/plain": [
              "['@mogacola', '@zamtriossu', 'i', 'screamed', 'after', 'hitting', 'tweet']"
            ]
          },
          "metadata": {},
          "execution_count": 16
        }
      ]
    },
    {
      "cell_type": "code",
      "source": [
        "# Find the average number of tokens (words) in the training tweets\n",
        "# We could just pad them to the longest , but to keep our data small , we will just find the average lenght and then make sure every tweet gets turned into numbers but those list of numbers is the same size as the average throughout every sample.\n",
        "\n",
        "round(sum([len(i.split()) for i in train_sentences]) / len(train_sentences))"
      ],
      "metadata": {
        "colab": {
          "base_uri": "https://localhost:8080/"
        },
        "id": "ErtEgSI522eS",
        "outputId": "461e8653-bbcc-4705-80c4-a93109a646b6"
      },
      "execution_count": 17,
      "outputs": [
        {
          "output_type": "execute_result",
          "data": {
            "text/plain": [
              "15"
            ]
          },
          "metadata": {},
          "execution_count": 17
        }
      ]
    },
    {
      "cell_type": "code",
      "source": [
        "# Setup text vectorization variables.\n",
        "\n",
        "max_vocab_length = 10000 # Max number of words to have in our vocabulary\n",
        "max_length = 15 # Max length our sequences will be (e.g. How many words from a Tweet does model see?). Mesela tweet 30 kelime uzunlugunda ama biz bunu 15 atadıgımız icin modelimiz ilk 15 kelimesini görecek\n",
        "\n",
        "# Uptading our textvectorizer\n",
        "\n",
        "text_vectorizer = TextVectorization(max_tokens = max_vocab_length ,  # Bizim bütün tweetlerimizden 10000 tane alacak bu 10000 most common lardan oluşacak\n",
        "                                    output_mode = \"int\" ,\n",
        "                                    output_sequence_length = max_length\n",
        "                                    )\n"
      ],
      "metadata": {
        "id": "lrsM1zLI7ul9"
      },
      "execution_count": 18,
      "outputs": []
    },
    {
      "cell_type": "code",
      "source": [
        "train_sentences"
      ],
      "metadata": {
        "colab": {
          "base_uri": "https://localhost:8080/"
        },
        "id": "O5Ltg-bK_vK8",
        "outputId": "091bb396-235c-4bc5-e066-1a0bb29e75f6"
      },
      "execution_count": 19,
      "outputs": [
        {
          "output_type": "execute_result",
          "data": {
            "text/plain": [
              "array(['@mogacola @zamtriossu i screamed after hitting tweet',\n",
              "       'Imagine getting flattened by Kurt Zouma',\n",
              "       '@Gurmeetramrahim #MSGDoing111WelfareWorks Green S welfare force ke appx 65000 members har time disaster victim ki help ke liye tyar hai....',\n",
              "       ...,\n",
              "       'Near them on the sand half sunk a shattered visage lies... http://t.co/0kCCG1BT06',\n",
              "       \"kesabaran membuahkan hasil indah pada saat tepat! life isn't about waiting for the storm to pass it's about learning to dance in the rain.\",\n",
              "       \"@ScottDPierce @billharris_tv @HarrisGle @Beezersun I'm forfeiting this years fantasy football pool out of fear I may win n get my ass kicked\"],\n",
              "      dtype=object)"
            ]
          },
          "metadata": {},
          "execution_count": 19
        }
      ]
    },
    {
      "cell_type": "code",
      "source": [
        "# Fit the text vectorizer to the training text\n",
        "\n",
        "text_vectorizer.adapt(train_sentences)  # CNN deki fit işlemi gibi artık bütün train sentenceslarımıza text_vectorizerde ne yapılmasını istediysek uygulanacak."
      ],
      "metadata": {
        "id": "ghmETMAUAP2J"
      },
      "execution_count": 20,
      "outputs": []
    },
    {
      "cell_type": "code",
      "source": [
        "# We are trying to do here is map the word data that we have to numerical form"
      ],
      "metadata": {
        "id": "MTAP8ZoNB8Qv"
      },
      "execution_count": 21,
      "outputs": []
    },
    {
      "cell_type": "code",
      "source": [
        "# Create a sample sentence and tokenize it\n",
        "\n",
        "sample_sentence = \"There's a flood in my street!\"\n",
        "\n",
        "text_vectorizer([sample_sentence])   # Text vectorizer ı biz liste şeklinde oluşturdugumuz icin girdigimiz örnekleri [ ] içinde yazıyoruz.\n",
        "# Burda shape in 0. indexi sequence i veriyor. 1 tam cümle girdiğimiz için sequence 1.\n",
        "# Shape in 1. indexi de length veriyor. Max olarak 15 dediğimiz için buna adapt oluyo bizim sample ımız."
      ],
      "metadata": {
        "colab": {
          "base_uri": "https://localhost:8080/"
        },
        "id": "Y7RJ4k3QCb09",
        "outputId": "adb8ef6a-52cf-4a22-d4db-255b4e2d08e3"
      },
      "execution_count": 22,
      "outputs": [
        {
          "output_type": "execute_result",
          "data": {
            "text/plain": [
              "<tf.Tensor: shape=(1, 15), dtype=int64, numpy=\n",
              "array([[264,   3, 232,   4,  13, 698,   0,   0,   0,   0,   0,   0,   0,\n",
              "          0,   0]])>"
            ]
          },
          "metadata": {},
          "execution_count": 22
        }
      ]
    },
    {
      "cell_type": "code",
      "source": [
        "# Choose a random sentence from our train_sentences data\n",
        "\n",
        "import random\n",
        "random_sentences = random.choice(train_sentences)\n",
        "\n",
        "print(f\"Original sentence : \\n {random_sentences} \\n\\n  Vectorized form of our random sentence: \\n\")\n",
        "text_vectorizer([random_sentences])"
      ],
      "metadata": {
        "colab": {
          "base_uri": "https://localhost:8080/"
        },
        "id": "445VsnFkCwfu",
        "outputId": "0db3d8c0-96f1-4583-8ddc-8b31e8bd433c"
      },
      "execution_count": 23,
      "outputs": [
        {
          "output_type": "stream",
          "name": "stdout",
          "text": [
            "Original sentence : \n",
            " @SergioPiaggio 'IÛªd worked so hard to get to that level that I wasnÛªt going to let the injury define me. I was going to define it.Û Cool \n",
            "\n",
            "  Vectorized form of our random sentence: \n",
            "\n"
          ]
        },
        {
          "output_type": "execute_result",
          "data": {
            "text/plain": [
              "<tf.Tensor: shape=(1, 15), dtype=int64, numpy=\n",
              "array([[8643, 5331, 1733,   28,  892,    5,   52,    5,   16,  813,   16,\n",
              "           8, 6913,  104,    5]])>"
            ]
          },
          "metadata": {},
          "execution_count": 23
        }
      ]
    },
    {
      "cell_type": "code",
      "source": [
        "# Get the unique words in the vocabulary\n",
        "\n",
        "words_in_vocab = text_vectorizer.get_vocabulary()  # Get all of the unique words in our training data\n",
        "top_5_words = words_in_vocab[ : 5 ] # Get the most common words in our data\n",
        "bottom_5_words = words_in_vocab[ -5 :  ] # Get the least common words\n",
        "\n",
        "print(f\"Number of words in vocab : {len(words_in_vocab)} \\n\")\n",
        "print(f\"Most common words : {top_5_words} \\n\")\n",
        "print(f\"Least common words  : {bottom_5_words} \\n\")"
      ],
      "metadata": {
        "id": "d9b3ZBmZEOD-",
        "colab": {
          "base_uri": "https://localhost:8080/"
        },
        "outputId": "2133e1f4-f8ae-4c46-f305-4020398477d0"
      },
      "execution_count": 24,
      "outputs": [
        {
          "output_type": "stream",
          "name": "stdout",
          "text": [
            "Number of words in vocab : 10000 \n",
            "\n",
            "Most common words : ['', '[UNK]', 'the', 'a', 'in'] \n",
            "\n",
            "Least common words  : ['pages', 'paeds', 'pads', 'padres', 'paddytomlinson1'] \n",
            "\n"
          ]
        }
      ]
    },
    {
      "cell_type": "markdown",
      "source": [
        "# Creating an Embedding using an Embedding Layer\n",
        "\n",
        "To make our embedding we are going to use TensorFlow embedding layer.\n",
        "\n",
        "The parameters we care most about for our embedding layers\n",
        "\n",
        "* 'input_dim' : the size of our vocabulary\n",
        "* 'output_dim' : the size of the output embedding vector , for example , a value of 100 would mean each token gets represented by a vector 100 long.\n",
        "* 'input_length' : lenght of the sequences being passed to the embedding layer."
      ],
      "metadata": {
        "id": "rpG4T0zpFx86"
      }
    },
    {
      "cell_type": "markdown",
      "source": [
        "# **Note** : Neural networks 8 e bölünebilen sayılarla çok iyi çalışıyor"
      ],
      "metadata": {
        "id": "5cYwAyvhg9uY"
      }
    },
    {
      "cell_type": "code",
      "source": [
        "from tensorflow.keras import layers\n",
        "\n",
        "embedding = layers.Embedding( input_dim = max_vocab_length ,  # set input shape\n",
        "                             output_dim = 128 , # Output shape. Every token in the format of 128 long vector\n",
        "                              input_length = max_length  # How long is each input\n",
        "                              )"
      ],
      "metadata": {
        "id": "ycuzyABpijy3"
      },
      "execution_count": 25,
      "outputs": []
    },
    {
      "cell_type": "code",
      "source": [
        "# Get a random sentence from our training data\n",
        "\n",
        "random_sentence = random.choice(train_sentences)\n",
        "print(f\"Original text : \\n {random_sentence}\\n\")\n",
        "print(\"Embedded form\")\n",
        "sample_embed = embedding(text_vectorizer([random_sentence]))  # Embed the random sentence (turn it into dense vectors of fixed size)\n",
        "sample_embed"
      ],
      "metadata": {
        "colab": {
          "base_uri": "https://localhost:8080/"
        },
        "id": "vRVhucTKj8Fi",
        "outputId": "b075c49d-ef46-4c27-d47c-dd600ba8470d"
      },
      "execution_count": 26,
      "outputs": [
        {
          "output_type": "stream",
          "name": "stdout",
          "text": [
            "Original text : \n",
            " Demolition Means Progress: Flint Michigan and the Fate of the American Metropolis Highsmith https://t.co/ZvoBMDxHGP\n",
            "\n",
            "Embedded form\n"
          ]
        },
        {
          "output_type": "execute_result",
          "data": {
            "text/plain": [
              "<tf.Tensor: shape=(1, 15, 128), dtype=float32, numpy=\n",
              "array([[[-0.02536899,  0.04975064,  0.04531486, ...,  0.04033859,\n",
              "          0.02942633,  0.01726137],\n",
              "        [-0.00965609,  0.03112185,  0.01632122, ..., -0.01998364,\n",
              "         -0.00841166,  0.03210044],\n",
              "        [-0.01363263, -0.04059486,  0.00960726, ...,  0.0269217 ,\n",
              "         -0.01254296,  0.04731056],\n",
              "        ...,\n",
              "        [-0.01412129, -0.02558997,  0.03156263, ..., -0.02259362,\n",
              "          0.03602357, -0.01284522],\n",
              "        [-0.01412129, -0.02558997,  0.03156263, ..., -0.02259362,\n",
              "          0.03602357, -0.01284522],\n",
              "        [-0.00050489, -0.03629545,  0.03552065, ...,  0.00640681,\n",
              "         -0.04900563,  0.04188022]]], dtype=float32)>"
            ]
          },
          "metadata": {},
          "execution_count": 26
        }
      ]
    },
    {
      "cell_type": "code",
      "source": [
        "# Check out a single token's embedding\n",
        "\n",
        "sample_embed[0][0] , sample_embed[0][0].shape , sample_embed"
      ],
      "metadata": {
        "colab": {
          "base_uri": "https://localhost:8080/"
        },
        "id": "yrOmrtw3kr_s",
        "outputId": "7b5ceec5-5fe1-436f-8c28-a8aef8c875d6"
      },
      "execution_count": 27,
      "outputs": [
        {
          "output_type": "execute_result",
          "data": {
            "text/plain": [
              "(<tf.Tensor: shape=(128,), dtype=float32, numpy=\n",
              " array([-2.5368989e-02,  4.9750637e-02,  4.5314860e-02,  5.1313639e-03,\n",
              "         3.6592294e-02,  1.0269992e-03,  3.7733022e-02,  3.0495692e-02,\n",
              "        -1.0252379e-02,  2.0583678e-02, -3.1429686e-02, -4.2386364e-02,\n",
              "         1.1711717e-03,  2.5520828e-02, -3.0533804e-02, -4.6086907e-03,\n",
              "         2.4970416e-02,  3.9121162e-02, -1.4882050e-02, -3.4789313e-02,\n",
              "        -4.6104420e-02,  2.8650835e-04,  1.4943842e-02,  4.7540776e-03,\n",
              "         2.1904718e-02,  1.2770090e-02,  4.4552866e-02, -4.8190467e-03,\n",
              "        -4.6311796e-02, -2.8489470e-02,  3.6288425e-04, -3.0012727e-03,\n",
              "         4.9475227e-02, -2.3742605e-02, -5.2202493e-05, -3.7650466e-02,\n",
              "         3.2933664e-02,  2.3520473e-02,  2.4384093e-02, -1.7920494e-02,\n",
              "         4.8910905e-02,  8.0694556e-03, -7.3417649e-03,  2.0037506e-02,\n",
              "         1.0574758e-02, -4.7010422e-02,  2.6305329e-02,  4.3807913e-02,\n",
              "         2.5681440e-02, -4.9889721e-02,  3.6801483e-02, -4.8700668e-02,\n",
              "         6.8055615e-03, -2.3325801e-02, -2.2750307e-02,  3.0465212e-02,\n",
              "         3.0548278e-02, -3.9830804e-02, -2.3626601e-02,  1.3093177e-02,\n",
              "         1.6358707e-02, -4.6927121e-02, -4.6546437e-02,  3.5582934e-02,\n",
              "         8.9337714e-03,  2.6528124e-02,  1.5978348e-02, -3.0374043e-03,\n",
              "         3.2490555e-02, -7.2672218e-04, -2.7375221e-03, -2.8328896e-03,\n",
              "        -1.1902858e-02,  9.9163279e-03, -4.4152644e-02, -9.5018968e-03,\n",
              "        -1.3183594e-02,  4.3355934e-03, -1.9252313e-02, -2.6424205e-02,\n",
              "        -1.8165328e-02, -6.5235384e-03, -3.5926353e-02,  4.7261130e-02,\n",
              "         1.1974167e-02,  1.8562410e-02, -1.8049240e-02,  1.1444319e-02,\n",
              "         3.2297485e-03, -1.5732072e-02,  2.8575335e-02,  2.5167856e-02,\n",
              "         1.5182011e-03, -9.7645894e-03, -2.4107194e-02,  4.5914043e-02,\n",
              "         1.5927020e-02,  3.6196578e-02,  3.5258774e-02, -1.0373723e-02,\n",
              "        -3.9816581e-02, -4.8929859e-02, -4.4647276e-02,  1.3709333e-02,\n",
              "        -4.5513500e-02,  3.9816927e-02, -4.6577718e-02, -1.1152793e-02,\n",
              "         4.5127753e-02,  1.2939010e-02,  3.3129189e-02, -1.0005511e-02,\n",
              "         4.1301623e-03, -2.5808103e-03,  4.1971359e-02,  1.0982156e-02,\n",
              "         4.5645822e-02, -2.3480281e-03,  2.0743236e-03,  1.2065791e-02,\n",
              "         2.7317192e-02,  2.5201488e-02, -2.1958161e-02,  4.4916902e-02,\n",
              "        -7.7698380e-04,  4.0338587e-02,  2.9426325e-02,  1.7261375e-02],\n",
              "       dtype=float32)>,\n",
              " TensorShape([128]),\n",
              " <tf.Tensor: shape=(1, 15, 128), dtype=float32, numpy=\n",
              " array([[[-0.02536899,  0.04975064,  0.04531486, ...,  0.04033859,\n",
              "           0.02942633,  0.01726137],\n",
              "         [-0.00965609,  0.03112185,  0.01632122, ..., -0.01998364,\n",
              "          -0.00841166,  0.03210044],\n",
              "         [-0.01363263, -0.04059486,  0.00960726, ...,  0.0269217 ,\n",
              "          -0.01254296,  0.04731056],\n",
              "         ...,\n",
              "         [-0.01412129, -0.02558997,  0.03156263, ..., -0.02259362,\n",
              "           0.03602357, -0.01284522],\n",
              "         [-0.01412129, -0.02558997,  0.03156263, ..., -0.02259362,\n",
              "           0.03602357, -0.01284522],\n",
              "         [-0.00050489, -0.03629545,  0.03552065, ...,  0.00640681,\n",
              "          -0.04900563,  0.04188022]]], dtype=float32)>)"
            ]
          },
          "metadata": {},
          "execution_count": 27
        }
      ]
    },
    {
      "cell_type": "markdown",
      "source": [
        "# Modelling a text dataset (running a series of experimentation)\n",
        "\n",
        "Now we have got a way to turn our text sequences into numbers , it is time to start building a series of modelling experiments.\n",
        "\n",
        "We will start with a baseline and move on from there\n",
        "\n",
        "* Model 0 : Naive Bayes (baseline)\n",
        "* Model 1 : Feed-forward neural network\n",
        "* Model 2 : LSTM model (RNN)\n",
        "* Model 3 : GRU model (RNN)\n",
        "* Model 4 : Bidirectional LSTM (RNN)\n",
        "* Model 5 : 1D Convolutional neural network (CNN)\n",
        "* Model 6 : TensorFlow Hub pre-trained Feature extractor (using transfer learning for NLP)\n",
        "* Model 7 : Same as model 6 but with %10 of training data\n",
        "\n",
        "How are we going to approach all of this ?\n",
        "\n",
        "Use standart steps in modelling with tensorflow\n",
        "\n",
        "* Create a model\n",
        "* Compile o model\n",
        "* Fit the model\n",
        "* Evaluate the model"
      ],
      "metadata": {
        "id": "JVEyYcflme3b"
      }
    },
    {
      "cell_type": "markdown",
      "source": [
        "## Model 0 : Getting a baseline\n",
        "\n",
        "As with all machine learning modelling experiments , it is important to create a baseline model so you have got a benchmark for future experiments to build upon\n",
        "\n",
        "To create our baseline, We will use sklearn Multinomial naive bayes using the TF-IDF formula to convert our words to numbers.\n",
        "\n",
        "> **Note:** It is common practice to use non deep learning algorithms as a baseline because of their speed then later using deep learning to see if you can improve upon them"
      ],
      "metadata": {
        "id": "1p_NRd-ZwU8k"
      }
    },
    {
      "cell_type": "code",
      "source": [
        "from sklearn.feature_extraction.text import TfidfVectorizer\n",
        "from sklearn.naive_bayes import MultinomialNB\n",
        "from sklearn.pipeline import Pipeline\n",
        "\n",
        "# Create tokenization and modelling pipeline\n",
        "\n",
        "model_0 = Pipeline(\n",
        "    [\n",
        "     (\"tfidf\" , TfidfVectorizer())   , # Convert words to numbers using tfidf\n",
        "     (\"clf\" , MultinomialNB() ) # Model to text\n",
        "\n",
        "    ]\n",
        "\n",
        ")\n",
        "\n",
        "# Fit the pipeline to the training data\n",
        "model_0.fit(train_sentences , train_labels)"
      ],
      "metadata": {
        "colab": {
          "base_uri": "https://localhost:8080/",
          "height": 124
        },
        "id": "BRBD5msOw3WJ",
        "outputId": "24c80a5b-bca8-4577-dd70-efed4380a6de"
      },
      "execution_count": 28,
      "outputs": [
        {
          "output_type": "execute_result",
          "data": {
            "text/plain": [
              "Pipeline(steps=[('tfidf', TfidfVectorizer()), ('clf', MultinomialNB())])"
            ],
            "text/html": [
              "<style>#sk-container-id-1 {color: black;background-color: white;}#sk-container-id-1 pre{padding: 0;}#sk-container-id-1 div.sk-toggleable {background-color: white;}#sk-container-id-1 label.sk-toggleable__label {cursor: pointer;display: block;width: 100%;margin-bottom: 0;padding: 0.3em;box-sizing: border-box;text-align: center;}#sk-container-id-1 label.sk-toggleable__label-arrow:before {content: \"▸\";float: left;margin-right: 0.25em;color: #696969;}#sk-container-id-1 label.sk-toggleable__label-arrow:hover:before {color: black;}#sk-container-id-1 div.sk-estimator:hover label.sk-toggleable__label-arrow:before {color: black;}#sk-container-id-1 div.sk-toggleable__content {max-height: 0;max-width: 0;overflow: hidden;text-align: left;background-color: #f0f8ff;}#sk-container-id-1 div.sk-toggleable__content pre {margin: 0.2em;color: black;border-radius: 0.25em;background-color: #f0f8ff;}#sk-container-id-1 input.sk-toggleable__control:checked~div.sk-toggleable__content {max-height: 200px;max-width: 100%;overflow: auto;}#sk-container-id-1 input.sk-toggleable__control:checked~label.sk-toggleable__label-arrow:before {content: \"▾\";}#sk-container-id-1 div.sk-estimator input.sk-toggleable__control:checked~label.sk-toggleable__label {background-color: #d4ebff;}#sk-container-id-1 div.sk-label input.sk-toggleable__control:checked~label.sk-toggleable__label {background-color: #d4ebff;}#sk-container-id-1 input.sk-hidden--visually {border: 0;clip: rect(1px 1px 1px 1px);clip: rect(1px, 1px, 1px, 1px);height: 1px;margin: -1px;overflow: hidden;padding: 0;position: absolute;width: 1px;}#sk-container-id-1 div.sk-estimator {font-family: monospace;background-color: #f0f8ff;border: 1px dotted black;border-radius: 0.25em;box-sizing: border-box;margin-bottom: 0.5em;}#sk-container-id-1 div.sk-estimator:hover {background-color: #d4ebff;}#sk-container-id-1 div.sk-parallel-item::after {content: \"\";width: 100%;border-bottom: 1px solid gray;flex-grow: 1;}#sk-container-id-1 div.sk-label:hover label.sk-toggleable__label {background-color: #d4ebff;}#sk-container-id-1 div.sk-serial::before {content: \"\";position: absolute;border-left: 1px solid gray;box-sizing: border-box;top: 0;bottom: 0;left: 50%;z-index: 0;}#sk-container-id-1 div.sk-serial {display: flex;flex-direction: column;align-items: center;background-color: white;padding-right: 0.2em;padding-left: 0.2em;position: relative;}#sk-container-id-1 div.sk-item {position: relative;z-index: 1;}#sk-container-id-1 div.sk-parallel {display: flex;align-items: stretch;justify-content: center;background-color: white;position: relative;}#sk-container-id-1 div.sk-item::before, #sk-container-id-1 div.sk-parallel-item::before {content: \"\";position: absolute;border-left: 1px solid gray;box-sizing: border-box;top: 0;bottom: 0;left: 50%;z-index: -1;}#sk-container-id-1 div.sk-parallel-item {display: flex;flex-direction: column;z-index: 1;position: relative;background-color: white;}#sk-container-id-1 div.sk-parallel-item:first-child::after {align-self: flex-end;width: 50%;}#sk-container-id-1 div.sk-parallel-item:last-child::after {align-self: flex-start;width: 50%;}#sk-container-id-1 div.sk-parallel-item:only-child::after {width: 0;}#sk-container-id-1 div.sk-dashed-wrapped {border: 1px dashed gray;margin: 0 0.4em 0.5em 0.4em;box-sizing: border-box;padding-bottom: 0.4em;background-color: white;}#sk-container-id-1 div.sk-label label {font-family: monospace;font-weight: bold;display: inline-block;line-height: 1.2em;}#sk-container-id-1 div.sk-label-container {text-align: center;}#sk-container-id-1 div.sk-container {/* jupyter's `normalize.less` sets `[hidden] { display: none; }` but bootstrap.min.css set `[hidden] { display: none !important; }` so we also need the `!important` here to be able to override the default hidden behavior on the sphinx rendered scikit-learn.org. See: https://github.com/scikit-learn/scikit-learn/issues/21755 */display: inline-block !important;position: relative;}#sk-container-id-1 div.sk-text-repr-fallback {display: none;}</style><div id=\"sk-container-id-1\" class=\"sk-top-container\"><div class=\"sk-text-repr-fallback\"><pre>Pipeline(steps=[(&#x27;tfidf&#x27;, TfidfVectorizer()), (&#x27;clf&#x27;, MultinomialNB())])</pre><b>In a Jupyter environment, please rerun this cell to show the HTML representation or trust the notebook. <br />On GitHub, the HTML representation is unable to render, please try loading this page with nbviewer.org.</b></div><div class=\"sk-container\" hidden><div class=\"sk-item sk-dashed-wrapped\"><div class=\"sk-label-container\"><div class=\"sk-label sk-toggleable\"><input class=\"sk-toggleable__control sk-hidden--visually\" id=\"sk-estimator-id-1\" type=\"checkbox\" ><label for=\"sk-estimator-id-1\" class=\"sk-toggleable__label sk-toggleable__label-arrow\">Pipeline</label><div class=\"sk-toggleable__content\"><pre>Pipeline(steps=[(&#x27;tfidf&#x27;, TfidfVectorizer()), (&#x27;clf&#x27;, MultinomialNB())])</pre></div></div></div><div class=\"sk-serial\"><div class=\"sk-item\"><div class=\"sk-estimator sk-toggleable\"><input class=\"sk-toggleable__control sk-hidden--visually\" id=\"sk-estimator-id-2\" type=\"checkbox\" ><label for=\"sk-estimator-id-2\" class=\"sk-toggleable__label sk-toggleable__label-arrow\">TfidfVectorizer</label><div class=\"sk-toggleable__content\"><pre>TfidfVectorizer()</pre></div></div></div><div class=\"sk-item\"><div class=\"sk-estimator sk-toggleable\"><input class=\"sk-toggleable__control sk-hidden--visually\" id=\"sk-estimator-id-3\" type=\"checkbox\" ><label for=\"sk-estimator-id-3\" class=\"sk-toggleable__label sk-toggleable__label-arrow\">MultinomialNB</label><div class=\"sk-toggleable__content\"><pre>MultinomialNB()</pre></div></div></div></div></div></div></div>"
            ]
          },
          "metadata": {},
          "execution_count": 28
        }
      ]
    },
    {
      "cell_type": "code",
      "source": [
        "# Evaluate our model\n",
        "baseline_score = model_0.score(val_sentences , val_labels)  # In sklearn we use score instead of evaluate\n",
        "baseline_score\n",
        "# Bu bize accuracy veriyor.\n"
      ],
      "metadata": {
        "colab": {
          "base_uri": "https://localhost:8080/"
        },
        "id": "PLVHX8tB_e4n",
        "outputId": "0757429b-35ef-4eab-dac8-c4232e191444"
      },
      "execution_count": 29,
      "outputs": [
        {
          "output_type": "execute_result",
          "data": {
            "text/plain": [
              "0.7926509186351706"
            ]
          },
          "metadata": {},
          "execution_count": 29
        }
      ]
    },
    {
      "cell_type": "code",
      "source": [
        "# Make predictions\n",
        "baseline_preds = model_0.predict(val_sentences)\n",
        "baseline_preds[ : 20]"
      ],
      "metadata": {
        "colab": {
          "base_uri": "https://localhost:8080/"
        },
        "id": "JuayiquOBdFZ",
        "outputId": "9482f1e0-a116-456f-8922-db516d3cbf8b"
      },
      "execution_count": 30,
      "outputs": [
        {
          "output_type": "execute_result",
          "data": {
            "text/plain": [
              "array([1, 1, 1, 0, 0, 1, 1, 1, 1, 0, 0, 1, 0, 0, 0, 0, 0, 0, 0, 1])"
            ]
          },
          "metadata": {},
          "execution_count": 30
        }
      ]
    },
    {
      "cell_type": "code",
      "source": [
        "val_labels[ : 20]"
      ],
      "metadata": {
        "colab": {
          "base_uri": "https://localhost:8080/"
        },
        "id": "ZWgjef0nB9lx",
        "outputId": "cf49da32-d680-4fb8-e852-41018e6aca2a"
      },
      "execution_count": 31,
      "outputs": [
        {
          "output_type": "execute_result",
          "data": {
            "text/plain": [
              "array([0, 0, 1, 1, 1, 1, 1, 1, 1, 0, 0, 0, 0, 0, 0, 0, 0, 0, 1, 0])"
            ]
          },
          "metadata": {},
          "execution_count": 31
        }
      ]
    },
    {
      "cell_type": "markdown",
      "source": [
        "# Creating an evaluation function for our model experiment\n",
        "\n",
        "We could evaluate all of our model's predictions with different metrics every time , however , this will be cumbersome(hantal) and could easliy be fixed with a function\n",
        "\n",
        "Lets create one to compare our model's predictions with the truth labels using following metrices\n",
        "\n",
        "* Accuracy\n",
        "* Precision\n",
        "* Recall\n",
        "* F1-score"
      ],
      "metadata": {
        "id": "Km8tnsouCDZn"
      }
    },
    {
      "cell_type": "code",
      "source": [
        "# Function to evaluate : accuracy , precision , recall , f1-score\n",
        "from sklearn.metrics import accuracy_score , precision_recall_fscore_support\n",
        "\n",
        "def calculate_results(y_true , y_pred):\n",
        "  \"\"\"\n",
        "  Calculates model accuracy , precision , recall and f1 score of a binary classification model\n",
        "  \"\"\"\n",
        "\n",
        "  # Calculate model accuracy\n",
        "  model_accuracy = accuracy_score(y_true , y_pred)\n",
        "\n",
        "  # Calculate model precision , recall and f1 score using \"weighted\" average\n",
        "\n",
        "  model_precision , model_recall , model_f1 , _ = precision_recall_fscore_support(y_true , y_pred , average = \"weighted\")\n",
        "  model_results = {\n",
        "      \"accuracy\": model_accuracy ,\n",
        "      \"precision\": model_precision ,\n",
        "      \"recall\": model_recall ,\n",
        "      \"f1-score\": model_f1\n",
        "  }\n",
        "  return model_results"
      ],
      "metadata": {
        "id": "FXRAxCnSI9x6"
      },
      "execution_count": 32,
      "outputs": []
    },
    {
      "cell_type": "code",
      "source": [
        "# Get model results\n",
        "\n",
        "baseline_results = calculate_results(y_true = val_labels ,\n",
        "                                     y_pred = baseline_preds\n",
        "                                     )\n",
        "baseline_results"
      ],
      "metadata": {
        "colab": {
          "base_uri": "https://localhost:8080/"
        },
        "id": "dUIDlpVTLc5X",
        "outputId": "da1c0193-b04d-435d-c480-ebb055bc9886"
      },
      "execution_count": 33,
      "outputs": [
        {
          "output_type": "execute_result",
          "data": {
            "text/plain": [
              "{'accuracy': 0.7926509186351706,\n",
              " 'precision': 0.8111390004213173,\n",
              " 'recall': 0.7926509186351706,\n",
              " 'f1-score': 0.7862189758049549}"
            ]
          },
          "metadata": {},
          "execution_count": 33
        }
      ]
    },
    {
      "cell_type": "markdown",
      "source": [
        "# Model 1 : A simple dense model"
      ],
      "metadata": {
        "id": "__OqmlrKLnZo"
      }
    },
    {
      "cell_type": "code",
      "source": [
        "# Create a tensorboard callback (need to create a new one for each model)\n",
        "\n",
        "from helper_functions import create_tensorboard_callback\n",
        "\n",
        "# Create a directory to save Tensorboard logs\n",
        "save_dir = \"model_logs\""
      ],
      "metadata": {
        "id": "bTr9HwMlOL36"
      },
      "execution_count": 34,
      "outputs": []
    },
    {
      "cell_type": "code",
      "source": [
        "# Build a model with Functional API\n",
        "from tensorflow.keras import layers\n",
        "\n",
        "inputs = layers.Input(shape = (1,) , dtype = tf.string)  # shape = (1 , ) çünkü it is going to see one sequence at a time\n",
        "x = text_vectorizer(inputs)  # Turn the input text into numbers\n",
        "x = embedding(x) # Create an embedding of the numberized inputs.\n",
        "x = layers.GlobalAveragePooling1D()(x) # Lower the dimensionality of the embedding. Eğer pooling layer eklemezsek her token için ayrı ayrı predict yapıyor. Pooling layer tek bir uzun vectore çeviriyor.\n",
        "outputs = layers.Dense( 1 , activation = \"sigmoid\")(x)  # Create an output layer , We have binary outputs so we use 1 hidden unit and activation will be sigmoid\n",
        "\n",
        "model_1 = tf.keras.Model(inputs , outputs , name = \"model_1_dense\")"
      ],
      "metadata": {
        "id": "fMvxm7T5Oaaz"
      },
      "execution_count": 35,
      "outputs": []
    },
    {
      "cell_type": "code",
      "source": [
        "model_1.summary()"
      ],
      "metadata": {
        "colab": {
          "base_uri": "https://localhost:8080/"
        },
        "id": "RopoUs4_VrsH",
        "outputId": "8f91b92a-7c08-4d35-ef12-1f3de8e865af"
      },
      "execution_count": 36,
      "outputs": [
        {
          "output_type": "stream",
          "name": "stdout",
          "text": [
            "Model: \"model_1_dense\"\n",
            "_________________________________________________________________\n",
            " Layer (type)                Output Shape              Param #   \n",
            "=================================================================\n",
            " input_1 (InputLayer)        [(None, 1)]               0         \n",
            "                                                                 \n",
            " text_vectorization_1 (TextV  (None, 15)               0         \n",
            " ectorization)                                                   \n",
            "                                                                 \n",
            " embedding (Embedding)       (None, 15, 128)           1280000   \n",
            "                                                                 \n",
            " global_average_pooling1d (G  (None, 128)              0         \n",
            " lobalAveragePooling1D)                                          \n",
            "                                                                 \n",
            " dense (Dense)               (None, 1)                 129       \n",
            "                                                                 \n",
            "=================================================================\n",
            "Total params: 1,280,129\n",
            "Trainable params: 1,280,129\n",
            "Non-trainable params: 0\n",
            "_________________________________________________________________\n"
          ]
        }
      ]
    },
    {
      "cell_type": "code",
      "source": [
        "# Compile a model\n",
        "model_1.compile(loss = [\"binary_crossentropy\"] ,\n",
        "                optimizer = tf.keras.optimizers.Adam() ,\n",
        "                metrics = [\"accuracy\"]\n",
        "                )\n",
        "\n",
        "# Fit the model\n",
        "\n",
        "hist_1 = model_1.fit(x = train_sentences ,\n",
        "                     y = train_labels ,\n",
        "                     epochs = 5 ,\n",
        "                     validation_data = (val_sentences , val_labels)  ,\n",
        "                     callbacks = [create_tensorboard_callback(dir_name = save_dir , experiment_name = \"model_1_dense\")])   # validation datayı tuple formatta yazmamız gerekiyor."
      ],
      "metadata": {
        "colab": {
          "base_uri": "https://localhost:8080/"
        },
        "id": "xvcSBEKzW8wI",
        "outputId": "7eab6ad0-6a5c-4d0b-8a3d-07e01d205dcb"
      },
      "execution_count": 37,
      "outputs": [
        {
          "output_type": "stream",
          "name": "stdout",
          "text": [
            "Saving TensorBoard log files to: model_logs/model_1_dense/20230818-142250\n",
            "Epoch 1/5\n",
            "215/215 [==============================] - 6s 20ms/step - loss: 0.6105 - accuracy: 0.6916 - val_loss: 0.5376 - val_accuracy: 0.7520\n",
            "Epoch 2/5\n",
            "215/215 [==============================] - 4s 19ms/step - loss: 0.4402 - accuracy: 0.8180 - val_loss: 0.4795 - val_accuracy: 0.7848\n",
            "Epoch 3/5\n",
            "215/215 [==============================] - 4s 20ms/step - loss: 0.3462 - accuracy: 0.8634 - val_loss: 0.4575 - val_accuracy: 0.7900\n",
            "Epoch 4/5\n",
            "215/215 [==============================] - 4s 18ms/step - loss: 0.2839 - accuracy: 0.8920 - val_loss: 0.4609 - val_accuracy: 0.7927\n",
            "Epoch 5/5\n",
            "215/215 [==============================] - 4s 20ms/step - loss: 0.2364 - accuracy: 0.9121 - val_loss: 0.4861 - val_accuracy: 0.7940\n"
          ]
        }
      ]
    },
    {
      "cell_type": "code",
      "source": [
        "# Check the results\n",
        "model_1.evaluate(val_sentences , val_labels)"
      ],
      "metadata": {
        "colab": {
          "base_uri": "https://localhost:8080/"
        },
        "id": "Edri7CRRZVe_",
        "outputId": "46ad9026-7dce-4385-be25-719a816ab55a"
      },
      "execution_count": 38,
      "outputs": [
        {
          "output_type": "stream",
          "name": "stdout",
          "text": [
            "24/24 [==============================] - 0s 6ms/step - loss: 0.4861 - accuracy: 0.7940\n"
          ]
        },
        {
          "output_type": "execute_result",
          "data": {
            "text/plain": [
              "[0.4860583245754242, 0.7939632534980774]"
            ]
          },
          "metadata": {},
          "execution_count": 38
        }
      ]
    },
    {
      "cell_type": "code",
      "source": [
        "# Make some predictions and evaluate those\n",
        "model_1_preds = model_1.predict(val_sentences)\n",
        "model_1_preds.shape"
      ],
      "metadata": {
        "colab": {
          "base_uri": "https://localhost:8080/"
        },
        "id": "ZJkgOJHAZ9VK",
        "outputId": "d847c960-afbf-4eab-fe2e-35f334bc0a00"
      },
      "execution_count": 39,
      "outputs": [
        {
          "output_type": "stream",
          "name": "stdout",
          "text": [
            "24/24 [==============================] - 1s 6ms/step\n"
          ]
        },
        {
          "output_type": "execute_result",
          "data": {
            "text/plain": [
              "(762, 1)"
            ]
          },
          "metadata": {},
          "execution_count": 39
        }
      ]
    },
    {
      "cell_type": "code",
      "source": [
        "# Look at a single prediction\n",
        "model_1_preds[0]"
      ],
      "metadata": {
        "colab": {
          "base_uri": "https://localhost:8080/"
        },
        "id": "5-JB7ps3aXcG",
        "outputId": "4e55c605-f318-4fc4-b41d-de44f17afa6a"
      },
      "execution_count": 40,
      "outputs": [
        {
          "output_type": "execute_result",
          "data": {
            "text/plain": [
              "array([0.28718972], dtype=float32)"
            ]
          },
          "metadata": {},
          "execution_count": 40
        }
      ]
    },
    {
      "cell_type": "code",
      "source": [
        " val_labels  # Şu an val labels ile predlerimizi karşılaştıramıyoruz çünkü biz apple to apple gibi aynı şeyleri karşılaştırmamız gerek. Zaten binary classificationdan bildigimiz üzere şu an predictlerimiz probabilities şeklinde yani 0 la 1 arasında değerler alıyor. 0.5 in üstündeki değerleri 1 olarak alıcaz altındaki değerleri ise 0 olarak alıcaz. Bu şekilde pred değerlerimizle ground truth değerleri karşılaştırabiliriz.\n"
      ],
      "metadata": {
        "colab": {
          "base_uri": "https://localhost:8080/"
        },
        "id": "DrvZ7wZHdXtF",
        "outputId": "0a21c8d0-dbda-4990-cb37-ecb539b2d6be"
      },
      "execution_count": 41,
      "outputs": [
        {
          "output_type": "execute_result",
          "data": {
            "text/plain": [
              "array([0, 0, 1, 1, 1, 1, 1, 1, 1, 0, 0, 0, 0, 0, 0, 0, 0, 0, 1, 0, 1, 1,\n",
              "       1, 1, 1, 1, 0, 0, 0, 0, 1, 0, 0, 0, 1, 0, 1, 0, 1, 1, 1, 0, 1, 0,\n",
              "       0, 1, 0, 1, 0, 0, 0, 1, 0, 0, 0, 0, 0, 1, 1, 1, 0, 1, 1, 1, 1, 1,\n",
              "       1, 0, 0, 1, 0, 0, 1, 0, 0, 1, 0, 1, 0, 1, 0, 0, 1, 0, 1, 1, 0, 0,\n",
              "       1, 1, 1, 0, 0, 0, 1, 1, 1, 1, 1, 1, 1, 0, 0, 1, 1, 0, 1, 1, 0, 0,\n",
              "       1, 0, 0, 0, 0, 0, 0, 0, 1, 0, 1, 1, 1, 1, 1, 0, 0, 1, 0, 0, 0, 1,\n",
              "       1, 1, 1, 1, 1, 0, 0, 0, 1, 0, 0, 1, 0, 1, 0, 0, 0, 1, 0, 0, 0, 0,\n",
              "       0, 1, 0, 0, 1, 0, 1, 0, 0, 1, 0, 0, 1, 0, 1, 0, 1, 1, 1, 0, 1, 0,\n",
              "       1, 1, 1, 1, 0, 0, 0, 1, 1, 0, 0, 1, 0, 0, 0, 1, 1, 0, 0, 0, 0, 1,\n",
              "       1, 0, 0, 1, 1, 0, 0, 1, 0, 1, 1, 0, 0, 1, 0, 0, 0, 0, 1, 1, 1, 0,\n",
              "       1, 1, 0, 0, 1, 0, 1, 1, 1, 0, 1, 1, 1, 1, 0, 0, 0, 0, 1, 0, 1, 1,\n",
              "       1, 1, 1, 0, 1, 0, 1, 1, 1, 0, 0, 0, 1, 0, 1, 1, 1, 0, 1, 1, 1, 1,\n",
              "       1, 1, 1, 0, 0, 0, 0, 0, 1, 0, 1, 1, 0, 0, 1, 0, 0, 0, 1, 0, 0, 0,\n",
              "       1, 1, 1, 0, 1, 0, 0, 1, 1, 1, 1, 1, 0, 0, 0, 0, 0, 0, 0, 0, 1, 0,\n",
              "       0, 0, 0, 1, 1, 0, 1, 0, 1, 0, 0, 0, 0, 0, 1, 0, 1, 0, 0, 1, 0, 1,\n",
              "       1, 0, 1, 1, 0, 1, 0, 0, 1, 1, 0, 0, 1, 1, 0, 1, 0, 0, 0, 0, 0, 0,\n",
              "       1, 0, 1, 0, 1, 1, 1, 0, 0, 1, 1, 1, 1, 0, 0, 0, 0, 0, 1, 0, 0, 1,\n",
              "       0, 0, 1, 0, 0, 1, 1, 0, 1, 0, 0, 1, 1, 0, 1, 0, 1, 0, 0, 0, 1, 1,\n",
              "       0, 0, 0, 0, 1, 0, 1, 1, 0, 1, 0, 1, 1, 0, 1, 1, 0, 1, 1, 1, 0, 1,\n",
              "       0, 0, 1, 1, 1, 1, 0, 1, 0, 1, 1, 1, 0, 0, 0, 0, 1, 1, 0, 0, 1, 1,\n",
              "       0, 1, 0, 0, 1, 1, 0, 0, 0, 0, 0, 1, 1, 1, 1, 1, 0, 1, 0, 1, 1, 0,\n",
              "       0, 1, 1, 1, 1, 0, 1, 0, 0, 1, 0, 0, 0, 1, 1, 1, 0, 0, 0, 0, 0, 1,\n",
              "       0, 1, 1, 0, 0, 0, 0, 1, 1, 0, 0, 0, 0, 1, 0, 1, 1, 0, 1, 1, 0, 1,\n",
              "       0, 1, 0, 0, 0, 0, 0, 1, 1, 0, 1, 1, 1, 1, 0, 0, 1, 1, 0, 0, 0, 0,\n",
              "       1, 1, 1, 1, 0, 0, 1, 1, 1, 0, 0, 0, 0, 1, 0, 0, 0, 1, 0, 1, 1, 0,\n",
              "       1, 1, 0, 1, 0, 1, 0, 1, 0, 0, 0, 0, 1, 1, 1, 0, 1, 0, 0, 0, 1, 1,\n",
              "       1, 1, 0, 1, 0, 0, 1, 0, 0, 0, 1, 0, 0, 1, 1, 0, 0, 0, 0, 0, 1, 0,\n",
              "       0, 1, 0, 1, 1, 0, 0, 0, 1, 1, 1, 0, 0, 0, 0, 1, 0, 1, 0, 1, 1, 0,\n",
              "       0, 1, 0, 0, 1, 0, 1, 0, 1, 1, 0, 1, 0, 0, 0, 1, 1, 1, 1, 0, 1, 0,\n",
              "       1, 1, 1, 1, 1, 0, 0, 0, 0, 0, 1, 1, 1, 0, 0, 0, 0, 0, 0, 1, 0, 1,\n",
              "       0, 0, 1, 1, 0, 0, 0, 0, 1, 1, 0, 0, 0, 0, 1, 0, 1, 1, 0, 0, 0, 1,\n",
              "       0, 1, 0, 1, 0, 1, 0, 0, 1, 1, 0, 0, 1, 0, 1, 1, 0, 0, 0, 0, 1, 0,\n",
              "       1, 0, 1, 0, 0, 0, 0, 0, 0, 0, 0, 0, 0, 0, 0, 0, 1, 0, 1, 1, 0, 0,\n",
              "       0, 0, 1, 0, 0, 1, 1, 1, 1, 1, 0, 0, 0, 1, 1, 0, 0, 0, 1, 1, 0, 0,\n",
              "       0, 0, 0, 1, 1, 0, 1, 1, 0, 0, 0, 0, 0, 0])"
            ]
          },
          "metadata": {},
          "execution_count": 41
        }
      ]
    },
    {
      "cell_type": "code",
      "source": [
        "# Convert model prediction probabilities to label format\n",
        "\n",
        "model_1_pred = tf.squeeze(tf.round(model_1_preds))\n",
        "model_1_pred[ : 10] , model_1_pred.shape"
      ],
      "metadata": {
        "colab": {
          "base_uri": "https://localhost:8080/"
        },
        "id": "Ue0EmKlMdvaN",
        "outputId": "dc113fda-7555-4d18-b151-e93545703233"
      },
      "execution_count": 42,
      "outputs": [
        {
          "output_type": "execute_result",
          "data": {
            "text/plain": [
              "(<tf.Tensor: shape=(10,), dtype=float32, numpy=array([0., 1., 1., 0., 0., 1., 1., 1., 1., 0.], dtype=float32)>,\n",
              " TensorShape([762]))"
            ]
          },
          "metadata": {},
          "execution_count": 42
        }
      ]
    },
    {
      "cell_type": "code",
      "source": [
        "# Calculate our model_1 results\n",
        "\n",
        "model_1_results = calculate_results(y_true = val_labels ,\n",
        "                                    y_pred = model_1_pred\n",
        "                                    )\n",
        "model_1_results"
      ],
      "metadata": {
        "colab": {
          "base_uri": "https://localhost:8080/"
        },
        "id": "3SYrQi2He5bF",
        "outputId": "d0e71a40-77c0-4942-bf51-3160ccfa8135"
      },
      "execution_count": 43,
      "outputs": [
        {
          "output_type": "execute_result",
          "data": {
            "text/plain": [
              "{'accuracy': 0.7939632545931758,\n",
              " 'precision': 0.8025297569280951,\n",
              " 'recall': 0.7939632545931758,\n",
              " 'f1-score': 0.7900777653888648}"
            ]
          },
          "metadata": {},
          "execution_count": 43
        }
      ]
    },
    {
      "cell_type": "code",
      "source": [
        "baseline_results"
      ],
      "metadata": {
        "colab": {
          "base_uri": "https://localhost:8080/"
        },
        "id": "jKMFCVxYf5s5",
        "outputId": "d18fe194-e05d-4a5d-aab7-722929420a3d"
      },
      "execution_count": 44,
      "outputs": [
        {
          "output_type": "execute_result",
          "data": {
            "text/plain": [
              "{'accuracy': 0.7926509186351706,\n",
              " 'precision': 0.8111390004213173,\n",
              " 'recall': 0.7926509186351706,\n",
              " 'f1-score': 0.7862189758049549}"
            ]
          },
          "metadata": {},
          "execution_count": 44
        }
      ]
    },
    {
      "cell_type": "markdown",
      "source": [
        "# Looks like our baseline is outperforming our first deep learning model"
      ],
      "metadata": {
        "id": "d38h4wXDis4z"
      }
    },
    {
      "cell_type": "markdown",
      "source": [
        "# Embedding layer en başta random değerler alıyor. Sonrasında her epochta internal weights ini uptade for each token.  "
      ],
      "metadata": {
        "id": "DT8NQZQejjC3"
      }
    },
    {
      "cell_type": "markdown",
      "source": [
        "# Visualizing learned embeddings"
      ],
      "metadata": {
        "id": "bCpcpWwbj0sr"
      }
    },
    {
      "cell_type": "code",
      "source": [
        "# Get the vocabulary from the text vectorization layer\n",
        "words_in_vocab = text_vectorizer.get_vocabulary()\n",
        "len(words_in_vocab)"
      ],
      "metadata": {
        "colab": {
          "base_uri": "https://localhost:8080/"
        },
        "id": "giuGttxWkMzB",
        "outputId": "3a202dc8-6c24-4c8d-ef4b-d3526babe96b"
      },
      "execution_count": 45,
      "outputs": [
        {
          "output_type": "execute_result",
          "data": {
            "text/plain": [
              "10000"
            ]
          },
          "metadata": {},
          "execution_count": 45
        }
      ]
    },
    {
      "cell_type": "code",
      "source": [
        "# Get the weight matrix of embedding layer\n",
        "# These are the numerical representation of each token in our training data\n",
        "# Getlayer kullanırken summary içindeki ismi kullanıyoruz.\n",
        "model_1.summary()"
      ],
      "metadata": {
        "colab": {
          "base_uri": "https://localhost:8080/"
        },
        "id": "FI6NvAYPkW51",
        "outputId": "a5f59bf4-4cef-4e5a-b8b6-f43a2cdd3e48"
      },
      "execution_count": 46,
      "outputs": [
        {
          "output_type": "stream",
          "name": "stdout",
          "text": [
            "Model: \"model_1_dense\"\n",
            "_________________________________________________________________\n",
            " Layer (type)                Output Shape              Param #   \n",
            "=================================================================\n",
            " input_1 (InputLayer)        [(None, 1)]               0         \n",
            "                                                                 \n",
            " text_vectorization_1 (TextV  (None, 15)               0         \n",
            " ectorization)                                                   \n",
            "                                                                 \n",
            " embedding (Embedding)       (None, 15, 128)           1280000   \n",
            "                                                                 \n",
            " global_average_pooling1d (G  (None, 128)              0         \n",
            " lobalAveragePooling1D)                                          \n",
            "                                                                 \n",
            " dense (Dense)               (None, 1)                 129       \n",
            "                                                                 \n",
            "=================================================================\n",
            "Total params: 1,280,129\n",
            "Trainable params: 1,280,129\n",
            "Non-trainable params: 0\n",
            "_________________________________________________________________\n"
          ]
        }
      ]
    },
    {
      "cell_type": "code",
      "source": [
        "embed_weights = model_1.get_layer(\"embedding\").get_weights()[0]\n",
        "print(embed_weights.shape)"
      ],
      "metadata": {
        "colab": {
          "base_uri": "https://localhost:8080/"
        },
        "id": "6Eter7SRluaa",
        "outputId": "558e2fff-fa12-4e85-a0fe-fcdb732057e7"
      },
      "execution_count": 47,
      "outputs": [
        {
          "output_type": "stream",
          "name": "stdout",
          "text": [
            "(10000, 128)\n"
          ]
        }
      ]
    },
    {
      "cell_type": "markdown",
      "source": [
        "# Now we have got the embedding matrix our model has learned to represent our tokens , lets visualize this\n",
        "\n",
        "Handy tool form tensoflow : Tensorflow Projector\n",
        "\n",
        "https://www.tensorflow.org/text/guide/word_embeddings"
      ],
      "metadata": {
        "id": "-mJmsOp6l2ui"
      }
    },
    {
      "cell_type": "code",
      "source": [
        "# Create embedding files\n",
        "import io\n",
        "\n",
        "out_v = io.open('vectors.tsv', 'w', encoding='utf-8')\n",
        "out_m = io.open('metadata.tsv', 'w', encoding='utf-8')\n",
        "\n",
        "for index, word in enumerate(words_in_vocab):\n",
        "  if index == 0:\n",
        "    continue  # skip 0, it's padding.\n",
        "  vec = embed_weights[index]\n",
        "  out_v.write('\\t'.join([str(x) for x in vec]) + \"\\n\")\n",
        "  out_m.write(word + \"\\n\")\n",
        "out_v.close()\n",
        "out_m.close()"
      ],
      "metadata": {
        "id": "UJHomhFam9xM"
      },
      "execution_count": 48,
      "outputs": []
    },
    {
      "cell_type": "code",
      "source": [
        "# To upload to projector\n",
        "try:\n",
        "  from google.colab import files\n",
        "  files.download('vectors.tsv')\n",
        "  files.download('metadata.tsv')\n",
        "except Exception:\n",
        "  pass"
      ],
      "metadata": {
        "colab": {
          "base_uri": "https://localhost:8080/",
          "height": 17
        },
        "id": "32nOcyxZo2OF",
        "outputId": "e87048f6-aa08-4bac-a786-fd55ecf1043e"
      },
      "execution_count": 49,
      "outputs": [
        {
          "output_type": "display_data",
          "data": {
            "text/plain": [
              "<IPython.core.display.Javascript object>"
            ],
            "application/javascript": [
              "\n",
              "    async function download(id, filename, size) {\n",
              "      if (!google.colab.kernel.accessAllowed) {\n",
              "        return;\n",
              "      }\n",
              "      const div = document.createElement('div');\n",
              "      const label = document.createElement('label');\n",
              "      label.textContent = `Downloading \"${filename}\": `;\n",
              "      div.appendChild(label);\n",
              "      const progress = document.createElement('progress');\n",
              "      progress.max = size;\n",
              "      div.appendChild(progress);\n",
              "      document.body.appendChild(div);\n",
              "\n",
              "      const buffers = [];\n",
              "      let downloaded = 0;\n",
              "\n",
              "      const channel = await google.colab.kernel.comms.open(id);\n",
              "      // Send a message to notify the kernel that we're ready.\n",
              "      channel.send({})\n",
              "\n",
              "      for await (const message of channel.messages) {\n",
              "        // Send a message to notify the kernel that we're ready.\n",
              "        channel.send({})\n",
              "        if (message.buffers) {\n",
              "          for (const buffer of message.buffers) {\n",
              "            buffers.push(buffer);\n",
              "            downloaded += buffer.byteLength;\n",
              "            progress.value = downloaded;\n",
              "          }\n",
              "        }\n",
              "      }\n",
              "      const blob = new Blob(buffers, {type: 'application/binary'});\n",
              "      const a = document.createElement('a');\n",
              "      a.href = window.URL.createObjectURL(blob);\n",
              "      a.download = filename;\n",
              "      div.appendChild(a);\n",
              "      a.click();\n",
              "      div.remove();\n",
              "    }\n",
              "  "
            ]
          },
          "metadata": {}
        },
        {
          "output_type": "display_data",
          "data": {
            "text/plain": [
              "<IPython.core.display.Javascript object>"
            ],
            "application/javascript": [
              "download(\"download_aecf1a3d-33b1-4c5d-a796-512eecdfcb64\", \"vectors.tsv\", 15376833)"
            ]
          },
          "metadata": {}
        },
        {
          "output_type": "display_data",
          "data": {
            "text/plain": [
              "<IPython.core.display.Javascript object>"
            ],
            "application/javascript": [
              "\n",
              "    async function download(id, filename, size) {\n",
              "      if (!google.colab.kernel.accessAllowed) {\n",
              "        return;\n",
              "      }\n",
              "      const div = document.createElement('div');\n",
              "      const label = document.createElement('label');\n",
              "      label.textContent = `Downloading \"${filename}\": `;\n",
              "      div.appendChild(label);\n",
              "      const progress = document.createElement('progress');\n",
              "      progress.max = size;\n",
              "      div.appendChild(progress);\n",
              "      document.body.appendChild(div);\n",
              "\n",
              "      const buffers = [];\n",
              "      let downloaded = 0;\n",
              "\n",
              "      const channel = await google.colab.kernel.comms.open(id);\n",
              "      // Send a message to notify the kernel that we're ready.\n",
              "      channel.send({})\n",
              "\n",
              "      for await (const message of channel.messages) {\n",
              "        // Send a message to notify the kernel that we're ready.\n",
              "        channel.send({})\n",
              "        if (message.buffers) {\n",
              "          for (const buffer of message.buffers) {\n",
              "            buffers.push(buffer);\n",
              "            downloaded += buffer.byteLength;\n",
              "            progress.value = downloaded;\n",
              "          }\n",
              "        }\n",
              "      }\n",
              "      const blob = new Blob(buffers, {type: 'application/binary'});\n",
              "      const a = document.createElement('a');\n",
              "      a.href = window.URL.createObjectURL(blob);\n",
              "      a.download = filename;\n",
              "      div.appendChild(a);\n",
              "      a.click();\n",
              "      div.remove();\n",
              "    }\n",
              "  "
            ]
          },
          "metadata": {}
        },
        {
          "output_type": "display_data",
          "data": {
            "text/plain": [
              "<IPython.core.display.Javascript object>"
            ],
            "application/javascript": [
              "download(\"download_6b64942b-9fa3-4221-ad7e-b5480e9a9ce1\", \"metadata.tsv\", 80388)"
            ]
          },
          "metadata": {}
        }
      ]
    },
    {
      "cell_type": "markdown",
      "source": [
        "# Recurrent Neural Networks (RNN's)\n",
        "\n",
        "RNN's are useful for sequence data\n",
        "\n",
        "The premise of a recurrent neural network is to use the representation of a previous input to aid the representation of a later input.\n",
        "\n",
        "https://www.youtube.com/watch?v=SEnXr6v2ifU\n"
      ],
      "metadata": {
        "id": "_GHAIBs4p20k"
      }
    },
    {
      "cell_type": "markdown",
      "source": [
        "# Model 2: LSTM\n",
        "\n",
        "LSTM = Long Short Term Memory\n",
        "\n",
        "Our structure of an RNN typically looks like this:\n",
        "\n",
        "'''\n",
        "Input(text) -> Tokenize -> Embedding -> Layers (RNN's / dense) -> Output(label probability)\n",
        "'''"
      ],
      "metadata": {
        "id": "wbsgg7Fpx5pK"
      }
    },
    {
      "cell_type": "code",
      "source": [
        "# Create an LSTM model\n",
        "\n",
        "from tensorflow.keras import layers\n",
        "\n",
        "inputs = layers.Input(shape = (1 ,)  , dtype = tf.string)\n",
        "x = text_vectorizer(inputs)\n",
        "x = embedding(x)\n",
        "#print(x.shape)\n",
        "#x = layers.LSTM(64 , return_sequences = True)(x)  # When you are stacking RNN cells together , you need to set return_sequences = True. Yani eğer birden fazla lstm layer kullanacaksak son lstm layer hariç true atamamız lazım.\n",
        "#print(x.shape)\n",
        "x = layers.LSTM(64)(x)\n",
        "#print(x.shape)\n",
        "#x = layers.Dense(64 , activation = \"relu\")(x)\n",
        "outputs = layers.Dense(1 , activation = \"sigmoid\")(x)\n",
        "\n",
        "model_2 = tf.keras.Model(inputs , outputs)\n"
      ],
      "metadata": {
        "id": "Wp7LIw3y0p34"
      },
      "execution_count": 50,
      "outputs": []
    },
    {
      "cell_type": "code",
      "source": [
        "model_2.summary()"
      ],
      "metadata": {
        "colab": {
          "base_uri": "https://localhost:8080/"
        },
        "id": "BSqJdm8_2NlE",
        "outputId": "3802ea0c-9b7f-4c40-a5ec-c1684b76990e"
      },
      "execution_count": 51,
      "outputs": [
        {
          "output_type": "stream",
          "name": "stdout",
          "text": [
            "Model: \"model\"\n",
            "_________________________________________________________________\n",
            " Layer (type)                Output Shape              Param #   \n",
            "=================================================================\n",
            " input_2 (InputLayer)        [(None, 1)]               0         \n",
            "                                                                 \n",
            " text_vectorization_1 (TextV  (None, 15)               0         \n",
            " ectorization)                                                   \n",
            "                                                                 \n",
            " embedding (Embedding)       (None, 15, 128)           1280000   \n",
            "                                                                 \n",
            " lstm (LSTM)                 (None, 64)                49408     \n",
            "                                                                 \n",
            " dense_1 (Dense)             (None, 1)                 65        \n",
            "                                                                 \n",
            "=================================================================\n",
            "Total params: 1,329,473\n",
            "Trainable params: 1,329,473\n",
            "Non-trainable params: 0\n",
            "_________________________________________________________________\n"
          ]
        }
      ]
    },
    {
      "cell_type": "code",
      "source": [
        "# Compile a model\n",
        "\n",
        "model_2.compile(loss = [\"binary_crossentropy\"] ,\n",
        "                optimizer = tf.keras.optimizers.Adam() ,\n",
        "                metrics = [\"accuracy\"]\n",
        "\n",
        "                )\n",
        "\n",
        "hist_2 = model_2.fit(x = train_sentences ,\n",
        "                     y = train_labels ,\n",
        "                     epochs = 5 ,\n",
        "                     validation_data = (val_sentences , val_labels)  ,\n",
        "                     callbacks = [create_tensorboard_callback(dir_name = save_dir , experiment_name = \"model_2_dense\")])"
      ],
      "metadata": {
        "colab": {
          "base_uri": "https://localhost:8080/"
        },
        "id": "HLj0L8Zh5aLr",
        "outputId": "eec0a977-4958-4f2a-e568-f94f92d1be8a"
      },
      "execution_count": 52,
      "outputs": [
        {
          "output_type": "stream",
          "name": "stdout",
          "text": [
            "Saving TensorBoard log files to: model_logs/model_2_dense/20230818-142317\n",
            "Epoch 1/5\n",
            "215/215 [==============================] - 10s 22ms/step - loss: 0.2246 - accuracy: 0.9177 - val_loss: 0.6029 - val_accuracy: 0.7861\n",
            "Epoch 2/5\n",
            "215/215 [==============================] - 5s 23ms/step - loss: 0.1537 - accuracy: 0.9429 - val_loss: 0.5861 - val_accuracy: 0.7874\n",
            "Epoch 3/5\n",
            "215/215 [==============================] - 6s 29ms/step - loss: 0.1242 - accuracy: 0.9531 - val_loss: 0.6949 - val_accuracy: 0.7848\n",
            "Epoch 4/5\n",
            "215/215 [==============================] - 7s 32ms/step - loss: 0.1036 - accuracy: 0.9613 - val_loss: 0.7845 - val_accuracy: 0.7795\n",
            "Epoch 5/5\n",
            "215/215 [==============================] - 5s 24ms/step - loss: 0.0826 - accuracy: 0.9673 - val_loss: 0.9734 - val_accuracy: 0.7756\n"
          ]
        }
      ]
    },
    {
      "cell_type": "code",
      "source": [
        "model_2.evaluate(val_sentences , val_labels)"
      ],
      "metadata": {
        "colab": {
          "base_uri": "https://localhost:8080/"
        },
        "id": "T5H4LHvb5WDa",
        "outputId": "e72e7746-37bd-4810-88de-96aeb88de772"
      },
      "execution_count": 53,
      "outputs": [
        {
          "output_type": "stream",
          "name": "stdout",
          "text": [
            "24/24 [==============================] - 0s 3ms/step - loss: 0.9734 - accuracy: 0.7756\n"
          ]
        },
        {
          "output_type": "execute_result",
          "data": {
            "text/plain": [
              "[0.9734324216842651, 0.7755905389785767]"
            ]
          },
          "metadata": {},
          "execution_count": 53
        }
      ]
    },
    {
      "cell_type": "code",
      "source": [
        "model_2_preds = model_2.predict(val_sentences)"
      ],
      "metadata": {
        "colab": {
          "base_uri": "https://localhost:8080/"
        },
        "id": "DsHszMgr6Q1o",
        "outputId": "506a8bb4-4aed-4dc9-fd00-ac6e417a3f4f"
      },
      "execution_count": 54,
      "outputs": [
        {
          "output_type": "stream",
          "name": "stdout",
          "text": [
            "24/24 [==============================] - 0s 4ms/step\n"
          ]
        }
      ]
    },
    {
      "cell_type": "code",
      "source": [
        "model_2_pred = tf.squeeze(tf.round(model_2_preds))\n",
        "model_2_pred"
      ],
      "metadata": {
        "colab": {
          "base_uri": "https://localhost:8080/"
        },
        "id": "sufnkW8t6d3F",
        "outputId": "234eb66d-a2ab-4d26-81e4-9752574ffb92"
      },
      "execution_count": 55,
      "outputs": [
        {
          "output_type": "execute_result",
          "data": {
            "text/plain": [
              "<tf.Tensor: shape=(762,), dtype=float32, numpy=\n",
              "array([0., 1., 1., 0., 0., 1., 1., 1., 1., 1., 0., 1., 0., 0., 0., 0., 0.,\n",
              "       0., 0., 1., 1., 0., 1., 0., 1., 1., 0., 0., 0., 0., 1., 0., 0., 0.,\n",
              "       0., 0., 1., 0., 0., 1., 0., 0., 0., 0., 1., 1., 1., 1., 0., 1., 0.,\n",
              "       0., 0., 0., 1., 0., 0., 1., 0., 0., 0., 1., 1., 0., 1., 1., 1., 0.,\n",
              "       1., 0., 0., 0., 1., 0., 0., 1., 0., 1., 0., 0., 0., 0., 1., 0., 0.,\n",
              "       0., 0., 0., 0., 1., 1., 0., 1., 0., 1., 1., 1., 1., 1., 1., 1., 0.,\n",
              "       0., 1., 1., 0., 1., 1., 0., 1., 1., 0., 0., 0., 0., 0., 0., 1., 0.,\n",
              "       0., 1., 0., 0., 1., 0., 0., 1., 0., 0., 1., 0., 1., 1., 1., 1., 0.,\n",
              "       1., 0., 0., 0., 1., 1., 0., 1., 0., 0., 0., 0., 0., 1., 0., 0., 0.,\n",
              "       0., 0., 1., 1., 0., 1., 0., 1., 0., 0., 1., 0., 0., 1., 0., 1., 0.,\n",
              "       1., 1., 1., 0., 1., 0., 0., 0., 1., 1., 0., 1., 1., 1., 1., 0., 0.,\n",
              "       1., 0., 0., 0., 1., 0., 0., 0., 0., 0., 0., 1., 0., 0., 1., 1., 0.,\n",
              "       0., 1., 1., 1., 1., 1., 0., 1., 0., 0., 0., 0., 1., 1., 1., 0., 0.,\n",
              "       0., 0., 0., 1., 0., 0., 1., 1., 0., 0., 0., 1., 1., 0., 0., 0., 0.,\n",
              "       0., 0., 1., 0., 1., 1., 0., 0., 1., 0., 0., 0., 0., 1., 0., 0., 1.,\n",
              "       0., 1., 1., 0., 0., 0., 0., 0., 1., 1., 0., 1., 0., 0., 0., 0., 0.,\n",
              "       1., 0., 0., 1., 0., 0., 1., 0., 0., 0., 1., 1., 1., 0., 1., 0., 1.,\n",
              "       0., 1., 1., 1., 0., 0., 1., 0., 0., 0., 0., 0., 0., 0., 1., 0., 0.,\n",
              "       0., 0., 0., 0., 0., 1., 0., 0., 1., 0., 1., 0., 0., 0., 0., 0., 1.,\n",
              "       0., 1., 0., 0., 1., 0., 1., 0., 0., 1., 0., 0., 1., 0., 0., 1., 1.,\n",
              "       0., 0., 1., 1., 1., 0., 1., 1., 0., 0., 0., 0., 0., 0., 0., 0., 1.,\n",
              "       1., 1., 0., 0., 0., 0., 1., 1., 0., 0., 0., 1., 0., 0., 0., 0., 0.,\n",
              "       1., 0., 0., 0., 0., 1., 1., 1., 1., 0., 1., 1., 1., 0., 1., 0., 1.,\n",
              "       0., 0., 1., 0., 1., 0., 0., 0., 1., 1., 0., 0., 1., 0., 1., 0., 0.,\n",
              "       0., 1., 1., 0., 0., 1., 1., 1., 0., 0., 0., 0., 1., 0., 1., 1., 0.,\n",
              "       0., 0., 1., 1., 1., 0., 0., 0., 0., 0., 0., 1., 0., 1., 1., 0., 1.,\n",
              "       0., 0., 0., 1., 0., 0., 0., 0., 0., 1., 1., 1., 1., 1., 0., 0., 1.,\n",
              "       1., 1., 0., 0., 0., 1., 1., 0., 0., 1., 0., 0., 1., 0., 0., 1., 0.,\n",
              "       0., 1., 0., 0., 0., 0., 0., 1., 0., 1., 1., 0., 0., 0., 0., 1., 1.,\n",
              "       0., 0., 0., 0., 1., 0., 1., 1., 0., 1., 0., 0., 0., 0., 1., 0., 0.,\n",
              "       0., 0., 0., 0., 0., 0., 1., 1., 1., 1., 0., 0., 1., 0., 0., 0., 1.,\n",
              "       0., 1., 1., 1., 1., 0., 0., 1., 0., 0., 0., 1., 1., 0., 0., 1., 0.,\n",
              "       0., 0., 0., 1., 1., 0., 1., 1., 0., 1., 0., 0., 0., 0., 0., 0., 0.,\n",
              "       0., 1., 0., 1., 0., 1., 0., 0., 0., 1., 0., 1., 0., 0., 0., 0., 0.,\n",
              "       1., 0., 0., 0., 1., 0., 0., 1., 0., 0., 0., 0., 0., 0., 0., 0., 0.,\n",
              "       0., 0., 1., 1., 0., 0., 0., 1., 1., 1., 0., 1., 0., 1., 1., 0., 1.,\n",
              "       0., 1., 1., 0., 0., 0., 0., 0., 1., 0., 1., 0., 1., 0., 0., 0., 1.,\n",
              "       0., 0., 1., 1., 1., 1., 0., 0., 0., 1., 1., 1., 0., 1., 1., 0., 0.,\n",
              "       0., 0., 1., 1., 1., 0., 0., 0., 0., 0., 0., 1., 0., 0., 0., 0., 1.,\n",
              "       0., 1., 0., 0., 0., 1., 1., 0., 0., 0., 0., 1., 0., 1., 0., 0., 1.,\n",
              "       0., 0., 1., 0., 0., 1., 0., 0., 0., 0., 0., 1., 1., 0., 1., 0., 1.,\n",
              "       0., 1., 0., 0., 0., 1., 0., 0., 0., 0., 0., 0., 0., 0., 0., 1., 0.,\n",
              "       0., 0., 0., 0., 1., 0., 0., 0., 1., 1., 0., 0., 0., 0., 1., 0., 0.,\n",
              "       1., 1., 1., 1., 1., 0., 0., 0., 1., 1., 1., 0., 1., 1., 0., 0., 0.,\n",
              "       0., 0., 0., 1., 1., 0., 1., 1., 0., 0., 0., 1., 0., 0.],\n",
              "      dtype=float32)>"
            ]
          },
          "metadata": {},
          "execution_count": 55
        }
      ]
    },
    {
      "cell_type": "code",
      "source": [
        "model_2_results = calculate_results(y_true = val_labels ,\n",
        "                                    y_pred = model_2_pred\n",
        "                                    )\n",
        "model_2_results"
      ],
      "metadata": {
        "colab": {
          "base_uri": "https://localhost:8080/"
        },
        "id": "Uui4oF-96xeX",
        "outputId": "097af60a-cbf3-45d9-c85a-b851f769ecfb"
      },
      "execution_count": 56,
      "outputs": [
        {
          "output_type": "execute_result",
          "data": {
            "text/plain": [
              "{'accuracy': 0.7755905511811023,\n",
              " 'precision': 0.7790436087799748,\n",
              " 'recall': 0.7755905511811023,\n",
              " 'f1-score': 0.7728084240126466}"
            ]
          },
          "metadata": {},
          "execution_count": 56
        }
      ]
    },
    {
      "cell_type": "markdown",
      "source": [
        "# Model 3 : GRU\n",
        "\n",
        "Another popular and effective RNN component is the GRU or gated recurrent unit.\n",
        "\n",
        "The GRU cell(layers) has similar features to an LSTM cell but has less parameters"
      ],
      "metadata": {
        "id": "vBN2tAjb7F0s"
      }
    },
    {
      "cell_type": "code",
      "source": [
        "# Build an RNN using the GRU cell\n",
        "\n",
        "from tensorflow.keras import layers\n",
        "\n",
        "inputs = layers.Input(shape = (1,) , dtype = tf.string)\n",
        "\n",
        "x = text_vectorizer(inputs)\n",
        "\n",
        "x = embedding(x)\n",
        "\n",
        "x = layers.GRU(64)(x)\n",
        "\n",
        "# x = layers.LSTM( 64 , return_sequences= True)(x)\n",
        "\n",
        "# x = layers.GRU(64)(x)  böyle de yapabiliriz göstermek icin sadece comment line a aldım.\n",
        "\n",
        "# x = layers.Dense( 64 , activation = \"relu\")(x)\n",
        "\n",
        "# x = layers.GlobalAveragePooling1D()(x)  return sequences true yaparsak global average pooling layer eklememiz gerek ama yapmazsak gerek yok.\n",
        "\n",
        "outputs = layers.Dense(1 , activation = \"sigmoid\" , name = \"output_layer\")(x)\n",
        "\n",
        "model_3 = tf.keras.Model(inputs , outputs)\n"
      ],
      "metadata": {
        "id": "qM7zrYGg9FB-"
      },
      "execution_count": 60,
      "outputs": []
    },
    {
      "cell_type": "code",
      "source": [
        "model_3.summary()"
      ],
      "metadata": {
        "colab": {
          "base_uri": "https://localhost:8080/"
        },
        "id": "ojMiMyWsCZoE",
        "outputId": "09da854c-32b7-4c56-b011-9afbe49ac3c3"
      },
      "execution_count": 61,
      "outputs": [
        {
          "output_type": "stream",
          "name": "stdout",
          "text": [
            "Model: \"model_2\"\n",
            "_________________________________________________________________\n",
            " Layer (type)                Output Shape              Param #   \n",
            "=================================================================\n",
            " input_5 (InputLayer)        [(None, 1)]               0         \n",
            "                                                                 \n",
            " text_vectorization_1 (TextV  (None, 15)               0         \n",
            " ectorization)                                                   \n",
            "                                                                 \n",
            " embedding (Embedding)       (None, 15, 128)           1280000   \n",
            "                                                                 \n",
            " gru_2 (GRU)                 (None, 64)                37248     \n",
            "                                                                 \n",
            " output_layer (Dense)        (None, 1)                 65        \n",
            "                                                                 \n",
            "=================================================================\n",
            "Total params: 1,317,313\n",
            "Trainable params: 1,317,313\n",
            "Non-trainable params: 0\n",
            "_________________________________________________________________\n"
          ]
        }
      ]
    },
    {
      "cell_type": "code",
      "source": [
        "# Compile a model\n",
        "\n",
        "model_3.compile(loss = [\"binary_crossentropy\"] ,\n",
        "                optimizer = tf.keras.optimizers.Adam() ,\n",
        "                metrics = [\"accuracy\"]\n",
        "                )\n",
        "\n"
      ],
      "metadata": {
        "id": "DMcGLqyOCbz-"
      },
      "execution_count": 62,
      "outputs": []
    },
    {
      "cell_type": "code",
      "source": [
        "# Fit the model\n",
        "hist_3 = model_3.fit(x = train_sentences ,\n",
        "                     y = train_labels ,\n",
        "                     epochs = 5 ,\n",
        "                     validation_data = (val_sentences , val_labels)  ,\n",
        "                     callbacks = [create_tensorboard_callback(dir_name = save_dir , experiment_name = \"model_3_dense\")])"
      ],
      "metadata": {
        "colab": {
          "base_uri": "https://localhost:8080/"
        },
        "id": "rAdqG0byDp3i",
        "outputId": "a8731d74-bdda-4a96-fd0c-9bd0dc5f79d3"
      },
      "execution_count": 63,
      "outputs": [
        {
          "output_type": "stream",
          "name": "stdout",
          "text": [
            "Saving TensorBoard log files to: model_logs/model_3_dense/20230818-143159\n",
            "Epoch 1/5\n",
            "215/215 [==============================] - 7s 21ms/step - loss: 0.1600 - accuracy: 0.9356 - val_loss: 0.6836 - val_accuracy: 0.7822\n",
            "Epoch 2/5\n",
            "215/215 [==============================] - 5s 21ms/step - loss: 0.0840 - accuracy: 0.9724 - val_loss: 0.8863 - val_accuracy: 0.7795\n",
            "Epoch 3/5\n",
            "215/215 [==============================] - 4s 18ms/step - loss: 0.0720 - accuracy: 0.9721 - val_loss: 0.9030 - val_accuracy: 0.7703\n",
            "Epoch 4/5\n",
            "215/215 [==============================] - 4s 19ms/step - loss: 0.0587 - accuracy: 0.9747 - val_loss: 1.0831 - val_accuracy: 0.7677\n",
            "Epoch 5/5\n",
            "215/215 [==============================] - 4s 20ms/step - loss: 0.0560 - accuracy: 0.9756 - val_loss: 1.1891 - val_accuracy: 0.7677\n"
          ]
        }
      ]
    },
    {
      "cell_type": "code",
      "source": [
        "model_3.evaluate(val_sentences , val_labels)"
      ],
      "metadata": {
        "colab": {
          "base_uri": "https://localhost:8080/"
        },
        "id": "DKShX8wkD2mw",
        "outputId": "f3cac84a-a8bc-46d7-cb82-a9c2134c389e"
      },
      "execution_count": 64,
      "outputs": [
        {
          "output_type": "stream",
          "name": "stdout",
          "text": [
            "24/24 [==============================] - 0s 9ms/step - loss: 1.1891 - accuracy: 0.7677\n"
          ]
        },
        {
          "output_type": "execute_result",
          "data": {
            "text/plain": [
              "[1.189102053642273, 0.7677165269851685]"
            ]
          },
          "metadata": {},
          "execution_count": 64
        }
      ]
    },
    {
      "cell_type": "code",
      "source": [
        "model_3_preds_probs = model_3.predict(val_sentences)\n",
        "model_3_preds_probs , model_3_preds_probs.shape"
      ],
      "metadata": {
        "colab": {
          "base_uri": "https://localhost:8080/"
        },
        "id": "mhaXwpRwEgUA",
        "outputId": "e614e560-488a-4a04-f12b-e07c8ffe432a"
      },
      "execution_count": 67,
      "outputs": [
        {
          "output_type": "stream",
          "name": "stdout",
          "text": [
            "24/24 [==============================] - 0s 4ms/step\n"
          ]
        },
        {
          "output_type": "execute_result",
          "data": {
            "text/plain": [
              "(array([[9.33567237e-04],\n",
              "        [7.86224008e-01],\n",
              "        [9.99835014e-01],\n",
              "        [1.52615368e-01],\n",
              "        [7.31422479e-05],\n",
              "        [9.99648929e-01],\n",
              "        [1.51633501e-01],\n",
              "        [9.99940634e-01],\n",
              "        [9.99859989e-01],\n",
              "        [8.72723520e-01],\n",
              "        [1.40119970e-04],\n",
              "        [7.53337026e-01],\n",
              "        [1.40699587e-04],\n",
              "        [1.96753323e-01],\n",
              "        [6.71073503e-05],\n",
              "        [1.88254868e-03],\n",
              "        [1.32227331e-04],\n",
              "        [1.13866619e-04],\n",
              "        [1.53231816e-02],\n",
              "        [9.99298871e-01],\n",
              "        [9.99843597e-01],\n",
              "        [4.11053989e-05],\n",
              "        [9.99459267e-01],\n",
              "        [9.93008609e-04],\n",
              "        [9.99783933e-01],\n",
              "        [9.99913633e-01],\n",
              "        [3.84999439e-04],\n",
              "        [6.95713679e-04],\n",
              "        [2.43780334e-04],\n",
              "        [2.73990899e-01],\n",
              "        [9.84578609e-01],\n",
              "        [8.62300803e-04],\n",
              "        [1.90395792e-03],\n",
              "        [8.19994253e-04],\n",
              "        [4.83461648e-01],\n",
              "        [2.38137498e-01],\n",
              "        [9.99788165e-01],\n",
              "        [3.17075402e-01],\n",
              "        [1.28924688e-02],\n",
              "        [9.99925733e-01],\n",
              "        [4.29809928e-01],\n",
              "        [6.72474562e-05],\n",
              "        [5.77148050e-02],\n",
              "        [1.17362346e-04],\n",
              "        [9.96462107e-01],\n",
              "        [9.99720097e-01],\n",
              "        [9.86173809e-01],\n",
              "        [9.69443023e-01],\n",
              "        [2.21614074e-03],\n",
              "        [4.04077739e-01],\n",
              "        [4.25285165e-04],\n",
              "        [4.19483989e-01],\n",
              "        [1.46754656e-03],\n",
              "        [3.74906580e-04],\n",
              "        [7.07644939e-01],\n",
              "        [1.31911468e-02],\n",
              "        [7.71908730e-04],\n",
              "        [9.99847114e-01],\n",
              "        [2.36277236e-04],\n",
              "        [3.19062412e-04],\n",
              "        [8.00734684e-02],\n",
              "        [9.99814630e-01],\n",
              "        [9.81989920e-01],\n",
              "        [8.28095153e-03],\n",
              "        [9.99923706e-01],\n",
              "        [9.99937177e-01],\n",
              "        [9.54192579e-01],\n",
              "        [1.74257886e-02],\n",
              "        [9.91906285e-01],\n",
              "        [1.45909307e-03],\n",
              "        [2.02466249e-02],\n",
              "        [3.38956155e-02],\n",
              "        [9.99930441e-01],\n",
              "        [6.44153857e-04],\n",
              "        [6.07685983e-01],\n",
              "        [9.90882456e-01],\n",
              "        [1.65900007e-01],\n",
              "        [9.99514520e-01],\n",
              "        [2.79033303e-01],\n",
              "        [3.46303396e-02],\n",
              "        [3.60959268e-04],\n",
              "        [1.45575330e-01],\n",
              "        [9.99903262e-01],\n",
              "        [2.32280305e-04],\n",
              "        [1.76124202e-04],\n",
              "        [5.94129611e-04],\n",
              "        [1.92811785e-04],\n",
              "        [1.56481110e-04],\n",
              "        [5.48514538e-04],\n",
              "        [9.99769092e-01],\n",
              "        [9.99767363e-01],\n",
              "        [9.35390854e-05],\n",
              "        [9.93810534e-01],\n",
              "        [1.12870548e-04],\n",
              "        [9.99858618e-01],\n",
              "        [8.13422084e-01],\n",
              "        [7.45839238e-01],\n",
              "        [9.99824047e-01],\n",
              "        [9.99426544e-01],\n",
              "        [9.98182476e-01],\n",
              "        [9.99966860e-01],\n",
              "        [9.03773995e-04],\n",
              "        [7.58036404e-05],\n",
              "        [9.16862011e-01],\n",
              "        [9.99504864e-01],\n",
              "        [6.07030606e-03],\n",
              "        [9.93615091e-01],\n",
              "        [9.96680319e-01],\n",
              "        [2.61954701e-04],\n",
              "        [9.98353899e-01],\n",
              "        [9.78808284e-01],\n",
              "        [3.52327566e-04],\n",
              "        [1.58000216e-02],\n",
              "        [7.86339398e-04],\n",
              "        [2.13484760e-04],\n",
              "        [1.41530000e-02],\n",
              "        [7.58506656e-01],\n",
              "        [9.73914623e-01],\n",
              "        [4.93922969e-03],\n",
              "        [1.24229278e-04],\n",
              "        [9.99936044e-01],\n",
              "        [8.01366768e-05],\n",
              "        [4.65394623e-05],\n",
              "        [8.33420515e-01],\n",
              "        [2.18277355e-03],\n",
              "        [3.41325649e-04],\n",
              "        [9.99829054e-01],\n",
              "        [6.27438785e-05],\n",
              "        [7.48882128e-04],\n",
              "        [9.96820748e-01],\n",
              "        [4.28417523e-04],\n",
              "        [9.99936044e-01],\n",
              "        [9.99953628e-01],\n",
              "        [9.99913633e-01],\n",
              "        [9.99648213e-01],\n",
              "        [1.49807820e-04],\n",
              "        [9.99816656e-01],\n",
              "        [4.54581603e-02],\n",
              "        [2.73089297e-03],\n",
              "        [3.26512352e-04],\n",
              "        [9.99926090e-01],\n",
              "        [7.92784989e-01],\n",
              "        [1.96753323e-01],\n",
              "        [9.99289870e-01],\n",
              "        [1.65488124e-01],\n",
              "        [3.97799740e-04],\n",
              "        [9.24846972e-05],\n",
              "        [5.64093243e-05],\n",
              "        [3.05663906e-02],\n",
              "        [9.99747813e-01],\n",
              "        [3.04256595e-04],\n",
              "        [3.03127207e-02],\n",
              "        [2.33359262e-03],\n",
              "        [1.58555165e-04],\n",
              "        [1.05788182e-04],\n",
              "        [9.99430776e-01],\n",
              "        [8.30132067e-01],\n",
              "        [1.67090935e-03],\n",
              "        [9.98891294e-01],\n",
              "        [1.49417654e-04],\n",
              "        [9.99597073e-01],\n",
              "        [6.75558520e-04],\n",
              "        [4.83280560e-03],\n",
              "        [9.96294856e-01],\n",
              "        [1.38787672e-01],\n",
              "        [5.17032167e-05],\n",
              "        [9.99877989e-01],\n",
              "        [2.10212339e-02],\n",
              "        [9.99787390e-01],\n",
              "        [6.86576664e-01],\n",
              "        [9.99815702e-01],\n",
              "        [9.91850972e-01],\n",
              "        [9.99369442e-01],\n",
              "        [1.92973661e-04],\n",
              "        [9.99966383e-01],\n",
              "        [2.04292548e-04],\n",
              "        [7.20962067e-04],\n",
              "        [2.42535840e-03],\n",
              "        [7.85157859e-01],\n",
              "        [9.99848604e-01],\n",
              "        [5.55148348e-04],\n",
              "        [6.84040964e-01],\n",
              "        [9.99203444e-01],\n",
              "        [9.99873221e-01],\n",
              "        [9.99880433e-01],\n",
              "        [1.78128903e-04],\n",
              "        [3.08041606e-04],\n",
              "        [9.99969244e-01],\n",
              "        [6.86611820e-05],\n",
              "        [5.64369257e-05],\n",
              "        [4.02167626e-03],\n",
              "        [9.94715691e-01],\n",
              "        [2.15773878e-04],\n",
              "        [1.57106653e-04],\n",
              "        [1.20443896e-04],\n",
              "        [4.52589768e-04],\n",
              "        [2.10601138e-04],\n",
              "        [4.33797482e-03],\n",
              "        [9.99571085e-01],\n",
              "        [3.67967878e-04],\n",
              "        [1.15152411e-02],\n",
              "        [9.99845803e-01],\n",
              "        [9.99618053e-01],\n",
              "        [7.81714276e-04],\n",
              "        [2.68534059e-04],\n",
              "        [9.99820650e-01],\n",
              "        [9.99610305e-01],\n",
              "        [9.99652982e-01],\n",
              "        [9.86024499e-01],\n",
              "        [9.89263594e-01],\n",
              "        [1.55979651e-03],\n",
              "        [9.99809265e-01],\n",
              "        [1.17817042e-04],\n",
              "        [1.98911352e-04],\n",
              "        [9.20623497e-05],\n",
              "        [9.39718084e-05],\n",
              "        [9.99857187e-01],\n",
              "        [8.86892796e-01],\n",
              "        [9.97183144e-01],\n",
              "        [4.12117600e-01],\n",
              "        [3.31027359e-01],\n",
              "        [1.13139465e-03],\n",
              "        [8.19281151e-04],\n",
              "        [6.54592877e-03],\n",
              "        [9.99804139e-01],\n",
              "        [6.06259517e-02],\n",
              "        [2.45736074e-03],\n",
              "        [9.99958336e-01],\n",
              "        [9.97329354e-01],\n",
              "        [6.81477904e-01],\n",
              "        [1.15016483e-04],\n",
              "        [1.98234152e-03],\n",
              "        [9.96956885e-01],\n",
              "        [2.96694100e-01],\n",
              "        [5.22389650e-01],\n",
              "        [1.55852046e-02],\n",
              "        [4.39168606e-03],\n",
              "        [1.71894077e-02],\n",
              "        [4.02615522e-04],\n",
              "        [1.97959089e-04],\n",
              "        [9.91126597e-01],\n",
              "        [2.44954857e-03],\n",
              "        [9.99855876e-01],\n",
              "        [9.99757230e-01],\n",
              "        [5.59048785e-04],\n",
              "        [7.95449450e-05],\n",
              "        [9.99726295e-01],\n",
              "        [1.57679489e-04],\n",
              "        [1.30813278e-03],\n",
              "        [1.69848278e-01],\n",
              "        [1.82978678e-04],\n",
              "        [9.98806953e-01],\n",
              "        [4.69689148e-05],\n",
              "        [1.58233824e-03],\n",
              "        [9.99725401e-01],\n",
              "        [1.38853014e-01],\n",
              "        [9.99616027e-01],\n",
              "        [9.99943376e-01],\n",
              "        [5.04201353e-02],\n",
              "        [1.27445266e-04],\n",
              "        [1.99281983e-03],\n",
              "        [1.24708647e-04],\n",
              "        [3.01451819e-05],\n",
              "        [9.99671698e-01],\n",
              "        [9.99877810e-01],\n",
              "        [2.57918425e-02],\n",
              "        [9.99624193e-01],\n",
              "        [1.85810015e-04],\n",
              "        [7.94359483e-04],\n",
              "        [1.21400801e-04],\n",
              "        [3.81101883e-04],\n",
              "        [9.55314536e-05],\n",
              "        [9.99723196e-01],\n",
              "        [1.03475607e-03],\n",
              "        [7.54351568e-05],\n",
              "        [9.99762475e-01],\n",
              "        [6.34821045e-05],\n",
              "        [1.38067539e-04],\n",
              "        [9.99701500e-01],\n",
              "        [1.83308366e-04],\n",
              "        [6.36056205e-03],\n",
              "        [6.96473289e-05],\n",
              "        [9.99753773e-01],\n",
              "        [7.96508312e-01],\n",
              "        [5.90081453e-01],\n",
              "        [6.18915586e-03],\n",
              "        [9.95953798e-01],\n",
              "        [3.20462883e-03],\n",
              "        [9.99366641e-01],\n",
              "        [1.55754504e-03],\n",
              "        [9.98794675e-01],\n",
              "        [9.82144535e-01],\n",
              "        [9.50628638e-01],\n",
              "        [5.15344692e-03],\n",
              "        [5.72949473e-04],\n",
              "        [2.76896983e-01],\n",
              "        [1.30723231e-03],\n",
              "        [2.48598796e-03],\n",
              "        [2.35036088e-04],\n",
              "        [1.98932234e-02],\n",
              "        [3.36084886e-05],\n",
              "        [2.00857801e-04],\n",
              "        [2.05887705e-02],\n",
              "        [9.99889851e-01],\n",
              "        [2.40480033e-04],\n",
              "        [1.82363745e-02],\n",
              "        [1.02157975e-02],\n",
              "        [2.39888772e-01],\n",
              "        [2.53601894e-02],\n",
              "        [2.49555218e-04],\n",
              "        [1.23011356e-04],\n",
              "        [9.99310017e-01],\n",
              "        [2.45660573e-01],\n",
              "        [4.29353714e-01],\n",
              "        [9.99962866e-01],\n",
              "        [1.46943639e-04],\n",
              "        [9.29941356e-01],\n",
              "        [1.31709769e-01],\n",
              "        [3.75304022e-03],\n",
              "        [1.66619644e-01],\n",
              "        [2.07177669e-04],\n",
              "        [1.08884936e-02],\n",
              "        [9.99221742e-01],\n",
              "        [1.54771432e-01],\n",
              "        [9.99817967e-01],\n",
              "        [2.53472298e-01],\n",
              "        [1.35582566e-04],\n",
              "        [9.99838471e-01],\n",
              "        [2.65208073e-04],\n",
              "        [9.99860704e-01],\n",
              "        [3.72742332e-04],\n",
              "        [3.01921536e-04],\n",
              "        [9.99842167e-01],\n",
              "        [1.21871955e-04],\n",
              "        [1.60868076e-04],\n",
              "        [9.99692976e-01],\n",
              "        [1.40052260e-04],\n",
              "        [4.68913605e-03],\n",
              "        [7.88621426e-01],\n",
              "        [9.97766972e-01],\n",
              "        [1.19407137e-04],\n",
              "        [6.07463648e-04],\n",
              "        [9.99745786e-01],\n",
              "        [9.99906898e-01],\n",
              "        [9.98183966e-01],\n",
              "        [3.82945277e-02],\n",
              "        [9.72078979e-01],\n",
              "        [9.98028040e-01],\n",
              "        [5.81028289e-04],\n",
              "        [2.31519254e-04],\n",
              "        [2.60016173e-02],\n",
              "        [7.83825200e-03],\n",
              "        [9.39476158e-05],\n",
              "        [2.69772299e-03],\n",
              "        [3.73880640e-02],\n",
              "        [1.15308700e-04],\n",
              "        [9.99745429e-01],\n",
              "        [9.99913633e-01],\n",
              "        [9.99916017e-01],\n",
              "        [2.31826736e-04],\n",
              "        [2.72857398e-01],\n",
              "        [1.97654106e-02],\n",
              "        [4.41320688e-02],\n",
              "        [9.97757792e-01],\n",
              "        [4.04040694e-01],\n",
              "        [6.52059534e-05],\n",
              "        [4.77346039e-04],\n",
              "        [2.29217185e-04],\n",
              "        [9.97560501e-01],\n",
              "        [1.31299326e-04],\n",
              "        [8.73987505e-04],\n",
              "        [3.62246617e-04],\n",
              "        [2.60405825e-04],\n",
              "        [9.73081216e-02],\n",
              "        [9.24707472e-01],\n",
              "        [1.09760210e-01],\n",
              "        [2.37795990e-04],\n",
              "        [5.87165996e-04],\n",
              "        [7.03208934e-05],\n",
              "        [9.99894857e-01],\n",
              "        [9.99556541e-01],\n",
              "        [6.25486255e-01],\n",
              "        [9.01520789e-01],\n",
              "        [9.32311523e-05],\n",
              "        [9.10846710e-01],\n",
              "        [9.99887347e-01],\n",
              "        [9.08373833e-01],\n",
              "        [9.36531723e-02],\n",
              "        [9.99571323e-01],\n",
              "        [3.44070583e-03],\n",
              "        [9.99903023e-01],\n",
              "        [2.98506464e-03],\n",
              "        [4.78570728e-04],\n",
              "        [1.40206590e-01],\n",
              "        [3.74249741e-02],\n",
              "        [9.99768913e-01],\n",
              "        [7.04463348e-02],\n",
              "        [3.51453054e-05],\n",
              "        [1.16045529e-04],\n",
              "        [4.04040694e-01],\n",
              "        [9.99976754e-01],\n",
              "        [4.06269137e-05],\n",
              "        [4.94592637e-01],\n",
              "        [9.99933422e-01],\n",
              "        [4.51209926e-05],\n",
              "        [9.99936044e-01],\n",
              "        [3.19813407e-04],\n",
              "        [2.73997756e-03],\n",
              "        [8.46684197e-05],\n",
              "        [9.99472499e-01],\n",
              "        [9.91293609e-01],\n",
              "        [4.09009750e-04],\n",
              "        [1.03279155e-04],\n",
              "        [9.84976053e-01],\n",
              "        [9.99852836e-01],\n",
              "        [6.64425373e-01],\n",
              "        [1.64656274e-04],\n",
              "        [5.31646982e-03],\n",
              "        [3.06449860e-01],\n",
              "        [1.82431642e-04],\n",
              "        [9.99922454e-01],\n",
              "        [3.00718814e-01],\n",
              "        [9.99925852e-01],\n",
              "        [9.99621034e-01],\n",
              "        [2.63586128e-03],\n",
              "        [7.13037848e-01],\n",
              "        [3.59573110e-04],\n",
              "        [9.99602377e-01],\n",
              "        [8.62680256e-01],\n",
              "        [7.43235707e-01],\n",
              "        [5.70345845e-04],\n",
              "        [7.74915842e-03],\n",
              "        [3.62356659e-04],\n",
              "        [6.83156250e-05],\n",
              "        [1.89319290e-02],\n",
              "        [2.78014876e-03],\n",
              "        [9.94661093e-01],\n",
              "        [2.11836467e-03],\n",
              "        [9.99937057e-01],\n",
              "        [9.99908328e-01],\n",
              "        [2.70273449e-04],\n",
              "        [7.86224008e-01],\n",
              "        [2.09940923e-03],\n",
              "        [2.75359955e-04],\n",
              "        [4.07459021e-01],\n",
              "        [9.94907916e-01],\n",
              "        [1.10842870e-03],\n",
              "        [2.82713715e-02],\n",
              "        [6.76246782e-05],\n",
              "        [7.07883434e-03],\n",
              "        [2.61827990e-05],\n",
              "        [9.99800324e-01],\n",
              "        [9.97759283e-01],\n",
              "        [9.99849141e-01],\n",
              "        [9.57295835e-01],\n",
              "        [8.66343737e-01],\n",
              "        [6.82219979e-04],\n",
              "        [6.68086504e-05],\n",
              "        [4.06514019e-01],\n",
              "        [9.99240279e-01],\n",
              "        [9.99871552e-01],\n",
              "        [1.17481708e-04],\n",
              "        [3.47646116e-03],\n",
              "        [2.65220209e-04],\n",
              "        [9.99884784e-01],\n",
              "        [9.99869287e-01],\n",
              "        [1.23487567e-04],\n",
              "        [2.84356009e-02],\n",
              "        [9.99947488e-01],\n",
              "        [3.87363345e-03],\n",
              "        [4.09681275e-02],\n",
              "        [9.97807741e-01],\n",
              "        [4.50461404e-04],\n",
              "        [2.38002380e-04],\n",
              "        [9.97243941e-01],\n",
              "        [4.21847284e-01],\n",
              "        [1.19656481e-01],\n",
              "        [9.99943733e-01],\n",
              "        [1.31644585e-04],\n",
              "        [3.95279494e-04],\n",
              "        [3.52091483e-05],\n",
              "        [1.12782436e-04],\n",
              "        [1.13342838e-04],\n",
              "        [9.99785006e-01],\n",
              "        [1.72536165e-04],\n",
              "        [7.16272056e-01],\n",
              "        [9.59441185e-01],\n",
              "        [1.05700977e-01],\n",
              "        [7.48851942e-03],\n",
              "        [4.20569595e-05],\n",
              "        [3.60972685e-04],\n",
              "        [9.99933064e-01],\n",
              "        [9.99806046e-01],\n",
              "        [6.01948355e-04],\n",
              "        [2.03560092e-04],\n",
              "        [1.51410961e-04],\n",
              "        [1.87782382e-04],\n",
              "        [9.99355912e-01],\n",
              "        [9.67401502e-05],\n",
              "        [9.98500347e-01],\n",
              "        [9.80346084e-01],\n",
              "        [2.35221252e-01],\n",
              "        [9.06060755e-01],\n",
              "        [4.20622900e-03],\n",
              "        [1.22036999e-02],\n",
              "        [4.46459599e-04],\n",
              "        [2.29258575e-02],\n",
              "        [8.42894375e-01],\n",
              "        [4.94018584e-01],\n",
              "        [2.21809015e-01],\n",
              "        [1.39030904e-04],\n",
              "        [5.37356646e-05],\n",
              "        [2.74100603e-04],\n",
              "        [1.08456472e-03],\n",
              "        [2.28681490e-02],\n",
              "        [1.64475337e-01],\n",
              "        [9.99897957e-01],\n",
              "        [9.99629974e-01],\n",
              "        [8.13422084e-01],\n",
              "        [9.99912083e-01],\n",
              "        [2.13934220e-02],\n",
              "        [4.24618600e-04],\n",
              "        [9.99353170e-01],\n",
              "        [8.24947655e-03],\n",
              "        [7.13662419e-04],\n",
              "        [2.16748953e-01],\n",
              "        [9.60077584e-01],\n",
              "        [6.75937918e-05],\n",
              "        [6.95141554e-01],\n",
              "        [9.03428197e-01],\n",
              "        [9.99368250e-01],\n",
              "        [9.99707580e-01],\n",
              "        [3.48567875e-04],\n",
              "        [5.87110370e-02],\n",
              "        [9.96592522e-01],\n",
              "        [5.36466796e-05],\n",
              "        [4.17377390e-02],\n",
              "        [9.21663269e-02],\n",
              "        [9.97812748e-01],\n",
              "        [9.75084245e-01],\n",
              "        [5.71127573e-04],\n",
              "        [2.46355194e-04],\n",
              "        [9.66239989e-01],\n",
              "        [5.18992369e-04],\n",
              "        [1.00371381e-03],\n",
              "        [8.95627745e-05],\n",
              "        [5.20649195e-01],\n",
              "        [9.99906301e-01],\n",
              "        [9.97780383e-01],\n",
              "        [5.87042829e-04],\n",
              "        [9.99879003e-01],\n",
              "        [9.99877512e-01],\n",
              "        [7.09917731e-05],\n",
              "        [9.99796271e-01],\n",
              "        [2.74674855e-02],\n",
              "        [9.50519204e-01],\n",
              "        [1.96642324e-01],\n",
              "        [7.31637236e-04],\n",
              "        [2.15219086e-04],\n",
              "        [1.59182295e-04],\n",
              "        [3.76596639e-04],\n",
              "        [9.37335717e-05],\n",
              "        [1.84604436e-01],\n",
              "        [1.81305560e-03],\n",
              "        [9.99836564e-01],\n",
              "        [2.81991059e-04],\n",
              "        [9.86225128e-01],\n",
              "        [1.61527634e-01],\n",
              "        [1.58351642e-04],\n",
              "        [1.06961081e-04],\n",
              "        [9.99924958e-01],\n",
              "        [8.48634518e-04],\n",
              "        [9.99791741e-01],\n",
              "        [3.51308584e-01],\n",
              "        [3.72896611e-04],\n",
              "        [1.12701677e-01],\n",
              "        [1.01405103e-03],\n",
              "        [1.31597921e-01],\n",
              "        [9.99877512e-01],\n",
              "        [9.47235749e-05],\n",
              "        [1.61892604e-04],\n",
              "        [1.61866676e-02],\n",
              "        [9.99883354e-01],\n",
              "        [4.35464131e-03],\n",
              "        [2.15608728e-04],\n",
              "        [9.93943572e-01],\n",
              "        [8.58898420e-05],\n",
              "        [1.73495166e-04],\n",
              "        [2.65915209e-04],\n",
              "        [2.96123683e-01],\n",
              "        [6.90880115e-04],\n",
              "        [3.38614672e-01],\n",
              "        [2.22719043e-01],\n",
              "        [5.98422659e-04],\n",
              "        [1.00131969e-04],\n",
              "        [1.17712930e-01],\n",
              "        [3.74330994e-05],\n",
              "        [9.99298930e-01],\n",
              "        [9.74066138e-01],\n",
              "        [6.44747615e-02],\n",
              "        [1.11618494e-04],\n",
              "        [5.02184441e-04],\n",
              "        [9.99851227e-01],\n",
              "        [9.77240622e-01],\n",
              "        [9.99960542e-01],\n",
              "        [4.14261594e-04],\n",
              "        [9.93977368e-01],\n",
              "        [2.85627932e-04],\n",
              "        [9.81343985e-01],\n",
              "        [9.10659552e-01],\n",
              "        [1.29120584e-04],\n",
              "        [9.99744713e-01],\n",
              "        [2.92322738e-03],\n",
              "        [9.88579810e-01],\n",
              "        [9.99940157e-01],\n",
              "        [2.31585442e-03],\n",
              "        [9.52344781e-05],\n",
              "        [4.80596751e-01],\n",
              "        [1.29612556e-04],\n",
              "        [5.91603294e-03],\n",
              "        [9.99820650e-01],\n",
              "        [3.93332690e-01],\n",
              "        [9.99432325e-01],\n",
              "        [1.05411880e-01],\n",
              "        [9.99768853e-01],\n",
              "        [9.84285414e-01],\n",
              "        [4.09061275e-02],\n",
              "        [1.03394435e-04],\n",
              "        [9.94292796e-01],\n",
              "        [9.15267228e-05],\n",
              "        [2.56448686e-01],\n",
              "        [9.99876022e-01],\n",
              "        [9.96336818e-01],\n",
              "        [9.99912798e-01],\n",
              "        [9.99711931e-01],\n",
              "        [9.46919695e-02],\n",
              "        [9.74896491e-01],\n",
              "        [1.03352446e-04],\n",
              "        [4.67397362e-01],\n",
              "        [9.96808290e-01],\n",
              "        [9.99707699e-01],\n",
              "        [1.40569900e-04],\n",
              "        [9.96586144e-01],\n",
              "        [9.99814749e-01],\n",
              "        [3.64478840e-03],\n",
              "        [1.63180055e-03],\n",
              "        [2.21809015e-01],\n",
              "        [3.00928950e-04],\n",
              "        [9.45560157e-01],\n",
              "        [9.97812510e-01],\n",
              "        [9.99845207e-01],\n",
              "        [2.84872163e-04],\n",
              "        [1.18515876e-04],\n",
              "        [1.29047839e-04],\n",
              "        [2.38869384e-01],\n",
              "        [1.29005099e-02],\n",
              "        [6.53026300e-03],\n",
              "        [9.84041154e-01],\n",
              "        [8.20777423e-05],\n",
              "        [1.75137848e-01],\n",
              "        [1.47756306e-03],\n",
              "        [2.91830744e-03],\n",
              "        [9.99643624e-01],\n",
              "        [8.24229210e-04],\n",
              "        [9.53331470e-01],\n",
              "        [7.33882945e-04],\n",
              "        [4.12316222e-05],\n",
              "        [1.62578828e-04],\n",
              "        [9.99919534e-01],\n",
              "        [4.65063930e-01],\n",
              "        [1.19679011e-04],\n",
              "        [1.71772018e-01],\n",
              "        [5.48480339e-02],\n",
              "        [8.23884329e-05],\n",
              "        [9.99709427e-01],\n",
              "        [3.30062700e-04],\n",
              "        [5.82849503e-01],\n",
              "        [1.24989793e-01],\n",
              "        [2.59678869e-04],\n",
              "        [5.32105744e-01],\n",
              "        [2.93036371e-01],\n",
              "        [6.11911935e-04],\n",
              "        [9.96547282e-01],\n",
              "        [7.50096366e-02],\n",
              "        [6.67517722e-01],\n",
              "        [9.99885142e-01],\n",
              "        [4.62630361e-01],\n",
              "        [2.59274006e-01],\n",
              "        [6.75937918e-05],\n",
              "        [3.35555166e-01],\n",
              "        [8.05776042e-04],\n",
              "        [9.99936044e-01],\n",
              "        [3.19296479e-01],\n",
              "        [7.60380412e-04],\n",
              "        [9.99903858e-01],\n",
              "        [3.20940286e-01],\n",
              "        [9.99680400e-01],\n",
              "        [3.20940286e-01],\n",
              "        [9.99898851e-01],\n",
              "        [5.97011276e-05],\n",
              "        [5.25870454e-03],\n",
              "        [9.55965224e-05],\n",
              "        [9.99914050e-01],\n",
              "        [4.16978583e-04],\n",
              "        [3.15669167e-04],\n",
              "        [1.34721573e-04],\n",
              "        [2.28806224e-04],\n",
              "        [1.33466849e-03],\n",
              "        [2.88115698e-04],\n",
              "        [3.70116904e-02],\n",
              "        [1.61310760e-04],\n",
              "        [4.94720181e-04],\n",
              "        [9.97226000e-01],\n",
              "        [1.20910874e-03],\n",
              "        [7.20942672e-03],\n",
              "        [2.10121769e-04],\n",
              "        [7.77023524e-05],\n",
              "        [4.23525982e-02],\n",
              "        [9.83451664e-01],\n",
              "        [1.40025292e-03],\n",
              "        [6.32169610e-03],\n",
              "        [5.34137886e-04],\n",
              "        [9.96673167e-01],\n",
              "        [9.99786377e-01],\n",
              "        [8.33530867e-05],\n",
              "        [1.16520336e-04],\n",
              "        [1.16144074e-04],\n",
              "        [3.05310714e-05],\n",
              "        [9.99876320e-01],\n",
              "        [7.77023524e-05],\n",
              "        [1.27985771e-03],\n",
              "        [9.99428153e-01],\n",
              "        [9.99872446e-01],\n",
              "        [9.99865234e-01],\n",
              "        [9.99963343e-01],\n",
              "        [9.99985576e-01],\n",
              "        [4.56648617e-04],\n",
              "        [3.28784809e-04],\n",
              "        [5.23205437e-02],\n",
              "        [8.82039428e-01],\n",
              "        [9.99894798e-01],\n",
              "        [9.61925864e-01],\n",
              "        [2.86625815e-04],\n",
              "        [9.86509323e-01],\n",
              "        [5.61972558e-01],\n",
              "        [6.48672067e-05],\n",
              "        [1.13353221e-04],\n",
              "        [9.33405757e-03],\n",
              "        [1.61127921e-03],\n",
              "        [7.55226793e-05],\n",
              "        [1.11949234e-03],\n",
              "        [9.59583461e-01],\n",
              "        [9.99944329e-01],\n",
              "        [2.27189114e-04],\n",
              "        [9.99844670e-01],\n",
              "        [2.87139803e-01],\n",
              "        [2.61659943e-03],\n",
              "        [2.25466141e-03],\n",
              "        [3.15784290e-02],\n",
              "        [7.95632958e-01],\n",
              "        [1.43491232e-03],\n",
              "        [9.00286686e-05]], dtype=float32),\n",
              " (762, 1))"
            ]
          },
          "metadata": {},
          "execution_count": 67
        }
      ]
    },
    {
      "cell_type": "code",
      "source": [
        "model_3_pred_probs = tf.squeeze(tf.round(model_3_preds_probs))\n",
        "model_3_pred_probs"
      ],
      "metadata": {
        "colab": {
          "base_uri": "https://localhost:8080/"
        },
        "id": "PncbU2fbEqqj",
        "outputId": "a73eb624-ccde-4b21-ec65-8db8ffdcd6c0"
      },
      "execution_count": 68,
      "outputs": [
        {
          "output_type": "execute_result",
          "data": {
            "text/plain": [
              "<tf.Tensor: shape=(762,), dtype=float32, numpy=\n",
              "array([0., 1., 1., 0., 0., 1., 0., 1., 1., 1., 0., 1., 0., 0., 0., 0., 0.,\n",
              "       0., 0., 1., 1., 0., 1., 0., 1., 1., 0., 0., 0., 0., 1., 0., 0., 0.,\n",
              "       0., 0., 1., 0., 0., 1., 0., 0., 0., 0., 1., 1., 1., 1., 0., 0., 0.,\n",
              "       0., 0., 0., 1., 0., 0., 1., 0., 0., 0., 1., 1., 0., 1., 1., 1., 0.,\n",
              "       1., 0., 0., 0., 1., 0., 1., 1., 0., 1., 0., 0., 0., 0., 1., 0., 0.,\n",
              "       0., 0., 0., 0., 1., 1., 0., 1., 0., 1., 1., 1., 1., 1., 1., 1., 0.,\n",
              "       0., 1., 1., 0., 1., 1., 0., 1., 1., 0., 0., 0., 0., 0., 1., 1., 0.,\n",
              "       0., 1., 0., 0., 1., 0., 0., 1., 0., 0., 1., 0., 1., 1., 1., 1., 0.,\n",
              "       1., 0., 0., 0., 1., 1., 0., 1., 0., 0., 0., 0., 0., 1., 0., 0., 0.,\n",
              "       0., 0., 1., 1., 0., 1., 0., 1., 0., 0., 1., 0., 0., 1., 0., 1., 1.,\n",
              "       1., 1., 1., 0., 1., 0., 0., 0., 1., 1., 0., 1., 1., 1., 1., 0., 0.,\n",
              "       1., 0., 0., 0., 1., 0., 0., 0., 0., 0., 0., 1., 0., 0., 1., 1., 0.,\n",
              "       0., 1., 1., 1., 1., 1., 0., 1., 0., 0., 0., 0., 1., 1., 1., 0., 0.,\n",
              "       0., 0., 0., 1., 0., 0., 1., 1., 1., 0., 0., 1., 0., 1., 0., 0., 0.,\n",
              "       0., 0., 1., 0., 1., 1., 0., 0., 1., 0., 0., 0., 0., 1., 0., 0., 1.,\n",
              "       0., 1., 1., 0., 0., 0., 0., 0., 1., 1., 0., 1., 0., 0., 0., 0., 0.,\n",
              "       1., 0., 0., 1., 0., 0., 1., 0., 0., 0., 1., 1., 1., 0., 1., 0., 1.,\n",
              "       0., 1., 1., 1., 0., 0., 0., 0., 0., 0., 0., 0., 0., 0., 1., 0., 0.,\n",
              "       0., 0., 0., 0., 0., 1., 0., 0., 1., 0., 1., 0., 0., 0., 0., 0., 1.,\n",
              "       0., 1., 0., 0., 1., 0., 1., 0., 0., 1., 0., 0., 1., 0., 0., 1., 1.,\n",
              "       0., 0., 1., 1., 1., 0., 1., 1., 0., 0., 0., 0., 0., 0., 0., 0., 1.,\n",
              "       1., 1., 0., 0., 0., 0., 1., 0., 0., 0., 0., 1., 0., 0., 0., 0., 0.,\n",
              "       1., 0., 0., 0., 0., 1., 1., 1., 1., 0., 1., 1., 1., 0., 1., 0., 1.,\n",
              "       0., 0., 0., 0., 1., 0., 0., 0., 0., 1., 0., 0., 1., 0., 1., 0., 0.,\n",
              "       0., 1., 1., 0., 0., 1., 1., 1., 0., 0., 0., 0., 1., 0., 1., 1., 0.,\n",
              "       1., 0., 1., 1., 1., 0., 0., 0., 0., 0., 0., 1., 0., 1., 1., 0., 1.,\n",
              "       0., 0., 0., 1., 0., 0., 0., 0., 0., 1., 1., 1., 1., 1., 0., 0., 0.,\n",
              "       1., 1., 0., 0., 0., 1., 1., 0., 0., 1., 0., 0., 1., 0., 0., 1., 0.,\n",
              "       0., 1., 0., 0., 0., 0., 0., 1., 0., 1., 1., 0., 0., 0., 0., 1., 1.,\n",
              "       0., 0., 0., 0., 1., 0., 1., 1., 0., 1., 0., 0., 0., 0., 1., 0., 0.,\n",
              "       0., 0., 0., 0., 0., 0., 1., 1., 1., 1., 0., 0., 1., 0., 0., 0., 1.,\n",
              "       0., 1., 1., 1., 1., 0., 0., 1., 0., 0., 0., 1., 1., 0., 0., 1., 0.,\n",
              "       0., 0., 1., 1., 1., 0., 1., 1., 0., 1., 0., 1., 0., 0., 0., 0., 0.,\n",
              "       0., 0., 0., 1., 0., 1., 0., 0., 0., 1., 0., 1., 0., 0., 0., 0., 0.,\n",
              "       1., 0., 0., 0., 1., 0., 0., 1., 0., 0., 0., 0., 0., 0., 0., 0., 0.,\n",
              "       0., 0., 1., 1., 0., 0., 0., 1., 1., 1., 0., 1., 0., 1., 1., 0., 1.,\n",
              "       0., 1., 1., 0., 0., 0., 0., 0., 1., 0., 1., 0., 1., 1., 0., 0., 1.,\n",
              "       0., 0., 1., 1., 1., 1., 0., 1., 0., 0., 1., 1., 0., 1., 1., 0., 0.,\n",
              "       0., 0., 1., 1., 1., 0., 0., 0., 0., 0., 0., 1., 0., 0., 0., 0., 1.,\n",
              "       0., 1., 0., 0., 0., 1., 0., 0., 0., 0., 0., 1., 0., 1., 0., 0., 1.,\n",
              "       0., 0., 1., 0., 1., 1., 0., 0., 0., 0., 0., 1., 0., 0., 1., 0., 1.,\n",
              "       0., 1., 0., 0., 0., 1., 0., 0., 0., 0., 0., 0., 0., 0., 0., 1., 0.,\n",
              "       0., 0., 0., 0., 1., 0., 0., 0., 1., 1., 0., 0., 0., 0., 1., 0., 0.,\n",
              "       1., 1., 1., 1., 1., 0., 0., 0., 1., 1., 1., 0., 1., 1., 0., 0., 0.,\n",
              "       0., 0., 0., 1., 1., 0., 1., 0., 0., 0., 0., 1., 0., 0.],\n",
              "      dtype=float32)>"
            ]
          },
          "metadata": {},
          "execution_count": 68
        }
      ]
    },
    {
      "cell_type": "code",
      "source": [
        "model_3_results = calculate_results(y_true = val_labels ,\n",
        "                                    y_pred = model_3_pred_probs\n",
        "                                    )\n",
        "model_3_results"
      ],
      "metadata": {
        "colab": {
          "base_uri": "https://localhost:8080/"
        },
        "id": "RdP0wj0mFCZT",
        "outputId": "15354db1-eaec-4f3d-a5c0-d4866b49f4db"
      },
      "execution_count": 69,
      "outputs": [
        {
          "output_type": "execute_result",
          "data": {
            "text/plain": [
              "{'accuracy': 0.7677165354330708,\n",
              " 'precision': 0.7712255031085189,\n",
              " 'recall': 0.7677165354330708,\n",
              " 'f1-score': 0.7646846187166754}"
            ]
          },
          "metadata": {},
          "execution_count": 69
        }
      ]
    },
    {
      "cell_type": "code",
      "source": [],
      "metadata": {
        "id": "_sxqrsvSFMwg"
      },
      "execution_count": null,
      "outputs": []
    }
  ]
}
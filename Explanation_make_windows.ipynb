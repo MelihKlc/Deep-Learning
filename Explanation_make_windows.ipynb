{
  "nbformat": 4,
  "nbformat_minor": 0,
  "metadata": {
    "colab": {
      "provenance": [],
      "authorship_tag": "ABX9TyPB76c1MWitbVPY12ICBahQ",
      "include_colab_link": true
    },
    "kernelspec": {
      "name": "python3",
      "display_name": "Python 3"
    },
    "language_info": {
      "name": "python"
    }
  },
  "cells": [
    {
      "cell_type": "markdown",
      "metadata": {
        "id": "view-in-github",
        "colab_type": "text"
      },
      "source": [
        "<a href=\"https://colab.research.google.com/github/MelihKlc/Deep-Learning/blob/main/Explanation_make_windows.ipynb\" target=\"_parent\"><img src=\"https://colab.research.google.com/assets/colab-badge.svg\" alt=\"Open In Colab\"/></a>"
      ]
    },
    {
      "cell_type": "code",
      "execution_count": 1,
      "metadata": {
        "id": "Z0Q39Upj3wB6"
      },
      "outputs": [],
      "source": [
        "import numpy as np"
      ]
    },
    {
      "cell_type": "code",
      "source": [
        "window_step = np.expand_dims(np.arange(7 + 1) , axis = 0)   # window_size + horizon kadar 0 dan başlayan liste oluşturur.\n",
        "# 2. Create a 2D array of multiple window steps ( minus 1 to account for 0 indexing)\n",
        "window_indexes = 8 + np.expand_dims(np.arange(2787 - (7 + 1 - 1)) , axis = 0).T"
      ],
      "metadata": {
        "id": "vQta21vH3xSt"
      },
      "execution_count": 4,
      "outputs": []
    },
    {
      "cell_type": "code",
      "source": [
        "[[ 0 , 1 , 2 , 3 , 4 , 5 , 6 , 7]] + np.expand_dims(np.arange(2787 - (7 + 1 - 1)) , axis = 0).T"
      ],
      "metadata": {
        "colab": {
          "base_uri": "https://localhost:8080/"
        },
        "id": "oWAKgxZ44DjS",
        "outputId": "fc5844a4-5518-4f1f-83d7-668881f1ea5e"
      },
      "execution_count": 6,
      "outputs": [
        {
          "output_type": "execute_result",
          "data": {
            "text/plain": [
              "array([[   0,    1,    2, ...,    5,    6,    7],\n",
              "       [   1,    2,    3, ...,    6,    7,    8],\n",
              "       [   2,    3,    4, ...,    7,    8,    9],\n",
              "       ...,\n",
              "       [2777, 2778, 2779, ..., 2782, 2783, 2784],\n",
              "       [2778, 2779, 2780, ..., 2783, 2784, 2785],\n",
              "       [2779, 2780, 2781, ..., 2784, 2785, 2786]])"
            ]
          },
          "metadata": {},
          "execution_count": 6
        }
      ]
    },
    {
      "cell_type": "code",
      "source": [
        "np.expand_dims(np.arange(2787 - (7 + 1 - 1)) , axis = 0).T"
      ],
      "metadata": {
        "colab": {
          "base_uri": "https://localhost:8080/"
        },
        "id": "D3kc4goe4_h2",
        "outputId": "f509b15d-9a0e-42c0-f01a-68e9aef6d80c"
      },
      "execution_count": 10,
      "outputs": [
        {
          "output_type": "execute_result",
          "data": {
            "text/plain": [
              "array([[   0],\n",
              "       [   1],\n",
              "       [   2],\n",
              "       ...,\n",
              "       [2777],\n",
              "       [2778],\n",
              "       [2779]])"
            ]
          },
          "metadata": {},
          "execution_count": 10
        }
      ]
    },
    {
      "cell_type": "code",
      "source": [],
      "metadata": {
        "id": "PHDcfWmj5JxX"
      },
      "execution_count": null,
      "outputs": []
    }
  ]
}
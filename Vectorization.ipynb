{
  "nbformat": 4,
  "nbformat_minor": 0,
  "metadata": {
    "colab": {
      "provenance": [],
      "authorship_tag": "ABX9TyPd7ASB8mnc5yfq3pj1vARB",
      "include_colab_link": true
    },
    "kernelspec": {
      "name": "python3",
      "display_name": "Python 3"
    },
    "language_info": {
      "name": "python"
    }
  },
  "cells": [
    {
      "cell_type": "markdown",
      "metadata": {
        "id": "view-in-github",
        "colab_type": "text"
      },
      "source": [
        "<a href=\"https://colab.research.google.com/github/MelihKlc/Deep-Learning/blob/main/Vectorization.ipynb\" target=\"_parent\"><img src=\"https://colab.research.google.com/assets/colab-badge.svg\" alt=\"Open In Colab\"/></a>"
      ]
    },
    {
      "cell_type": "markdown",
      "source": [
        "# Now we will see how vectorized form beat the for loop method"
      ],
      "metadata": {
        "id": "gx0d_Abl5mmD"
      }
    },
    {
      "cell_type": "code",
      "execution_count": 2,
      "metadata": {
        "colab": {
          "base_uri": "https://localhost:8080/"
        },
        "id": "sISAWLct2-NT",
        "outputId": "bf3e131a-84e8-425d-8a41-16a50ae21ed8"
      },
      "outputs": [
        {
          "output_type": "stream",
          "name": "stdout",
          "text": [
            "[1 2 3 4]\n"
          ]
        }
      ],
      "source": [
        "import numpy as np\n",
        "a = np.array(\n",
        "    [\n",
        "        1,2,3,4\n",
        "    ]\n",
        ")\n",
        "print(a)"
      ]
    },
    {
      "cell_type": "code",
      "source": [
        "import time\n",
        "# With vectorized form\n",
        "a = np.random.rand(1000000)\n",
        "b = np.random.rand(1000000)\n",
        "\n",
        "tic = time.time()\n",
        "c = np.dot( a , b )\n",
        "toc = time.time()\n",
        "\n",
        "print(c)\n",
        "print(\"Vectorized form : \" + str(1000 *(toc-tic)) + \"ms\" )\n",
        "\n",
        "# With for loop\n",
        "c = 0\n",
        "tic = time.time()\n",
        "for i in range(1000000):\n",
        "  c += a[i] * b[i]\n",
        "toc = time.time()\n",
        "\n",
        "print(c)\n",
        "print(\"For loop: \" + str(1000 * ( toc - tic) ) + \"ms\")\n",
        "\n"
      ],
      "metadata": {
        "colab": {
          "base_uri": "https://localhost:8080/"
        },
        "id": "o2lX7umm3rIH",
        "outputId": "2b5c8251-f308-4a1f-87b7-43f8a270a168"
      },
      "execution_count": 4,
      "outputs": [
        {
          "output_type": "stream",
          "name": "stdout",
          "text": [
            "249877.82002642186\n",
            "Vectorized form : 1.5816688537597656ms\n",
            "249877.8200264111\n",
            "For loop: 785.858154296875ms\n"
          ]
        }
      ]
    },
    {
      "cell_type": "code",
      "source": [],
      "metadata": {
        "id": "Pz3kJtB05gzF"
      },
      "execution_count": null,
      "outputs": []
    }
  ]
}
{
  "nbformat": 4,
  "nbformat_minor": 0,
  "metadata": {
    "colab": {
      "provenance": [],
      "gpuType": "T4",
      "authorship_tag": "ABX9TyNdX8hewaeHoGEVjV+lC7L8",
      "include_colab_link": true
    },
    "kernelspec": {
      "name": "python3",
      "display_name": "Python 3"
    },
    "language_info": {
      "name": "python"
    },
    "accelerator": "GPU"
  },
  "cells": [
    {
      "cell_type": "markdown",
      "metadata": {
        "id": "view-in-github",
        "colab_type": "text"
      },
      "source": [
        "<a href=\"https://colab.research.google.com/github/MelihKlc/Deep-Learning/blob/main/Milestone_Project_SkimLit.ipynb\" target=\"_parent\"><img src=\"https://colab.research.google.com/assets/colab-badge.svg\" alt=\"Open In Colab\"/></a>"
      ]
    },
    {
      "cell_type": "markdown",
      "source": [
        "# The purpose of this notebook is to build an NLP model to make reading medical abstracts easier."
      ],
      "metadata": {
        "id": "AUHdZq9wiBPm"
      }
    },
    {
      "cell_type": "markdown",
      "source": [
        "# Get data\n",
        "\n",
        "Since we will be replicating the paper above (PubMed 200k RCT) , lets download the dataset they used.\n",
        "\n",
        "We can do so from the authors GitHub: https://github.com/Franck-Dernoncourt/pubmed-rct"
      ],
      "metadata": {
        "id": "HRu6KJq9uMLh"
      }
    },
    {
      "cell_type": "code",
      "source": [
        "!git clone https://github.com/Franck-Dernoncourt/pubmed-rct  # Githubdan data cekerken git clone kullanıyoruz\n",
        "\n",
        "!ls pubmed-rct"
      ],
      "metadata": {
        "colab": {
          "base_uri": "https://localhost:8080/"
        },
        "id": "kQpgQmAfu-ln",
        "outputId": "9387537e-50b8-4fd7-d607-05b3006299c1"
      },
      "execution_count": 1,
      "outputs": [
        {
          "output_type": "stream",
          "name": "stdout",
          "text": [
            "Cloning into 'pubmed-rct'...\n",
            "remote: Enumerating objects: 33, done.\u001b[K\n",
            "remote: Counting objects: 100% (8/8), done.\u001b[K\n",
            "remote: Compressing objects: 100% (3/3), done.\u001b[K\n",
            "remote: Total 33 (delta 5), reused 5 (delta 5), pack-reused 25\u001b[K\n",
            "Receiving objects: 100% (33/33), 177.08 MiB | 23.75 MiB/s, done.\n",
            "Resolving deltas: 100% (12/12), done.\n",
            "Updating files: 100% (13/13), done.\n",
            "PubMed_200k_RCT\n",
            "PubMed_200k_RCT_numbers_replaced_with_at_sign\n",
            "PubMed_20k_RCT\n",
            "PubMed_20k_RCT_numbers_replaced_with_at_sign\n",
            "README.md\n"
          ]
        }
      ]
    },
    {
      "cell_type": "code",
      "source": [
        "# 20K dataset koymalarının sebebi önce kücük datasette calısıp sonrasında upscale etmek. (%10 of original dataset)\n",
        "# Check the files are in the PubMed_20k_ dataset\n",
        "# Dev.txt aslında validation set için konulan başka bir isim\n",
        "!ls pubmed-rct/PubMed_20k_RCT_numbers_replaced_with_at_sign/\n",
        "!ls pubmed-rct/PubMed_20k_RCT/   # Burda sayılar yerine @ konulmus sekilde geliyo datasetimiz. Aslında preprocess edilmis oluyo bir kısmı."
      ],
      "metadata": {
        "colab": {
          "base_uri": "https://localhost:8080/"
        },
        "id": "ikUSsoCbvChR",
        "outputId": "3e276c79-adee-403b-ee84-c88288e8acac"
      },
      "execution_count": 2,
      "outputs": [
        {
          "output_type": "stream",
          "name": "stdout",
          "text": [
            "dev.txt  test.txt  train.txt\n",
            "dev.txt  test.txt  train.txt\n"
          ]
        }
      ]
    },
    {
      "cell_type": "code",
      "source": [
        "# Start our experiments using the 20K dataset with number replaced by \"@\" sign\n",
        "\n",
        "data_dir = \"/content/pubmed-rct/PubMed_20k_RCT_numbers_replaced_with_at_sign/\""
      ],
      "metadata": {
        "id": "8GXRBkotwc1q"
      },
      "execution_count": 3,
      "outputs": []
    },
    {
      "cell_type": "code",
      "source": [
        "# Check all of the filenames in the target directory.\n",
        "import os\n",
        "\n",
        "filenames = [ data_dir + filename for filename in os.listdir(data_dir) ]\n",
        "filenames\n",
        "\n",
        "#for döngüsünden sonra gelen filename, her bir döngü iterasyonunda listenin içindeki dosya ve dizin adlarını temsil eden bir değişkendir. Yani her döngü adımında filename değişkeni, listenin içindeki sıradaki dosya veya dizin adını alır.\n",
        "\n",
        "#Örneğin, eğer os.listdir(data_dir) çağrısıyla data_dir dizininde bulunan dosya ve dizin adları şunlar ise: ['dosya1.txt', 'dosya2.txt', 'alt_dizin']\n",
        "\n",
        "#for filename in os.listdir(data_dir) ifadesi döngüye başladığında filename şu değerleri alacaktır:\n",
        "\n",
        "#İterasyon 1: filename = 'dosya1.txt'\n",
        "#İterasyon 2: filename = 'dosya2.txt'\n",
        "#İterasyon 3: filename = 'alt_dizin'"
      ],
      "metadata": {
        "colab": {
          "base_uri": "https://localhost:8080/"
        },
        "id": "dWq9Y5KFy73z",
        "outputId": "0a2fdafd-af67-4916-b1b5-c5943d12dfbc"
      },
      "execution_count": 4,
      "outputs": [
        {
          "output_type": "execute_result",
          "data": {
            "text/plain": [
              "['/content/pubmed-rct/PubMed_20k_RCT_numbers_replaced_with_at_sign/train.txt',\n",
              " '/content/pubmed-rct/PubMed_20k_RCT_numbers_replaced_with_at_sign/dev.txt',\n",
              " '/content/pubmed-rct/PubMed_20k_RCT_numbers_replaced_with_at_sign/test.txt']"
            ]
          },
          "metadata": {},
          "execution_count": 4
        }
      ]
    },
    {
      "cell_type": "markdown",
      "source": [
        "# Preprocess data\n",
        "\n",
        "Now we have got some text data , it is time to become one with it.\n",
        "\n",
        "And one of the best ways to become one with the data is to..\n",
        "\n",
        "> Visualize\n",
        "\n",
        "So with that in mind , lets write a function to read in all of the lines of a target text file"
      ],
      "metadata": {
        "id": "pCggJBx9zJNi"
      }
    },
    {
      "cell_type": "code",
      "source": [
        "# Create a function to read the lines of a document\n",
        "def get_lines(filename):\n",
        "  \"\"\"\n",
        "  Reads filename (a text filename) and returns the lines of text as a list\n",
        "\n",
        "  Args:\n",
        "    filename: a string containing the target filepath.\n",
        "\n",
        "  Returns:\n",
        "    A list of strings with one string per line from the target filename.\n",
        "  \"\"\"\n",
        "  # r means read and f means file. Open this file(filename) and save it as f\n",
        "  with open(filename , \"r\") as f:\n",
        "    return f.readlines()  # This reads the remaining lines from the file object and returns them as a list.\n"
      ],
      "metadata": {
        "id": "BYD-tylq3JTJ"
      },
      "execution_count": 5,
      "outputs": []
    },
    {
      "cell_type": "code",
      "source": [
        "# Lets read in the training lines\n",
        "\n",
        "train_lines = get_lines(data_dir + \"train.txt\" )\n",
        "train_lines[ : 27 ]"
      ],
      "metadata": {
        "colab": {
          "base_uri": "https://localhost:8080/"
        },
        "id": "mY3mI6ZX4-Yc",
        "outputId": "e1105550-4720-46fe-e9dd-70918ac19f42"
      },
      "execution_count": 6,
      "outputs": [
        {
          "output_type": "execute_result",
          "data": {
            "text/plain": [
              "['###24293578\\n',\n",
              " 'OBJECTIVE\\tTo investigate the efficacy of @ weeks of daily low-dose oral prednisolone in improving pain , mobility , and systemic low-grade inflammation in the short term and whether the effect would be sustained at @ weeks in older adults with moderate to severe knee osteoarthritis ( OA ) .\\n',\n",
              " 'METHODS\\tA total of @ patients with primary knee OA were randomized @:@ ; @ received @ mg/day of prednisolone and @ received placebo for @ weeks .\\n',\n",
              " 'METHODS\\tOutcome measures included pain reduction and improvement in function scores and systemic inflammation markers .\\n',\n",
              " 'METHODS\\tPain was assessed using the visual analog pain scale ( @-@ mm ) .\\n',\n",
              " 'METHODS\\tSecondary outcome measures included the Western Ontario and McMaster Universities Osteoarthritis Index scores , patient global assessment ( PGA ) of the severity of knee OA , and @-min walk distance ( @MWD ) .\\n',\n",
              " 'METHODS\\tSerum levels of interleukin @ ( IL-@ ) , IL-@ , tumor necrosis factor ( TNF ) - , and high-sensitivity C-reactive protein ( hsCRP ) were measured .\\n',\n",
              " 'RESULTS\\tThere was a clinically relevant reduction in the intervention group compared to the placebo group for knee pain , physical function , PGA , and @MWD at @ weeks .\\n',\n",
              " 'RESULTS\\tThe mean difference between treatment arms ( @ % CI ) was @ ( @-@ @ ) , p < @ ; @ ( @-@ @ ) , p < @ ; @ ( @-@ @ ) , p < @ ; and @ ( @-@ @ ) , p < @ , respectively .\\n',\n",
              " 'RESULTS\\tFurther , there was a clinically relevant reduction in the serum levels of IL-@ , IL-@ , TNF - , and hsCRP at @ weeks in the intervention group when compared to the placebo group .\\n',\n",
              " 'RESULTS\\tThese differences remained significant at @ weeks .\\n',\n",
              " 'RESULTS\\tThe Outcome Measures in Rheumatology Clinical Trials-Osteoarthritis Research Society International responder rate was @ % in the intervention group and @ % in the placebo group ( p < @ ) .\\n',\n",
              " 'CONCLUSIONS\\tLow-dose oral prednisolone had both a short-term and a longer sustained effect resulting in less knee pain , better physical function , and attenuation of systemic inflammation in older patients with knee OA ( ClinicalTrials.gov identifier NCT@ ) .\\n',\n",
              " '\\n',\n",
              " '###24854809\\n',\n",
              " 'BACKGROUND\\tEmotional eating is associated with overeating and the development of obesity .\\n',\n",
              " 'BACKGROUND\\tYet , empirical evidence for individual ( trait ) differences in emotional eating and cognitive mechanisms that contribute to eating during sad mood remain equivocal .\\n',\n",
              " 'OBJECTIVE\\tThe aim of this study was to test if attention bias for food moderates the effect of self-reported emotional eating during sad mood ( vs neutral mood ) on actual food intake .\\n',\n",
              " 'OBJECTIVE\\tIt was expected that emotional eating is predictive of elevated attention for food and higher food intake after an experimentally induced sad mood and that attentional maintenance on food predicts food intake during a sad versus a neutral mood .\\n',\n",
              " 'METHODS\\tParticipants ( N = @ ) were randomly assigned to one of the two experimental mood induction conditions ( sad/neutral ) .\\n',\n",
              " 'METHODS\\tAttentional biases for high caloric foods were measured by eye tracking during a visual probe task with pictorial food and neutral stimuli .\\n',\n",
              " 'METHODS\\tSelf-reported emotional eating was assessed with the Dutch Eating Behavior Questionnaire ( DEBQ ) and ad libitum food intake was tested by a disguised food offer .\\n',\n",
              " 'RESULTS\\tHierarchical multivariate regression modeling showed that self-reported emotional eating did not account for changes in attention allocation for food or food intake in either condition .\\n',\n",
              " 'RESULTS\\tYet , attention maintenance on food cues was significantly related to increased intake specifically in the neutral condition , but not in the sad mood condition .\\n',\n",
              " 'CONCLUSIONS\\tThe current findings show that self-reported emotional eating ( based on the DEBQ ) might not validly predict who overeats when sad , at least not in a laboratory setting with healthy women .\\n',\n",
              " 'CONCLUSIONS\\tResults further suggest that attention maintenance on food relates to eating motivation when in a neutral affective state , and might therefore be a cognitive mechanism contributing to increased food intake in general , but maybe not during sad mood .\\n',\n",
              " '\\n']"
            ]
          },
          "metadata": {},
          "execution_count": 6
        }
      ]
    },
    {
      "cell_type": "markdown",
      "source": [
        "Lets think about how we want out data to look..\n",
        "\n",
        "How i think our data would be best represented..\n",
        "\n",
        "We will represent our data with dictionary\n",
        "\n",
        "Emotional eatingle baslayan yeri kullanıyoruz.\n",
        "\n",
        "'  [ {  ' line_number ' : 0  ,\n",
        "' target ' : ' BACKGROUND ' ,\n",
        "' text ' : \"BACKGROUND\\tEmotional eating is associated with overeating and the development of obesity .\\n\" ,\n",
        "' total_lines ' : 11  (sentence in our special abstract) }]  '\n",
        "\n",
        "Bizim datamızda order önemli çünkü conclusion cümlesinin başta olması saçma olur bu yüzden ordera dikkat edeceğiz.\n",
        "\n",
        "Bunu bitirdiğimizde liste içinde 11 dictionarymiz olması gerek.\n",
        "\n",
        "Niye bunu kullanıyoruz? Çünkü pythonda kendi data structure ımızı oluşturmak çok önemli şu an datamızda bir structure yok bu yüzden biz bunu list of dictionaries structure ına çevireceğiz.\n",
        "\n"
      ],
      "metadata": {
        "id": "8q8kcAmC5THw"
      }
    },
    {
      "cell_type": "markdown",
      "source": [
        "# Lets write a function which turns each of our datasets into the above format so we can continue to prepare"
      ],
      "metadata": {
        "id": "GF7kFhYP-YY2"
      }
    },
    {
      "cell_type": "code",
      "source": [
        "def preprocess_text_with_line_numbers(filename):\n",
        "  \"\"\"\n",
        "  Returns a list of dictionaries of abstarct line data.\n",
        "\n",
        "  Takes in filename , reads in contents and sorts through each line ,\n",
        "  extracting things like the target label , the text of the sentence ,\n",
        "  how many sentences are in the current abstract and what sentence number\n",
        "  the target line is.\n",
        "  \"\"\"\n",
        "  input_lines = get_lines(filename) # get all lines from filename\n",
        "  abstract_lines = \"\" # create an empty abstract. abstractlar \\n ile ayrıldıgı icin biz de burda abstractları ayırıyoruz.\n",
        "  abstract_samples = [] # Create an empty list of abstracts\n",
        "\n",
        "  # Loop through each line in the target file\n",
        "  for line in input_lines:\n",
        "    if line.startswith(\"###\"):  # Check to see if the line is an ID line. Bu methodla ### ile başlayan line gelirse yi test ediyoruz.\n",
        "      abstract_id = line\n",
        "      abstract_lines = \"\"   # Reset the abstract string if the line is an ID line. Yani id line geldiginde abstractımızı resetleyip basta yaptıgımız isleme dönüyoruz.\n",
        "    elif line.isspace():  # Check to see if line is a new line. Artık buraya geldiğimizde abstractları ayırdık. Simdi de abstract içindeki cümleleri ayırmamız gerekiyor. Bu yüzden isspace kullanıyoruz bu da new line gördüğünde devreye giriyor yani \\n gördüğünde.\n",
        "      abstract_line_split = abstract_lines.splitlines()  # Split abstract into seperate lines. splitlines fonksiyonu ile \\n yani new line gördüğünde artık onu line olarak ayarlıyor ve aşağıya geçtiğinde farklı bir line a geçmiş oluyoruz.\n",
        "\n",
        "         # Iterate through each line in a single abstract and count them at the same time\n",
        "      for abstract_line_number , abstract_line in enumerate(abstract_line_split):\n",
        "          line_data = {}  # Create an empty dictionary for each line. Her line için yukarıda bir pattern yazmıştık onu oluşturuyoruz.\n",
        "          target_text_split = abstract_line.split(\"\\t\") # Split target label from text\n",
        "          line_data[\"target\"] = target_text_split[0] # Get target labels. target_text_split ile textimizi labelından ayırdık. Şimdi line_data adında bir data olusturduk yukarıda dictionary olarak ve buna target adında bir feature ekledik bu labelları tutacak içinde. target_text_split[0] 0. index dediğimiz zaten labellar oluyo biz 2 indexe ayırdık target ve text olarak.\n",
        "          line_data[\"text\"] = target_text_split[1].lower()  # Textteki tüm harfleri kücük harfe ceviriyoruz lower methodu ile.\n",
        "          line_data[\"line_number\"] = abstract_line_number # What number line does the line appear in the abstract.\n",
        "          line_data[\"total_lines\"] = len(abstract_line_split) - 1  # -1 , indexler 0 dan basladıgı icin. How many total lines are there in the target abstract?\n",
        "          abstract_samples.append(line_data)  # add line data to abstract sample list. Burda artık line_data ile gerekli dictionary mizi olusturduk simdi list of dictionary kullanacagımız icin en basta olusturdugumuz empty listeye dictionarymizi ekliyoruz.\n",
        "    else:\n",
        "      abstract_lines += line  # If the above conditions arent satisfied , the line contains a labelled sentence . If it is not an id line (doesnt begin with ###) and if it also is not an empty string, the else statement is saying all of these lines between the ### and between the new line (\\n) are part of the same abstract\n",
        "  return abstract_samples"
      ],
      "metadata": {
        "id": "ifEujPig_ZXa"
      },
      "execution_count": 7,
      "outputs": []
    },
    {
      "cell_type": "code",
      "source": [
        "# Get data from file and preprocess it. (%%time ne kadar surdugunu ogrenmek icin)\n",
        "%%time\n",
        "train_samples = preprocess_text_with_line_numbers(data_dir +\"train.txt\")\n",
        "train_samples[ : 20]\n"
      ],
      "metadata": {
        "colab": {
          "base_uri": "https://localhost:8080/"
        },
        "id": "E7Gjcv7LRvyn",
        "outputId": "e212bb82-15d4-4920-b80b-8e2b6175efd6"
      },
      "execution_count": 8,
      "outputs": [
        {
          "output_type": "stream",
          "name": "stdout",
          "text": [
            "CPU times: user 626 ms, sys: 88.6 ms, total: 715 ms\n",
            "Wall time: 838 ms\n"
          ]
        },
        {
          "output_type": "execute_result",
          "data": {
            "text/plain": [
              "[{'target': 'OBJECTIVE',\n",
              "  'text': 'to investigate the efficacy of @ weeks of daily low-dose oral prednisolone in improving pain , mobility , and systemic low-grade inflammation in the short term and whether the effect would be sustained at @ weeks in older adults with moderate to severe knee osteoarthritis ( oa ) .',\n",
              "  'line_number': 0,\n",
              "  'total_lines': 11},\n",
              " {'target': 'METHODS',\n",
              "  'text': 'a total of @ patients with primary knee oa were randomized @:@ ; @ received @ mg/day of prednisolone and @ received placebo for @ weeks .',\n",
              "  'line_number': 1,\n",
              "  'total_lines': 11},\n",
              " {'target': 'METHODS',\n",
              "  'text': 'outcome measures included pain reduction and improvement in function scores and systemic inflammation markers .',\n",
              "  'line_number': 2,\n",
              "  'total_lines': 11},\n",
              " {'target': 'METHODS',\n",
              "  'text': 'pain was assessed using the visual analog pain scale ( @-@ mm ) .',\n",
              "  'line_number': 3,\n",
              "  'total_lines': 11},\n",
              " {'target': 'METHODS',\n",
              "  'text': 'secondary outcome measures included the western ontario and mcmaster universities osteoarthritis index scores , patient global assessment ( pga ) of the severity of knee oa , and @-min walk distance ( @mwd ) .',\n",
              "  'line_number': 4,\n",
              "  'total_lines': 11},\n",
              " {'target': 'METHODS',\n",
              "  'text': 'serum levels of interleukin @ ( il-@ ) , il-@ , tumor necrosis factor ( tnf ) - , and high-sensitivity c-reactive protein ( hscrp ) were measured .',\n",
              "  'line_number': 5,\n",
              "  'total_lines': 11},\n",
              " {'target': 'RESULTS',\n",
              "  'text': 'there was a clinically relevant reduction in the intervention group compared to the placebo group for knee pain , physical function , pga , and @mwd at @ weeks .',\n",
              "  'line_number': 6,\n",
              "  'total_lines': 11},\n",
              " {'target': 'RESULTS',\n",
              "  'text': 'the mean difference between treatment arms ( @ % ci ) was @ ( @-@ @ ) , p < @ ; @ ( @-@ @ ) , p < @ ; @ ( @-@ @ ) , p < @ ; and @ ( @-@ @ ) , p < @ , respectively .',\n",
              "  'line_number': 7,\n",
              "  'total_lines': 11},\n",
              " {'target': 'RESULTS',\n",
              "  'text': 'further , there was a clinically relevant reduction in the serum levels of il-@ , il-@ , tnf - , and hscrp at @ weeks in the intervention group when compared to the placebo group .',\n",
              "  'line_number': 8,\n",
              "  'total_lines': 11},\n",
              " {'target': 'RESULTS',\n",
              "  'text': 'these differences remained significant at @ weeks .',\n",
              "  'line_number': 9,\n",
              "  'total_lines': 11},\n",
              " {'target': 'RESULTS',\n",
              "  'text': 'the outcome measures in rheumatology clinical trials-osteoarthritis research society international responder rate was @ % in the intervention group and @ % in the placebo group ( p < @ ) .',\n",
              "  'line_number': 10,\n",
              "  'total_lines': 11},\n",
              " {'target': 'CONCLUSIONS',\n",
              "  'text': 'low-dose oral prednisolone had both a short-term and a longer sustained effect resulting in less knee pain , better physical function , and attenuation of systemic inflammation in older patients with knee oa ( clinicaltrials.gov identifier nct@ ) .',\n",
              "  'line_number': 11,\n",
              "  'total_lines': 11},\n",
              " {'target': 'BACKGROUND',\n",
              "  'text': 'emotional eating is associated with overeating and the development of obesity .',\n",
              "  'line_number': 0,\n",
              "  'total_lines': 10},\n",
              " {'target': 'BACKGROUND',\n",
              "  'text': 'yet , empirical evidence for individual ( trait ) differences in emotional eating and cognitive mechanisms that contribute to eating during sad mood remain equivocal .',\n",
              "  'line_number': 1,\n",
              "  'total_lines': 10},\n",
              " {'target': 'OBJECTIVE',\n",
              "  'text': 'the aim of this study was to test if attention bias for food moderates the effect of self-reported emotional eating during sad mood ( vs neutral mood ) on actual food intake .',\n",
              "  'line_number': 2,\n",
              "  'total_lines': 10},\n",
              " {'target': 'OBJECTIVE',\n",
              "  'text': 'it was expected that emotional eating is predictive of elevated attention for food and higher food intake after an experimentally induced sad mood and that attentional maintenance on food predicts food intake during a sad versus a neutral mood .',\n",
              "  'line_number': 3,\n",
              "  'total_lines': 10},\n",
              " {'target': 'METHODS',\n",
              "  'text': 'participants ( n = @ ) were randomly assigned to one of the two experimental mood induction conditions ( sad/neutral ) .',\n",
              "  'line_number': 4,\n",
              "  'total_lines': 10},\n",
              " {'target': 'METHODS',\n",
              "  'text': 'attentional biases for high caloric foods were measured by eye tracking during a visual probe task with pictorial food and neutral stimuli .',\n",
              "  'line_number': 5,\n",
              "  'total_lines': 10},\n",
              " {'target': 'METHODS',\n",
              "  'text': 'self-reported emotional eating was assessed with the dutch eating behavior questionnaire ( debq ) and ad libitum food intake was tested by a disguised food offer .',\n",
              "  'line_number': 6,\n",
              "  'total_lines': 10},\n",
              " {'target': 'RESULTS',\n",
              "  'text': 'hierarchical multivariate regression modeling showed that self-reported emotional eating did not account for changes in attention allocation for food or food intake in either condition .',\n",
              "  'line_number': 7,\n",
              "  'total_lines': 10}]"
            ]
          },
          "metadata": {},
          "execution_count": 8
        }
      ]
    },
    {
      "cell_type": "code",
      "source": [
        "val_samples = preprocess_text_with_line_numbers(data_dir + \"dev.txt\")\n",
        "test_samples = preprocess_text_with_line_numbers(data_dir + \"test.txt\")\n",
        "test_samples[ : 30]"
      ],
      "metadata": {
        "colab": {
          "base_uri": "https://localhost:8080/"
        },
        "id": "UPVVqR06SCfx",
        "outputId": "0f78df22-52f5-4bc5-f01d-4b6409360366"
      },
      "execution_count": 9,
      "outputs": [
        {
          "output_type": "execute_result",
          "data": {
            "text/plain": [
              "[{'target': 'BACKGROUND',\n",
              "  'text': 'this study analyzed liver function abnormalities in heart failure patients admitted with severe acute decompensated heart failure ( adhf ) .',\n",
              "  'line_number': 0,\n",
              "  'total_lines': 8},\n",
              " {'target': 'RESULTS',\n",
              "  'text': 'a post hoc analysis was conducted with the use of data from the evaluation study of congestive heart failure and pulmonary artery catheterization effectiveness ( escape ) .',\n",
              "  'line_number': 1,\n",
              "  'total_lines': 8},\n",
              " {'target': 'RESULTS',\n",
              "  'text': 'liver function tests ( lfts ) were measured at @ time points from baseline , at discharge , and up to @ months follow-up .',\n",
              "  'line_number': 2,\n",
              "  'total_lines': 8},\n",
              " {'target': 'RESULTS',\n",
              "  'text': 'survival analyses were used to assess the association between admission model of end-stage liver disease excluding international normalized ratio ( meld-xi ) scores and patient outcome.there was a high prevalence of abnormal baseline ( admission ) lfts ( albumin @ % , aspartate transaminase @ % , alanine transaminase @ % , and total bilirubin @ % ) .',\n",
              "  'line_number': 3,\n",
              "  'total_lines': 8},\n",
              " {'target': 'RESULTS',\n",
              "  'text': \"the percentage of patients with abnormal lfts decreased significantly from baseline to @-months ' follow-up .\",\n",
              "  'line_number': 4,\n",
              "  'total_lines': 8},\n",
              " {'target': 'RESULTS',\n",
              "  'text': 'when mean hemodynamic profiles were compared in patients with abnormal versus normal lfts , elevated total bilirubin was associated with a significantly lower cardiac index ( @ vs @ ; p < @ ) and higher central venous pressure ( @ vs @ ; p = @ ) .',\n",
              "  'line_number': 5,\n",
              "  'total_lines': 8},\n",
              " {'target': 'RESULTS',\n",
              "  'text': 'multivariable analyses revealed that patients with elevated meld-xi scores ( @ ) had a @-fold ( hazard ratio@ @ , @ % confidence interval @-@ @ ) increased risk of death , rehospitalization , or transplantation after adjusting for baseline lfts , age , sex , race , body mass index , diabetes , and systolic blood pressure .',\n",
              "  'line_number': 6,\n",
              "  'total_lines': 8},\n",
              " {'target': 'CONCLUSIONS',\n",
              "  'text': 'abnormal lfts are common in the adhf population and are a dynamic marker of an impaired hemodynamic state .',\n",
              "  'line_number': 7,\n",
              "  'total_lines': 8},\n",
              " {'target': 'CONCLUSIONS',\n",
              "  'text': 'elevated meld-xi scores are associated with poor outcomes among patients admitted with adhf .',\n",
              "  'line_number': 8,\n",
              "  'total_lines': 8},\n",
              " {'target': 'BACKGROUND',\n",
              "  'text': 'minimally invasive endovascular aneurysm repair ( evar ) could be a surgical technique that improves outcome of patients with ruptured abdominal aortic aneurysm ( raaa ) .',\n",
              "  'line_number': 0,\n",
              "  'total_lines': 12},\n",
              " {'target': 'BACKGROUND',\n",
              "  'text': 'the aim of this study was to analyse the cost-effectiveness and cost-utility of evar compared with standard open repair ( or ) in the treatment of raaa , with costs per @-day and @-month survivor as outcome parameters .',\n",
              "  'line_number': 1,\n",
              "  'total_lines': 12},\n",
              " {'target': 'METHODS',\n",
              "  'text': 'resource use was determined from the amsterdam acute aneurysm ( ajax ) trial , a multicentre randomized trial comparing evar with or in patients with raaa .',\n",
              "  'line_number': 2,\n",
              "  'total_lines': 12},\n",
              " {'target': 'METHODS',\n",
              "  'text': 'the analysis was performed from a provider perspective .',\n",
              "  'line_number': 3,\n",
              "  'total_lines': 12},\n",
              " {'target': 'METHODS',\n",
              "  'text': 'all costs were calculated as if all patients had been treated in the same hospital ( onze lieve vrouwe gasthuis , teaching hospital ) .',\n",
              "  'line_number': 4,\n",
              "  'total_lines': 12},\n",
              " {'target': 'RESULTS',\n",
              "  'text': 'a total of @ patients were randomized .',\n",
              "  'line_number': 5,\n",
              "  'total_lines': 12},\n",
              " {'target': 'RESULTS',\n",
              "  'text': 'the @-day mortality rate was @ per cent after evar and @ per cent for or : absolute risk reduction ( arr ) @ ( @ per cent confidence interval ( c.i. ) -@ to @ ) per cent .',\n",
              "  'line_number': 6,\n",
              "  'total_lines': 12},\n",
              " {'target': 'RESULTS',\n",
              "  'text': 'at @months , the total mortality rate for evar was @ per cent , compared with @ per cent among those assigned to or : arr @ ( -@ to @ ) per cent .',\n",
              "  'line_number': 7,\n",
              "  'total_lines': 12},\n",
              " {'target': 'RESULTS',\n",
              "  'text': 'the mean cost difference between evar and or was @ ( @ per cent c.i. -@ to @,@ ) at @days and @,@ ( -@ to @,@ ) at @months .',\n",
              "  'line_number': 8,\n",
              "  'total_lines': 12},\n",
              " {'target': 'RESULTS',\n",
              "  'text': 'the incremental cost-effectiveness ratio per prevented death was @,@ at @days and @,@ at @months .',\n",
              "  'line_number': 9,\n",
              "  'total_lines': 12},\n",
              " {'target': 'RESULTS',\n",
              "  'text': 'there was no significant difference in quality of life between evar and or .',\n",
              "  'line_number': 10,\n",
              "  'total_lines': 12},\n",
              " {'target': 'RESULTS',\n",
              "  'text': 'nor was evar superior regarding cost-utility .',\n",
              "  'line_number': 11,\n",
              "  'total_lines': 12},\n",
              " {'target': 'CONCLUSIONS',\n",
              "  'text': 'evar may be more effective for raaa , but its increased costs mean that it is unaffordable based on current standards of societal willingness-to-pay for health gains .',\n",
              "  'line_number': 12,\n",
              "  'total_lines': 12},\n",
              " {'target': 'BACKGROUND',\n",
              "  'text': 'evidence suggests that individuals with social anxiety demonstrate vigilance to social threat , whilst the peptide hormone oxytocin is widely accepted as supporting affiliative behaviour in humans .',\n",
              "  'line_number': 0,\n",
              "  'total_lines': 8},\n",
              " {'target': 'METHODS',\n",
              "  'text': 'this study investigated whether oxytocin can affect attentional bias in social anxiety .',\n",
              "  'line_number': 1,\n",
              "  'total_lines': 8},\n",
              " {'target': 'METHODS',\n",
              "  'text': 'in a double-blind , randomized , placebo-controlled , within-group study design , @ healthy and @ highly socially anxious ( hsa ) male volunteers ( within the hsa group , @ were diagnosed with generalized social anxiety disorder ) were administered @ iu of oxytocin or placebo to investigate attentional processing in social anxiety .',\n",
              "  'line_number': 2,\n",
              "  'total_lines': 8},\n",
              " {'target': 'METHODS',\n",
              "  'text': 'attentional bias was assessed using the dot-probe paradigm with angry , fearful , happy and neutral face stimuli .',\n",
              "  'line_number': 3,\n",
              "  'total_lines': 8},\n",
              " {'target': 'RESULTS',\n",
              "  'text': 'in the baseline placebo condition , the hsa group showed greater attentional bias for emotional faces than healthy individuals .',\n",
              "  'line_number': 4,\n",
              "  'total_lines': 8},\n",
              " {'target': 'RESULTS',\n",
              "  'text': 'oxytocin reduced the difference between hsa and non-socially anxious individuals in attentional bias for emotional faces .',\n",
              "  'line_number': 5,\n",
              "  'total_lines': 8},\n",
              " {'target': 'RESULTS',\n",
              "  'text': 'moreover , it appeared to normalize attentional bias in hsa individuals to levels seen in the healthy population in the baseline condition .',\n",
              "  'line_number': 6,\n",
              "  'total_lines': 8},\n",
              " {'target': 'RESULTS',\n",
              "  'text': 'the biological mechanisms by which oxytocin may be exerting these effects are discussed .',\n",
              "  'line_number': 7,\n",
              "  'total_lines': 8}]"
            ]
          },
          "metadata": {},
          "execution_count": 9
        }
      ]
    },
    {
      "cell_type": "markdown",
      "source": [
        "# Now that our data is the format of a list of dictionaries , how about we turn into a DataFrame to further vision"
      ],
      "metadata": {
        "id": "UPzHXFDdSiwy"
      }
    },
    {
      "cell_type": "code",
      "source": [
        "import pandas as pd   # Bizim datalarımızı dictionary formata getirme sebeplerimizin birisi de dictlerin pandas ile DataFrame şekline kolay çevrilebilmesi.\n",
        "train_df = pd.DataFrame(train_samples)\n",
        "test_df = pd.DataFrame(test_samples)\n",
        "val_df = pd.DataFrame(val_samples)\n",
        "train_df.head(14)"
      ],
      "metadata": {
        "colab": {
          "base_uri": "https://localhost:8080/",
          "height": 488
        },
        "id": "06zDbubCVgtc",
        "outputId": "947245ca-b088-44e4-808a-f782c636c59b"
      },
      "execution_count": 10,
      "outputs": [
        {
          "output_type": "execute_result",
          "data": {
            "text/plain": [
              "         target                                               text  \\\n",
              "0     OBJECTIVE  to investigate the efficacy of @ weeks of dail...   \n",
              "1       METHODS  a total of @ patients with primary knee oa wer...   \n",
              "2       METHODS  outcome measures included pain reduction and i...   \n",
              "3       METHODS  pain was assessed using the visual analog pain...   \n",
              "4       METHODS  secondary outcome measures included the wester...   \n",
              "5       METHODS  serum levels of interleukin @ ( il-@ ) , il-@ ...   \n",
              "6       RESULTS  there was a clinically relevant reduction in t...   \n",
              "7       RESULTS  the mean difference between treatment arms ( @...   \n",
              "8       RESULTS  further , there was a clinically relevant redu...   \n",
              "9       RESULTS  these differences remained significant at @ we...   \n",
              "10      RESULTS  the outcome measures in rheumatology clinical ...   \n",
              "11  CONCLUSIONS  low-dose oral prednisolone had both a short-te...   \n",
              "12   BACKGROUND  emotional eating is associated with overeating...   \n",
              "13   BACKGROUND  yet , empirical evidence for individual ( trai...   \n",
              "\n",
              "    line_number  total_lines  \n",
              "0             0           11  \n",
              "1             1           11  \n",
              "2             2           11  \n",
              "3             3           11  \n",
              "4             4           11  \n",
              "5             5           11  \n",
              "6             6           11  \n",
              "7             7           11  \n",
              "8             8           11  \n",
              "9             9           11  \n",
              "10           10           11  \n",
              "11           11           11  \n",
              "12            0           10  \n",
              "13            1           10  "
            ],
            "text/html": [
              "\n",
              "  <div id=\"df-34c60a50-2d59-48e0-b560-c951045444b3\" class=\"colab-df-container\">\n",
              "    <div>\n",
              "<style scoped>\n",
              "    .dataframe tbody tr th:only-of-type {\n",
              "        vertical-align: middle;\n",
              "    }\n",
              "\n",
              "    .dataframe tbody tr th {\n",
              "        vertical-align: top;\n",
              "    }\n",
              "\n",
              "    .dataframe thead th {\n",
              "        text-align: right;\n",
              "    }\n",
              "</style>\n",
              "<table border=\"1\" class=\"dataframe\">\n",
              "  <thead>\n",
              "    <tr style=\"text-align: right;\">\n",
              "      <th></th>\n",
              "      <th>target</th>\n",
              "      <th>text</th>\n",
              "      <th>line_number</th>\n",
              "      <th>total_lines</th>\n",
              "    </tr>\n",
              "  </thead>\n",
              "  <tbody>\n",
              "    <tr>\n",
              "      <th>0</th>\n",
              "      <td>OBJECTIVE</td>\n",
              "      <td>to investigate the efficacy of @ weeks of dail...</td>\n",
              "      <td>0</td>\n",
              "      <td>11</td>\n",
              "    </tr>\n",
              "    <tr>\n",
              "      <th>1</th>\n",
              "      <td>METHODS</td>\n",
              "      <td>a total of @ patients with primary knee oa wer...</td>\n",
              "      <td>1</td>\n",
              "      <td>11</td>\n",
              "    </tr>\n",
              "    <tr>\n",
              "      <th>2</th>\n",
              "      <td>METHODS</td>\n",
              "      <td>outcome measures included pain reduction and i...</td>\n",
              "      <td>2</td>\n",
              "      <td>11</td>\n",
              "    </tr>\n",
              "    <tr>\n",
              "      <th>3</th>\n",
              "      <td>METHODS</td>\n",
              "      <td>pain was assessed using the visual analog pain...</td>\n",
              "      <td>3</td>\n",
              "      <td>11</td>\n",
              "    </tr>\n",
              "    <tr>\n",
              "      <th>4</th>\n",
              "      <td>METHODS</td>\n",
              "      <td>secondary outcome measures included the wester...</td>\n",
              "      <td>4</td>\n",
              "      <td>11</td>\n",
              "    </tr>\n",
              "    <tr>\n",
              "      <th>5</th>\n",
              "      <td>METHODS</td>\n",
              "      <td>serum levels of interleukin @ ( il-@ ) , il-@ ...</td>\n",
              "      <td>5</td>\n",
              "      <td>11</td>\n",
              "    </tr>\n",
              "    <tr>\n",
              "      <th>6</th>\n",
              "      <td>RESULTS</td>\n",
              "      <td>there was a clinically relevant reduction in t...</td>\n",
              "      <td>6</td>\n",
              "      <td>11</td>\n",
              "    </tr>\n",
              "    <tr>\n",
              "      <th>7</th>\n",
              "      <td>RESULTS</td>\n",
              "      <td>the mean difference between treatment arms ( @...</td>\n",
              "      <td>7</td>\n",
              "      <td>11</td>\n",
              "    </tr>\n",
              "    <tr>\n",
              "      <th>8</th>\n",
              "      <td>RESULTS</td>\n",
              "      <td>further , there was a clinically relevant redu...</td>\n",
              "      <td>8</td>\n",
              "      <td>11</td>\n",
              "    </tr>\n",
              "    <tr>\n",
              "      <th>9</th>\n",
              "      <td>RESULTS</td>\n",
              "      <td>these differences remained significant at @ we...</td>\n",
              "      <td>9</td>\n",
              "      <td>11</td>\n",
              "    </tr>\n",
              "    <tr>\n",
              "      <th>10</th>\n",
              "      <td>RESULTS</td>\n",
              "      <td>the outcome measures in rheumatology clinical ...</td>\n",
              "      <td>10</td>\n",
              "      <td>11</td>\n",
              "    </tr>\n",
              "    <tr>\n",
              "      <th>11</th>\n",
              "      <td>CONCLUSIONS</td>\n",
              "      <td>low-dose oral prednisolone had both a short-te...</td>\n",
              "      <td>11</td>\n",
              "      <td>11</td>\n",
              "    </tr>\n",
              "    <tr>\n",
              "      <th>12</th>\n",
              "      <td>BACKGROUND</td>\n",
              "      <td>emotional eating is associated with overeating...</td>\n",
              "      <td>0</td>\n",
              "      <td>10</td>\n",
              "    </tr>\n",
              "    <tr>\n",
              "      <th>13</th>\n",
              "      <td>BACKGROUND</td>\n",
              "      <td>yet , empirical evidence for individual ( trai...</td>\n",
              "      <td>1</td>\n",
              "      <td>10</td>\n",
              "    </tr>\n",
              "  </tbody>\n",
              "</table>\n",
              "</div>\n",
              "    <div class=\"colab-df-buttons\">\n",
              "\n",
              "  <div class=\"colab-df-container\">\n",
              "    <button class=\"colab-df-convert\" onclick=\"convertToInteractive('df-34c60a50-2d59-48e0-b560-c951045444b3')\"\n",
              "            title=\"Convert this dataframe to an interactive table.\"\n",
              "            style=\"display:none;\">\n",
              "\n",
              "  <svg xmlns=\"http://www.w3.org/2000/svg\" height=\"24px\" viewBox=\"0 -960 960 960\">\n",
              "    <path d=\"M120-120v-720h720v720H120Zm60-500h600v-160H180v160Zm220 220h160v-160H400v160Zm0 220h160v-160H400v160ZM180-400h160v-160H180v160Zm440 0h160v-160H620v160ZM180-180h160v-160H180v160Zm440 0h160v-160H620v160Z\"/>\n",
              "  </svg>\n",
              "    </button>\n",
              "\n",
              "  <style>\n",
              "    .colab-df-container {\n",
              "      display:flex;\n",
              "      gap: 12px;\n",
              "    }\n",
              "\n",
              "    .colab-df-convert {\n",
              "      background-color: #E8F0FE;\n",
              "      border: none;\n",
              "      border-radius: 50%;\n",
              "      cursor: pointer;\n",
              "      display: none;\n",
              "      fill: #1967D2;\n",
              "      height: 32px;\n",
              "      padding: 0 0 0 0;\n",
              "      width: 32px;\n",
              "    }\n",
              "\n",
              "    .colab-df-convert:hover {\n",
              "      background-color: #E2EBFA;\n",
              "      box-shadow: 0px 1px 2px rgba(60, 64, 67, 0.3), 0px 1px 3px 1px rgba(60, 64, 67, 0.15);\n",
              "      fill: #174EA6;\n",
              "    }\n",
              "\n",
              "    .colab-df-buttons div {\n",
              "      margin-bottom: 4px;\n",
              "    }\n",
              "\n",
              "    [theme=dark] .colab-df-convert {\n",
              "      background-color: #3B4455;\n",
              "      fill: #D2E3FC;\n",
              "    }\n",
              "\n",
              "    [theme=dark] .colab-df-convert:hover {\n",
              "      background-color: #434B5C;\n",
              "      box-shadow: 0px 1px 3px 1px rgba(0, 0, 0, 0.15);\n",
              "      filter: drop-shadow(0px 1px 2px rgba(0, 0, 0, 0.3));\n",
              "      fill: #FFFFFF;\n",
              "    }\n",
              "  </style>\n",
              "\n",
              "    <script>\n",
              "      const buttonEl =\n",
              "        document.querySelector('#df-34c60a50-2d59-48e0-b560-c951045444b3 button.colab-df-convert');\n",
              "      buttonEl.style.display =\n",
              "        google.colab.kernel.accessAllowed ? 'block' : 'none';\n",
              "\n",
              "      async function convertToInteractive(key) {\n",
              "        const element = document.querySelector('#df-34c60a50-2d59-48e0-b560-c951045444b3');\n",
              "        const dataTable =\n",
              "          await google.colab.kernel.invokeFunction('convertToInteractive',\n",
              "                                                    [key], {});\n",
              "        if (!dataTable) return;\n",
              "\n",
              "        const docLinkHtml = 'Like what you see? Visit the ' +\n",
              "          '<a target=\"_blank\" href=https://colab.research.google.com/notebooks/data_table.ipynb>data table notebook</a>'\n",
              "          + ' to learn more about interactive tables.';\n",
              "        element.innerHTML = '';\n",
              "        dataTable['output_type'] = 'display_data';\n",
              "        await google.colab.output.renderOutput(dataTable, element);\n",
              "        const docLink = document.createElement('div');\n",
              "        docLink.innerHTML = docLinkHtml;\n",
              "        element.appendChild(docLink);\n",
              "      }\n",
              "    </script>\n",
              "  </div>\n",
              "\n",
              "\n",
              "<div id=\"df-600b5a2d-8e3b-4c27-a6f4-41176a52e877\">\n",
              "  <button class=\"colab-df-quickchart\" onclick=\"quickchart('df-600b5a2d-8e3b-4c27-a6f4-41176a52e877')\"\n",
              "            title=\"Suggest charts.\"\n",
              "            style=\"display:none;\">\n",
              "\n",
              "<svg xmlns=\"http://www.w3.org/2000/svg\" height=\"24px\"viewBox=\"0 0 24 24\"\n",
              "     width=\"24px\">\n",
              "    <g>\n",
              "        <path d=\"M19 3H5c-1.1 0-2 .9-2 2v14c0 1.1.9 2 2 2h14c1.1 0 2-.9 2-2V5c0-1.1-.9-2-2-2zM9 17H7v-7h2v7zm4 0h-2V7h2v10zm4 0h-2v-4h2v4z\"/>\n",
              "    </g>\n",
              "</svg>\n",
              "  </button>\n",
              "\n",
              "<style>\n",
              "  .colab-df-quickchart {\n",
              "    background-color: #E8F0FE;\n",
              "    border: none;\n",
              "    border-radius: 50%;\n",
              "    cursor: pointer;\n",
              "    display: none;\n",
              "    fill: #1967D2;\n",
              "    height: 32px;\n",
              "    padding: 0 0 0 0;\n",
              "    width: 32px;\n",
              "  }\n",
              "\n",
              "  .colab-df-quickchart:hover {\n",
              "    background-color: #E2EBFA;\n",
              "    box-shadow: 0px 1px 2px rgba(60, 64, 67, 0.3), 0px 1px 3px 1px rgba(60, 64, 67, 0.15);\n",
              "    fill: #174EA6;\n",
              "  }\n",
              "\n",
              "  [theme=dark] .colab-df-quickchart {\n",
              "    background-color: #3B4455;\n",
              "    fill: #D2E3FC;\n",
              "  }\n",
              "\n",
              "  [theme=dark] .colab-df-quickchart:hover {\n",
              "    background-color: #434B5C;\n",
              "    box-shadow: 0px 1px 3px 1px rgba(0, 0, 0, 0.15);\n",
              "    filter: drop-shadow(0px 1px 2px rgba(0, 0, 0, 0.3));\n",
              "    fill: #FFFFFF;\n",
              "  }\n",
              "</style>\n",
              "\n",
              "  <script>\n",
              "    async function quickchart(key) {\n",
              "      const charts = await google.colab.kernel.invokeFunction(\n",
              "          'suggestCharts', [key], {});\n",
              "    }\n",
              "    (() => {\n",
              "      let quickchartButtonEl =\n",
              "        document.querySelector('#df-600b5a2d-8e3b-4c27-a6f4-41176a52e877 button');\n",
              "      quickchartButtonEl.style.display =\n",
              "        google.colab.kernel.accessAllowed ? 'block' : 'none';\n",
              "    })();\n",
              "  </script>\n",
              "</div>\n",
              "    </div>\n",
              "  </div>\n"
            ]
          },
          "metadata": {},
          "execution_count": 10
        }
      ]
    },
    {
      "cell_type": "code",
      "source": [
        "# Distribution of labels in training data\n",
        "train_df.target.value_counts()"
      ],
      "metadata": {
        "colab": {
          "base_uri": "https://localhost:8080/"
        },
        "id": "fBsFlyOPVyXj",
        "outputId": "7d63d926-8981-4ab1-d484-c1723aee9df4"
      },
      "execution_count": 11,
      "outputs": [
        {
          "output_type": "execute_result",
          "data": {
            "text/plain": [
              "METHODS        59353\n",
              "RESULTS        57953\n",
              "CONCLUSIONS    27168\n",
              "BACKGROUND     21727\n",
              "OBJECTIVE      13839\n",
              "Name: target, dtype: int64"
            ]
          },
          "metadata": {},
          "execution_count": 11
        }
      ]
    },
    {
      "cell_type": "code",
      "source": [
        "# Lets check the length of different lines\n",
        "train_df.total_lines.plot.hist();"
      ],
      "metadata": {
        "colab": {
          "base_uri": "https://localhost:8080/",
          "height": 431
        },
        "id": "tw3u_MzeXMbI",
        "outputId": "b5c8df65-262c-47ce-efbf-a9d33b75aa77"
      },
      "execution_count": 12,
      "outputs": [
        {
          "output_type": "display_data",
          "data": {
            "text/plain": [
              "<Figure size 640x480 with 1 Axes>"
            ],
            "image/png": "[encoded data removed]"
          },
          "metadata": {}
        }
      ]
    },
    {
      "cell_type": "markdown",
      "source": [
        "# Get list of sentences"
      ],
      "metadata": {
        "id": "x5eku_YgY25G"
      }
    },
    {
      "cell_type": "code",
      "source": [
        "# Convert abstract text lines into lists\n",
        "train_sentences = train_df[\"text\"].tolist()\n",
        "val_sentences = val_df[\"text\"].tolist()\n",
        "test_sentences = test_df[\"text\"].tolist()"
      ],
      "metadata": {
        "id": "8HKuMzXOZP0i"
      },
      "execution_count": 13,
      "outputs": []
    },
    {
      "cell_type": "code",
      "source": [
        "# View the 10 lines of training sentences\n",
        "train_sentences[ : 10]\n"
      ],
      "metadata": {
        "colab": {
          "base_uri": "https://localhost:8080/"
        },
        "id": "_cJzG9z7ZgVT",
        "outputId": "8066da3b-d1a9-44c6-af17-1dd9d4ad3a24"
      },
      "execution_count": 14,
      "outputs": [
        {
          "output_type": "execute_result",
          "data": {
            "text/plain": [
              "['to investigate the efficacy of @ weeks of daily low-dose oral prednisolone in improving pain , mobility , and systemic low-grade inflammation in the short term and whether the effect would be sustained at @ weeks in older adults with moderate to severe knee osteoarthritis ( oa ) .',\n",
              " 'a total of @ patients with primary knee oa were randomized @:@ ; @ received @ mg/day of prednisolone and @ received placebo for @ weeks .',\n",
              " 'outcome measures included pain reduction and improvement in function scores and systemic inflammation markers .',\n",
              " 'pain was assessed using the visual analog pain scale ( @-@ mm ) .',\n",
              " 'secondary outcome measures included the western ontario and mcmaster universities osteoarthritis index scores , patient global assessment ( pga ) of the severity of knee oa , and @-min walk distance ( @mwd ) .',\n",
              " 'serum levels of interleukin @ ( il-@ ) , il-@ , tumor necrosis factor ( tnf ) - , and high-sensitivity c-reactive protein ( hscrp ) were measured .',\n",
              " 'there was a clinically relevant reduction in the intervention group compared to the placebo group for knee pain , physical function , pga , and @mwd at @ weeks .',\n",
              " 'the mean difference between treatment arms ( @ % ci ) was @ ( @-@ @ ) , p < @ ; @ ( @-@ @ ) , p < @ ; @ ( @-@ @ ) , p < @ ; and @ ( @-@ @ ) , p < @ , respectively .',\n",
              " 'further , there was a clinically relevant reduction in the serum levels of il-@ , il-@ , tnf - , and hscrp at @ weeks in the intervention group when compared to the placebo group .',\n",
              " 'these differences remained significant at @ weeks .']"
            ]
          },
          "metadata": {},
          "execution_count": 14
        }
      ]
    },
    {
      "cell_type": "markdown",
      "source": [
        "# Make numeric labels (ML models require numeric labels)"
      ],
      "metadata": {
        "id": "st5VIsXCah1w"
      }
    },
    {
      "cell_type": "markdown",
      "source": [
        "# First we will encode with one hot encoder and then we will use label encoder"
      ],
      "metadata": {
        "id": "KR9OSHZ9gTJL"
      }
    },
    {
      "cell_type": "code",
      "source": [
        "from sklearn.preprocessing import OneHotEncoder\n",
        "encoder = OneHotEncoder(sparse = False)  # We want non-sparse matrix\n",
        "\n",
        "train_labels_encoded = encoder.fit_transform(train_df[\"target\"].to_numpy().reshape( -1 , 1 )) # Reshape yapmamız gerekiyor cünkü 2d array bekleniyor input olarak\n",
        "train_labels_encoded"
      ],
      "metadata": {
        "colab": {
          "base_uri": "https://localhost:8080/"
        },
        "id": "KgU9tZP_dAl4",
        "outputId": "a833341b-7eac-43cd-fc0d-907d3b1f745d"
      },
      "execution_count": 15,
      "outputs": [
        {
          "output_type": "stream",
          "name": "stderr",
          "text": [
            "/usr/local/lib/python3.10/dist-packages/sklearn/preprocessing/_encoders.py:868: FutureWarning: `sparse` was renamed to `sparse_output` in version 1.2 and will be removed in 1.4. `sparse_output` is ignored unless you leave `sparse` to its default value.\n",
            "  warnings.warn(\n"
          ]
        },
        {
          "output_type": "execute_result",
          "data": {
            "text/plain": [
              "array([[0., 0., 0., 1., 0.],\n",
              "       [0., 0., 1., 0., 0.],\n",
              "       [0., 0., 1., 0., 0.],\n",
              "       ...,\n",
              "       [0., 0., 0., 0., 1.],\n",
              "       [0., 1., 0., 0., 0.],\n",
              "       [0., 1., 0., 0., 0.]])"
            ]
          },
          "metadata": {},
          "execution_count": 15
        }
      ]
    },
    {
      "cell_type": "code",
      "source": [
        "val_labels_encoded = encoder.transform(val_df[\"target\"].to_numpy().reshape( -1  , 1))\n",
        "test_labels_encoded = encoder.transform(test_df[\"target\"].to_numpy().reshape( -1  , 1))\n",
        "# We wont use fit again because we already fitted in train_labels_encoded our encoder object , so fitting val and test labels are unnecessary"
      ],
      "metadata": {
        "id": "DEtAi_GmeOeb"
      },
      "execution_count": 16,
      "outputs": []
    },
    {
      "cell_type": "markdown",
      "source": [
        "# Label encode labels"
      ],
      "metadata": {
        "id": "u1cgqovnfVhC"
      }
    },
    {
      "cell_type": "code",
      "source": [
        "# Extract labels (\"target\" columns) and encode them into integers\n",
        "from sklearn.preprocessing import LabelEncoder\n",
        "encoder_2 = LabelEncoder()\n",
        "\n",
        "train_labels_encoded_labelencoder = encoder_2.fit_transform(train_df[\"target\"].to_numpy())\n",
        "val_labels_encoded_labelencoder = encoder_2.transform(val_df[\"target\"].to_numpy())\n",
        "test_labels_encoded_labelencoder = encoder_2.transform(test_df[\"target\"].to_numpy())"
      ],
      "metadata": {
        "id": "8Qq6LFkdgcq0"
      },
      "execution_count": 17,
      "outputs": []
    },
    {
      "cell_type": "code",
      "source": [
        "test_labels_encoded_labelencoder[ : 10]"
      ],
      "metadata": {
        "colab": {
          "base_uri": "https://localhost:8080/"
        },
        "id": "o9cbTWxVhAKx",
        "outputId": "758e5c99-3223-4d04-a8fa-6efae9b4bd60"
      },
      "execution_count": 18,
      "outputs": [
        {
          "output_type": "execute_result",
          "data": {
            "text/plain": [
              "array([0, 4, 4, 4, 4, 4, 4, 1, 1, 0])"
            ]
          },
          "metadata": {},
          "execution_count": 18
        }
      ]
    },
    {
      "cell_type": "code",
      "source": [
        "# Get class names and number of classes from LabelEncoder instance\n",
        "num_classes = len(encoder_2.classes_)\n",
        "class_names = encoder_2.classes_\n",
        "num_classes , class_names"
      ],
      "metadata": {
        "colab": {
          "base_uri": "https://localhost:8080/"
        },
        "id": "vE7kj41jhMnN",
        "outputId": "404d92e9-242f-47ed-c727-ee924e153948"
      },
      "execution_count": 19,
      "outputs": [
        {
          "output_type": "execute_result",
          "data": {
            "text/plain": [
              "(5,\n",
              " array(['BACKGROUND', 'CONCLUSIONS', 'METHODS', 'OBJECTIVE', 'RESULTS'],\n",
              "       dtype=object))"
            ]
          },
          "metadata": {},
          "execution_count": 19
        }
      ]
    },
    {
      "cell_type": "markdown",
      "source": [
        "# Starting a series of modelling experiments\n",
        "\n",
        "As usual , we are going to be trying out a bunch of different models and seeing which one works best.\n",
        "\n",
        "And as always , we are going to start with a baseline (TF-IDF multinomial naive bayes)"
      ],
      "metadata": {
        "id": "DjCSdo8FigMZ"
      }
    },
    {
      "cell_type": "markdown",
      "source": [
        "# Model 0 : Getting a baseline"
      ],
      "metadata": {
        "id": "WF58EFc1opL-"
      }
    },
    {
      "cell_type": "code",
      "source": [
        "from sklearn.feature_extraction.text import TfidfVectorizer\n",
        "from sklearn.naive_bayes import MultinomialNB\n",
        "from sklearn.pipeline import Pipeline\n",
        "\n",
        "# Create a pipeline\n",
        "\n",
        "model_0 = Pipeline( [\n",
        "\n",
        "                   (\"tfidf\" , TfidfVectorizer()) ,\n",
        "                   (\"clf\" , MultinomialNB())\n",
        "]\n",
        ")\n",
        "\n",
        "# Fit the pipeline to the training data\n",
        "model_0.fit(\n",
        "    X =  train_sentences ,\n",
        " y =   train_labels_encoded_labelencoder\n",
        "\n",
        ")\n",
        "# TfidfVectorizer terim frekansı ters belge frekansı (TF-IDF) değerlerini hesaplamak için kullanılır. Bu yöntem, bir belge içerisindeki bir terimin önemini, hem belge içerisindeki sıklığına hem de tüm belgelerdeki görülme sıklığına dayalı olarak belirler. Bu sayede metinlerin içerdikleri kelimelerin anlamlılığını belirlemek için kullanılır.\n",
        "# MultinomialNB, çok sınıflı Bayes sınıflandırıcılarından biridir ve metin sınıflandırma gibi problemlerde kullanılır. Naive Bayes algoritması, Bayes teoremi temel alınarak çalışır ve bir metni belirli sınıflara tahmin etmek için metindeki özelliklerin olasılıklarını kullanır. Bu durumda, sınıflandırıcı, veri setindeki sınıfları tahmin etmek için metin özelliklerini (TF-IDF değerleri) kullanacaktır."
      ],
      "metadata": {
        "colab": {
          "base_uri": "https://localhost:8080/",
          "height": 124
        },
        "id": "4IoUWKdNosl3",
        "outputId": "7830197c-47b0-402b-bb8e-134086bb1766"
      },
      "execution_count": 20,
      "outputs": [
        {
          "output_type": "execute_result",
          "data": {
            "text/plain": [
              "Pipeline(steps=[('tfidf', TfidfVectorizer()), ('clf', MultinomialNB())])"
            ],
            "text/html": [
              "<style>#sk-container-id-1 {color: black;background-color: white;}#sk-container-id-1 pre{padding: 0;}#sk-container-id-1 div.sk-toggleable {background-color: white;}#sk-container-id-1 label.sk-toggleable__label {cursor: pointer;display: block;width: 100%;margin-bottom: 0;padding: 0.3em;box-sizing: border-box;text-align: center;}#sk-container-id-1 label.sk-toggleable__label-arrow:before {content: \"▸\";float: left;margin-right: 0.25em;color: #696969;}#sk-container-id-1 label.sk-toggleable__label-arrow:hover:before {color: black;}#sk-container-id-1 div.sk-estimator:hover label.sk-toggleable__label-arrow:before {color: black;}#sk-container-id-1 div.sk-toggleable__content {max-height: 0;max-width: 0;overflow: hidden;text-align: left;background-color: #f0f8ff;}#sk-container-id-1 div.sk-toggleable__content pre {margin: 0.2em;color: black;border-radius: 0.25em;background-color: #f0f8ff;}#sk-container-id-1 input.sk-toggleable__control:checked~div.sk-toggleable__content {max-height: 200px;max-width: 100%;overflow: auto;}#sk-container-id-1 input.sk-toggleable__control:checked~label.sk-toggleable__label-arrow:before {content: \"▾\";}#sk-container-id-1 div.sk-estimator input.sk-toggleable__control:checked~label.sk-toggleable__label {background-color: #d4ebff;}#sk-container-id-1 div.sk-label input.sk-toggleable__control:checked~label.sk-toggleable__label {background-color: #d4ebff;}#sk-container-id-1 input.sk-hidden--visually {border: 0;clip: rect(1px 1px 1px 1px);clip: rect(1px, 1px, 1px, 1px);height: 1px;margin: -1px;overflow: hidden;padding: 0;position: absolute;width: 1px;}#sk-container-id-1 div.sk-estimator {font-family: monospace;background-color: #f0f8ff;border: 1px dotted black;border-radius: 0.25em;box-sizing: border-box;margin-bottom: 0.5em;}#sk-container-id-1 div.sk-estimator:hover {background-color: #d4ebff;}#sk-container-id-1 div.sk-parallel-item::after {content: \"\";width: 100%;border-bottom: 1px solid gray;flex-grow: 1;}#sk-container-id-1 div.sk-label:hover label.sk-toggleable__label {background-color: #d4ebff;}#sk-container-id-1 div.sk-serial::before {content: \"\";position: absolute;border-left: 1px solid gray;box-sizing: border-box;top: 0;bottom: 0;left: 50%;z-index: 0;}#sk-container-id-1 div.sk-serial {display: flex;flex-direction: column;align-items: center;background-color: white;padding-right: 0.2em;padding-left: 0.2em;position: relative;}#sk-container-id-1 div.sk-item {position: relative;z-index: 1;}#sk-container-id-1 div.sk-parallel {display: flex;align-items: stretch;justify-content: center;background-color: white;position: relative;}#sk-container-id-1 div.sk-item::before, #sk-container-id-1 div.sk-parallel-item::before {content: \"\";position: absolute;border-left: 1px solid gray;box-sizing: border-box;top: 0;bottom: 0;left: 50%;z-index: -1;}#sk-container-id-1 div.sk-parallel-item {display: flex;flex-direction: column;z-index: 1;position: relative;background-color: white;}#sk-container-id-1 div.sk-parallel-item:first-child::after {align-self: flex-end;width: 50%;}#sk-container-id-1 div.sk-parallel-item:last-child::after {align-self: flex-start;width: 50%;}#sk-container-id-1 div.sk-parallel-item:only-child::after {width: 0;}#sk-container-id-1 div.sk-dashed-wrapped {border: 1px dashed gray;margin: 0 0.4em 0.5em 0.4em;box-sizing: border-box;padding-bottom: 0.4em;background-color: white;}#sk-container-id-1 div.sk-label label {font-family: monospace;font-weight: bold;display: inline-block;line-height: 1.2em;}#sk-container-id-1 div.sk-label-container {text-align: center;}#sk-container-id-1 div.sk-container {/* jupyter's `normalize.less` sets `[hidden] { display: none; }` but bootstrap.min.css set `[hidden] { display: none !important; }` so we also need the `!important` here to be able to override the default hidden behavior on the sphinx rendered scikit-learn.org. See: https://github.com/scikit-learn/scikit-learn/issues/21755 */display: inline-block !important;position: relative;}#sk-container-id-1 div.sk-text-repr-fallback {display: none;}</style><div id=\"sk-container-id-1\" class=\"sk-top-container\"><div class=\"sk-text-repr-fallback\"><pre>Pipeline(steps=[(&#x27;tfidf&#x27;, TfidfVectorizer()), (&#x27;clf&#x27;, MultinomialNB())])</pre><b>In a Jupyter environment, please rerun this cell to show the HTML representation or trust the notebook. <br />On GitHub, the HTML representation is unable to render, please try loading this page with nbviewer.org.</b></div><div class=\"sk-container\" hidden><div class=\"sk-item sk-dashed-wrapped\"><div class=\"sk-label-container\"><div class=\"sk-label sk-toggleable\"><input class=\"sk-toggleable__control sk-hidden--visually\" id=\"sk-estimator-id-1\" type=\"checkbox\" ><label for=\"sk-estimator-id-1\" class=\"sk-toggleable__label sk-toggleable__label-arrow\">Pipeline</label><div class=\"sk-toggleable__content\"><pre>Pipeline(steps=[(&#x27;tfidf&#x27;, TfidfVectorizer()), (&#x27;clf&#x27;, MultinomialNB())])</pre></div></div></div><div class=\"sk-serial\"><div class=\"sk-item\"><div class=\"sk-estimator sk-toggleable\"><input class=\"sk-toggleable__control sk-hidden--visually\" id=\"sk-estimator-id-2\" type=\"checkbox\" ><label for=\"sk-estimator-id-2\" class=\"sk-toggleable__label sk-toggleable__label-arrow\">TfidfVectorizer</label><div class=\"sk-toggleable__content\"><pre>TfidfVectorizer()</pre></div></div></div><div class=\"sk-item\"><div class=\"sk-estimator sk-toggleable\"><input class=\"sk-toggleable__control sk-hidden--visually\" id=\"sk-estimator-id-3\" type=\"checkbox\" ><label for=\"sk-estimator-id-3\" class=\"sk-toggleable__label sk-toggleable__label-arrow\">MultinomialNB</label><div class=\"sk-toggleable__content\"><pre>MultinomialNB()</pre></div></div></div></div></div></div></div>"
            ]
          },
          "metadata": {},
          "execution_count": 20
        }
      ]
    },
    {
      "cell_type": "code",
      "source": [
        "# Evaluate baseline model on validation set\n",
        "model_0.score(\n",
        "    X = val_sentences ,\n",
        "    y = val_labels_encoded_labelencoder\n",
        ")"
      ],
      "metadata": {
        "colab": {
          "base_uri": "https://localhost:8080/"
        },
        "id": "ZpPJyjN0p4gk",
        "outputId": "f14f5a72-8a1d-4a50-b69d-5e2f933ee25c"
      },
      "execution_count": 21,
      "outputs": [
        {
          "output_type": "execute_result",
          "data": {
            "text/plain": [
              "0.7218323844829869"
            ]
          },
          "metadata": {},
          "execution_count": 21
        }
      ]
    },
    {
      "cell_type": "code",
      "source": [
        "# Make predictions using our baseline model\n",
        "baseline_preds = model_0.predict(val_sentences)\n",
        "baseline_preds"
      ],
      "metadata": {
        "colab": {
          "base_uri": "https://localhost:8080/"
        },
        "id": "1JERTAwfrkAZ",
        "outputId": "b45909af-337b-48d2-efe1-2476972cbfc8"
      },
      "execution_count": 22,
      "outputs": [
        {
          "output_type": "execute_result",
          "data": {
            "text/plain": [
              "array([4, 1, 3, ..., 4, 4, 1])"
            ]
          },
          "metadata": {},
          "execution_count": 22
        }
      ]
    },
    {
      "cell_type": "markdown",
      "source": [
        "# We will compare predictions across different metrics (accuracy , precision , recall , f1-score)\n",
        "\n"
      ],
      "metadata": {
        "id": "12N1Lv7dr8Od"
      }
    },
    {
      "cell_type": "code",
      "source": [
        "from sklearn.metrics import accuracy_score, precision_recall_fscore_support\n",
        "\n",
        "def calculate_results(y_true, y_pred):\n",
        "  \"\"\"\n",
        "  Calculates model accuracy, precision, recall and f1 score of a binary classification model.\n",
        "\n",
        "  Args:\n",
        "      y_true: true labels in the form of a 1D array\n",
        "      y_pred: predicted labels in the form of a 1D array\n",
        "\n",
        "  Returns a dictionary of accuracy, precision, recall, f1-score.\n",
        "  \"\"\"\n",
        "  # Calculate model accuracy\n",
        "  model_accuracy = accuracy_score(y_true, y_pred) * 100\n",
        "  # Calculate model precision, recall and f1 score using \"weighted average\n",
        "  model_precision, model_recall, model_f1, _ = precision_recall_fscore_support(y_true, y_pred, average=\"weighted\")\n",
        "  model_results = {\"accuracy\": model_accuracy,\n",
        "                  \"precision\": model_precision,\n",
        "                  \"recall\": model_recall,\n",
        "                  \"f1\": model_f1}\n",
        "  return model_results"
      ],
      "metadata": {
        "id": "qhMa5BWntAdP"
      },
      "execution_count": 23,
      "outputs": []
    },
    {
      "cell_type": "code",
      "source": [
        "baseline_results = calculate_results(\n",
        "    y_true = val_labels_encoded_labelencoder ,\n",
        "    y_pred = baseline_preds\n",
        "\n",
        ")\n",
        "baseline_results"
      ],
      "metadata": {
        "colab": {
          "base_uri": "https://localhost:8080/"
        },
        "id": "44jCF4CwuYJn",
        "outputId": "44fca2b1-330a-4d36-e04b-0e81dfc7183b"
      },
      "execution_count": 24,
      "outputs": [
        {
          "output_type": "execute_result",
          "data": {
            "text/plain": [
              "{'accuracy': 72.1832384482987,\n",
              " 'precision': 0.7186466952323352,\n",
              " 'recall': 0.7218323844829869,\n",
              " 'f1': 0.6989250353450294}"
            ]
          },
          "metadata": {},
          "execution_count": 24
        }
      ]
    },
    {
      "cell_type": "markdown",
      "source": [
        "# Model 1: Conv1D with token embeddings"
      ],
      "metadata": {
        "id": "rfqwHaUCufye"
      }
    },
    {
      "cell_type": "markdown",
      "source": [
        "# Create a text vectorizer layer\n",
        "\n",
        "We want to make a layer which maps our texts from words to number"
      ],
      "metadata": {
        "id": "twLDiuzc5cRV"
      }
    },
    {
      "cell_type": "code",
      "source": [
        "# How long is each sentence on average?\n",
        "import numpy as np\n",
        "sent_lens = [len(sentence.split()) for sentence in train_sentences]\n",
        "avg_sent_len = np.mean(sent_lens)\n",
        "avg_sent_len"
      ],
      "metadata": {
        "colab": {
          "base_uri": "https://localhost:8080/"
        },
        "id": "TL-iXn_J1RoG",
        "outputId": "7230e194-6eb8-40d6-8c3b-66e9a784fa41"
      },
      "execution_count": 25,
      "outputs": [
        {
          "output_type": "execute_result",
          "data": {
            "text/plain": [
              "26.338269273494777"
            ]
          },
          "metadata": {},
          "execution_count": 25
        }
      ]
    },
    {
      "cell_type": "code",
      "source": [
        "# What's the distribution look like?\n",
        "import matplotlib.pyplot as plt\n",
        "plt.hist(sent_lens, bins=20);"
      ],
      "metadata": {
        "colab": {
          "base_uri": "https://localhost:8080/",
          "height": 430
        },
        "id": "oohqz-171aZw",
        "outputId": "71dd36e3-c0d4-4cb2-863a-c90c5dd6dba5"
      },
      "execution_count": 26,
      "outputs": [
        {
          "output_type": "display_data",
          "data": {
            "text/plain": [
              "<Figure size 640x480 with 1 Axes>"
            ],
            "image/png": "[encoded data removed]"
          },
          "metadata": {}
        }
      ]
    },
    {
      "cell_type": "code",
      "source": [
        "# Find the average number of tokens in the training texts\n",
        "round(sum([len(i.split()) for i in train_sentences]) / len(train_sentences))"
      ],
      "metadata": {
        "colab": {
          "base_uri": "https://localhost:8080/"
        },
        "id": "92QdHQJ0vMjy",
        "outputId": "7f0c0a6e-216e-4229-c1be-cc2e0a3aff07"
      },
      "execution_count": 27,
      "outputs": [
        {
          "output_type": "execute_result",
          "data": {
            "text/plain": [
              "26"
            ]
          },
          "metadata": {},
          "execution_count": 27
        }
      ]
    },
    {
      "cell_type": "code",
      "source": [
        "# How long of a sentence lenght covers 95% of examples?\n",
        "output_seq_len = int(np.percentile(sent_lens, 95))\n",
        "output_seq_len  # output length kaç seçersek bizim datamızın %95 ini kapsar?"
      ],
      "metadata": {
        "colab": {
          "base_uri": "https://localhost:8080/"
        },
        "id": "7bLYOwWC1eRj",
        "outputId": "d5da3a2c-74ff-4404-d762-bf524150432c"
      },
      "execution_count": 28,
      "outputs": [
        {
          "output_type": "execute_result",
          "data": {
            "text/plain": [
              "55"
            ]
          },
          "metadata": {},
          "execution_count": 28
        }
      ]
    },
    {
      "cell_type": "code",
      "source": [
        "# How many word are in our vocab? (taken from table 2 in our dataset paper , we have 68000 words)\n",
        "max_tokens = 68000"
      ],
      "metadata": {
        "id": "jsRdYGX_51fh"
      },
      "execution_count": 29,
      "outputs": []
    },
    {
      "cell_type": "code",
      "source": [
        "# We will create our textvectorizer function for convertinf text into numbers\n",
        "\n",
        "import tensorflow as tf\n",
        "from tensorflow.keras.layers.experimental.preprocessing import TextVectorization\n",
        "\n",
        "#ngram substringleri birleştiriyor. Mesela elimizde 'Imagine getting flattened by Kurt Zouma' cümlesi var. ngram = 2 dersek , \"Image getting\" , \"flattened by\" , \"Kurt Zouma\"  gibi ikişer ikişer substringleri birleştiriyor.\n",
        "\n",
        "# Default values of TextVectorization\n",
        "text_vectorizer = TextVectorization(max_tokens = max_tokens , # How many words in the vocabulary ( automatically add <00V>)\n",
        "                                                       output_sequence_length = 55 , # Desired lenght of vectorized output length of vectorized sequences\n",
        "                                    )"
      ],
      "metadata": {
        "id": "RCu67l48vDZx"
      },
      "execution_count": 30,
      "outputs": []
    },
    {
      "cell_type": "code",
      "source": [
        "# Adapt text vectorizer to training sentences\n",
        "text_vectorizer.adapt(train_sentences)"
      ],
      "metadata": {
        "id": "M4Z9ae-yv4Dv"
      },
      "execution_count": 31,
      "outputs": []
    },
    {
      "cell_type": "code",
      "source": [
        "# Test out text vectorizer on random sentences\n",
        "import random\n",
        "target_sentence = random.choice(train_sentences)\n",
        "print(f\"Text:\\n{target_sentence}\")\n",
        "print(f\"\\n Length of text : {len(target_sentence.split())}\\n\")\n",
        "print(f\"Text vectorized form of the text : \\n{text_vectorizer([target_sentence])}\")"
      ],
      "metadata": {
        "colab": {
          "base_uri": "https://localhost:8080/"
        },
        "id": "tHf2YCFW7WiK",
        "outputId": "36da4e44-7c72-428c-c01d-1afae8baba56"
      },
      "execution_count": 32,
      "outputs": [
        {
          "output_type": "stream",
          "name": "stdout",
          "text": [
            "Text:\n",
            "logistic regression models were fit , adjusting for age , sex , race , bmi , cvd risk factors , cvd , and study site .\n",
            "\n",
            " Length of text : 26\n",
            "\n",
            "Text vectorized form of the text : \n",
            "[[ 959  388  476    9 2188 1515   11  103  693 2468  456 1594   73  254\n",
            "  1594    3   17  674    0    0    0    0    0    0    0    0    0    0\n",
            "     0    0    0    0    0    0    0    0    0    0    0    0    0    0\n",
            "     0    0    0    0    0    0    0    0    0    0    0    0    0]]\n"
          ]
        }
      ]
    },
    {
      "cell_type": "code",
      "source": [
        "# How many words in our training vocab?\n",
        "rct_20k_text_vocab = text_vectorizer.get_vocabulary()\n",
        "print(f\"Number of words in our vocab : {len(rct_20k_text_vocab)}\")\n",
        "print(f\"Most common words in the vocab : { rct_20k_text_vocab[ :  5 ] }\")\n",
        "print(f\"Least common words in the vocab : { rct_20k_text_vocab[ -5 : ] }\")\n"
      ],
      "metadata": {
        "colab": {
          "base_uri": "https://localhost:8080/"
        },
        "id": "Tm-zo1f08vzK",
        "outputId": "53f7992d-afd4-4877-fffc-a59ee983d126"
      },
      "execution_count": 33,
      "outputs": [
        {
          "output_type": "stream",
          "name": "stdout",
          "text": [
            "Number of words in our vocab : 64841\n",
            "Most common words in the vocab : ['', '[UNK]', 'the', 'and', 'of']\n",
            "Least common words in the vocab : ['aainduced', 'aaigroup', 'aachener', 'aachen', 'aaacp']\n"
          ]
        }
      ]
    },
    {
      "cell_type": "code",
      "source": [
        "# Get the config of our text vectorizer\n",
        "text_vectorizer.get_config()"
      ],
      "metadata": {
        "colab": {
          "base_uri": "https://localhost:8080/"
        },
        "id": "Z2KAlJ0y8v4A",
        "outputId": "c568408c-a1d5-40d2-efae-e77231bccee5"
      },
      "execution_count": 34,
      "outputs": [
        {
          "output_type": "execute_result",
          "data": {
            "text/plain": [
              "{'name': 'text_vectorization',\n",
              " 'trainable': True,\n",
              " 'dtype': 'string',\n",
              " 'batch_input_shape': (None,),\n",
              " 'max_tokens': 68000,\n",
              " 'standardize': 'lower_and_strip_punctuation',\n",
              " 'split': 'whitespace',\n",
              " 'ngrams': None,\n",
              " 'output_mode': 'int',\n",
              " 'output_sequence_length': 55,\n",
              " 'pad_to_max_tokens': False,\n",
              " 'sparse': False,\n",
              " 'ragged': False,\n",
              " 'vocabulary': None,\n",
              " 'idf_weights': None,\n",
              " 'encoding': 'utf-8',\n",
              " 'vocabulary_size': 64841}"
            ]
          },
          "metadata": {},
          "execution_count": 34
        }
      ]
    },
    {
      "cell_type": "markdown",
      "source": [
        "# Create an embedding layer"
      ],
      "metadata": {
        "id": "xC_PJP4u-FoD"
      }
    },
    {
      "cell_type": "code",
      "source": [
        "from tensorflow.keras import layers\n",
        "\n",
        "embedding = layers.Embedding( input_dim = len(rct_20k_text_vocab) ,  # set input shape\n",
        "                              output_dim = 128 , # Output shape. Every token in the format of 128 long vector\n",
        "                              mask_zero = True  # Input length 55 dedigimiz icin uzun cümlelerin sonunda 0 lar kalacak . Tensorflow to do more efficient computing when there is lots of zeros.\n",
        "                              )"
      ],
      "metadata": {
        "id": "RFNho50YwEOp"
      },
      "execution_count": 35,
      "outputs": []
    },
    {
      "cell_type": "code",
      "source": [
        "# Show example embedding\n",
        "# Cümleyi embed etmeden önce kesinlikle numerical form lazım bize o yüzden text vectorizationdan geçirmeden embedding yapamıyoruz.\n",
        "print(f\"Sentence before vectorization: \\n {target_sentence}\")\n",
        "vectorized_sentence = text_vectorizer ([target_sentence])\n",
        "print(f\"\\nVectorized form of our sentence (before embedding) : \\n {vectorized_sentence}\")\n",
        "embedded_sentence = embedding(vectorized_sentence)\n",
        "print(f\"\\nEmbedded form of our sentence : \\n {embedded_sentence}\")\n",
        "print(f\"\\nShape of embedded form of sentence \\n : {embedded_sentence.shape} \")"
      ],
      "metadata": {
        "colab": {
          "base_uri": "https://localhost:8080/"
        },
        "id": "8WjQf7x6_2h4",
        "outputId": "c71b5b10-16f3-447f-af84-df03878b83c7"
      },
      "execution_count": 36,
      "outputs": [
        {
          "output_type": "stream",
          "name": "stdout",
          "text": [
            "Sentence before vectorization: \n",
            " logistic regression models were fit , adjusting for age , sex , race , bmi , cvd risk factors , cvd , and study site .\n",
            "\n",
            "Vectorized form of our sentence (before embedding) : \n",
            " [[ 959  388  476    9 2188 1515   11  103  693 2468  456 1594   73  254\n",
            "  1594    3   17  674    0    0    0    0    0    0    0    0    0    0\n",
            "     0    0    0    0    0    0    0    0    0    0    0    0    0    0\n",
            "     0    0    0    0    0    0    0    0    0    0    0    0    0]]\n",
            "\n",
            "Embedded form of our sentence : \n",
            " [[[ 0.02091867  0.04585114  0.01550609 ...  0.02134326 -0.01716651\n",
            "    0.04275917]\n",
            "  [-0.0130051   0.02468995  0.04498234 ...  0.03635384 -0.00951552\n",
            "   -0.01899233]\n",
            "  [-0.03191489 -0.02974089 -0.0320208  ... -0.04402392  0.02255884\n",
            "   -0.04622916]\n",
            "  ...\n",
            "  [ 0.0018751  -0.01384751  0.04547224 ...  0.01862096  0.00766098\n",
            "   -0.04916186]\n",
            "  [ 0.0018751  -0.01384751  0.04547224 ...  0.01862096  0.00766098\n",
            "   -0.04916186]\n",
            "  [ 0.0018751  -0.01384751  0.04547224 ...  0.01862096  0.00766098\n",
            "   -0.04916186]]]\n",
            "\n",
            "Shape of embedded form of sentence \n",
            " : (1, 55, 128) \n"
          ]
        }
      ]
    },
    {
      "cell_type": "markdown",
      "source": [
        "# Creating datasets (making sure our data loads as fast as possible)\n",
        "\n",
        "We are going to setup our data to run as fast as possible with tensorflow tf.data API , many of the steps here are discussed at length in these two resources:\n",
        "\n",
        "https://www.tensorflow.org/guide/data_performance\n",
        "\n",
        "https://www.tensorflow.org/guide/data"
      ],
      "metadata": {
        "id": "8o6ko96pFWAo"
      }
    },
    {
      "cell_type": "code",
      "source": [
        "# Turn our data into TensorFlow Datasets\n",
        "train_dataset = tf.data.Dataset.from_tensor_slices((train_sentences , train_labels_encoded))\n",
        "test_dataset = tf.data.Dataset.from_tensor_slices((test_sentences , test_labels_encoded))\n",
        "val_dataset = tf.data.Dataset.from_tensor_slices((val_sentences , val_labels_encoded))\n",
        "\n",
        "# It combines them into tensorflow slice dataset"
      ],
      "metadata": {
        "id": "J6Xu4GEZGkvg"
      },
      "execution_count": 37,
      "outputs": []
    },
    {
      "cell_type": "code",
      "source": [
        "# Take the TensorSliceDataset's and turn them into prefetched datasets\n",
        "train_dataset = train_dataset.batch(32).prefetch(tf.data.AUTOTUNE)\n",
        "test_dataset = test_dataset.batch(32).prefetch(tf.data.AUTOTUNE)\n",
        "val_dataset = val_dataset.batch(32).prefetch(tf.data.AUTOTUNE)\n",
        "\n",
        "train_dataset\n",
        "\n",
        "#Shuffle etmiyoruz cünkü bu datamızda önceden bahsettiğimiz üzere order önemli."
      ],
      "metadata": {
        "colab": {
          "base_uri": "https://localhost:8080/"
        },
        "id": "l5wfcBKXIyPj",
        "outputId": "15027fa5-7cf0-43e6-d372-7d0272c1a41d"
      },
      "execution_count": 38,
      "outputs": [
        {
          "output_type": "execute_result",
          "data": {
            "text/plain": [
              "<_PrefetchDataset element_spec=(TensorSpec(shape=(None,), dtype=tf.string, name=None), TensorSpec(shape=(None, 5), dtype=tf.float64, name=None))>"
            ]
          },
          "metadata": {},
          "execution_count": 38
        }
      ]
    },
    {
      "cell_type": "code",
      "source": [
        "num_classes"
      ],
      "metadata": {
        "colab": {
          "base_uri": "https://localhost:8080/"
        },
        "id": "O-rFXqGbMlk6",
        "outputId": "2e48427e-8ac8-4aa2-af00-3fad35ef2004"
      },
      "execution_count": 39,
      "outputs": [
        {
          "output_type": "execute_result",
          "data": {
            "text/plain": [
              "5"
            ]
          },
          "metadata": {},
          "execution_count": 39
        }
      ]
    },
    {
      "cell_type": "code",
      "source": [
        "# Create model_1\n",
        "\n",
        "inputs = layers.Input(shape = (1,) , dtype  = tf.string)\n",
        "x = text_vectorizer(inputs)\n",
        "x = embedding(x)\n",
        "x = layers.Conv1D(64 , kernel_size = 5 , activation = \"relu\" , padding = \"same\")(x)\n",
        "x = layers.GlobalAveragePooling1D()(x) # Condense the output of our feature vector from conv layer\n",
        "outputs = layers.Dense( num_classes , activation = \"softmax\")(x)\n",
        "\n",
        "model_1 = tf.keras.Model(inputs , outputs)\n",
        "\n",
        "# Compile a model\n",
        "\n",
        "model_1.compile(loss = [\"categorical_crossentropy\"] ,\n",
        "                optimizer = tf.keras.optimizers.Adam() ,\n",
        "                metrics = [\"accuracy\"]\n",
        "                )\n",
        "\n",
        "# Fit the model\n",
        "hist_1 = model_1.fit(\n",
        "    train_dataset ,\n",
        "    epochs = 5 ,  # Eğer daha hızlı process istiyorsak burda steps_per_epoch = int( len(0.1 * len(train_dataset))) yapabiliriz ama böyle yaptıgımızda modelimiz train datamızın sadece %10 u ile train oluyor.\n",
        "    validation_data = val_dataset\n",
        ")\n",
        "# Direkt train_dataset ile feed ediyoruz çünkü bizim train_dataset imiz train sentenceları ve onların labellarını içeren bir tuple."
      ],
      "metadata": {
        "colab": {
          "base_uri": "https://localhost:8080/"
        },
        "id": "-BqFjb6pwOYE",
        "outputId": "6a471cd7-4dce-4dd8-8d63-33063d911970"
      },
      "execution_count": 40,
      "outputs": [
        {
          "output_type": "stream",
          "name": "stdout",
          "text": [
            "Epoch 1/5\n",
            "5627/5627 [==============================] - 127s 21ms/step - loss: 0.6162 - accuracy: 0.7756 - val_loss: 0.5352 - val_accuracy: 0.8100\n",
            "Epoch 2/5\n",
            "5627/5627 [==============================] - 54s 10ms/step - loss: 0.4522 - accuracy: 0.8416 - val_loss: 0.5350 - val_accuracy: 0.8112\n",
            "Epoch 3/5\n",
            "5627/5627 [==============================] - 53s 9ms/step - loss: 0.3715 - accuracy: 0.8729 - val_loss: 0.5694 - val_accuracy: 0.8077\n",
            "Epoch 4/5\n",
            "5627/5627 [==============================] - 61s 11ms/step - loss: 0.3067 - accuracy: 0.8977 - val_loss: 0.6303 - val_accuracy: 0.8003\n",
            "Epoch 5/5\n",
            "5627/5627 [==============================] - 58s 10ms/step - loss: 0.2523 - accuracy: 0.9181 - val_loss: 0.7108 - val_accuracy: 0.7925\n"
          ]
        }
      ]
    },
    {
      "cell_type": "code",
      "source": [
        "# Evaluate our model\n",
        "model_1_evaluation = model_1.evaluate(val_dataset)\n",
        "model_1_evaluation"
      ],
      "metadata": {
        "colab": {
          "base_uri": "https://localhost:8080/"
        },
        "id": "2Ewt-Hw0PZfK",
        "outputId": "512ed905-1bf0-44b5-f782-0c2a597a0819"
      },
      "execution_count": 41,
      "outputs": [
        {
          "output_type": "stream",
          "name": "stdout",
          "text": [
            "945/945 [==============================] - 4s 4ms/step - loss: 0.7108 - accuracy: 0.7925\n"
          ]
        },
        {
          "output_type": "execute_result",
          "data": {
            "text/plain": [
              "[0.7108069658279419, 0.7924665808677673]"
            ]
          },
          "metadata": {},
          "execution_count": 41
        }
      ]
    },
    {
      "cell_type": "code",
      "source": [
        "# Make predictions with our model\n",
        "model_1_preds = model_1.predict(val_dataset)\n",
        "model_1_preds"
      ],
      "metadata": {
        "colab": {
          "base_uri": "https://localhost:8080/"
        },
        "id": "bIaMVtVIZysl",
        "outputId": "3879a905-9054-457a-a033-fa05371eaae6"
      },
      "execution_count": 42,
      "outputs": [
        {
          "output_type": "stream",
          "name": "stdout",
          "text": [
            "945/945 [==============================] - 5s 5ms/step\n"
          ]
        },
        {
          "output_type": "execute_result",
          "data": {
            "text/plain": [
              "array([[4.8653999e-01, 2.0992723e-03, 4.4796583e-01, 1.8790184e-02,\n",
              "        4.4604730e-02],\n",
              "       [5.5880642e-01, 6.1282776e-02, 1.4642738e-03, 3.7330225e-01,\n",
              "        5.1442552e-03],\n",
              "       [3.4180645e-02, 6.5554137e-04, 5.0112056e-03, 9.6012354e-01,\n",
              "        2.9104678e-05],\n",
              "       ...,\n",
              "       [2.9804188e-09, 3.7888793e-07, 2.5264340e-04, 9.2058139e-09,\n",
              "        9.9974698e-01],\n",
              "       [6.4757466e-02, 3.3210450e-01, 4.1559392e-01, 7.9442719e-03,\n",
              "        1.7959979e-01],\n",
              "       [3.1161198e-04, 9.9918836e-01, 4.5682394e-04, 1.7869966e-06,\n",
              "        4.1460153e-05]], dtype=float32)"
            ]
          },
          "metadata": {},
          "execution_count": 42
        }
      ]
    },
    {
      "cell_type": "code",
      "source": [
        "model_1_preds.shape"
      ],
      "metadata": {
        "colab": {
          "base_uri": "https://localhost:8080/"
        },
        "id": "M_g3PjvBaKPx",
        "outputId": "0e8fd6dc-985b-4d0f-a8f1-2e1306d7cc9a"
      },
      "execution_count": 43,
      "outputs": [
        {
          "output_type": "execute_result",
          "data": {
            "text/plain": [
              "(30212, 5)"
            ]
          },
          "metadata": {},
          "execution_count": 43
        }
      ]
    },
    {
      "cell_type": "code",
      "source": [
        "# Convert preds to classes\n",
        "model_1_pred = tf.argmax(model_1_preds , axis = 1)\n"
      ],
      "metadata": {
        "id": "R5KAAXHsaUJI"
      },
      "execution_count": 44,
      "outputs": []
    },
    {
      "cell_type": "code",
      "source": [
        "model_1_pred"
      ],
      "metadata": {
        "colab": {
          "base_uri": "https://localhost:8080/"
        },
        "id": "-L_foDKla-Dr",
        "outputId": "c387af5a-dafd-4a41-b291-ca056d45bd14"
      },
      "execution_count": 45,
      "outputs": [
        {
          "output_type": "execute_result",
          "data": {
            "text/plain": [
              "<tf.Tensor: shape=(30212,), dtype=int64, numpy=array([0, 0, 3, ..., 4, 2, 1])>"
            ]
          },
          "metadata": {},
          "execution_count": 45
        }
      ]
    },
    {
      "cell_type": "code",
      "source": [
        "# Calculate model_1 results\n",
        "model_1_results = calculate_results(\n",
        "    y_true = val_labels_encoded_labelencoder ,\n",
        "    y_pred = model_1_pred\n",
        ")\n",
        "model_1_results"
      ],
      "metadata": {
        "colab": {
          "base_uri": "https://localhost:8080/"
        },
        "id": "0f2jxHd7bOC5",
        "outputId": "2cf3403a-2827-46b9-b8e9-3447de344c86"
      },
      "execution_count": 46,
      "outputs": [
        {
          "output_type": "execute_result",
          "data": {
            "text/plain": [
              "{'accuracy': 79.24665695750033,\n",
              " 'precision': 0.7891298999432785,\n",
              " 'recall': 0.7924665695750033,\n",
              " 'f1': 0.7895563108486371}"
            ]
          },
          "metadata": {},
          "execution_count": 46
        }
      ]
    },
    {
      "cell_type": "markdown",
      "source": [
        "# Model 2 : Feature extraction with pretrained token embeddings\n",
        "\n",
        "We can use glove embedding also but we will use universal sentence encoder (pre-trained word embeddings from tensorflow hub)."
      ],
      "metadata": {
        "id": "WoeWj6qAcnd8"
      }
    },
    {
      "cell_type": "code",
      "source": [
        "import tensorflow_hub as hub\n",
        "# embed = hub.load(\"https://tfhub.dev/google/universal-sentence-encoder/4\")  Bu kısım örnekleri hub a atıp görmek için"
      ],
      "metadata": {
        "id": "w-JK3snqhwJ8"
      },
      "execution_count": 47,
      "outputs": []
    },
    {
      "cell_type": "code",
      "source": [
        "# Create a Keras layer using USE pre-trained layer from tensorflow hub\n",
        "import tensorflow as tf\n",
        "\n",
        "sentence_encoder_layer = hub.KerasLayer(\n",
        "    \"https://tfhub.dev/google/universal-sentence-encoder/4\" ,\n",
        "    trainable = False ,\n",
        "    name = \"USE\"\n",
        ")"
      ],
      "metadata": {
        "id": "GEVa9Lafh02O"
      },
      "execution_count": 48,
      "outputs": []
    },
    {
      "cell_type": "code",
      "source": [
        "# Test out the pre-trained embedding on a random sentence\n",
        "\n",
        "random_train_sentence = random.choice(test_sentences)\n",
        "random_embedded_sentence  = sentence_encoder_layer([random_train_sentence])\n",
        "print(f\"Random sentence : \\n {random_train_sentence}\")\n",
        "print(f\"\\nEmbed form of our sentence: \\n {random_embedded_sentence} \")\n",
        "print(f\"\\nLength of embedded sentence : \\n {len(random_embedded_sentence[0])}\")"
      ],
      "metadata": {
        "colab": {
          "base_uri": "https://localhost:8080/"
        },
        "id": "9Mi4eaehiiHX",
        "outputId": "97dfce37-b8fa-48ce-8cfb-9d769ea82a21"
      },
      "execution_count": 49,
      "outputs": [
        {
          "output_type": "stream",
          "name": "stdout",
          "text": [
            "Random sentence : \n",
            " at @months after treatment the number of patients with cr was reduced to @ with cryotherapy and @ with laser ablation .\n",
            "\n",
            "Embed form of our sentence: \n",
            " [[-0.04765844  0.01311884  0.00321064 -0.07180312 -0.08292782 -0.04225048\n",
            "   0.02678376 -0.02028293  0.02162601 -0.0408618   0.09193021 -0.04585259\n",
            "   0.04525453  0.06463858  0.06761622  0.02873914 -0.08886822  0.00315998\n",
            "  -0.00165345  0.08007948 -0.03097664  0.02137813 -0.03552122  0.02879087\n",
            "   0.01498897  0.06072227  0.03861527  0.0263171  -0.04569403  0.04482121\n",
            "  -0.02668044  0.0935533   0.01670327 -0.02067879 -0.00791662  0.04870299\n",
            "   0.05198938 -0.04037824  0.0049426  -0.04069431 -0.01420355  0.02224198\n",
            "   0.02802604  0.02161364  0.04475604  0.08470328 -0.01191751 -0.03065433\n",
            "  -0.02751763  0.04334385 -0.07960258 -0.04875725 -0.04477914  0.04801407\n",
            "   0.03937572  0.02095051 -0.05973426 -0.00814882  0.03459857  0.00811628\n",
            "  -0.03563309 -0.05287505  0.03035549  0.00208666 -0.02291871  0.0556155\n",
            "   0.01592748  0.06100946 -0.07327215 -0.03020963  0.04356869 -0.078102\n",
            "  -0.00417513 -0.02724776 -0.06169945 -0.01401978  0.02573736 -0.01015877\n",
            "  -0.07912658 -0.03616079  0.0528286   0.00694596 -0.0049746   0.03105843\n",
            "  -0.06222547  0.07078385 -0.04393176  0.00137859  0.01306158 -0.02856516\n",
            "   0.00464504  0.04852917  0.04250715  0.04998647  0.06568518 -0.05488573\n",
            "  -0.05467236 -0.06103585 -0.01539018 -0.05458321  0.02162817  0.0017564\n",
            "   0.00090829  0.03810934  0.02898009 -0.06439769 -0.03892227  0.0596083\n",
            "   0.07450488  0.03808286  0.01188184 -0.0181593   0.02392652 -0.05239301\n",
            "   0.00271898 -0.06493552  0.02606284 -0.0894182   0.05895532 -0.0078014\n",
            "  -0.04256355 -0.02056648  0.00995538  0.05183763  0.01397523  0.03102419\n",
            "  -0.0669753  -0.00631316  0.05103634 -0.03287021 -0.05290844  0.09246875\n",
            "   0.03586533  0.00897205  0.01251353 -0.03480076  0.02642541  0.00517186\n",
            "   0.06344067  0.0024109   0.0389871   0.02402835 -0.05918584 -0.01370442\n",
            "  -0.02978723  0.04313937 -0.02383606 -0.06975728  0.03065672 -0.03950723\n",
            "   0.04064219 -0.04644793 -0.01797958  0.00689135  0.05193098  0.07274257\n",
            "  -0.03798747  0.05816207 -0.01818506  0.04156816 -0.0411679  -0.02555156\n",
            "  -0.00975164 -0.06189111  0.03713553  0.00332836 -0.01066778 -0.02300458\n",
            "   0.06031882  0.06139879 -0.05041581 -0.09049112 -0.00764155  0.03564136\n",
            "  -0.05008759 -0.0035409   0.01742507  0.04313716  0.04699682  0.03847043\n",
            "  -0.06265856 -0.05285927  0.04860201  0.0489577  -0.0167954   0.00539406\n",
            "   0.03491832 -0.00918288  0.05973534  0.04007201 -0.05960463 -0.04337193\n",
            "  -0.02230017  0.03198176  0.04080542 -0.00296925 -0.03109298 -0.00292454\n",
            "   0.0211713  -0.03799201 -0.02379461  0.05020863  0.01024949  0.00162955\n",
            "  -0.06424776 -0.03137548  0.06457771  0.01325327  0.03487536 -0.06836747\n",
            "  -0.01275792  0.00250412 -0.02349717 -0.02899852 -0.06867572 -0.01929252\n",
            "   0.04677274  0.04916836  0.02431373  0.05005797 -0.00830338 -0.00258499\n",
            "   0.04497052 -0.02079547  0.0410875   0.04861488  0.04441917 -0.03449893\n",
            "  -0.06454336  0.03743697  0.00218613  0.0702806  -0.03014698 -0.05179827\n",
            "   0.03723964 -0.00721482  0.03842315  0.05093735  0.01494125  0.03066301\n",
            "  -0.00201884  0.03098586 -0.00355124  0.03557144 -0.08116561 -0.03804106\n",
            "  -0.05110138 -0.01968463  0.02919255 -0.07857379 -0.02595501 -0.06230825\n",
            "  -0.02471308 -0.02340263  0.06520772 -0.00239703  0.02519389 -0.02267306\n",
            "  -0.02891187  0.06019478  0.02271945  0.00219588 -0.04926664  0.00646257\n",
            "   0.02395548  0.0296771  -0.03887519  0.0171412   0.05147883  0.06113643\n",
            "   0.00793175  0.00017525 -0.00530325 -0.09136323  0.03753472  0.03787574\n",
            "  -0.04343757 -0.02181669  0.00980667 -0.04263515  0.06481867 -0.05743809\n",
            "  -0.02905728 -0.02057191  0.00107817 -0.05128672 -0.02528003  0.01257787\n",
            "  -0.01102054 -0.06227803 -0.06634818 -0.08164077 -0.04875625  0.00844814\n",
            "  -0.04409038 -0.0506792  -0.07846679 -0.05769149  0.07729694  0.03091369\n",
            "   0.02168638  0.01339936 -0.02023177 -0.06708749 -0.05010776  0.02318366\n",
            "  -0.08539373 -0.01991883 -0.04810368  0.00379887 -0.08732117 -0.07137317\n",
            "   0.0287427   0.00284677  0.05278607 -0.06189764  0.0115167   0.01400209\n",
            "   0.02669305  0.00129045 -0.01781046  0.00168169 -0.03336653  0.01214433\n",
            "  -0.05118273  0.00459845 -0.03014567 -0.024047   -0.07978266  0.05983917\n",
            "   0.04492332 -0.03252378 -0.01053201  0.05148078 -0.00287266  0.05126119\n",
            "  -0.04216104 -0.05188378 -0.04405051 -0.00072824 -0.03702736  0.00676703\n",
            "   0.00377612  0.07982918 -0.02295251  0.03381647 -0.0530378   0.01425772\n",
            "  -0.04228741  0.00768037 -0.02262591  0.03455301  0.02697452 -0.01702498\n",
            "   0.07167151  0.06646451 -0.01164583 -0.03765566 -0.02298648  0.02222949\n",
            "   0.01130014  0.01747238 -0.05451833 -0.07261867  0.06789284  0.01577484\n",
            "   0.00624817  0.02269496 -0.0096712   0.0773768   0.05108899  0.02886629\n",
            "   0.02058529  0.00979579  0.06271536 -0.00804103  0.07711118 -0.06679195\n",
            "   0.00194538  0.03214296 -0.01441213  0.06921324 -0.07303256 -0.01531058\n",
            "   0.03924701  0.00730405 -0.05671688 -0.0612709   0.05721633  0.02294505\n",
            "  -0.03505062  0.06313875 -0.01026444  0.00940515 -0.05518566  0.01229762\n",
            "   0.06475413 -0.0629245   0.06086454 -0.08477584  0.07606     0.06277695\n",
            "  -0.068043   -0.04911337  0.02765417 -0.07649831  0.06612605 -0.01375753\n",
            "   0.05122523 -0.03645932 -0.02164937  0.04665421  0.04926055  0.04820788\n",
            "   0.02673158 -0.02829243 -0.01183561 -0.01124041  0.01219217  0.02454468\n",
            "   0.04929511  0.01475779  0.01173595  0.02611691 -0.04518561 -0.04545605\n",
            "  -0.07512485  0.03148982  0.04941076 -0.03211371 -0.08568538 -0.07200037\n",
            "   0.04243191  0.09161669  0.02150613 -0.03234575  0.02588486  0.04354824\n",
            "  -0.0386835   0.05088918  0.0146587  -0.00763717 -0.02199377  0.0221194\n",
            "   0.06968249 -0.0088775  -0.06464388  0.03620358 -0.0756194   0.0655088\n",
            "   0.02758759 -0.06614646  0.02978656 -0.01888868  0.01048429 -0.07103352\n",
            "   0.04048966  0.01547313 -0.0282503   0.04977691  0.05276982 -0.03127365\n",
            "  -0.01840643  0.0489165  -0.00540023  0.06254208 -0.07160513 -0.06851015\n",
            "  -0.06616092 -0.06975044  0.05809148  0.0281716  -0.07594176  0.01380406\n",
            "  -0.00337456  0.08275378  0.05046087  0.05848934  0.026598    0.0028085\n",
            "  -0.04314853  0.04906653  0.04650377  0.04380283  0.03730307 -0.02532353\n",
            "  -0.05393924 -0.06818459 -0.03195361 -0.07625511  0.07872214  0.04938349\n",
            "  -0.01456654 -0.06498694  0.0390142  -0.01958135  0.07995824  0.03774774\n",
            "   0.06176513  0.03022307  0.0268646   0.02923416  0.00432172 -0.01908059\n",
            "   0.07778932 -0.09325942 -0.05372798 -0.03569609 -0.01702355 -0.00242189\n",
            "  -0.01215181  0.00890108]] \n",
            "\n",
            "Length of embedded sentence : \n",
            " 512\n"
          ]
        }
      ]
    },
    {
      "cell_type": "code",
      "source": [
        "# Create a model with keras API\n",
        "\n",
        "inputs = layers.Input( shape = [] , dtype = tf.string)\n",
        "x = sentence_encoder_layer(inputs)  # Tokenize text and create embedding of each sequence (512 long vector)\n",
        "x = layers.Dense( 128 , activation = \"relu\")(x)\n",
        "outputs = layers.Dense( num_classes , activation = \"softmax\")(x)\n",
        "\n",
        "model_2 = tf.keras.Model( inputs , outputs )\n",
        "\n",
        "# Compile a model\n",
        "model_2.compile(loss = [\"categorical_crossentropy\"] ,\n",
        "                optimizer = tf.keras.optimizers.Adam() ,\n",
        "                metrics = [\"accuracy\"]\n",
        "                )\n",
        "\n",
        "# Fit the model\n",
        "hist_2 = model_2.fit(\n",
        "    train_dataset ,\n",
        "    epochs = 3 ,  # Eğer daha hızlı process istiyorsak burda steps_per_epoch = int( len(0.1 * len(train_dataset))) yapabiliriz ama böyle yaptıgımızda modelimiz train datamızın sadece %10 u ile train oluyor.\n",
        "    validation_data = val_dataset\n",
        ")\n",
        "\n",
        "\n",
        "\n"
      ],
      "metadata": {
        "colab": {
          "base_uri": "https://localhost:8080/"
        },
        "id": "sW9G3uSdlMdK",
        "outputId": "7ad5f8ea-aa98-4538-ef38-108fd972596e"
      },
      "execution_count": 50,
      "outputs": [
        {
          "output_type": "stream",
          "name": "stdout",
          "text": [
            "Epoch 1/3\n",
            "5627/5627 [==============================] - 103s 18ms/step - loss: 0.7316 - accuracy: 0.7207 - val_loss: 0.6599 - val_accuracy: 0.7481\n",
            "Epoch 2/3\n",
            "5627/5627 [==============================] - 112s 20ms/step - loss: 0.6383 - accuracy: 0.7581 - val_loss: 0.6248 - val_accuracy: 0.7617\n",
            "Epoch 3/3\n",
            "5627/5627 [==============================] - 116s 21ms/step - loss: 0.6029 - accuracy: 0.7716 - val_loss: 0.6087 - val_accuracy: 0.7687\n"
          ]
        }
      ]
    },
    {
      "cell_type": "code",
      "source": [
        "model_2.evaluate(val_dataset)"
      ],
      "metadata": {
        "colab": {
          "base_uri": "https://localhost:8080/"
        },
        "id": "ZMSXdZ61xmQf",
        "outputId": "60a38240-c700-466a-fff5-2be50cdfbe4a"
      },
      "execution_count": 51,
      "outputs": [
        {
          "output_type": "stream",
          "name": "stdout",
          "text": [
            "945/945 [==============================] - 19s 20ms/step - loss: 0.6087 - accuracy: 0.7687\n"
          ]
        },
        {
          "output_type": "execute_result",
          "data": {
            "text/plain": [
              "[0.6087071895599365, 0.7686680555343628]"
            ]
          },
          "metadata": {},
          "execution_count": 51
        }
      ]
    },
    {
      "cell_type": "code",
      "source": [
        "\n",
        "# Make predictions with feature extraction model\n",
        "model_2_pred_probs = model_2.predict(val_dataset)\n",
        "model_2_pred_probs"
      ],
      "metadata": {
        "colab": {
          "base_uri": "https://localhost:8080/"
        },
        "id": "FpcwVh7PxoFq",
        "outputId": "8b86e466-e6d1-4c33-add8-8102e9be33a5"
      },
      "execution_count": 52,
      "outputs": [
        {
          "output_type": "stream",
          "name": "stdout",
          "text": [
            "945/945 [==============================] - 20s 21ms/step\n"
          ]
        },
        {
          "output_type": "execute_result",
          "data": {
            "text/plain": [
              "array([[4.8087960e-01, 4.1088870e-01, 1.6402386e-04, 1.0516397e-01,\n",
              "        2.9036170e-03],\n",
              "       [3.7844920e-01, 5.3653312e-01, 1.6944703e-03, 8.2115188e-02,\n",
              "        1.2079993e-03],\n",
              "       [5.1726574e-01, 1.9350655e-02, 2.0619383e-02, 4.3487254e-01,\n",
              "        7.8916866e-03],\n",
              "       ...,\n",
              "       [8.0080453e-04, 3.7778495e-04, 2.7814459e-02, 1.4681528e-04,\n",
              "        9.7086012e-01],\n",
              "       [1.2700003e-02, 9.9756978e-02, 8.0436379e-02, 1.7465352e-03,\n",
              "        8.0536008e-01],\n",
              "       [8.0121420e-03, 9.8801780e-01, 3.4290813e-03, 3.9896837e-05,\n",
              "        5.0101848e-04]], dtype=float32)"
            ]
          },
          "metadata": {},
          "execution_count": 52
        }
      ]
    },
    {
      "cell_type": "code",
      "source": [
        "# Convert the prediction probabilities found with feature extraction model to labels\n",
        "model_2_preds = tf.argmax(model_2_pred_probs, axis=1)\n",
        "model_2_preds"
      ],
      "metadata": {
        "colab": {
          "base_uri": "https://localhost:8080/"
        },
        "id": "9td7SbOAxuS_",
        "outputId": "9bbf5cf6-2bf2-4a26-d69f-c8f895af9763"
      },
      "execution_count": 53,
      "outputs": [
        {
          "output_type": "execute_result",
          "data": {
            "text/plain": [
              "<tf.Tensor: shape=(30212,), dtype=int64, numpy=array([0, 1, 0, ..., 4, 4, 1])>"
            ]
          },
          "metadata": {},
          "execution_count": 53
        }
      ]
    },
    {
      "cell_type": "code",
      "source": [
        "model_2_results = calculate_results(y_true=val_labels_encoded_labelencoder,\n",
        "                                   y_pred=model_2_preds)\n",
        "model_2_results"
      ],
      "metadata": {
        "colab": {
          "base_uri": "https://localhost:8080/"
        },
        "id": "xRyi-gqAxxlY",
        "outputId": "0a24cc02-72c9-4e08-95ec-8fc9c3ddcf37"
      },
      "execution_count": 54,
      "outputs": [
        {
          "output_type": "execute_result",
          "data": {
            "text/plain": [
              "{'accuracy': 76.86680789090428,\n",
              " 'precision': 0.7659809788584763,\n",
              " 'recall': 0.7686680789090428,\n",
              " 'f1': 0.7644417868188416}"
            ]
          },
          "metadata": {},
          "execution_count": 54
        }
      ]
    },
    {
      "cell_type": "markdown",
      "source": [
        "# Model 3 : Conv1D with character embeddings\n",
        "\n",
        "The paper which we are replicating states they used a combination of token and character-level embeddings.\n",
        "\n",
        "Previously we have token-level embeddings but we will need to do similar steps for characters if we want to use char-level embeddings."
      ],
      "metadata": {
        "id": "g4diwHP27CRK"
      }
    },
    {
      "cell_type": "markdown",
      "source": [
        "## Creating a character-level tokenizer"
      ],
      "metadata": {
        "id": "IgNLnlbd9B2k"
      }
    },
    {
      "cell_type": "code",
      "source": [
        "list(train_sentences[0])"
      ],
      "metadata": {
        "colab": {
          "base_uri": "https://localhost:8080/"
        },
        "id": "J4DpwpVH9iv6",
        "outputId": "02b9e2ad-14ed-40de-bce7-ae4618cf208e"
      },
      "execution_count": 55,
      "outputs": [
        {
          "output_type": "execute_result",
          "data": {
            "text/plain": [
              "['t',\n",
              " 'o',\n",
              " ' ',\n",
              " 'i',\n",
              " 'n',\n",
              " 'v',\n",
              " 'e',\n",
              " 's',\n",
              " 't',\n",
              " 'i',\n",
              " 'g',\n",
              " 'a',\n",
              " 't',\n",
              " 'e',\n",
              " ' ',\n",
              " 't',\n",
              " 'h',\n",
              " 'e',\n",
              " ' ',\n",
              " 'e',\n",
              " 'f',\n",
              " 'f',\n",
              " 'i',\n",
              " 'c',\n",
              " 'a',\n",
              " 'c',\n",
              " 'y',\n",
              " ' ',\n",
              " 'o',\n",
              " 'f',\n",
              " ' ',\n",
              " '@',\n",
              " ' ',\n",
              " 'w',\n",
              " 'e',\n",
              " 'e',\n",
              " 'k',\n",
              " 's',\n",
              " ' ',\n",
              " 'o',\n",
              " 'f',\n",
              " ' ',\n",
              " 'd',\n",
              " 'a',\n",
              " 'i',\n",
              " 'l',\n",
              " 'y',\n",
              " ' ',\n",
              " 'l',\n",
              " 'o',\n",
              " 'w',\n",
              " '-',\n",
              " 'd',\n",
              " 'o',\n",
              " 's',\n",
              " 'e',\n",
              " ' ',\n",
              " 'o',\n",
              " 'r',\n",
              " 'a',\n",
              " 'l',\n",
              " ' ',\n",
              " 'p',\n",
              " 'r',\n",
              " 'e',\n",
              " 'd',\n",
              " 'n',\n",
              " 'i',\n",
              " 's',\n",
              " 'o',\n",
              " 'l',\n",
              " 'o',\n",
              " 'n',\n",
              " 'e',\n",
              " ' ',\n",
              " 'i',\n",
              " 'n',\n",
              " ' ',\n",
              " 'i',\n",
              " 'm',\n",
              " 'p',\n",
              " 'r',\n",
              " 'o',\n",
              " 'v',\n",
              " 'i',\n",
              " 'n',\n",
              " 'g',\n",
              " ' ',\n",
              " 'p',\n",
              " 'a',\n",
              " 'i',\n",
              " 'n',\n",
              " ' ',\n",
              " ',',\n",
              " ' ',\n",
              " 'm',\n",
              " 'o',\n",
              " 'b',\n",
              " 'i',\n",
              " 'l',\n",
              " 'i',\n",
              " 't',\n",
              " 'y',\n",
              " ' ',\n",
              " ',',\n",
              " ' ',\n",
              " 'a',\n",
              " 'n',\n",
              " 'd',\n",
              " ' ',\n",
              " 's',\n",
              " 'y',\n",
              " 's',\n",
              " 't',\n",
              " 'e',\n",
              " 'm',\n",
              " 'i',\n",
              " 'c',\n",
              " ' ',\n",
              " 'l',\n",
              " 'o',\n",
              " 'w',\n",
              " '-',\n",
              " 'g',\n",
              " 'r',\n",
              " 'a',\n",
              " 'd',\n",
              " 'e',\n",
              " ' ',\n",
              " 'i',\n",
              " 'n',\n",
              " 'f',\n",
              " 'l',\n",
              " 'a',\n",
              " 'm',\n",
              " 'm',\n",
              " 'a',\n",
              " 't',\n",
              " 'i',\n",
              " 'o',\n",
              " 'n',\n",
              " ' ',\n",
              " 'i',\n",
              " 'n',\n",
              " ' ',\n",
              " 't',\n",
              " 'h',\n",
              " 'e',\n",
              " ' ',\n",
              " 's',\n",
              " 'h',\n",
              " 'o',\n",
              " 'r',\n",
              " 't',\n",
              " ' ',\n",
              " 't',\n",
              " 'e',\n",
              " 'r',\n",
              " 'm',\n",
              " ' ',\n",
              " 'a',\n",
              " 'n',\n",
              " 'd',\n",
              " ' ',\n",
              " 'w',\n",
              " 'h',\n",
              " 'e',\n",
              " 't',\n",
              " 'h',\n",
              " 'e',\n",
              " 'r',\n",
              " ' ',\n",
              " 't',\n",
              " 'h',\n",
              " 'e',\n",
              " ' ',\n",
              " 'e',\n",
              " 'f',\n",
              " 'f',\n",
              " 'e',\n",
              " 'c',\n",
              " 't',\n",
              " ' ',\n",
              " 'w',\n",
              " 'o',\n",
              " 'u',\n",
              " 'l',\n",
              " 'd',\n",
              " ' ',\n",
              " 'b',\n",
              " 'e',\n",
              " ' ',\n",
              " 's',\n",
              " 'u',\n",
              " 's',\n",
              " 't',\n",
              " 'a',\n",
              " 'i',\n",
              " 'n',\n",
              " 'e',\n",
              " 'd',\n",
              " ' ',\n",
              " 'a',\n",
              " 't',\n",
              " ' ',\n",
              " '@',\n",
              " ' ',\n",
              " 'w',\n",
              " 'e',\n",
              " 'e',\n",
              " 'k',\n",
              " 's',\n",
              " ' ',\n",
              " 'i',\n",
              " 'n',\n",
              " ' ',\n",
              " 'o',\n",
              " 'l',\n",
              " 'd',\n",
              " 'e',\n",
              " 'r',\n",
              " ' ',\n",
              " 'a',\n",
              " 'd',\n",
              " 'u',\n",
              " 'l',\n",
              " 't',\n",
              " 's',\n",
              " ' ',\n",
              " 'w',\n",
              " 'i',\n",
              " 't',\n",
              " 'h',\n",
              " ' ',\n",
              " 'm',\n",
              " 'o',\n",
              " 'd',\n",
              " 'e',\n",
              " 'r',\n",
              " 'a',\n",
              " 't',\n",
              " 'e',\n",
              " ' ',\n",
              " 't',\n",
              " 'o',\n",
              " ' ',\n",
              " 's',\n",
              " 'e',\n",
              " 'v',\n",
              " 'e',\n",
              " 'r',\n",
              " 'e',\n",
              " ' ',\n",
              " 'k',\n",
              " 'n',\n",
              " 'e',\n",
              " 'e',\n",
              " ' ',\n",
              " 'o',\n",
              " 's',\n",
              " 't',\n",
              " 'e',\n",
              " 'o',\n",
              " 'a',\n",
              " 'r',\n",
              " 't',\n",
              " 'h',\n",
              " 'r',\n",
              " 'i',\n",
              " 't',\n",
              " 'i',\n",
              " 's',\n",
              " ' ',\n",
              " '(',\n",
              " ' ',\n",
              " 'o',\n",
              " 'a',\n",
              " ' ',\n",
              " ')',\n",
              " ' ',\n",
              " '.']"
            ]
          },
          "metadata": {},
          "execution_count": 55
        }
      ]
    },
    {
      "cell_type": "code",
      "source": [
        "\" \".join(list(train_sentences[0]))"
      ],
      "metadata": {
        "colab": {
          "base_uri": "https://localhost:8080/",
          "height": 70
        },
        "id": "03whmJq49lYS",
        "outputId": "813ffdad-0a93-454c-d4ec-56d3ebe4ad51"
      },
      "execution_count": 56,
      "outputs": [
        {
          "output_type": "execute_result",
          "data": {
            "text/plain": [
              "'t o   i n v e s t i g a t e   t h e   e f f i c a c y   o f   @   w e e k s   o f   d a i l y   l o w - d o s e   o r a l   p r e d n i s o l o n e   i n   i m p r o v i n g   p a i n   ,   m o b i l i t y   ,   a n d   s y s t e m i c   l o w - g r a d e   i n f l a m m a t i o n   i n   t h e   s h o r t   t e r m   a n d   w h e t h e r   t h e   e f f e c t   w o u l d   b e   s u s t a i n e d   a t   @   w e e k s   i n   o l d e r   a d u l t s   w i t h   m o d e r a t e   t o   s e v e r e   k n e e   o s t e o a r t h r i t i s   (   o a   )   .'"
            ],
            "application/vnd.google.colaboratory.intrinsic+json": {
              "type": "string"
            }
          },
          "metadata": {},
          "execution_count": 56
        }
      ]
    },
    {
      "cell_type": "code",
      "source": [
        "# Make function to  split sentences into characters\n",
        "def split_chars(text):\n",
        "  return \" \".join(list(text))"
      ],
      "metadata": {
        "id": "ECnKDghP9XwF"
      },
      "execution_count": 57,
      "outputs": []
    },
    {
      "cell_type": "code",
      "source": [
        "# Split sequence-level data splits into character-level data splits.\n",
        "train_chars = [split_chars(sentence) for sentence in train_sentences]\n",
        "val_chars = [split_chars(sentence) for sentence in val_sentences]\n",
        "test_chars = [split_chars(sentence) for sentence in test_sentences]\n",
        "train_chars[ : 5]\n"
      ],
      "metadata": {
        "colab": {
          "base_uri": "https://localhost:8080/"
        },
        "id": "W7fj1c9D-CXL",
        "outputId": "b04096c6-15ec-4233-c192-a3fd7b6fbc55"
      },
      "execution_count": 58,
      "outputs": [
        {
          "output_type": "execute_result",
          "data": {
            "text/plain": [
              "['t o   i n v e s t i g a t e   t h e   e f f i c a c y   o f   @   w e e k s   o f   d a i l y   l o w - d o s e   o r a l   p r e d n i s o l o n e   i n   i m p r o v i n g   p a i n   ,   m o b i l i t y   ,   a n d   s y s t e m i c   l o w - g r a d e   i n f l a m m a t i o n   i n   t h e   s h o r t   t e r m   a n d   w h e t h e r   t h e   e f f e c t   w o u l d   b e   s u s t a i n e d   a t   @   w e e k s   i n   o l d e r   a d u l t s   w i t h   m o d e r a t e   t o   s e v e r e   k n e e   o s t e o a r t h r i t i s   (   o a   )   .',\n",
              " 'a   t o t a l   o f   @   p a t i e n t s   w i t h   p r i m a r y   k n e e   o a   w e r e   r a n d o m i z e d   @ : @   ;   @   r e c e i v e d   @   m g / d a y   o f   p r e d n i s o l o n e   a n d   @   r e c e i v e d   p l a c e b o   f o r   @   w e e k s   .',\n",
              " 'o u t c o m e   m e a s u r e s   i n c l u d e d   p a i n   r e d u c t i o n   a n d   i m p r o v e m e n t   i n   f u n c t i o n   s c o r e s   a n d   s y s t e m i c   i n f l a m m a t i o n   m a r k e r s   .',\n",
              " 'p a i n   w a s   a s s e s s e d   u s i n g   t h e   v i s u a l   a n a l o g   p a i n   s c a l e   (   @ - @   m m   )   .',\n",
              " 's e c o n d a r y   o u t c o m e   m e a s u r e s   i n c l u d e d   t h e   w e s t e r n   o n t a r i o   a n d   m c m a s t e r   u n i v e r s i t i e s   o s t e o a r t h r i t i s   i n d e x   s c o r e s   ,   p a t i e n t   g l o b a l   a s s e s s m e n t   (   p g a   )   o f   t h e   s e v e r i t y   o f   k n e e   o a   ,   a n d   @ - m i n   w a l k   d i s t a n c e   (   @ m w d   )   .']"
            ]
          },
          "metadata": {},
          "execution_count": 58
        }
      ]
    },
    {
      "cell_type": "code",
      "source": [
        "# What is the average character length?\n",
        "char_lens = [ len(character) for character in train_sentences]\n",
        "mean_char_len = np.mean(char_lens)\n",
        "mean_char_len\n"
      ],
      "metadata": {
        "colab": {
          "base_uri": "https://localhost:8080/"
        },
        "id": "GnqG8Gem_CZR",
        "outputId": "f69ad40f-f5a2-42bc-b548-68eb1fad321e"
      },
      "execution_count": 59,
      "outputs": [
        {
          "output_type": "execute_result",
          "data": {
            "text/plain": [
              "149.3662574983337"
            ]
          },
          "metadata": {},
          "execution_count": 59
        }
      ]
    },
    {
      "cell_type": "code",
      "source": [
        "# Check the distribution of our sequences at a character-level\n",
        "import matplotlib.pyplot as plt\n",
        "plt.hist(char_lens , bins = 7);"
      ],
      "metadata": {
        "colab": {
          "base_uri": "https://localhost:8080/",
          "height": 430
        },
        "id": "Byi1zHr0_eQM",
        "outputId": "ea9d8f21-7d28-4838-bec2-5aef7120db7e"
      },
      "execution_count": 60,
      "outputs": [
        {
          "output_type": "display_data",
          "data": {
            "text/plain": [
              "<Figure size 640x480 with 1 Axes>"
            ],
            "image/png": "[encoded data removed]"
          },
          "metadata": {}
        }
      ]
    },
    {
      "cell_type": "code",
      "source": [
        "# Find what character length covers 95% of sequences\n",
        "output_seq_char_length = int(np.percentile(char_lens , 95))\n",
        "output_seq_char_length\n"
      ],
      "metadata": {
        "colab": {
          "base_uri": "https://localhost:8080/"
        },
        "id": "EC6U9LjpH9us",
        "outputId": "d350f33a-2479-45e6-cf80-e0792c2a9668"
      },
      "execution_count": 61,
      "outputs": [
        {
          "output_type": "execute_result",
          "data": {
            "text/plain": [
              "290"
            ]
          },
          "metadata": {},
          "execution_count": 61
        }
      ]
    },
    {
      "cell_type": "code",
      "source": [
        "# Get all keyboard characters. Text vectorizerdeki max tokensi bulmaya çalışıyoruz. Fakat burda farklı bir yaklaşım yapacağız. Çünkü mesela d harfi çok fazla kez kullanılıyor kelimelerde fakat d her zaman aynı d. Bu yüzden bunu bir kere kullanmamız gerekiyor.\n",
        "import string\n",
        "alphabet = string.ascii_lowercase + string.digits + string.punctuation\n",
        "alphabet\n",
        "# We will use len of this alphabet object\n",
        "\n"
      ],
      "metadata": {
        "colab": {
          "base_uri": "https://localhost:8080/",
          "height": 35
        },
        "id": "qxb6jp5ZIKLD",
        "outputId": "64f10f4c-d94c-4386-a144-61317a37ea23"
      },
      "execution_count": 62,
      "outputs": [
        {
          "output_type": "execute_result",
          "data": {
            "text/plain": [
              "'abcdefghijklmnopqrstuvwxyz0123456789!\"#$%&\\'()*+,-./:;<=>?@[\\\\]^_`{|}~'"
            ],
            "application/vnd.google.colaboratory.intrinsic+json": {
              "type": "string"
            }
          },
          "metadata": {},
          "execution_count": 62
        }
      ]
    },
    {
      "cell_type": "code",
      "source": [
        "# Create char-level token vectorizer instance\n",
        "NUM_CHAR_TOKENS = len(alphabet) + 2  # Add 2 for space and OOV token (OOV = out of vocab , '[UNK]' )\n",
        "char_vectorizer = TextVectorization(\n",
        "    max_tokens = NUM_CHAR_TOKENS ,\n",
        "    output_sequence_length = output_seq_char_length ,\n",
        "    name = \"char_vectorizer\"\n",
        ")"
      ],
      "metadata": {
        "id": "s4_xUDzQJu6H"
      },
      "execution_count": 63,
      "outputs": []
    },
    {
      "cell_type": "code",
      "source": [
        "# Adapt character vectorizer to training character\n",
        "char_vectorizer.adapt(train_chars)"
      ],
      "metadata": {
        "id": "YmMuh3SDK-hT"
      },
      "execution_count": 64,
      "outputs": []
    },
    {
      "cell_type": "code",
      "source": [
        "# Check character vocab stats\n",
        "char_vocab = char_vectorizer.get_vocabulary()\n",
        "print(f\"Number of different characters in our character vocab : \\n {len(char_vocab)}\")\n",
        "print(f\"\\n5 most common character in our vocab :\\n {char_vocab[ : 5]}\")\n",
        "print(f\"\\n5 least common character in our vocab : \\n {char_vocab[ -5 : ]}\")"
      ],
      "metadata": {
        "colab": {
          "base_uri": "https://localhost:8080/"
        },
        "id": "ZEo9I0SvLegs",
        "outputId": "e4e94429-80b1-4d36-dc4a-81ba648353d5"
      },
      "execution_count": 65,
      "outputs": [
        {
          "output_type": "stream",
          "name": "stdout",
          "text": [
            "Number of different characters in our character vocab : \n",
            " 28\n",
            "\n",
            "5 most common character in our vocab :\n",
            " ['', '[UNK]', 'e', 't', 'i']\n",
            "\n",
            "5 least common character in our vocab : \n",
            " ['k', 'x', 'z', 'q', 'j']\n"
          ]
        }
      ]
    },
    {
      "cell_type": "code",
      "source": [
        "# Test out character vectorizer\n",
        "random_train_chars = random.choice(train_chars)\n",
        "print(f\"Charified text : \\n {random_train_chars}\")\n",
        "print(f\"\\nLength of random train chars : \\n {len(random_train_chars.split())}\")\n",
        "vectorized_chars = char_vectorizer([random_train_chars])\n",
        "print(f\"\\n Vectorized chars : \\n {vectorized_chars}\")\n",
        "print(f\"\\n Length of vectorized chars : \\n {len(vectorized_chars[0])}\")"
      ],
      "metadata": {
        "colab": {
          "base_uri": "https://localhost:8080/"
        },
        "id": "lsw2gnJCM8VQ",
        "outputId": "54c56d71-0b2b-4b1c-d14f-f8914267527e"
      },
      "execution_count": 66,
      "outputs": [
        {
          "output_type": "stream",
          "name": "stdout",
          "text": [
            "Charified text : \n",
            " t h e   m e d i a n   a g e   w a s   @   y e a r s   ,   t h e   m e d i a n   k p s   w a s   @   ,   a n d   t h e   p r e d o m i n a n t   h i s t o l o g i e s   w e r e   n o n - s m a l l   c e l l   l u n g   c a n c e r   (   @   p a t i e n t s   )   a n d   m e l a n o m a   (   @   )   .\n",
            "\n",
            "Length of random train chars : \n",
            " 120\n",
            "\n",
            " Vectorized chars : \n",
            " [[ 3 13  2 15  2 10  4  5  6  5 18  2 20  5  9 19  2  5  8  9  3 13  2 15\n",
            "   2 10  4  5  6 23 14  9 20  5  9  5  6 10  3 13  2 14  8  2 10  7 15  4\n",
            "   6  5  6  3 13  4  9  3  7 12  7 18  4  2  9 20  2  8  2  6  7  6  9 15\n",
            "   5 12 12 11  2 12 12 12 16  6 18 11  5  6 11  2  8 14  5  3  4  2  6  3\n",
            "   9  5  6 10 15  2 12  5  6  7 15  5  0  0  0  0  0  0  0  0  0  0  0  0\n",
            "   0  0  0  0  0  0  0  0  0  0  0  0  0  0  0  0  0  0  0  0  0  0  0  0\n",
            "   0  0  0  0  0  0  0  0  0  0  0  0  0  0  0  0  0  0  0  0  0  0  0  0\n",
            "   0  0  0  0  0  0  0  0  0  0  0  0  0  0  0  0  0  0  0  0  0  0  0  0\n",
            "   0  0  0  0  0  0  0  0  0  0  0  0  0  0  0  0  0  0  0  0  0  0  0  0\n",
            "   0  0  0  0  0  0  0  0  0  0  0  0  0  0  0  0  0  0  0  0  0  0  0  0\n",
            "   0  0  0  0  0  0  0  0  0  0  0  0  0  0  0  0  0  0  0  0  0  0  0  0\n",
            "   0  0  0  0  0  0  0  0  0  0  0  0  0  0  0  0  0  0  0  0  0  0  0  0\n",
            "   0  0]]\n",
            "\n",
            " Length of vectorized chars : \n",
            " 290\n"
          ]
        }
      ]
    },
    {
      "cell_type": "markdown",
      "source": [
        "# Create a character level embedding layer"
      ],
      "metadata": {
        "id": "MfWo5UdKRcDH"
      }
    },
    {
      "cell_type": "code",
      "source": [
        "# Create char embedding layer\n",
        "\n",
        "char_embed = layers.Embedding(\n",
        "    input_dim = len(char_vocab) ,\n",
        "    output_dim = 25 , # In paper , they say we should use 25 for output dim ,\n",
        "    mask_zero = True ,\n",
        "    name = \"char_embed\"\n",
        ")"
      ],
      "metadata": {
        "id": "fUO0qWkAWa8B"
      },
      "execution_count": 67,
      "outputs": []
    },
    {
      "cell_type": "code",
      "source": [
        "# Test our character level embedding layer\n",
        "print(f\"Random sentence : \\n {random_train_chars}\")\n",
        "print(f\"\\nLength of our sentence : \\n {len(random_train_chars)}\")\n",
        "embedded_sentence = char_embed(char_vectorizer([random_train_chars]))\n",
        "print(f\"\\nEmbedded form of our sentence : \\n {embedded_sentence}\")\n",
        "print(f\"\\n Length of embedded form's sentence : \\n {len(embedded_sentence[0])}\")\n",
        "print(f\"\\n Shape of embedded form's sentence : \\n {embedded_sentence.shape}\")"
      ],
      "metadata": {
        "colab": {
          "base_uri": "https://localhost:8080/"
        },
        "id": "6V2jKXlgW4mi",
        "outputId": "0ed3b60a-e52d-4521-e3ff-33349000f91c"
      },
      "execution_count": 68,
      "outputs": [
        {
          "output_type": "stream",
          "name": "stdout",
          "text": [
            "Random sentence : \n",
            " t h e   m e d i a n   a g e   w a s   @   y e a r s   ,   t h e   m e d i a n   k p s   w a s   @   ,   a n d   t h e   p r e d o m i n a n t   h i s t o l o g i e s   w e r e   n o n - s m a l l   c e l l   l u n g   c a n c e r   (   @   p a t i e n t s   )   a n d   m e l a n o m a   (   @   )   .\n",
            "\n",
            "Length of our sentence : \n",
            " 301\n",
            "\n",
            "Embedded form of our sentence : \n",
            " [[[ 0.04052401 -0.03843371 -0.02699591 ...  0.03207489  0.02819092\n",
            "   -0.02547239]\n",
            "  [ 0.03394974  0.00813297 -0.03180631 ... -0.01521755  0.04015753\n",
            "    0.00550324]\n",
            "  [ 0.02259452  0.04996226  0.00782406 ...  0.04378096 -0.00027708\n",
            "    0.013389  ]\n",
            "  ...\n",
            "  [-0.04584054  0.03226138  0.01263129 ...  0.03029636 -0.00045728\n",
            "   -0.04672183]\n",
            "  [-0.04584054  0.03226138  0.01263129 ...  0.03029636 -0.00045728\n",
            "   -0.04672183]\n",
            "  [-0.04584054  0.03226138  0.01263129 ...  0.03029636 -0.00045728\n",
            "   -0.04672183]]]\n",
            "\n",
            " Length of embedded form's sentence : \n",
            " 290\n",
            "\n",
            " Shape of embedded form's sentence : \n",
            " (1, 290, 25)\n"
          ]
        }
      ]
    },
    {
      "cell_type": "code",
      "source": [
        "# Create Conv1D model with character-level embedding\n",
        "from tensorflow.keras import layers\n",
        "\n",
        "inputs = layers.Input(shape = ( 1 ,) , dtype = tf.string)\n",
        "x = char_vectorizer(inputs)\n",
        "x = char_embed(x)\n",
        "x = layers.Conv1D( 64 , activation = \"relu\" , kernel_size = 5 , padding = \"same\")(x)\n",
        "x = layers.GlobalMaxPool1D()(x)  # Global average poolingte kötü sonuç alırsan maxpool dene.\n",
        "outputs = layers.Dense( 5 , activation = \"softmax\")(x)\n",
        "\n",
        "model_3 = tf.keras.Model( inputs , outputs)\n",
        "\n",
        "\n"
      ],
      "metadata": {
        "id": "Hn1St2ZYXil-"
      },
      "execution_count": 69,
      "outputs": []
    },
    {
      "cell_type": "code",
      "source": [
        "model_3.summary()"
      ],
      "metadata": {
        "colab": {
          "base_uri": "https://localhost:8080/"
        },
        "id": "r6Yh60VrZs-q",
        "outputId": "31720b39-5b45-434e-e47a-8145699fdd20"
      },
      "execution_count": 70,
      "outputs": [
        {
          "output_type": "stream",
          "name": "stdout",
          "text": [
            "Model: \"model_2\"\n",
            "_________________________________________________________________\n",
            " Layer (type)                Output Shape              Param #   \n",
            "=================================================================\n",
            " input_3 (InputLayer)        [(None, 1)]               0         \n",
            "                                                                 \n",
            " char_vectorizer (TextVector  (None, 290)              0         \n",
            " ization)                                                        \n",
            "                                                                 \n",
            " char_embed (Embedding)      (None, 290, 25)           700       \n",
            "                                                                 \n",
            " conv1d_1 (Conv1D)           (None, 290, 64)           8064      \n",
            "                                                                 \n",
            " global_max_pooling1d (Globa  (None, 64)               0         \n",
            " lMaxPooling1D)                                                  \n",
            "                                                                 \n",
            " dense_3 (Dense)             (None, 5)                 325       \n",
            "                                                                 \n",
            "=================================================================\n",
            "Total params: 9,089\n",
            "Trainable params: 9,089\n",
            "Non-trainable params: 0\n",
            "_________________________________________________________________\n"
          ]
        }
      ]
    },
    {
      "cell_type": "code",
      "source": [
        "train_dataset_char = tf.data.Dataset.from_tensor_slices((train_chars , train_labels_encoded))\n",
        "test_dataset_char = tf.data.Dataset.from_tensor_slices((test_chars , test_labels_encoded))\n",
        "val_dataset_char = tf.data.Dataset.from_tensor_slices((val_chars , val_labels_encoded))\n",
        "\n",
        "train_dataset_char = train_dataset_char.batch(32).prefetch(tf.data.AUTOTUNE)\n",
        "test_dataset_char = test_dataset_char.batch(32).prefetch(tf.data.AUTOTUNE)\n",
        "val_dataset_char = val_dataset_char.batch(32).prefetch(tf.data.AUTOTUNE)\n"
      ],
      "metadata": {
        "id": "24gLQjOOafnn"
      },
      "execution_count": 71,
      "outputs": []
    },
    {
      "cell_type": "code",
      "source": [
        "# Compile a model\n",
        "model_3.compile(loss = [\"categorical_crossentropy\"] ,\n",
        "                optimizer = tf.keras.optimizers.Adam() ,\n",
        "                metrics = [\"accuracy\"]\n",
        "                )\n",
        "\n",
        "# Fit the model\n",
        "\n",
        "hist_3 = model_3.fit(\n",
        "    train_dataset_char ,\n",
        "    epochs = 3 ,\n",
        "    validation_data = val_dataset_char\n",
        "\n",
        ")"
      ],
      "metadata": {
        "colab": {
          "base_uri": "https://localhost:8080/"
        },
        "id": "aizX7-MzZ1sQ",
        "outputId": "5557054f-0208-400b-b22e-2124854062e9"
      },
      "execution_count": 72,
      "outputs": [
        {
          "output_type": "stream",
          "name": "stdout",
          "text": [
            "Epoch 1/3\n",
            "5627/5627 [==============================] - 41s 7ms/step - loss: 0.8850 - accuracy: 0.6547 - val_loss: 0.7741 - val_accuracy: 0.7052\n",
            "Epoch 2/3\n",
            "5627/5627 [==============================] - 39s 7ms/step - loss: 0.7451 - accuracy: 0.7172 - val_loss: 0.7380 - val_accuracy: 0.7180\n",
            "Epoch 3/3\n",
            "5627/5627 [==============================] - 37s 7ms/step - loss: 0.7136 - accuracy: 0.7298 - val_loss: 0.7222 - val_accuracy: 0.7245\n"
          ]
        }
      ]
    },
    {
      "cell_type": "code",
      "source": [
        "# Make predictions with our character-level model\n",
        "model_3_pred_probs = model_3.predict(val_dataset_char)\n",
        "model_3_pred_probs\n"
      ],
      "metadata": {
        "colab": {
          "base_uri": "https://localhost:8080/"
        },
        "id": "3_05_b_pdzu2",
        "outputId": "8e3a11ec-dfe7-421a-f91e-bd500f383750"
      },
      "execution_count": 73,
      "outputs": [
        {
          "output_type": "stream",
          "name": "stdout",
          "text": [
            "945/945 [==============================] - 3s 3ms/step\n"
          ]
        },
        {
          "output_type": "execute_result",
          "data": {
            "text/plain": [
              "array([[1.7027967e-01, 2.6103663e-01, 5.0603159e-02, 4.5197216e-01,\n",
              "        6.6108406e-02],\n",
              "       [1.6177443e-01, 6.5256774e-01, 4.6086186e-03, 1.7096780e-01,\n",
              "        1.0081367e-02],\n",
              "       [2.8668737e-01, 6.5064929e-02, 7.5158216e-02, 5.3349888e-01,\n",
              "        3.9590586e-02],\n",
              "       ...,\n",
              "       [3.0950271e-03, 1.3394037e-02, 9.6275704e-03, 1.0819150e-03,\n",
              "        9.7280145e-01],\n",
              "       [4.8360132e-02, 2.4218391e-01, 3.0041766e-01, 1.0356071e-02,\n",
              "        3.9868227e-01],\n",
              "       [5.2524194e-02, 9.3952340e-01, 1.1770071e-03, 7.3060259e-04,\n",
              "        6.0448768e-03]], dtype=float32)"
            ]
          },
          "metadata": {},
          "execution_count": 73
        }
      ]
    },
    {
      "cell_type": "code",
      "source": [
        "# Convert prediction probabilities to classes\n",
        "model_3_pred = tf.argmax(model_3_pred_probs , axis = 1)\n",
        "model_3_pred"
      ],
      "metadata": {
        "colab": {
          "base_uri": "https://localhost:8080/"
        },
        "id": "vk0HsOJsd9gB",
        "outputId": "19d9eb78-9791-42e4-c2cb-127279cbf3b5"
      },
      "execution_count": 74,
      "outputs": [
        {
          "output_type": "execute_result",
          "data": {
            "text/plain": [
              "<tf.Tensor: shape=(30212,), dtype=int64, numpy=array([3, 1, 3, ..., 4, 4, 1])>"
            ]
          },
          "metadata": {},
          "execution_count": 74
        }
      ]
    },
    {
      "cell_type": "code",
      "source": [
        "# Calculate the results\n",
        "\n",
        "model_3_results = calculate_results(\n",
        "    y_true = val_labels_encoded_labelencoder ,\n",
        "    y_pred = model_3_pred\n",
        ")\n",
        "model_3_results"
      ],
      "metadata": {
        "colab": {
          "base_uri": "https://localhost:8080/"
        },
        "id": "VTH6pecjed9d",
        "outputId": "2ff0d315-d874-46dd-d7d4-d13bb20eacc2"
      },
      "execution_count": 75,
      "outputs": [
        {
          "output_type": "execute_result",
          "data": {
            "text/plain": [
              "{'accuracy': 72.45465377995498,\n",
              " 'precision': 0.7212349345654875,\n",
              " 'recall': 0.7245465377995498,\n",
              " 'f1': 0.7165747715773316}"
            ]
          },
          "metadata": {},
          "execution_count": 75
        }
      ]
    },
    {
      "cell_type": "markdown",
      "source": [
        "# Model 4 : Combining pretrained token embeddings + characters embeddings (hybrid embedding layer)\n",
        "\n",
        "1. Create a token-level embedding model (similar 'model_1')\n",
        "2. Create a character-level embedding model (similar 'model_3')\n",
        "3. Combine step 1 and 2 with a concatenate ('layers.Concatenate')\n",
        "4. Build a series of output layers on top of step 3 similar to figure 1 and section 4.2 in paper.\n",
        "5. Construct a model which takes token and character-level sequences as input and produces sequence label probabilities as output."
      ],
      "metadata": {
        "id": "J9Hw4Q9je836"
      }
    },
    {
      "cell_type": "code",
      "source": [
        "# 1. Setup token inputs/model. This is for step 1 : token-level embedding . We used pre-trained model from tensorflow hub.\n",
        "token_inputs = layers.Input(shape = [] , dtype = tf.string)\n",
        "token_embeddings = sentence_encoder_layer(token_inputs)\n",
        "token_outputs = layers.Dense( 128 , activation = \"relu\")(token_embeddings)\n",
        "token_model = tf.keras.Model(token_inputs , token_outputs)\n",
        "\n",
        "# 2. Setup char inputs/model. This is step 2 : character level embedding and we will use bidirectional LSTM layer\n",
        "char_inputs = layers.Input(shape = (1,) , dtype = tf.string)\n",
        "char_vectors = char_vectorizer(char_inputs)\n",
        "char_embeddings = char_embed(char_vectors)\n",
        "char_bi_lstm = layers.Bidirectional(layers.LSTM(24))(char_embeddings)  # bi_lstm shown in figure 1 https://arxiv.org/pdf/1612.05251.pdf\n",
        "char_model = tf.keras.Model(char_inputs , char_bi_lstm)\n",
        "\n",
        "# 3. Concatenate token and char outputs (hybrid token embedding)\n",
        "\n",
        "token_char_concat = tf.keras.layers.Concatenate(name = \"token_char_hybrid\")([\n",
        "    token_model.output ,  #.output ile modellerimizin outputunu çekiyoruz. Eğer papera bakarsak tokenla character embedding modellerinin outputlarını concatenate ediyoruz aslında burda bunu yaptık.\n",
        "    char_model.output  # Order önemli. Yukardaki modelde ilk hangisini oluşturduysak burda da ilk onun outputunu çekiyoruz.\n",
        "])\n",
        "\n",
        "# 4. Create output layers - adding in DropOut , discussed in section 4.2\n",
        "combined_dropout = layers.Dropout(0.5)(token_char_concat)  # Dropout layer eklemek overfittingi önlüyor. 0.5 dediğimiz %50 demek oluyor. Overfitting train datayı çok iyi öğrenmek olduğu için dropout layer modelin içindeki %50 lik kısmın weightslerini sıfırlıyor ve overfittingi önlüyor.\n",
        "# token_char_concat ile de dropout layerımızı matchliyoruz.\n",
        "combined_dense = layers.Dense( 128 , activation = \"relu\")(combined_dropout) # Paperda bi lstm layer var concatenate işleminden sonra biz onun yerine burda dense layer kullandık.\n",
        "final_dropout = layers.Dropout(0.5)(combined_dense)  # Paperda prediction layerdan önce de dropout yapıyor prediction layer dediğimiz şey aslında output layer.\n",
        "outputs_layer = layers.Dense( 5 , activation = \"softmax\")(final_dropout)\n",
        "\n",
        "# 5. Constract model with char and token inputs\n",
        "\n",
        "model_4= tf.keras.Model( [ token_model.input , char_model.input ] , outputs_layer )\n",
        "\n"
      ],
      "metadata": {
        "id": "ZjZxJDa3jDMk"
      },
      "execution_count": 76,
      "outputs": []
    },
    {
      "cell_type": "code",
      "source": [
        "model_4.summary()"
      ],
      "metadata": {
        "colab": {
          "base_uri": "https://localhost:8080/"
        },
        "id": "5xgN1cvqsFId",
        "outputId": "be099e60-53fd-4356-c86e-84a45b9cc253"
      },
      "execution_count": 77,
      "outputs": [
        {
          "output_type": "stream",
          "name": "stdout",
          "text": [
            "Model: \"model_5\"\n",
            "__________________________________________________________________________________________________\n",
            " Layer (type)                   Output Shape         Param #     Connected to                     \n",
            "==================================================================================================\n",
            " input_5 (InputLayer)           [(None, 1)]          0           []                               \n",
            "                                                                                                  \n",
            " input_4 (InputLayer)           [(None,)]            0           []                               \n",
            "                                                                                                  \n",
            " char_vectorizer (TextVectoriza  (None, 290)         0           ['input_5[0][0]']                \n",
            " tion)                                                                                            \n",
            "                                                                                                  \n",
            " USE (KerasLayer)               (None, 512)          256797824   ['input_4[0][0]']                \n",
            "                                                                                                  \n",
            " char_embed (Embedding)         (None, 290, 25)      700         ['char_vectorizer[1][0]']        \n",
            "                                                                                                  \n",
            " dense_4 (Dense)                (None, 128)          65664       ['USE[1][0]']                    \n",
            "                                                                                                  \n",
            " bidirectional (Bidirectional)  (None, 48)           9600        ['char_embed[1][0]']             \n",
            "                                                                                                  \n",
            " token_char_hybrid (Concatenate  (None, 176)         0           ['dense_4[0][0]',                \n",
            " )                                                                'bidirectional[0][0]']          \n",
            "                                                                                                  \n",
            " dropout (Dropout)              (None, 176)          0           ['token_char_hybrid[0][0]']      \n",
            "                                                                                                  \n",
            " dense_5 (Dense)                (None, 128)          22656       ['dropout[0][0]']                \n",
            "                                                                                                  \n",
            " dropout_1 (Dropout)            (None, 128)          0           ['dense_5[0][0]']                \n",
            "                                                                                                  \n",
            " dense_6 (Dense)                (None, 5)            645         ['dropout_1[0][0]']              \n",
            "                                                                                                  \n",
            "==================================================================================================\n",
            "Total params: 256,897,089\n",
            "Trainable params: 99,265\n",
            "Non-trainable params: 256,797,824\n",
            "__________________________________________________________________________________________________\n"
          ]
        }
      ]
    },
    {
      "cell_type": "code",
      "source": [
        "# Plot hybrid token and character model\n",
        "from keras.utils import plot_model\n",
        "plot_model(model_4)"
      ],
      "metadata": {
        "colab": {
          "base_uri": "https://localhost:8080/",
          "height": 856
        },
        "id": "qYnZzccHsGST",
        "outputId": "7b6fecee-01f6-48c4-b653-d588d0021e26"
      },
      "execution_count": 78,
      "outputs": [
        {
          "output_type": "execute_result",
          "data": {
            "image/png": "[encoded data removed]",
            "text/plain": [
              "<IPython.core.display.Image object>"
            ]
          },
          "metadata": {},
          "execution_count": 78
        }
      ]
    },
    {
      "cell_type": "code",
      "source": [
        "# Compile a model\n",
        "model_4.compile(loss = [\"categorical_crossentropy\"] ,\n",
        "                optimizer = tf.keras.optimizers.Adam() ,\n",
        "                metrics = [\"accuracy\"]\n",
        "                )\n"
      ],
      "metadata": {
        "id": "gmRjQsG-s9CA"
      },
      "execution_count": 79,
      "outputs": []
    },
    {
      "cell_type": "markdown",
      "source": [
        "# Combining token and character data into tf.data Dataset"
      ],
      "metadata": {
        "id": "bzPyI5spxQq9"
      }
    },
    {
      "cell_type": "code",
      "source": [
        "# Create dataset for our model\n",
        "# Combine chars and tokens into a dataset\n",
        "train_char_token_data = tf.data.Dataset.from_tensor_slices((train_sentences, train_chars)) # make data. Order önemli yani yukarıda modelimizi oluştururkenki model_4= tf.keras.Model( [ token_model.input , char_model.input ] , outputs_layer ) bu koddaki order neyse ona göre yazıcaz bunları da.\n",
        "train_char_token_labels = tf.data.Dataset.from_tensor_slices(train_labels_encoded) # make labels\n",
        "train_char_token_dataset = tf.data.Dataset.zip((train_char_token_data, train_char_token_labels)) # combine data and labels\n",
        "\n",
        "val_char_token_data = tf.data.Dataset.from_tensor_slices((val_sentences, val_chars)) # make data\n",
        "val_char_token_labels = tf.data.Dataset.from_tensor_slices(val_labels_encoded) # make labels\n",
        "val_char_token_dataset = tf.data.Dataset.zip((val_char_token_data, val_char_token_labels)) # combine data and labels\n",
        "\n",
        "test_char_token_data = tf.data.Dataset.from_tensor_slices((test_sentences, test_chars)) # make data\n",
        "test_char_token_labels = tf.data.Dataset.from_tensor_slices(test_labels_encoded) # make labels\n",
        "test_char_token_dataset = tf.data.Dataset.zip((test_char_token_data, test_char_token_labels)) # combine data and labels\n",
        "\n",
        "\n",
        "train_char_token_dataset = train_char_token_dataset.batch(32).prefetch(tf.data.AUTOTUNE)\n",
        "test_char_token_dataset = test_char_token_dataset.batch(32).prefetch(tf.data.AUTOTUNE)\n",
        "val_char_token_dataset = val_char_token_dataset.batch(32).prefetch(tf.data.AUTOTUNE)\n"
      ],
      "metadata": {
        "id": "m9zO10uvu5WL"
      },
      "execution_count": 80,
      "outputs": []
    },
    {
      "cell_type": "code",
      "source": [
        "# Fit the model\n",
        "hist_4 = model_4.fit(train_char_token_dataset,\n",
        "                              steps_per_epoch=int(0.1 * len(train_char_token_dataset)),\n",
        "                              epochs=3,\n",
        "                              validation_data=val_char_token_dataset,\n",
        "                              validation_steps=int(0.1 * len(val_char_token_dataset)))"
      ],
      "metadata": {
        "colab": {
          "base_uri": "https://localhost:8080/"
        },
        "id": "SdbIJEJ4wQ2o",
        "outputId": "595ee83c-d418-4785-8887-c79e88ffaa5c"
      },
      "execution_count": 81,
      "outputs": [
        {
          "output_type": "stream",
          "name": "stdout",
          "text": [
            "Epoch 1/3\n",
            "562/562 [==============================] - 52s 71ms/step - loss: 0.9795 - accuracy: 0.6077 - val_loss: 0.7831 - val_accuracy: 0.7011\n",
            "Epoch 2/3\n",
            "562/562 [==============================] - 39s 70ms/step - loss: 0.8025 - accuracy: 0.6898 - val_loss: 0.7232 - val_accuracy: 0.7251\n",
            "Epoch 3/3\n",
            "562/562 [==============================] - 28s 50ms/step - loss: 0.7759 - accuracy: 0.7019 - val_loss: 0.6965 - val_accuracy: 0.7311\n"
          ]
        }
      ]
    },
    {
      "cell_type": "code",
      "source": [
        "# Evaluate one the whole validation dataset\n",
        "model_4.evaluate(val_char_token_dataset)"
      ],
      "metadata": {
        "colab": {
          "base_uri": "https://localhost:8080/"
        },
        "id": "9yT1Muy73bZR",
        "outputId": "45eaed8f-83bc-455e-937b-4ab5f9280901"
      },
      "execution_count": 82,
      "outputs": [
        {
          "output_type": "stream",
          "name": "stdout",
          "text": [
            "945/945 [==============================] - 24s 25ms/step - loss: 0.7039 - accuracy: 0.7310\n"
          ]
        },
        {
          "output_type": "execute_result",
          "data": {
            "text/plain": [
              "[0.7039335370063782, 0.7309678196907043]"
            ]
          },
          "metadata": {},
          "execution_count": 82
        }
      ]
    },
    {
      "cell_type": "code",
      "source": [
        "# Make predictions\n",
        "model_4_pred_probs = model_4.predict(val_char_token_dataset) # Prediction yaparken prefetch datamızı oluşturduğumuz y_true ları kullanmamız gerek çünkü ikisi aynı formatta ve biz aynı formatta olan şeylerle predict edebiliyoruz.\n",
        "model_4_pred_probs  # Softmax activation sayesinde probabilities alıyoruz bunun outputunda."
      ],
      "metadata": {
        "colab": {
          "base_uri": "https://localhost:8080/"
        },
        "id": "9oDHjvdf3krv",
        "outputId": "f7543dd7-9cb4-4dc4-f932-afe39ae29f00"
      },
      "execution_count": 83,
      "outputs": [
        {
          "output_type": "stream",
          "name": "stdout",
          "text": [
            "945/945 [==============================] - 25s 23ms/step\n"
          ]
        },
        {
          "output_type": "execute_result",
          "data": {
            "text/plain": [
              "array([[4.7887000e-01, 2.8538701e-01, 4.3383976e-03, 2.2191052e-01,\n",
              "        9.4941286e-03],\n",
              "       [3.6619395e-01, 4.1724250e-01, 5.6328145e-03, 2.0766328e-01,\n",
              "        3.2673960e-03],\n",
              "       [2.6591858e-01, 7.2470665e-02, 4.0320463e-02, 5.9683853e-01,\n",
              "        2.4451738e-02],\n",
              "       ...,\n",
              "       [4.7009980e-04, 5.3200372e-03, 5.5634785e-02, 1.7410173e-04,\n",
              "        9.3840092e-01],\n",
              "       [8.3027454e-03, 6.5723307e-02, 2.0714685e-01, 2.8241775e-03,\n",
              "        7.1600294e-01],\n",
              "       [3.1490007e-01, 3.4005386e-01, 2.6258948e-01, 2.9492367e-02,\n",
              "        5.2964233e-02]], dtype=float32)"
            ]
          },
          "metadata": {},
          "execution_count": 83
        }
      ]
    },
    {
      "cell_type": "code",
      "source": [
        "model_4_pred = tf.argmax(model_4_pred_probs , axis = 1)\n",
        "model_4_pred"
      ],
      "metadata": {
        "colab": {
          "base_uri": "https://localhost:8080/"
        },
        "id": "lt63j0mI35un",
        "outputId": "8fa9bcba-a7f4-4fea-eb4f-c6e485f97151"
      },
      "execution_count": 84,
      "outputs": [
        {
          "output_type": "execute_result",
          "data": {
            "text/plain": [
              "<tf.Tensor: shape=(30212,), dtype=int64, numpy=array([0, 1, 3, ..., 4, 4, 1])>"
            ]
          },
          "metadata": {},
          "execution_count": 84
        }
      ]
    },
    {
      "cell_type": "code",
      "source": [
        "model_4_results = calculate_results(\n",
        "    y_true = val_labels_encoded_labelencoder ,\n",
        "    y_pred = model_4_pred\n",
        ")\n",
        "model_4_results"
      ],
      "metadata": {
        "colab": {
          "base_uri": "https://localhost:8080/"
        },
        "id": "HAgb9_1L3_dg",
        "outputId": "d7c45966-77b8-4dd5-f27c-8ae29bdbc26c"
      },
      "execution_count": 85,
      "outputs": [
        {
          "output_type": "execute_result",
          "data": {
            "text/plain": [
              "{'accuracy': 73.09678273533694,\n",
              " 'precision': 0.7310866722766347,\n",
              " 'recall': 0.7309678273533695,\n",
              " 'f1': 0.7295074632895181}"
            ]
          },
          "metadata": {},
          "execution_count": 85
        }
      ]
    },
    {
      "cell_type": "markdown",
      "source": [
        "# Model 5 : Transfer learning with pre-trained token embeddings + character embeddings + positional embeddings"
      ],
      "metadata": {
        "id": "_308zawU7MJS"
      }
    },
    {
      "cell_type": "markdown",
      "source": [
        "**Note:** Any engineered features used to train a model need to be available at test time. In our case , line numbers and total lines are available. Yani test datanda da train ettiğin dataya uyguladıgın seyleri uygulayabilmen ve uygulaman lazım."
      ],
      "metadata": {
        "id": "_O8ms-IM4APT"
      }
    },
    {
      "cell_type": "code",
      "source": [
        "# How many different line numbers are there?\n",
        "train_df[\"line_number\"].value_counts()\n",
        "len(train_df[\"line_number\"])"
      ],
      "metadata": {
        "colab": {
          "base_uri": "https://localhost:8080/"
        },
        "id": "h6Q-8YrM6U0q",
        "outputId": "6cdd9649-4ec8-49a1-c0b6-7f5ae5370ec4"
      },
      "execution_count": 86,
      "outputs": [
        {
          "output_type": "execute_result",
          "data": {
            "text/plain": [
              "180040"
            ]
          },
          "metadata": {},
          "execution_count": 86
        }
      ]
    },
    {
      "cell_type": "code",
      "source": [
        "# Check the distrubiton of line_number column\n",
        "train_df.line_number.plot.hist()"
      ],
      "metadata": {
        "colab": {
          "base_uri": "https://localhost:8080/",
          "height": 447
        },
        "id": "fgsqGRVu6W4f",
        "outputId": "b59fd300-abfd-47d8-8428-0e4cc23ad0ff"
      },
      "execution_count": 87,
      "outputs": [
        {
          "output_type": "execute_result",
          "data": {
            "text/plain": [
              "<Axes: ylabel='Frequency'>"
            ]
          },
          "metadata": {},
          "execution_count": 87
        },
        {
          "output_type": "display_data",
          "data": {
            "text/plain": [
              "<Figure size 640x480 with 1 Axes>"
            ],
            "image/png": "[encoded data removed]"
          },
          "metadata": {}
        }
      ]
    },
    {
      "cell_type": "markdown",
      "source": [
        "### One hot encoding uygulayacagımız zaman vectorün cok uzun olmamasını istiyoruz. Şu an burda 30 long bir vector çok uzun oluyor ve aslına bakarsak zaten 15. line dan sonra zaten çok küçük sayılar var yani datamızda çok küçük bir yer kaplıyor bu yüzden 15 ten sonrasını ignorelayacağız."
      ],
      "metadata": {
        "id": "84XEd7gI56qg"
      }
    },
    {
      "cell_type": "code",
      "source": [
        "# Use TensorFlow to create one-hot-encoded tensors of our line_number column\n",
        "from tensorflow import one_hot\n",
        "train_lines_number_one_hot = one_hot(\n",
        "    train_df[ \"line_number\"].to_numpy() ,  # Tensorflow one hot input olarak array alıyor içine.\n",
        "    depth = 15 ,  #Depth ile one hot encoder vectorumuzun uzunlugunu belirliyoruz.\n",
        ")\n",
        "# One hot encoder kullanmamızın sebebi eğer kullanmazsak modelimiz line number = 2 geldiğinde line number = 1 in 2 katı sanacak.\n",
        "val_lines_number_one_hot = one_hot(\n",
        "    val_df[\"line_number\"].to_numpy() ,\n",
        "    depth = 15\n",
        ")\n",
        "test_lines_number_one_hot = one_hot(\n",
        "    test_df[\"line_number\"].to_numpy() ,\n",
        "    depth = 15\n",
        ")\n",
        "\n",
        "train_lines_number_one_hot[ : 14] , train_lines_number_one_hot.shape"
      ],
      "metadata": {
        "colab": {
          "base_uri": "https://localhost:8080/"
        },
        "id": "5yL7rZeG6pRu",
        "outputId": "c24a5866-d251-4dfa-c5c2-eff946b8be0b"
      },
      "execution_count": 88,
      "outputs": [
        {
          "output_type": "execute_result",
          "data": {
            "text/plain": [
              "(<tf.Tensor: shape=(14, 15), dtype=float32, numpy=\n",
              " array([[1., 0., 0., 0., 0., 0., 0., 0., 0., 0., 0., 0., 0., 0., 0.],\n",
              "        [0., 1., 0., 0., 0., 0., 0., 0., 0., 0., 0., 0., 0., 0., 0.],\n",
              "        [0., 0., 1., 0., 0., 0., 0., 0., 0., 0., 0., 0., 0., 0., 0.],\n",
              "        [0., 0., 0., 1., 0., 0., 0., 0., 0., 0., 0., 0., 0., 0., 0.],\n",
              "        [0., 0., 0., 0., 1., 0., 0., 0., 0., 0., 0., 0., 0., 0., 0.],\n",
              "        [0., 0., 0., 0., 0., 1., 0., 0., 0., 0., 0., 0., 0., 0., 0.],\n",
              "        [0., 0., 0., 0., 0., 0., 1., 0., 0., 0., 0., 0., 0., 0., 0.],\n",
              "        [0., 0., 0., 0., 0., 0., 0., 1., 0., 0., 0., 0., 0., 0., 0.],\n",
              "        [0., 0., 0., 0., 0., 0., 0., 0., 1., 0., 0., 0., 0., 0., 0.],\n",
              "        [0., 0., 0., 0., 0., 0., 0., 0., 0., 1., 0., 0., 0., 0., 0.],\n",
              "        [0., 0., 0., 0., 0., 0., 0., 0., 0., 0., 1., 0., 0., 0., 0.],\n",
              "        [0., 0., 0., 0., 0., 0., 0., 0., 0., 0., 0., 1., 0., 0., 0.],\n",
              "        [1., 0., 0., 0., 0., 0., 0., 0., 0., 0., 0., 0., 0., 0., 0.],\n",
              "        [0., 1., 0., 0., 0., 0., 0., 0., 0., 0., 0., 0., 0., 0., 0.]],\n",
              "       dtype=float32)>,\n",
              " TensorShape([180040, 15]))"
            ]
          },
          "metadata": {},
          "execution_count": 88
        }
      ]
    },
    {
      "cell_type": "markdown",
      "source": [
        "### We will do the same process to our total line numbers."
      ],
      "metadata": {
        "id": "LTGwpRKC-WwU"
      }
    },
    {
      "cell_type": "code",
      "source": [
        "# How many total lines sample are there?\n",
        "train_df[\"total_lines\"].value_counts()"
      ],
      "metadata": {
        "colab": {
          "base_uri": "https://localhost:8080/"
        },
        "id": "65RMXU1hC_dp",
        "outputId": "1d662c58-e00f-4a01-fc71-96edf44b6011"
      },
      "execution_count": 89,
      "outputs": [
        {
          "output_type": "execute_result",
          "data": {
            "text/plain": [
              "11    24468\n",
              "10    23639\n",
              "12    22113\n",
              "9     19400\n",
              "13    18438\n",
              "14    14610\n",
              "8     12285\n",
              "15    10768\n",
              "7      7464\n",
              "16     7429\n",
              "17     5202\n",
              "6      3353\n",
              "18     3344\n",
              "19     2480\n",
              "20     1281\n",
              "5      1146\n",
              "21      770\n",
              "22      759\n",
              "23      264\n",
              "4       215\n",
              "24      200\n",
              "25      182\n",
              "26       81\n",
              "28       58\n",
              "3        32\n",
              "30       31\n",
              "27       28\n",
              "Name: total_lines, dtype: int64"
            ]
          },
          "metadata": {},
          "execution_count": 89
        }
      ]
    },
    {
      "cell_type": "code",
      "source": [
        "# Check the distribution of total_lines\n",
        "train_df.total_lines.plot.hist()"
      ],
      "metadata": {
        "colab": {
          "base_uri": "https://localhost:8080/",
          "height": 448
        },
        "id": "fJ4kKru0-SBm",
        "outputId": "204ea5a2-d9b4-4ab3-d222-18fe7f361cd4"
      },
      "execution_count": 90,
      "outputs": [
        {
          "output_type": "execute_result",
          "data": {
            "text/plain": [
              "<Axes: ylabel='Frequency'>"
            ]
          },
          "metadata": {},
          "execution_count": 90
        },
        {
          "output_type": "display_data",
          "data": {
            "text/plain": [
              "<Figure size 640x480 with 1 Axes>"
            ],
            "image/png": "[encoded data removed]"
          },
          "metadata": {}
        }
      ]
    },
    {
      "cell_type": "code",
      "source": [
        "# Check the coverage of 95% of total_lines\n",
        "np.percentile(train_df.total_lines , 95)  # 20 de %98 ini coverlıyor. Coverage kısmını 98 yaparsak görebiliriz"
      ],
      "metadata": {
        "colab": {
          "base_uri": "https://localhost:8080/"
        },
        "id": "kDy82_MyERxv",
        "outputId": "65bc2237-c983-434c-a390-891a9a55fe3f"
      },
      "execution_count": 91,
      "outputs": [
        {
          "output_type": "execute_result",
          "data": {
            "text/plain": [
              "18.0"
            ]
          },
          "metadata": {},
          "execution_count": 91
        }
      ]
    },
    {
      "cell_type": "code",
      "source": [
        "train_total_lines_one_hot = one_hot(\n",
        "    train_df[ \"total_lines\"].to_numpy() ,  # Tensorflow one hot input olarak array alıyor içine.\n",
        "    depth = 20 ,  #Depth ile one hot encoder vectorumuzun uzunlugunu belirliyoruz.\n",
        ")\n",
        "# One hot encoder kullanmamızın sebebi eğer kullanmazsak modelimiz line number = 2 geldiğinde line number = 1 in 2 katı sanacak.\n",
        "val_total_lines_one_hot = one_hot(\n",
        "    val_df[\"total_lines\"].to_numpy() ,\n",
        "    depth = 20\n",
        ")\n",
        "test_total_lines_one_hot = one_hot(\n",
        "    test_df[\"total_lines\"].to_numpy() ,\n",
        "    depth = 20\n",
        ")\n",
        "\n",
        "train_total_lines_one_hot[ : 10] , train_total_lines_one_hot.shape"
      ],
      "metadata": {
        "colab": {
          "base_uri": "https://localhost:8080/"
        },
        "id": "ml_4sy5b-g6n",
        "outputId": "1d6b078a-f68d-45e7-8111-0c0fe5704e7c"
      },
      "execution_count": 92,
      "outputs": [
        {
          "output_type": "execute_result",
          "data": {
            "text/plain": [
              "(<tf.Tensor: shape=(10, 20), dtype=float32, numpy=\n",
              " array([[0., 0., 0., 0., 0., 0., 0., 0., 0., 0., 0., 1., 0., 0., 0., 0.,\n",
              "         0., 0., 0., 0.],\n",
              "        [0., 0., 0., 0., 0., 0., 0., 0., 0., 0., 0., 1., 0., 0., 0., 0.,\n",
              "         0., 0., 0., 0.],\n",
              "        [0., 0., 0., 0., 0., 0., 0., 0., 0., 0., 0., 1., 0., 0., 0., 0.,\n",
              "         0., 0., 0., 0.],\n",
              "        [0., 0., 0., 0., 0., 0., 0., 0., 0., 0., 0., 1., 0., 0., 0., 0.,\n",
              "         0., 0., 0., 0.],\n",
              "        [0., 0., 0., 0., 0., 0., 0., 0., 0., 0., 0., 1., 0., 0., 0., 0.,\n",
              "         0., 0., 0., 0.],\n",
              "        [0., 0., 0., 0., 0., 0., 0., 0., 0., 0., 0., 1., 0., 0., 0., 0.,\n",
              "         0., 0., 0., 0.],\n",
              "        [0., 0., 0., 0., 0., 0., 0., 0., 0., 0., 0., 1., 0., 0., 0., 0.,\n",
              "         0., 0., 0., 0.],\n",
              "        [0., 0., 0., 0., 0., 0., 0., 0., 0., 0., 0., 1., 0., 0., 0., 0.,\n",
              "         0., 0., 0., 0.],\n",
              "        [0., 0., 0., 0., 0., 0., 0., 0., 0., 0., 0., 1., 0., 0., 0., 0.,\n",
              "         0., 0., 0., 0.],\n",
              "        [0., 0., 0., 0., 0., 0., 0., 0., 0., 0., 0., 1., 0., 0., 0., 0.,\n",
              "         0., 0., 0., 0.]], dtype=float32)>,\n",
              " TensorShape([180040, 20]))"
            ]
          },
          "metadata": {},
          "execution_count": 92
        }
      ]
    },
    {
      "cell_type": "markdown",
      "source": [
        "# Create a tribrid embedding model\n",
        "\n",
        "1. Create a token-level embedding model.\n",
        "2. Create a char-level embedding model.\n",
        "3. Create a model for line_number feature.\n",
        "4. Create a model for total_lines feature.\n",
        "5. Combine the outputs of step 1 and 2 using tf.keras.layers.Concatenate\n",
        "6. Combine the outputs of 3, 4, 5 using tf.keras.layers.Concatenate\n",
        "7. Create an output layer to accept the tribried embedding and output label probabilites.\n",
        "8. Combine the inputs of 1 , 2 , 3 , 4 and outputs of into tf.keras.Model"
      ],
      "metadata": {
        "id": "5LgNbFDuFXqK"
      }
    },
    {
      "cell_type": "code",
      "source": [
        "train_lines_number_one_hot[0].shape"
      ],
      "metadata": {
        "colab": {
          "base_uri": "https://localhost:8080/"
        },
        "id": "kIJQFwvIWt-q",
        "outputId": "5aa05b10-1494-4ff4-ac5b-0d4fdb5d08da"
      },
      "execution_count": 94,
      "outputs": [
        {
          "output_type": "execute_result",
          "data": {
            "text/plain": [
              "TensorShape([15])"
            ]
          },
          "metadata": {},
          "execution_count": 94
        }
      ]
    },
    {
      "cell_type": "code",
      "source": [
        "train_total_lines_one_hot.shape"
      ],
      "metadata": {
        "id": "II-uH6lHYgVF"
      },
      "execution_count": null,
      "outputs": []
    },
    {
      "cell_type": "code",
      "source": [
        "# Step 1 : Creating token-level embedding model\n",
        "\n",
        "token_inputs_tri = layers.Input( shape = [] , dtype = tf.string)\n",
        "token_embedding_tri = sentence_encoder_layer(token_inputs_tri)\n",
        "token_outputs_tri = layers.Dense( 128 , activation = \"relu\")(token_embedding_tri)\n",
        "token_model_tri = tf.keras.Model(token_inputs_tri , token_outputs_tri )\n",
        "\n",
        "# Step 2 : Creating char-level embedding model with bi-LSTM\n",
        "char_inputs_tri = layers.Input(shape = ( 1 , ) , dtype = tf.string)\n",
        "char_vectorizer_tri = char_vectorizer(char_inputs_tri)\n",
        "char_embedding_tri = char_embed(char_vectorizer_tri)\n",
        "char_bi_lstm_tri = layers.Bidirectional(layers.LSTM(24))(char_embedding_tri)\n",
        "char_model_tri = tf.keras.Model(char_inputs_tri , char_bi_lstm_tri )\n",
        "\n",
        "# Step 3 : Create a model for line_number feature\n",
        "line_number_tri = layers.Input( shape = (15 , ) , dtype = tf.float32)  # Shape in 15 olmasının sebebi one hot encoded ettigimiz 1 sample ın shape i 15.\n",
        "x = layers.Dense( 32 , activation = \"relu\")(line_number_tri)\n",
        "line_number_model = tf.keras.Model(line_number_tri , x)\n",
        "\n",
        "# Step 4 : Create a model for total_lines feature.\n",
        "total_lines_tri = layers.Input( shape = ( 20 ,) , dtype = tf.float32)  # Burda da yukarda olan aynı sebepten dolayı 20 yapıyoruz shape i cünkü one hot encode ederken 20 uzunlukta vektör oluşturduk.\n",
        "y = layers.Dense( 32 , activation = \"relu\")(total_lines_tri)\n",
        "total_lines_model = tf.keras.Model(total_lines_tri , y)\n",
        "\n",
        "# Step 5 : Combine the outputs of step 1 and 2 using tf.keras.layers.Concatenate\n",
        "combined_embeddings = tf.keras.layers.Concatenate( name = \"token_char_concat\")(\n",
        "    [\n",
        "    token_model_tri.output ,\n",
        "    char_model_tri.output\n",
        "    ]\n",
        "    )\n",
        "z = layers.Dense( 256 , activation = \"relu\")(combined_embeddings)\n",
        "z = layers.Dropout(0.5)(z)  # Written at paper.\n",
        "\n",
        "# Step 6 : Combine the outputs of 3, 4, 5 using tf.keras.layers.Concatenate\n",
        "\n",
        "tribrid_embeddings = tf.keras.layers.Concatenate(name = \"concat_every_layer\")(\n",
        "    [\n",
        "       line_number_model.output ,\n",
        "       total_lines_model.output ,\n",
        "       z\n",
        "    ]\n",
        ")\n",
        "\n",
        "# Step 7 : Create an output layer.\n",
        "output_layer = layers.Dense( 5 , activation = \"softmax\")(tribrid_embeddings)\n",
        "\n",
        "# Step 8 : Put together model with all kinds of inputs and output\n",
        "\n",
        "model_5 = tf.keras.Model(\n",
        "    [  token_model_tri.input ,  char_model_tri.input , line_number_model.input , total_lines_model.input  ] , output_layer\n",
        ")"
      ],
      "metadata": {
        "id": "DagIHNmvHpau"
      },
      "execution_count": 96,
      "outputs": []
    },
    {
      "cell_type": "markdown",
      "source": [
        "1. The line numbers model does not need an embedding layer because it does not deal with sequential or categorical data. It only takes in the line numbers, which are already in numerical format, as input. Therefore, there is no need for the model to learn a new representation of the input data through an embedding layer.\n",
        "\n",
        "2. The shape of 32 hidden units in the line number model's output layer is determined through experimentation and hyperparameter tuning. The authors likely tried different numbers of hidden units and found that 32 provided the best balance between model complexity and performance.\n",
        "\n",
        "3. A dense layer can be used as an embedding layer if the input data is numerical and does not require a learned representation. However, if the input data is categorical or sequential, it is recommended to use an embedding layer as it can learn a more effective representation of the input data. Additionally, embedding layers can help reduce the dimensionality of the input data, which can improve model performance and efficiency."
      ],
      "metadata": {
        "id": "4p8B7EBPfcw5"
      }
    },
    {
      "cell_type": "code",
      "source": [
        "model_5.summary()"
      ],
      "metadata": {
        "colab": {
          "base_uri": "https://localhost:8080/"
        },
        "id": "m36Z-e5jgfM2",
        "outputId": "bc2a04ca-0c43-478d-d8f8-d88c63a8c611"
      },
      "execution_count": 97,
      "outputs": [
        {
          "output_type": "stream",
          "name": "stdout",
          "text": [
            "Model: \"model_12\"\n",
            "__________________________________________________________________________________________________\n",
            " Layer (type)                   Output Shape         Param #     Connected to                     \n",
            "==================================================================================================\n",
            " input_9 (InputLayer)           [(None, 1)]          0           []                               \n",
            "                                                                                                  \n",
            " input_8 (InputLayer)           [(None,)]            0           []                               \n",
            "                                                                                                  \n",
            " char_vectorizer (TextVectoriza  (None, 290)         0           ['input_9[0][0]']                \n",
            " tion)                                                                                            \n",
            "                                                                                                  \n",
            " USE (KerasLayer)               (None, 512)          256797824   ['input_8[0][0]']                \n",
            "                                                                                                  \n",
            " char_embed (Embedding)         (None, 290, 25)      700         ['char_vectorizer[3][0]']        \n",
            "                                                                                                  \n",
            " dense_8 (Dense)                (None, 128)          65664       ['USE[3][0]']                    \n",
            "                                                                                                  \n",
            " bidirectional_2 (Bidirectional  (None, 48)          9600        ['char_embed[3][0]']             \n",
            " )                                                                                                \n",
            "                                                                                                  \n",
            " token_char_concat (Concatenate  (None, 176)         0           ['dense_8[0][0]',                \n",
            " )                                                                'bidirectional_2[0][0]']        \n",
            "                                                                                                  \n",
            " input_10 (InputLayer)          [(None, 15)]         0           []                               \n",
            "                                                                                                  \n",
            " input_11 (InputLayer)          [(None, 20)]         0           []                               \n",
            "                                                                                                  \n",
            " dense_11 (Dense)               (None, 256)          45312       ['token_char_concat[0][0]']      \n",
            "                                                                                                  \n",
            " dense_9 (Dense)                (None, 32)           512         ['input_10[0][0]']               \n",
            "                                                                                                  \n",
            " dense_10 (Dense)               (None, 32)           672         ['input_11[0][0]']               \n",
            "                                                                                                  \n",
            " dropout_2 (Dropout)            (None, 256)          0           ['dense_11[0][0]']               \n",
            "                                                                                                  \n",
            " concat_every_layer (Concatenat  (None, 320)         0           ['dense_9[0][0]',                \n",
            " e)                                                               'dense_10[0][0]',               \n",
            "                                                                  'dropout_2[0][0]']              \n",
            "                                                                                                  \n",
            " dense_12 (Dense)               (None, 5)            1605        ['concat_every_layer[0][0]']     \n",
            "                                                                                                  \n",
            "==================================================================================================\n",
            "Total params: 256,921,889\n",
            "Trainable params: 124,065\n",
            "Non-trainable params: 256,797,824\n",
            "__________________________________________________________________________________________________\n"
          ]
        }
      ]
    },
    {
      "cell_type": "code",
      "source": [
        "# Plot model_5 to explore it visually.\n",
        "from keras.utils import plot_model\n",
        "plot_model(model_5)"
      ],
      "metadata": {
        "colab": {
          "base_uri": "https://localhost:8080/",
          "height": 856
        },
        "id": "WoDLsbPTg_9k",
        "outputId": "336cab8d-fab3-4b6e-db70-803a6b5653da"
      },
      "execution_count": 98,
      "outputs": [
        {
          "output_type": "execute_result",
          "data": {
            "image/png": "[encoded data removed]",
            "text/plain": [
              "<IPython.core.display.Image object>"
            ]
          },
          "metadata": {},
          "execution_count": 98
        }
      ]
    },
    {
      "cell_type": "markdown",
      "source": [
        "What is label smoothing?\n",
        "\n",
        "For example , if our model gets too confident on a single class ( e.g. its prediction probability is really high) , it may get stuck on that class and not consider other classes.\n",
        "\n",
        "\n",
        "Really confident (these are prediction probabilities): [ 0.0 , 0.0 , 1.0 , 0.0 , 0.0]  (Burda aslında model 3. classı 1 olasılıkla yani kesinlikle bulduğu için o classa stuck kalıyor ben %100 le zaten buldum bu artık tamam diyor biz bunu önlemek istiyoruz)\n",
        "\n",
        "\n",
        "What label smoothing does is it assigns some of the value from the highest pred prob to other classes , in turn , hopefully improving generalization :\n",
        "\n",
        "\n",
        "[ 0.01 , 0.01 , 0.96 , 0.01 , 0.01]  \n",
        "\n",
        "\n",
        "aslında label smoothing bu hale getiriyor ve dont get stuck third class , dont get tunnel vision on one class diyor. label_smoothing = 0.2 dediğimizde pred probu 1 çıkan classtan 0.01 alıp diğer classlara dağıtıyor"
      ],
      "metadata": {
        "id": "jLDpSG2OjPaw"
      }
    },
    {
      "cell_type": "markdown",
      "source": [
        "https://www.pyimagesearch.com/2019/12/30/label-smoothing-with-keras-tensorflow-and-deep-learning/"
      ],
      "metadata": {
        "id": "a3DOTAYQlk40"
      }
    },
    {
      "cell_type": "code",
      "source": [
        "# Compile token , char and positional embedding model\n",
        "model_5.compile(loss = tf.keras.losses.CategoricalCrossentropy(label_smoothing = 0.2) , # label_smoothing helps to prevent overfitting.\n",
        "                optimizer = tf.keras.optimizers.Adam() ,\n",
        "                metrics = [\"accuracy\"]\n",
        "                )"
      ],
      "metadata": {
        "id": "auo8OnLnhJqK"
      },
      "execution_count": 99,
      "outputs": []
    },
    {
      "cell_type": "markdown",
      "source": [
        "# Create tribrid embedding dataset using tf.data"
      ],
      "metadata": {
        "id": "TvWfWdgCl52L"
      }
    },
    {
      "cell_type": "code",
      "source": [
        "train_char_token_positional_data = tf.data.Dataset.from_tensor_slices((train_sentences, train_chars , train_lines_number_one_hot , train_total_lines_one_hot)) # make data. Order önemli yani yukarıda modelimizi oluştururkenki model_4= tf.keras.Model( [ token_model.input , char_model.input ] , outputs_layer ) bu koddaki order neyse ona göre yazıcaz bunları da.\n",
        "train_char_token_positional_labels = tf.data.Dataset.from_tensor_slices(train_labels_encoded) # make labels\n",
        "train_char_token_positional_dataset = tf.data.Dataset.zip((train_char_token_positional_data, train_char_token_labels))\n",
        "\n",
        "val_char_token_positional_data = tf.data.Dataset.from_tensor_slices((val_sentences, val_chars , val_lines_number_one_hot , val_total_lines_one_hot)) # make data. Order önemli yani yukarıda modelimizi oluştururkenki model_4= tf.keras.Model( [ token_model.input , char_model.input ] , outputs_layer ) bu koddaki order neyse ona göre yazıcaz bunları da.\n",
        "val_char_token_positional_labels = tf.data.Dataset.from_tensor_slices(val_labels_encoded) # make labels\n",
        "val_char_token_positional_dataset = tf.data.Dataset.zip((val_char_token_positional_data, val_char_token_positional_labels))\n",
        "\n",
        "test_char_token_positional_data = tf.data.Dataset.from_tensor_slices((test_sentences, test_chars , test_lines_number_one_hot , test_total_lines_one_hot)) # make data. Order önemli yani yukarıda modelimizi oluştururkenki model_4= tf.keras.Model( [ token_model.input , char_model.input ] , outputs_layer ) bu koddaki order neyse ona göre yazıcaz bunları da.\n",
        "test_char_token_positional_labels = tf.data.Dataset.from_tensor_slices(test_labels_encoded) # make labels\n",
        "test_char_token_positional_dataset = tf.data.Dataset.zip((test_char_token_positional_data, test_char_token_positional_labels))\n",
        "\n",
        "train_char_token_positional_dataset = train_char_token_positional_dataset.batch(32).prefetch(tf.data.AUTOTUNE)\n",
        "test_char_token_positional_dataset = test_char_token_positional_dataset.batch(32).prefetch(tf.data.AUTOTUNE)\n",
        "val_char_token_positional_dataset = val_char_token_positional_dataset.batch(32).prefetch(tf.data.AUTOTUNE)\n",
        "\n"
      ],
      "metadata": {
        "id": "cw6j5uRhl-t3"
      },
      "execution_count": 104,
      "outputs": []
    },
    {
      "cell_type": "code",
      "source": [
        "# Check the input shape\n",
        "train_char_token_positional_dataset"
      ],
      "metadata": {
        "colab": {
          "base_uri": "https://localhost:8080/"
        },
        "id": "2TRWrZbOrLgc",
        "outputId": "e696822f-16f0-4255-cac8-ede32665a3f9"
      },
      "execution_count": 107,
      "outputs": [
        {
          "output_type": "execute_result",
          "data": {
            "text/plain": [
              "<_PrefetchDataset element_spec=((TensorSpec(shape=(None,), dtype=tf.string, name=None), TensorSpec(shape=(None,), dtype=tf.string, name=None), TensorSpec(shape=(None, 15), dtype=tf.float32, name=None), TensorSpec(shape=(None, 20), dtype=tf.float32, name=None)), TensorSpec(shape=(None, 5), dtype=tf.float64, name=None))>"
            ]
          },
          "metadata": {},
          "execution_count": 107
        }
      ]
    },
    {
      "cell_type": "code",
      "source": [
        "# Fit the model\n",
        "\n",
        "hist_5 = model_5.fit(train_char_token_positional_dataset,\n",
        "                              steps_per_epoch=int(0.1 * len(train_char_token_positional_dataset)),\n",
        "                              epochs=3,\n",
        "                              validation_data=val_char_token_positional_dataset,\n",
        "                              validation_steps=int(0.1 * len(val_char_token_positional_dataset)))"
      ],
      "metadata": {
        "colab": {
          "base_uri": "https://localhost:8080/"
        },
        "id": "b0le22qAncrg",
        "outputId": "580fe930-d30a-4779-9e93-94b04dd735d4"
      },
      "execution_count": 105,
      "outputs": [
        {
          "output_type": "stream",
          "name": "stdout",
          "text": [
            "Epoch 1/3\n",
            "562/562 [==============================] - 48s 62ms/step - loss: 1.0942 - accuracy: 0.7259 - val_loss: 0.9797 - val_accuracy: 0.8075\n",
            "Epoch 2/3\n",
            "562/562 [==============================] - 35s 63ms/step - loss: 0.9653 - accuracy: 0.8164 - val_loss: 0.9479 - val_accuracy: 0.8298\n",
            "Epoch 3/3\n",
            "562/562 [==============================] - 30s 53ms/step - loss: 0.9483 - accuracy: 0.8243 - val_loss: 0.9370 - val_accuracy: 0.8354\n"
          ]
        }
      ]
    },
    {
      "cell_type": "code",
      "source": [
        "# Evaluate model_5\n",
        "model_5.evaluate(val_char_token_positional_dataset)"
      ],
      "metadata": {
        "colab": {
          "base_uri": "https://localhost:8080/"
        },
        "id": "xAWuHVKipJMI",
        "outputId": "c1fdda09-8402-42dc-e5af-14907a5303e8"
      },
      "execution_count": 108,
      "outputs": [
        {
          "output_type": "stream",
          "name": "stdout",
          "text": [
            "945/945 [==============================] - 26s 27ms/step - loss: 0.9356 - accuracy: 0.8337\n"
          ]
        },
        {
          "output_type": "execute_result",
          "data": {
            "text/plain": [
              "[0.9355833530426025, 0.8337084650993347]"
            ]
          },
          "metadata": {},
          "execution_count": 108
        }
      ]
    },
    {
      "cell_type": "code",
      "source": [
        "# Pred probs of our model\n",
        "model_5_pred_probs = model_5.predict(val_char_token_positional_dataset)\n",
        "model_5_pred_probs\n"
      ],
      "metadata": {
        "colab": {
          "base_uri": "https://localhost:8080/"
        },
        "id": "mipuX2tzr2Pt",
        "outputId": "6801cdb8-083a-4270-d71e-bba5029ea233"
      },
      "execution_count": 109,
      "outputs": [
        {
          "output_type": "stream",
          "name": "stdout",
          "text": [
            "945/945 [==============================] - 29s 25ms/step\n"
          ]
        },
        {
          "output_type": "execute_result",
          "data": {
            "text/plain": [
              "array([[0.5061157 , 0.12426122, 0.0085987 , 0.34212008, 0.01890434],\n",
              "       [0.5178061 , 0.10561638, 0.05099487, 0.31331155, 0.01227107],\n",
              "       [0.29688162, 0.11072197, 0.15494236, 0.35634926, 0.08110472],\n",
              "       ...,\n",
              "       [0.03830217, 0.10990208, 0.04777738, 0.03713042, 0.7668879 ],\n",
              "       [0.02794752, 0.317924  , 0.08588815, 0.02559988, 0.54264045],\n",
              "       [0.15275498, 0.6545181 , 0.08134989, 0.04024154, 0.07113548]],\n",
              "      dtype=float32)"
            ]
          },
          "metadata": {},
          "execution_count": 109
        }
      ]
    },
    {
      "cell_type": "code",
      "source": [
        "# Predictions of our model\n",
        "model_5_preds = tf.argmax(model_5_pred_probs , axis = 1)\n",
        "model_5_preds\n"
      ],
      "metadata": {
        "colab": {
          "base_uri": "https://localhost:8080/"
        },
        "id": "R6v_rrQMsOy4",
        "outputId": "d5b43368-a542-4a11-83ea-47bda1792e70"
      },
      "execution_count": 110,
      "outputs": [
        {
          "output_type": "execute_result",
          "data": {
            "text/plain": [
              "<tf.Tensor: shape=(30212,), dtype=int64, numpy=array([0, 0, 3, ..., 4, 4, 1])>"
            ]
          },
          "metadata": {},
          "execution_count": 110
        }
      ]
    },
    {
      "cell_type": "code",
      "source": [
        "# Calculate our model result\n",
        "model_5_results = calculate_results(\n",
        "    y_true = val_labels_encoded_labelencoder ,\n",
        "    y_pred = model_5_preds\n",
        ")\n",
        "model_5_results"
      ],
      "metadata": {
        "colab": {
          "base_uri": "https://localhost:8080/"
        },
        "id": "0CQ7fso_sdNG",
        "outputId": "ddff0d13-f417-45f0-a0b2-8c18d12487c1"
      },
      "execution_count": 111,
      "outputs": [
        {
          "output_type": "execute_result",
          "data": {
            "text/plain": [
              "{'accuracy': 83.37084602144843,\n",
              " 'precision': 0.8325711163903804,\n",
              " 'recall': 0.8337084602144843,\n",
              " 'f1': 0.8327807374554193}"
            ]
          },
          "metadata": {},
          "execution_count": 111
        }
      ]
    },
    {
      "cell_type": "code",
      "source": [
        " # Compare all of our models results\n",
        "all_model_results = pd.DataFrame(\n",
        "    {\n",
        "        \"model_0_baseline_results\": baseline_results ,\n",
        "        \"model_1_custom_token_embedding\": model_1_results ,\n",
        "        \"model_2_pretrained_token_embedding\": model_2_results ,\n",
        "        \"model_3_custom_char_embedding\": model_3_results ,\n",
        "        \"model_4_char_and_token_embedding\": model_4_results ,\n",
        "        \"model_5_char_token_positional_embedding\": model_5_results\n",
        "    }\n",
        ")\n",
        "all_model_results = all_model_results.transpose()\n",
        "all_model_results"
      ],
      "metadata": {
        "colab": {
          "base_uri": "https://localhost:8080/",
          "height": 237
        },
        "id": "qyF1r3LYspQM",
        "outputId": "39c9f846-10c3-4bab-cee8-8c53b07b93b4"
      },
      "execution_count": 114,
      "outputs": [
        {
          "output_type": "execute_result",
          "data": {
            "text/plain": [
              "                                          accuracy  precision    recall  \\\n",
              "model_0_baseline_results                 72.183238   0.718647  0.721832   \n",
              "model_1_custom_token_embedding           79.246657   0.789130  0.792467   \n",
              "model_2_pretrained_token_embedding       76.866808   0.765981  0.768668   \n",
              "model_3_custom_char_embedding            72.454654   0.721235  0.724547   \n",
              "model_4_char_and_token_embedding         73.096783   0.731087  0.730968   \n",
              "model_5_char_token_positional_embedding  83.370846   0.832571  0.833708   \n",
              "\n",
              "                                               f1  \n",
              "model_0_baseline_results                 0.698925  \n",
              "model_1_custom_token_embedding           0.789556  \n",
              "model_2_pretrained_token_embedding       0.764442  \n",
              "model_3_custom_char_embedding            0.716575  \n",
              "model_4_char_and_token_embedding         0.729507  \n",
              "model_5_char_token_positional_embedding  0.832781  "
            ],
            "text/html": [
              "\n",
              "  <div id=\"df-e7c08091-6787-4ec2-b6f6-58b33623079c\" class=\"colab-df-container\">\n",
              "    <div>\n",
              "<style scoped>\n",
              "    .dataframe tbody tr th:only-of-type {\n",
              "        vertical-align: middle;\n",
              "    }\n",
              "\n",
              "    .dataframe tbody tr th {\n",
              "        vertical-align: top;\n",
              "    }\n",
              "\n",
              "    .dataframe thead th {\n",
              "        text-align: right;\n",
              "    }\n",
              "</style>\n",
              "<table border=\"1\" class=\"dataframe\">\n",
              "  <thead>\n",
              "    <tr style=\"text-align: right;\">\n",
              "      <th></th>\n",
              "      <th>accuracy</th>\n",
              "      <th>precision</th>\n",
              "      <th>recall</th>\n",
              "      <th>f1</th>\n",
              "    </tr>\n",
              "  </thead>\n",
              "  <tbody>\n",
              "    <tr>\n",
              "      <th>model_0_baseline_results</th>\n",
              "      <td>72.183238</td>\n",
              "      <td>0.718647</td>\n",
              "      <td>0.721832</td>\n",
              "      <td>0.698925</td>\n",
              "    </tr>\n",
              "    <tr>\n",
              "      <th>model_1_custom_token_embedding</th>\n",
              "      <td>79.246657</td>\n",
              "      <td>0.789130</td>\n",
              "      <td>0.792467</td>\n",
              "      <td>0.789556</td>\n",
              "    </tr>\n",
              "    <tr>\n",
              "      <th>model_2_pretrained_token_embedding</th>\n",
              "      <td>76.866808</td>\n",
              "      <td>0.765981</td>\n",
              "      <td>0.768668</td>\n",
              "      <td>0.764442</td>\n",
              "    </tr>\n",
              "    <tr>\n",
              "      <th>model_3_custom_char_embedding</th>\n",
              "      <td>72.454654</td>\n",
              "      <td>0.721235</td>\n",
              "      <td>0.724547</td>\n",
              "      <td>0.716575</td>\n",
              "    </tr>\n",
              "    <tr>\n",
              "      <th>model_4_char_and_token_embedding</th>\n",
              "      <td>73.096783</td>\n",
              "      <td>0.731087</td>\n",
              "      <td>0.730968</td>\n",
              "      <td>0.729507</td>\n",
              "    </tr>\n",
              "    <tr>\n",
              "      <th>model_5_char_token_positional_embedding</th>\n",
              "      <td>83.370846</td>\n",
              "      <td>0.832571</td>\n",
              "      <td>0.833708</td>\n",
              "      <td>0.832781</td>\n",
              "    </tr>\n",
              "  </tbody>\n",
              "</table>\n",
              "</div>\n",
              "    <div class=\"colab-df-buttons\">\n",
              "\n",
              "  <div class=\"colab-df-container\">\n",
              "    <button class=\"colab-df-convert\" onclick=\"convertToInteractive('df-e7c08091-6787-4ec2-b6f6-58b33623079c')\"\n",
              "            title=\"Convert this dataframe to an interactive table.\"\n",
              "            style=\"display:none;\">\n",
              "\n",
              "  <svg xmlns=\"http://www.w3.org/2000/svg\" height=\"24px\" viewBox=\"0 -960 960 960\">\n",
              "    <path d=\"M120-120v-720h720v720H120Zm60-500h600v-160H180v160Zm220 220h160v-160H400v160Zm0 220h160v-160H400v160ZM180-400h160v-160H180v160Zm440 0h160v-160H620v160ZM180-180h160v-160H180v160Zm440 0h160v-160H620v160Z\"/>\n",
              "  </svg>\n",
              "    </button>\n",
              "\n",
              "  <style>\n",
              "    .colab-df-container {\n",
              "      display:flex;\n",
              "      gap: 12px;\n",
              "    }\n",
              "\n",
              "    .colab-df-convert {\n",
              "      background-color: #E8F0FE;\n",
              "      border: none;\n",
              "      border-radius: 50%;\n",
              "      cursor: pointer;\n",
              "      display: none;\n",
              "      fill: #1967D2;\n",
              "      height: 32px;\n",
              "      padding: 0 0 0 0;\n",
              "      width: 32px;\n",
              "    }\n",
              "\n",
              "    .colab-df-convert:hover {\n",
              "      background-color: #E2EBFA;\n",
              "      box-shadow: 0px 1px 2px rgba(60, 64, 67, 0.3), 0px 1px 3px 1px rgba(60, 64, 67, 0.15);\n",
              "      fill: #174EA6;\n",
              "    }\n",
              "\n",
              "    .colab-df-buttons div {\n",
              "      margin-bottom: 4px;\n",
              "    }\n",
              "\n",
              "    [theme=dark] .colab-df-convert {\n",
              "      background-color: #3B4455;\n",
              "      fill: #D2E3FC;\n",
              "    }\n",
              "\n",
              "    [theme=dark] .colab-df-convert:hover {\n",
              "      background-color: #434B5C;\n",
              "      box-shadow: 0px 1px 3px 1px rgba(0, 0, 0, 0.15);\n",
              "      filter: drop-shadow(0px 1px 2px rgba(0, 0, 0, 0.3));\n",
              "      fill: #FFFFFF;\n",
              "    }\n",
              "  </style>\n",
              "\n",
              "    <script>\n",
              "      const buttonEl =\n",
              "        document.querySelector('#df-e7c08091-6787-4ec2-b6f6-58b33623079c button.colab-df-convert');\n",
              "      buttonEl.style.display =\n",
              "        google.colab.kernel.accessAllowed ? 'block' : 'none';\n",
              "\n",
              "      async function convertToInteractive(key) {\n",
              "        const element = document.querySelector('#df-e7c08091-6787-4ec2-b6f6-58b33623079c');\n",
              "        const dataTable =\n",
              "          await google.colab.kernel.invokeFunction('convertToInteractive',\n",
              "                                                    [key], {});\n",
              "        if (!dataTable) return;\n",
              "\n",
              "        const docLinkHtml = 'Like what you see? Visit the ' +\n",
              "          '<a target=\"_blank\" href=https://colab.research.google.com/notebooks/data_table.ipynb>data table notebook</a>'\n",
              "          + ' to learn more about interactive tables.';\n",
              "        element.innerHTML = '';\n",
              "        dataTable['output_type'] = 'display_data';\n",
              "        await google.colab.output.renderOutput(dataTable, element);\n",
              "        const docLink = document.createElement('div');\n",
              "        docLink.innerHTML = docLinkHtml;\n",
              "        element.appendChild(docLink);\n",
              "      }\n",
              "    </script>\n",
              "  </div>\n",
              "\n",
              "\n",
              "<div id=\"df-615e1cb2-cd81-4663-8a8a-8d4ffaefbf32\">\n",
              "  <button class=\"colab-df-quickchart\" onclick=\"quickchart('df-615e1cb2-cd81-4663-8a8a-8d4ffaefbf32')\"\n",
              "            title=\"Suggest charts.\"\n",
              "            style=\"display:none;\">\n",
              "\n",
              "<svg xmlns=\"http://www.w3.org/2000/svg\" height=\"24px\"viewBox=\"0 0 24 24\"\n",
              "     width=\"24px\">\n",
              "    <g>\n",
              "        <path d=\"M19 3H5c-1.1 0-2 .9-2 2v14c0 1.1.9 2 2 2h14c1.1 0 2-.9 2-2V5c0-1.1-.9-2-2-2zM9 17H7v-7h2v7zm4 0h-2V7h2v10zm4 0h-2v-4h2v4z\"/>\n",
              "    </g>\n",
              "</svg>\n",
              "  </button>\n",
              "\n",
              "<style>\n",
              "  .colab-df-quickchart {\n",
              "    background-color: #E8F0FE;\n",
              "    border: none;\n",
              "    border-radius: 50%;\n",
              "    cursor: pointer;\n",
              "    display: none;\n",
              "    fill: #1967D2;\n",
              "    height: 32px;\n",
              "    padding: 0 0 0 0;\n",
              "    width: 32px;\n",
              "  }\n",
              "\n",
              "  .colab-df-quickchart:hover {\n",
              "    background-color: #E2EBFA;\n",
              "    box-shadow: 0px 1px 2px rgba(60, 64, 67, 0.3), 0px 1px 3px 1px rgba(60, 64, 67, 0.15);\n",
              "    fill: #174EA6;\n",
              "  }\n",
              "\n",
              "  [theme=dark] .colab-df-quickchart {\n",
              "    background-color: #3B4455;\n",
              "    fill: #D2E3FC;\n",
              "  }\n",
              "\n",
              "  [theme=dark] .colab-df-quickchart:hover {\n",
              "    background-color: #434B5C;\n",
              "    box-shadow: 0px 1px 3px 1px rgba(0, 0, 0, 0.15);\n",
              "    filter: drop-shadow(0px 1px 2px rgba(0, 0, 0, 0.3));\n",
              "    fill: #FFFFFF;\n",
              "  }\n",
              "</style>\n",
              "\n",
              "  <script>\n",
              "    async function quickchart(key) {\n",
              "      const charts = await google.colab.kernel.invokeFunction(\n",
              "          'suggestCharts', [key], {});\n",
              "    }\n",
              "    (() => {\n",
              "      let quickchartButtonEl =\n",
              "        document.querySelector('#df-615e1cb2-cd81-4663-8a8a-8d4ffaefbf32 button');\n",
              "      quickchartButtonEl.style.display =\n",
              "        google.colab.kernel.accessAllowed ? 'block' : 'none';\n",
              "    })();\n",
              "  </script>\n",
              "</div>\n",
              "    </div>\n",
              "  </div>\n"
            ]
          },
          "metadata": {},
          "execution_count": 114
        }
      ]
    },
    {
      "cell_type": "code",
      "source": [
        "# Reduce the accuracy to same scale as other metrics\n",
        "all_model_results[\"accuracy\"] = all_model_results[\"accuracy\"]/100\n"
      ],
      "metadata": {
        "id": "WNywdUtfwfj5"
      },
      "execution_count": 115,
      "outputs": []
    },
    {
      "cell_type": "code",
      "source": [
        "# Plot all of results and compare it\n",
        "all_model_results.plot(kind = \"bar\" , figsize = ( 10 , 7 )).legend(bbox_to_anchor = (1.0 , 1.0))"
      ],
      "metadata": {
        "colab": {
          "base_uri": "https://localhost:8080/",
          "height": 905
        },
        "id": "37MUBLL9xFMn",
        "outputId": "52e0a520-8cb6-4db4-c773-7e1ce279352a"
      },
      "execution_count": 118,
      "outputs": [
        {
          "output_type": "execute_result",
          "data": {
            "text/plain": [
              "<matplotlib.legend.Legend at 0x783fb526d0c0>"
            ]
          },
          "metadata": {},
          "execution_count": 118
        },
        {
          "output_type": "display_data",
          "data": {
            "text/plain": [
              "<Figure size 1000x700 with 1 Axes>"
            ],
            "image/png": "[encoded data removed]"
          },
          "metadata": {}
        }
      ]
    },
    {
      "cell_type": "code",
      "source": [
        "# Sort models results by f1 scores\n",
        "all_model_results.sort_values(\"f1\" , ascending = True)[\"f1\"].plot(kind = \"bar\" , figsize = ( 10 , 7 ))"
      ],
      "metadata": {
        "colab": {
          "base_uri": "https://localhost:8080/",
          "height": 905
        },
        "id": "aGUYeMKRxh6N",
        "outputId": "0e92288a-de4a-4ada-fd83-022efa509562"
      },
      "execution_count": 120,
      "outputs": [
        {
          "output_type": "execute_result",
          "data": {
            "text/plain": [
              "<Axes: >"
            ]
          },
          "metadata": {},
          "execution_count": 120
        },
        {
          "output_type": "display_data",
          "data": {
            "text/plain": [
              "<Figure size 1000x700 with 1 Axes>"
            ],
            "image/png": "[encoded data removed]"
          },
          "metadata": {}
        }
      ]
    },
    {
      "cell_type": "markdown",
      "source": [
        "# Save and load model"
      ],
      "metadata": {
        "id": "zzybhcr3yp9Q"
      }
    },
    {
      "cell_type": "code",
      "source": [
        "# Save  model_5 to SavedModel format (default)\n",
        "\n",
        "model_5.save(\"model_5_SavedModel_format\")"
      ],
      "metadata": {
        "colab": {
          "base_uri": "https://localhost:8080/"
        },
        "id": "u5SNwFYszWPQ",
        "outputId": "2a3503b9-d051-4ddf-8e82-99cc57cd260e"
      },
      "execution_count": 121,
      "outputs": [
        {
          "output_type": "stream",
          "name": "stderr",
          "text": [
            "WARNING:absl:Found untraced functions such as lstm_cell_7_layer_call_fn, lstm_cell_7_layer_call_and_return_conditional_losses, lstm_cell_8_layer_call_fn, lstm_cell_8_layer_call_and_return_conditional_losses while saving (showing 4 of 4). These functions will not be directly callable after loading.\n"
          ]
        }
      ]
    },
    {
      "cell_type": "code",
      "source": [
        "# Load in the SavedModel format\n",
        "\n",
        "loaded_model_5_SavedModel_format = tf.keras.models.load_model(\"model_5_SavedModel_format\")"
      ],
      "metadata": {
        "id": "9qGC2L15zYXm"
      },
      "execution_count": 122,
      "outputs": []
    }
  ]
}
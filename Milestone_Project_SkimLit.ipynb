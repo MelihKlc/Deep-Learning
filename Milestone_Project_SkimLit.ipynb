{
  "nbformat": 4,
  "nbformat_minor": 0,
  "metadata": {
    "colab": {
      "provenance": [],
      "gpuType": "T4",
      "authorship_tag": "ABX9TyOovlPg4g9dxZWHuB1J42CN",
      "include_colab_link": true
    },
    "kernelspec": {
      "name": "python3",
      "display_name": "Python 3"
    },
    "language_info": {
      "name": "python"
    },
    "accelerator": "GPU"
  },
  "cells": [
    {
      "cell_type": "markdown",
      "metadata": {
        "id": "view-in-github",
        "colab_type": "text"
      },
      "source": [
        "<a href=\"https://colab.research.google.com/github/MelihKlc/Deep-Learning/blob/main/Milestone_Project_SkimLit.ipynb\" target=\"_parent\"><img src=\"https://colab.research.google.com/assets/colab-badge.svg\" alt=\"Open In Colab\"/></a>"
      ]
    },
    {
      "cell_type": "markdown",
      "source": [
        "# The purpose of this notebook is to build an NLP model to make reading medical abstracts easier."
      ],
      "metadata": {
        "id": "AUHdZq9wiBPm"
      }
    },
    {
      "cell_type": "markdown",
      "source": [
        "# Get data\n",
        "\n",
        "Since we will be replicating the paper above (PubMed 200k RCT) , lets download the dataset they used.\n",
        "\n",
        "We can do so from the authors GitHub: https://github.com/Franck-Dernoncourt/pubmed-rct"
      ],
      "metadata": {
        "id": "HRu6KJq9uMLh"
      }
    },
    {
      "cell_type": "code",
      "source": [
        "!git clone https://github.com/Franck-Dernoncourt/pubmed-rct  # Githubdan data cekerken git clone kullanıyoruz\n",
        "\n",
        "!ls pubmed-rct"
      ],
      "metadata": {
        "colab": {
          "base_uri": "https://localhost:8080/"
        },
        "id": "kQpgQmAfu-ln",
        "outputId": "4716ea14-f43c-4f3c-8f59-4c075008b14d"
      },
      "execution_count": 1,
      "outputs": [
        {
          "output_type": "stream",
          "name": "stdout",
          "text": [
            "fatal: destination path 'pubmed-rct' already exists and is not an empty directory.\n",
            "PubMed_200k_RCT\n",
            "PubMed_200k_RCT_numbers_replaced_with_at_sign\n",
            "PubMed_20k_RCT\n",
            "PubMed_20k_RCT_numbers_replaced_with_at_sign\n",
            "README.md\n"
          ]
        }
      ]
    },
    {
      "cell_type": "code",
      "source": [
        "# 20K dataset koymalarının sebebi önce kücük datasette calısıp sonrasında upscale etmek. (%10 of original dataset)\n",
        "# Check the files are in the PubMed_20k_ dataset\n",
        "# Dev.txt aslında validation set için konulan başka bir isim\n",
        "!ls pubmed-rct/PubMed_20k_RCT_numbers_replaced_with_at_sign/\n",
        "!ls pubmed-rct/PubMed_20k_RCT/   # Burda sayılar yerine @ konulmus sekilde geliyo datasetimiz. Aslında preprocess edilmis oluyo bir kısmı."
      ],
      "metadata": {
        "colab": {
          "base_uri": "https://localhost:8080/"
        },
        "id": "ikUSsoCbvChR",
        "outputId": "148881a6-f011-4a7e-cf97-f625cfad5821"
      },
      "execution_count": 2,
      "outputs": [
        {
          "output_type": "stream",
          "name": "stdout",
          "text": [
            "dev.txt  test.txt  train.txt\n",
            "dev.txt  test.txt  train.txt\n"
          ]
        }
      ]
    },
    {
      "cell_type": "code",
      "source": [
        "# Start our experiments using the 20K dataset with number replaced by \"@\" sign\n",
        "\n",
        "data_dir = \"/content/pubmed-rct/PubMed_20k_RCT_numbers_replaced_with_at_sign/\""
      ],
      "metadata": {
        "id": "8GXRBkotwc1q"
      },
      "execution_count": 3,
      "outputs": []
    },
    {
      "cell_type": "code",
      "source": [
        "# Check all of the filenames in the target directory.\n",
        "import os\n",
        "\n",
        "filenames = [ data_dir + filename for filename in os.listdir(data_dir) ]\n",
        "filenames\n",
        "\n",
        "#for döngüsünden sonra gelen filename, her bir döngü iterasyonunda listenin içindeki dosya ve dizin adlarını temsil eden bir değişkendir. Yani her döngü adımında filename değişkeni, listenin içindeki sıradaki dosya veya dizin adını alır.\n",
        "\n",
        "#Örneğin, eğer os.listdir(data_dir) çağrısıyla data_dir dizininde bulunan dosya ve dizin adları şunlar ise: ['dosya1.txt', 'dosya2.txt', 'alt_dizin']\n",
        "\n",
        "#for filename in os.listdir(data_dir) ifadesi döngüye başladığında filename şu değerleri alacaktır:\n",
        "\n",
        "#İterasyon 1: filename = 'dosya1.txt'\n",
        "#İterasyon 2: filename = 'dosya2.txt'\n",
        "#İterasyon 3: filename = 'alt_dizin'"
      ],
      "metadata": {
        "colab": {
          "base_uri": "https://localhost:8080/"
        },
        "id": "dWq9Y5KFy73z",
        "outputId": "34fbee90-9b5d-41cb-82a2-29e29d49cb4a"
      },
      "execution_count": 4,
      "outputs": [
        {
          "output_type": "execute_result",
          "data": {
            "text/plain": [
              "['/content/pubmed-rct/PubMed_20k_RCT_numbers_replaced_with_at_sign/dev.txt',\n",
              " '/content/pubmed-rct/PubMed_20k_RCT_numbers_replaced_with_at_sign/train.txt',\n",
              " '/content/pubmed-rct/PubMed_20k_RCT_numbers_replaced_with_at_sign/test.txt']"
            ]
          },
          "metadata": {},
          "execution_count": 4
        }
      ]
    },
    {
      "cell_type": "markdown",
      "source": [
        "# Preprocess data\n",
        "\n",
        "Now we have got some text data , it is time to become one with it.\n",
        "\n",
        "And one of the best ways to become one with the data is to..\n",
        "\n",
        "> Visualize\n",
        "\n",
        "So with that in mind , lets write a function to read in all of the lines of a target text file"
      ],
      "metadata": {
        "id": "pCggJBx9zJNi"
      }
    },
    {
      "cell_type": "code",
      "source": [
        "# Create a function to read the lines of a document\n",
        "def get_lines(filename):\n",
        "  \"\"\"\n",
        "  Reads filename (a text filename) and returns the lines of text as a list\n",
        "\n",
        "  Args:\n",
        "    filename: a string containing the target filepath.\n",
        "\n",
        "  Returns:\n",
        "    A list of strings with one string per line from the target filename.\n",
        "  \"\"\"\n",
        "  # r means read and f means file. Open this file(filename) and save it as f\n",
        "  with open(filename , \"r\") as f:\n",
        "    return f.readlines()  # This reads the remaining lines from the file object and returns them as a list.\n"
      ],
      "metadata": {
        "id": "BYD-tylq3JTJ"
      },
      "execution_count": 5,
      "outputs": []
    },
    {
      "cell_type": "code",
      "source": [
        "# Lets read in the training lines\n",
        "\n",
        "train_lines = get_lines(data_dir + \"train.txt\" )\n",
        "train_lines[ : 27 ]"
      ],
      "metadata": {
        "colab": {
          "base_uri": "https://localhost:8080/"
        },
        "id": "mY3mI6ZX4-Yc",
        "outputId": "8914a85d-9fed-43b0-8f32-b3828897fde3"
      },
      "execution_count": 6,
      "outputs": [
        {
          "output_type": "execute_result",
          "data": {
            "text/plain": [
              "['###24293578\\n',\n",
              " 'OBJECTIVE\\tTo investigate the efficacy of @ weeks of daily low-dose oral prednisolone in improving pain , mobility , and systemic low-grade inflammation in the short term and whether the effect would be sustained at @ weeks in older adults with moderate to severe knee osteoarthritis ( OA ) .\\n',\n",
              " 'METHODS\\tA total of @ patients with primary knee OA were randomized @:@ ; @ received @ mg/day of prednisolone and @ received placebo for @ weeks .\\n',\n",
              " 'METHODS\\tOutcome measures included pain reduction and improvement in function scores and systemic inflammation markers .\\n',\n",
              " 'METHODS\\tPain was assessed using the visual analog pain scale ( @-@ mm ) .\\n',\n",
              " 'METHODS\\tSecondary outcome measures included the Western Ontario and McMaster Universities Osteoarthritis Index scores , patient global assessment ( PGA ) of the severity of knee OA , and @-min walk distance ( @MWD ) .\\n',\n",
              " 'METHODS\\tSerum levels of interleukin @ ( IL-@ ) , IL-@ , tumor necrosis factor ( TNF ) - , and high-sensitivity C-reactive protein ( hsCRP ) were measured .\\n',\n",
              " 'RESULTS\\tThere was a clinically relevant reduction in the intervention group compared to the placebo group for knee pain , physical function , PGA , and @MWD at @ weeks .\\n',\n",
              " 'RESULTS\\tThe mean difference between treatment arms ( @ % CI ) was @ ( @-@ @ ) , p < @ ; @ ( @-@ @ ) , p < @ ; @ ( @-@ @ ) , p < @ ; and @ ( @-@ @ ) , p < @ , respectively .\\n',\n",
              " 'RESULTS\\tFurther , there was a clinically relevant reduction in the serum levels of IL-@ , IL-@ , TNF - , and hsCRP at @ weeks in the intervention group when compared to the placebo group .\\n',\n",
              " 'RESULTS\\tThese differences remained significant at @ weeks .\\n',\n",
              " 'RESULTS\\tThe Outcome Measures in Rheumatology Clinical Trials-Osteoarthritis Research Society International responder rate was @ % in the intervention group and @ % in the placebo group ( p < @ ) .\\n',\n",
              " 'CONCLUSIONS\\tLow-dose oral prednisolone had both a short-term and a longer sustained effect resulting in less knee pain , better physical function , and attenuation of systemic inflammation in older patients with knee OA ( ClinicalTrials.gov identifier NCT@ ) .\\n',\n",
              " '\\n',\n",
              " '###24854809\\n',\n",
              " 'BACKGROUND\\tEmotional eating is associated with overeating and the development of obesity .\\n',\n",
              " 'BACKGROUND\\tYet , empirical evidence for individual ( trait ) differences in emotional eating and cognitive mechanisms that contribute to eating during sad mood remain equivocal .\\n',\n",
              " 'OBJECTIVE\\tThe aim of this study was to test if attention bias for food moderates the effect of self-reported emotional eating during sad mood ( vs neutral mood ) on actual food intake .\\n',\n",
              " 'OBJECTIVE\\tIt was expected that emotional eating is predictive of elevated attention for food and higher food intake after an experimentally induced sad mood and that attentional maintenance on food predicts food intake during a sad versus a neutral mood .\\n',\n",
              " 'METHODS\\tParticipants ( N = @ ) were randomly assigned to one of the two experimental mood induction conditions ( sad/neutral ) .\\n',\n",
              " 'METHODS\\tAttentional biases for high caloric foods were measured by eye tracking during a visual probe task with pictorial food and neutral stimuli .\\n',\n",
              " 'METHODS\\tSelf-reported emotional eating was assessed with the Dutch Eating Behavior Questionnaire ( DEBQ ) and ad libitum food intake was tested by a disguised food offer .\\n',\n",
              " 'RESULTS\\tHierarchical multivariate regression modeling showed that self-reported emotional eating did not account for changes in attention allocation for food or food intake in either condition .\\n',\n",
              " 'RESULTS\\tYet , attention maintenance on food cues was significantly related to increased intake specifically in the neutral condition , but not in the sad mood condition .\\n',\n",
              " 'CONCLUSIONS\\tThe current findings show that self-reported emotional eating ( based on the DEBQ ) might not validly predict who overeats when sad , at least not in a laboratory setting with healthy women .\\n',\n",
              " 'CONCLUSIONS\\tResults further suggest that attention maintenance on food relates to eating motivation when in a neutral affective state , and might therefore be a cognitive mechanism contributing to increased food intake in general , but maybe not during sad mood .\\n',\n",
              " '\\n']"
            ]
          },
          "metadata": {},
          "execution_count": 6
        }
      ]
    },
    {
      "cell_type": "markdown",
      "source": [
        "Lets think about how we want out data to look..\n",
        "\n",
        "How i think our data would be best represented..\n",
        "\n",
        "We will represent our data with dictionary\n",
        "\n",
        "Emotional eatingle baslayan yeri kullanıyoruz.\n",
        "\n",
        "'  [ {  ' line_number ' : 0  ,\n",
        "' target ' : ' BACKGROUND ' ,\n",
        "' text ' : \"BACKGROUND\\tEmotional eating is associated with overeating and the development of obesity .\\n\" ,\n",
        "' total_lines ' : 11  (sentence in our special abstract) }]  '\n",
        "\n",
        "Bizim datamızda order önemli çünkü conclusion cümlesinin başta olması saçma olur bu yüzden ordera dikkat edeceğiz.\n",
        "\n",
        "Bunu bitirdiğimizde liste içinde 11 dictionarymiz olması gerek.\n",
        "\n",
        "Niye bunu kullanıyoruz? Çünkü pythonda kendi data structure ımızı oluşturmak çok önemli şu an datamızda bir structure yok bu yüzden biz bunu list of dictionaries structure ına çevireceğiz.\n",
        "\n"
      ],
      "metadata": {
        "id": "8q8kcAmC5THw"
      }
    },
    {
      "cell_type": "markdown",
      "source": [
        "# Lets write a function which turns each of our datasets into the above format so we can continue to prepare"
      ],
      "metadata": {
        "id": "GF7kFhYP-YY2"
      }
    },
    {
      "cell_type": "code",
      "source": [
        "def preprocess_text_with_line_numbers(filename):\n",
        "  \"\"\"\n",
        "  Returns a list of dictionaries of abstarct line data.\n",
        "\n",
        "  Takes in filename , reads in contents and sorts through each line ,\n",
        "  extracting things like the target label , the text of the sentence ,\n",
        "  how many sentences are in the current abstract and what sentence number\n",
        "  the target line is.\n",
        "  \"\"\"\n",
        "  input_lines = get_lines(filename) # get all lines from filename\n",
        "  abstract_lines = \"\" # create an empty abstract. abstractlar \\n ile ayrıldıgı icin biz de burda abstractları ayırıyoruz.\n",
        "  abstract_samples = [] # Create an empty list of abstracts\n",
        "\n",
        "  # Loop through each line in the target file\n",
        "  for line in input_lines:\n",
        "    if line.startswith(\"###\"):  # Check to see if the line is an ID line. Bu methodla ### ile başlayan line gelirse yi test ediyoruz.\n",
        "      abstract_id = line\n",
        "      abstract_lines = \"\"   # Reset the abstract string if the line is an ID line. Yani id line geldiginde abstractımızı resetleyip basta yaptıgımız isleme dönüyoruz.\n",
        "    elif line.isspace():  # Check to see if line is a new line. Artık buraya geldiğimizde abstractları ayırdık. Simdi de abstract içindeki cümleleri ayırmamız gerekiyor. Bu yüzden isspace kullanıyoruz bu da new line gördüğünde devreye giriyor yani \\n gördüğünde.\n",
        "      abstract_line_split = abstract_lines.splitlines()  # Split abstract into seperate lines. splitlines fonksiyonu ile \\n yani new line gördüğünde artık onu line olarak ayarlıyor ve aşağıya geçtiğinde farklı bir line a geçmiş oluyoruz.\n",
        "\n",
        "         # Iterate through each line in a single abstract and count them at the same time\n",
        "      for abstract_line_number , abstract_line in enumerate(abstract_line_split):\n",
        "          line_data = {}  # Create an empty dictionary for each line. Her line için yukarıda bir pattern yazmıştık onu oluşturuyoruz.\n",
        "          target_text_split = abstract_line.split(\"\\t\") # Split target label from text\n",
        "          line_data[\"target\"] = target_text_split[0] # Get target labels. target_text_split ile textimizi labelından ayırdık. Şimdi line_data adında bir data olusturduk yukarıda dictionary olarak ve buna target adında bir feature ekledik bu labelları tutacak içinde. target_text_split[0] 0. index dediğimiz zaten labellar oluyo biz 2 indexe ayırdık target ve text olarak.\n",
        "          line_data[\"text\"] = target_text_split[1].lower()  # Textteki tüm harfleri kücük harfe ceviriyoruz lower methodu ile.\n",
        "          line_data[\"line_number\"] = abstract_line_number # What number line does the line appear in the abstract.\n",
        "          line_data[\"total_lines\"] = len(abstract_line_split) - 1  # -1 , indexler 0 dan basladıgı icin. How many total lines are there in the target abstract?\n",
        "          abstract_samples.append(line_data)  # add line data to abstract sample list. Burda artık line_data ile gerekli dictionary mizi olusturduk simdi list of dictionary kullanacagımız icin en basta olusturdugumuz empty listeye dictionarymizi ekliyoruz.\n",
        "    else:\n",
        "      abstract_lines += line  # If the above conditions arent satisfied , the line contains a labelled sentence . If it is not an id line (doesnt begin with ###) and if it also is not an empty string, the else statement is saying all of these lines between the ### and between the new line (\\n) are part of the same abstract\n",
        "  return abstract_samples"
      ],
      "metadata": {
        "id": "ifEujPig_ZXa"
      },
      "execution_count": 7,
      "outputs": []
    },
    {
      "cell_type": "code",
      "source": [
        "# Get data from file and preprocess it. (%%time ne kadar surdugunu ogrenmek icin)\n",
        "%%time\n",
        "train_samples = preprocess_text_with_line_numbers(data_dir +\"train.txt\")\n",
        "train_samples[ : 20]\n"
      ],
      "metadata": {
        "colab": {
          "base_uri": "https://localhost:8080/"
        },
        "id": "E7Gjcv7LRvyn",
        "outputId": "c36f5921-d806-412d-9320-5123a7e46940"
      },
      "execution_count": 8,
      "outputs": [
        {
          "output_type": "stream",
          "name": "stdout",
          "text": [
            "CPU times: user 388 ms, sys: 68.9 ms, total: 457 ms\n",
            "Wall time: 461 ms\n"
          ]
        },
        {
          "output_type": "execute_result",
          "data": {
            "text/plain": [
              "[{'target': 'OBJECTIVE',\n",
              "  'text': 'to investigate the efficacy of @ weeks of daily low-dose oral prednisolone in improving pain , mobility , and systemic low-grade inflammation in the short term and whether the effect would be sustained at @ weeks in older adults with moderate to severe knee osteoarthritis ( oa ) .',\n",
              "  'line_number': 0,\n",
              "  'total_lines': 11},\n",
              " {'target': 'METHODS',\n",
              "  'text': 'a total of @ patients with primary knee oa were randomized @:@ ; @ received @ mg/day of prednisolone and @ received placebo for @ weeks .',\n",
              "  'line_number': 1,\n",
              "  'total_lines': 11},\n",
              " {'target': 'METHODS',\n",
              "  'text': 'outcome measures included pain reduction and improvement in function scores and systemic inflammation markers .',\n",
              "  'line_number': 2,\n",
              "  'total_lines': 11},\n",
              " {'target': 'METHODS',\n",
              "  'text': 'pain was assessed using the visual analog pain scale ( @-@ mm ) .',\n",
              "  'line_number': 3,\n",
              "  'total_lines': 11},\n",
              " {'target': 'METHODS',\n",
              "  'text': 'secondary outcome measures included the western ontario and mcmaster universities osteoarthritis index scores , patient global assessment ( pga ) of the severity of knee oa , and @-min walk distance ( @mwd ) .',\n",
              "  'line_number': 4,\n",
              "  'total_lines': 11},\n",
              " {'target': 'METHODS',\n",
              "  'text': 'serum levels of interleukin @ ( il-@ ) , il-@ , tumor necrosis factor ( tnf ) - , and high-sensitivity c-reactive protein ( hscrp ) were measured .',\n",
              "  'line_number': 5,\n",
              "  'total_lines': 11},\n",
              " {'target': 'RESULTS',\n",
              "  'text': 'there was a clinically relevant reduction in the intervention group compared to the placebo group for knee pain , physical function , pga , and @mwd at @ weeks .',\n",
              "  'line_number': 6,\n",
              "  'total_lines': 11},\n",
              " {'target': 'RESULTS',\n",
              "  'text': 'the mean difference between treatment arms ( @ % ci ) was @ ( @-@ @ ) , p < @ ; @ ( @-@ @ ) , p < @ ; @ ( @-@ @ ) , p < @ ; and @ ( @-@ @ ) , p < @ , respectively .',\n",
              "  'line_number': 7,\n",
              "  'total_lines': 11},\n",
              " {'target': 'RESULTS',\n",
              "  'text': 'further , there was a clinically relevant reduction in the serum levels of il-@ , il-@ , tnf - , and hscrp at @ weeks in the intervention group when compared to the placebo group .',\n",
              "  'line_number': 8,\n",
              "  'total_lines': 11},\n",
              " {'target': 'RESULTS',\n",
              "  'text': 'these differences remained significant at @ weeks .',\n",
              "  'line_number': 9,\n",
              "  'total_lines': 11},\n",
              " {'target': 'RESULTS',\n",
              "  'text': 'the outcome measures in rheumatology clinical trials-osteoarthritis research society international responder rate was @ % in the intervention group and @ % in the placebo group ( p < @ ) .',\n",
              "  'line_number': 10,\n",
              "  'total_lines': 11},\n",
              " {'target': 'CONCLUSIONS',\n",
              "  'text': 'low-dose oral prednisolone had both a short-term and a longer sustained effect resulting in less knee pain , better physical function , and attenuation of systemic inflammation in older patients with knee oa ( clinicaltrials.gov identifier nct@ ) .',\n",
              "  'line_number': 11,\n",
              "  'total_lines': 11},\n",
              " {'target': 'BACKGROUND',\n",
              "  'text': 'emotional eating is associated with overeating and the development of obesity .',\n",
              "  'line_number': 0,\n",
              "  'total_lines': 10},\n",
              " {'target': 'BACKGROUND',\n",
              "  'text': 'yet , empirical evidence for individual ( trait ) differences in emotional eating and cognitive mechanisms that contribute to eating during sad mood remain equivocal .',\n",
              "  'line_number': 1,\n",
              "  'total_lines': 10},\n",
              " {'target': 'OBJECTIVE',\n",
              "  'text': 'the aim of this study was to test if attention bias for food moderates the effect of self-reported emotional eating during sad mood ( vs neutral mood ) on actual food intake .',\n",
              "  'line_number': 2,\n",
              "  'total_lines': 10},\n",
              " {'target': 'OBJECTIVE',\n",
              "  'text': 'it was expected that emotional eating is predictive of elevated attention for food and higher food intake after an experimentally induced sad mood and that attentional maintenance on food predicts food intake during a sad versus a neutral mood .',\n",
              "  'line_number': 3,\n",
              "  'total_lines': 10},\n",
              " {'target': 'METHODS',\n",
              "  'text': 'participants ( n = @ ) were randomly assigned to one of the two experimental mood induction conditions ( sad/neutral ) .',\n",
              "  'line_number': 4,\n",
              "  'total_lines': 10},\n",
              " {'target': 'METHODS',\n",
              "  'text': 'attentional biases for high caloric foods were measured by eye tracking during a visual probe task with pictorial food and neutral stimuli .',\n",
              "  'line_number': 5,\n",
              "  'total_lines': 10},\n",
              " {'target': 'METHODS',\n",
              "  'text': 'self-reported emotional eating was assessed with the dutch eating behavior questionnaire ( debq ) and ad libitum food intake was tested by a disguised food offer .',\n",
              "  'line_number': 6,\n",
              "  'total_lines': 10},\n",
              " {'target': 'RESULTS',\n",
              "  'text': 'hierarchical multivariate regression modeling showed that self-reported emotional eating did not account for changes in attention allocation for food or food intake in either condition .',\n",
              "  'line_number': 7,\n",
              "  'total_lines': 10}]"
            ]
          },
          "metadata": {},
          "execution_count": 8
        }
      ]
    },
    {
      "cell_type": "code",
      "source": [
        "val_samples = preprocess_text_with_line_numbers(data_dir + \"dev.txt\")\n",
        "test_samples = preprocess_text_with_line_numbers(data_dir + \"test.txt\")\n",
        "test_samples[ : 30]"
      ],
      "metadata": {
        "colab": {
          "base_uri": "https://localhost:8080/"
        },
        "id": "UPVVqR06SCfx",
        "outputId": "33e083e8-f36f-4baa-b8bb-533fa4321b29"
      },
      "execution_count": 9,
      "outputs": [
        {
          "output_type": "execute_result",
          "data": {
            "text/plain": [
              "[{'target': 'BACKGROUND',\n",
              "  'text': 'this study analyzed liver function abnormalities in heart failure patients admitted with severe acute decompensated heart failure ( adhf ) .',\n",
              "  'line_number': 0,\n",
              "  'total_lines': 8},\n",
              " {'target': 'RESULTS',\n",
              "  'text': 'a post hoc analysis was conducted with the use of data from the evaluation study of congestive heart failure and pulmonary artery catheterization effectiveness ( escape ) .',\n",
              "  'line_number': 1,\n",
              "  'total_lines': 8},\n",
              " {'target': 'RESULTS',\n",
              "  'text': 'liver function tests ( lfts ) were measured at @ time points from baseline , at discharge , and up to @ months follow-up .',\n",
              "  'line_number': 2,\n",
              "  'total_lines': 8},\n",
              " {'target': 'RESULTS',\n",
              "  'text': 'survival analyses were used to assess the association between admission model of end-stage liver disease excluding international normalized ratio ( meld-xi ) scores and patient outcome.there was a high prevalence of abnormal baseline ( admission ) lfts ( albumin @ % , aspartate transaminase @ % , alanine transaminase @ % , and total bilirubin @ % ) .',\n",
              "  'line_number': 3,\n",
              "  'total_lines': 8},\n",
              " {'target': 'RESULTS',\n",
              "  'text': \"the percentage of patients with abnormal lfts decreased significantly from baseline to @-months ' follow-up .\",\n",
              "  'line_number': 4,\n",
              "  'total_lines': 8},\n",
              " {'target': 'RESULTS',\n",
              "  'text': 'when mean hemodynamic profiles were compared in patients with abnormal versus normal lfts , elevated total bilirubin was associated with a significantly lower cardiac index ( @ vs @ ; p < @ ) and higher central venous pressure ( @ vs @ ; p = @ ) .',\n",
              "  'line_number': 5,\n",
              "  'total_lines': 8},\n",
              " {'target': 'RESULTS',\n",
              "  'text': 'multivariable analyses revealed that patients with elevated meld-xi scores ( @ ) had a @-fold ( hazard ratio@ @ , @ % confidence interval @-@ @ ) increased risk of death , rehospitalization , or transplantation after adjusting for baseline lfts , age , sex , race , body mass index , diabetes , and systolic blood pressure .',\n",
              "  'line_number': 6,\n",
              "  'total_lines': 8},\n",
              " {'target': 'CONCLUSIONS',\n",
              "  'text': 'abnormal lfts are common in the adhf population and are a dynamic marker of an impaired hemodynamic state .',\n",
              "  'line_number': 7,\n",
              "  'total_lines': 8},\n",
              " {'target': 'CONCLUSIONS',\n",
              "  'text': 'elevated meld-xi scores are associated with poor outcomes among patients admitted with adhf .',\n",
              "  'line_number': 8,\n",
              "  'total_lines': 8},\n",
              " {'target': 'BACKGROUND',\n",
              "  'text': 'minimally invasive endovascular aneurysm repair ( evar ) could be a surgical technique that improves outcome of patients with ruptured abdominal aortic aneurysm ( raaa ) .',\n",
              "  'line_number': 0,\n",
              "  'total_lines': 12},\n",
              " {'target': 'BACKGROUND',\n",
              "  'text': 'the aim of this study was to analyse the cost-effectiveness and cost-utility of evar compared with standard open repair ( or ) in the treatment of raaa , with costs per @-day and @-month survivor as outcome parameters .',\n",
              "  'line_number': 1,\n",
              "  'total_lines': 12},\n",
              " {'target': 'METHODS',\n",
              "  'text': 'resource use was determined from the amsterdam acute aneurysm ( ajax ) trial , a multicentre randomized trial comparing evar with or in patients with raaa .',\n",
              "  'line_number': 2,\n",
              "  'total_lines': 12},\n",
              " {'target': 'METHODS',\n",
              "  'text': 'the analysis was performed from a provider perspective .',\n",
              "  'line_number': 3,\n",
              "  'total_lines': 12},\n",
              " {'target': 'METHODS',\n",
              "  'text': 'all costs were calculated as if all patients had been treated in the same hospital ( onze lieve vrouwe gasthuis , teaching hospital ) .',\n",
              "  'line_number': 4,\n",
              "  'total_lines': 12},\n",
              " {'target': 'RESULTS',\n",
              "  'text': 'a total of @ patients were randomized .',\n",
              "  'line_number': 5,\n",
              "  'total_lines': 12},\n",
              " {'target': 'RESULTS',\n",
              "  'text': 'the @-day mortality rate was @ per cent after evar and @ per cent for or : absolute risk reduction ( arr ) @ ( @ per cent confidence interval ( c.i. ) -@ to @ ) per cent .',\n",
              "  'line_number': 6,\n",
              "  'total_lines': 12},\n",
              " {'target': 'RESULTS',\n",
              "  'text': 'at @months , the total mortality rate for evar was @ per cent , compared with @ per cent among those assigned to or : arr @ ( -@ to @ ) per cent .',\n",
              "  'line_number': 7,\n",
              "  'total_lines': 12},\n",
              " {'target': 'RESULTS',\n",
              "  'text': 'the mean cost difference between evar and or was @ ( @ per cent c.i. -@ to @,@ ) at @days and @,@ ( -@ to @,@ ) at @months .',\n",
              "  'line_number': 8,\n",
              "  'total_lines': 12},\n",
              " {'target': 'RESULTS',\n",
              "  'text': 'the incremental cost-effectiveness ratio per prevented death was @,@ at @days and @,@ at @months .',\n",
              "  'line_number': 9,\n",
              "  'total_lines': 12},\n",
              " {'target': 'RESULTS',\n",
              "  'text': 'there was no significant difference in quality of life between evar and or .',\n",
              "  'line_number': 10,\n",
              "  'total_lines': 12},\n",
              " {'target': 'RESULTS',\n",
              "  'text': 'nor was evar superior regarding cost-utility .',\n",
              "  'line_number': 11,\n",
              "  'total_lines': 12},\n",
              " {'target': 'CONCLUSIONS',\n",
              "  'text': 'evar may be more effective for raaa , but its increased costs mean that it is unaffordable based on current standards of societal willingness-to-pay for health gains .',\n",
              "  'line_number': 12,\n",
              "  'total_lines': 12},\n",
              " {'target': 'BACKGROUND',\n",
              "  'text': 'evidence suggests that individuals with social anxiety demonstrate vigilance to social threat , whilst the peptide hormone oxytocin is widely accepted as supporting affiliative behaviour in humans .',\n",
              "  'line_number': 0,\n",
              "  'total_lines': 8},\n",
              " {'target': 'METHODS',\n",
              "  'text': 'this study investigated whether oxytocin can affect attentional bias in social anxiety .',\n",
              "  'line_number': 1,\n",
              "  'total_lines': 8},\n",
              " {'target': 'METHODS',\n",
              "  'text': 'in a double-blind , randomized , placebo-controlled , within-group study design , @ healthy and @ highly socially anxious ( hsa ) male volunteers ( within the hsa group , @ were diagnosed with generalized social anxiety disorder ) were administered @ iu of oxytocin or placebo to investigate attentional processing in social anxiety .',\n",
              "  'line_number': 2,\n",
              "  'total_lines': 8},\n",
              " {'target': 'METHODS',\n",
              "  'text': 'attentional bias was assessed using the dot-probe paradigm with angry , fearful , happy and neutral face stimuli .',\n",
              "  'line_number': 3,\n",
              "  'total_lines': 8},\n",
              " {'target': 'RESULTS',\n",
              "  'text': 'in the baseline placebo condition , the hsa group showed greater attentional bias for emotional faces than healthy individuals .',\n",
              "  'line_number': 4,\n",
              "  'total_lines': 8},\n",
              " {'target': 'RESULTS',\n",
              "  'text': 'oxytocin reduced the difference between hsa and non-socially anxious individuals in attentional bias for emotional faces .',\n",
              "  'line_number': 5,\n",
              "  'total_lines': 8},\n",
              " {'target': 'RESULTS',\n",
              "  'text': 'moreover , it appeared to normalize attentional bias in hsa individuals to levels seen in the healthy population in the baseline condition .',\n",
              "  'line_number': 6,\n",
              "  'total_lines': 8},\n",
              " {'target': 'RESULTS',\n",
              "  'text': 'the biological mechanisms by which oxytocin may be exerting these effects are discussed .',\n",
              "  'line_number': 7,\n",
              "  'total_lines': 8}]"
            ]
          },
          "metadata": {},
          "execution_count": 9
        }
      ]
    },
    {
      "cell_type": "markdown",
      "source": [
        "# Now that our data is the format of a list of dictionaries , how about we turn into a DataFrame to further vision"
      ],
      "metadata": {
        "id": "UPzHXFDdSiwy"
      }
    },
    {
      "cell_type": "code",
      "source": [
        "import pandas as pd   # Bizim datalarımızı dictionary formata getirme sebeplerimizin birisi de dictlerin pandas ile DataFrame şekline kolay çevrilebilmesi.\n",
        "train_df = pd.DataFrame(train_samples)\n",
        "test_df = pd.DataFrame(test_samples)\n",
        "val_df = pd.DataFrame(val_samples)\n",
        "train_df.head(14)"
      ],
      "metadata": {
        "colab": {
          "base_uri": "https://localhost:8080/",
          "height": 488
        },
        "id": "06zDbubCVgtc",
        "outputId": "5f6eb12f-cf2d-46a6-b766-6097be5ed7ff"
      },
      "execution_count": 10,
      "outputs": [
        {
          "output_type": "execute_result",
          "data": {
            "text/plain": [
              "         target                                               text  \\\n",
              "0     OBJECTIVE  to investigate the efficacy of @ weeks of dail...   \n",
              "1       METHODS  a total of @ patients with primary knee oa wer...   \n",
              "2       METHODS  outcome measures included pain reduction and i...   \n",
              "3       METHODS  pain was assessed using the visual analog pain...   \n",
              "4       METHODS  secondary outcome measures included the wester...   \n",
              "5       METHODS  serum levels of interleukin @ ( il-@ ) , il-@ ...   \n",
              "6       RESULTS  there was a clinically relevant reduction in t...   \n",
              "7       RESULTS  the mean difference between treatment arms ( @...   \n",
              "8       RESULTS  further , there was a clinically relevant redu...   \n",
              "9       RESULTS  these differences remained significant at @ we...   \n",
              "10      RESULTS  the outcome measures in rheumatology clinical ...   \n",
              "11  CONCLUSIONS  low-dose oral prednisolone had both a short-te...   \n",
              "12   BACKGROUND  emotional eating is associated with overeating...   \n",
              "13   BACKGROUND  yet , empirical evidence for individual ( trai...   \n",
              "\n",
              "    line_number  total_lines  \n",
              "0             0           11  \n",
              "1             1           11  \n",
              "2             2           11  \n",
              "3             3           11  \n",
              "4             4           11  \n",
              "5             5           11  \n",
              "6             6           11  \n",
              "7             7           11  \n",
              "8             8           11  \n",
              "9             9           11  \n",
              "10           10           11  \n",
              "11           11           11  \n",
              "12            0           10  \n",
              "13            1           10  "
            ],
            "text/html": [
              "\n",
              "  <div id=\"df-dc60e821-7590-4e6b-afe8-4a364a39789d\" class=\"colab-df-container\">\n",
              "    <div>\n",
              "<style scoped>\n",
              "    .dataframe tbody tr th:only-of-type {\n",
              "        vertical-align: middle;\n",
              "    }\n",
              "\n",
              "    .dataframe tbody tr th {\n",
              "        vertical-align: top;\n",
              "    }\n",
              "\n",
              "    .dataframe thead th {\n",
              "        text-align: right;\n",
              "    }\n",
              "</style>\n",
              "<table border=\"1\" class=\"dataframe\">\n",
              "  <thead>\n",
              "    <tr style=\"text-align: right;\">\n",
              "      <th></th>\n",
              "      <th>target</th>\n",
              "      <th>text</th>\n",
              "      <th>line_number</th>\n",
              "      <th>total_lines</th>\n",
              "    </tr>\n",
              "  </thead>\n",
              "  <tbody>\n",
              "    <tr>\n",
              "      <th>0</th>\n",
              "      <td>OBJECTIVE</td>\n",
              "      <td>to investigate the efficacy of @ weeks of dail...</td>\n",
              "      <td>0</td>\n",
              "      <td>11</td>\n",
              "    </tr>\n",
              "    <tr>\n",
              "      <th>1</th>\n",
              "      <td>METHODS</td>\n",
              "      <td>a total of @ patients with primary knee oa wer...</td>\n",
              "      <td>1</td>\n",
              "      <td>11</td>\n",
              "    </tr>\n",
              "    <tr>\n",
              "      <th>2</th>\n",
              "      <td>METHODS</td>\n",
              "      <td>outcome measures included pain reduction and i...</td>\n",
              "      <td>2</td>\n",
              "      <td>11</td>\n",
              "    </tr>\n",
              "    <tr>\n",
              "      <th>3</th>\n",
              "      <td>METHODS</td>\n",
              "      <td>pain was assessed using the visual analog pain...</td>\n",
              "      <td>3</td>\n",
              "      <td>11</td>\n",
              "    </tr>\n",
              "    <tr>\n",
              "      <th>4</th>\n",
              "      <td>METHODS</td>\n",
              "      <td>secondary outcome measures included the wester...</td>\n",
              "      <td>4</td>\n",
              "      <td>11</td>\n",
              "    </tr>\n",
              "    <tr>\n",
              "      <th>5</th>\n",
              "      <td>METHODS</td>\n",
              "      <td>serum levels of interleukin @ ( il-@ ) , il-@ ...</td>\n",
              "      <td>5</td>\n",
              "      <td>11</td>\n",
              "    </tr>\n",
              "    <tr>\n",
              "      <th>6</th>\n",
              "      <td>RESULTS</td>\n",
              "      <td>there was a clinically relevant reduction in t...</td>\n",
              "      <td>6</td>\n",
              "      <td>11</td>\n",
              "    </tr>\n",
              "    <tr>\n",
              "      <th>7</th>\n",
              "      <td>RESULTS</td>\n",
              "      <td>the mean difference between treatment arms ( @...</td>\n",
              "      <td>7</td>\n",
              "      <td>11</td>\n",
              "    </tr>\n",
              "    <tr>\n",
              "      <th>8</th>\n",
              "      <td>RESULTS</td>\n",
              "      <td>further , there was a clinically relevant redu...</td>\n",
              "      <td>8</td>\n",
              "      <td>11</td>\n",
              "    </tr>\n",
              "    <tr>\n",
              "      <th>9</th>\n",
              "      <td>RESULTS</td>\n",
              "      <td>these differences remained significant at @ we...</td>\n",
              "      <td>9</td>\n",
              "      <td>11</td>\n",
              "    </tr>\n",
              "    <tr>\n",
              "      <th>10</th>\n",
              "      <td>RESULTS</td>\n",
              "      <td>the outcome measures in rheumatology clinical ...</td>\n",
              "      <td>10</td>\n",
              "      <td>11</td>\n",
              "    </tr>\n",
              "    <tr>\n",
              "      <th>11</th>\n",
              "      <td>CONCLUSIONS</td>\n",
              "      <td>low-dose oral prednisolone had both a short-te...</td>\n",
              "      <td>11</td>\n",
              "      <td>11</td>\n",
              "    </tr>\n",
              "    <tr>\n",
              "      <th>12</th>\n",
              "      <td>BACKGROUND</td>\n",
              "      <td>emotional eating is associated with overeating...</td>\n",
              "      <td>0</td>\n",
              "      <td>10</td>\n",
              "    </tr>\n",
              "    <tr>\n",
              "      <th>13</th>\n",
              "      <td>BACKGROUND</td>\n",
              "      <td>yet , empirical evidence for individual ( trai...</td>\n",
              "      <td>1</td>\n",
              "      <td>10</td>\n",
              "    </tr>\n",
              "  </tbody>\n",
              "</table>\n",
              "</div>\n",
              "    <div class=\"colab-df-buttons\">\n",
              "\n",
              "  <div class=\"colab-df-container\">\n",
              "    <button class=\"colab-df-convert\" onclick=\"convertToInteractive('df-dc60e821-7590-4e6b-afe8-4a364a39789d')\"\n",
              "            title=\"Convert this dataframe to an interactive table.\"\n",
              "            style=\"display:none;\">\n",
              "\n",
              "  <svg xmlns=\"http://www.w3.org/2000/svg\" height=\"24px\" viewBox=\"0 -960 960 960\">\n",
              "    <path d=\"M120-120v-720h720v720H120Zm60-500h600v-160H180v160Zm220 220h160v-160H400v160Zm0 220h160v-160H400v160ZM180-400h160v-160H180v160Zm440 0h160v-160H620v160ZM180-180h160v-160H180v160Zm440 0h160v-160H620v160Z\"/>\n",
              "  </svg>\n",
              "    </button>\n",
              "\n",
              "  <style>\n",
              "    .colab-df-container {\n",
              "      display:flex;\n",
              "      gap: 12px;\n",
              "    }\n",
              "\n",
              "    .colab-df-convert {\n",
              "      background-color: #E8F0FE;\n",
              "      border: none;\n",
              "      border-radius: 50%;\n",
              "      cursor: pointer;\n",
              "      display: none;\n",
              "      fill: #1967D2;\n",
              "      height: 32px;\n",
              "      padding: 0 0 0 0;\n",
              "      width: 32px;\n",
              "    }\n",
              "\n",
              "    .colab-df-convert:hover {\n",
              "      background-color: #E2EBFA;\n",
              "      box-shadow: 0px 1px 2px rgba(60, 64, 67, 0.3), 0px 1px 3px 1px rgba(60, 64, 67, 0.15);\n",
              "      fill: #174EA6;\n",
              "    }\n",
              "\n",
              "    .colab-df-buttons div {\n",
              "      margin-bottom: 4px;\n",
              "    }\n",
              "\n",
              "    [theme=dark] .colab-df-convert {\n",
              "      background-color: #3B4455;\n",
              "      fill: #D2E3FC;\n",
              "    }\n",
              "\n",
              "    [theme=dark] .colab-df-convert:hover {\n",
              "      background-color: #434B5C;\n",
              "      box-shadow: 0px 1px 3px 1px rgba(0, 0, 0, 0.15);\n",
              "      filter: drop-shadow(0px 1px 2px rgba(0, 0, 0, 0.3));\n",
              "      fill: #FFFFFF;\n",
              "    }\n",
              "  </style>\n",
              "\n",
              "    <script>\n",
              "      const buttonEl =\n",
              "        document.querySelector('#df-dc60e821-7590-4e6b-afe8-4a364a39789d button.colab-df-convert');\n",
              "      buttonEl.style.display =\n",
              "        google.colab.kernel.accessAllowed ? 'block' : 'none';\n",
              "\n",
              "      async function convertToInteractive(key) {\n",
              "        const element = document.querySelector('#df-dc60e821-7590-4e6b-afe8-4a364a39789d');\n",
              "        const dataTable =\n",
              "          await google.colab.kernel.invokeFunction('convertToInteractive',\n",
              "                                                    [key], {});\n",
              "        if (!dataTable) return;\n",
              "\n",
              "        const docLinkHtml = 'Like what you see? Visit the ' +\n",
              "          '<a target=\"_blank\" href=https://colab.research.google.com/notebooks/data_table.ipynb>data table notebook</a>'\n",
              "          + ' to learn more about interactive tables.';\n",
              "        element.innerHTML = '';\n",
              "        dataTable['output_type'] = 'display_data';\n",
              "        await google.colab.output.renderOutput(dataTable, element);\n",
              "        const docLink = document.createElement('div');\n",
              "        docLink.innerHTML = docLinkHtml;\n",
              "        element.appendChild(docLink);\n",
              "      }\n",
              "    </script>\n",
              "  </div>\n",
              "\n",
              "\n",
              "<div id=\"df-770a9491-ab0b-4d4a-b877-9ef796e4de10\">\n",
              "  <button class=\"colab-df-quickchart\" onclick=\"quickchart('df-770a9491-ab0b-4d4a-b877-9ef796e4de10')\"\n",
              "            title=\"Suggest charts.\"\n",
              "            style=\"display:none;\">\n",
              "\n",
              "<svg xmlns=\"http://www.w3.org/2000/svg\" height=\"24px\"viewBox=\"0 0 24 24\"\n",
              "     width=\"24px\">\n",
              "    <g>\n",
              "        <path d=\"M19 3H5c-1.1 0-2 .9-2 2v14c0 1.1.9 2 2 2h14c1.1 0 2-.9 2-2V5c0-1.1-.9-2-2-2zM9 17H7v-7h2v7zm4 0h-2V7h2v10zm4 0h-2v-4h2v4z\"/>\n",
              "    </g>\n",
              "</svg>\n",
              "  </button>\n",
              "\n",
              "<style>\n",
              "  .colab-df-quickchart {\n",
              "    background-color: #E8F0FE;\n",
              "    border: none;\n",
              "    border-radius: 50%;\n",
              "    cursor: pointer;\n",
              "    display: none;\n",
              "    fill: #1967D2;\n",
              "    height: 32px;\n",
              "    padding: 0 0 0 0;\n",
              "    width: 32px;\n",
              "  }\n",
              "\n",
              "  .colab-df-quickchart:hover {\n",
              "    background-color: #E2EBFA;\n",
              "    box-shadow: 0px 1px 2px rgba(60, 64, 67, 0.3), 0px 1px 3px 1px rgba(60, 64, 67, 0.15);\n",
              "    fill: #174EA6;\n",
              "  }\n",
              "\n",
              "  [theme=dark] .colab-df-quickchart {\n",
              "    background-color: #3B4455;\n",
              "    fill: #D2E3FC;\n",
              "  }\n",
              "\n",
              "  [theme=dark] .colab-df-quickchart:hover {\n",
              "    background-color: #434B5C;\n",
              "    box-shadow: 0px 1px 3px 1px rgba(0, 0, 0, 0.15);\n",
              "    filter: drop-shadow(0px 1px 2px rgba(0, 0, 0, 0.3));\n",
              "    fill: #FFFFFF;\n",
              "  }\n",
              "</style>\n",
              "\n",
              "  <script>\n",
              "    async function quickchart(key) {\n",
              "      const charts = await google.colab.kernel.invokeFunction(\n",
              "          'suggestCharts', [key], {});\n",
              "    }\n",
              "    (() => {\n",
              "      let quickchartButtonEl =\n",
              "        document.querySelector('#df-770a9491-ab0b-4d4a-b877-9ef796e4de10 button');\n",
              "      quickchartButtonEl.style.display =\n",
              "        google.colab.kernel.accessAllowed ? 'block' : 'none';\n",
              "    })();\n",
              "  </script>\n",
              "</div>\n",
              "    </div>\n",
              "  </div>\n"
            ]
          },
          "metadata": {},
          "execution_count": 10
        }
      ]
    },
    {
      "cell_type": "code",
      "source": [
        "# Distribution of labels in training data\n",
        "train_df.target.value_counts()"
      ],
      "metadata": {
        "colab": {
          "base_uri": "https://localhost:8080/"
        },
        "id": "fBsFlyOPVyXj",
        "outputId": "e0ac201e-1fe6-4a84-bba5-bc6e80c3bdf9"
      },
      "execution_count": 11,
      "outputs": [
        {
          "output_type": "execute_result",
          "data": {
            "text/plain": [
              "METHODS        59353\n",
              "RESULTS        57953\n",
              "CONCLUSIONS    27168\n",
              "BACKGROUND     21727\n",
              "OBJECTIVE      13839\n",
              "Name: target, dtype: int64"
            ]
          },
          "metadata": {},
          "execution_count": 11
        }
      ]
    },
    {
      "cell_type": "code",
      "source": [
        "# Lets check the length of different lines\n",
        "train_df.total_lines.plot.hist();"
      ],
      "metadata": {
        "colab": {
          "base_uri": "https://localhost:8080/",
          "height": 431
        },
        "id": "tw3u_MzeXMbI",
        "outputId": "cdad55b3-b5ef-484c-d4da-4b697c0470a1"
      },
      "execution_count": 12,
      "outputs": [
        {
          "output_type": "display_data",
          "data": {
            "text/plain": [
              "<Figure size 640x480 with 1 Axes>"
            ],
            "image/png": "[encoded data removed]"
          },
          "metadata": {}
        }
      ]
    },
    {
      "cell_type": "markdown",
      "source": [
        "# Get list of sentences"
      ],
      "metadata": {
        "id": "x5eku_YgY25G"
      }
    },
    {
      "cell_type": "code",
      "source": [
        "# Convert abstract text lines into lists\n",
        "train_sentences = train_df[\"text\"].tolist()\n",
        "val_sentences = val_df[\"text\"].tolist()\n",
        "test_sentences = test_df[\"text\"].tolist()"
      ],
      "metadata": {
        "id": "8HKuMzXOZP0i"
      },
      "execution_count": 13,
      "outputs": []
    },
    {
      "cell_type": "code",
      "source": [
        "# View the 10 lines of training sentences\n",
        "train_sentences[ : 10]\n"
      ],
      "metadata": {
        "colab": {
          "base_uri": "https://localhost:8080/"
        },
        "id": "_cJzG9z7ZgVT",
        "outputId": "c806937f-d3d8-4148-ca98-bba38f42e8b4"
      },
      "execution_count": 14,
      "outputs": [
        {
          "output_type": "execute_result",
          "data": {
            "text/plain": [
              "['to investigate the efficacy of @ weeks of daily low-dose oral prednisolone in improving pain , mobility , and systemic low-grade inflammation in the short term and whether the effect would be sustained at @ weeks in older adults with moderate to severe knee osteoarthritis ( oa ) .',\n",
              " 'a total of @ patients with primary knee oa were randomized @:@ ; @ received @ mg/day of prednisolone and @ received placebo for @ weeks .',\n",
              " 'outcome measures included pain reduction and improvement in function scores and systemic inflammation markers .',\n",
              " 'pain was assessed using the visual analog pain scale ( @-@ mm ) .',\n",
              " 'secondary outcome measures included the western ontario and mcmaster universities osteoarthritis index scores , patient global assessment ( pga ) of the severity of knee oa , and @-min walk distance ( @mwd ) .',\n",
              " 'serum levels of interleukin @ ( il-@ ) , il-@ , tumor necrosis factor ( tnf ) - , and high-sensitivity c-reactive protein ( hscrp ) were measured .',\n",
              " 'there was a clinically relevant reduction in the intervention group compared to the placebo group for knee pain , physical function , pga , and @mwd at @ weeks .',\n",
              " 'the mean difference between treatment arms ( @ % ci ) was @ ( @-@ @ ) , p < @ ; @ ( @-@ @ ) , p < @ ; @ ( @-@ @ ) , p < @ ; and @ ( @-@ @ ) , p < @ , respectively .',\n",
              " 'further , there was a clinically relevant reduction in the serum levels of il-@ , il-@ , tnf - , and hscrp at @ weeks in the intervention group when compared to the placebo group .',\n",
              " 'these differences remained significant at @ weeks .']"
            ]
          },
          "metadata": {},
          "execution_count": 14
        }
      ]
    },
    {
      "cell_type": "markdown",
      "source": [
        "# Make numeric labels (ML models require numeric labels)"
      ],
      "metadata": {
        "id": "st5VIsXCah1w"
      }
    },
    {
      "cell_type": "markdown",
      "source": [
        "# First we will encode with one hot encoder and then we will use label encoder"
      ],
      "metadata": {
        "id": "KR9OSHZ9gTJL"
      }
    },
    {
      "cell_type": "code",
      "source": [
        "from sklearn.preprocessing import OneHotEncoder\n",
        "encoder = OneHotEncoder(sparse = False)  # We want non-sparse matrix\n",
        "\n",
        "train_labels_encoded = encoder.fit_transform(train_df[\"target\"].to_numpy().reshape( -1 , 1 )) # Reshape yapmamız gerekiyor cünkü 2d array bekleniyor input olarak\n",
        "train_labels_encoded"
      ],
      "metadata": {
        "colab": {
          "base_uri": "https://localhost:8080/"
        },
        "id": "KgU9tZP_dAl4",
        "outputId": "a9da4c23-605a-4c7d-8d00-48abf6ff85ad"
      },
      "execution_count": 15,
      "outputs": [
        {
          "output_type": "stream",
          "name": "stderr",
          "text": [
            "/usr/local/lib/python3.10/dist-packages/sklearn/preprocessing/_encoders.py:868: FutureWarning: `sparse` was renamed to `sparse_output` in version 1.2 and will be removed in 1.4. `sparse_output` is ignored unless you leave `sparse` to its default value.\n",
            "  warnings.warn(\n"
          ]
        },
        {
          "output_type": "execute_result",
          "data": {
            "text/plain": [
              "array([[0., 0., 0., 1., 0.],\n",
              "       [0., 0., 1., 0., 0.],\n",
              "       [0., 0., 1., 0., 0.],\n",
              "       ...,\n",
              "       [0., 0., 0., 0., 1.],\n",
              "       [0., 1., 0., 0., 0.],\n",
              "       [0., 1., 0., 0., 0.]])"
            ]
          },
          "metadata": {},
          "execution_count": 15
        }
      ]
    },
    {
      "cell_type": "code",
      "source": [
        "val_labels_encoded = encoder.transform(val_df[\"target\"].to_numpy().reshape( -1  , 1))\n",
        "test_labels_encoded = encoder.transform(test_df[\"target\"].to_numpy().reshape( -1  , 1))\n",
        "# We wont use fit again because we already fitted in train_labels_encoded our encoder object , so fitting val and test labels are unnecessary"
      ],
      "metadata": {
        "id": "DEtAi_GmeOeb"
      },
      "execution_count": 16,
      "outputs": []
    },
    {
      "cell_type": "markdown",
      "source": [
        "# Label encode labels"
      ],
      "metadata": {
        "id": "u1cgqovnfVhC"
      }
    },
    {
      "cell_type": "code",
      "source": [
        "# Extract labels (\"target\" columns) and encode them into integers\n",
        "from sklearn.preprocessing import LabelEncoder\n",
        "encoder_2 = LabelEncoder()\n",
        "\n",
        "train_labels_encoded_labelencoder = encoder_2.fit_transform(train_df[\"target\"].to_numpy())\n",
        "val_labels_encoded_labelencoder = encoder_2.transform(val_df[\"target\"].to_numpy())\n",
        "test_labels_encoded_labelencoder = encoder_2.transform(test_df[\"target\"].to_numpy())"
      ],
      "metadata": {
        "id": "8Qq6LFkdgcq0"
      },
      "execution_count": 17,
      "outputs": []
    },
    {
      "cell_type": "code",
      "source": [
        "test_labels_encoded_labelencoder[ : 10]"
      ],
      "metadata": {
        "colab": {
          "base_uri": "https://localhost:8080/"
        },
        "id": "o9cbTWxVhAKx",
        "outputId": "5dbeaca2-88d9-4892-c779-5afa7e47320d"
      },
      "execution_count": 18,
      "outputs": [
        {
          "output_type": "execute_result",
          "data": {
            "text/plain": [
              "array([0, 4, 4, 4, 4, 4, 4, 1, 1, 0])"
            ]
          },
          "metadata": {},
          "execution_count": 18
        }
      ]
    },
    {
      "cell_type": "code",
      "source": [
        "# Get class names and number of classes from LabelEncoder instance\n",
        "num_classes = len(encoder_2.classes_)\n",
        "class_names = encoder_2.classes_\n",
        "num_classes , class_names"
      ],
      "metadata": {
        "colab": {
          "base_uri": "https://localhost:8080/"
        },
        "id": "vE7kj41jhMnN",
        "outputId": "5320ba76-4a03-4bcd-aee3-0766855931fd"
      },
      "execution_count": 19,
      "outputs": [
        {
          "output_type": "execute_result",
          "data": {
            "text/plain": [
              "(5,\n",
              " array(['BACKGROUND', 'CONCLUSIONS', 'METHODS', 'OBJECTIVE', 'RESULTS'],\n",
              "       dtype=object))"
            ]
          },
          "metadata": {},
          "execution_count": 19
        }
      ]
    },
    {
      "cell_type": "markdown",
      "source": [
        "# Starting a series of modelling experiments\n",
        "\n",
        "As usual , we are going to be trying out a bunch of different models and seeing which one works best.\n",
        "\n",
        "And as always , we are going to start with a baseline (TF-IDF multinomial naive bayes)"
      ],
      "metadata": {
        "id": "DjCSdo8FigMZ"
      }
    },
    {
      "cell_type": "markdown",
      "source": [
        "# Model 0 : Getting a baseline"
      ],
      "metadata": {
        "id": "WF58EFc1opL-"
      }
    },
    {
      "cell_type": "code",
      "source": [
        "from sklearn.feature_extraction.text import TfidfVectorizer\n",
        "from sklearn.naive_bayes import MultinomialNB\n",
        "from sklearn.pipeline import Pipeline\n",
        "\n",
        "# Create a pipeline\n",
        "\n",
        "model_0 = Pipeline( [\n",
        "\n",
        "                   (\"tfidf\" , TfidfVectorizer()) ,\n",
        "                   (\"clf\" , MultinomialNB())\n",
        "]\n",
        ")\n",
        "\n",
        "# Fit the pipeline to the training data\n",
        "model_0.fit(\n",
        "    X =  train_sentences ,\n",
        " y =   train_labels_encoded_labelencoder\n",
        "\n",
        ")\n",
        "# TfidfVectorizer terim frekansı ters belge frekansı (TF-IDF) değerlerini hesaplamak için kullanılır. Bu yöntem, bir belge içerisindeki bir terimin önemini, hem belge içerisindeki sıklığına hem de tüm belgelerdeki görülme sıklığına dayalı olarak belirler. Bu sayede metinlerin içerdikleri kelimelerin anlamlılığını belirlemek için kullanılır.\n",
        "# MultinomialNB, çok sınıflı Bayes sınıflandırıcılarından biridir ve metin sınıflandırma gibi problemlerde kullanılır. Naive Bayes algoritması, Bayes teoremi temel alınarak çalışır ve bir metni belirli sınıflara tahmin etmek için metindeki özelliklerin olasılıklarını kullanır. Bu durumda, sınıflandırıcı, veri setindeki sınıfları tahmin etmek için metin özelliklerini (TF-IDF değerleri) kullanacaktır."
      ],
      "metadata": {
        "colab": {
          "base_uri": "https://localhost:8080/",
          "height": 124
        },
        "id": "4IoUWKdNosl3",
        "outputId": "28f94ac4-3644-48cb-bbab-3ea79599cbe0"
      },
      "execution_count": 20,
      "outputs": [
        {
          "output_type": "execute_result",
          "data": {
            "text/plain": [
              "Pipeline(steps=[('tfidf', TfidfVectorizer()), ('clf', MultinomialNB())])"
            ],
            "text/html": [
              "<style>#sk-container-id-1 {color: black;background-color: white;}#sk-container-id-1 pre{padding: 0;}#sk-container-id-1 div.sk-toggleable {background-color: white;}#sk-container-id-1 label.sk-toggleable__label {cursor: pointer;display: block;width: 100%;margin-bottom: 0;padding: 0.3em;box-sizing: border-box;text-align: center;}#sk-container-id-1 label.sk-toggleable__label-arrow:before {content: \"▸\";float: left;margin-right: 0.25em;color: #696969;}#sk-container-id-1 label.sk-toggleable__label-arrow:hover:before {color: black;}#sk-container-id-1 div.sk-estimator:hover label.sk-toggleable__label-arrow:before {color: black;}#sk-container-id-1 div.sk-toggleable__content {max-height: 0;max-width: 0;overflow: hidden;text-align: left;background-color: #f0f8ff;}#sk-container-id-1 div.sk-toggleable__content pre {margin: 0.2em;color: black;border-radius: 0.25em;background-color: #f0f8ff;}#sk-container-id-1 input.sk-toggleable__control:checked~div.sk-toggleable__content {max-height: 200px;max-width: 100%;overflow: auto;}#sk-container-id-1 input.sk-toggleable__control:checked~label.sk-toggleable__label-arrow:before {content: \"▾\";}#sk-container-id-1 div.sk-estimator input.sk-toggleable__control:checked~label.sk-toggleable__label {background-color: #d4ebff;}#sk-container-id-1 div.sk-label input.sk-toggleable__control:checked~label.sk-toggleable__label {background-color: #d4ebff;}#sk-container-id-1 input.sk-hidden--visually {border: 0;clip: rect(1px 1px 1px 1px);clip: rect(1px, 1px, 1px, 1px);height: 1px;margin: -1px;overflow: hidden;padding: 0;position: absolute;width: 1px;}#sk-container-id-1 div.sk-estimator {font-family: monospace;background-color: #f0f8ff;border: 1px dotted black;border-radius: 0.25em;box-sizing: border-box;margin-bottom: 0.5em;}#sk-container-id-1 div.sk-estimator:hover {background-color: #d4ebff;}#sk-container-id-1 div.sk-parallel-item::after {content: \"\";width: 100%;border-bottom: 1px solid gray;flex-grow: 1;}#sk-container-id-1 div.sk-label:hover label.sk-toggleable__label {background-color: #d4ebff;}#sk-container-id-1 div.sk-serial::before {content: \"\";position: absolute;border-left: 1px solid gray;box-sizing: border-box;top: 0;bottom: 0;left: 50%;z-index: 0;}#sk-container-id-1 div.sk-serial {display: flex;flex-direction: column;align-items: center;background-color: white;padding-right: 0.2em;padding-left: 0.2em;position: relative;}#sk-container-id-1 div.sk-item {position: relative;z-index: 1;}#sk-container-id-1 div.sk-parallel {display: flex;align-items: stretch;justify-content: center;background-color: white;position: relative;}#sk-container-id-1 div.sk-item::before, #sk-container-id-1 div.sk-parallel-item::before {content: \"\";position: absolute;border-left: 1px solid gray;box-sizing: border-box;top: 0;bottom: 0;left: 50%;z-index: -1;}#sk-container-id-1 div.sk-parallel-item {display: flex;flex-direction: column;z-index: 1;position: relative;background-color: white;}#sk-container-id-1 div.sk-parallel-item:first-child::after {align-self: flex-end;width: 50%;}#sk-container-id-1 div.sk-parallel-item:last-child::after {align-self: flex-start;width: 50%;}#sk-container-id-1 div.sk-parallel-item:only-child::after {width: 0;}#sk-container-id-1 div.sk-dashed-wrapped {border: 1px dashed gray;margin: 0 0.4em 0.5em 0.4em;box-sizing: border-box;padding-bottom: 0.4em;background-color: white;}#sk-container-id-1 div.sk-label label {font-family: monospace;font-weight: bold;display: inline-block;line-height: 1.2em;}#sk-container-id-1 div.sk-label-container {text-align: center;}#sk-container-id-1 div.sk-container {/* jupyter's `normalize.less` sets `[hidden] { display: none; }` but bootstrap.min.css set `[hidden] { display: none !important; }` so we also need the `!important` here to be able to override the default hidden behavior on the sphinx rendered scikit-learn.org. See: https://github.com/scikit-learn/scikit-learn/issues/21755 */display: inline-block !important;position: relative;}#sk-container-id-1 div.sk-text-repr-fallback {display: none;}</style><div id=\"sk-container-id-1\" class=\"sk-top-container\"><div class=\"sk-text-repr-fallback\"><pre>Pipeline(steps=[(&#x27;tfidf&#x27;, TfidfVectorizer()), (&#x27;clf&#x27;, MultinomialNB())])</pre><b>In a Jupyter environment, please rerun this cell to show the HTML representation or trust the notebook. <br />On GitHub, the HTML representation is unable to render, please try loading this page with nbviewer.org.</b></div><div class=\"sk-container\" hidden><div class=\"sk-item sk-dashed-wrapped\"><div class=\"sk-label-container\"><div class=\"sk-label sk-toggleable\"><input class=\"sk-toggleable__control sk-hidden--visually\" id=\"sk-estimator-id-1\" type=\"checkbox\" ><label for=\"sk-estimator-id-1\" class=\"sk-toggleable__label sk-toggleable__label-arrow\">Pipeline</label><div class=\"sk-toggleable__content\"><pre>Pipeline(steps=[(&#x27;tfidf&#x27;, TfidfVectorizer()), (&#x27;clf&#x27;, MultinomialNB())])</pre></div></div></div><div class=\"sk-serial\"><div class=\"sk-item\"><div class=\"sk-estimator sk-toggleable\"><input class=\"sk-toggleable__control sk-hidden--visually\" id=\"sk-estimator-id-2\" type=\"checkbox\" ><label for=\"sk-estimator-id-2\" class=\"sk-toggleable__label sk-toggleable__label-arrow\">TfidfVectorizer</label><div class=\"sk-toggleable__content\"><pre>TfidfVectorizer()</pre></div></div></div><div class=\"sk-item\"><div class=\"sk-estimator sk-toggleable\"><input class=\"sk-toggleable__control sk-hidden--visually\" id=\"sk-estimator-id-3\" type=\"checkbox\" ><label for=\"sk-estimator-id-3\" class=\"sk-toggleable__label sk-toggleable__label-arrow\">MultinomialNB</label><div class=\"sk-toggleable__content\"><pre>MultinomialNB()</pre></div></div></div></div></div></div></div>"
            ]
          },
          "metadata": {},
          "execution_count": 20
        }
      ]
    },
    {
      "cell_type": "code",
      "source": [
        "# Evaluate baseline model on validation set\n",
        "model_0.score(\n",
        "    X = val_sentences ,\n",
        "    y = val_labels_encoded_labelencoder\n",
        ")"
      ],
      "metadata": {
        "colab": {
          "base_uri": "https://localhost:8080/"
        },
        "id": "ZpPJyjN0p4gk",
        "outputId": "e8cbaffd-fdec-4aaf-b0f6-6b38d9e20ebc"
      },
      "execution_count": 21,
      "outputs": [
        {
          "output_type": "execute_result",
          "data": {
            "text/plain": [
              "0.7218323844829869"
            ]
          },
          "metadata": {},
          "execution_count": 21
        }
      ]
    },
    {
      "cell_type": "code",
      "source": [
        "# Make predictions using our baseline model\n",
        "baseline_preds = model_0.predict(val_sentences)\n",
        "baseline_preds"
      ],
      "metadata": {
        "colab": {
          "base_uri": "https://localhost:8080/"
        },
        "id": "1JERTAwfrkAZ",
        "outputId": "c197f83d-b1f5-4410-953d-ad6f6242aefa"
      },
      "execution_count": 22,
      "outputs": [
        {
          "output_type": "execute_result",
          "data": {
            "text/plain": [
              "array([4, 1, 3, ..., 4, 4, 1])"
            ]
          },
          "metadata": {},
          "execution_count": 22
        }
      ]
    },
    {
      "cell_type": "markdown",
      "source": [
        "# We will compare predictions across different metrics (accuracy , precision , recall , f1-score)\n",
        "\n"
      ],
      "metadata": {
        "id": "12N1Lv7dr8Od"
      }
    },
    {
      "cell_type": "code",
      "source": [
        "from sklearn.metrics import accuracy_score, precision_recall_fscore_support\n",
        "\n",
        "def calculate_results(y_true, y_pred):\n",
        "  \"\"\"\n",
        "  Calculates model accuracy, precision, recall and f1 score of a binary classification model.\n",
        "\n",
        "  Args:\n",
        "      y_true: true labels in the form of a 1D array\n",
        "      y_pred: predicted labels in the form of a 1D array\n",
        "\n",
        "  Returns a dictionary of accuracy, precision, recall, f1-score.\n",
        "  \"\"\"\n",
        "  # Calculate model accuracy\n",
        "  model_accuracy = accuracy_score(y_true, y_pred) * 100\n",
        "  # Calculate model precision, recall and f1 score using \"weighted average\n",
        "  model_precision, model_recall, model_f1, _ = precision_recall_fscore_support(y_true, y_pred, average=\"weighted\")\n",
        "  model_results = {\"accuracy\": model_accuracy,\n",
        "                  \"precision\": model_precision,\n",
        "                  \"recall\": model_recall,\n",
        "                  \"f1\": model_f1}\n",
        "  return model_results"
      ],
      "metadata": {
        "id": "qhMa5BWntAdP"
      },
      "execution_count": 23,
      "outputs": []
    },
    {
      "cell_type": "code",
      "source": [
        "baseline_results = calculate_results(\n",
        "    y_true = val_labels_encoded_labelencoder ,\n",
        "    y_pred = baseline_preds\n",
        "\n",
        ")\n",
        "baseline_results"
      ],
      "metadata": {
        "colab": {
          "base_uri": "https://localhost:8080/"
        },
        "id": "44jCF4CwuYJn",
        "outputId": "a77b33be-4380-4683-eaa2-8c52f77e3d9d"
      },
      "execution_count": 24,
      "outputs": [
        {
          "output_type": "execute_result",
          "data": {
            "text/plain": [
              "{'accuracy': 72.1832384482987,\n",
              " 'precision': 0.7186466952323352,\n",
              " 'recall': 0.7218323844829869,\n",
              " 'f1': 0.6989250353450294}"
            ]
          },
          "metadata": {},
          "execution_count": 24
        }
      ]
    },
    {
      "cell_type": "markdown",
      "source": [
        "# Model 1: Conv1D with token embeddings"
      ],
      "metadata": {
        "id": "rfqwHaUCufye"
      }
    },
    {
      "cell_type": "markdown",
      "source": [
        "# Create a text vectorizer layer\n",
        "\n",
        "We want to make a layer which maps our texts from words to number"
      ],
      "metadata": {
        "id": "twLDiuzc5cRV"
      }
    },
    {
      "cell_type": "code",
      "source": [
        "# How long is each sentence on average?\n",
        "import numpy as np\n",
        "sent_lens = [len(sentence.split()) for sentence in train_sentences]\n",
        "avg_sent_len = np.mean(sent_lens)\n",
        "avg_sent_len"
      ],
      "metadata": {
        "colab": {
          "base_uri": "https://localhost:8080/"
        },
        "id": "TL-iXn_J1RoG",
        "outputId": "9e937fc9-6695-41c7-bda3-1ea921f3031a"
      },
      "execution_count": 25,
      "outputs": [
        {
          "output_type": "execute_result",
          "data": {
            "text/plain": [
              "26.338269273494777"
            ]
          },
          "metadata": {},
          "execution_count": 25
        }
      ]
    },
    {
      "cell_type": "code",
      "source": [
        "# What's the distribution look like?\n",
        "import matplotlib.pyplot as plt\n",
        "plt.hist(sent_lens, bins=20);"
      ],
      "metadata": {
        "colab": {
          "base_uri": "https://localhost:8080/",
          "height": 430
        },
        "id": "oohqz-171aZw",
        "outputId": "dc9aa478-b54d-45f8-9794-1b12e0394c34"
      },
      "execution_count": 26,
      "outputs": [
        {
          "output_type": "display_data",
          "data": {
            "text/plain": [
              "<Figure size 640x480 with 1 Axes>"
            ],
            "image/png": "[encoded data removed]"
          },
          "metadata": {}
        }
      ]
    },
    {
      "cell_type": "code",
      "source": [
        "# Find the average number of tokens in the training texts\n",
        "round(sum([len(i.split()) for i in train_sentences]) / len(train_sentences))"
      ],
      "metadata": {
        "colab": {
          "base_uri": "https://localhost:8080/"
        },
        "id": "92QdHQJ0vMjy",
        "outputId": "f71506d0-0c8d-494b-b440-e0130d77e778"
      },
      "execution_count": 27,
      "outputs": [
        {
          "output_type": "execute_result",
          "data": {
            "text/plain": [
              "26"
            ]
          },
          "metadata": {},
          "execution_count": 27
        }
      ]
    },
    {
      "cell_type": "code",
      "source": [
        "# How long of a sentence lenght covers 95% of examples?\n",
        "output_seq_len = int(np.percentile(sent_lens, 95))\n",
        "output_seq_len  # output length kaç seçersek bizim datamızın %95 ini kapsar?"
      ],
      "metadata": {
        "colab": {
          "base_uri": "https://localhost:8080/"
        },
        "id": "7bLYOwWC1eRj",
        "outputId": "14e5e1ea-6a01-46ad-842d-c4bbd3924213"
      },
      "execution_count": 28,
      "outputs": [
        {
          "output_type": "execute_result",
          "data": {
            "text/plain": [
              "55"
            ]
          },
          "metadata": {},
          "execution_count": 28
        }
      ]
    },
    {
      "cell_type": "code",
      "source": [
        "# How many word are in our vocab? (taken from table 2 in our dataset paper , we have 68000 words)\n",
        "max_tokens = 68000"
      ],
      "metadata": {
        "id": "jsRdYGX_51fh"
      },
      "execution_count": 29,
      "outputs": []
    },
    {
      "cell_type": "code",
      "source": [
        "# We will create our textvectorizer function for convertinf text into numbers\n",
        "\n",
        "import tensorflow as tf\n",
        "from tensorflow.keras.layers.experimental.preprocessing import TextVectorization\n",
        "\n",
        "#ngram substringleri birleştiriyor. Mesela elimizde 'Imagine getting flattened by Kurt Zouma' cümlesi var. ngram = 2 dersek , \"Image getting\" , \"flattened by\" , \"Kurt Zouma\"  gibi ikişer ikişer substringleri birleştiriyor.\n",
        "\n",
        "# Default values of TextVectorization\n",
        "text_vectorizer = TextVectorization(max_tokens = max_tokens , # How many words in the vocabulary ( automatically add <00V>)\n",
        "                                                       output_sequence_length = 55 , # Desired lenght of vectorized output length of vectorized sequences\n",
        "                                    )"
      ],
      "metadata": {
        "id": "RCu67l48vDZx"
      },
      "execution_count": 30,
      "outputs": []
    },
    {
      "cell_type": "code",
      "source": [
        "# Adapt text vectorizer to training sentences\n",
        "text_vectorizer.adapt(train_sentences)"
      ],
      "metadata": {
        "id": "M4Z9ae-yv4Dv"
      },
      "execution_count": 31,
      "outputs": []
    },
    {
      "cell_type": "code",
      "source": [
        "# Test out text vectorizer on random sentences\n",
        "import random\n",
        "target_sentence = random.choice(train_sentences)\n",
        "print(f\"Text:\\n{target_sentence}\")\n",
        "print(f\"\\n Length of text : {len(target_sentence.split())}\\n\")\n",
        "print(f\"Text vectorized form of the text : \\n{text_vectorizer([target_sentence])}\")"
      ],
      "metadata": {
        "colab": {
          "base_uri": "https://localhost:8080/"
        },
        "id": "tHf2YCFW7WiK",
        "outputId": "ca2b9a3b-0587-4ad0-b942-ad690996ceba"
      },
      "execution_count": 32,
      "outputs": [
        {
          "output_type": "stream",
          "name": "stdout",
          "text": [
            "Text:\n",
            "depending on the circumstances of the procedure and the experience of the operator , either gauge may be appropriate for an lp in a child .\n",
            "\n",
            " Length of text : 26\n",
            "\n",
            "Text vectorized form of the text : \n",
            "[[3484   18    2 6821    4    2  407    3    2  794    4    2 4021  132\n",
            "  4324   91   36 1134   11   26 3173    5    8  734    0    0    0    0\n",
            "     0    0    0    0    0    0    0    0    0    0    0    0    0    0\n",
            "     0    0    0    0    0    0    0    0    0    0    0    0    0]]\n"
          ]
        }
      ]
    },
    {
      "cell_type": "code",
      "source": [
        "# How many words in our training vocab?\n",
        "rct_20k_text_vocab = text_vectorizer.get_vocabulary()\n",
        "print(f\"Number of words in our vocab : {len(rct_20k_text_vocab)}\")\n",
        "print(f\"Most common words in the vocab : { rct_20k_text_vocab[ :  5 ] }\")\n",
        "print(f\"Least common words in the vocab : { rct_20k_text_vocab[ -5 : ] }\")\n"
      ],
      "metadata": {
        "colab": {
          "base_uri": "https://localhost:8080/"
        },
        "id": "Tm-zo1f08vzK",
        "outputId": "fe1b3b10-afbf-4735-9b5d-f4957d6f27be"
      },
      "execution_count": 33,
      "outputs": [
        {
          "output_type": "stream",
          "name": "stdout",
          "text": [
            "Number of words in our vocab : 64841\n",
            "Most common words in the vocab : ['', '[UNK]', 'the', 'and', 'of']\n",
            "Least common words in the vocab : ['aainduced', 'aaigroup', 'aachener', 'aachen', 'aaacp']\n"
          ]
        }
      ]
    },
    {
      "cell_type": "code",
      "source": [
        "# Get the config of our text vectorizer\n",
        "text_vectorizer.get_config()"
      ],
      "metadata": {
        "colab": {
          "base_uri": "https://localhost:8080/"
        },
        "id": "Z2KAlJ0y8v4A",
        "outputId": "c7471bdd-c1ab-4014-f0cb-e83c7c5d0bbf"
      },
      "execution_count": 34,
      "outputs": [
        {
          "output_type": "execute_result",
          "data": {
            "text/plain": [
              "{'name': 'text_vectorization',\n",
              " 'trainable': True,\n",
              " 'dtype': 'string',\n",
              " 'batch_input_shape': (None,),\n",
              " 'max_tokens': 68000,\n",
              " 'standardize': 'lower_and_strip_punctuation',\n",
              " 'split': 'whitespace',\n",
              " 'ngrams': None,\n",
              " 'output_mode': 'int',\n",
              " 'output_sequence_length': 55,\n",
              " 'pad_to_max_tokens': False,\n",
              " 'sparse': False,\n",
              " 'ragged': False,\n",
              " 'vocabulary': None,\n",
              " 'idf_weights': None,\n",
              " 'encoding': 'utf-8',\n",
              " 'vocabulary_size': 64841}"
            ]
          },
          "metadata": {},
          "execution_count": 34
        }
      ]
    },
    {
      "cell_type": "markdown",
      "source": [
        "# Create an embedding layer"
      ],
      "metadata": {
        "id": "xC_PJP4u-FoD"
      }
    },
    {
      "cell_type": "code",
      "source": [
        "from tensorflow.keras import layers\n",
        "\n",
        "embedding = layers.Embedding( input_dim = len(rct_20k_text_vocab) ,  # set input shape\n",
        "                              output_dim = 128 , # Output shape. Every token in the format of 128 long vector\n",
        "                              mask_zero = True  # Input length 55 dedigimiz icin uzun cümlelerin sonunda 0 lar kalacak . Tensorflow to do more efficient computing when there is lots of zeros.\n",
        "                              )"
      ],
      "metadata": {
        "id": "RFNho50YwEOp"
      },
      "execution_count": 35,
      "outputs": []
    },
    {
      "cell_type": "code",
      "source": [
        "# Show example embedding\n",
        "# Cümleyi embed etmeden önce kesinlikle numerical form lazım bize o yüzden text vectorizationdan geçirmeden embedding yapamıyoruz.\n",
        "print(f\"Sentence before vectorization: \\n {target_sentence}\")\n",
        "vectorized_sentence = text_vectorizer ([target_sentence])\n",
        "print(f\"\\nVectorized form of our sentence (before embedding) : \\n {vectorized_sentence}\")\n",
        "embedded_sentence = embedding(vectorized_sentence)\n",
        "print(f\"\\nEmbedded form of our sentence : \\n {embedded_sentence}\")\n",
        "print(f\"\\nShape of embedded form of sentence \\n : {embedded_sentence.shape} \")"
      ],
      "metadata": {
        "colab": {
          "base_uri": "https://localhost:8080/"
        },
        "id": "8WjQf7x6_2h4",
        "outputId": "8b732349-9caa-45d0-a3be-a0ee4c4df778"
      },
      "execution_count": 36,
      "outputs": [
        {
          "output_type": "stream",
          "name": "stdout",
          "text": [
            "Sentence before vectorization: \n",
            " depending on the circumstances of the procedure and the experience of the operator , either gauge may be appropriate for an lp in a child .\n",
            "\n",
            "Vectorized form of our sentence (before embedding) : \n",
            " [[3484   18    2 6821    4    2  407    3    2  794    4    2 4021  132\n",
            "  4324   91   36 1134   11   26 3173    5    8  734    0    0    0    0\n",
            "     0    0    0    0    0    0    0    0    0    0    0    0    0    0\n",
            "     0    0    0    0    0    0    0    0    0    0    0    0    0]]\n",
            "\n",
            "Embedded form of our sentence : \n",
            " [[[ 0.01971766 -0.00686602  0.01717566 ... -0.03600686  0.03792491\n",
            "    0.03733692]\n",
            "  [-0.03530186  0.00604264  0.04098196 ... -0.02333592  0.01441303\n",
            "   -0.02547965]\n",
            "  [ 0.03670554  0.01855033  0.00264832 ... -0.00568825  0.03997308\n",
            "    0.02276332]\n",
            "  ...\n",
            "  [ 0.04758719 -0.03308375  0.02574165 ... -0.0006935   0.01558692\n",
            "   -0.04563303]\n",
            "  [ 0.04758719 -0.03308375  0.02574165 ... -0.0006935   0.01558692\n",
            "   -0.04563303]\n",
            "  [ 0.04758719 -0.03308375  0.02574165 ... -0.0006935   0.01558692\n",
            "   -0.04563303]]]\n",
            "\n",
            "Shape of embedded form of sentence \n",
            " : (1, 55, 128) \n"
          ]
        }
      ]
    },
    {
      "cell_type": "markdown",
      "source": [
        "# Creating datasets (making sure our data loads as fast as possible)\n",
        "\n",
        "We are going to setup our data to run as fast as possible with tensorflow tf.data API , many of the steps here are discussed at length in these two resources:\n",
        "\n",
        "https://www.tensorflow.org/guide/data_performance\n",
        "\n",
        "https://www.tensorflow.org/guide/data"
      ],
      "metadata": {
        "id": "8o6ko96pFWAo"
      }
    },
    {
      "cell_type": "code",
      "source": [
        "# Turn our data into TensorFlow Datasets\n",
        "train_dataset = tf.data.Dataset.from_tensor_slices((train_sentences , train_labels_encoded))\n",
        "test_dataset = tf.data.Dataset.from_tensor_slices((test_sentences , test_labels_encoded))\n",
        "val_dataset = tf.data.Dataset.from_tensor_slices((val_sentences , val_labels_encoded))\n",
        "\n",
        "# It combines them into tensorflow slice dataset"
      ],
      "metadata": {
        "id": "J6Xu4GEZGkvg"
      },
      "execution_count": 37,
      "outputs": []
    },
    {
      "cell_type": "code",
      "source": [
        "# Take the TensorSliceDataset's and turn them into prefetched datasets\n",
        "train_dataset = train_dataset.batch(32).prefetch(tf.data.AUTOTUNE)\n",
        "test_dataset = test_dataset.batch(32).prefetch(tf.data.AUTOTUNE)\n",
        "val_dataset = val_dataset.batch(32).prefetch(tf.data.AUTOTUNE)\n",
        "\n",
        "train_dataset\n",
        "\n",
        "#Shuffle etmiyoruz cünkü bu datamızda önceden bahsettiğimiz üzere order önemli."
      ],
      "metadata": {
        "colab": {
          "base_uri": "https://localhost:8080/"
        },
        "id": "l5wfcBKXIyPj",
        "outputId": "554983df-6ac8-416b-9b6b-148182285f07"
      },
      "execution_count": 38,
      "outputs": [
        {
          "output_type": "execute_result",
          "data": {
            "text/plain": [
              "<_PrefetchDataset element_spec=(TensorSpec(shape=(None,), dtype=tf.string, name=None), TensorSpec(shape=(None, 5), dtype=tf.float64, name=None))>"
            ]
          },
          "metadata": {},
          "execution_count": 38
        }
      ]
    },
    {
      "cell_type": "code",
      "source": [
        "num_classes"
      ],
      "metadata": {
        "colab": {
          "base_uri": "https://localhost:8080/"
        },
        "id": "O-rFXqGbMlk6",
        "outputId": "e4312b3a-cda3-4c97-9173-021d1f0c1b34"
      },
      "execution_count": 39,
      "outputs": [
        {
          "output_type": "execute_result",
          "data": {
            "text/plain": [
              "5"
            ]
          },
          "metadata": {},
          "execution_count": 39
        }
      ]
    },
    {
      "cell_type": "code",
      "source": [
        "# Create model_1\n",
        "\n",
        "inputs = layers.Input(shape = (1,) , dtype  = tf.string)\n",
        "x = text_vectorizer(inputs)\n",
        "x = embedding(x)\n",
        "x = layers.Conv1D(64 , kernel_size = 5 , activation = \"relu\" , padding = \"same\")(x)\n",
        "x = layers.GlobalAveragePooling1D()(x) # Condense the output of our feature vector from conv layer\n",
        "outputs = layers.Dense( num_classes , activation = \"softmax\")(x)\n",
        "\n",
        "model_1 = tf.keras.Model(inputs , outputs)\n",
        "\n",
        "# Compile a model\n",
        "\n",
        "model_1.compile(loss = [\"categorical_crossentropy\"] ,\n",
        "                optimizer = tf.keras.optimizers.Adam() ,\n",
        "                metrics = [\"accuracy\"]\n",
        "                )\n",
        "\n",
        "# Fit the model\n",
        "hist_1 = model_1.fit(\n",
        "    train_dataset ,\n",
        "    epochs = 5 ,  # Eğer daha hızlı process istiyorsak burda steps_per_epoch = int( len(0.1 * len(train_dataset))) yapabiliriz ama böyle yaptıgımızda modelimiz train datamızın sadece %10 u ile train oluyor.\n",
        "    validation_data = val_dataset\n",
        ")\n",
        "# Direkt train_dataset ile feed ediyoruz çünkü bizim train_dataset imiz train sentenceları ve onların labellarını içeren bir tuple."
      ],
      "metadata": {
        "colab": {
          "base_uri": "https://localhost:8080/"
        },
        "id": "-BqFjb6pwOYE",
        "outputId": "448806c4-41a0-41d3-d9d0-3995c9d2b6ac"
      },
      "execution_count": 40,
      "outputs": [
        {
          "output_type": "stream",
          "name": "stdout",
          "text": [
            "Epoch 1/5\n",
            "5627/5627 [==============================] - 90s 15ms/step - loss: 0.6152 - accuracy: 0.7759 - val_loss: 0.5364 - val_accuracy: 0.8087\n",
            "Epoch 2/5\n",
            "5627/5627 [==============================] - 60s 11ms/step - loss: 0.4518 - accuracy: 0.8414 - val_loss: 0.5330 - val_accuracy: 0.8110\n",
            "Epoch 3/5\n",
            "5627/5627 [==============================] - 54s 10ms/step - loss: 0.3699 - accuracy: 0.8731 - val_loss: 0.5674 - val_accuracy: 0.8070\n",
            "Epoch 4/5\n",
            "5627/5627 [==============================] - 42s 7ms/step - loss: 0.3044 - accuracy: 0.8984 - val_loss: 0.6297 - val_accuracy: 0.8013\n",
            "Epoch 5/5\n",
            "5627/5627 [==============================] - 39s 7ms/step - loss: 0.2497 - accuracy: 0.9192 - val_loss: 0.7126 - val_accuracy: 0.7943\n"
          ]
        }
      ]
    },
    {
      "cell_type": "code",
      "source": [
        "# Evaluate our model\n",
        "model_1_evaluation = model_1.evaluate(val_dataset)\n",
        "model_1_evaluation"
      ],
      "metadata": {
        "colab": {
          "base_uri": "https://localhost:8080/"
        },
        "id": "2Ewt-Hw0PZfK",
        "outputId": "cdbe00b2-1380-494d-c638-31f0421b5d5b"
      },
      "execution_count": 41,
      "outputs": [
        {
          "output_type": "stream",
          "name": "stdout",
          "text": [
            "945/945 [==============================] - 3s 4ms/step - loss: 0.7126 - accuracy: 0.7943\n"
          ]
        },
        {
          "output_type": "execute_result",
          "data": {
            "text/plain": [
              "[0.7125925421714783, 0.7943201661109924]"
            ]
          },
          "metadata": {},
          "execution_count": 41
        }
      ]
    },
    {
      "cell_type": "code",
      "source": [
        "# Make predictions with our model\n",
        "model_1_preds = model_1.predict(val_dataset)\n",
        "model_1_preds"
      ],
      "metadata": {
        "colab": {
          "base_uri": "https://localhost:8080/"
        },
        "id": "bIaMVtVIZysl",
        "outputId": "0b9289e8-19c7-46f1-9c23-7217d2a75e4d"
      },
      "execution_count": 42,
      "outputs": [
        {
          "output_type": "stream",
          "name": "stdout",
          "text": [
            "945/945 [==============================] - 2s 2ms/step\n"
          ]
        },
        {
          "output_type": "execute_result",
          "data": {
            "text/plain": [
              "array([[4.0275875e-01, 6.7646615e-04, 5.5286568e-01, 2.2752415e-02,\n",
              "        2.0946765e-02],\n",
              "       [5.1611108e-01, 3.5488509e-02, 2.0035589e-03, 4.3637303e-01,\n",
              "        1.0023797e-02],\n",
              "       [3.3934090e-02, 9.3224208e-04, 3.8294219e-03, 9.6125609e-01,\n",
              "        4.8175116e-05],\n",
              "       ...,\n",
              "       [1.5738657e-08, 2.8686043e-07, 1.0538331e-03, 1.6401865e-08,\n",
              "        9.9894589e-01],\n",
              "       [4.2893521e-02, 3.3235899e-01, 3.7362516e-01, 1.2779733e-02,\n",
              "        2.3834258e-01],\n",
              "       [2.5910736e-04, 9.9916136e-01, 4.5021190e-04, 2.6321929e-06,\n",
              "        1.2672954e-04]], dtype=float32)"
            ]
          },
          "metadata": {},
          "execution_count": 42
        }
      ]
    },
    {
      "cell_type": "code",
      "source": [
        "model_1_preds.shape"
      ],
      "metadata": {
        "colab": {
          "base_uri": "https://localhost:8080/"
        },
        "id": "M_g3PjvBaKPx",
        "outputId": "d50cf8d5-b0ce-4655-a2f8-ae88cc709175"
      },
      "execution_count": 43,
      "outputs": [
        {
          "output_type": "execute_result",
          "data": {
            "text/plain": [
              "(30212, 5)"
            ]
          },
          "metadata": {},
          "execution_count": 43
        }
      ]
    },
    {
      "cell_type": "code",
      "source": [
        "# Convert preds to classes\n",
        "model_1_pred = tf.argmax(model_1_preds , axis = 1)\n"
      ],
      "metadata": {
        "id": "R5KAAXHsaUJI"
      },
      "execution_count": 44,
      "outputs": []
    },
    {
      "cell_type": "code",
      "source": [
        "model_1_pred"
      ],
      "metadata": {
        "colab": {
          "base_uri": "https://localhost:8080/"
        },
        "id": "-L_foDKla-Dr",
        "outputId": "9a7660cd-7244-4d66-cc73-21e9792cbfff"
      },
      "execution_count": 45,
      "outputs": [
        {
          "output_type": "execute_result",
          "data": {
            "text/plain": [
              "<tf.Tensor: shape=(30212,), dtype=int64, numpy=array([2, 0, 3, ..., 4, 2, 1])>"
            ]
          },
          "metadata": {},
          "execution_count": 45
        }
      ]
    },
    {
      "cell_type": "code",
      "source": [
        "# Calculate model_1 results\n",
        "model_1_results = calculate_results(\n",
        "    y_true = val_labels_encoded_labelencoder ,\n",
        "    y_pred = model_1_pred\n",
        ")\n",
        "model_1_results"
      ],
      "metadata": {
        "colab": {
          "base_uri": "https://localhost:8080/"
        },
        "id": "0f2jxHd7bOC5",
        "outputId": "73557cc8-3b27-4c20-8db2-97df8be1c115"
      },
      "execution_count": 46,
      "outputs": [
        {
          "output_type": "execute_result",
          "data": {
            "text/plain": [
              "{'accuracy': 79.43201376936317,\n",
              " 'precision': 0.7910257539798439,\n",
              " 'recall': 0.7943201376936316,\n",
              " 'f1': 0.7913175052602034}"
            ]
          },
          "metadata": {},
          "execution_count": 46
        }
      ]
    },
    {
      "cell_type": "markdown",
      "source": [
        "# Model 2 : Feature extraction with pretrained token embeddings\n",
        "\n",
        "We can use glove embedding also but we will use universal sentence encoder (pre-trained word embeddings from tensorflow hub)."
      ],
      "metadata": {
        "id": "WoeWj6qAcnd8"
      }
    },
    {
      "cell_type": "code",
      "source": [
        "import tensorflow_hub as hub\n",
        "# embed = hub.load(\"https://tfhub.dev/google/universal-sentence-encoder/4\")  Bu kısım örnekleri hub a atıp görmek için"
      ],
      "metadata": {
        "id": "w-JK3snqhwJ8"
      },
      "execution_count": 47,
      "outputs": []
    },
    {
      "cell_type": "code",
      "source": [
        "# Create a Keras layer using USE pre-trained layer from tensorflow hub\n",
        "import tensorflow as tf\n",
        "\n",
        "sentence_encoder_layer = hub.KerasLayer(\n",
        "    \"https://tfhub.dev/google/universal-sentence-encoder/4\" ,\n",
        "    trainable = False ,\n",
        "    name = \"USE\"\n",
        ")"
      ],
      "metadata": {
        "id": "GEVa9Lafh02O"
      },
      "execution_count": 48,
      "outputs": []
    },
    {
      "cell_type": "code",
      "source": [
        "# Test out the pre-trained embedding on a random sentence\n",
        "\n",
        "random_train_sentence = random.choice(test_sentences)\n",
        "random_embedded_sentence  = sentence_encoder_layer([random_train_sentence])\n",
        "print(f\"Random sentence : \\n {random_train_sentence}\")\n",
        "print(f\"\\nEmbed form of our sentence: \\n {random_embedded_sentence} \")\n",
        "print(f\"\\nLength of embedded sentence : \\n {len(random_embedded_sentence[0])}\")"
      ],
      "metadata": {
        "colab": {
          "base_uri": "https://localhost:8080/"
        },
        "id": "9Mi4eaehiiHX",
        "outputId": "b329d60b-40d4-42ed-b829-ed8f1ba54920"
      },
      "execution_count": 49,
      "outputs": [
        {
          "output_type": "stream",
          "name": "stdout",
          "text": [
            "Random sentence : \n",
            " darapladib is a selective oral inhibitor of lipoprotein-associated phospholipase a@ .\n",
            "\n",
            "Embed form of our sentence: \n",
            " [[ 7.44800549e-04  1.02330092e-02  4.00861464e-02 -2.18820088e-02\n",
            "  -6.44716322e-02  8.42380375e-02  8.73635430e-03 -4.11665589e-02\n",
            "   5.09819984e-02  4.84558828e-02  4.28339057e-02 -3.69440280e-02\n",
            "   5.71917035e-02 -2.64419764e-02 -7.55847991e-02 -7.27648959e-02\n",
            "  -2.30871178e-02  9.90215968e-03  1.92139838e-02  2.18151715e-02\n",
            "  -6.23255633e-02  3.45029421e-02 -8.56713131e-02 -3.74719240e-02\n",
            "  -4.13571224e-02 -2.89491601e-02  7.43039325e-02 -4.20289449e-02\n",
            "   1.37466779e-02  5.33551015e-02  5.41823953e-02  7.25200102e-02\n",
            "   8.20387900e-03 -5.50212711e-02 -2.24462468e-02  1.94880925e-02\n",
            "   4.53766575e-03 -2.33359970e-02 -2.37763096e-02 -2.82350313e-02\n",
            "  -5.94106317e-02  3.40010077e-02  5.91719747e-02  7.26712272e-02\n",
            "   7.69034727e-04  3.84587492e-03 -5.03025986e-02  3.07275970e-02\n",
            "   5.97329922e-02 -1.61594450e-02 -3.45302820e-02  2.45086178e-02\n",
            "   1.22102750e-02 -5.82723655e-02  4.28587757e-02 -2.11305916e-02\n",
            "   6.36718646e-02 -7.74651915e-02  6.29336014e-02  5.87192103e-02\n",
            "  -6.27086610e-02  3.35283466e-02  1.97215118e-02  4.12643328e-02\n",
            "  -3.11420709e-02 -5.63755147e-02  6.10054210e-02  1.02534574e-02\n",
            "   1.45993838e-02 -2.91247591e-02  3.19699422e-02 -5.09400200e-03\n",
            "  -3.34359668e-02  7.09189922e-02 -4.99862581e-02 -8.78488086e-03\n",
            "   3.95026095e-02  5.16752228e-02 -1.67611812e-04 -4.31834236e-02\n",
            "  -3.36884125e-03  4.34884429e-02  6.29475638e-02 -1.84316076e-02\n",
            "   9.44393128e-03  3.91308358e-03 -2.21331720e-03  3.01653035e-02\n",
            "  -4.46712598e-02  3.78879458e-02 -4.10715081e-02 -8.30539875e-03\n",
            "   3.80168445e-02 -2.45220810e-02  8.34015831e-02 -6.51866477e-03\n",
            "  -3.00120432e-02 -6.38894215e-02  2.90910006e-02  6.93267211e-03\n",
            "  -6.36189580e-02  3.86935584e-02 -4.33658697e-02 -3.36838141e-02\n",
            "   1.38777029e-02 -8.08722749e-02  3.64764147e-02  3.92537899e-02\n",
            "  -6.04102835e-02  3.85061055e-02  5.21276100e-03 -8.19232687e-02\n",
            "  -4.34401520e-02  2.54109856e-02  3.12440954e-02  3.74489687e-02\n",
            "  -6.62862062e-02 -3.01338658e-02 -3.94886322e-02  1.35670118e-02\n",
            "   3.89162935e-02  5.16306311e-02 -1.92377195e-02  6.46409541e-02\n",
            "   5.28485216e-02  7.11375177e-02  6.09599752e-04  6.57986999e-02\n",
            "   5.26543893e-02 -1.25866907e-03  2.57787835e-02  6.88769817e-02\n",
            "   2.15297360e-02  1.86073966e-02 -1.43931191e-02  4.09066603e-02\n",
            "   6.59240633e-02 -2.05091313e-02  5.10132639e-03 -7.02336431e-02\n",
            "   2.82474495e-02  7.45458454e-02  3.87144908e-02 -6.70033991e-02\n",
            "  -6.21626200e-03  2.53610779e-02  1.05754938e-02 -8.73322040e-02\n",
            "  -3.13663296e-02 -3.30019221e-02 -1.06023652e-02 -4.09995876e-02\n",
            "  -3.22561152e-02 -2.55699269e-02  9.23179239e-02 -1.73439328e-02\n",
            "   8.16788117e-04 -6.80336654e-02 -3.21023650e-02 -5.02390116e-02\n",
            "   3.89647335e-02 -8.60310048e-02 -1.61829125e-02 -8.22667312e-03\n",
            "   2.93674227e-02  1.98818929e-02 -7.86198154e-02 -5.81460409e-02\n",
            "  -4.17983383e-02 -6.43252507e-02 -3.35741410e-04 -3.43497135e-02\n",
            "   4.69906591e-02  4.27173935e-02  5.52275218e-02  2.09092312e-02\n",
            "   6.48164898e-02  7.85481185e-02  1.56313702e-02  2.73126289e-02\n",
            "   8.15776661e-02 -6.37950897e-02  2.17238441e-02  5.05324686e-03\n",
            "   3.89227830e-02 -5.18852584e-02  8.26195925e-02  4.02859971e-02\n",
            "   6.62043169e-02  1.15828272e-02 -8.07724427e-03  2.68189739e-02\n",
            "   2.40269606e-03  6.74381992e-03  5.09063229e-02  2.67470423e-02\n",
            "   3.68484333e-02  2.24748254e-02  5.64855263e-02  4.48788796e-03\n",
            "  -5.64614348e-02  5.39403521e-02  3.47057134e-02 -6.79042488e-02\n",
            "   4.23783213e-02  4.92552221e-02 -5.78527860e-02  7.16651008e-02\n",
            "   4.55032736e-02  5.40570170e-02  1.03780329e-02 -2.27465145e-02\n",
            "  -2.50484385e-02  4.36116904e-02 -2.65139230e-02 -5.91608621e-02\n",
            "  -1.58828069e-02  1.62059218e-02  3.71754766e-02  5.11411205e-03\n",
            "  -3.84504199e-02 -1.90254766e-02  3.11246924e-02 -8.60532001e-02\n",
            "   7.66049996e-02 -2.63407640e-02  6.11746944e-02  7.65945017e-02\n",
            "  -3.99175435e-02 -5.58661902e-03  4.92065772e-02  5.47820963e-02\n",
            "  -8.84455815e-03 -6.09292760e-02  2.51669325e-02 -2.70901695e-02\n",
            "   6.96117654e-02  4.38908022e-03 -3.56630161e-02 -4.85947123e-03\n",
            "   9.31224134e-03  3.97664160e-02  3.74596566e-02  8.77154619e-02\n",
            "  -4.60150689e-02 -1.78004336e-02 -6.36055693e-02 -4.43394296e-02\n",
            "  -3.95316333e-02 -6.85461462e-02  6.72555901e-03 -6.68155821e-03\n",
            "   5.43274591e-03  5.62045909e-02  3.99366543e-02 -4.07610610e-02\n",
            "   5.14446683e-02 -2.20065564e-03 -2.27338634e-02 -1.67780910e-02\n",
            "  -1.88492499e-02  7.13489130e-02 -3.64866555e-02  8.06470066e-02\n",
            "  -4.43395749e-02  2.79565006e-02 -7.32716024e-02 -4.71411720e-02\n",
            "   5.85395563e-03 -2.74535660e-02 -5.67806363e-02 -9.22328420e-03\n",
            "  -7.56143481e-02  2.50990856e-02  2.13667490e-02  4.32789735e-02\n",
            "  -4.64944206e-02  7.01891407e-02 -5.65526411e-02 -3.61420810e-02\n",
            "   4.71188352e-02  4.99088094e-02  2.19039321e-02  7.86318779e-02\n",
            "  -3.81214246e-02  2.44798567e-02 -2.49720849e-02  5.84970899e-02\n",
            "  -4.95376624e-02 -4.12988588e-02  2.20619515e-02 -2.08960753e-02\n",
            "  -2.42170189e-02 -8.52713510e-02 -3.50409374e-02  1.56190870e-02\n",
            "  -5.95291480e-02  2.75320932e-02  3.41450013e-02 -6.06564358e-02\n",
            "   1.49497893e-02  3.80029529e-02 -2.06896663e-02 -2.84390748e-02\n",
            "   2.54310612e-02  5.33252358e-02 -2.89172810e-02  6.93231029e-03\n",
            "  -2.10192613e-02  3.66197750e-02  6.99404255e-02 -1.60519667e-02\n",
            "   4.64498661e-02 -1.99407022e-02 -5.66679910e-02  2.06064936e-02\n",
            "  -7.66250268e-02 -6.13168627e-02 -6.56480119e-02  1.12501057e-02\n",
            "  -7.08371103e-02 -5.28254583e-02 -3.09216063e-02 -1.42805306e-02\n",
            "  -5.88708371e-03 -2.16001458e-02  8.07537064e-02 -3.06275263e-02\n",
            "  -3.11881807e-02  8.16227421e-02 -4.24255319e-02  4.25618626e-02\n",
            "   5.91099970e-02 -5.05975187e-02 -2.47000251e-02  8.91860618e-05\n",
            "  -6.36010244e-02 -3.83406132e-02  7.88467005e-03  2.33695516e-03\n",
            "   4.21212167e-02 -4.58527245e-02  5.94219938e-02 -4.06408980e-02\n",
            "  -4.34367210e-02 -5.96977472e-02  4.28113304e-02  4.75849733e-02\n",
            "   1.48206353e-02  5.74020557e-02  2.11031064e-02  5.05076908e-03\n",
            "   7.45062809e-03  3.64290141e-02 -1.65719562e-03  5.25685996e-02\n",
            "  -6.58732876e-02  9.25105345e-03  2.42016446e-02  1.47200255e-02\n",
            "  -3.12422849e-02 -7.88270161e-02 -7.70448372e-02 -4.77772914e-02\n",
            "   1.43973334e-02 -6.21514432e-02 -3.82971577e-02  4.84023727e-02\n",
            "   1.39578497e-02  6.98177218e-02  3.63040194e-02 -3.61672491e-02\n",
            "  -2.95161624e-02  8.20209272e-04  5.88050261e-02 -1.51792588e-02\n",
            "  -2.13675257e-02 -4.33282042e-03 -3.22101377e-02  2.15159431e-02\n",
            "  -5.82748502e-02 -9.88157373e-03 -7.39825368e-02 -8.21783091e-04\n",
            "   2.58572064e-02 -3.75637179e-03 -3.63117382e-02  6.39218092e-02\n",
            "   2.70901583e-02 -1.24620283e-02  6.91062957e-02  9.00837183e-02\n",
            "   7.21513480e-02  1.45711182e-02 -2.01232880e-02  7.82289878e-02\n",
            "   7.60492161e-02 -1.66735407e-02 -3.30132246e-02 -3.82952616e-02\n",
            "   5.38390391e-02 -6.00284245e-03 -6.68461099e-02  5.52501865e-02\n",
            "   2.50302609e-02 -5.13975918e-02 -2.22863518e-02  4.43044677e-02\n",
            "   6.64041331e-03 -3.62171084e-02  5.39022498e-02  5.71809374e-02\n",
            "  -7.55727440e-02  7.08246231e-02 -4.64936420e-02  3.40010114e-02\n",
            "   2.00665202e-02 -8.75897985e-03  3.03545743e-02 -3.06124687e-02\n",
            "   4.67464365e-02 -6.73855916e-02 -2.67668590e-02 -2.63208468e-02\n",
            "   4.38486002e-02  1.17129358e-02 -2.71443948e-02 -3.70011628e-02\n",
            "   8.45752284e-02 -8.41266289e-02 -5.10663204e-02  3.60389519e-03\n",
            "   7.49307424e-02 -7.56500065e-02 -4.46822867e-02  1.16878441e-02\n",
            "  -4.67483103e-02 -1.63467508e-02 -6.08394891e-02  5.79323713e-03\n",
            "  -7.90637545e-03 -4.48173732e-02 -1.11240111e-02 -4.07396117e-03\n",
            "   4.86419462e-02 -4.74980026e-02 -3.11506204e-02 -6.15590028e-02\n",
            "   4.62170877e-02  4.25966755e-02 -2.49072531e-04  4.85042259e-02\n",
            "  -4.87145409e-02 -2.86620818e-02 -5.65159395e-02 -1.05356462e-02\n",
            "   3.19739571e-03  4.74562086e-02 -2.55470481e-02  1.35276197e-02\n",
            "   5.57500385e-02  4.32171766e-03 -2.67083123e-02  2.61822622e-02\n",
            "   6.18328117e-02 -9.17295832e-03 -1.07346606e-02 -5.05402796e-02\n",
            "  -8.71727243e-03 -5.30294590e-02  2.97272652e-02 -1.25590842e-02\n",
            "   2.74462588e-02  1.45152621e-02 -4.36030775e-02  5.03458641e-02\n",
            "   2.03300994e-02 -2.64076353e-03 -2.68286880e-04  7.51325116e-02\n",
            "   4.98896688e-02  1.06919203e-02  3.13775800e-03  6.28370699e-03\n",
            "  -2.85753030e-02 -3.69606130e-02  5.16647622e-02  2.28253920e-02\n",
            "   6.47408830e-04  1.01473304e-02 -3.61119285e-02 -1.41851371e-04\n",
            "  -1.70247108e-02 -2.07803473e-02  7.97902048e-02  3.51095083e-03\n",
            "  -3.46007720e-02  1.99627206e-02 -5.43373972e-02  3.96453179e-02\n",
            "  -7.78155401e-02 -8.25970247e-02 -5.55905746e-03  5.15105315e-02\n",
            "   7.40704685e-02 -9.51830447e-02 -8.68917617e-04  6.73770555e-04\n",
            "   1.91973820e-02 -6.94999620e-02 -1.66100133e-02 -2.54533682e-02]] \n",
            "\n",
            "Length of embedded sentence : \n",
            " 512\n"
          ]
        }
      ]
    },
    {
      "cell_type": "code",
      "source": [
        "# Create a model with keras API\n",
        "\n",
        "inputs = layers.Input( shape = [] , dtype = tf.string)\n",
        "x = sentence_encoder_layer(inputs)  # Tokenize text and create embedding of each sequence (512 long vector)\n",
        "x = layers.Dense( 128 , activation = \"relu\")(x)\n",
        "outputs = layers.Dense( num_classes , activation = \"softmax\")(x)\n",
        "\n",
        "model_2 = tf.keras.Model( inputs , outputs )\n",
        "\n",
        "# Compile a model\n",
        "model_2.compile(loss = [\"categorical_crossentropy\"] ,\n",
        "                optimizer = tf.keras.optimizers.Adam() ,\n",
        "                metrics = [\"accuracy\"]\n",
        "                )\n",
        "\n",
        "# Fit the model\n",
        "hist_2 = model_2.fit(\n",
        "    train_dataset ,\n",
        "    epochs = 3 ,  # Eğer daha hızlı process istiyorsak burda steps_per_epoch = int( len(0.1 * len(train_dataset))) yapabiliriz ama böyle yaptıgımızda modelimiz train datamızın sadece %10 u ile train oluyor.\n",
        "    validation_data = val_dataset\n",
        ")\n",
        "\n",
        "\n",
        "\n"
      ],
      "metadata": {
        "colab": {
          "base_uri": "https://localhost:8080/"
        },
        "id": "sW9G3uSdlMdK",
        "outputId": "e546c28f-8984-4ca0-c87a-b5497575d7df"
      },
      "execution_count": 50,
      "outputs": [
        {
          "output_type": "stream",
          "name": "stdout",
          "text": [
            "Epoch 1/3\n",
            "5627/5627 [==============================] - 92s 16ms/step - loss: 0.7295 - accuracy: 0.7212 - val_loss: 0.6556 - val_accuracy: 0.7500\n",
            "Epoch 2/3\n",
            "5627/5627 [==============================] - 86s 15ms/step - loss: 0.6360 - accuracy: 0.7583 - val_loss: 0.6212 - val_accuracy: 0.7623\n",
            "Epoch 3/3\n",
            "5627/5627 [==============================] - 86s 15ms/step - loss: 0.6017 - accuracy: 0.7718 - val_loss: 0.6072 - val_accuracy: 0.7684\n"
          ]
        }
      ]
    },
    {
      "cell_type": "code",
      "source": [
        "model_2.evaluate(val_dataset)"
      ],
      "metadata": {
        "colab": {
          "base_uri": "https://localhost:8080/"
        },
        "id": "ZMSXdZ61xmQf",
        "outputId": "4c53e070-7f2a-4989-9ed5-f7200e61052a"
      },
      "execution_count": 51,
      "outputs": [
        {
          "output_type": "stream",
          "name": "stdout",
          "text": [
            "945/945 [==============================] - 12s 13ms/step - loss: 0.6072 - accuracy: 0.7684\n"
          ]
        },
        {
          "output_type": "execute_result",
          "data": {
            "text/plain": [
              "[0.6071807146072388, 0.7684363722801208]"
            ]
          },
          "metadata": {},
          "execution_count": 51
        }
      ]
    },
    {
      "cell_type": "code",
      "source": [
        "\n",
        "# Make predictions with feature extraction model\n",
        "model_2_pred_probs = model_2.predict(val_dataset)\n",
        "model_2_pred_probs"
      ],
      "metadata": {
        "colab": {
          "base_uri": "https://localhost:8080/"
        },
        "id": "FpcwVh7PxoFq",
        "outputId": "e18f3a54-4b13-4767-e2df-2927cb04d591"
      },
      "execution_count": 52,
      "outputs": [
        {
          "output_type": "stream",
          "name": "stdout",
          "text": [
            "945/945 [==============================] - 11s 12ms/step\n"
          ]
        },
        {
          "output_type": "execute_result",
          "data": {
            "text/plain": [
              "array([[4.76712614e-01, 4.18016046e-01, 8.63384485e-05, 1.03223547e-01,\n",
              "        1.96138723e-03],\n",
              "       [4.87698317e-01, 4.10426617e-01, 7.57478701e-04, 1.00337230e-01,\n",
              "        7.80330214e-04],\n",
              "       [5.56236327e-01, 9.75748617e-03, 1.40810013e-02, 4.09955651e-01,\n",
              "        9.96951573e-03],\n",
              "       ...,\n",
              "       [4.62242489e-04, 3.10249394e-04, 9.47758276e-03, 1.09610904e-04,\n",
              "        9.89640296e-01],\n",
              "       [1.07066324e-02, 1.33691132e-01, 1.02970444e-01, 3.29015357e-03,\n",
              "        7.49341607e-01],\n",
              "       [1.22755840e-02, 9.85012650e-01, 2.45233928e-03, 2.19695685e-05,\n",
              "        2.37379994e-04]], dtype=float32)"
            ]
          },
          "metadata": {},
          "execution_count": 52
        }
      ]
    },
    {
      "cell_type": "code",
      "source": [
        "# Convert the prediction probabilities found with feature extraction model to labels\n",
        "model_2_preds = tf.argmax(model_2_pred_probs, axis=1)\n",
        "model_2_preds"
      ],
      "metadata": {
        "colab": {
          "base_uri": "https://localhost:8080/"
        },
        "id": "9td7SbOAxuS_",
        "outputId": "05ca50b9-1f64-4c51-f526-89bdb0f2f03f"
      },
      "execution_count": 53,
      "outputs": [
        {
          "output_type": "execute_result",
          "data": {
            "text/plain": [
              "<tf.Tensor: shape=(30212,), dtype=int64, numpy=array([0, 0, 0, ..., 4, 4, 1])>"
            ]
          },
          "metadata": {},
          "execution_count": 53
        }
      ]
    },
    {
      "cell_type": "code",
      "source": [
        "model_2_results = calculate_results(y_true=val_labels_encoded_labelencoder,\n",
        "                                   y_pred=model_2_preds)\n",
        "model_2_results"
      ],
      "metadata": {
        "colab": {
          "base_uri": "https://localhost:8080/"
        },
        "id": "xRyi-gqAxxlY",
        "outputId": "0e1f8eb5-ffbb-4e41-d6b4-d0fa0d5b802f"
      },
      "execution_count": 54,
      "outputs": [
        {
          "output_type": "execute_result",
          "data": {
            "text/plain": [
              "{'accuracy': 76.84363828942142,\n",
              " 'precision': 0.7664755471915188,\n",
              " 'recall': 0.7684363828942142,\n",
              " 'f1': 0.7644307557640468}"
            ]
          },
          "metadata": {},
          "execution_count": 54
        }
      ]
    },
    {
      "cell_type": "markdown",
      "source": [
        "# Model 3 : Conv1D with character embeddings\n",
        "\n",
        "The paper which we are replicating states they used a combination of token and character-level embeddings.\n",
        "\n",
        "Previously we have token-level embeddings but we will need to do similar steps for characters if we want to use char-level embeddings."
      ],
      "metadata": {
        "id": "g4diwHP27CRK"
      }
    },
    {
      "cell_type": "markdown",
      "source": [
        "## Creating a character-level tokenizer"
      ],
      "metadata": {
        "id": "IgNLnlbd9B2k"
      }
    },
    {
      "cell_type": "code",
      "source": [
        "list(train_sentences[0])"
      ],
      "metadata": {
        "colab": {
          "base_uri": "https://localhost:8080/"
        },
        "id": "J4DpwpVH9iv6",
        "outputId": "9b04d587-8b87-4cb4-ec01-4804b4936553"
      },
      "execution_count": 55,
      "outputs": [
        {
          "output_type": "execute_result",
          "data": {
            "text/plain": [
              "['t',\n",
              " 'o',\n",
              " ' ',\n",
              " 'i',\n",
              " 'n',\n",
              " 'v',\n",
              " 'e',\n",
              " 's',\n",
              " 't',\n",
              " 'i',\n",
              " 'g',\n",
              " 'a',\n",
              " 't',\n",
              " 'e',\n",
              " ' ',\n",
              " 't',\n",
              " 'h',\n",
              " 'e',\n",
              " ' ',\n",
              " 'e',\n",
              " 'f',\n",
              " 'f',\n",
              " 'i',\n",
              " 'c',\n",
              " 'a',\n",
              " 'c',\n",
              " 'y',\n",
              " ' ',\n",
              " 'o',\n",
              " 'f',\n",
              " ' ',\n",
              " '@',\n",
              " ' ',\n",
              " 'w',\n",
              " 'e',\n",
              " 'e',\n",
              " 'k',\n",
              " 's',\n",
              " ' ',\n",
              " 'o',\n",
              " 'f',\n",
              " ' ',\n",
              " 'd',\n",
              " 'a',\n",
              " 'i',\n",
              " 'l',\n",
              " 'y',\n",
              " ' ',\n",
              " 'l',\n",
              " 'o',\n",
              " 'w',\n",
              " '-',\n",
              " 'd',\n",
              " 'o',\n",
              " 's',\n",
              " 'e',\n",
              " ' ',\n",
              " 'o',\n",
              " 'r',\n",
              " 'a',\n",
              " 'l',\n",
              " ' ',\n",
              " 'p',\n",
              " 'r',\n",
              " 'e',\n",
              " 'd',\n",
              " 'n',\n",
              " 'i',\n",
              " 's',\n",
              " 'o',\n",
              " 'l',\n",
              " 'o',\n",
              " 'n',\n",
              " 'e',\n",
              " ' ',\n",
              " 'i',\n",
              " 'n',\n",
              " ' ',\n",
              " 'i',\n",
              " 'm',\n",
              " 'p',\n",
              " 'r',\n",
              " 'o',\n",
              " 'v',\n",
              " 'i',\n",
              " 'n',\n",
              " 'g',\n",
              " ' ',\n",
              " 'p',\n",
              " 'a',\n",
              " 'i',\n",
              " 'n',\n",
              " ' ',\n",
              " ',',\n",
              " ' ',\n",
              " 'm',\n",
              " 'o',\n",
              " 'b',\n",
              " 'i',\n",
              " 'l',\n",
              " 'i',\n",
              " 't',\n",
              " 'y',\n",
              " ' ',\n",
              " ',',\n",
              " ' ',\n",
              " 'a',\n",
              " 'n',\n",
              " 'd',\n",
              " ' ',\n",
              " 's',\n",
              " 'y',\n",
              " 's',\n",
              " 't',\n",
              " 'e',\n",
              " 'm',\n",
              " 'i',\n",
              " 'c',\n",
              " ' ',\n",
              " 'l',\n",
              " 'o',\n",
              " 'w',\n",
              " '-',\n",
              " 'g',\n",
              " 'r',\n",
              " 'a',\n",
              " 'd',\n",
              " 'e',\n",
              " ' ',\n",
              " 'i',\n",
              " 'n',\n",
              " 'f',\n",
              " 'l',\n",
              " 'a',\n",
              " 'm',\n",
              " 'm',\n",
              " 'a',\n",
              " 't',\n",
              " 'i',\n",
              " 'o',\n",
              " 'n',\n",
              " ' ',\n",
              " 'i',\n",
              " 'n',\n",
              " ' ',\n",
              " 't',\n",
              " 'h',\n",
              " 'e',\n",
              " ' ',\n",
              " 's',\n",
              " 'h',\n",
              " 'o',\n",
              " 'r',\n",
              " 't',\n",
              " ' ',\n",
              " 't',\n",
              " 'e',\n",
              " 'r',\n",
              " 'm',\n",
              " ' ',\n",
              " 'a',\n",
              " 'n',\n",
              " 'd',\n",
              " ' ',\n",
              " 'w',\n",
              " 'h',\n",
              " 'e',\n",
              " 't',\n",
              " 'h',\n",
              " 'e',\n",
              " 'r',\n",
              " ' ',\n",
              " 't',\n",
              " 'h',\n",
              " 'e',\n",
              " ' ',\n",
              " 'e',\n",
              " 'f',\n",
              " 'f',\n",
              " 'e',\n",
              " 'c',\n",
              " 't',\n",
              " ' ',\n",
              " 'w',\n",
              " 'o',\n",
              " 'u',\n",
              " 'l',\n",
              " 'd',\n",
              " ' ',\n",
              " 'b',\n",
              " 'e',\n",
              " ' ',\n",
              " 's',\n",
              " 'u',\n",
              " 's',\n",
              " 't',\n",
              " 'a',\n",
              " 'i',\n",
              " 'n',\n",
              " 'e',\n",
              " 'd',\n",
              " ' ',\n",
              " 'a',\n",
              " 't',\n",
              " ' ',\n",
              " '@',\n",
              " ' ',\n",
              " 'w',\n",
              " 'e',\n",
              " 'e',\n",
              " 'k',\n",
              " 's',\n",
              " ' ',\n",
              " 'i',\n",
              " 'n',\n",
              " ' ',\n",
              " 'o',\n",
              " 'l',\n",
              " 'd',\n",
              " 'e',\n",
              " 'r',\n",
              " ' ',\n",
              " 'a',\n",
              " 'd',\n",
              " 'u',\n",
              " 'l',\n",
              " 't',\n",
              " 's',\n",
              " ' ',\n",
              " 'w',\n",
              " 'i',\n",
              " 't',\n",
              " 'h',\n",
              " ' ',\n",
              " 'm',\n",
              " 'o',\n",
              " 'd',\n",
              " 'e',\n",
              " 'r',\n",
              " 'a',\n",
              " 't',\n",
              " 'e',\n",
              " ' ',\n",
              " 't',\n",
              " 'o',\n",
              " ' ',\n",
              " 's',\n",
              " 'e',\n",
              " 'v',\n",
              " 'e',\n",
              " 'r',\n",
              " 'e',\n",
              " ' ',\n",
              " 'k',\n",
              " 'n',\n",
              " 'e',\n",
              " 'e',\n",
              " ' ',\n",
              " 'o',\n",
              " 's',\n",
              " 't',\n",
              " 'e',\n",
              " 'o',\n",
              " 'a',\n",
              " 'r',\n",
              " 't',\n",
              " 'h',\n",
              " 'r',\n",
              " 'i',\n",
              " 't',\n",
              " 'i',\n",
              " 's',\n",
              " ' ',\n",
              " '(',\n",
              " ' ',\n",
              " 'o',\n",
              " 'a',\n",
              " ' ',\n",
              " ')',\n",
              " ' ',\n",
              " '.']"
            ]
          },
          "metadata": {},
          "execution_count": 55
        }
      ]
    },
    {
      "cell_type": "code",
      "source": [
        "\" \".join(list(train_sentences[0]))"
      ],
      "metadata": {
        "colab": {
          "base_uri": "https://localhost:8080/",
          "height": 70
        },
        "id": "03whmJq49lYS",
        "outputId": "de8e5629-990d-42f0-b1ee-daba7fd19d97"
      },
      "execution_count": 56,
      "outputs": [
        {
          "output_type": "execute_result",
          "data": {
            "text/plain": [
              "'t o   i n v e s t i g a t e   t h e   e f f i c a c y   o f   @   w e e k s   o f   d a i l y   l o w - d o s e   o r a l   p r e d n i s o l o n e   i n   i m p r o v i n g   p a i n   ,   m o b i l i t y   ,   a n d   s y s t e m i c   l o w - g r a d e   i n f l a m m a t i o n   i n   t h e   s h o r t   t e r m   a n d   w h e t h e r   t h e   e f f e c t   w o u l d   b e   s u s t a i n e d   a t   @   w e e k s   i n   o l d e r   a d u l t s   w i t h   m o d e r a t e   t o   s e v e r e   k n e e   o s t e o a r t h r i t i s   (   o a   )   .'"
            ],
            "application/vnd.google.colaboratory.intrinsic+json": {
              "type": "string"
            }
          },
          "metadata": {},
          "execution_count": 56
        }
      ]
    },
    {
      "cell_type": "code",
      "source": [
        "# Make function to  split sentences into characters\n",
        "def split_chars(text):\n",
        "  return \" \".join(list(text))"
      ],
      "metadata": {
        "id": "ECnKDghP9XwF"
      },
      "execution_count": 57,
      "outputs": []
    },
    {
      "cell_type": "code",
      "source": [
        "# Split sequence-level data splits into character-level data splits.\n",
        "train_chars = [split_chars(sentence) for sentence in train_sentences]\n",
        "val_chars = [split_chars(sentence) for sentence in val_sentences]\n",
        "test_chars = [split_chars(sentence) for sentence in test_sentences]\n",
        "train_chars[ : 5]\n"
      ],
      "metadata": {
        "colab": {
          "base_uri": "https://localhost:8080/"
        },
        "id": "W7fj1c9D-CXL",
        "outputId": "965ba1dc-b250-467c-df47-797757e52b50"
      },
      "execution_count": 58,
      "outputs": [
        {
          "output_type": "execute_result",
          "data": {
            "text/plain": [
              "['t o   i n v e s t i g a t e   t h e   e f f i c a c y   o f   @   w e e k s   o f   d a i l y   l o w - d o s e   o r a l   p r e d n i s o l o n e   i n   i m p r o v i n g   p a i n   ,   m o b i l i t y   ,   a n d   s y s t e m i c   l o w - g r a d e   i n f l a m m a t i o n   i n   t h e   s h o r t   t e r m   a n d   w h e t h e r   t h e   e f f e c t   w o u l d   b e   s u s t a i n e d   a t   @   w e e k s   i n   o l d e r   a d u l t s   w i t h   m o d e r a t e   t o   s e v e r e   k n e e   o s t e o a r t h r i t i s   (   o a   )   .',\n",
              " 'a   t o t a l   o f   @   p a t i e n t s   w i t h   p r i m a r y   k n e e   o a   w e r e   r a n d o m i z e d   @ : @   ;   @   r e c e i v e d   @   m g / d a y   o f   p r e d n i s o l o n e   a n d   @   r e c e i v e d   p l a c e b o   f o r   @   w e e k s   .',\n",
              " 'o u t c o m e   m e a s u r e s   i n c l u d e d   p a i n   r e d u c t i o n   a n d   i m p r o v e m e n t   i n   f u n c t i o n   s c o r e s   a n d   s y s t e m i c   i n f l a m m a t i o n   m a r k e r s   .',\n",
              " 'p a i n   w a s   a s s e s s e d   u s i n g   t h e   v i s u a l   a n a l o g   p a i n   s c a l e   (   @ - @   m m   )   .',\n",
              " 's e c o n d a r y   o u t c o m e   m e a s u r e s   i n c l u d e d   t h e   w e s t e r n   o n t a r i o   a n d   m c m a s t e r   u n i v e r s i t i e s   o s t e o a r t h r i t i s   i n d e x   s c o r e s   ,   p a t i e n t   g l o b a l   a s s e s s m e n t   (   p g a   )   o f   t h e   s e v e r i t y   o f   k n e e   o a   ,   a n d   @ - m i n   w a l k   d i s t a n c e   (   @ m w d   )   .']"
            ]
          },
          "metadata": {},
          "execution_count": 58
        }
      ]
    },
    {
      "cell_type": "code",
      "source": [
        "# What is the average character length?\n",
        "char_lens = [ len(character) for character in train_sentences]\n",
        "mean_char_len = np.mean(char_lens)\n",
        "mean_char_len\n"
      ],
      "metadata": {
        "colab": {
          "base_uri": "https://localhost:8080/"
        },
        "id": "GnqG8Gem_CZR",
        "outputId": "e7b880cb-1dd1-4b30-9413-1088a3b895e6"
      },
      "execution_count": 59,
      "outputs": [
        {
          "output_type": "execute_result",
          "data": {
            "text/plain": [
              "149.3662574983337"
            ]
          },
          "metadata": {},
          "execution_count": 59
        }
      ]
    },
    {
      "cell_type": "code",
      "source": [
        "# Check the distribution of our sequences at a character-level\n",
        "import matplotlib.pyplot as plt\n",
        "plt.hist(char_lens , bins = 7);"
      ],
      "metadata": {
        "colab": {
          "base_uri": "https://localhost:8080/",
          "height": 430
        },
        "id": "Byi1zHr0_eQM",
        "outputId": "83d24c0e-2266-45f4-81f2-580cf6fd5670"
      },
      "execution_count": 60,
      "outputs": [
        {
          "output_type": "display_data",
          "data": {
            "text/plain": [
              "<Figure size 640x480 with 1 Axes>"
            ],
            "image/png": "[encoded data removed]"
          },
          "metadata": {}
        }
      ]
    },
    {
      "cell_type": "code",
      "source": [
        "# Find what character length covers 95% of sequences\n",
        "output_seq_char_length = int(np.percentile(char_lens , 95))\n",
        "output_seq_char_length\n"
      ],
      "metadata": {
        "colab": {
          "base_uri": "https://localhost:8080/"
        },
        "id": "EC6U9LjpH9us",
        "outputId": "fc9f1419-918e-4401-853c-8e5b4da756cf"
      },
      "execution_count": 61,
      "outputs": [
        {
          "output_type": "execute_result",
          "data": {
            "text/plain": [
              "290"
            ]
          },
          "metadata": {},
          "execution_count": 61
        }
      ]
    },
    {
      "cell_type": "code",
      "source": [
        "# Get all keyboard characters. Text vectorizerdeki max tokensi bulmaya çalışıyoruz. Fakat burda farklı bir yaklaşım yapacağız. Çünkü mesela d harfi çok fazla kez kullanılıyor kelimelerde fakat d her zaman aynı d. Bu yüzden bunu bir kere kullanmamız gerekiyor.\n",
        "import string\n",
        "alphabet = string.ascii_lowercase + string.digits + string.punctuation\n",
        "alphabet\n",
        "# We will use len of this alphabet object\n",
        "\n"
      ],
      "metadata": {
        "colab": {
          "base_uri": "https://localhost:8080/",
          "height": 35
        },
        "id": "qxb6jp5ZIKLD",
        "outputId": "3f6d04d1-2c5b-46a7-dd2a-93414b27fc5f"
      },
      "execution_count": 62,
      "outputs": [
        {
          "output_type": "execute_result",
          "data": {
            "text/plain": [
              "'abcdefghijklmnopqrstuvwxyz0123456789!\"#$%&\\'()*+,-./:;<=>?@[\\\\]^_`{|}~'"
            ],
            "application/vnd.google.colaboratory.intrinsic+json": {
              "type": "string"
            }
          },
          "metadata": {},
          "execution_count": 62
        }
      ]
    },
    {
      "cell_type": "code",
      "source": [
        "# Create char-level token vectorizer instance\n",
        "NUM_CHAR_TOKENS = len(alphabet) + 2  # Add 2 for space and OOV token (OOV = out of vocab , '[UNK]' )\n",
        "char_vectorizer = TextVectorization(\n",
        "    max_tokens = NUM_CHAR_TOKENS ,\n",
        "    output_sequence_length = output_seq_char_length ,\n",
        "    name = \"char_vectorizer\"\n",
        ")"
      ],
      "metadata": {
        "id": "s4_xUDzQJu6H"
      },
      "execution_count": 63,
      "outputs": []
    },
    {
      "cell_type": "code",
      "source": [
        "# Adapt character vectorizer to training character\n",
        "char_vectorizer.adapt(train_chars)"
      ],
      "metadata": {
        "id": "YmMuh3SDK-hT"
      },
      "execution_count": 64,
      "outputs": []
    },
    {
      "cell_type": "code",
      "source": [
        "# Check character vocab stats\n",
        "char_vocab = char_vectorizer.get_vocabulary()\n",
        "print(f\"Number of different characters in our character vocab : \\n {len(char_vocab)}\")\n",
        "print(f\"\\n5 most common character in our vocab :\\n {char_vocab[ : 5]}\")\n",
        "print(f\"\\n5 least common character in our vocab : \\n {char_vocab[ -5 : ]}\")"
      ],
      "metadata": {
        "colab": {
          "base_uri": "https://localhost:8080/"
        },
        "id": "ZEo9I0SvLegs",
        "outputId": "d922416a-6e99-4020-8a7d-bf91bc3498e4"
      },
      "execution_count": 65,
      "outputs": [
        {
          "output_type": "stream",
          "name": "stdout",
          "text": [
            "Number of different characters in our character vocab : \n",
            " 28\n",
            "\n",
            "5 most common character in our vocab :\n",
            " ['', '[UNK]', 'e', 't', 'i']\n",
            "\n",
            "5 least common character in our vocab : \n",
            " ['k', 'x', 'z', 'q', 'j']\n"
          ]
        }
      ]
    },
    {
      "cell_type": "code",
      "source": [
        "# Test out character vectorizer\n",
        "random_train_chars = random.choice(train_chars)\n",
        "print(f\"Charified text : \\n {random_train_chars}\")\n",
        "print(f\"\\nLength of random train chars : \\n {len(random_train_chars.split())}\")\n",
        "vectorized_chars = char_vectorizer([random_train_chars])\n",
        "print(f\"\\n Vectorized chars : \\n {vectorized_chars}\")\n",
        "print(f\"\\n Length of vectorized chars : \\n {len(vectorized_chars[0])}\")"
      ],
      "metadata": {
        "colab": {
          "base_uri": "https://localhost:8080/"
        },
        "id": "lsw2gnJCM8VQ",
        "outputId": "b845205f-7939-474e-cbe4-c18b91b23816"
      },
      "execution_count": 66,
      "outputs": [
        {
          "output_type": "stream",
          "name": "stdout",
          "text": [
            "Charified text : \n",
            " w e e k l y   c s t   m a y   n o t   o f f e r   t h e   n e c e s s a r y   ` `   d o s e   ' '   r e q u i r e d   t o   c o m b a t   d e c l i n e   ,   a n d   e q u a l l y   t h e   c a r e r   t r a i n i n g   m a y   h a v e   b e e n   t o o   b r i e f   t o   h a v e   m a d e   a   d i f f e r e n c e   .\n",
            "\n",
            "Length of random train chars : \n",
            " 131\n",
            "\n",
            " Vectorized chars : \n",
            " [[20  2  2 23 12 19 11  9  3 15  5 19  6  7  3  7 17 17  2  8  3 13  2  6\n",
            "   2 11  2  9  9  5  8 19 10  7  9  2  8  2 26 16  4  8  2 10  3  7 11  7\n",
            "  15 22  5  3 10  2 11 12  4  6  2  5  6 10  2 26 16  5 12 12 19  3 13  2\n",
            "  11  5  8  2  8  3  8  5  4  6  4  6 18 15  5 19 13  5 21  2 22  2  2  6\n",
            "   3  7  7 22  8  4  2 17  3  7 13  5 21  2 15  5 10  2  5 10  4 17 17  2\n",
            "   8  2  6 11  2  0  0  0  0  0  0  0  0  0  0  0  0  0  0  0  0  0  0  0\n",
            "   0  0  0  0  0  0  0  0  0  0  0  0  0  0  0  0  0  0  0  0  0  0  0  0\n",
            "   0  0  0  0  0  0  0  0  0  0  0  0  0  0  0  0  0  0  0  0  0  0  0  0\n",
            "   0  0  0  0  0  0  0  0  0  0  0  0  0  0  0  0  0  0  0  0  0  0  0  0\n",
            "   0  0  0  0  0  0  0  0  0  0  0  0  0  0  0  0  0  0  0  0  0  0  0  0\n",
            "   0  0  0  0  0  0  0  0  0  0  0  0  0  0  0  0  0  0  0  0  0  0  0  0\n",
            "   0  0  0  0  0  0  0  0  0  0  0  0  0  0  0  0  0  0  0  0  0  0  0  0\n",
            "   0  0]]\n",
            "\n",
            " Length of vectorized chars : \n",
            " 290\n"
          ]
        }
      ]
    },
    {
      "cell_type": "markdown",
      "source": [
        "# Create a character level embedding layer"
      ],
      "metadata": {
        "id": "MfWo5UdKRcDH"
      }
    },
    {
      "cell_type": "code",
      "source": [
        "# Create char embedding layer\n",
        "\n",
        "char_embed = layers.Embedding(\n",
        "    input_dim = len(char_vocab) ,\n",
        "    output_dim = 25 , # In paper , they say we should use 25 for output dim ,\n",
        "    mask_zero = True ,\n",
        "    name = \"char_embed\"\n",
        ")"
      ],
      "metadata": {
        "id": "fUO0qWkAWa8B"
      },
      "execution_count": 67,
      "outputs": []
    },
    {
      "cell_type": "code",
      "source": [
        "# Test our character level embedding layer\n",
        "print(f\"Random sentence : \\n {random_train_chars}\")\n",
        "print(f\"\\nLength of our sentence : \\n {len(random_train_chars)}\")\n",
        "embedded_sentence = char_embed(char_vectorizer([random_train_chars]))\n",
        "print(f\"\\nEmbedded form of our sentence : \\n {embedded_sentence}\")\n",
        "print(f\"\\n Length of embedded form's sentence : \\n {len(embedded_sentence[0])}\")\n",
        "print(f\"\\n Shape of embedded form's sentence : \\n {embedded_sentence.shape}\")"
      ],
      "metadata": {
        "colab": {
          "base_uri": "https://localhost:8080/"
        },
        "id": "6V2jKXlgW4mi",
        "outputId": "7aad4139-c8f4-4407-f885-aa6eed04b3c3"
      },
      "execution_count": 68,
      "outputs": [
        {
          "output_type": "stream",
          "name": "stdout",
          "text": [
            "Random sentence : \n",
            " w e e k l y   c s t   m a y   n o t   o f f e r   t h e   n e c e s s a r y   ` `   d o s e   ' '   r e q u i r e d   t o   c o m b a t   d e c l i n e   ,   a n d   e q u a l l y   t h e   c a r e r   t r a i n i n g   m a y   h a v e   b e e n   t o o   b r i e f   t o   h a v e   m a d e   a   d i f f e r e n c e   .\n",
            "\n",
            "Length of our sentence : \n",
            " 321\n",
            "\n",
            "Embedded form of our sentence : \n",
            " [[[ 0.01081898  0.02700176  0.01790984 ...  0.01282891  0.04299638\n",
            "    0.00414034]\n",
            "  [-0.03783107 -0.04218037 -0.00883658 ...  0.01270692 -0.00521847\n",
            "    0.01558341]\n",
            "  [-0.03783107 -0.04218037 -0.00883658 ...  0.01270692 -0.00521847\n",
            "    0.01558341]\n",
            "  ...\n",
            "  [ 0.04788767  0.04932121  0.01274008 ...  0.0221805   0.03886631\n",
            "    0.04389359]\n",
            "  [ 0.04788767  0.04932121  0.01274008 ...  0.0221805   0.03886631\n",
            "    0.04389359]\n",
            "  [ 0.04788767  0.04932121  0.01274008 ...  0.0221805   0.03886631\n",
            "    0.04389359]]]\n",
            "\n",
            " Length of embedded form's sentence : \n",
            " 290\n",
            "\n",
            " Shape of embedded form's sentence : \n",
            " (1, 290, 25)\n"
          ]
        }
      ]
    },
    {
      "cell_type": "code",
      "source": [
        "# Create Conv1D model with character-level embedding\n",
        "from tensorflow.keras import layers\n",
        "\n",
        "inputs = layers.Input(shape = ( 1 ,) , dtype = tf.string)\n",
        "x = char_vectorizer(inputs)\n",
        "x = char_embed(x)\n",
        "x = layers.Conv1D( 64 , activation = \"relu\" , kernel_size = 5 , padding = \"same\")(x)\n",
        "x = layers.GlobalMaxPool1D()(x)  # Global average poolingte kötü sonuç alırsan maxpool dene.\n",
        "outputs = layers.Dense( 5 , activation = \"softmax\")(x)\n",
        "\n",
        "model_3 = tf.keras.Model( inputs , outputs)\n",
        "\n",
        "\n"
      ],
      "metadata": {
        "id": "Hn1St2ZYXil-"
      },
      "execution_count": 69,
      "outputs": []
    },
    {
      "cell_type": "code",
      "source": [
        "model_3.summary()"
      ],
      "metadata": {
        "colab": {
          "base_uri": "https://localhost:8080/"
        },
        "id": "r6Yh60VrZs-q",
        "outputId": "e9e45515-da37-4b0b-c84d-82491031949a"
      },
      "execution_count": 70,
      "outputs": [
        {
          "output_type": "stream",
          "name": "stdout",
          "text": [
            "Model: \"model_2\"\n",
            "_________________________________________________________________\n",
            " Layer (type)                Output Shape              Param #   \n",
            "=================================================================\n",
            " input_3 (InputLayer)        [(None, 1)]               0         \n",
            "                                                                 \n",
            " char_vectorizer (TextVector  (None, 290)              0         \n",
            " ization)                                                        \n",
            "                                                                 \n",
            " char_embed (Embedding)      (None, 290, 25)           700       \n",
            "                                                                 \n",
            " conv1d_1 (Conv1D)           (None, 290, 64)           8064      \n",
            "                                                                 \n",
            " global_max_pooling1d (Globa  (None, 64)               0         \n",
            " lMaxPooling1D)                                                  \n",
            "                                                                 \n",
            " dense_3 (Dense)             (None, 5)                 325       \n",
            "                                                                 \n",
            "=================================================================\n",
            "Total params: 9,089\n",
            "Trainable params: 9,089\n",
            "Non-trainable params: 0\n",
            "_________________________________________________________________\n"
          ]
        }
      ]
    },
    {
      "cell_type": "code",
      "source": [
        "train_dataset_char = tf.data.Dataset.from_tensor_slices((train_chars , train_labels_encoded))\n",
        "test_dataset_char = tf.data.Dataset.from_tensor_slices((test_chars , test_labels_encoded))\n",
        "val_dataset_char = tf.data.Dataset.from_tensor_slices((val_chars , val_labels_encoded))\n",
        "\n",
        "train_dataset_char = train_dataset_char.batch(32).prefetch(tf.data.AUTOTUNE)\n",
        "test_dataset_char = test_dataset_char.batch(32).prefetch(tf.data.AUTOTUNE)\n",
        "val_dataset_char = val_dataset_char.batch(32).prefetch(tf.data.AUTOTUNE)\n"
      ],
      "metadata": {
        "id": "24gLQjOOafnn"
      },
      "execution_count": 71,
      "outputs": []
    },
    {
      "cell_type": "code",
      "source": [
        "# Compile a model\n",
        "model_3.compile(loss = [\"categorical_crossentropy\"] ,\n",
        "                optimizer = tf.keras.optimizers.Adam() ,\n",
        "                metrics = [\"accuracy\"]\n",
        "                )\n",
        "\n",
        "# Fit the model\n",
        "\n",
        "hist_3 = model_3.fit(\n",
        "    train_dataset_char ,\n",
        "    epochs = 3 ,\n",
        "    validation_data = val_dataset_char\n",
        "\n",
        ")"
      ],
      "metadata": {
        "colab": {
          "base_uri": "https://localhost:8080/"
        },
        "id": "aizX7-MzZ1sQ",
        "outputId": "b53ce854-e04f-40c7-e21a-b9f757193a03"
      },
      "execution_count": 72,
      "outputs": [
        {
          "output_type": "stream",
          "name": "stdout",
          "text": [
            "Epoch 1/3\n",
            "5627/5627 [==============================] - 37s 6ms/step - loss: 0.8889 - accuracy: 0.6524 - val_loss: 0.7734 - val_accuracy: 0.7017\n",
            "Epoch 2/3\n",
            "5627/5627 [==============================] - 35s 6ms/step - loss: 0.7456 - accuracy: 0.7170 - val_loss: 0.7291 - val_accuracy: 0.7244\n",
            "Epoch 3/3\n",
            "5627/5627 [==============================] - 36s 6ms/step - loss: 0.7119 - accuracy: 0.7309 - val_loss: 0.7081 - val_accuracy: 0.7313\n"
          ]
        }
      ]
    },
    {
      "cell_type": "code",
      "source": [
        "# Make predictions with our character-level model\n",
        "model_3_pred_probs = model_3.predict(val_dataset_char)\n",
        "model_3_pred_probs\n"
      ],
      "metadata": {
        "colab": {
          "base_uri": "https://localhost:8080/"
        },
        "id": "3_05_b_pdzu2",
        "outputId": "28805b4e-30da-4923-f4a8-8f00d75daaf7"
      },
      "execution_count": 73,
      "outputs": [
        {
          "output_type": "stream",
          "name": "stdout",
          "text": [
            "945/945 [==============================] - 3s 3ms/step\n"
          ]
        },
        {
          "output_type": "execute_result",
          "data": {
            "text/plain": [
              "array([[1.2369172e-01, 3.0615273e-01, 4.0210506e-01, 1.4193895e-01,\n",
              "        2.6111582e-02],\n",
              "       [2.7844441e-01, 6.5162075e-01, 2.0741053e-04, 6.7821756e-02,\n",
              "        1.9057154e-03],\n",
              "       [1.8772940e-01, 4.1910835e-02, 8.8364966e-02, 6.7110980e-01,\n",
              "        1.0885003e-02],\n",
              "       ...,\n",
              "       [4.9068378e-03, 4.0562409e-03, 1.5788309e-02, 3.1084681e-03,\n",
              "        9.7214013e-01],\n",
              "       [6.0066427e-03, 4.6360940e-02, 1.7198378e-01, 8.2147513e-03,\n",
              "        7.6743388e-01],\n",
              "       [1.6460757e-01, 7.7995139e-01, 3.5606105e-02, 1.8324157e-02,\n",
              "        1.5107802e-03]], dtype=float32)"
            ]
          },
          "metadata": {},
          "execution_count": 73
        }
      ]
    },
    {
      "cell_type": "code",
      "source": [
        "# Convert prediction probabilities to classes\n",
        "model_3_pred = tf.argmax(model_3_pred_probs , axis = 1)\n",
        "model_3_pred"
      ],
      "metadata": {
        "colab": {
          "base_uri": "https://localhost:8080/"
        },
        "id": "vk0HsOJsd9gB",
        "outputId": "e4f671b8-39ec-4eec-8950-16b2fc8ef569"
      },
      "execution_count": 74,
      "outputs": [
        {
          "output_type": "execute_result",
          "data": {
            "text/plain": [
              "<tf.Tensor: shape=(30212,), dtype=int64, numpy=array([2, 1, 3, ..., 4, 4, 1])>"
            ]
          },
          "metadata": {},
          "execution_count": 74
        }
      ]
    },
    {
      "cell_type": "code",
      "source": [
        "# Calculate the results\n",
        "\n",
        "model_3_results = calculate_results(\n",
        "    y_true = val_labels_encoded_labelencoder ,\n",
        "    y_pred = model_3_pred\n",
        ")\n",
        "model_3_results"
      ],
      "metadata": {
        "colab": {
          "base_uri": "https://localhost:8080/"
        },
        "id": "VTH6pecjed9d",
        "outputId": "9c1333bb-cad3-40e0-82aa-43fc299290fb"
      },
      "execution_count": 75,
      "outputs": [
        {
          "output_type": "execute_result",
          "data": {
            "text/plain": [
              "{'accuracy': 73.13319210909572,\n",
              " 'precision': 0.7250596694687245,\n",
              " 'recall': 0.7313319210909572,\n",
              " 'f1': 0.7238035007448618}"
            ]
          },
          "metadata": {},
          "execution_count": 75
        }
      ]
    },
    {
      "cell_type": "markdown",
      "source": [
        "# Model 4 : Combining pretrained token embeddings + characters embeddings (hybrid embedding layer)\n",
        "\n",
        "1. Create a token-level embedding model (similar 'model_1')\n",
        "2. Create a character-level embedding model (similar 'model_3')\n",
        "3. Combine step 1 and 2 with a concatenate ('layers.Concatenate')\n",
        "4. Build a series of output layers on top of step 3 similar to figure 1 and section 4.2 in paper.\n",
        "5. Construct a model which takes token and character-level sequences as input and produces sequence label probabilities as output."
      ],
      "metadata": {
        "id": "J9Hw4Q9je836"
      }
    },
    {
      "cell_type": "code",
      "source": [
        "# 1. Setup token inputs/model. This is for step 1 : token-level embedding . We used pre-trained model from tensorflow hub.\n",
        "token_inputs = layers.Input(shape = [] , dtype = tf.string)\n",
        "token_embeddings = sentence_encoder_layer(token_inputs)\n",
        "token_outputs = layers.Dense( 128 , activation = \"relu\")(token_embeddings)\n",
        "token_model = tf.keras.Model(token_inputs , token_outputs)\n",
        "\n",
        "# 2. Setup char inputs/model. This is step 2 : character level embedding and we will use bidirectional LSTM layer\n",
        "char_inputs = layers.Input(shape = (1,) , dtype = tf.string)\n",
        "char_vectors = char_vectorizer(char_inputs)\n",
        "char_embeddings = char_embed(char_vectors)\n",
        "char_bi_lstm = layers.Bidirectional(layers.LSTM(24))(char_embeddings)  # bi_lstm shown in figure 1 https://arxiv.org/pdf/1612.05251.pdf\n",
        "char_model = tf.keras.Model(char_inputs , char_bi_lstm)\n",
        "\n",
        "# 3. Concatenate token and char outputs (hybrid token embedding)\n",
        "\n",
        "token_char_concat = tf.keras.layers.Concatenate(name = \"token_char_hybrid\")([\n",
        "    token_model.output ,  #.output ile modellerimizin outputunu çekiyoruz. Eğer papera bakarsak tokenla character embedding modellerinin outputlarını concatenate ediyoruz aslında burda bunu yaptık.\n",
        "    char_model.output\n",
        "])\n",
        "\n",
        "# 4. Create output layers - adding in DropOut , discussed in section 4.2\n",
        "combined_dropout = layers.Dropout(0.5)(token_char_concat)  # Dropout layer eklemek overfittingi önlüyor. 0.5 dediğimiz %50 demek oluyor. Overfitting train datayı çok iyi öğrenmek olduğu için dropout layerı modelin içindeki %50 lik kısmın weightslerini sıfırlıyor ve overfittingi önlüyor.\n",
        "# token_char_concat ile de dropout layerımızı matchliyoruz.\n",
        "combined_dense = layers.Dense( 128 , activation = \"relu\")(combined_dropout) # Paperda bi lstm layer var concatenate işleminden sonra biz onun yerine burda dense layer kullandık.\n",
        "final_dropout = layers.Dropout(0.5)(combined_dense)  # Paperda prediction layerdan önce de dropout yapıyor prediction layer dediğimiz şey aslında output layer.\n",
        "outputs_layer = layers.Dense( 5 , activation = \"softmax\")(final_dropout)\n",
        "\n",
        "# 5. Constract model with char and token inputs\n",
        "\n",
        "model_4= tf.keras.Model( [ token_model.input , char_model.input ] , outputs_layer )\n",
        "\n"
      ],
      "metadata": {
        "id": "ZjZxJDa3jDMk"
      },
      "execution_count": 76,
      "outputs": []
    },
    {
      "cell_type": "code",
      "source": [
        "model_4.summary()"
      ],
      "metadata": {
        "colab": {
          "base_uri": "https://localhost:8080/"
        },
        "id": "5xgN1cvqsFId",
        "outputId": "2924619a-287d-4bd2-c0c5-b5db49e52464"
      },
      "execution_count": 77,
      "outputs": [
        {
          "output_type": "stream",
          "name": "stdout",
          "text": [
            "Model: \"model_5\"\n",
            "__________________________________________________________________________________________________\n",
            " Layer (type)                   Output Shape         Param #     Connected to                     \n",
            "==================================================================================================\n",
            " input_5 (InputLayer)           [(None, 1)]          0           []                               \n",
            "                                                                                                  \n",
            " input_4 (InputLayer)           [(None,)]            0           []                               \n",
            "                                                                                                  \n",
            " char_vectorizer (TextVectoriza  (None, 290)         0           ['input_5[0][0]']                \n",
            " tion)                                                                                            \n",
            "                                                                                                  \n",
            " USE (KerasLayer)               (None, 512)          256797824   ['input_4[0][0]']                \n",
            "                                                                                                  \n",
            " char_embed (Embedding)         (None, 290, 25)      700         ['char_vectorizer[1][0]']        \n",
            "                                                                                                  \n",
            " dense_4 (Dense)                (None, 128)          65664       ['USE[1][0]']                    \n",
            "                                                                                                  \n",
            " bidirectional (Bidirectional)  (None, 48)           9600        ['char_embed[1][0]']             \n",
            "                                                                                                  \n",
            " token_char_hybrid (Concatenate  (None, 176)         0           ['dense_4[0][0]',                \n",
            " )                                                                'bidirectional[0][0]']          \n",
            "                                                                                                  \n",
            " dropout (Dropout)              (None, 176)          0           ['token_char_hybrid[0][0]']      \n",
            "                                                                                                  \n",
            " dense_5 (Dense)                (None, 128)          22656       ['dropout[0][0]']                \n",
            "                                                                                                  \n",
            " dropout_1 (Dropout)            (None, 128)          0           ['dense_5[0][0]']                \n",
            "                                                                                                  \n",
            " dense_6 (Dense)                (None, 5)            645         ['dropout_1[0][0]']              \n",
            "                                                                                                  \n",
            "==================================================================================================\n",
            "Total params: 256,897,089\n",
            "Trainable params: 99,265\n",
            "Non-trainable params: 256,797,824\n",
            "__________________________________________________________________________________________________\n"
          ]
        }
      ]
    },
    {
      "cell_type": "code",
      "source": [
        "# Plot hybrid token and character model\n",
        "from keras.utils import plot_model\n",
        "plot_model(model_4)"
      ],
      "metadata": {
        "colab": {
          "base_uri": "https://localhost:8080/",
          "height": 856
        },
        "id": "qYnZzccHsGST",
        "outputId": "f6638a95-8222-48cd-852c-06514c71d1cd"
      },
      "execution_count": 78,
      "outputs": [
        {
          "output_type": "execute_result",
          "data": {
            "image/png": "[encoded data removed]",
            "text/plain": [
              "<IPython.core.display.Image object>"
            ]
          },
          "metadata": {},
          "execution_count": 78
        }
      ]
    },
    {
      "cell_type": "code",
      "source": [
        "# Compile a model\n",
        "model_4.compile(loss = [\"categorical_crossentropy\"] ,\n",
        "                optimizer = tf.keras.optimizers.Adam() ,\n",
        "                metrics = [\"accuracy\"]\n",
        "                )\n"
      ],
      "metadata": {
        "id": "gmRjQsG-s9CA"
      },
      "execution_count": 79,
      "outputs": []
    },
    {
      "cell_type": "markdown",
      "source": [
        "# Combining token and character data into tf.data Dataset"
      ],
      "metadata": {
        "id": "bzPyI5spxQq9"
      }
    },
    {
      "cell_type": "code",
      "source": [
        "# Create dataset for our model\n",
        "# Combine chars and tokens into a dataset\n",
        "train_char_token_data = tf.data.Dataset.from_tensor_slices((train_sentences, train_chars)) # make data. Order önemli yani yukarıda modelimizi oluştururkenki model_4= tf.keras.Model( [ token_model.input , char_model.input ] , outputs_layer ) bu koddaki order neyse ona göre yazıcaz bunları da.\n",
        "train_char_token_labels = tf.data.Dataset.from_tensor_slices(train_labels_encoded) # make labels\n",
        "train_char_token_dataset = tf.data.Dataset.zip((train_char_token_data, train_char_token_labels)) # combine data and labels\n",
        "\n",
        "val_char_token_data = tf.data.Dataset.from_tensor_slices((val_sentences, val_chars)) # make data\n",
        "val_char_token_labels = tf.data.Dataset.from_tensor_slices(val_labels_encoded) # make labels\n",
        "val_char_token_dataset = tf.data.Dataset.zip((val_char_token_data, val_char_token_labels)) # combine data and labels\n",
        "\n",
        "test_char_token_data = tf.data.Dataset.from_tensor_slices((test_sentences, test_chars)) # make data\n",
        "test_char_token_labels = tf.data.Dataset.from_tensor_slices(test_labels_encoded) # make labels\n",
        "test_char_token_dataset = tf.data.Dataset.zip((test_char_token_data, test_char_token_labels)) # combine data and labels\n",
        "\n",
        "\n",
        "train_char_token_dataset = train_char_token_dataset.batch(32).prefetch(tf.data.AUTOTUNE)\n",
        "test_char_token_dataset = test_char_token_dataset.batch(32).prefetch(tf.data.AUTOTUNE)\n",
        "val_char_token_dataset = val_char_token_dataset.batch(32).prefetch(tf.data.AUTOTUNE)\n"
      ],
      "metadata": {
        "id": "m9zO10uvu5WL"
      },
      "execution_count": 80,
      "outputs": []
    },
    {
      "cell_type": "code",
      "source": [
        "# Fit the model\n",
        "hist_4 = model_4.fit(train_char_token_dataset,\n",
        "                              steps_per_epoch=int(0.1 * len(train_char_token_dataset)),\n",
        "                              epochs=3,\n",
        "                              validation_data=val_char_token_dataset,\n",
        "                              validation_steps=int(0.1 * len(val_char_token_dataset)))"
      ],
      "metadata": {
        "colab": {
          "base_uri": "https://localhost:8080/"
        },
        "id": "SdbIJEJ4wQ2o",
        "outputId": "b7a9d927-0b1b-4cea-d16c-ce4be8747822"
      },
      "execution_count": 81,
      "outputs": [
        {
          "output_type": "stream",
          "name": "stdout",
          "text": [
            "Epoch 1/3\n",
            "562/562 [==============================] - 44s 61ms/step - loss: 0.9823 - accuracy: 0.6099 - val_loss: 0.7839 - val_accuracy: 0.7018\n",
            "Epoch 2/3\n",
            "562/562 [==============================] - 30s 53ms/step - loss: 0.7980 - accuracy: 0.6900 - val_loss: 0.7176 - val_accuracy: 0.7294\n",
            "Epoch 3/3\n",
            "562/562 [==============================] - 27s 48ms/step - loss: 0.7779 - accuracy: 0.7001 - val_loss: 0.6834 - val_accuracy: 0.7450\n"
          ]
        }
      ]
    },
    {
      "cell_type": "code",
      "source": [
        "# Evaluate one the whole validation dataset\n",
        "model_4.evaluate(val_char_token_dataset)"
      ],
      "metadata": {
        "colab": {
          "base_uri": "https://localhost:8080/"
        },
        "id": "9yT1Muy73bZR",
        "outputId": "dd57f7d2-f0a8-4fb6-937d-1b63ebf013ec"
      },
      "execution_count": 82,
      "outputs": [
        {
          "output_type": "stream",
          "name": "stdout",
          "text": [
            "945/945 [==============================] - 30s 32ms/step - loss: 0.6925 - accuracy: 0.7363\n"
          ]
        },
        {
          "output_type": "execute_result",
          "data": {
            "text/plain": [
              "[0.6925005912780762, 0.7362968325614929]"
            ]
          },
          "metadata": {},
          "execution_count": 82
        }
      ]
    },
    {
      "cell_type": "code",
      "source": [
        "# Make predictions\n",
        "model_4_pred_probs = model_4.predict(val_char_token_dataset) # Prediction yaparken datamızı oluşturduğumuz y_true ları kullanmamız gerek çünkü ikisi aynı formatta ve biz aynı formatta olan şeylerle predict edebiliyoruz.\n",
        "model_4_pred_probs"
      ],
      "metadata": {
        "colab": {
          "base_uri": "https://localhost:8080/"
        },
        "id": "9oDHjvdf3krv",
        "outputId": "5fd5b0cb-38ec-4b58-8915-b5bdcd782fa9"
      },
      "execution_count": 83,
      "outputs": [
        {
          "output_type": "stream",
          "name": "stdout",
          "text": [
            "945/945 [==============================] - 24s 23ms/step\n"
          ]
        },
        {
          "output_type": "execute_result",
          "data": {
            "text/plain": [
              "array([[4.5994610e-01, 2.9908746e-01, 4.1525569e-03, 2.3124427e-01,\n",
              "        5.5695768e-03],\n",
              "       [3.9338312e-01, 3.6914158e-01, 3.6265322e-03, 2.3084413e-01,\n",
              "        3.0046159e-03],\n",
              "       [2.9620174e-01, 1.4195983e-01, 6.8742737e-02, 4.4950959e-01,\n",
              "        4.3586083e-02],\n",
              "       ...,\n",
              "       [3.2517890e-04, 5.2810088e-03, 6.8646632e-02, 1.5020854e-04,\n",
              "        9.2559701e-01],\n",
              "       [4.4849776e-03, 5.8439557e-02, 2.4379957e-01, 2.9035490e-03,\n",
              "        6.9037235e-01],\n",
              "       [2.6748991e-01, 3.7491202e-01, 2.8053823e-01, 2.7875874e-02,\n",
              "        4.9183935e-02]], dtype=float32)"
            ]
          },
          "metadata": {},
          "execution_count": 83
        }
      ]
    },
    {
      "cell_type": "code",
      "source": [
        "model_4_pred = tf.argmax(model_4_pred_probs , axis = 1)\n",
        "model_4_pred"
      ],
      "metadata": {
        "colab": {
          "base_uri": "https://localhost:8080/"
        },
        "id": "lt63j0mI35un",
        "outputId": "fd129c8b-f75f-4880-c6ee-3aab9114f095"
      },
      "execution_count": 84,
      "outputs": [
        {
          "output_type": "execute_result",
          "data": {
            "text/plain": [
              "<tf.Tensor: shape=(30212,), dtype=int64, numpy=array([0, 0, 3, ..., 4, 4, 1])>"
            ]
          },
          "metadata": {},
          "execution_count": 84
        }
      ]
    },
    {
      "cell_type": "code",
      "source": [
        "model_4_results = calculate_results(\n",
        "    y_true = val_labels_encoded_labelencoder ,\n",
        "    y_pred = model_4_pred\n",
        ")\n",
        "model_4_results"
      ],
      "metadata": {
        "colab": {
          "base_uri": "https://localhost:8080/"
        },
        "id": "HAgb9_1L3_dg",
        "outputId": "3995fc7a-e146-4ccb-dfd8-b0b9b7f0ac89"
      },
      "execution_count": 86,
      "outputs": [
        {
          "output_type": "execute_result",
          "data": {
            "text/plain": [
              "{'accuracy': 73.6296835694426,\n",
              " 'precision': 0.7357627470060758,\n",
              " 'recall': 0.736296835694426,\n",
              " 'f1': 0.7342777692622684}"
            ]
          },
          "metadata": {},
          "execution_count": 86
        }
      ]
    },
    {
      "cell_type": "code",
      "source": [],
      "metadata": {
        "id": "_308zawU7MJS"
      },
      "execution_count": null,
      "outputs": []
    }
  ]
}
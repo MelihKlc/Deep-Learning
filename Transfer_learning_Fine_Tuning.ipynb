{
  "nbformat": 4,
  "nbformat_minor": 0,
  "metadata": {
    "colab": {
      "provenance": [],
      "gpuType": "T4",
      "authorship_tag": "ABX9TyPWb8tFR8F0LKkLQWKhftEZ",
      "include_colab_link": true
    },
    "kernelspec": {
      "name": "python3",
      "display_name": "Python 3"
    },
    "language_info": {
      "name": "python"
    },
    "accelerator": "GPU"
  },
  "cells": [
    {
      "cell_type": "markdown",
      "metadata": {
        "id": "view-in-github",
        "colab_type": "text"
      },
      "source": [
        "<a href=\"https://colab.research.google.com/github/MelihKlc/Deep-Learning/blob/main/Transfer_learning_Fine_Tuning.ipynb\" target=\"_parent\"><img src=\"https://colab.research.google.com/assets/colab-badge.svg\" alt=\"Open In Colab\"/></a>"
      ]
    },
    {
      "cell_type": "markdown",
      "source": [
        "#Transfer learning with fine-tuning"
      ],
      "metadata": {
        "id": "1P0FTDRG1TKZ"
      }
    },
    {
      "cell_type": "code",
      "source": [
        "# We use script for all helper function.\n",
        "!wget https://raw.githubusercontent.com/mrdbourke/tensorflow-deep-learning/main/extras/helper_functions.py"
      ],
      "metadata": {
        "colab": {
          "base_uri": "https://localhost:8080/"
        },
        "id": "LI2GQEcp9qIY",
        "outputId": "c2ff376c-04e0-4eac-a342-7552b3a39250"
      },
      "execution_count": 12,
      "outputs": [
        {
          "output_type": "stream",
          "name": "stdout",
          "text": [
            "--2023-08-06 14:57:12--  https://raw.githubusercontent.com/mrdbourke/tensorflow-deep-learning/main/extras/helper_functions.py\n",
            "Resolving raw.githubusercontent.com (raw.githubusercontent.com)... 185.199.108.133, 185.199.109.133, 185.199.110.133, ...\n",
            "Connecting to raw.githubusercontent.com (raw.githubusercontent.com)|185.199.108.133|:443... connected.\n",
            "HTTP request sent, awaiting response... 200 OK\n",
            "Length: 10246 (10K) [text/plain]\n",
            "Saving to: ‘helper_functions.py.1’\n",
            "\n",
            "\rhelper_functions.py   0%[                    ]       0  --.-KB/s               \rhelper_functions.py 100%[===================>]  10.01K  --.-KB/s    in 0s      \n",
            "\n",
            "2023-08-06 14:57:12 (103 MB/s) - ‘helper_functions.py.1’ saved [10246/10246]\n",
            "\n"
          ]
        }
      ]
    },
    {
      "cell_type": "code",
      "source": [
        " # Import helper functions we are going to use in this notebook\n",
        " from helper_functions import create_tensorboard_callback , plot_loss_curves , unzip_data , walk_through_dir"
      ],
      "metadata": {
        "id": "NwSY9gZS9vmn"
      },
      "execution_count": 13,
      "outputs": []
    },
    {
      "cell_type": "markdown",
      "source": [
        "# Lets get some data\n",
        "\n",
        "This time we are going to see how we can use the pretrained models within tf.keras.applications and then apply them to our own problem (recognizing images of food)\n",
        "link : https://www.tensorflow.org/api_docs/python/tf/keras/applications\n"
      ],
      "metadata": {
        "id": "4YdUC97W_W44"
      }
    },
    {
      "cell_type": "code",
      "source": [
        "!wget https://storage.googleapis.com/ztm_tf_course/food_vision/10_food_classes_10_percent.zip"
      ],
      "metadata": {
        "colab": {
          "base_uri": "https://localhost:8080/"
        },
        "id": "-SvqP2s_B7nX",
        "outputId": "291e57aa-2b19-4100-cd4c-74a48b7ef0b9"
      },
      "execution_count": 14,
      "outputs": [
        {
          "output_type": "stream",
          "name": "stdout",
          "text": [
            "--2023-08-06 14:57:12--  https://storage.googleapis.com/ztm_tf_course/food_vision/10_food_classes_10_percent.zip\n",
            "Resolving storage.googleapis.com (storage.googleapis.com)... 108.177.119.128, 108.177.126.128, 108.177.127.128, ...\n",
            "Connecting to storage.googleapis.com (storage.googleapis.com)|108.177.119.128|:443... connected.\n",
            "HTTP request sent, awaiting response... 200 OK\n",
            "Length: 168546183 (161M) [application/zip]\n",
            "Saving to: ‘10_food_classes_10_percent.zip.1’\n",
            "\n",
            "10_food_classes_10_ 100%[===================>] 160.74M  41.1MB/s    in 4.5s    \n",
            "\n",
            "2023-08-06 14:57:17 (35.5 MB/s) - ‘10_food_classes_10_percent.zip.1’ saved [168546183/168546183]\n",
            "\n"
          ]
        }
      ]
    },
    {
      "cell_type": "code",
      "source": [
        "unzip_data(\"10_food_classes_10_percent.zip\")"
      ],
      "metadata": {
        "id": "KsLSiBO3CIa-"
      },
      "execution_count": 15,
      "outputs": []
    },
    {
      "cell_type": "code",
      "source": [
        "#Lets check out how many images and subdirectories are in our dataset\n",
        "walk_through_dir(\"10_food_classes_10_percent\")"
      ],
      "metadata": {
        "colab": {
          "base_uri": "https://localhost:8080/"
        },
        "id": "LHU6Q5vDCeDy",
        "outputId": "e1359467-e740-4e55-e902-7976037f7eb4"
      },
      "execution_count": 16,
      "outputs": [
        {
          "output_type": "stream",
          "name": "stdout",
          "text": [
            "There are 2 directories and 0 images in '10_food_classes_10_percent'.\n",
            "There are 10 directories and 0 images in '10_food_classes_10_percent/test'.\n",
            "There are 0 directories and 250 images in '10_food_classes_10_percent/test/sushi'.\n",
            "There are 0 directories and 250 images in '10_food_classes_10_percent/test/ramen'.\n",
            "There are 0 directories and 250 images in '10_food_classes_10_percent/test/steak'.\n",
            "There are 0 directories and 250 images in '10_food_classes_10_percent/test/fried_rice'.\n",
            "There are 0 directories and 250 images in '10_food_classes_10_percent/test/grilled_salmon'.\n",
            "There are 0 directories and 250 images in '10_food_classes_10_percent/test/pizza'.\n",
            "There are 0 directories and 250 images in '10_food_classes_10_percent/test/chicken_curry'.\n",
            "There are 0 directories and 250 images in '10_food_classes_10_percent/test/hamburger'.\n",
            "There are 0 directories and 250 images in '10_food_classes_10_percent/test/ice_cream'.\n",
            "There are 0 directories and 250 images in '10_food_classes_10_percent/test/chicken_wings'.\n",
            "There are 10 directories and 0 images in '10_food_classes_10_percent/train'.\n",
            "There are 0 directories and 75 images in '10_food_classes_10_percent/train/sushi'.\n",
            "There are 0 directories and 75 images in '10_food_classes_10_percent/train/ramen'.\n",
            "There are 0 directories and 75 images in '10_food_classes_10_percent/train/steak'.\n",
            "There are 0 directories and 75 images in '10_food_classes_10_percent/train/fried_rice'.\n",
            "There are 0 directories and 75 images in '10_food_classes_10_percent/train/grilled_salmon'.\n",
            "There are 0 directories and 75 images in '10_food_classes_10_percent/train/pizza'.\n",
            "There are 0 directories and 75 images in '10_food_classes_10_percent/train/chicken_curry'.\n",
            "There are 0 directories and 75 images in '10_food_classes_10_percent/train/hamburger'.\n",
            "There are 0 directories and 75 images in '10_food_classes_10_percent/train/ice_cream'.\n",
            "There are 0 directories and 75 images in '10_food_classes_10_percent/train/chicken_wings'.\n"
          ]
        }
      ]
    },
    {
      "cell_type": "code",
      "source": [
        "# Create training and test directory path\n",
        "train_dir = \"/content/10_food_classes_10_percent/train\"\n",
        "test_dir = \"/content/10_food_classes_10_percent/test\"\n",
        "\n",
        "#We will use different class. This class is faster than ImageDataGenerator. Yani bu sefer datagen olusturmamıza gerek olmayacak direkt bu fonksiyonun icinde halledicez hepsini.\n",
        "import tensorflow as tf\n",
        "train_data = tf.keras.preprocessing.image_dataset_from_directory(directory = train_dir ,\n",
        "                                                                 batch_size = 32 ,\n",
        "                                                                 image_size = (224,224) ,\n",
        "                                                                 label_mode = \"categorical\"\n",
        "                                                                 )\n",
        "test_data = tf.keras.preprocessing.image_dataset_from_directory(directory = test_dir ,\n",
        "                                                                batch_size = 32 ,\n",
        "                                                                image_size = (224,224) ,\n",
        "                                                                label_mode = \"categorical\"\n",
        "                                                                )"
      ],
      "metadata": {
        "colab": {
          "base_uri": "https://localhost:8080/"
        },
        "id": "razh4eW0C05t",
        "outputId": "aa9e8e29-ac08-4235-c8ee-a9681d1d59c6"
      },
      "execution_count": 17,
      "outputs": [
        {
          "output_type": "stream",
          "name": "stdout",
          "text": [
            "Found 750 files belonging to 10 classes.\n",
            "Found 2500 files belonging to 10 classes.\n"
          ]
        }
      ]
    },
    {
      "cell_type": "code",
      "source": [
        "train_data  #Batch dataset olarak geldi tensor. None kısmı aslında batch size. 10 classes"
      ],
      "metadata": {
        "colab": {
          "base_uri": "https://localhost:8080/"
        },
        "id": "orVsFWuFEy2w",
        "outputId": "73020aa4-9e2b-4d1d-aa87-d826ef89e5e2"
      },
      "execution_count": 18,
      "outputs": [
        {
          "output_type": "execute_result",
          "data": {
            "text/plain": [
              "<_BatchDataset element_spec=(TensorSpec(shape=(None, 224, 224, 3), dtype=tf.float32, name=None), TensorSpec(shape=(None, 10), dtype=tf.float32, name=None))>"
            ]
          },
          "metadata": {},
          "execution_count": 18
        }
      ]
    },
    {
      "cell_type": "code",
      "source": [
        "# Check out the classnames our dataset\n",
        "train_data.class_names"
      ],
      "metadata": {
        "colab": {
          "base_uri": "https://localhost:8080/"
        },
        "id": "Jn3uINHKHTwD",
        "outputId": "ca0590fc-0dd0-492e-a60f-3f6f754cdbc2"
      },
      "execution_count": 19,
      "outputs": [
        {
          "output_type": "execute_result",
          "data": {
            "text/plain": [
              "['chicken_curry',\n",
              " 'chicken_wings',\n",
              " 'fried_rice',\n",
              " 'grilled_salmon',\n",
              " 'hamburger',\n",
              " 'ice_cream',\n",
              " 'pizza',\n",
              " 'ramen',\n",
              " 'steak',\n",
              " 'sushi']"
            ]
          },
          "metadata": {},
          "execution_count": 19
        }
      ]
    },
    {
      "cell_type": "code",
      "source": [
        "# See an example of a batch of data\n",
        "for images , labels in train_data.take(1): #take bizim batchimizi unravel(çözmek) etmemizi sağlıyor. Girdiğimiz 1 de 1 batch al demek\n",
        "  print(images , labels)"
      ],
      "metadata": {
        "colab": {
          "base_uri": "https://localhost:8080/"
        },
        "id": "_qOs4QxTHrTk",
        "outputId": "c401c8e5-1f92-43ef-b10a-cdee9c69f9fa"
      },
      "execution_count": 20,
      "outputs": [
        {
          "output_type": "stream",
          "name": "stdout",
          "text": [
            "tf.Tensor(\n",
            "[[[[3.53265305e+01 2.53265305e+01 2.43265305e+01]\n",
            "   [3.81428566e+01 2.81428585e+01 2.71428585e+01]\n",
            "   [4.07091827e+01 2.87091827e+01 2.87091827e+01]\n",
            "   ...\n",
            "   [8.02092972e+01 2.11918442e+02 1.35275650e+02]\n",
            "   [8.19744339e+01 2.13377502e+02 1.37377502e+02]\n",
            "   [8.21277008e+01 2.13301224e+02 1.38714462e+02]]\n",
            "\n",
            "  [[3.39285736e+01 2.39285717e+01 2.19285717e+01]\n",
            "   [3.69897995e+01 2.69897957e+01 2.59897957e+01]\n",
            "   [3.45000000e+01 2.25000000e+01 2.25000000e+01]\n",
            "   ...\n",
            "   [7.79388046e+01 2.05984711e+02 1.30540878e+02]\n",
            "   [8.32653275e+01 2.11280640e+02 1.36275528e+02]\n",
            "   [8.73571777e+01 2.15433716e+02 1.40408203e+02]]\n",
            "\n",
            "  [[3.17244911e+01 2.15102043e+01 1.95102043e+01]\n",
            "   [3.46275520e+01 2.36275520e+01 2.16275520e+01]\n",
            "   [3.42142868e+01 2.23826542e+01 2.20459194e+01]\n",
            "   ...\n",
            "   [7.99795761e+01 2.05979584e+02 1.32193863e+02]\n",
            "   [7.94132996e+01 2.05413300e+02 1.31627594e+02]\n",
            "   [8.12856445e+01 2.07285645e+02 1.33499924e+02]]\n",
            "\n",
            "  ...\n",
            "\n",
            "  [[1.38521576e+01 2.28521576e+01 3.78521576e+01]\n",
            "   [1.39540863e+01 2.59540863e+01 4.15255585e+01]\n",
            "   [1.28112078e+01 2.50254936e+01 4.12397804e+01]\n",
            "   ...\n",
            "   [8.00000000e+00 8.00000000e+00 1.00000000e+01]\n",
            "   [8.00000000e+00 8.00000000e+00 1.00000000e+01]\n",
            "   [8.00000000e+00 8.00000000e+00 1.00000000e+01]]\n",
            "\n",
            "  [[1.96224308e+01 2.86224308e+01 4.56224327e+01]\n",
            "   [1.59897938e+01 2.79897938e+01 4.39897957e+01]\n",
            "   [1.68980045e+01 2.83265781e+01 4.65408630e+01]\n",
            "   ...\n",
            "   [8.00000000e+00 8.00000000e+00 1.00000000e+01]\n",
            "   [8.00000000e+00 8.00000000e+00 1.00000000e+01]\n",
            "   [8.00000000e+00 8.00000000e+00 1.00000000e+01]]\n",
            "\n",
            "  [[2.08572464e+01 2.98572464e+01 4.68572464e+01]\n",
            "   [2.00919724e+01 3.20919724e+01 4.80919724e+01]\n",
            "   [2.62042408e+01 3.76328125e+01 5.58470993e+01]\n",
            "   ...\n",
            "   [8.00000000e+00 8.00000000e+00 1.00000000e+01]\n",
            "   [8.00000000e+00 8.00000000e+00 1.00000000e+01]\n",
            "   [8.00000000e+00 8.00000000e+00 1.00000000e+01]]]\n",
            "\n",
            "\n",
            " [[[1.22959185e+00 3.22959185e+00 0.00000000e+00]\n",
            "   [6.42857194e-01 2.28571439e+00 0.00000000e+00]\n",
            "   [1.14795923e+00 3.07142854e+00 0.00000000e+00]\n",
            "   ...\n",
            "   [3.08164740e+00 5.08164740e+00 4.08164740e+00]\n",
            "   [4.76021004e+00 6.76021004e+00 5.76021004e+00]\n",
            "   [4.14286137e+00 6.14286137e+00 5.14286137e+00]]\n",
            "\n",
            "  [[1.35714293e+00 3.35714293e+00 3.57142866e-01]\n",
            "   [2.00510192e+00 4.00510216e+00 1.00510204e+00]\n",
            "   [2.80102015e+00 4.80102015e+00 1.80102026e+00]\n",
            "   ...\n",
            "   [1.28572273e+00 3.28572273e+00 2.28572273e+00]\n",
            "   [3.79595089e+00 5.79595089e+00 4.79595089e+00]\n",
            "   [3.88265371e+00 5.88265371e+00 4.88265371e+00]]\n",
            "\n",
            "  [[0.00000000e+00 3.93367362e+00 3.14795947e+00]\n",
            "   [0.00000000e+00 3.37244940e+00 2.58673525e+00]\n",
            "   [0.00000000e+00 3.26020432e+00 2.47449017e+00]\n",
            "   ...\n",
            "   [1.64285755e+00 3.64285755e+00 2.64285755e+00]\n",
            "   [7.14268684e-01 2.71426868e+00 1.71426868e+00]\n",
            "   [7.65315965e-02 1.57143307e+00 5.71433067e-01]]\n",
            "\n",
            "  ...\n",
            "\n",
            "  [[2.31480389e+01 9.36230278e+00 1.01023209e+00]\n",
            "   [2.01989803e+01 6.41324520e+00 0.00000000e+00]\n",
            "   [2.46378288e+01 1.08520918e+01 1.85209191e+00]\n",
            "   ...\n",
            "   [1.30428680e+02 6.70000916e+01 3.30715637e+01]\n",
            "   [1.20627335e+02 5.56273384e+01 2.74845161e+01]\n",
            "   [1.14591858e+02 4.85918617e+01 2.41633339e+01]]\n",
            "\n",
            "  [[2.79081326e+01 1.09081335e+01 3.90813303e+00]\n",
            "   [3.08418350e+01 1.38418341e+01 6.84183407e+00]\n",
            "   [2.70458488e+01 1.00458488e+01 3.21424675e+00]\n",
            "   ...\n",
            "   [1.28698898e+02 6.60713196e+01 2.98570251e+01]\n",
            "   [1.29561142e+02 6.45662460e+01 3.42703400e+01]\n",
            "   [1.20826439e+02 5.48978767e+01 2.87549953e+01]]\n",
            "\n",
            "  [[2.90868626e+01 1.20868616e+01 5.08686209e+00]\n",
            "   [3.22602730e+01 1.42602711e+01 1.02602711e+01]\n",
            "   [2.22041721e+01 4.20417213e+00 1.21432114e+00]\n",
            "   ...\n",
            "   [1.22495056e+02 6.09287109e+01 1.77042179e+01]\n",
            "   [1.19173439e+02 5.51989441e+01 1.89796009e+01]\n",
            "   [1.23984993e+02 5.91125603e+01 2.75563450e+01]]]\n",
            "\n",
            "\n",
            " [[[1.29346939e+02 9.53469391e+01 9.33469391e+01]\n",
            "   [1.27826530e+02 9.38265305e+01 9.21836777e+01]\n",
            "   [1.26683678e+02 9.26836777e+01 9.16836777e+01]\n",
            "   ...\n",
            "   [2.02571335e+02 2.00999863e+02 2.11785599e+02]\n",
            "   [1.99311203e+02 1.97311203e+02 2.08311203e+02]\n",
            "   [1.93101913e+02 1.91101913e+02 2.02101913e+02]]\n",
            "\n",
            "  [[1.31500000e+02 9.85000000e+01 9.23061218e+01]\n",
            "   [1.33785721e+02 1.00785713e+02 9.57857132e+01]\n",
            "   [1.32688782e+02 9.96173477e+01 9.48316345e+01]\n",
            "   ...\n",
            "   [2.06499939e+02 2.04928467e+02 2.15714203e+02]\n",
            "   [1.97790771e+02 1.95790771e+02 2.06790771e+02]\n",
            "   [1.93617310e+02 1.91617310e+02 2.02617310e+02]]\n",
            "\n",
            "  [[1.31775513e+02 9.77755127e+01 8.85612259e+01]\n",
            "   [1.34270416e+02 1.00270416e+02 9.10561295e+01]\n",
            "   [1.40913269e+02 1.06678574e+02 9.98673477e+01]\n",
            "   ...\n",
            "   [2.02025452e+02 1.99811157e+02 2.10811157e+02]\n",
            "   [1.97857101e+02 1.94857101e+02 2.05857101e+02]\n",
            "   [1.89418243e+02 1.86418243e+02 1.97418243e+02]]\n",
            "\n",
            "  ...\n",
            "\n",
            "  [[2.22928619e+02 2.28928619e+02 2.24928619e+02]\n",
            "   [2.20841858e+02 2.26841858e+02 2.22841858e+02]\n",
            "   [2.18739807e+02 2.24357162e+02 2.19591888e+02]\n",
            "   ...\n",
            "   [2.54000000e+02 2.54000000e+02 2.54000000e+02]\n",
            "   [2.54000000e+02 2.54000000e+02 2.54000000e+02]\n",
            "   [2.54000000e+02 2.54000000e+02 2.54000000e+02]]\n",
            "\n",
            "  [[2.25785721e+02 2.31785721e+02 2.27785721e+02]\n",
            "   [2.21209198e+02 2.27209198e+02 2.23209198e+02]\n",
            "   [2.18841858e+02 2.24841858e+02 2.20841858e+02]\n",
            "   ...\n",
            "   [2.54000000e+02 2.54000000e+02 2.54000000e+02]\n",
            "   [2.54000000e+02 2.54000000e+02 2.54000000e+02]\n",
            "   [2.54000000e+02 2.54000000e+02 2.54000000e+02]]\n",
            "\n",
            "  [[2.29071457e+02 2.35071457e+02 2.31071457e+02]\n",
            "   [2.23500031e+02 2.29500031e+02 2.25500031e+02]\n",
            "   [2.21005142e+02 2.27005142e+02 2.23005142e+02]\n",
            "   ...\n",
            "   [2.54000000e+02 2.54000000e+02 2.54000000e+02]\n",
            "   [2.54000000e+02 2.54000000e+02 2.54000000e+02]\n",
            "   [2.54000000e+02 2.54000000e+02 2.54000000e+02]]]\n",
            "\n",
            "\n",
            " ...\n",
            "\n",
            "\n",
            " [[[1.10627548e+02 8.96275482e+01 9.46275482e+01]\n",
            "   [1.02862244e+02 7.98622437e+01 8.58622437e+01]\n",
            "   [9.73418350e+01 7.43418350e+01 8.43418350e+01]\n",
            "   ...\n",
            "   [2.03198715e+02 1.63198715e+02 1.27198723e+02]\n",
            "   [2.01877487e+02 1.59877487e+02 1.19877487e+02]\n",
            "   [1.94755020e+02 1.52755020e+02 1.12755020e+02]]\n",
            "\n",
            "  [[1.09642860e+02 8.76428604e+01 9.06428604e+01]\n",
            "   [1.05862244e+02 8.28622437e+01 8.88622437e+01]\n",
            "   [1.09913269e+02 8.69132690e+01 9.49132690e+01]\n",
            "   ...\n",
            "   [2.02846756e+02 1.62846756e+02 1.26846756e+02]\n",
            "   [2.09056137e+02 1.67056137e+02 1.27056129e+02]\n",
            "   [2.08760025e+02 1.66760025e+02 1.26760025e+02]]\n",
            "\n",
            "  [[1.06923470e+02 8.49234695e+01 8.79234695e+01]\n",
            "   [1.10484695e+02 8.84846954e+01 9.14846954e+01]\n",
            "   [1.18454086e+02 9.57602081e+01 1.01071434e+02]\n",
            "   ...\n",
            "   [2.08341949e+02 1.68341949e+02 1.32341949e+02]\n",
            "   [2.10397919e+02 1.68397919e+02 1.28397919e+02]\n",
            "   [2.11704025e+02 1.69704025e+02 1.29704025e+02]]\n",
            "\n",
            "  ...\n",
            "\n",
            "  [[1.89642792e+02 1.44642792e+02 7.92142639e+01]\n",
            "   [1.89642792e+02 1.44642792e+02 7.92142639e+01]\n",
            "   [1.89260162e+02 1.44260162e+02 7.84948807e+01]\n",
            "   ...\n",
            "   [1.85571472e+02 1.41214264e+02 9.79286804e+01]\n",
            "   [1.88785736e+02 1.44214264e+02 1.03112267e+02]\n",
            "   [1.88785736e+02 1.44214264e+02 1.04571472e+02]]\n",
            "\n",
            "  [[1.90357147e+02 1.44357147e+02 8.23571396e+01]\n",
            "   [1.88933655e+02 1.42933655e+02 8.09336624e+01]\n",
            "   [1.89000000e+02 1.44000000e+02 7.90000000e+01]\n",
            "   ...\n",
            "   [1.85443832e+02 1.40443832e+02 9.95561066e+01]\n",
            "   [1.83147980e+02 1.38010208e+02 9.94235458e+01]\n",
            "   [1.86597015e+02 1.40597015e+02 1.04739906e+02]]\n",
            "\n",
            "  [[1.91428680e+02 1.45428680e+02 8.54286728e+01]\n",
            "   [1.88785782e+02 1.42785782e+02 8.07857819e+01]\n",
            "   [1.89285812e+02 1.43285812e+02 8.12858200e+01]\n",
            "   ...\n",
            "   [1.88066360e+02 1.43066360e+02 1.03637825e+02]\n",
            "   [1.86352066e+02 1.40352066e+02 1.05158272e+02]\n",
            "   [1.85673309e+02 1.39673309e+02 1.05673317e+02]]]\n",
            "\n",
            "\n",
            " [[[1.00561228e+01 1.10561228e+01 5.05612230e+00]\n",
            "   [5.96683769e+01 6.06683769e+01 5.46683769e+01]\n",
            "   [1.33785706e+02 1.36785706e+02 1.27785713e+02]\n",
            "   ...\n",
            "   [2.12040977e+01 2.26326256e+01 1.51326466e+01]\n",
            "   [2.39030571e+01 2.49030571e+01 1.89030571e+01]\n",
            "   [2.17244358e+01 2.27244358e+01 1.67244358e+01]]\n",
            "\n",
            "  [[9.40306091e+00 1.04030609e+01 5.40306139e+00]\n",
            "   [5.37908249e+01 5.47908249e+01 4.87908249e+01]\n",
            "   [1.23198982e+02 1.26198982e+02 1.17198982e+02]\n",
            "   ...\n",
            "   [2.03163681e+01 2.13010635e+01 1.56173639e+01]\n",
            "   [1.76479473e+01 1.87193756e+01 1.37193756e+01]\n",
            "   [1.98317356e+01 2.09031639e+01 1.49745922e+01]]\n",
            "\n",
            "  [[1.02806120e+01 1.12806120e+01 6.28061247e+00]\n",
            "   [5.20000076e+01 5.30000076e+01 4.70000076e+01]\n",
            "   [1.16617348e+02 1.19617348e+02 1.10280617e+02]\n",
            "   ...\n",
            "   [1.49795580e+01 1.51479301e+01 1.42142420e+01]\n",
            "   [1.40561323e+01 1.60561333e+01 1.26275606e+01]\n",
            "   [1.50867224e+01 1.70867233e+01 1.36581507e+01]]\n",
            "\n",
            "  ...\n",
            "\n",
            "  [[3.77857056e+01 2.37857056e+01 1.47857056e+01]\n",
            "   [3.68010101e+01 2.28010120e+01 1.38010120e+01]\n",
            "   [3.67397842e+01 2.27397842e+01 1.37397852e+01]\n",
            "   ...\n",
            "   [1.12877533e+02 9.92142944e+01 8.63826141e+01]\n",
            "   [1.15530525e+02 1.04173409e+02 8.99591141e+01]\n",
            "   [1.09862244e+02 1.00862244e+02 8.58622437e+01]]\n",
            "\n",
            "  [[3.82602272e+01 2.42602291e+01 1.52602272e+01]\n",
            "   [3.60714264e+01 2.20714283e+01 1.30714283e+01]\n",
            "   [3.39285355e+01 1.99285355e+01 1.09285364e+01]\n",
            "   ...\n",
            "   [1.14484665e+02 1.02056137e+02 8.82704010e+01]\n",
            "   [1.10066307e+02 1.00137718e+02 8.79234848e+01]\n",
            "   [1.09357178e+02 1.01285767e+02 8.81429443e+01]]\n",
            "\n",
            "  [[3.67142944e+01 2.27142944e+01 1.37142944e+01]\n",
            "   [3.60255089e+01 2.20255108e+01 1.30255108e+01]\n",
            "   [3.52091751e+01 2.12091732e+01 1.22091742e+01]\n",
            "   ...\n",
            "   [1.12857117e+02 1.00428589e+02 8.66428528e+01]\n",
            "   [1.05500031e+02 9.75000305e+01 8.45000305e+01]\n",
            "   [1.07428589e+02 1.00714294e+02 8.70714417e+01]]]\n",
            "\n",
            "\n",
            " [[[3.45714264e+01 3.25714264e+01 3.55714264e+01]\n",
            "   [3.26683655e+01 3.06683655e+01 3.36683655e+01]\n",
            "   [2.40000000e+01 2.20000000e+01 2.50000000e+01]\n",
            "   ...\n",
            "   [1.21377411e+01 1.61377411e+01 1.91377411e+01]\n",
            "   [8.81118965e+00 1.28111897e+01 1.58111897e+01]\n",
            "   [5.99996519e+00 6.99996519e+00 1.09999647e+01]]\n",
            "\n",
            "  [[1.44285698e+01 1.24285698e+01 1.54285698e+01]\n",
            "   [1.24999981e+01 1.04999981e+01 1.34999981e+01]\n",
            "   [1.11836729e+01 9.18367290e+00 1.21836729e+01]\n",
            "   ...\n",
            "   [1.44846516e+01 1.54846516e+01 1.94846516e+01]\n",
            "   [9.92345524e+00 1.09234552e+01 1.49234552e+01]\n",
            "   [6.57139397e+00 7.57139397e+00 1.15713940e+01]]\n",
            "\n",
            "  [[1.20000000e+01 1.00000000e+01 1.50000000e+01]\n",
            "   [1.21989794e+01 1.01989794e+01 1.51989794e+01]\n",
            "   [1.30000000e+01 1.10000000e+01 1.60000000e+01]\n",
            "   ...\n",
            "   [1.45969219e+01 1.34285498e+01 1.84285507e+01]\n",
            "   [1.21428442e+01 1.09285583e+01 1.59285583e+01]\n",
            "   [1.12142859e+01 1.00000000e+01 1.50000000e+01]]\n",
            "\n",
            "  ...\n",
            "\n",
            "  [[1.53566513e+02 1.53780777e+02 1.45780777e+02]\n",
            "   [1.45071243e+02 1.44499771e+02 1.38856979e+02]\n",
            "   [2.86063232e+01 2.79889355e+01 2.42491589e+01]\n",
            "   ...\n",
            "   [1.14505371e+02 1.00362427e+02 7.95766907e+01]\n",
            "   [1.35418320e+02 1.17489754e+02 9.33468704e+01]\n",
            "   [1.50541092e+02 1.30617630e+02 1.03388031e+02]]\n",
            "\n",
            "  [[1.56938599e+02 1.55938599e+02 1.50938599e+02]\n",
            "   [5.71219292e+01 5.61219292e+01 5.11882706e+01]\n",
            "   [1.41480131e+01 1.29337273e+01 1.15765848e+01]\n",
            "   ...\n",
            "   [1.04331749e+02 9.18061981e+01 7.30051575e+01]\n",
            "   [1.39020416e+02 1.22954079e+02 9.80204163e+01]\n",
            "   [1.43887466e+02 1.24025246e+02 9.89793167e+01]]\n",
            "\n",
            "  [[9.43407288e+01 9.33407288e+01 8.83407288e+01]\n",
            "   [1.13981552e+01 1.03981552e+01 6.39815521e+00]\n",
            "   [1.48875551e+01 1.36732693e+01 1.23161268e+01]\n",
            "   ...\n",
            "   [1.17138573e+02 1.05209892e+02 8.67711868e+01]\n",
            "   [1.35444336e+02 1.19444336e+02 9.63014526e+01]\n",
            "   [1.39780457e+02 1.22780457e+02 9.67804565e+01]]]], shape=(32, 224, 224, 3), dtype=float32) tf.Tensor(\n",
            "[[1. 0. 0. 0. 0. 0. 0. 0. 0. 0.]\n",
            " [0. 0. 0. 0. 0. 0. 1. 0. 0. 0.]\n",
            " [0. 0. 0. 0. 0. 0. 0. 0. 1. 0.]\n",
            " [0. 0. 0. 1. 0. 0. 0. 0. 0. 0.]\n",
            " [0. 0. 0. 0. 0. 0. 0. 1. 0. 0.]\n",
            " [0. 0. 0. 0. 0. 0. 0. 1. 0. 0.]\n",
            " [0. 1. 0. 0. 0. 0. 0. 0. 0. 0.]\n",
            " [0. 1. 0. 0. 0. 0. 0. 0. 0. 0.]\n",
            " [0. 0. 1. 0. 0. 0. 0. 0. 0. 0.]\n",
            " [0. 0. 0. 1. 0. 0. 0. 0. 0. 0.]\n",
            " [0. 0. 0. 0. 0. 0. 0. 1. 0. 0.]\n",
            " [1. 0. 0. 0. 0. 0. 0. 0. 0. 0.]\n",
            " [0. 0. 0. 0. 0. 0. 0. 0. 1. 0.]\n",
            " [0. 0. 0. 0. 1. 0. 0. 0. 0. 0.]\n",
            " [0. 0. 1. 0. 0. 0. 0. 0. 0. 0.]\n",
            " [0. 0. 0. 0. 0. 1. 0. 0. 0. 0.]\n",
            " [0. 0. 0. 0. 0. 0. 1. 0. 0. 0.]\n",
            " [0. 0. 0. 0. 1. 0. 0. 0. 0. 0.]\n",
            " [0. 0. 0. 0. 0. 0. 1. 0. 0. 0.]\n",
            " [1. 0. 0. 0. 0. 0. 0. 0. 0. 0.]\n",
            " [0. 0. 0. 0. 0. 1. 0. 0. 0. 0.]\n",
            " [0. 0. 0. 0. 0. 0. 0. 0. 0. 1.]\n",
            " [1. 0. 0. 0. 0. 0. 0. 0. 0. 0.]\n",
            " [0. 0. 0. 0. 0. 1. 0. 0. 0. 0.]\n",
            " [0. 0. 0. 0. 0. 0. 0. 0. 0. 1.]\n",
            " [0. 0. 0. 0. 0. 1. 0. 0. 0. 0.]\n",
            " [0. 0. 0. 0. 0. 1. 0. 0. 0. 0.]\n",
            " [1. 0. 0. 0. 0. 0. 0. 0. 0. 0.]\n",
            " [0. 0. 1. 0. 0. 0. 0. 0. 0. 0.]\n",
            " [0. 0. 0. 0. 0. 0. 0. 1. 0. 0.]\n",
            " [0. 0. 0. 0. 1. 0. 0. 0. 0. 0.]\n",
            " [0. 0. 0. 0. 0. 1. 0. 0. 0. 0.]], shape=(32, 10), dtype=float32)\n"
          ]
        }
      ]
    },
    {
      "cell_type": "markdown",
      "source": [
        "# Model 0 : Building a transfer learning feature extraction model using the Keras functional API\n",
        "\n",
        "The sequential API is straightforward , it runs our layers in sequential order.\n",
        "\n",
        "But the functional API gives us more flexibility with our models"
      ],
      "metadata": {
        "id": "1Ktt4KrdISAD"
      }
    },
    {
      "cell_type": "code",
      "source": [
        "# 1. Create a base model with tf.keras.applications\n",
        "base_model = tf.keras.applications.EfficientNetB0(include_top = False)  #Top layer aslında output layer oluyor biz bunu değiştireceğimiz için false yapıyoruz.\n",
        "\n",
        "# 2. Freeze the base model ( so the underlying pre-trained patterns arent updated)\n",
        "base_model.trainable = False\n",
        "\n",
        "# 3. Create inputs into our model\n",
        "inputs = tf.keras.layers.Input(shape = (224,224,3) , name = \"input_layer\")\n",
        "\n",
        "# 4. If using resnet50v2 you will need to normalize inputs. But in efficientnetb0 , we dont have to.\n",
        "# x = tf.keras.layers.experimental.preprocessing.Rescaling(1./255)(inputs)  eğer normalize yapmamız gerekirse böyle yapıyoruz.\n",
        "\n",
        "# 5. Pass the inputs to the base model\n",
        "x = base_model(inputs)  #base model inputlarımızı alıyor bu şekilde\n",
        "print(f\"Shape after passing inputs through base model: {x.shape}\")\n",
        "\n",
        "# 6. Average pool the outputs of the base model (aggregate all the most important informations , reduce number of computations)\n",
        "x = tf.keras.layers.GlobalAveragePooling2D(name = \"global_average_pooling_layer\")(x)  #aslında bu x i sona koydugumuzda yukarda olusturdugumuz x = basemodel kısmını buraya baglamıs oluyoruz.\n",
        "print(f\"Shape after GlobalAveragePooling2D : {x.shape}\")\n",
        "\n",
        "# 7. Create the output activation layer\n",
        "outputs = tf.keras.layers.Dense(10 , activation = \"softmax\" , name = \"output_layer\")(x)\n",
        "\n",
        "# 8. Combine the inputs with the outputs into a model\n",
        "model_0 = tf.keras.Model(inputs , outputs)\n",
        "\n",
        "# 9. Compile a model\n",
        "\n",
        "model_0.compile(loss = [\"categorical_crossentropy\"] ,\n",
        "                optimizer = tf.keras.optimizers.Adam() ,\n",
        "                metrics = [\"accuracy\"]\n",
        "                )\n",
        "# 10. Fit the model\n",
        "\n",
        "hist_0 = model_0.fit( train_data , epochs = 5 , steps_per_epoch = len(train_data) , validation_data = test_data , validation_steps = int( 0.25 * len(test_data)) , callbacks = [create_tensorboard_callback(dir_name = \"transfer_learning\" , experiment_name = \"10_percent_feature_extractor\") ]) # test datanın %25 ini alıyoruz\n"
      ],
      "metadata": {
        "colab": {
          "base_uri": "https://localhost:8080/",
          "height": 513
        },
        "id": "vEMFwEkwQMRX",
        "outputId": "fb720c3d-33bd-42da-ef2f-104729f570b9"
      },
      "execution_count": 23,
      "outputs": [
        {
          "output_type": "stream",
          "name": "stderr",
          "text": [
            "Exception ignored in: <function _xla_gc_callback at 0x7effd6dc32e0>\n",
            "Traceback (most recent call last):\n",
            "  File \"/usr/local/lib/python3.10/dist-packages/jax/_src/lib/__init__.py\", line 103, in _xla_gc_callback\n",
            "    def _xla_gc_callback(*args):\n",
            "KeyboardInterrupt: \n"
          ]
        },
        {
          "output_type": "stream",
          "name": "stdout",
          "text": [
            "Shape after passing inputs through base model: (None, 7, 7, 1280)\n",
            "Shape after GlobalAveragePooling2D : (None, 1280)\n",
            "Epoch 1/5\n"
          ]
        },
        {
          "output_type": "error",
          "ename": "KeyboardInterrupt",
          "evalue": "ignored",
          "traceback": [
            "\u001b[0;31m---------------------------------------------------------------------------\u001b[0m",
            "\u001b[0;31mKeyboardInterrupt\u001b[0m                         Traceback (most recent call last)",
            "\u001b[0;32m<ipython-input-23-c75209490d51>\u001b[0m in \u001b[0;36m<cell line: 35>\u001b[0;34m()\u001b[0m\n\u001b[1;32m     33\u001b[0m \u001b[0;31m# 10. Fit the model\u001b[0m\u001b[0;34m\u001b[0m\u001b[0;34m\u001b[0m\u001b[0m\n\u001b[1;32m     34\u001b[0m \u001b[0;34m\u001b[0m\u001b[0m\n\u001b[0;32m---> 35\u001b[0;31m \u001b[0mhist_0\u001b[0m \u001b[0;34m=\u001b[0m \u001b[0mmodel_0\u001b[0m\u001b[0;34m.\u001b[0m\u001b[0mfit\u001b[0m\u001b[0;34m(\u001b[0m \u001b[0mtrain_data\u001b[0m \u001b[0;34m,\u001b[0m \u001b[0mepochs\u001b[0m \u001b[0;34m=\u001b[0m \u001b[0;36m5\u001b[0m \u001b[0;34m,\u001b[0m \u001b[0msteps_per_epoch\u001b[0m \u001b[0;34m=\u001b[0m \u001b[0mlen\u001b[0m\u001b[0;34m(\u001b[0m\u001b[0mtrain_data\u001b[0m\u001b[0;34m)\u001b[0m \u001b[0;34m,\u001b[0m \u001b[0mvalidation_data\u001b[0m \u001b[0;34m=\u001b[0m \u001b[0mtest_data\u001b[0m \u001b[0;34m,\u001b[0m \u001b[0mvalidation_steps\u001b[0m \u001b[0;34m=\u001b[0m \u001b[0mint\u001b[0m\u001b[0;34m(\u001b[0m \u001b[0;36m0.25\u001b[0m \u001b[0;34m*\u001b[0m \u001b[0mlen\u001b[0m\u001b[0;34m(\u001b[0m\u001b[0mtest_data\u001b[0m\u001b[0;34m)\u001b[0m\u001b[0;34m)\u001b[0m\u001b[0;34m)\u001b[0m \u001b[0;31m# test datanın %25 ini alıyoruz\u001b[0m\u001b[0;34m\u001b[0m\u001b[0;34m\u001b[0m\u001b[0m\n\u001b[0m",
            "\u001b[0;32m/usr/local/lib/python3.10/dist-packages/keras/utils/traceback_utils.py\u001b[0m in \u001b[0;36merror_handler\u001b[0;34m(*args, **kwargs)\u001b[0m\n\u001b[1;32m     63\u001b[0m         \u001b[0mfiltered_tb\u001b[0m \u001b[0;34m=\u001b[0m \u001b[0;32mNone\u001b[0m\u001b[0;34m\u001b[0m\u001b[0;34m\u001b[0m\u001b[0m\n\u001b[1;32m     64\u001b[0m         \u001b[0;32mtry\u001b[0m\u001b[0;34m:\u001b[0m\u001b[0;34m\u001b[0m\u001b[0;34m\u001b[0m\u001b[0m\n\u001b[0;32m---> 65\u001b[0;31m             \u001b[0;32mreturn\u001b[0m \u001b[0mfn\u001b[0m\u001b[0;34m(\u001b[0m\u001b[0;34m*\u001b[0m\u001b[0margs\u001b[0m\u001b[0;34m,\u001b[0m \u001b[0;34m**\u001b[0m\u001b[0mkwargs\u001b[0m\u001b[0;34m)\u001b[0m\u001b[0;34m\u001b[0m\u001b[0;34m\u001b[0m\u001b[0m\n\u001b[0m\u001b[1;32m     66\u001b[0m         \u001b[0;32mexcept\u001b[0m \u001b[0mException\u001b[0m \u001b[0;32mas\u001b[0m \u001b[0me\u001b[0m\u001b[0;34m:\u001b[0m\u001b[0;34m\u001b[0m\u001b[0;34m\u001b[0m\u001b[0m\n\u001b[1;32m     67\u001b[0m             \u001b[0mfiltered_tb\u001b[0m \u001b[0;34m=\u001b[0m \u001b[0m_process_traceback_frames\u001b[0m\u001b[0;34m(\u001b[0m\u001b[0me\u001b[0m\u001b[0;34m.\u001b[0m\u001b[0m__traceback__\u001b[0m\u001b[0;34m)\u001b[0m\u001b[0;34m\u001b[0m\u001b[0;34m\u001b[0m\u001b[0m\n",
            "\u001b[0;32m/usr/local/lib/python3.10/dist-packages/keras/engine/training.py\u001b[0m in \u001b[0;36mfit\u001b[0;34m(self, x, y, batch_size, epochs, verbose, callbacks, validation_split, validation_data, shuffle, class_weight, sample_weight, initial_epoch, steps_per_epoch, validation_steps, validation_batch_size, validation_freq, max_queue_size, workers, use_multiprocessing)\u001b[0m\n\u001b[1;32m   1683\u001b[0m                         ):\n\u001b[1;32m   1684\u001b[0m                             \u001b[0mcallbacks\u001b[0m\u001b[0;34m.\u001b[0m\u001b[0mon_train_batch_begin\u001b[0m\u001b[0;34m(\u001b[0m\u001b[0mstep\u001b[0m\u001b[0;34m)\u001b[0m\u001b[0;34m\u001b[0m\u001b[0;34m\u001b[0m\u001b[0m\n\u001b[0;32m-> 1685\u001b[0;31m                             \u001b[0mtmp_logs\u001b[0m \u001b[0;34m=\u001b[0m \u001b[0mself\u001b[0m\u001b[0;34m.\u001b[0m\u001b[0mtrain_function\u001b[0m\u001b[0;34m(\u001b[0m\u001b[0miterator\u001b[0m\u001b[0;34m)\u001b[0m\u001b[0;34m\u001b[0m\u001b[0;34m\u001b[0m\u001b[0m\n\u001b[0m\u001b[1;32m   1686\u001b[0m                             \u001b[0;32mif\u001b[0m \u001b[0mdata_handler\u001b[0m\u001b[0;34m.\u001b[0m\u001b[0mshould_sync\u001b[0m\u001b[0;34m:\u001b[0m\u001b[0;34m\u001b[0m\u001b[0;34m\u001b[0m\u001b[0m\n\u001b[1;32m   1687\u001b[0m                                 \u001b[0mcontext\u001b[0m\u001b[0;34m.\u001b[0m\u001b[0masync_wait\u001b[0m\u001b[0;34m(\u001b[0m\u001b[0;34m)\u001b[0m\u001b[0;34m\u001b[0m\u001b[0;34m\u001b[0m\u001b[0m\n",
            "\u001b[0;32m/usr/local/lib/python3.10/dist-packages/tensorflow/python/util/traceback_utils.py\u001b[0m in \u001b[0;36merror_handler\u001b[0;34m(*args, **kwargs)\u001b[0m\n\u001b[1;32m    148\u001b[0m     \u001b[0mfiltered_tb\u001b[0m \u001b[0;34m=\u001b[0m \u001b[0;32mNone\u001b[0m\u001b[0;34m\u001b[0m\u001b[0;34m\u001b[0m\u001b[0m\n\u001b[1;32m    149\u001b[0m     \u001b[0;32mtry\u001b[0m\u001b[0;34m:\u001b[0m\u001b[0;34m\u001b[0m\u001b[0;34m\u001b[0m\u001b[0m\n\u001b[0;32m--> 150\u001b[0;31m       \u001b[0;32mreturn\u001b[0m \u001b[0mfn\u001b[0m\u001b[0;34m(\u001b[0m\u001b[0;34m*\u001b[0m\u001b[0margs\u001b[0m\u001b[0;34m,\u001b[0m \u001b[0;34m**\u001b[0m\u001b[0mkwargs\u001b[0m\u001b[0;34m)\u001b[0m\u001b[0;34m\u001b[0m\u001b[0;34m\u001b[0m\u001b[0m\n\u001b[0m\u001b[1;32m    151\u001b[0m     \u001b[0;32mexcept\u001b[0m \u001b[0mException\u001b[0m \u001b[0;32mas\u001b[0m \u001b[0me\u001b[0m\u001b[0;34m:\u001b[0m\u001b[0;34m\u001b[0m\u001b[0;34m\u001b[0m\u001b[0m\n\u001b[1;32m    152\u001b[0m       \u001b[0mfiltered_tb\u001b[0m \u001b[0;34m=\u001b[0m \u001b[0m_process_traceback_frames\u001b[0m\u001b[0;34m(\u001b[0m\u001b[0me\u001b[0m\u001b[0;34m.\u001b[0m\u001b[0m__traceback__\u001b[0m\u001b[0;34m)\u001b[0m\u001b[0;34m\u001b[0m\u001b[0;34m\u001b[0m\u001b[0m\n",
            "\u001b[0;32m/usr/local/lib/python3.10/dist-packages/tensorflow/python/eager/polymorphic_function/polymorphic_function.py\u001b[0m in \u001b[0;36m__call__\u001b[0;34m(self, *args, **kwds)\u001b[0m\n\u001b[1;32m    892\u001b[0m \u001b[0;34m\u001b[0m\u001b[0m\n\u001b[1;32m    893\u001b[0m       \u001b[0;32mwith\u001b[0m \u001b[0mOptionalXlaContext\u001b[0m\u001b[0;34m(\u001b[0m\u001b[0mself\u001b[0m\u001b[0;34m.\u001b[0m\u001b[0m_jit_compile\u001b[0m\u001b[0;34m)\u001b[0m\u001b[0;34m:\u001b[0m\u001b[0;34m\u001b[0m\u001b[0;34m\u001b[0m\u001b[0m\n\u001b[0;32m--> 894\u001b[0;31m         \u001b[0mresult\u001b[0m \u001b[0;34m=\u001b[0m \u001b[0mself\u001b[0m\u001b[0;34m.\u001b[0m\u001b[0m_call\u001b[0m\u001b[0;34m(\u001b[0m\u001b[0;34m*\u001b[0m\u001b[0margs\u001b[0m\u001b[0;34m,\u001b[0m \u001b[0;34m**\u001b[0m\u001b[0mkwds\u001b[0m\u001b[0;34m)\u001b[0m\u001b[0;34m\u001b[0m\u001b[0;34m\u001b[0m\u001b[0m\n\u001b[0m\u001b[1;32m    895\u001b[0m \u001b[0;34m\u001b[0m\u001b[0m\n\u001b[1;32m    896\u001b[0m       \u001b[0mnew_tracing_count\u001b[0m \u001b[0;34m=\u001b[0m \u001b[0mself\u001b[0m\u001b[0;34m.\u001b[0m\u001b[0mexperimental_get_tracing_count\u001b[0m\u001b[0;34m(\u001b[0m\u001b[0;34m)\u001b[0m\u001b[0;34m\u001b[0m\u001b[0;34m\u001b[0m\u001b[0m\n",
            "\u001b[0;32m/usr/local/lib/python3.10/dist-packages/tensorflow/python/eager/polymorphic_function/polymorphic_function.py\u001b[0m in \u001b[0;36m_call\u001b[0;34m(self, *args, **kwds)\u001b[0m\n\u001b[1;32m    957\u001b[0m         \u001b[0;31m# Lifting succeeded, so variables are initialized and we can run the\u001b[0m\u001b[0;34m\u001b[0m\u001b[0;34m\u001b[0m\u001b[0m\n\u001b[1;32m    958\u001b[0m         \u001b[0;31m# no_variable_creation function.\u001b[0m\u001b[0;34m\u001b[0m\u001b[0;34m\u001b[0m\u001b[0m\n\u001b[0;32m--> 959\u001b[0;31m         \u001b[0;32mreturn\u001b[0m \u001b[0mself\u001b[0m\u001b[0;34m.\u001b[0m\u001b[0m_no_variable_creation_fn\u001b[0m\u001b[0;34m(\u001b[0m\u001b[0;34m*\u001b[0m\u001b[0margs\u001b[0m\u001b[0;34m,\u001b[0m \u001b[0;34m**\u001b[0m\u001b[0mkwds\u001b[0m\u001b[0;34m)\u001b[0m\u001b[0;34m\u001b[0m\u001b[0;34m\u001b[0m\u001b[0m\n\u001b[0m\u001b[1;32m    960\u001b[0m     \u001b[0;32melse\u001b[0m\u001b[0;34m:\u001b[0m\u001b[0;34m\u001b[0m\u001b[0;34m\u001b[0m\u001b[0m\n\u001b[1;32m    961\u001b[0m       _, _, filtered_flat_args = (\n",
            "\u001b[0;32m/usr/local/lib/python3.10/dist-packages/tensorflow/python/eager/polymorphic_function/tracing_compiler.py\u001b[0m in \u001b[0;36m__call__\u001b[0;34m(self, *args, **kwargs)\u001b[0m\n\u001b[1;32m    141\u001b[0m       (concrete_function,\n\u001b[1;32m    142\u001b[0m        filtered_flat_args) = self._maybe_define_function(args, kwargs)\n\u001b[0;32m--> 143\u001b[0;31m     return concrete_function._call_flat(\n\u001b[0m\u001b[1;32m    144\u001b[0m         filtered_flat_args, captured_inputs=concrete_function.captured_inputs)  # pylint: disable=protected-access\n\u001b[1;32m    145\u001b[0m \u001b[0;34m\u001b[0m\u001b[0m\n",
            "\u001b[0;32m/usr/local/lib/python3.10/dist-packages/tensorflow/python/eager/polymorphic_function/monomorphic_function.py\u001b[0m in \u001b[0;36m_call_flat\u001b[0;34m(self, args, captured_inputs, cancellation_manager)\u001b[0m\n\u001b[1;32m   1755\u001b[0m         and executing_eagerly):\n\u001b[1;32m   1756\u001b[0m       \u001b[0;31m# No tape is watching; skip to running the function.\u001b[0m\u001b[0;34m\u001b[0m\u001b[0;34m\u001b[0m\u001b[0m\n\u001b[0;32m-> 1757\u001b[0;31m       return self._build_call_outputs(self._inference_function.call(\n\u001b[0m\u001b[1;32m   1758\u001b[0m           ctx, args, cancellation_manager=cancellation_manager))\n\u001b[1;32m   1759\u001b[0m     forward_backward = self._select_forward_and_backward_functions(\n",
            "\u001b[0;32m/usr/local/lib/python3.10/dist-packages/tensorflow/python/eager/polymorphic_function/monomorphic_function.py\u001b[0m in \u001b[0;36mcall\u001b[0;34m(self, ctx, args, cancellation_manager)\u001b[0m\n\u001b[1;32m    379\u001b[0m       \u001b[0;32mwith\u001b[0m \u001b[0m_InterpolateFunctionError\u001b[0m\u001b[0;34m(\u001b[0m\u001b[0mself\u001b[0m\u001b[0;34m)\u001b[0m\u001b[0;34m:\u001b[0m\u001b[0;34m\u001b[0m\u001b[0;34m\u001b[0m\u001b[0m\n\u001b[1;32m    380\u001b[0m         \u001b[0;32mif\u001b[0m \u001b[0mcancellation_manager\u001b[0m \u001b[0;32mis\u001b[0m \u001b[0;32mNone\u001b[0m\u001b[0;34m:\u001b[0m\u001b[0;34m\u001b[0m\u001b[0;34m\u001b[0m\u001b[0m\n\u001b[0;32m--> 381\u001b[0;31m           outputs = execute.execute(\n\u001b[0m\u001b[1;32m    382\u001b[0m               \u001b[0mstr\u001b[0m\u001b[0;34m(\u001b[0m\u001b[0mself\u001b[0m\u001b[0;34m.\u001b[0m\u001b[0msignature\u001b[0m\u001b[0;34m.\u001b[0m\u001b[0mname\u001b[0m\u001b[0;34m)\u001b[0m\u001b[0;34m,\u001b[0m\u001b[0;34m\u001b[0m\u001b[0;34m\u001b[0m\u001b[0m\n\u001b[1;32m    383\u001b[0m               \u001b[0mnum_outputs\u001b[0m\u001b[0;34m=\u001b[0m\u001b[0mself\u001b[0m\u001b[0;34m.\u001b[0m\u001b[0m_num_outputs\u001b[0m\u001b[0;34m,\u001b[0m\u001b[0;34m\u001b[0m\u001b[0;34m\u001b[0m\u001b[0m\n",
            "\u001b[0;32m/usr/local/lib/python3.10/dist-packages/tensorflow/python/eager/execute.py\u001b[0m in \u001b[0;36mquick_execute\u001b[0;34m(op_name, num_outputs, inputs, attrs, ctx, name)\u001b[0m\n\u001b[1;32m     50\u001b[0m   \u001b[0;32mtry\u001b[0m\u001b[0;34m:\u001b[0m\u001b[0;34m\u001b[0m\u001b[0;34m\u001b[0m\u001b[0m\n\u001b[1;32m     51\u001b[0m     \u001b[0mctx\u001b[0m\u001b[0;34m.\u001b[0m\u001b[0mensure_initialized\u001b[0m\u001b[0;34m(\u001b[0m\u001b[0;34m)\u001b[0m\u001b[0;34m\u001b[0m\u001b[0;34m\u001b[0m\u001b[0m\n\u001b[0;32m---> 52\u001b[0;31m     tensors = pywrap_tfe.TFE_Py_Execute(ctx._handle, device_name, op_name,\n\u001b[0m\u001b[1;32m     53\u001b[0m                                         inputs, attrs, num_outputs)\n\u001b[1;32m     54\u001b[0m   \u001b[0;32mexcept\u001b[0m \u001b[0mcore\u001b[0m\u001b[0;34m.\u001b[0m\u001b[0m_NotOkStatusException\u001b[0m \u001b[0;32mas\u001b[0m \u001b[0me\u001b[0m\u001b[0;34m:\u001b[0m\u001b[0;34m\u001b[0m\u001b[0;34m\u001b[0m\u001b[0m\n",
            "\u001b[0;31mKeyboardInterrupt\u001b[0m: "
          ]
        }
      ]
    },
    {
      "cell_type": "code",
      "source": [
        "# Evaluate on the full test dataset\n",
        "model_0.evaluate(test_data)"
      ],
      "metadata": {
        "id": "cyf2fXN3gD82"
      },
      "execution_count": null,
      "outputs": []
    },
    {
      "cell_type": "code",
      "source": [
        "# Check the layers our base model\n",
        "for layer_number , layer in enumerate(base_model.layers):\n",
        "  print(layer_number , layer.name)"
      ],
      "metadata": {
        "id": "mLqxy3lUgIru"
      },
      "execution_count": null,
      "outputs": []
    },
    {
      "cell_type": "code",
      "source": [
        "base_model.summary()"
      ],
      "metadata": {
        "id": "W6T_rz9yhVqT"
      },
      "execution_count": null,
      "outputs": []
    },
    {
      "cell_type": "code",
      "source": [
        "model_0.summary()"
      ],
      "metadata": {
        "id": "azN4qAuUhXtm"
      },
      "execution_count": null,
      "outputs": []
    },
    {
      "cell_type": "code",
      "source": [
        "plot_loss_curves(hist_0)"
      ],
      "metadata": {
        "id": "8bgo0Shdhxeo"
      },
      "execution_count": null,
      "outputs": []
    },
    {
      "cell_type": "markdown",
      "source": [
        "# Getting a feature vector from a trained model   ( (None , 1280) aslında bu bizim feature vectorumuz. None kısmı batch size )\n",
        "\n",
        "Lets get the global average pooling 2d layer\n",
        "\n",
        "We have a tensor after our model goes through 'base_model' of shape (None , 7 , 7 , 1280).\n",
        "\n",
        "But then , when it passes through GlobalAveragePooling2D , it turns into (None , 1280).\n",
        "\n",
        "Lets use a similar shaped tensor of (1 , 4 , 4 , 3) and then pass it to GlobalAveragePooling2D"
      ],
      "metadata": {
        "id": "W6mG0yy0isS7"
      }
    },
    {
      "cell_type": "code",
      "source": [],
      "metadata": {
        "id": "TDCk4ft3i84M"
      },
      "execution_count": null,
      "outputs": []
    }
  ]
}